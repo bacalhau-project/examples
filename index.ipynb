{
  "cells": [
    {
      "cell_type": "raw",
      "metadata": {
        "tags": [
          "skip-execution"
        ]
      },
      "source": [
        "---\n",
        "sidebar_label: \"Examples\"\n",
        "sidebar_position: 20\n",
        "---"
      ]
    },
    {
      "cell_type": "markdown",
      "metadata": {
        "tags": [
          "skip-execution"
        ]
      },
      "source": [
        "# Examples\n",
        "\n",
        "Bacalhau comes pre-loaded with exciting examples to showcase its abilities and help get you started.\n",
        "\n",
        ":::tip\n",
        "\n",
        "Use the navigation bar on the left to browse through the examples. You can also view the raw codebase by visiting our [examples repository](https://github.com/bacalhau-project/examples).\n",
        "\n",
        ":::\n",
        "\n",
        "## Organisation\n",
        "\n",
        "Examples are organised by task. Each task has a number of examples that showcase different ways to solve the same problem.\n",
        "\n",
        ":::tip\n",
        "\n",
        "We're adding examples all the time. Check back soon for more!\n",
        "\n",
        ":::\n",
        "\n",
        "## Usage\n",
        "\n",
        "Each example is a self-contained Jupyter notebook that can be run locally or on your favourite jupyter host.\n",
        "\n",
        "Data is typically stored externally in GCS (for remote data examples) or IPFS (for local data examples).\n",
        "\n",
        "The examples execute on the Bacalhau public network (a.k.a. `mainnet`)."
      ]
    }
  ],
  "metadata": {
    "kernelspec": {
      "display_name": "Python 3.9.7 64-bit ('3.9.7')",
      "language": "python",
      "name": "python3"
    },
    "language_info": {
      "name": "python",
      "version": "3.9.7"
    },
    "orig_nbformat": 4,
    "vscode": {
      "interpreter": {
        "hash": "21fd917facdca5c02b7d24e32528f1b4e6711465b0262edbfffba943391e1222"
      }
    }
  },
  "nbformat": 4,
  "nbformat_minor": 2
}
