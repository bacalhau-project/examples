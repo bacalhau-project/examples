{
 "cells": [
  {
   "cell_type": "raw",
   "id": "01214209-a92c-4b07-a7ae-1acd7d871c47",
   "metadata": {},
   "source": [
    "---\n",
    "sidebar_label: \"Model Training\"\n",
    "sidebar_position: 30\n",
    "---"
   ]
  },
  {
   "cell_type": "markdown",
   "id": "de30faba-32df-4b3f-8553-d29a826620ca",
   "metadata": {},
   "source": [
    "# Model Training\n",
    "\n",
    "This directory contains examples relating to model training workloads."
   ]
  }
 ],
 "metadata": {
  "kernelspec": {
   "display_name": "Python 3.10.6 64-bit",
   "language": "python",
   "name": "python3"
  },
  "language_info": {
   "name": "python",
   "version": "3.10.6"
  },
  "vscode": {
   "interpreter": {
    "hash": "916dbcbb3f70747c44a77c7bcd40155683ae19c65e1c03b4aa3499c5328201f1"
   }
  }
 },
 "nbformat": 4,
 "nbformat_minor": 5
}
