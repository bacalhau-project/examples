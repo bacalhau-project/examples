{
 "cells": [
  {
   "attachments": {},
   "cell_type": "markdown",
   "metadata": {},
   "source": [
    "## Running Locally"
   ]
  },
  {
   "attachments": {},
   "cell_type": "markdown",
   "metadata": {},
   "source": [
    "### Installing deps"
   ]
  },
  {
   "cell_type": "code",
   "execution_count": null,
   "metadata": {},
   "outputs": [],
   "source": [
    "!pip install torch torchvision numpy matplotlib\n",
    "!pip install -U git+https://github.com/luca-medeiros/lang-segment-anything.git"
   ]
  },
  {
   "attachments": {},
   "cell_type": "markdown",
   "metadata": {},
   "source": [
    "### downloading sample image"
   ]
  },
  {
   "cell_type": "code",
   "execution_count": null,
   "metadata": {},
   "outputs": [],
   "source": [
    "!wget https://raw.githubusercontent.com/luca-medeiros/lang-segment-anything/main/assets/car.jpeg"
   ]
  },
  {
   "cell_type": "code",
   "execution_count": null,
   "metadata": {},
   "outputs": [],
   "source": [
    "from PIL import Image\n",
    "import numpy as np\n",
    "from lang_sam import LangSAM\n",
    "from lang_sam.utils import draw_image\n",
    "import matplotlib.pyplot as plt\n",
    "\n",
    "# Initialize model\n",
    "model = LangSAM()\n",
    "\n",
    "# Open and convert image\n",
    "image_pil = Image.open('/car.jpeg').convert(\"RGB\")\n",
    "image_np = np.array(image_pil)\n",
    "\n",
    "# Text prompt\n",
    "text_prompt = 'car'\n",
    "\n",
    "# Predict\n",
    "masks, boxes, labels, logits = model.predict(image_pil, text_prompt)\n",
    "\n",
    "# Draw image\n",
    "image = draw_image(image_np, masks, boxes, labels)\n",
    "\n",
    "# Plot and save image\n",
    "plt.imshow(image)\n",
    "plt.axis('off')  # to hide axes\n",
    "plt.savefig('car-segmented.jpg', bbox_inches='tight', pad_inches=0)\n",
    "plt.close()"
   ]
  },
  {
   "attachments": {},
   "cell_type": "markdown",
   "metadata": {},
   "source": [
    "### Downloading sample images"
   ]
  },
  {
   "cell_type": "code",
   "execution_count": null,
   "metadata": {
    "vscode": {
     "languageId": "shellscript"
    }
   },
   "outputs": [],
   "source": [
    "%%bash\n",
    "mkdir assets\n",
    "wget https://raw.githubusercontent.com/luca-medeiros/lang-segment-anything/main/assets/car.jpeg\n",
    "wget https://cdn.pixabay.com/photo/2020/06/04/22/43/range-rover-5260745_1280.jpg\n",
    "wget https://www.financialexpress.com/wp-content/uploads/2020/10/2020-Mercedes-Benz-EQC-Electric-SUV-Launched-Live-Updates-5.jpg\n",
    "wget https://upload.wikimedia.org/wikipedia/commons/f/f5/Melbourne_Tram_E-Class_6007.jpg\n",
    "wget https://upload.wikimedia.org/wikipedia/commons/9/9a/Soyuz_TMA-9_launch.jpg\n",
    "mv *.jpg *.jpeg ./assets"
   ]
  },
  {
   "attachments": {},
   "cell_type": "markdown",
   "metadata": {},
   "source": [
    "### Modifying the script for a folder"
   ]
  },
  {
   "cell_type": "code",
   "execution_count": null,
   "metadata": {},
   "outputs": [],
   "source": [
    "%timeit\n",
    "from PIL import Image\n",
    "import numpy as np\n",
    "import os\n",
    "from lang_sam import LangSAM\n",
    "from lang_sam.utils import draw_image\n",
    "import matplotlib.pyplot as plt\n",
    "\n",
    "# Initialize model\n",
    "model = LangSAM()\n",
    "\n",
    "# Directory containing images\n",
    "directory = './assets'\n",
    "\n",
    "# Output directory\n",
    "output_directory = './outputs'\n",
    "\n",
    "# Create output directory if it doesn't exist\n",
    "if not os.path.exists(output_directory):\n",
    "    os.makedirs(output_directory)\n",
    "\n",
    "# Text prompt to match\n",
    "text_prompt = 'wheels'\n",
    "\n",
    "# List all files in directory\n",
    "for filename in os.listdir(directory):\n",
    "    # Check if file is an image\n",
    "    if filename.endswith(\".jpg\") or filename.endswith(\".jpeg\") or filename.endswith(\".png\"):\n",
    "        # Open image\n",
    "        image_pil = Image.open(os.path.join(directory, filename)).convert(\"RGB\")\n",
    "        image_np = np.array(image_pil)\n",
    "\n",
    "        # Predict\n",
    "        masks, boxes, labels, logits = model.predict(image_pil, text_prompt)\n",
    "\n",
    "        # If the prompt matches labels in the image\n",
    "        if text_prompt in labels:\n",
    "            # Draw image\n",
    "            image = draw_image(image_np, masks, boxes, labels)\n",
    "\n",
    "            # Save image\n",
    "            plt.imshow(image)\n",
    "            plt.axis('off')  # to hide axes\n",
    "            plt.savefig(os.path.join(output_directory, filename), bbox_inches='tight', pad_inches=0)\n",
    "            plt.close()\n",
    "        else:\n",
    "            print(f\"No '{text_prompt}' found in {filename}\")\n",
    "\n",
    "    else:\n",
    "        print(f\"{filename} is not an image file\")\n"
   ]
  },
  {
   "attachments": {},
   "cell_type": "markdown",
   "metadata": {},
   "source": [
    "### Building the container\n",
    "\n",
    "#### Requirements\n",
    "- NVIDIA GPU\n",
    "- NVIDIA Container runtime"
   ]
  },
  {
   "cell_type": "code",
   "execution_count": null,
   "metadata": {},
   "outputs": [],
   "source": [
    "!docker build -t expanso/sam:new ."
   ]
  },
  {
   "attachments": {},
   "cell_type": "markdown",
   "metadata": {},
   "source": [
    "#### Pushing to dockerhub"
   ]
  },
  {
   "cell_type": "code",
   "execution_count": null,
   "metadata": {},
   "outputs": [],
   "source": [
    "!docker push  expanso/sam:new"
   ]
  },
  {
   "attachments": {},
   "cell_type": "markdown",
   "metadata": {},
   "source": [
    "### Running the job on bacalhau"
   ]
  },
  {
   "cell_type": "code",
   "execution_count": null,
   "metadata": {
    "vscode": {
     "languageId": "shellscript"
    }
   },
   "outputs": [],
   "source": [
    "%%bash\n",
    "bacalhau docker run \\\n",
    "--gpu 1 \\\n",
    "-i src=s3://sam-coco/micro/*,opt=region=eu-north-1 \\\n",
    "expanso/sam:new \n",
    "-- /bin/bash -c 'python /sam.py --input \"/inputs\" --output \"/outputs\" --prompt \"person\"'"
   ]
  }
 ],
 "metadata": {
  "language_info": {
   "name": "python"
  },
  "orig_nbformat": 4
 },
 "nbformat": 4,
 "nbformat_minor": 2
}
