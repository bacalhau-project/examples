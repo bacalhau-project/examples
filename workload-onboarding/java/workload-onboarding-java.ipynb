{
 "cells": [
  {
   "cell_type": "markdown",
   "metadata": {},
   "source": [
    "# Onboarding a Java Workload\n",
    "\n",
    "This is an example."
   ]
  }
 ],
 "metadata": {
  "language_info": {
   "name": "python"
  },
  "orig_nbformat": 4
 },
 "nbformat": 4,
 "nbformat_minor": 2
}
