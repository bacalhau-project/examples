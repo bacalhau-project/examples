{
 "cells": [
  {
   "cell_type": "markdown",
   "metadata": {},
   "source": [
    "# Workload Onboarding\n",
    "\n",
    "This directory contains examples relating to onboarding workloads to the cluster. The goal is to provide a range of simple examples that show you how to work with Bacalhau in a variety of programming languages."
   ]
  }
 ],
 "metadata": {
  "language_info": {
   "name": "python"
  },
  "orig_nbformat": 4
 },
 "nbformat": 4,
 "nbformat_minor": 2
}
