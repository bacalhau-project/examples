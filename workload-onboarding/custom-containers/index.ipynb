{
  "cells": [
    {
      "cell_type": "raw",
      "metadata": {
        "tags": []
      },
      "source": [
        "---\n",
        "sidebar_label: \"Custom Containers\"\n",
        "sidebar_position: 10\n",
        "---"
      ]
    },
    {
      "cell_type": "markdown",
      "metadata": {
        "tags": []
      },
      "source": [
        "# How To Work With Custom Containers in Bacalhau\n",
        "\n",
        "[![Open In Colab](https://colab.research.google.com/assets/colab-badge.svg)](https://colab.research.google.com/github/bacalhau-project/examples/blob/main/workload-onboarding/custom-containers/index.ipynb)\n",
        "[![Open In Binder](https://mybinder.org/badge.svg)](https://mybinder.org/v2/gh/bacalhau-project/examples/HEAD?labpath=workload-onboarding/custom-containers/index.ipynb)\n",
        "\n",
        "Bacalhau operates by executing jobs within containers. This example shows you how to build and use a custom docker container.\n",
        "\n",
        "### Prerequisites\n",
        "\n",
        "* This example requires Docker. If you don't have Docker installed, you can install it from [here](https://docs.docker.com/install/). Docker commands will not work on hosted notebooks like Google Colab, but the Bacalhau commands will.\n",
        "* The Bacalhau client - [Installation instructions](https://docs.bacalhau.org/getting-started/installation)"
      ]
    },
    {
      "cell_type": "code",
      "execution_count": null,
      "metadata": {
        "tags": [
          "remove_cell"
        ]
      },
      "outputs": [],
      "source": [
        "!command -v bacalhau >/dev/null 2>&1 || (export BACALHAU_INSTALL_DIR=.; curl -sL https://get.bacalhau.org/install.sh | bash)\n",
        "path=!echo $PATH\n",
        "%env PATH=./:{path[0]}"
      ]
    },
    {
      "cell_type": "markdown",
      "metadata": {
        "tags": []
      },
      "source": [
        "## 1. Running Containers in Bacalhau\n",
        "\n",
        "You're probably used to running docker commands to run a container."
      ]
    },
    {
      "cell_type": "code",
      "execution_count": 2,
      "metadata": {
        "tags": [
          "skip-execution"
        ]
      },
      "outputs": [
        {
          "name": "stdout",
          "output_type": "stream",
          "text": [
            " _________________________________ \n",
            "< sup old fashioned container run >\n",
            " --------------------------------- \n",
            "    \\\n",
            "     \\\n",
            "      \\     \n",
            "                    ##        .            \n",
            "              ## ## ##       ==            \n",
            "           ## ## ## ##      ===            \n",
            "       /\"\"\"\"\"\"\"\"\"\"\"\"\"\"\"\"___/ ===        \n",
            "  ~~~ {~~ ~~~~ ~~~ ~~~~ ~~ ~ /  ===- ~~~   \n",
            "       \\______ o          __/            \n",
            "        \\    \\        __/             \n",
            "          \\____\\______/   \n"
          ]
        },
        {
          "name": "stderr",
          "output_type": "stream",
          "text": [
            "WARNING: The requested image's platform (linux/amd64) does not match the detected host platform (linux/arm64/v8) and no specific platform was requested\n"
          ]
        }
      ],
      "source": [
        "%%bash\n",
        "docker run docker/whalesay cowsay sup old fashioned container run"
      ]
    },
    {
      "cell_type": "markdown",
      "metadata": {
        "tags": []
      },
      "source": [
        "Bacalhau uses a syntax that is similar to docker and you can use the same containers. The main difference is that input and output data is passed to the container via IPFS, to enable planetary scale. In this example, it doesn't make too much difference except that we need to download the stdout.\n",
        "\n",
        "The `--wait` flag tells Bacalhau to wait for the job to finish before returning. This is useful in interactive sessions like this, but you would normally allow jobs to complete in the background and use the `list` command to check on their status.\n",
        "\n",
        "Another difference is that by default Bacalhau overwrites the default entrypoint for the container so you have to pass all shell commands as arguments to the `run` command after the `--` flag."
      ]
    },
    {
      "cell_type": "code",
      "execution_count": 4,
      "metadata": {
        "tags": []
      },
      "outputs": [],
      "source": [
        "%%bash --out job_id\n",
        "bacalhau docker run --wait --id-only docker/whalesay -- bash -c 'cowsay hello web3 uber-run'"
      ]
    },
    {
      "cell_type": "code",
      "execution_count": 5,
      "metadata": {
        "tags": [
          "remove_cell"
        ]
      },
      "outputs": [
        {
          "name": "stdout",
          "output_type": "stream",
          "text": [
            "env: JOB_ID=1fd678f4-edb5-4516-91b7-2fcd7965ff63\n"
          ]
        }
      ],
      "source": [
        "%env JOB_ID={job_id}"
      ]
    },
    {
      "cell_type": "code",
      "execution_count": 6,
      "metadata": {
        "id": "Y06KRWLDIitN",
        "tags": []
      },
      "outputs": [],
      "source": [
        "%%bash\n",
        "rm -rf results && mkdir -p results"
      ]
    },
    {
      "cell_type": "markdown",
      "metadata": {
        "id": "3N_XsPABIncF",
        "tags": []
      },
      "source": [
        "To Download the results of your job, run the following command:"
      ]
    },
    {
      "cell_type": "code",
      "execution_count": 7,
      "metadata": {
        "colab": {
          "base_uri": "https://localhost:8080/"
        },
        "executionInfo": {
          "elapsed": 16481,
          "status": "ok",
          "timestamp": 1663262062088,
          "user": {
            "displayName": "Vedant Padwal",
            "userId": "05534807475078682627"
          },
          "user_tz": -330
        },
        "id": "iHl4-fa3H-Yt",
        "outputId": "fcfdd0e0-ad3d-4afa-b771-dea1c4b3841c",
        "tags": []
      },
      "outputs": [
        {
          "name": "stdout",
          "output_type": "stream",
          "text": [
            "Fetching results of job '1fd678f4-edb5-4516-91b7-2fcd7965ff63'...\n",
            "Results for job '1fd678f4-edb5-4516-91b7-2fcd7965ff63' have been written to...\n",
            "results\n"
          ]
        },
        {
          "name": "stderr",
          "output_type": "stream",
          "text": [
            "2022/11/23 14:13:09 CleanupManager.fnsMutex violation CRITICAL section took 20.239ms 20239000 (threshold 10ms)\n"
          ]
        }
      ],
      "source": [
        "%%bash\n",
        "bacalhau get ${JOB_ID}  --output-dir results"
      ]
    },
    {
      "cell_type": "code",
      "execution_count": 8,
      "metadata": {
        "tags": []
      },
      "outputs": [
        {
          "name": "stdout",
          "output_type": "stream",
          "text": [
            " _____________________ \n",
            "< hello web3 uber-run >\n",
            " --------------------- \n",
            "    \\\n",
            "     \\\n",
            "      \\     \n",
            "                    ##        .            \n",
            "              ## ## ##       ==            \n",
            "           ## ## ## ##      ===            \n",
            "       /\"\"\"\"\"\"\"\"\"\"\"\"\"\"\"\"___/ ===        \n",
            "  ~~~ {~~ ~~~~ ~~~ ~~~~ ~~ ~ /  ===- ~~~   \n",
            "       \\______ o          __/            \n",
            "        \\    \\        __/             \n",
            "          \\____\\______/   \n"
          ]
        }
      ],
      "source": [
        "%%bash\n",
        "cat ./results/combined_results/stdout"
      ]
    },
    {
      "cell_type": "markdown",
      "metadata": {
        "tags": []
      },
      "source": [
        "## 2. Building Your Own Custom Container For Bacalhau\n",
        "\n",
        "To use your own custom container, you must publish the container to a container registry that is accessible from the Bacalhau network. At this time, only public container registries are supported.\n",
        "\n",
        "To demonstrate this, you will develop and build a simple custom container that comes from an old docker example. I remember seeing cowsay at a Docker conference about a decade ago. I think it's about time we brought it back to life and distribute it across the Bacalhau network."
      ]
    },
    {
      "cell_type": "code",
      "execution_count": 6,
      "metadata": {
        "tags": []
      },
      "outputs": [
        {
          "name": "stdout",
          "output_type": "stream",
          "text": [
            "Overwriting cod.cow\n"
          ]
        }
      ],
      "source": [
        "%%writefile cod.cow\n",
        "$the_cow = <<\"EOC\";\n",
        "   $thoughts\n",
        "    $thoughts\n",
        "                               ,,,,_\n",
        "                            ┌Φ▓╬▓╬▓▓▓W      @▓▓▒,\n",
        "                           ╠▓╬▓╬╣╬╬▓╬▓▓   ╔╣╬╬▓╬╣▓,\n",
        "                    __,┌╓═╠╬╠╬╬╬Ñ╬╬╬Ñ╬╬¼,╣╬╬▓╬╬▓╬▓▓▓┐        ╔W_             ,φ▓▓\n",
        "               ,«@▒╠╠╠╠╩╚╙╙╩Ü╚╚╚╚╩╙╙╚╠╩╚╚╟▓▒╠╠╫╣╬╬╫╬╣▓,   _φ╬▓╬╬▓,        ,φ╣▓▓╬╬\n",
        "          _,φÆ╩╬╩╙╚╩░╙╙░░╩`=░╙╚»»╦░=╓╙Ü1R░│░╚Ü░╙╙╚╠╠╠╣╣╬≡Φ╬▀╬╣╬╬▓▓▓_   ╓▄▓▓▓▓▓▓╬▌\n",
        "      _,φ╬Ñ╩▌▐█[▒░░░░R░░▀░`,_`!R`````╙`-'╚Ü░░Ü░░░░░░░│││░╚╚╙╚╩╩╩╣Ñ╩╠▒▒╩╩▀▓▓╣▓▓╬╠▌\n",
        "     '╚╩Ü╙│░░╙Ö▒Ü░░░H░░R ▒¥╣╣@@@▓▓▓  := '`   `░``````````````````````````]▓▓▓╬╬╠H\n",
        "       '¬═▄ `\\░╙Ü░╠DjK` Å»»╙╣▓▓▓▓╬Ñ     -»`       -`      `  ,;╓▄╔╗∞  ~▓▓▓▀▓▓╬╬╬▌\n",
        "             '^^^`   _╒Γ   `╙▀▓▓╨                     _, ⁿD╣▓╬╣▓╬▓╜      ╙╬▓▓╬╬▓▓\n",
        "                 ```└                           _╓▄@▓▓▓╜   `╝╬▓▓╙           ²╣╬▓▓\n",
        "                        %φ▄╓_             ~#▓╠▓▒╬▓╬▓▓^        `                ╙╙\n",
        "                         `╣▓▓▓              ╠╬▓╬▓╬▀`\n",
        "                           ╚▓▌               '╨▀╜\n",
        "EOC"
      ]
    },
    {
      "cell_type": "markdown",
      "metadata": {
        "tags": []
      },
      "source": [
        "Next, the Dockerfile adds the script and sets the entrypoint."
      ]
    },
    {
      "cell_type": "code",
      "execution_count": 7,
      "metadata": {
        "tags": []
      },
      "outputs": [
        {
          "name": "stdout",
          "output_type": "stream",
          "text": [
            "Overwriting Dockerfile\n"
          ]
        }
      ],
      "source": [
        "%%writefile Dockerfile\n",
        "FROM debian:stretch\n",
        "RUN apt-get update && apt-get install -y cowsay\n",
        "# \"cowsay\" installs to /usr/games\n",
        "ENV PATH $PATH:/usr/games\n",
        "RUN echo '#!/bin/bash\\ncowsay \"${@:1}\"' > /usr/bin/codsay && \\\n",
        "    chmod +x /usr/bin/codsay\n",
        "COPY cod.cow /usr/share/cowsay/cows/default.cow"
      ]
    },
    {
      "cell_type": "markdown",
      "metadata": {
        "tags": []
      },
      "source": [
        "Now let's build and test the container locally."
      ]
    },
    {
      "cell_type": "code",
      "execution_count": 8,
      "metadata": {
        "tags": [
          "skip-execution"
        ]
      },
      "outputs": [],
      "source": [
        "%%bash\n",
        "docker build -t ghcr.io/bacalhau-project/examples/codsay:latest . 2> /dev/null"
      ]
    },
    {
      "cell_type": "code",
      "execution_count": 9,
      "metadata": {
        "tags": [
          "skip-execution"
        ]
      },
      "outputs": [
        {
          "name": "stdout",
          "output_type": "stream",
          "text": [
            " _________________________\n",
            "< I like swimming in data >\n",
            " -------------------------\n",
            "   \\\n",
            "    \\\n",
            "                               ,,,,_\n",
            "                            ┌Φ▓╬▓╬▓▓▓W      @▓▓▒,\n",
            "                           ╠▓╬▓╬╣╬╬▓╬▓▓   ╔╣╬╬▓╬╣▓,\n",
            "                    __,┌╓═╠╬╠╬╬╬Ñ╬╬╬Ñ╬╬¼,╣╬╬▓╬╬▓╬▓▓▓┐        ╔W_             ,φ▓▓\n",
            "               ,«@▒╠╠╠╠╩╚╙╙╩Ü╚╚╚╚╩╙╙╚╠╩╚╚╟▓▒╠╠╫╣╬╬╫╬╣▓,   _φ╬▓╬╬▓,        ,φ╣▓▓╬╬\n",
            "          _,φÆ╩╬╩╙╚╩░╙╙░░╩`=░╙╚»»╦░=╓╙Ü1R░│░╚Ü░╙╙╚╠╠╠╣╣╬≡Φ╬▀╬╣╬╬▓▓▓_   ╓▄▓▓▓▓▓▓╬▌\n",
            "      _,φ╬Ñ╩▌▐█[▒░░░░R░░▀░`,_`!R`````╙`-'╚Ü░░Ü░░░░░░░│││░╚╚╙╚╩╩╩╣Ñ╩╠▒▒╩╩▀▓▓╣▓▓╬╠▌\n",
            "     '╚╩Ü╙│░░╙Ö▒Ü░░░H░░R ▒¥╣╣@@@▓▓▓  := '`   `░``````````````````````````]▓▓▓╬╬╠H\n",
            "       '¬═▄ `░╙Ü░╠DjK` Å»»╙╣▓▓▓▓╬Ñ     -»`       -`      `  ,;╓▄╔╗∞  ~▓▓▓▀▓▓╬╬╬▌\n",
            "             '^^^`   _╒Γ   `╙▀▓▓╨                     _, ⁿD╣▓╬╣▓╬▓╜      ╙╬▓▓╬╬▓▓\n",
            "                 ```└                           _╓▄@▓▓▓╜   `╝╬▓▓╙           ²╣╬▓▓\n",
            "                        %φ▄╓_             ~#▓╠▓▒╬▓╬▓▓^        `                ╙╙\n",
            "                         `╣▓▓▓              ╠╬▓╬▓╬▀`\n",
            "                           ╚▓▌               '╨▀╜\n"
          ]
        }
      ],
      "source": [
        "%%bash\n",
        "docker run --rm ghcr.io/bacalhau-project/examples/codsay:latest codsay I like swimming in data"
      ]
    },
    {
      "cell_type": "markdown",
      "metadata": {
        "tags": []
      },
      "source": [
        "Once your container is working as expected then you should push it to a public container registry. In this example, I'm pushing to Github's container registry, but we'll skip the step below because you probably don't have permission.Remember that the Bacalhau nodes expect your container to have a `linux/amd64` architecture."
      ]
    },
    {
      "cell_type": "code",
      "execution_count": 10,
      "metadata": {
        "tags": []
      },
      "outputs": [],
      "source": [
        "%%bash\n",
        "# docker buildx build --platform linux/amd64,linux/arm64 --push -t ghcr.io/bacalhau-project/examples/codsay:latest ."
      ]
    },
    {
      "cell_type": "markdown",
      "metadata": {
        "tags": []
      },
      "source": [
        "## 3. Running Your Custom Container on Bacalhau\n",
        "\n",
        "Now we're ready to submit a Bacalhau job using your custom container. This code runs a job, downloads the results and prints the stdout.\n",
        "\n",
        ":::tip\n",
        "The `bacalhau docker run` command strips the default entrypoint, so don't forget to run your entrypoint in the command line arguments.\n",
        ":::"
      ]
    },
    {
      "cell_type": "code",
      "execution_count": 10,
      "metadata": {
        "tags": []
      },
      "outputs": [],
      "source": [
        "%%bash --out job_id\n",
        "bacalhau docker run \\\n",
        "    --wait \\\n",
        "    --id-only \\\n",
        "    ghcr.io/bacalhau-project/examples/codsay:v1.0.0 \\\n",
        "    -- bash -c 'codsay Look at all this data'"
      ]
    },
    {
      "cell_type": "code",
      "execution_count": 11,
      "metadata": {
        "tags": [
          "remove_cell"
        ]
      },
      "outputs": [
        {
          "name": "stdout",
          "output_type": "stream",
          "text": [
            "env: JOB_ID=4dac91df-a7ad-4019-80e1-88201e007a01\n"
          ]
        }
      ],
      "source": [
        "%env JOB_ID={job_id}"
      ]
    },
    {
      "cell_type": "code",
      "execution_count": 12,
      "metadata": {
        "id": "Y06KRWLDIitN",
        "tags": []
      },
      "outputs": [],
      "source": [
        "%%bash\n",
        "rm -rf results && mkdir -p results"
      ]
    },
    {
      "cell_type": "markdown",
      "metadata": {
        "id": "3N_XsPABIncF",
        "tags": []
      },
      "source": [
        "To Download the results of your job, run the following command:"
      ]
    },
    {
      "cell_type": "code",
      "execution_count": 13,
      "metadata": {
        "colab": {
          "base_uri": "https://localhost:8080/"
        },
        "executionInfo": {
          "elapsed": 16481,
          "status": "ok",
          "timestamp": 1663262062088,
          "user": {
            "displayName": "Vedant Padwal",
            "userId": "05534807475078682627"
          },
          "user_tz": -330
        },
        "id": "iHl4-fa3H-Yt",
        "outputId": "fcfdd0e0-ad3d-4afa-b771-dea1c4b3841c",
        "tags": []
      },
      "outputs": [
        {
          "name": "stdout",
          "output_type": "stream",
          "text": [
            "Fetching results of job '4dac91df-a7ad-4019-80e1-88201e007a01'...\n",
            "Results for job '4dac91df-a7ad-4019-80e1-88201e007a01' have been written to...\n",
            "results\n"
          ]
        },
        {
          "name": "stderr",
          "output_type": "stream",
          "text": [
            "2022/11/23 14:14:44 CleanupManager.fnsMutex violation CRITICAL section took 19.803ms 19803000 (threshold 10ms)\n"
          ]
        }
      ],
      "source": [
        "%%bash\n",
        "bacalhau get ${JOB_ID}  --output-dir results"
      ]
    },
    {
      "cell_type": "code",
      "execution_count": 14,
      "metadata": {},
      "outputs": [
        {
          "name": "stdout",
          "output_type": "stream",
          "text": [
            " _______________________\n",
            "< Look at all this data >\n",
            " -----------------------\n",
            "   \\\n",
            "    \\\n",
            "                               ,,,,_\n",
            "                            ┌Φ▓╬▓╬▓▓▓W      @▓▓▒,\n",
            "                           ╠▓╬▓╬╣╬╬▓╬▓▓   ╔╣╬╬▓╬╣▓,\n",
            "                    __,┌╓═╠╬╠╬╬╬Ñ╬╬╬Ñ╬╬¼,╣╬╬▓╬╬▓╬▓▓▓┐        ╔W_             ,φ▓▓\n",
            "               ,«@▒╠╠╠╠╩╚╙╙╩Ü╚╚╚╚╩╙╙╚╠╩╚╚╟▓▒╠╠╫╣╬╬╫╬╣▓,   _φ╬▓╬╬▓,        ,φ╣▓▓╬╬\n",
            "          _,φÆ╩╬╩╙╚╩░╙╙░░╩`=░╙╚»»╦░=╓╙Ü1R░│░╚Ü░╙╙╚╠╠╠╣╣╬≡Φ╬▀╬╣╬╬▓▓▓_   ╓▄▓▓▓▓▓▓╬▌\n",
            "      _,φ╬Ñ╩▌▐█[▒░░░░R░░▀░`,_`!R`````╙`-'╚Ü░░Ü░░░░░░░│││░╚╚╙╚╩╩╩╣Ñ╩╠▒▒╩╩▀▓▓╣▓▓╬╠▌\n",
            "     '╚╩Ü╙│░░╙Ö▒Ü░░░H░░R ▒¥╣╣@@@▓▓▓  := '`   `░``````````````````````````]▓▓▓╬╬╠H\n",
            "       '¬═▄ `░╙Ü░╠DjK` Å»»╙╣▓▓▓▓╬Ñ     -»`       -`      `  ,;╓▄╔╗∞  ~▓▓▓▀▓▓╬╬╬▌\n",
            "             '^^^`   _╒Γ   `╙▀▓▓╨                     _, ⁿD╣▓╬╣▓╬▓╜      ╙╬▓▓╬╬▓▓\n",
            "                 ```└                           _╓▄@▓▓▓╜   `╝╬▓▓╙           ²╣╬▓▓\n",
            "                        %φ▄╓_             ~#▓╠▓▒╬▓╬▓▓^        `                ╙╙\n",
            "                         `╣▓▓▓              ╠╬▓╬▓╬▀`\n",
            "                           ╚▓▌               '╨▀╜\n"
          ]
        }
      ],
      "source": [
        "%%bash\n",
        "cat ./results/combined_results/stdout"
      ]
    }
  ],
  "metadata": {
    "kernelspec": {
      "display_name": "Python 3.9.7 64-bit ('3.9.7')",
      "language": "python",
      "name": "python3"
    },
    "language_info": {
      "codemirror_mode": {
        "name": "ipython",
        "version": 3
      },
      "file_extension": ".py",
      "mimetype": "text/x-python",
      "name": "python",
      "nbconvert_exporter": "python",
      "pygments_lexer": "ipython3",
      "version": "3.9.7"
    },
    "orig_nbformat": 4,
    "vscode": {
      "interpreter": {
        "hash": "21fd917facdca5c02b7d24e32528f1b4e6711465b0262edbfffba943391e1222"
      }
    }
  },
  "nbformat": 4,
  "nbformat_minor": 2
}
