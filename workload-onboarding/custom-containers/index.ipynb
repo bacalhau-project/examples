{
    "cells": [
        {
            "cell_type": "raw",
            "metadata": {},
            "source": [
                "---\n",
                "sidebar_label: \"Custom Containers\"\n",
                "sidebar_position: 10\n",
                "---"
            ]
        },
        {
            "cell_type": "markdown",
            "metadata": {},
            "source": [
                "# How To Work With Custom Containers in Bacalhau\n",
                "\n",
                "[![Open In Colab](https://colab.research.google.com/assets/colab-badge.svg)](https://colab.research.google.com/github/bacalhau-project/examples/blob/main/workload-onboarding/custom-containers/index.ipynb)\n",
                "[![Open In Binder](https://mybinder.org/badge.svg)](https://mybinder.org/v2/gh/bacalhau-project/examples/HEAD?labpath=workload-onboarding/custom-containers/index.ipynb)\n",
                "\n",
                "Bacalhau operates by executing jobs within containers. This example shows you how to build and use a custom docker container.\n",
                "\n",
                "This example requires Docker. If you don't have Docker installed, you can install it from [here](https://docs.docker.com/install/). Docker commands will not work on hosted notebooks like Google Colab, but the Bacalhau commands will."
            ]
        },
        {
            "cell_type": "code",
            "execution_count": 1,
            "metadata": {
                "tags": [
                    "remove_cell",
                    "skip-execution"
                ]
            },
            "outputs": [],
            "source": [
                "!command -v docker >/dev/null 2>&1 || { echo >&2 \"I require docker but it's not installed.  Aborting.\"; exit 1; }"
            ]
        },
        {
            "cell_type": "code",
            "execution_count": 2,
            "metadata": {
                "tags": [
                    "remove_cell"
                ]
            },
            "outputs": [
                {
                    "name": "stdout",
                    "output_type": "stream",
                    "text": [
                        "Your system is darwin_arm64\n",
                        "\n",
                        "BACALHAU CLI is detected:\n",
                        "Client Version: v0.3.2\n",
                        "Server Version: v0.3.2\n",
                        "Reinstalling BACALHAU CLI - ./bacalhau...\n",
                        "Getting the latest BACALHAU CLI...\n",
                        "Installing v0.3.2 BACALHAU CLI...\n",
                        "Downloading https://github.com/filecoin-project/bacalhau/releases/download/v0.3.2/bacalhau_v0.3.2_darwin_arm64.tar.gz ...\n",
                        "Downloading sig file https://github.com/filecoin-project/bacalhau/releases/download/v0.3.2/bacalhau_v0.3.2_darwin_arm64.tar.gz.signature.sha256 ...\n",
                        "Verified OK\n",
                        "Extracting tarball ...\n",
                        "NOT verifying Bin\n",
                        "bacalhau installed into . successfully.\n",
                        "Client Version: v0.3.2\n",
                        "Server Version: v0.3.2\n",
                        "env: PATH=./:/Users/phil/.pyenv/versions/3.9.7/bin:/opt/homebrew/Caskroom/google-cloud-sdk/latest/google-cloud-sdk/bin:/Users/phil/.gvm/bin:/opt/homebrew/opt/findutils/libexec/gnubin:/opt/homebrew/opt/coreutils/libexec/gnubin:/opt/homebrew/Caskroom/google-cloud-sdk/latest/google-cloud-sdk/bin:/Users/phil/.pyenv/shims:/opt/homebrew/bin:/opt/homebrew/sbin:/usr/local/bin:/usr/bin:/bin:/usr/sbin:/sbin:/Library/TeX/texbin:/usr/local/MacGPG2/bin:/Users/phil/.nexustools\n"
                    ]
                }
            ],
            "source": [
                "!(export BACALHAU_INSTALL_DIR=.; curl -sL https://get.bacalhau.org/install.sh | bash)\n",
                "path=!echo $PATH\n",
                "%env PATH=./:{path[0]}"
            ]
        },
        {
            "cell_type": "code",
            "execution_count": 3,
            "metadata": {
                "tags": [
                    "remove_cell"
                ]
            },
            "outputs": [
                {
                    "name": "stdout",
                    "output_type": "stream",
                    "text": [
                        "Client Version: v0.3.2\n",
                        "Server Version: v0.3.2\n"
                    ]
                }
            ],
            "source": [
                "%%bash\n",
                "bacalhau version"
            ]
        },
        {
            "cell_type": "markdown",
            "metadata": {},
            "source": [
                "## Running Containers in Bacalhau\n",
                "\n",
                "You're probably used to running docker commands to run a container."
            ]
        },
        {
            "cell_type": "code",
            "execution_count": 4,
            "metadata": {
                "tags": [
                    "skip-execution"
                ]
            },
            "outputs": [
                {
                    "name": "stdout",
                    "output_type": "stream",
                    "text": [
                        " _________________________________ \n",
                        "< sup old fashioned container run >\n",
                        " --------------------------------- \n",
                        "    \\\n",
                        "     \\\n",
                        "      \\     \n",
                        "                    ##        .            \n",
                        "              ## ## ##       ==            \n",
                        "           ## ## ## ##      ===            \n",
                        "       /\"\"\"\"\"\"\"\"\"\"\"\"\"\"\"\"___/ ===        \n",
                        "  ~~~ {~~ ~~~~ ~~~ ~~~~ ~~ ~ /  ===- ~~~   \n",
                        "       \\______ o          __/            \n",
                        "        \\    \\        __/             \n",
                        "          \\____\\______/   \n"
                    ]
                },
                {
                    "name": "stderr",
                    "output_type": "stream",
                    "text": [
                        "WARNING: The requested image's platform (linux/amd64) does not match the detected host platform (linux/arm64/v8) and no specific platform was requested\n"
                    ]
                }
            ],
            "source": [
                "%%bash\n",
                "docker run docker/whalesay cowsay sup old fashioned container run"
            ]
        },
        {
            "cell_type": "markdown",
            "metadata": {},
            "source": [
                "Bacalhau uses a syntax that is similar to docker and you can use the same containers. The main difference is that input and output data is passed to the container via IPFS, to enable planetary scale. In this example, it doesn't make too much difference except that we need to download the stdout.\n",
                "\n",
                "The `--wait` flag tells Bacalhau to wait for the job to finish before returning. This is useful in interactive sessions like this, but you would normally allow jobs to complete in the background and use the `list` command to check on their status.\n",
                "\n",
                "Another difference is that by default Bacalhau overwrites the default entrypoint for the container so you have to pass all shell commands as arguments to the `run` command after the `--` flag."
            ]
        },
        {
            "cell_type": "code",
            "execution_count": 12,
            "metadata": {},
            "outputs": [
                {
                    "name": "stdout",
                    "output_type": "stream",
                    "text": [
                        "Job successfully submitted. Job ID: 4e8ad5cf-0133-41fe-8319-e26e7957f5b2\n",
                        "Checking job status... (Enter Ctrl+C to exit at any time, your job will continue running):\n",
                        "\n",
                        "\t       Creating job for submission ... done ✅\n",
                        "\t       Finding node(s) for the job ... done ✅\n",
                        "\t             Node accepted the job ... done ✅\n",
                        "\t                                   ... done ✅\n",
                        "\t   Job finished, verifying results ... done ✅\n",
                        "\t      Results accepted, publishing ... done ✅\n",
                        "\t                                  \n",
                        "Results CID: QmPdbcfRma2MTSNkmJqRMuJ5BQfSwh3vY89G9vbaV5ZsyW\n",
                        "Job Results By Node:\n",
                        "Node QmXaXu9N:\n",
                        "  Shard 0:\n",
                        "    Status: Cancelled\n",
                        "    No RunOutput for this shard\n",
                        "Node QmYgxZiy:\n",
                        "  Shard 0:\n",
                        "    Status: Completed\n",
                        "    Container Exit Code: 0\n",
                        "    Stdout:\n",
                        "      _____________________ \n",
                        "< hello web3 uber-run >\n",
                        " --------------------- \n",
                        "    \\\n",
                        "     \\\n",
                        "      \\     \n",
                        "                    ##        .            \n",
                        "              ## ## ##       ==            \n",
                        "           ## ## ## ##      ===            \n",
                        "       /\"\"\"\"\"\"\"\"\"\"\"\"\"\"\"\"___/ ===        \n",
                        "  ~~~ {~~ ~~~~ ~~~ ~~~~ ~~ ~ /  ===- ~~~   \n",
                        "       \\______ o          __/            \n",
                        "        \\    \\        __/             \n",
                        "          \\____\\______/\n",
                        "    Stderr: <NONE>\n",
                        "Node QmdZQ7Zb:\n",
                        "  Shard 0:\n",
                        "    Status: Cancelled\n",
                        "    No RunOutput for this shard\n",
                        "\n",
                        "To download the results, execute:\n",
                        "  bacalhau get 4e8ad5cf-0133-41fe-8319-e26e7957f5b2\n",
                        "\n",
                        "To get more details about the run, execute:\n",
                        "  bacalhau describe 4e8ad5cf-0133-41fe-8319-e26e7957f5b2\n"
                    ]
                }
            ],
            "source": [
                "%%bash\n",
                "bacalhau docker run docker/whalesay -- bash -c 'cowsay hello web3 uber-run'"
            ]
        },
        {
            "cell_type": "code",
            "execution_count": null,
            "metadata": {
                "tags": [
                    "skip-execution"
                ]
            },
            "outputs": [],
            "source": [
                "%%bash\n",
                "cat ./results/stdout"
            ]
        },
        {
            "cell_type": "markdown",
            "metadata": {},
            "source": [
                "## Using Your Own Custom Container\n",
                "\n",
                "To use your own custom container, you must publish the container to a container registry that is accessible from the Bacalhau network. At this time, only public container registries are supported.\n",
                "\n",
                "To demonstrate this, you will develop and build a simple custom container that comes from an old docker example. I remember seeing cowsay at a Docker conference about a decade ago. I think it's about time we brought it back to life and distribute it across the Bacalhau network."
            ]
        },
        {
            "cell_type": "code",
            "execution_count": 6,
            "metadata": {},
            "outputs": [
                {
                    "name": "stdout",
                    "output_type": "stream",
                    "text": [
                        "Overwriting cod.cow\n"
                    ]
                }
            ],
            "source": [
                "%%writefile cod.cow\n",
                "$the_cow = <<\"EOC\";\n",
                "   $thoughts\n",
                "    $thoughts\n",
                "                               ,,,,_\n",
                "                            ┌Φ▓╬▓╬▓▓▓W      @▓▓▒,\n",
                "                           ╠▓╬▓╬╣╬╬▓╬▓▓   ╔╣╬╬▓╬╣▓,\n",
                "                    __,┌╓═╠╬╠╬╬╬Ñ╬╬╬Ñ╬╬¼,╣╬╬▓╬╬▓╬▓▓▓┐        ╔W_             ,φ▓▓\n",
                "               ,«@▒╠╠╠╠╩╚╙╙╩Ü╚╚╚╚╩╙╙╚╠╩╚╚╟▓▒╠╠╫╣╬╬╫╬╣▓,   _φ╬▓╬╬▓,        ,φ╣▓▓╬╬\n",
                "          _,φÆ╩╬╩╙╚╩░╙╙░░╩`=░╙╚»»╦░=╓╙Ü1R░│░╚Ü░╙╙╚╠╠╠╣╣╬≡Φ╬▀╬╣╬╬▓▓▓_   ╓▄▓▓▓▓▓▓╬▌\n",
                "      _,φ╬Ñ╩▌▐█[▒░░░░R░░▀░`,_`!R`````╙`-'╚Ü░░Ü░░░░░░░│││░╚╚╙╚╩╩╩╣Ñ╩╠▒▒╩╩▀▓▓╣▓▓╬╠▌\n",
                "     '╚╩Ü╙│░░╙Ö▒Ü░░░H░░R ▒¥╣╣@@@▓▓▓  := '`   `░``````````````````````````]▓▓▓╬╬╠H\n",
                "       '¬═▄ `\\░╙Ü░╠DjK` Å»»╙╣▓▓▓▓╬Ñ     -»`       -`      `  ,;╓▄╔╗∞  ~▓▓▓▀▓▓╬╬╬▌\n",
                "             '^^^`   _╒Γ   `╙▀▓▓╨                     _, ⁿD╣▓╬╣▓╬▓╜      ╙╬▓▓╬╬▓▓\n",
                "                 ```└                           _╓▄@▓▓▓╜   `╝╬▓▓╙           ²╣╬▓▓\n",
                "                        %φ▄╓_             ~#▓╠▓▒╬▓╬▓▓^        `                ╙╙\n",
                "                         `╣▓▓▓              ╠╬▓╬▓╬▀`\n",
                "                           ╚▓▌               '╨▀╜\n",
                "EOC"
            ]
        },
        {
            "cell_type": "markdown",
            "metadata": {},
            "source": [
                "Next, the Dockerfile adds the script and sets the entrypoint."
            ]
        },
        {
            "cell_type": "code",
            "execution_count": 7,
            "metadata": {},
            "outputs": [
                {
                    "name": "stdout",
                    "output_type": "stream",
                    "text": [
                        "Overwriting Dockerfile\n"
                    ]
                }
            ],
            "source": [
                "%%writefile Dockerfile\n",
                "FROM debian:stretch\n",
                "RUN apt-get update && apt-get install -y cowsay\n",
                "# \"cowsay\" installs to /usr/games\n",
                "ENV PATH $PATH:/usr/games\n",
                "RUN echo '#!/bin/bash\\ncowsay \"${@:1}\"' > /usr/bin/codsay && \\\n",
                "    chmod +x /usr/bin/codsay\n",
                "COPY cod.cow /usr/share/cowsay/cows/default.cow"
            ]
        },
        {
            "cell_type": "markdown",
            "metadata": {},
            "source": [
                "Now let's build and test the container locally."
            ]
        },
        {
            "cell_type": "code",
            "execution_count": 8,
            "metadata": {
                "tags": [
                    "skip-execution"
                ]
            },
            "outputs": [],
            "source": [
                "%%bash\n",
                "docker build -t ghcr.io/bacalhau-project/examples/codsay:latest . 2> /dev/null"
            ]
        },
        {
            "cell_type": "code",
            "execution_count": 9,
            "metadata": {
                "tags": [
                    "skip-execution"
                ]
            },
            "outputs": [
                {
                    "name": "stdout",
                    "output_type": "stream",
                    "text": [
                        " _________________________\n",
                        "< I like swimming in data >\n",
                        " -------------------------\n",
                        "   \\\n",
                        "    \\\n",
                        "                               ,,,,_\n",
                        "                            ┌Φ▓╬▓╬▓▓▓W      @▓▓▒,\n",
                        "                           ╠▓╬▓╬╣╬╬▓╬▓▓   ╔╣╬╬▓╬╣▓,\n",
                        "                    __,┌╓═╠╬╠╬╬╬Ñ╬╬╬Ñ╬╬¼,╣╬╬▓╬╬▓╬▓▓▓┐        ╔W_             ,φ▓▓\n",
                        "               ,«@▒╠╠╠╠╩╚╙╙╩Ü╚╚╚╚╩╙╙╚╠╩╚╚╟▓▒╠╠╫╣╬╬╫╬╣▓,   _φ╬▓╬╬▓,        ,φ╣▓▓╬╬\n",
                        "          _,φÆ╩╬╩╙╚╩░╙╙░░╩`=░╙╚»»╦░=╓╙Ü1R░│░╚Ü░╙╙╚╠╠╠╣╣╬≡Φ╬▀╬╣╬╬▓▓▓_   ╓▄▓▓▓▓▓▓╬▌\n",
                        "      _,φ╬Ñ╩▌▐█[▒░░░░R░░▀░`,_`!R`````╙`-'╚Ü░░Ü░░░░░░░│││░╚╚╙╚╩╩╩╣Ñ╩╠▒▒╩╩▀▓▓╣▓▓╬╠▌\n",
                        "     '╚╩Ü╙│░░╙Ö▒Ü░░░H░░R ▒¥╣╣@@@▓▓▓  := '`   `░``````````````````````````]▓▓▓╬╬╠H\n",
                        "       '¬═▄ `░╙Ü░╠DjK` Å»»╙╣▓▓▓▓╬Ñ     -»`       -`      `  ,;╓▄╔╗∞  ~▓▓▓▀▓▓╬╬╬▌\n",
                        "             '^^^`   _╒Γ   `╙▀▓▓╨                     _, ⁿD╣▓╬╣▓╬▓╜      ╙╬▓▓╬╬▓▓\n",
                        "                 ```└                           _╓▄@▓▓▓╜   `╝╬▓▓╙           ²╣╬▓▓\n",
                        "                        %φ▄╓_             ~#▓╠▓▒╬▓╬▓▓^        `                ╙╙\n",
                        "                         `╣▓▓▓              ╠╬▓╬▓╬▀`\n",
                        "                           ╚▓▌               '╨▀╜\n"
                    ]
                }
            ],
            "source": [
                "%%bash\n",
                "docker run --rm ghcr.io/bacalhau-project/examples/codsay:latest codsay I like swimming in data"
            ]
        },
        {
            "cell_type": "markdown",
            "metadata": {},
            "source": [
                "Once your container is working as expected then you should push it to a public container registry. In this example, I'm pushing to Github's container registry, but we'll skip the step below because you probably don't have permission.Remember that the Bacalhau nodes expect your container to have a `linux/amd64` architecture."
            ]
        },
        {
            "cell_type": "code",
            "execution_count": 10,
            "metadata": {
                "tags": [
                    "skip-execution"
                ]
            },
            "outputs": [],
            "source": [
                "%%bash\n",
                "# docker buildx build --platform linux/amd64,linux/arm64 --push -t ghcr.io/bacalhau-project/examples/codsay:latest ."
            ]
        },
        {
            "cell_type": "markdown",
            "metadata": {},
            "source": [
                "## Running Your Custom Container on Bacalhau\n",
                "\n",
                "Now we're ready to submit a Bacalhau job using your custom container. This code runs a job, downloads the results and prints the stdout.\n",
                "\n",
                ":::tip\n",
                "The `bacalhau docker run` command strips the default entrypoint, so don't forget to run your entrypoint in the command line arguments.\n",
                ":::"
            ]
        },
        {
            "cell_type": "code",
            "execution_count": 13,
            "metadata": {},
            "outputs": [
                {
                    "name": "stdout",
                    "output_type": "stream",
                    "text": [
                        "Job successfully submitted. Job ID: 7b339eb2-c9de-4bd5-9778-3e25b3e1275c\n",
                        "Checking job status... (Enter Ctrl+C to exit at any time, your job will continue running):\n",
                        "\n",
                        "\t       Creating job for submission ... done ✅\n",
                        "\t       Finding node(s) for the job ... done ✅\n",
                        "\t             Node accepted the job ... done ✅\n",
                        "\t                                   ... done ✅\n",
                        "\t   Job finished, verifying results ... done ✅\n",
                        "\t      Results accepted, publishing ... done ✅\n",
                        "\t                                  \n",
                        "Results CID: QmaJCxwRQx3ZL8amPSVu4SbYD8kgwxWkGwdcMubUTDCQwC\n",
                        "Job Results By Node:\n",
                        "Node QmXaXu9N:\n",
                        "  Shard 0:\n",
                        "    Status: Cancelled\n",
                        "    No RunOutput for this shard\n",
                        "Node QmYgxZiy:\n",
                        "  Shard 0:\n",
                        "    Status: Completed\n",
                        "    Container Exit Code: 0\n",
                        "    Stdout:\n",
                        "      _______________________\n",
                        "< Look at all this data >\n",
                        " -----------------------\n",
                        "   \\\n",
                        "    \\\n",
                        "                               ,,,,_\n",
                        "                            ┌Φ▓╬▓╬▓▓▓W      @▓▓▒,\n",
                        "                           ╠▓╬▓╬╣╬╬▓╬▓▓   ╔╣╬╬▓╬╣▓,\n",
                        "                    __,┌╓═╠╬╠╬╬╬Ñ╬╬╬Ñ╬╬¼,╣╬╬▓╬╬▓╬▓▓▓┐        ╔W_             ,φ▓▓\n",
                        "               ,«@▒╠╠╠╠╩╚╙╙╩Ü╚╚╚╚╩╙╙╚╠╩╚╚╟▓▒╠╠╫╣╬╬╫╬╣▓,   _φ╬▓╬╬▓,        ,φ╣▓▓╬╬\n",
                        "          _,φÆ╩╬╩╙╚╩░╙╙░░╩`=░╙╚»»╦░=╓╙Ü1R░│░╚Ü░╙╙╚╠╠╠╣╣╬≡Φ╬▀╬╣╬╬▓▓▓_   ╓▄▓▓▓▓▓▓╬▌\n",
                        "      _,φ╬Ñ╩▌▐█[▒░░░░R░░▀░`,_`!R`````╙`-'╚Ü░░Ü░░░░░░░│││░╚╚╙╚╩╩╩╣Ñ╩╠▒▒╩╩▀▓▓╣▓▓╬╠▌\n",
                        "     '╚╩Ü╙│░░╙Ö▒Ü░░░H░░R ▒¥╣╣@@@▓▓▓  := '`   `░``````````````````````````]▓▓▓╬╬╠H\n",
                        "       '¬═▄ `░╙Ü░╠DjK` Å»»╙╣▓▓▓▓╬Ñ     -»`       -`      `  ,;╓▄╔╗∞  ~▓▓▓▀▓▓╬╬╬▌\n",
                        "             '^^^`   _╒Γ   `╙▀▓▓╨                     _, ⁿD╣▓╬╣▓╬▓╜      ╙╬▓▓╬╬▓▓\n",
                        "                 ```└                           _╓▄@▓▓▓╜   `╝╬▓▓╙           ²╣╬▓▓\n",
                        "                        %!φ(MISSING)▄╓_             ~#▓╠▓▒╬▓╬▓▓^        `                ╙╙\n",
                        "                         `╣▓▓▓              ╠╬▓╬▓╬▀`\n",
                        "                           ╚▓▌               '╨▀╜\n",
                        "    Stderr: <NONE>\n",
                        "Node QmdZQ7Zb:\n",
                        "  Shard 0:\n",
                        "    Status: Cancelled\n",
                        "    No RunOutput for this shard\n",
                        "\n",
                        "To download the results, execute:\n",
                        "  bacalhau get 7b339eb2-c9de-4bd5-9778-3e25b3e1275c\n",
                        "\n",
                        "To get more details about the run, execute:\n",
                        "  bacalhau describe 7b339eb2-c9de-4bd5-9778-3e25b3e1275c\n"
                    ]
                }
            ],
            "source": [
                "%%bash\n",
                "bacalhau docker run \\\n",
                "  ghcr.io/bacalhau-project/examples/codsay:v1.0.0 \\\n",
                "  -- bash -c 'codsay Look at all this data'"
            ]
        }
    ],
    "metadata": {
        "kernelspec": {
            "display_name": "Python 3.10.6 64-bit",
            "language": "python",
            "name": "python3"
        },
        "language_info": {
            "name": "python",
            "version": "3.10.6"
        },
        "orig_nbformat": 4,
        "vscode": {
            "interpreter": {
                "hash": "916dbcbb3f70747c44a77c7bcd40155683ae19c65e1c03b4aa3499c5328201f1"
            }
        }
    },
    "nbformat": 4,
    "nbformat_minor": 2
}
