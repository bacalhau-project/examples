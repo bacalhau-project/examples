{
    "cells": [
        {
            "cell_type": "raw",
            "metadata": {},
            "source": [
                "---\n",
                "sidebar_label: \"Custom Containers\"\n",
                "sidebar_position: 10\n",
                "---"
            ]
        },
        {
            "cell_type": "markdown",
            "metadata": {},
            "source": [
                "# How To Work With Custom Containers in Bacalhau\n",
                "\n",
                "[![Open In Colab](https://colab.research.google.com/assets/colab-badge.svg)](https://colab.research.google.com/github/bacalhau-project/examples/blob/main/workload-onboarding/custom-containers/index.ipynb)\n",
                "[![Open In Binder](https://mybinder.org/badge.svg)](https://mybinder.org/v2/gh/bacalhau-project/examples/HEAD?labpath=workload-onboarding/custom-containers/index.ipynb)\n",
                "\n",
                "Bacalhau operates by executing jobs within containers. This example shows you how to build and use a custom docker container.\n",
                "\n",
                "This example requires Docker. If you don't have Docker installed, you can install it from [here](https://docs.docker.com/install/). Docker commands will not work on hosted notebooks like Google Colab, but the Bacalhau commands will."
            ]
        },
        {
            "cell_type": "code",
            "execution_count": 1,
            "metadata": {
                "tags": [
                    "remove_cell"
                ]
            },
            "outputs": [],
            "source": [
                "!command -v docker >/dev/null 2>&1 || { echo >&2 \"I require docker but it's not installed.  Aborting.\"; exit 1; }"
            ]
        },
        {
            "cell_type": "code",
            "execution_count": 2,
            "metadata": {
                "tags": [
                    "remove_cell"
                ]
            },
            "outputs": [
                {
                    "name": "stdout",
                    "output_type": "stream",
                    "text": [
                        "Your system is darwin_arm64\n",
                        "No BACALHAU detected. Installing fresh BACALHAU CLI...\n",
                        "Getting the latest BACALHAU CLI...\n",
                        "Installing v0.3.1 BACALHAU CLI...\n",
                        "Downloading https://github.com/filecoin-project/bacalhau/releases/download/v0.3.1/bacalhau_v0.3.1_darwin_arm64.tar.gz ...\n",
                        "Downloading sig file https://github.com/filecoin-project/bacalhau/releases/download/v0.3.1/bacalhau_v0.3.1_darwin_arm64.tar.gz.signature.sha256 ...\n",
                        "Verified OK\n",
                        "Extracting tarball ...\n",
                        "NOT verifying Bin\n",
                        "bacalhau installed into . successfully.\n",
                        "Client Version: v0.3.1\n",
                        "Server Version: v0.3.1\n",
                        "env: PATH=./:/Users/phil/.pyenv/versions/3.9.7/bin:/opt/homebrew/Caskroom/google-cloud-sdk/latest/google-cloud-sdk/bin:/Users/phil/.gvm/bin:/opt/homebrew/opt/findutils/libexec/gnubin:/opt/homebrew/opt/coreutils/libexec/gnubin:/opt/homebrew/Caskroom/google-cloud-sdk/latest/google-cloud-sdk/bin:/Users/phil/.pyenv/shims:/opt/homebrew/bin:/opt/homebrew/sbin:/usr/local/bin:/usr/bin:/bin:/usr/sbin:/sbin:/Library/TeX/texbin:/usr/local/MacGPG2/bin:/Users/phil/.nexustools\n"
                    ]
                }
            ],
            "source": [
                "!(export BACALHAU_INSTALL_DIR=.; curl -sL https://get.bacalhau.org/install.sh | bash)\n",
                "path=!echo $PATH\n",
                "%env PATH=./:{path[0]}"
            ]
        },
        {
            "cell_type": "code",
            "execution_count": 3,
            "metadata": {
                "tags": [
                    "remove_cell"
                ]
            },
            "outputs": [
                {
                    "name": "stdout",
                    "output_type": "stream",
                    "text": [
                        "Client Version: v0.3.1\n",
                        "Server Version: v0.3.1\n"
                    ]
                }
            ],
            "source": [
                "%%bash\n",
                "bacalhau version"
            ]
        },
        {
            "cell_type": "markdown",
            "metadata": {},
            "source": [
                "## Running Containers in Bacalhau\n",
                "\n",
                "You're probably used to running docker commands to run a container."
            ]
        },
        {
            "cell_type": "code",
            "execution_count": 4,
            "metadata": {},
            "outputs": [
                {
                    "name": "stdout",
                    "output_type": "stream",
                    "text": [
                        " __________________________________ \n",
                        "< sup, old fashioned container run >\n",
                        " ---------------------------------- \n",
                        "    \\\n",
                        "     \\\n",
                        "      \\     \n",
                        "                    ##        .            \n",
                        "              ## ## ##       ==            \n",
                        "           ## ## ## ##      ===            \n",
                        "       /\"\"\"\"\"\"\"\"\"\"\"\"\"\"\"\"___/ ===        \n",
                        "  ~~~ {~~ ~~~~ ~~~ ~~~~ ~~ ~ /  ===- ~~~   \n",
                        "       \\______ o          __/            \n",
                        "        \\    \\        __/             \n",
                        "          \\____\\______/   \n"
                    ]
                },
                {
                    "name": "stderr",
                    "output_type": "stream",
                    "text": [
                        "WARNING: The requested image's platform (linux/amd64) does not match the detected host platform (linux/arm64/v8) and no specific platform was requested\n"
                    ]
                }
            ],
            "source": [
                "%%bash\n",
                "docker run docker/whalesay cowsay sup, old fashioned container run"
            ]
        },
        {
            "cell_type": "markdown",
            "metadata": {},
            "source": [
                "Bacalhau uses a syntax that is similar to docker and you can use the same containers. The main difference is that input and output data is passed to the container via IPFS, to enable planetary scale. In this example, it doesn't make too much difference except that we need to download the stdout.\n",
                "\n",
                "The `--wait` flag tells Bacalhau to wait for the job to finish before returning. This is useful in interactive sessions like this, but you would normally allow jobs to complete in the background and use the `list` command to check on their status.\n",
                "\n",
                "Another difference is that by default Bacalhau overwrites the default entrypoint for the container so you have to pass all shell commands as arguments to the `run` command after the `--` flag."
            ]
        },
        {
            "cell_type": "code",
            "execution_count": 5,
            "metadata": {},
            "outputs": [],
            "source": [
                "%%bash --out job_id\n",
                "bacalhau docker run --wait --id-only docker/whalesay -- cowsay hello, web3 uber-run!"
            ]
        },
        {
            "cell_type": "code",
            "execution_count": 6,
            "metadata": {
                "tags": [
                    "remove_cell"
                ]
            },
            "outputs": [
                {
                    "name": "stdout",
                    "output_type": "stream",
                    "text": [
                        "env: JOB_ID=61d8dbaa-5ab8-4eeb-975d-2cca1f1a0b69\n"
                    ]
                }
            ],
            "source": [
                "%env JOB_ID={job_id}"
            ]
        },
        {
            "cell_type": "code",
            "execution_count": 7,
            "metadata": {},
            "outputs": [
                {
                    "name": "stderr",
                    "output_type": "stream",
                    "text": [
                        "\u001b[90m13:28:51.704 |\u001b[0m \u001b[32mINF\u001b[0m \u001b[1mbacalhau/get.go:67\u001b[0m\u001b[36m >\u001b[0m Fetching results of job '61d8dbaa-5ab8-4eeb-975d-2cca1f1a0b69'...\n",
                        "\u001b[90m13:28:57.848 |\u001b[0m \u001b[32mINF\u001b[0m \u001b[1mipfs/downloader.go:115\u001b[0m\u001b[36m >\u001b[0m Found 1 result shards, downloading to temporary folder.\n",
                        "\u001b[90m13:29:00.656 |\u001b[0m \u001b[32mINF\u001b[0m \u001b[1mipfs/downloader.go:195\u001b[0m\u001b[36m >\u001b[0m Combining shard from output volume 'outputs' to final location: '/Users/phil/source/bacalhau-project/examples/workload-onboarding/custom-containers/results'\n"
                    ]
                }
            ],
            "source": [
                "%%bash\n",
                "rm -rf ./results && mkdir -p ./results # Temporary directory to store the results\n",
                "bacalhau get --output-dir ./results ${JOB_ID} # Download the results"
            ]
        },
        {
            "cell_type": "code",
            "execution_count": 8,
            "metadata": {},
            "outputs": [
                {
                    "name": "stdout",
                    "output_type": "stream",
                    "text": [
                        " _______________________ \n",
                        "< hello, web3 uber-run! >\n",
                        " ----------------------- \n",
                        "    \\\n",
                        "     \\\n",
                        "      \\     \n",
                        "                    ##        .            \n",
                        "              ## ## ##       ==            \n",
                        "           ## ## ## ##      ===            \n",
                        "       /\"\"\"\"\"\"\"\"\"\"\"\"\"\"\"\"___/ ===        \n",
                        "  ~~~ {~~ ~~~~ ~~~ ~~~~ ~~ ~ /  ===- ~~~   \n",
                        "       \\______ o          __/            \n",
                        "        \\    \\        __/             \n",
                        "          \\____\\______/   \n"
                    ]
                }
            ],
            "source": [
                "%%bash\n",
                "cat ./results/stdout"
            ]
        },
        {
            "cell_type": "markdown",
            "metadata": {},
            "source": [
                "## Using Your Own Custom Container\n",
                "\n",
                "To use your own custom container, you must publish the container to a container registry that is accessible from the Bacalhau network. At this time, only public container registries are supported.\n",
                "\n",
                "To demonstrate this, you will develop and build a simple custom container that comes from an old docker example. I remember seeing cowsay at a Docker conference about a decade ago. I think it's about time we brought it back to life and distribute it across the Bacalhau network."
            ]
        },
        {
            "cell_type": "code",
            "execution_count": 9,
            "metadata": {},
            "outputs": [
                {
                    "name": "stdout",
                    "output_type": "stream",
                    "text": [
                        "Writing cod.cow\n"
                    ]
                }
            ],
            "source": [
                "%%writefile cod.cow\n",
                "$the_cow = <<\"EOC\";\n",
                "   $thoughts\n",
                "    $thoughts\n",
                "                               ,,,,_\n",
                "                            ┌Φ▓╬▓╬▓▓▓W      @▓▓▒,\n",
                "                           ╠▓╬▓╬╣╬╬▓╬▓▓   ╔╣╬╬▓╬╣▓,\n",
                "                    __,┌╓═╠╬╠╬╬╬Ñ╬╬╬Ñ╬╬¼,╣╬╬▓╬╬▓╬▓▓▓┐        ╔W_             ,φ▓▓\n",
                "               ,«@▒╠╠╠╠╩╚╙╙╩Ü╚╚╚╚╩╙╙╚╠╩╚╚╟▓▒╠╠╫╣╬╬╫╬╣▓,   _φ╬▓╬╬▓,        ,φ╣▓▓╬╬\n",
                "          _,φÆ╩╬╩╙╚╩░╙╙░░╩`=░╙╚»»╦░=╓╙Ü1R░│░╚Ü░╙╙╚╠╠╠╣╣╬≡Φ╬▀╬╣╬╬▓▓▓_   ╓▄▓▓▓▓▓▓╬▌\n",
                "      _,φ╬Ñ╩▌▐█[▒░░░░R░░▀░`,_`!R`````╙`-'╚Ü░░Ü░░░░░░░│││░╚╚╙╚╩╩╩╣Ñ╩╠▒▒╩╩▀▓▓╣▓▓╬╠▌\n",
                "     '╚╩Ü╙│░░╙Ö▒Ü░░░H░░R ▒¥╣╣@@@▓▓▓  := '`   `░``````````````````````````]▓▓▓╬╬╠H\n",
                "       '¬═▄ `\\░╙Ü░╠DjK` Å»»╙╣▓▓▓▓╬Ñ     -»`       -`      `  ,;╓▄╔╗∞  ~▓▓▓▀▓▓╬╬╬▌\n",
                "             '^^^`   _╒Γ   `╙▀▓▓╨                     _, ⁿD╣▓╬╣▓╬▓╜      ╙╬▓▓╬╬▓▓\n",
                "                 ```└                           _╓▄@▓▓▓╜   `╝╬▓▓╙           ²╣╬▓▓\n",
                "                        %φ▄╓_             ~#▓╠▓▒╬▓╬▓▓^        `                ╙╙\n",
                "                         `╣▓▓▓              ╠╬▓╬▓╬▀`\n",
                "                           ╚▓▌               '╨▀╜\n",
                "EOC"
            ]
        },
        {
            "cell_type": "markdown",
            "metadata": {},
            "source": [
                "Next, the Dockerfile adds the script and sets the entrypoint."
            ]
        },
        {
            "cell_type": "code",
            "execution_count": 10,
            "metadata": {},
            "outputs": [
                {
                    "name": "stdout",
                    "output_type": "stream",
                    "text": [
                        "Writing Dockerfile\n"
                    ]
                }
            ],
            "source": [
                "%%writefile Dockerfile\n",
                "FROM debian:stretch\n",
                "RUN apt-get update && apt-get install -y cowsay\n",
                "# \"cowsay\" installs to /usr/games\n",
                "ENV PATH $PATH:/usr/games\n",
                "RUN echo '#!/bin/bash\\ncowsay \"${@:1}\"' > /usr/bin/codsay && \\\n",
                "    chmod +x /usr/bin/codsay\n",
                "COPY cod.cow /usr/share/cowsay/cows/default.cow"
            ]
        },
        {
            "cell_type": "markdown",
            "metadata": {},
            "source": [
                "Now let's build and test the container locally."
            ]
        },
        {
            "cell_type": "code",
            "execution_count": 11,
            "metadata": {},
            "outputs": [],
            "source": [
                "%%bash\n",
                "docker build -t ghcr.io/bacalhau-project/examples/codsay:latest . 2> /dev/null"
            ]
        },
        {
            "cell_type": "code",
            "execution_count": 12,
            "metadata": {},
            "outputs": [
                {
                    "name": "stdout",
                    "output_type": "stream",
                    "text": [
                        " _________________________\n",
                        "< I like swimming in data >\n",
                        " -------------------------\n",
                        "   \\\n",
                        "    \\\n",
                        "                               ,,,,_\n",
                        "                            ┌Φ▓╬▓╬▓▓▓W      @▓▓▒,\n",
                        "                           ╠▓╬▓╬╣╬╬▓╬▓▓   ╔╣╬╬▓╬╣▓,\n",
                        "                    __,┌╓═╠╬╠╬╬╬Ñ╬╬╬Ñ╬╬¼,╣╬╬▓╬╬▓╬▓▓▓┐        ╔W_             ,φ▓▓\n",
                        "               ,«@▒╠╠╠╠╩╚╙╙╩Ü╚╚╚╚╩╙╙╚╠╩╚╚╟▓▒╠╠╫╣╬╬╫╬╣▓,   _φ╬▓╬╬▓,        ,φ╣▓▓╬╬\n",
                        "          _,φÆ╩╬╩╙╚╩░╙╙░░╩`=░╙╚»»╦░=╓╙Ü1R░│░╚Ü░╙╙╚╠╠╠╣╣╬≡Φ╬▀╬╣╬╬▓▓▓_   ╓▄▓▓▓▓▓▓╬▌\n",
                        "      _,φ╬Ñ╩▌▐█[▒░░░░R░░▀░`,_`!R`````╙`-'╚Ü░░Ü░░░░░░░│││░╚╚╙╚╩╩╩╣Ñ╩╠▒▒╩╩▀▓▓╣▓▓╬╠▌\n",
                        "     '╚╩Ü╙│░░╙Ö▒Ü░░░H░░R ▒¥╣╣@@@▓▓▓  := '`   `░``````````````````````````]▓▓▓╬╬╠H\n",
                        "       '¬═▄ `░╙Ü░╠DjK` Å»»╙╣▓▓▓▓╬Ñ     -»`       -`      `  ,;╓▄╔╗∞  ~▓▓▓▀▓▓╬╬╬▌\n",
                        "             '^^^`   _╒Γ   `╙▀▓▓╨                     _, ⁿD╣▓╬╣▓╬▓╜      ╙╬▓▓╬╬▓▓\n",
                        "                 ```└                           _╓▄@▓▓▓╜   `╝╬▓▓╙           ²╣╬▓▓\n",
                        "                        %φ▄╓_             ~#▓╠▓▒╬▓╬▓▓^        `                ╙╙\n",
                        "                         `╣▓▓▓              ╠╬▓╬▓╬▀`\n",
                        "                           ╚▓▌               '╨▀╜\n"
                    ]
                }
            ],
            "source": [
                "%%bash\n",
                "docker run --rm ghcr.io/bacalhau-project/examples/codsay:latest codsay I like swimming in data"
            ]
        },
        {
            "cell_type": "markdown",
            "metadata": {},
            "source": [
                "Once your container is working as expected then you should push it to a public container registry. In this example, I'm pushing to Github's container registry, but we'll skip the step below because you probably don't have permission.Remember that the Bacalhau nodes expect your container to have a `linux/amd64` architecture."
            ]
        },
        {
            "cell_type": "code",
            "execution_count": 13,
            "metadata": {},
            "outputs": [],
            "source": [
                "%%bash\n",
                "# docker buildx build --platform linux/amd64,linux/arm64 --push -t ghcr.io/bacalhau-project/examples/codsay:latest ."
            ]
        },
        {
            "cell_type": "markdown",
            "metadata": {},
            "source": [
                "## Running Your Custom Container on Bacalhau\n",
                "\n",
                "Now we're ready to submit a Bacalhau job using your custom container. This code runs a job, downloads the results and prints the stdout.\n",
                "\n",
                ":::tip\n",
                "The `bacalhau docker run` command strips the default entrypoint, so don't forget to run your entrypoint in the command line arguments.\n",
                ":::"
            ]
        },
        {
            "cell_type": "code",
            "execution_count": 4,
            "metadata": {},
            "outputs": [
                {
                    "name": "stdout",
                    "output_type": "stream",
                    "text": [
                        "Job successfully submitted. Job ID: f5e5d231-f4ac-43fa-b47b-c0811b8297c5\n",
                        "Checking job status... (Enter Ctrl+C to exit at any time, your job will continue running):\n",
                        "\n",
                        "\t       Creating job for submission ... done ✅\n",
                        "\t       Finding node(s) for the job ... done ✅\n",
                        "\t             Node accepted the job ... done ✅\n",
                        "\t   Job finished, verifying results ... done ✅\n",
                        "\t      Results accepted, publishing ... done ✅\n",
                        "\t                                  \n",
                        "Results CID: QmaJCxwRQx3ZL8amPSVu4SbYD8kgwxWkGwdcMubUTDCQwC\n",
                        "Job Results By Node:\n",
                        "Node QmYgxZiy:\n",
                        "  Shard 0:\n",
                        "    Status: Completed\n",
                        "    Container Exit Code: 0\n",
                        "    Stdout:\n",
                        "      _______________________\n",
                        "< Look at all this data >\n",
                        " -----------------------\n",
                        "   \\\n",
                        "    \\\n",
                        "                               ,,,,_\n",
                        "                            ┌Φ▓╬▓╬▓▓▓W      @▓▓▒,\n",
                        "                           ╠▓╬▓╬╣╬╬▓╬▓▓   ╔╣╬╬▓╬╣▓,\n",
                        "                    __,┌╓═╠╬╠╬╬╬Ñ╬╬╬Ñ╬╬¼,╣╬╬▓╬╬▓╬▓▓▓┐        ╔W_             ,φ▓▓\n",
                        "               ,«@▒╠╠╠╠╩╚╙╙╩Ü╚╚╚╚╩╙╙╚╠╩╚╚╟▓▒╠╠╫╣╬╬╫╬╣▓,   _φ╬▓╬╬▓,        ,φ╣▓▓╬╬\n",
                        "          _,φÆ╩╬╩╙╚╩░╙╙░░╩`=░╙╚»»╦░=╓╙Ü1R░│░╚Ü░╙╙╚╠╠╠╣╣╬≡Φ╬▀╬╣╬╬▓▓▓_   ╓▄▓▓▓▓▓▓╬▌\n",
                        "      _,φ╬Ñ╩▌▐█[▒░░░░R░░▀░`,_`!R`````╙`-'╚Ü░░Ü░░░░░░░│││░╚╚╙╚╩╩╩╣Ñ╩╠▒▒╩╩▀▓▓╣▓▓╬╠▌\n",
                        "     '╚╩Ü╙│░░╙Ö▒Ü░░░H░░R ▒¥╣╣@@@▓▓▓  := '`   `░``````````````````````````]▓▓▓╬╬╠H\n",
                        "       '¬═▄ `░╙Ü░╠DjK` Å»»╙╣▓▓▓▓╬Ñ     -»`       -`      `  ,;╓▄╔╗∞  ~▓▓▓▀▓▓╬╬╬▌\n",
                        "             '^^^`   _╒Γ   `╙▀▓▓╨                     _, ⁿD╣▓╬╣▓╬▓╜      ╙╬▓▓╬╬▓▓\n",
                        "                 ```└                           _╓▄@▓▓▓╜   `╝╬▓▓╙           ²╣╬▓▓\n",
                        "                        %!φ(MISSING)▄╓_             ~#▓╠▓▒╬▓╬▓▓^        `                ╙╙\n",
                        "                         `╣▓▓▓              ╠╬▓╬▓╬▀`\n",
                        "                           ╚▓▌               '╨▀╜\n",
                        "    Stderr: <NONE>\n",
                        "\n",
                        "To download the results, execute:\n",
                        "  bacalhau get f5e5d231-f4ac-43fa-b47b-c0811b8297c5\n",
                        "\n",
                        "To get more details about the run, execute:\n",
                        "  bacalhau describe f5e5d231-f4ac-43fa-b47b-c0811b8297c5\n"
                    ]
                }
            ],
            "source": [
                "%%bash\n",
                "bacalhau docker run \\\n",
                "  ghcr.io/bacalhau-project/examples/codsay:v1.0.0 \\\n",
                "  -- codsay Look at all this data"
            ]
        }
    ],
    "metadata": {
        "kernelspec": {
            "display_name": "Python 3.9.7 64-bit ('3.9.7')",
            "language": "python",
            "name": "python3"
        },
        "language_info": {
            "codemirror_mode": {
                "name": "ipython",
                "version": 3
            },
            "file_extension": ".py",
            "mimetype": "text/x-python",
            "name": "python",
            "nbconvert_exporter": "python",
            "pygments_lexer": "ipython3",
            "version": "3.9.7"
        },
        "orig_nbformat": 4,
        "vscode": {
            "interpreter": {
                "hash": "21fd917facdca5c02b7d24e32528f1b4e6711465b0262edbfffba943391e1222"
            }
        }
    },
    "nbformat": 4,
    "nbformat_minor": 2
}
