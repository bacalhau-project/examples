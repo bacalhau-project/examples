{
  "cells": [
    {
      "cell_type": "raw",
      "metadata": {
        "tags": [
          "skip-execution"
        ]
      },
      "source": [
        "---\n",
        "sidebar_label: \"Python - Pandas\"\n",
        "sidebar_position: 2\n",
        "---"
      ]
    },
    {
      "cell_type": "markdown",
      "metadata": {
        "id": "U-uQZBJiEXa9",
        "tags": [
          "skip-execution"
        ]
      },
      "source": [
        "# Running Pandas on Bacalhau\n"
      ]
    },
    {
      "cell_type": "markdown",
      "metadata": {
        "tags": [
          "skip-execution"
        ]
      },
      "source": [
        "[![Open In Colab](https://colab.research.google.com/assets/colab-badge.svg)](https://colab.research.google.com/github/bacalhau-project/examples/blob/main/workload-onboarding/python-pandas/index.ipynb)\n",
        "[![Open In Binder](https://mybinder.org/badge.svg)](https://mybinder.org/v2/gh/bacalhau-project/examples/HEAD?labpath=workload-onboarding/python-pandas/index.ipynb)"
      ]
    },
    {
      "cell_type": "markdown",
      "metadata": {
        "id": "7JcAzJVmEau1",
        "tags": [
          "skip-execution"
        ]
      },
      "source": [
        "## Introduction\n",
        "\n",
        "Pandas is a Python package that provides fast, flexible, and expressive data structures designed to make working with \"relational\" or \"labeled\" data both easy and intuitive. It aims to be the fundamental high-level building block for doing practical, real world data analysis in Python. Additionally, it has the broader goal of becoming the most powerful and flexible open source data analysis/manipulation tool available in any language. It is already well on its way towards this goal.\n",
        "\n",
        "### Installing and Getting Started with Pandas\n"
      ]
    },
    {
      "cell_type": "code",
      "execution_count": null,
      "metadata": {
        "id": "iD_DesnwEodT",
        "tags": [
          "skip-execution"
        ]
      },
      "outputs": [],
      "source": [
        "%%bash\n",
        "pip install pandas"
      ]
    },
    {
      "cell_type": "markdown",
      "metadata": {
        "tags": [
          "skip-execution"
        ]
      },
      "source": [
        "### Installing Bacalhau\n",
        "\n",
        "Make sure you have the latest `bacalhau` client installed by following the [getting started instructions](../../../getting-started/installation) or using the hidden installation command below (which installs Bacalhau local to the notebook)."
      ]
    },
    {
      "cell_type": "code",
      "execution_count": null,
      "metadata": {
        "tags": [
          "skip-execution"
        ]
      },
      "outputs": [
        {
          "name": "stdout",
          "output_type": "stream",
          "text": [
            "env: PATH=./:./:./:/Users/phil/.pyenv/versions/3.9.7/bin:/opt/homebrew/Caskroom/google-cloud-sdk/latest/google-cloud-sdk/bin:/Users/phil/.gvm/bin:/opt/homebrew/opt/findutils/libexec/gnubin:/opt/homebrew/opt/coreutils/libexec/gnubin:/opt/homebrew/Caskroom/google-cloud-sdk/latest/google-cloud-sdk/bin:/Users/phil/.pyenv/shims:/opt/homebrew/bin:/opt/homebrew/sbin:/usr/local/bin:/usr/bin:/bin:/usr/sbin:/sbin:/Library/TeX/texbin:/usr/local/MacGPG2/bin:/Users/phil/.nexustools\n"
          ]
        }
      ],
      "source": [
        "!command -v bacalhau >/dev/null 2>&1 || (export BACALHAU_INSTALL_DIR=.; curl -sL https://get.bacalhau.org/install.sh | bash)\n",
        "path=!echo $PATH\n",
        "%env PATH=./:{path[0]}"
      ]
    },
    {
      "cell_type": "markdown",
      "metadata": {
        "tags": [
          "skip-execution"
        ]
      },
      "source": [
        "### Installing IPFS\n",
        "\n",
        "If you are going to upload your data using the IPFS CLI tool then you will need to install that. There are other methods, which you can read more about in the [ingestion example](../../data-ingestion/index.md)."
      ]
    },
    {
      "cell_type": "markdown",
      "metadata": {
        "id": "SWsoWlxIEwPD",
        "tags": [
          "skip-execution"
        ]
      },
      "source": [
        "## **Running your pandas script Locally**\n",
        "\n",
        "#### **Importing data from CSV to DataFrame**\n",
        "We can also create a DataFrame by importing a CSV file. A CSV file is a text file with one record of data per line. The values within the record are separated using the “comma” character. Pandas provides a useful method, named `read_csv()` to read the contents of the CSV file into a DataFrame. For example, we can create a file named ’`transactions.csv`’ containing details of Transactions. The CSV file is stored in the same directory that contains Python script.\n"
      ]
    },
    {
      "cell_type": "code",
      "execution_count": null,
      "metadata": {
        "colab": {
          "base_uri": "https://localhost:8080/"
        },
        "executionInfo": {
          "elapsed": 1217,
          "status": "ok",
          "timestamp": 1663261247850,
          "user": {
            "displayName": "Vedant Padwal",
            "userId": "05534807475078682627"
          },
          "user_tz": -330
        },
        "id": "t5tks1xQFMja",
        "outputId": "46aaf8a9-991f-429e-aae4-57fbd7ae7317",
        "scrolled": false,
        "tags": [
          "skip-execution"
        ]
      },
      "outputs": [],
      "source": [
        "%%writefile read_csv.py\n",
        "import pandas as pd\n",
        "\n",
        "print(pd.read_csv(\"transactions.csv\"))"
      ]
    },
    {
      "cell_type": "code",
      "execution_count": null,
      "metadata": {
        "colab": {
          "base_uri": "https://localhost:8080/"
        },
        "executionInfo": {
          "elapsed": 459,
          "status": "ok",
          "timestamp": 1663261253594,
          "user": {
            "displayName": "Vedant Padwal",
            "userId": "05534807475078682627"
          },
          "user_tz": -330
        },
        "id": "-FETqLfgFe0_",
        "outputId": "0ddafd30-3047-4db5-fd4f-e40c5de87cf6",
        "tags": [
          "skip-execution"
        ]
      },
      "outputs": [
        {
          "name": "stdout",
          "output_type": "stream",
          "text": [
            "import pandas as pd\n",
            "\n",
            "print(pd.read_csv(\"transactions.csv\"))"
          ]
        }
      ],
      "source": [
        "%%bash\n",
        "cat read_csv.py"
      ]
    },
    {
      "cell_type": "code",
      "execution_count": null,
      "metadata": {
        "colab": {
          "base_uri": "https://localhost:8080/"
        },
        "executionInfo": {
          "elapsed": 1285,
          "status": "ok",
          "timestamp": 1663261259098,
          "user": {
            "displayName": "Vedant Padwal",
            "userId": "05534807475078682627"
          },
          "user_tz": -330
        },
        "id": "GFfvbdL3E18R",
        "outputId": "e53a32c6-86e4-4649-f6f8-ab4eb0d2d71e",
        "tags": [
          "skip-execution"
        ]
      },
      "outputs": [
        {
          "name": "stdout",
          "output_type": "stream",
          "text": [
            "--2022-09-15 17:00:57--  https://cloudflare-ipfs.com/ipfs/QmfKJT13h5k1b23ja3ZCVg5nFL9oKz2bVXc8oXgtwiwhjz/transactions.csv\n",
            "Resolving cloudflare-ipfs.com (cloudflare-ipfs.com)... 104.17.96.13, 104.17.64.14, 2606:4700::6811:600d, ...\n",
            "Connecting to cloudflare-ipfs.com (cloudflare-ipfs.com)|104.17.96.13|:443... connected.\n",
            "HTTP request sent, awaiting response... 200 OK\n",
            "Length: 1567 (1.5K) [text/csv]\n",
            "Saving to: ‘transactions.csv’\n",
            "\n",
            "transactions.csv    100%[===================>]   1.53K  --.-KB/s    in 0s      \n",
            "\n",
            "2022-09-15 17:00:58 (37.7 MB/s) - ‘transactions.csv’ saved [1567/1567]\n",
            "\n"
          ]
        }
      ],
      "source": [
        "%%bash\n",
        "# Downloading the dataset\n",
        "wget https://cloudflare-ipfs.com/ipfs/QmfKJT13h5k1b23ja3ZCVg5nFL9oKz2bVXc8oXgtwiwhjz/transactions.csv"
      ]
    },
    {
      "cell_type": "code",
      "execution_count": null,
      "metadata": {
        "colab": {
          "base_uri": "https://localhost:8080/"
        },
        "executionInfo": {
          "elapsed": 6,
          "status": "ok",
          "timestamp": 1663261266498,
          "user": {
            "displayName": "Vedant Padwal",
            "userId": "05534807475078682627"
          },
          "user_tz": -330
        },
        "id": "U3BBfV7CFd0a",
        "outputId": "5a0248df-fadf-447e-b9e3-9bd07b26e0e0",
        "tags": [
          "skip-execution"
        ]
      },
      "outputs": [
        {
          "name": "stdout",
          "output_type": "stream",
          "text": [
            "hash,nonce,block_hash,block_number,transaction_index,from_address,to_address,value,gas,gas_price,input,block_timestamp,max_fee_per_gas,max_priority_fee_per_gas,transaction_type\n",
            "0x04cbcb236043d8fb7839e07bbc7f5eed692fb2ca55d897f1101eac3e3ad4fab8,12,0x246edb4b351d93c27926f4649bcf6c24366e2a7c7c718dc9158eea20c03bc6ae,483920,0,0x1b63142628311395ceafeea5667e7c9026c862ca,0xf4eced2f682ce333f96f2d8966c613ded8fc95dd,0,150853,50000000000,0xa9059cbb000000000000000000000000ac4df82fe37ea2187bc8c011a23d743b4f39019a00000000000000000000000000000000000000000000000000000000000186a0,1446561880,,,0\n",
            "0xcea6f89720cc1d2f46cc7a935463ae0b99dd5fad9c91bb7357de5421511cee49,84,0x246edb4b351d93c27926f4649bcf6c24366e2a7c7c718dc9158eea20c03bc6ae,483920,1,0x9b22a80d5c7b3374a05b446081f97d0a34079e7f,0xf4eced2f682ce333f96f2d8966c613ded8fc95dd,0,150853,50000000000,0xa9059cbb00000000000000000000000066f183060253cfbe45beff1e6e7ebbe318c81e560000000000000000000000000000000000000000000000000000000000030d40,1446561880,,,0\n",
            "0x463d53f0ad57677a3b430a007c1c31d15d62c37fab5eee598551697c297c235c,88,0x246edb4b351d93c27926f4649bcf6c24366e2a7c7c718dc9158eea20c03bc6ae,483920,2,0x9df428a91ff0f3635c8f0ce752933b9788926804,0x9e669f970ec0f49bb735f20799a7e7c4a1c274e2,11000440000000000,90000,50000000000,0x,1446561880,,,0\n",
            "0x05287a561f218418892ab053adfb3d919860988b19458c570c5c30f51c146f02,20085,0x246edb4b351d93c27926f4649bcf6c24366e2a7c7c718dc9158eea20c03bc6ae,483920,3,0x2a65aca4d5fc5b5c859090a6c34d164135398226,0x743b8aeedc163c0e3a0fe9f3910d146c48e70da8,1530219620000000000,90000,50000000000,0x,1446561880,,,0"
          ]
        }
      ],
      "source": [
        "%%bash\n",
        "cat transactions.csv"
      ]
    },
    {
      "cell_type": "markdown",
      "metadata": {
        "id": "gmiQMOBwGaY5",
        "tags": [
          "skip-execution"
        ]
      },
      "source": [
        "### Running the script\n"
      ]
    },
    {
      "cell_type": "code",
      "execution_count": null,
      "metadata": {
        "colab": {
          "base_uri": "https://localhost:8080/"
        },
        "executionInfo": {
          "elapsed": 957,
          "status": "ok",
          "timestamp": 1663261342062,
          "user": {
            "displayName": "Vedant Padwal",
            "userId": "05534807475078682627"
          },
          "user_tz": -330
        },
        "id": "R7Y0G8L_GMse",
        "outputId": "e151de05-7acd-43b5-c79b-5b0831f23232",
        "tags": [
          "skip-execution"
        ]
      },
      "outputs": [
        {
          "name": "stdout",
          "output_type": "stream",
          "text": [
            "                                                hash  ...  transaction_type\n",
            "0  0x04cbcb236043d8fb7839e07bbc7f5eed692fb2ca55d8...  ...                 0\n",
            "1  0xcea6f89720cc1d2f46cc7a935463ae0b99dd5fad9c91...  ...                 0\n",
            "2  0x463d53f0ad57677a3b430a007c1c31d15d62c37fab5e...  ...                 0\n",
            "3  0x05287a561f218418892ab053adfb3d919860988b1945...  ...                 0\n",
            "\n",
            "[4 rows x 15 columns]\n"
          ]
        }
      ],
      "source": [
        "%%bash\n",
        "python3 read_csv.py"
      ]
    },
    {
      "cell_type": "markdown",
      "metadata": {
        "id": "Gcvny737Giog",
        "tags": [
          "skip-execution"
        ]
      },
      "source": [
        "## **Running the script on bacalhau**\n",
        "\n",
        "To run pandas on bacalhau you must upload your datasets along with the script to IPFS this can be done by using the IPFS CLI to upload the files or using a pinning service like pinata or nft.storage\n",
        "\n",
        "Adding the Scripts and Datasets to IPFS\n",
        "since we already uploaded these scripts to IPFS there is no need for you to add them\n",
        "\n",
        "```\n",
        "$ ipfs add -r .\n",
        "added QmPqx4BaWzAmZm4AuBqGtG6dkX7bGSVgjfgpkv2g7mi3uz pandas/read_csv.py\n",
        "added QmYErPqtdpNTxpKot9pXR5QbhGSyaGdMFxfUwGHm4rzXzH pandas/transactions.csv\n",
        "added QmfKJT13h5k1b23ja3ZCVg5nFL9oKz2bVXc8oXgtwiwhjz pandas\n",
        " 1.59 KiB / 1.59 KiB [===================================================================================]\n",
        "```"
      ]
    },
    {
      "cell_type": "markdown",
      "metadata": {
        "id": "xNTXyyqUHdSs",
        "tags": [
          "skip-execution"
        ]
      },
      "source": [
        "\n",
        "For running pandas in bacalhau you need choose a container which has python and pandas Installed\n",
        "\n",
        "Structure of the bacalhau command\n",
        "\n",
        "`bacalhau docker run ` similar to docker run\n",
        "\n",
        "-v mount the CID to the container this is the \n",
        "\n",
        "CID:/&lt;PATH-TO-WHERE-THE-CID-IS-TO-BE-MOUNTED> `QmfKJT13h5k1b23ja3ZCVg5nFL9oKz2bVXc8oXgtwiwhjz:/files`\n",
        "\n",
        "-w is used to set the working directory\n",
        "\n",
        "-- /bin/bash -c 'python hello.py' (Run the script)\n",
        "\n",
        "### Command:"
      ]
    },
    {
      "cell_type": "code",
      "execution_count": null,
      "metadata": {
        "colab": {
          "base_uri": "https://localhost:8080/"
        },
        "executionInfo": {
          "elapsed": 653,
          "status": "ok",
          "timestamp": 1663261638758,
          "user": {
            "displayName": "Vedant Padwal",
            "userId": "05534807475078682627"
          },
          "user_tz": -330
        },
        "id": "uzs8k0CMGfJL",
        "outputId": "4f5d7a8e-98ee-4046-a1b3-ef221a0c6708",
        "tags": [
          "skip-execution"
        ]
      },
      "outputs": [
        {
          "name": "stdout",
          "output_type": "stream",
          "text": [
            "e6377c99-b637-4661-a334-6ce98fcf037c\n"
          ]
        }
      ],
      "source": [
        "%%bash --out job_id\n",
        " bacalhau  docker run \\\n",
        "--wait \\\n",
        "--id-only \\\n",
        "-v QmfKJT13h5k1b23ja3ZCVg5nFL9oKz2bVXc8oXgtwiwhjz:/files \\\n",
        "-w /files \\\n",
        "amancevice/pandas \\\n",
        "-- python read_csv.py"
      ]
    },
    {
      "cell_type": "code",
      "execution_count": null,
      "metadata": {
        "tags": [
          "skip-execution"
        ]
      },
      "outputs": [],
      "source": [
        "%env JOB_ID={job_id}"
      ]
    },
    {
      "cell_type": "markdown",
      "metadata": {
        "id": "opCdYFjaHrQP",
        "tags": [
          "skip-execution"
        ]
      },
      "source": [
        "Running the commands will output a UUID (like `e6377c99-b637-4661-a334-6ce98fcf037c`). This is the ID of the job that was created. You can check the status of the job with the following command:\n",
        "\n"
      ]
    },
    {
      "cell_type": "code",
      "execution_count": null,
      "metadata": {
        "colab": {
          "base_uri": "https://localhost:8080/"
        },
        "executionInfo": {
          "elapsed": 2473,
          "status": "ok",
          "timestamp": 1663261688339,
          "user": {
            "displayName": "Vedant Padwal",
            "userId": "05534807475078682627"
          },
          "user_tz": -330
        },
        "id": "MmLc6twCHngK",
        "outputId": "48493fed-2b8b-4085-b534-a7091bec79e4",
        "tags": [
          "skip-execution"
        ]
      },
      "outputs": [
        {
          "name": "stdout",
          "output_type": "stream",
          "text": [
            "\u001b[92;100m CREATED  \u001b[0m\u001b[92;100m ID       \u001b[0m\u001b[92;100m JOB                     \u001b[0m\u001b[92;100m STATE     \u001b[0m\u001b[92;100m VERIFIED \u001b[0m\u001b[92;100m PUBLISHED               \u001b[0m\n",
            "\u001b[97;40m 17:07:18 \u001b[0m\u001b[97;40m e6377c99 \u001b[0m\u001b[97;40m Docker amancevice/pa... \u001b[0m\u001b[97;40m Published \u001b[0m\u001b[97;40m          \u001b[0m\u001b[97;40m /ipfs/bafybeihaqoxj7... \u001b[0m\n"
          ]
        }
      ],
      "source": [
        "%%bash\n",
        "bacalhau list --id-filter ${JOB_ID}"
      ]
    },
    {
      "cell_type": "markdown",
      "metadata": {
        "id": "mO8wG4XMH5eA",
        "tags": [
          "skip-execution"
        ]
      },
      "source": [
        "\n",
        "Where it says \"`Published`\", that means the job is done, and we can get the results.\n",
        "\n",
        "If there is an error you can view the error using the following command bacalhau describe"
      ]
    },
    {
      "cell_type": "code",
      "execution_count": null,
      "metadata": {
        "id": "GlzbQutAHzKi",
        "tags": [
          "skip-execution"
        ]
      },
      "outputs": [],
      "source": [
        "%%bash\n",
        "bacalhau describe ${JOB_ID}"
      ]
    },
    {
      "cell_type": "markdown",
      "metadata": {
        "id": "vSEblyHIIB4T",
        "tags": [
          "skip-execution"
        ]
      },
      "source": [
        "Since there is no error we can’t see any error instead we see the state of our job to be complete\n",
        "\n",
        "we create a temporary directory to save our results"
      ]
    },
    {
      "cell_type": "code",
      "execution_count": null,
      "metadata": {
        "id": "Y06KRWLDIitN",
        "tags": [
          "skip-execution"
        ]
      },
      "outputs": [],
      "source": [
        "%%bash\n",
        "mkdir pandas-results"
      ]
    },
    {
      "cell_type": "markdown",
      "metadata": {
        "id": "3N_XsPABIncF",
        "tags": [
          "skip-execution"
        ]
      },
      "source": [
        "To Download the results of your job, run the following command:"
      ]
    },
    {
      "cell_type": "code",
      "execution_count": null,
      "metadata": {
        "colab": {
          "base_uri": "https://localhost:8080/"
        },
        "executionInfo": {
          "elapsed": 16481,
          "status": "ok",
          "timestamp": 1663262062088,
          "user": {
            "displayName": "Vedant Padwal",
            "userId": "05534807475078682627"
          },
          "user_tz": -330
        },
        "id": "iHl4-fa3H-Yt",
        "outputId": "fcfdd0e0-ad3d-4afa-b771-dea1c4b3841c",
        "tags": [
          "skip-execution"
        ]
      },
      "outputs": [
        {
          "name": "stdout",
          "output_type": "stream",
          "text": [
            "\u001b[90m17:14:05.466 |\u001b[0m \u001b[32mINF\u001b[0m \u001b[1mbacalhau/get.go:67\u001b[0m\u001b[36m >\u001b[0m Fetching results of job 'e6377c99-b637-4661-a334-6ce98fcf037c'...\n",
            "2022/09/15 17:14:06 failed to sufficiently increase receive buffer size (was: 208 kiB, wanted: 2048 kiB, got: 416 kiB). See https://github.com/lucas-clemente/quic-go/wiki/UDP-Receive-Buffer-Size for details.\n",
            "\u001b[90m17:14:16.401 |\u001b[0m \u001b[32mINF\u001b[0m \u001b[1mipfs/downloader.go:115\u001b[0m\u001b[36m >\u001b[0m Found 1 result shards, downloading to temporary folder.\n",
            "\u001b[90m17:14:21.283 |\u001b[0m \u001b[32mINF\u001b[0m \u001b[1mipfs/downloader.go:195\u001b[0m\u001b[36m >\u001b[0m Combining shard from output volume 'outputs' to final location: '/content/pandas-results'\n"
          ]
        }
      ],
      "source": [
        "%%bash\n",
        "bacalhau get ${JOB_ID}  --output-dir pandas-results"
      ]
    },
    {
      "cell_type": "markdown",
      "metadata": {
        "id": "XdU_la6dJTsf",
        "tags": [
          "skip-execution"
        ]
      },
      "source": [
        "After the download has finished you should \n",
        "see the following contents in pandas-results directory"
      ]
    },
    {
      "cell_type": "code",
      "execution_count": null,
      "metadata": {
        "colab": {
          "base_uri": "https://localhost:8080/"
        },
        "executionInfo": {
          "elapsed": 5,
          "status": "ok",
          "timestamp": 1663262118236,
          "user": {
            "displayName": "Vedant Padwal",
            "userId": "05534807475078682627"
          },
          "user_tz": -330
        },
        "id": "bpbTMhO3INLw",
        "outputId": "a7462902-9895-418d-c123-da561a5b0d1e",
        "tags": [
          "skip-execution"
        ]
      },
      "outputs": [
        {
          "name": "stdout",
          "output_type": "stream",
          "text": [
            "shards\tstderr\tstdout\tvolumes\n"
          ]
        }
      ],
      "source": [
        "%%bash\n",
        "ls pandas-results/combined_results/"
      ]
    },
    {
      "cell_type": "markdown",
      "metadata": {
        "id": "K_q10kBMJjch",
        "tags": [
          "skip-execution"
        ]
      },
      "source": [
        "The structure of the files and directories will look like this:\n",
        "\n",
        "```\n",
        ".\n",
        "├── combined_results\n",
        "│   ├── outputs\n",
        "│   ├── stderr\n",
        "│   └── stdout\n",
        "├── per_shard\n",
        "│   └── 0_node_QmSyJ8VU\n",
        "│       ├── exitCode\n",
        "│       ├── outputs\n",
        "│       ├── stderr\n",
        "│       └── stdout\n",
        "└── raw\n",
        "    └── QmY2MEETWyX77BBYBNBpUW5bjkVAyP87EotPDVW2vjHG8K\n",
        "        ├── exitCode\n",
        "        ├── outputs\n",
        "        ├── stderr\n",
        "        └── stdout\n",
        "```\n",
        "\n",
        "* `stdout` contains things printed to the console like outputs, etc.\n",
        "\n",
        "* `stderr` contains any errors. In this case, since there are no errors, it's will be empty\n",
        "\n",
        "* `outputs` folder is the volume you named when you started the job with the `-o` flag. In addition, you will always have a `outputs` volume, which is provided by default.\n",
        "\n",
        "Because your script is printed to stdout, the output will appear in the stdout file. You can read this by typing the following command:\n",
        "\n",
        "\n"
      ]
    },
    {
      "cell_type": "code",
      "execution_count": null,
      "metadata": {
        "colab": {
          "base_uri": "https://localhost:8080/"
        },
        "executionInfo": {
          "elapsed": 7,
          "status": "ok",
          "timestamp": 1663262342563,
          "user": {
            "displayName": "Vedant Padwal",
            "userId": "05534807475078682627"
          },
          "user_tz": -330
        },
        "id": "K8Od6pahJw5J",
        "outputId": "5f0a8cd8-2ee7-4c05-f106-bc80c5267811",
        "tags": [
          "skip-execution"
        ]
      },
      "outputs": [
        {
          "name": "stdout",
          "output_type": "stream",
          "text": [
            "                                                hash  ...  transaction_type\n",
            "0  0x04cbcb236043d8fb7839e07bbc7f5eed692fb2ca55d8...  ...                 0\n",
            "1  0xcea6f89720cc1d2f46cc7a935463ae0b99dd5fad9c91...  ...                 0\n",
            "2  0x463d53f0ad57677a3b430a007c1c31d15d62c37fab5e...  ...                 0\n",
            "3  0x05287a561f218418892ab053adfb3d919860988b1945...  ...                 0\n",
            "\n",
            "[4 rows x 15 columns]\n"
          ]
        }
      ],
      "source": [
        "%%bash\n",
        "cat pandas-results/combined_results/stdout"
      ]
    }
  ],
  "metadata": {
    "colab": {
      "authorship_tag": "ABX9TyPMkD4lMPwZFqll4/eh5uBe",
      "provenance": []
    },
    "kernelspec": {
      "display_name": "Python 3.9.7 64-bit ('3.9.7')",
      "language": "python",
      "name": "python3"
    },
    "language_info": {
      "codemirror_mode": {
        "name": "ipython",
        "version": 3
      },
      "file_extension": ".py",
      "mimetype": "text/x-python",
      "name": "python",
      "nbconvert_exporter": "python",
      "pygments_lexer": "ipython3",
      "version": "3.9.7"
    },
    "vscode": {
      "interpreter": {
        "hash": "21fd917facdca5c02b7d24e32528f1b4e6711465b0262edbfffba943391e1222"
      }
    }
  },
  "nbformat": 4,
  "nbformat_minor": 1
}
