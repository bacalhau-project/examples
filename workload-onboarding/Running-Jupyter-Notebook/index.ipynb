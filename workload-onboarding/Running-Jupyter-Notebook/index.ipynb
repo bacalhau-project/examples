{
  "cells": [
    {
      "cell_type": "raw",
      "metadata": {},
      "source": [
        "---\n",
        "sidebar_label: \"Running-Jupyter-Notebook\"\n",
        "sidebar_position: 3\n",
        "---"
      ]
    },
    {
      "attachments": {},
      "cell_type": "markdown",
      "metadata": {},
      "source": [
        "# Running Jupyter Notebooks on bacalhau"
      ]
    },
    {
      "attachments": {},
      "cell_type": "markdown",
      "metadata": {
        "id": "bLCZ5zq7rnXl"
      },
      "source": [
        "[![Open In Colab](https://colab.research.google.com/assets/colab-badge.svg)](https://colab.research.google.com/github/bacalhau-project/examples/blob/main/workload-onboarding/Running-Jupyter-Notebook/index.ipynb)\n",
        "[![Open In Binder](https://mybinder.org/badge.svg)](https://mybinder.org/v2/gh/bacalhau-project/examples/HEAD?labpath=workload-onboarding/Running-Jupyter-Notebook/index.ipynb)\n",
        "[![stars - badge-generator](https://img.shields.io/github/stars/bacalhau-project/bacalhau?style=social)](https://github.com/bacalhau-project/bacalhau)\n",
        "\n",
        "## Introduction\n",
        "Jupyter Notebooks have become an essential tool for data scientists, researchers, and developers for interactive computing and the development of data-driven projects. They provide an efficient way to share code, equations, visualizations, and narrative text with support for multiple programming languages. In this tutorial, we will introduce you to running Jupyter Notebooks on Bacalhau, a powerful and flexible container orchestration platform. By leveraging Bacalhau, you can execute Jupyter Notebooks in a scalable and efficient manner using Docker containers, without the need for manual setup or configuration.\n",
        "\n",
        "In the following sections, we will explore two examples of executing Jupyter Notebooks on Bacalhau:\n",
        "\n",
        "1. Executing a Simple Hello World Notebook: We will begin with a basic example to familiarize you with the process of running a Jupyter Notebook on Bacalhau. We will execute a simple \"Hello, World!\" notebook to demonstrate the steps required for running a notebook in a containerized environment.\n",
        "\n",
        "2. Notebook to Train an MNIST Model: : In this section, we will dive into a more advanced example. We will execute a Jupyter Notebook that trains a machine learning model on the popular MNIST dataset. This will showcase the potential of Bacalhau to handle more complex tasks while providing you with insights into utilizing containerized environments for your data science projects."
      ]
    },
    {
      "cell_type": "markdown",
      "metadata": {
        "id": "YV94s8Mfs6Mj"
      },
      "source": [
        "## 1. Executing a Simple Hello World Notebook\n",
        "\n",
        "There are no external dependencies that we need to install all dependencies are already there in the container\n",
        "\n",
        "### Prerequisite\n",
        "\n",
        "To get started, you need to install the Bacalhau client, see more information [here](https://docs.bacalhau.org/getting-started/installation)"
      ]
    },
    {
      "cell_type": "code",
      "execution_count": null,
      "metadata": {
        "colab": {
          "base_uri": "https://localhost:8080/"
        },
        "id": "w3s2_iwIrnAo",
        "outputId": "aaddfe5d-4036-430b-e45e-e0dca3d97e8c",
        "tags": [
          "remove_cell",
          "skip-execution"
        ]
      },
      "outputs": [],
      "source": [
        "!curl -sL https://get.bacalhau.org/install.sh | bash"
      ]
    },
    {
      "cell_type": "code",
      "execution_count": null,
      "metadata": {
        "id": "xKzdFW0tp-gl",
        "tags": [
          "skip-execution"
        ]
      },
      "outputs": [],
      "source": [
        "%%bash --out job_id\n",
        "bacalhau docker run \\\n",
        "--wait \\\n",
        "--id-only \\\n",
        "--timeout 3600 \\\n",
        "--wait-timeout-secs 3600 \\\n",
        "-w /inputs \\\n",
        "-i https://raw.githubusercontent.com/js-ts/hello-notebook/main/hello.ipynb \\\n",
        "jsacex/jupyter \\\n",
        "-- jupyter nbconvert --execute --to notebook --output /outputs/hello_output.ipynb hello.ipynb"
      ]
    },
    {
      "cell_type": "markdown",
      "metadata": {
        "id": "wky3RXHVu7aD"
      },
      "source": [
        "- `-i`: This flag stands for \"input\" and is used to provide the URL of the input Jupyter Notebook you want to execute. In this case, we are using a public gist containing the 'hello.ipynb' notebook.\n",
        "- `https://gist.githubusercontent.com/js-ts/54d1015af4cb2ec5882ada2180ec042c/raw/a4c07357db014572da2ff27628a3669bfb99ba4d/hello.ipynb`: This is the URL of the input Jupyter Notebook.\n",
        "- `jupyter/base-notebook`: This is the name of the Docker image used for running the Jupyter Notebook. It is a minimal Jupyter Notebook stack based on the official Jupyter Docker Stacks.\n",
        "- `--`: This double dash is used to separate the Bacalhau command options from the command that will be executed inside the Docker container.\n",
        "- `jupyter nbconvert`: This is the primary command used to convert and execute Jupyter Notebooks. It allows for the conversion of notebooks to various formats, including execution.\n",
        "- `--execute`: This flag tells `nbconvert` to execute the notebook and store the results in the output file.\n",
        "- `--to notebook`: This option specifies the output format. In this case, we want to keep the output as a Jupyter Notebook.\n",
        "- `--output /outputs/hello_output.ipynb`: This option specifies the path and filename for the output Jupyter Notebook, which will contain the results of the executed input notebook.\n",
        "- `/inputs/hello.ipynb`: This is the path of the input Jupyter Notebook inside the Docker container.\n"
      ]
    },
    {
      "cell_type": "code",
      "execution_count": null,
      "metadata": {
        "colab": {
          "base_uri": "https://localhost:8080/"
        },
        "id": "-48r8Pg4hFk1",
        "outputId": "3f99ec45-85c7-45e5-c586-2b463c23482b",
        "tags": [
          "remove_cell",
          "skip-execution"
        ]
      },
      "outputs": [],
      "source": [
        "%env JOB_ID={job_id}"
      ]
    },
    {
      "cell_type": "markdown",
      "metadata": {
        "id": "60896e30"
      },
      "source": [
        "## Checking the State of your Jobs"
      ]
    },
    {
      "cell_type": "markdown",
      "metadata": {
        "id": "433db3f4"
      },
      "source": [
        "- **Job status**: You can check the status of the job using `bacalhau list`. "
      ]
    },
    {
      "cell_type": "code",
      "execution_count": null,
      "metadata": {
        "colab": {
          "base_uri": "https://localhost:8080/"
        },
        "id": "4b265396-83d9-43d1-9d06-ab8f9bdb7533",
        "outputId": "dc6986a5-7eca-4311-b94a-0ecb8389170e",
        "tags": [
          "skip-execution"
        ]
      },
      "outputs": [
        {
          "name": "stdout",
          "output_type": "stream",
          "text": [
            " CREATED   ID        JOB                      STATE      VERIFIED  PUBLISHED               \n",
            " 21:33:18  2359056e  Docker jsacex/jupyte...  Completed            ipfs://QmRStuJZAwats... \n"
          ]
        }
      ],
      "source": [
        "%%bash\n",
        "bacalhau list --id-filter=${JOB_ID} --no-style"
      ]
    },
    {
      "cell_type": "markdown",
      "metadata": {
        "id": "c1d3b052-8435-410a-9bdf-cca66aa3c5ab"
      },
      "source": [
        "When it says `Published` or `Completed`, that means the job is done, and we can get the results."
      ]
    },
    {
      "cell_type": "markdown",
      "metadata": {
        "id": "febd5be3"
      },
      "source": [
        "- **Job information**: You can find out more information about your job by using `bacalhau describe`."
      ]
    },
    {
      "cell_type": "code",
      "execution_count": null,
      "metadata": {
        "id": "6fecc6bb",
        "tags": [
          "skip-execution"
        ]
      },
      "outputs": [],
      "source": [
        "%%bash\n",
        "bacalhau describe ${JOB_ID}"
      ]
    },
    {
      "cell_type": "markdown",
      "metadata": {
        "id": "f363a0c1"
      },
      "source": [
        "- **Job download**: You can download your job results directly by using `bacalhau get`. Alternatively, you can choose to create a directory to store your results. In the command below, we created a directory and downloaded our job output to be stored in that directory."
      ]
    },
    {
      "cell_type": "code",
      "execution_count": null,
      "metadata": {
        "colab": {
          "base_uri": "https://localhost:8080/"
        },
        "id": "ebdfe481-b430-426f-8fb3-fe0bfce513e8",
        "outputId": "f3e713b7-47cc-4375-b1fa-38750e1785fe",
        "tags": [
          "skip-execution"
        ]
      },
      "outputs": [
        {
          "name": "stdout",
          "output_type": "stream",
          "text": [
            "Fetching results of job '2359056e-1146-46e4-b486-731c6e006ddd'...\n",
            "\n",
            "Computing default go-libp2p Resource Manager limits based on:\n",
            "    - 'Swarm.ResourceMgr.MaxMemory': \"6.8 GB\"\n",
            "    - 'Swarm.ResourceMgr.MaxFileDescriptors': 524288\n",
            "\n",
            "Applying any user-supplied overrides on top.\n",
            "Run 'ipfs swarm limit all' to see the resulting limits.\n",
            "\n",
            "Results for job '2359056e-1146-46e4-b486-731c6e006ddd' have been written to...\n",
            "results\n"
          ]
        },
        {
          "name": "stderr",
          "output_type": "stream",
          "text": [
            "2023/04/29 21:34:11 failed to sufficiently increase receive buffer size (was: 208 kiB, wanted: 2048 kiB, got: 416 kiB). See https://github.com/quic-go/quic-go/wiki/UDP-Receive-Buffer-Size for details.\n"
          ]
        }
      ],
      "source": [
        "%%bash\n",
        "rm -rf results && mkdir results # Temporary directory to store the results\n",
        "bacalhau get ${JOB_ID} --output-dir results # Download the results"
      ]
    },
    {
      "cell_type": "markdown",
      "metadata": {
        "id": "3654d745"
      },
      "source": [
        "After the download has finished you should see the following contents in results directory."
      ]
    },
    {
      "cell_type": "code",
      "execution_count": null,
      "metadata": {
        "colab": {
          "base_uri": "https://localhost:8080/"
        },
        "id": "ddnYwrH5xASh",
        "outputId": "f1c953d8-a49a-4747-ed9f-1406bcec2e34",
        "tags": [
          "skip-execution"
        ]
      },
      "outputs": [
        {
          "name": "stdout",
          "output_type": "stream",
          "text": [
            "hello_output.nbconvert.ipynb\n"
          ]
        }
      ],
      "source": [
        "%%bash\n",
        "ls results/outputs"
      ]
    },
    {
      "cell_type": "markdown",
      "metadata": {
        "id": "uvgEagAxECzt"
      },
      "source": [
        "## 2. Running Notebook to Train an MNIST Model\n",
        "\n",
        "### Building the container (optional)\n",
        "\n",
        "#### Prerequisite\n",
        "- Install Docker on your local machine.\n",
        "- Sign up for a DockerHub account if you don't already have one.\n",
        "Steps\n",
        "\n",
        "Step 1: Create a Dockerfile\n",
        "Create a new file named Dockerfile in your project directory with the following content:\n",
        "\n",
        "```Dockerfile\n",
        "# Use the official Python image as the base image\n",
        "FROM tensorflow/tensorflow:nightly-gpu\n",
        "\n",
        "# Set the working directory in the container\n",
        "WORKDIR /\n",
        "\n",
        "RUN apt-get update -y\n",
        "\n",
        "COPY mnist.ipynb .\n",
        "# Install the Python packages\n",
        "COPY requirements.txt .\n",
        "\n",
        "RUN python3 -m pip install --upgrade pip\n",
        "\n",
        "# Install the Python packages\n",
        "RUN pip install --no-cache-dir -r requirements.txt\n",
        "\n",
        "RUN pip install -U scikit-learn\n",
        "```\n",
        "This Dockerfile creates a Docker image based on the official TensorFlow GPU-enabled image, sets the working directory to the root, updates the package list, and copies an IPython notebook (mnist.ipynb) and a requirements.txt file. It then upgrades pip and installs Python packages from the requirements.txt file, along with scikit-learn. The resulting image provides an environment ready for running the mnist.ipynb notebook with TensorFlow and scikit-learn, as well as other specified dependencies.\n",
        "\n",
        "Step 2: Build the Docker Image\n",
        "In your terminal, navigate to the directory containing the Dockerfile and run the following command to build the Docker image:\n",
        "\n",
        "```bash\n",
        "docker build -t your-dockerhub-username/jupyter-mnist-tensorflow:latest .\n",
        "```\n",
        "Replace your-dockerhub-username with your actual DockerHub username. This command will build the Docker image and tag it with your DockerHub username and the name \"your-dockerhub-username/jupyter-mnist-tensorflow\".\n",
        "\n",
        "Step 3: Push the Docker Image to DockerHub\n",
        "Once the build process is complete, Next, push the Docker image to DockerHub using the following command:\n",
        "```bash\n",
        "docker push your-dockerhub-username/jupyter-mnist-tensorflow\n",
        "```\n",
        "\n",
        "Again, replace your-dockerhub-username with your actual DockerHub username. This command will push the Docker image to your DockerHub repository."
      ]
    },
    {
      "cell_type": "markdown",
      "metadata": {
        "id": "GdvBan2b1zF7"
      },
      "source": [
        "### Running the job on bacalhau\n",
        "\n",
        "#### Prerequisite\n",
        "\n",
        "To get started, you need to install the Bacalhau client, see more information [here](https://docs.bacalhau.org/getting-started/installation)"
      ]
    },
    {
      "cell_type": "code",
      "execution_count": null,
      "metadata": {
        "id": "3bCFOSQJxyKC",
        "tags": [
          "skip-execution"
        ]
      },
      "outputs": [],
      "source": [
        "%%bash --out job_id\n",
        "bacalhau docker run \\\n",
        "--wait \\\n",
        "--id-only \\\n",
        "--timeout 3600 \\\n",
        "--wait-timeout-secs 3600 \\\n",
        " --gpu 1 \\\n",
        "-i gitlfs://huggingface.co/datasets/VedantPadwal/mnist.git \\\n",
        "jsacex/jupyter-tensorflow-mnist:v02 \\\n",
        "-- jupyter nbconvert --execute --to notebook --output /outputs/mnist_output.ipynb mnist.ipynb"
      ]
    },
    {
      "cell_type": "markdown",
      "metadata": {
        "id": "jLmmGqr34MO2"
      },
      "source": [
        "### Structure of the command\n",
        "\n",
        "* `--gpu 1`: Flag to specify the number of GPUs to use for the execution. In this case, 1 GPU will be used.\n",
        "\n",
        "* `-i gitlfs://huggingface.co/datasets/VedantPadwal/mnist.git`: The `-i` flag is used to clone the MNIST dataset from Hugging Face's repository using Git LFS. The files will be mounted inside the container.\n",
        "\n",
        "* `jsacex/jupyter-tensorflow-mnist:v02`: The name and the tag of the Docker image.\n",
        "\n",
        "* `--`: Double hyphen is used to separate the Docker command-line options from the command that will be executed inside the container.\n",
        "\n",
        "* `jupyter nbconvert --execute --to notebook --output /outputs/mnist_output.ipynb mnist.ipynb`: The command to be executed inside the container. In this case, it runs the `jupyter nbconvert` command to execute the `mnist.ipynb` notebook and save the output as `mnist_output.ipynb` in the `/outputs` directory."
      ]
    },
    {
      "cell_type": "code",
      "execution_count": null,
      "metadata": {
        "colab": {
          "base_uri": "https://localhost:8080/"
        },
        "id": "IfkGBQz54ar0",
        "outputId": "a75a9cd3-2dee-4eff-8d35-eb74dd3517d0",
        "tags": [
          "skip-execution",
          "remove_cell"
        ]
      },
      "outputs": [],
      "source": [
        "%env JOB_ID={job_id}"
      ]
    },
    {
      "cell_type": "markdown",
      "metadata": {
        "id": "19EwtN8z4ar2"
      },
      "source": [
        "## Checking the State of your Jobs"
      ]
    },
    {
      "cell_type": "markdown",
      "metadata": {
        "id": "AVu8n5tR4ar3"
      },
      "source": [
        "- **Job status**: You can check the status of the job using `bacalhau list`. "
      ]
    },
    {
      "cell_type": "code",
      "execution_count": null,
      "metadata": {
        "colab": {
          "base_uri": "https://localhost:8080/"
        },
        "id": "Ollzm_yf4ar3",
        "outputId": "991185f2-74b1-4a28-ce6e-eb27dbccfc67",
        "tags": [
          "skip-execution"
        ]
      },
      "outputs": [
        {
          "name": "stdout",
          "output_type": "stream",
          "text": [
            " CREATED   ID        JOB                      STATE      VERIFIED  PUBLISHED               \n",
            " 21:24:18  436d5f3c  Docker jsacex/jupyte...  Completed            ipfs://QmaihqFtT86oV... \n"
          ]
        }
      ],
      "source": [
        "%%bash\n",
        "bacalhau list --id-filter=${JOB_ID} --no-style"
      ]
    },
    {
      "cell_type": "markdown",
      "metadata": {
        "id": "Zud9ZwDs4ar3"
      },
      "source": [
        "When it says `Published` or `Completed`, that means the job is done, and we can get the results."
      ]
    },
    {
      "cell_type": "markdown",
      "metadata": {
        "id": "eOBu-bWw4ar4"
      },
      "source": [
        "- **Job information**: You can find out more information about your job by using `bacalhau describe`."
      ]
    },
    {
      "cell_type": "code",
      "execution_count": null,
      "metadata": {
        "id": "ptTJ-YHF4ar4",
        "tags": [
          "skip-execution"
        ]
      },
      "outputs": [],
      "source": [
        "%%bash\n",
        "bacalhau describe ${JOB_ID}"
      ]
    },
    {
      "cell_type": "markdown",
      "metadata": {
        "id": "HXMUYu8S4ar4"
      },
      "source": [
        "- **Job download**: You can download your job results directly by using `bacalhau get`. Alternatively, you can choose to create a directory to store your results. In the command below, we created a directory and downloaded our job output to be stored in that directory."
      ]
    },
    {
      "cell_type": "code",
      "execution_count": null,
      "metadata": {
        "colab": {
          "base_uri": "https://localhost:8080/"
        },
        "id": "PZ7jpERx4ar5",
        "outputId": "6a5be41a-ec3e-4b19-f619-4eb8156b5688",
        "tags": [
          "skip-execution"
        ]
      },
      "outputs": [
        {
          "name": "stdout",
          "output_type": "stream",
          "text": [
            "Fetching results of job '436d5f3c-d6b3-4de6-b031-5cbef3ed4dd5'...\n",
            "\n",
            "Computing default go-libp2p Resource Manager limits based on:\n",
            "    - 'Swarm.ResourceMgr.MaxMemory': \"6.8 GB\"\n",
            "    - 'Swarm.ResourceMgr.MaxFileDescriptors': 524288\n",
            "\n",
            "Applying any user-supplied overrides on top.\n",
            "Run 'ipfs swarm limit all' to see the resulting limits.\n",
            "\n",
            "Results for job '436d5f3c-d6b3-4de6-b031-5cbef3ed4dd5' have been written to...\n",
            "results\n"
          ]
        },
        {
          "name": "stderr",
          "output_type": "stream",
          "text": [
            "2023/04/29 21:29:42 failed to sufficiently increase receive buffer size (was: 208 kiB, wanted: 2048 kiB, got: 416 kiB). See https://github.com/quic-go/quic-go/wiki/UDP-Receive-Buffer-Size for details.\n"
          ]
        }
      ],
      "source": [
        "%%bash\n",
        "rm -rf results && mkdir results # Temporary directory to store the results\n",
        "bacalhau get ${JOB_ID} --output-dir results # Download the results"
      ]
    },
    {
      "cell_type": "markdown",
      "metadata": {
        "id": "P4jPQvNU4ar5"
      },
      "source": [
        "After the download has finished you should see the following contents in results directory."
      ]
    },
    {
      "cell_type": "code",
      "execution_count": null,
      "metadata": {
        "colab": {
          "base_uri": "https://localhost:8080/"
        },
        "id": "-bX8xpp14ar5",
        "outputId": "0cd437fb-3dd8-41aa-a924-09311eb5365c",
        "tags": [
          "skip-execution"
        ]
      },
      "outputs": [
        {
          "name": "stdout",
          "output_type": "stream",
          "text": [
            "mnist.h5\n",
            "mnist_output.nbconvert.ipynb\n"
          ]
        }
      ],
      "source": [
        "%%bash\n",
        "ls results/outputs"
      ]
    },
    {
      "attachments": {},
      "cell_type": "markdown",
      "metadata": {
        "id": "HepFG5Nr7RYT"
      },
      "source": [
        "The outputs include our trained model and the jupyter notebook with the output cells"
      ]
    }
  ],
  "metadata": {
    "colab": {
      "provenance": []
    },
    "kernelspec": {
      "display_name": "Python 3",
      "name": "python3"
    },
    "language_info": {
      "name": "python"
    }
  },
  "nbformat": 4,
  "nbformat_minor": 0
}
