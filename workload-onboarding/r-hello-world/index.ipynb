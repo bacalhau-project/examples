{
 "cells": [
  {
   "cell_type": "markdown",
   "metadata": {
    "id": "IEmk5DlZnZbt"
   },
   "source": [
    "# Running a simple R script\n",
    "\n",
    "\n",
    "# Introduction\n",
    "\n",
    "You can choose the official standard containers for each language like R\n",
    "\n",
    "and run them on bacalhau, please make sure that you have all the dependencies installed and the scripts shouldn’t make any external requests or install dependencies as networking is disabled in bacalhau\n",
    "\n",
    "\n",
    "## **Running Locally**\n",
    "\n",
    "To install R follow these instructions [A Installing R and RStudio | Hands-On Programming with R](https://rstudio-education.github.io/hopr/starting.html) \n",
    "\n",
    "After R and RStudio is installed\n",
    "\n",
    "Create a Script called hello.R"
   ]
  },
  {
   "cell_type": "markdown",
   "metadata": {},
   "source": [
    "[![Open In Colab](https://colab.research.google.com/assets/colab-badge.svg)](https://colab.research.google.com/github/bacalhau-project/examples/blob/main/workload-onboarding/r-hello-world/index.ipynb)\n",
    "[![Open In Binder](https://mybinder.org/badge.svg)](https://mybinder.org/v2/gh/bacalhau-project/examples/HEAD?labpath=workload-onboarding/r-hello-world/index.ipynb)"
   ]
  },
  {
   "cell_type": "code",
   "execution_count": null,
   "metadata": {
    "colab": {
     "base_uri": "https://localhost:8080/"
    },
    "executionInfo": {
     "elapsed": 5,
     "status": "ok",
     "timestamp": 1664646792274,
     "user": {
      "displayName": "Vedant Padwal",
      "userId": "05534807475078682627"
     },
     "user_tz": -330
    },
    "id": "jWHRw7jnnTeb",
    "outputId": "02ac6ef1-13d4-4c0d-9043-4b935b16d02a"
   },
   "outputs": [
    {
     "name": "stdout",
     "output_type": "stream",
     "text": [
      "Overwriting hello.R\n"
     ]
    }
   ],
   "source": [
    "%%writefile hello.R\n",
    "print(\"hello world\")"
   ]
  },
  {
   "cell_type": "markdown",
   "metadata": {
    "id": "9d4-3AzrnkfD"
   },
   "source": [
    "\n",
    "the print() function is used to print output in R\n",
    "\n",
    "Run the script\n"
   ]
  },
  {
   "cell_type": "code",
   "execution_count": null,
   "metadata": {
    "colab": {
     "base_uri": "https://localhost:8080/"
    },
    "executionInfo": {
     "elapsed": 535,
     "status": "ok",
     "timestamp": 1664646792806,
     "user": {
      "displayName": "Vedant Padwal",
      "userId": "05534807475078682627"
     },
     "user_tz": -330
    },
    "id": "fX8HYsa8np5r",
    "outputId": "69c62a46-0411-4464-e0e8-6b834402140f"
   },
   "outputs": [
    {
     "name": "stdout",
     "output_type": "stream",
     "text": [
      "[1] \"hello world\"\n"
     ]
    }
   ],
   "source": [
    "%%bash\n",
    "Rscript hello.R"
   ]
  },
  {
   "cell_type": "markdown",
   "metadata": {
    "id": "8cygroitoXAj"
   },
   "source": [
    "Install and start IPFS"
   ]
  },
  {
   "cell_type": "code",
   "execution_count": null,
   "metadata": {
    "id": "KL7IgC8KoRta",
    "tags": [
     "skip-execution"
    ]
   },
   "outputs": [],
   "source": [
    "%%bash\n",
    "wget https://dist.ipfs.io/go-ipfs/v0.4.2/go-ipfs_v0.4.2_linux-amd64.tar.gz\n",
    "tar xvfz go-ipfs_v0.4.2_linux-amd64.tar.gz\n",
    "mv go-ipfs/ipfs /usr/local/bin/ipfs\n",
    "ipfs init\n",
    "ipfs cat /ipfs/QmYwAPJzv5CZsnA625s3Xf2nemtYgPpHdWEz79ojWnPbdG/readme\n",
    "ipfs config Addresses.Gateway /ip4/127.0.0.1/tcp/8082\n",
    "ipfs config Addresses.API /ip4/127.0.0.1/tcp/5002\n",
    "nohup ipfs daemon > startup.log &"
   ]
  },
  {
   "cell_type": "markdown",
   "metadata": {
    "id": "fmbpfNDyofPX"
   },
   "source": [
    "\n",
    "\n",
    "If the script runs successfully, Add the hello.R script to IPFS, using the ipfs add command\n"
   ]
  },
  {
   "cell_type": "code",
   "execution_count": null,
   "metadata": {
    "colab": {
     "base_uri": "https://localhost:8080/"
    },
    "executionInfo": {
     "elapsed": 594,
     "status": "ok",
     "timestamp": 1664646922584,
     "user": {
      "displayName": "Vedant Padwal",
      "userId": "05534807475078682627"
     },
     "user_tz": -330
    },
    "id": "Wz4FDF_jomEn",
    "outputId": "da81990f-aca6-4d10-b010-e78c165d0084",
    "tags": [
     "skip-execution"
    ]
   },
   "outputs": [
    {
     "name": "stdout",
     "output_type": "stream",
     "text": [
      "\r\n",
      "21 B / 21 B  100.00 % 0\u001b[2K\r\n",
      "added QmVHSWhAL7fNkRiHfoEJGeMYjaYZUsKHvix7L54SptR8ie hello.R\n"
     ]
    }
   ],
   "source": [
    "%%bash\n",
    "ipfs add hello.R"
   ]
  },
  {
   "cell_type": "markdown",
   "metadata": {
    "id": "RfKytY2eosmv"
   },
   "source": [
    "\n",
    "\n",
    "## **Running on bacalhau**\n",
    "\n",
    "To run the script we are using r-base as a container And mounting the Uploaded CID to it\n",
    "\n",
    "Command:\n",
    "\n",
    "\n",
    "```\n",
    "bacalhau docker run \\\n",
    " -v QmQRVx3gXVLaRXywgwo8GCTQ63fHqWV88FiwEqCidmUGhk:/hello.R \\\n",
    " r-base \\\n",
    "-- Rscript hello.R\n",
    "```\n"
   ]
  },
  {
   "cell_type": "markdown",
   "metadata": {
    "id": "24HuygvzTwnT"
   },
   "source": [
    "Insalling bacalhau"
   ]
  },
  {
   "cell_type": "code",
   "execution_count": null,
   "metadata": {
    "colab": {
     "base_uri": "https://localhost:8080/"
    },
    "executionInfo": {
     "elapsed": 6377,
     "status": "ok",
     "timestamp": 1664646800566,
     "user": {
      "displayName": "Vedant Padwal",
      "userId": "05534807475078682627"
     },
     "user_tz": -330
    },
    "id": "W1joNKGJT5eN",
    "outputId": "7c1364b7-f30e-41aa-b710-c7aa60e26e5c"
   },
   "outputs": [
    {
     "name": "stdout",
     "output_type": "stream",
     "text": [
      "Your system is linux_amd64\n",
      "\n",
      "BACALHAU CLI is detected:\n",
      "Client Version: v0.2.5\n",
      "Server Version: v0.2.5\n",
      "Reinstalling BACALHAU CLI - /usr/local/bin/bacalhau...\n",
      "Getting the latest BACALHAU CLI...\n",
      "Installing v0.2.5 BACALHAU CLI...\n",
      "Downloading https://github.com/filecoin-project/bacalhau/releases/download/v0.2.5/bacalhau_v0.2.5_linux_amd64.tar.gz ...\n",
      "Downloading sig file https://github.com/filecoin-project/bacalhau/releases/download/v0.2.5/bacalhau_v0.2.5_linux_amd64.tar.gz.signature.sha256 ...\n",
      "Verified OK\n",
      "Extracting tarball ...\n",
      "NOT verifying Bin\n",
      "bacalhau installed into /usr/local/bin successfully.\n",
      "Client Version: v0.2.5\n",
      "Server Version: v0.2.5\n"
     ]
    }
   ],
   "source": [
    "%%bash\n",
    "curl -sL https://get.bacalhau.org/install.sh | bash"
   ]
  },
  {
   "cell_type": "code",
   "execution_count": null,
   "metadata": {
    "colab": {
     "base_uri": "https://localhost:8080/"
    },
    "executionInfo": {
     "elapsed": 16315,
     "status": "ok",
     "timestamp": 1664646816877,
     "user": {
      "displayName": "Vedant Padwal",
      "userId": "05534807475078682627"
     },
     "user_tz": -330
    },
    "id": "Htb8W95DU8av",
    "outputId": "444aa45f-14d8-4dbb-a02d-3d3d67b62567"
   },
   "outputs": [
    {
     "name": "stdout",
     "output_type": "stream",
     "text": [
      "c1334838-d75e-413c-b5d1-2a8cf3a0e847\n"
     ]
    }
   ],
   "source": [
    "%%bash --out job_id\n",
    "bacalhau docker run \\\n",
    "--wait \\\n",
    "--wait-timeout-secs 1000 \\\n",
    "--id-only \\\n",
    "-v QmQRVx3gXVLaRXywgwo8GCTQ63fHqWV88FiwEqCidmUGhk:/hello.R \\\n",
    "r-base \\\n",
    "-- Rscript hello.R"
   ]
  },
  {
   "cell_type": "code",
   "execution_count": null,
   "metadata": {},
   "outputs": [],
   "source": [
    "%env JOB_ID={job_id}"
   ]
  },
  {
   "cell_type": "markdown",
   "metadata": {
    "id": "UszrZGs4c4i9"
   },
   "source": [
    "\n",
    "Running the commands will output a UUID (like `54506541-4eb9-45f4-a0b1-ea0aecd34b3e`). This is the ID of the job that was created. You can check the status of the job with the following command:\n"
   ]
  },
  {
   "cell_type": "code",
   "execution_count": null,
   "metadata": {
    "colab": {
     "base_uri": "https://localhost:8080/"
    },
    "executionInfo": {
     "elapsed": 679,
     "status": "ok",
     "timestamp": 1664646817550,
     "user": {
      "displayName": "Vedant Padwal",
      "userId": "05534807475078682627"
     },
     "user_tz": -330
    },
    "id": "jY8x0oyWc6Dq",
    "outputId": "61102c39-cc76-4bcc-95f5-ac9e39b329d4"
   },
   "outputs": [
    {
     "name": "stdout",
     "output_type": "stream",
     "text": [
      "\u001b[92;100m CREATED  \u001b[0m\u001b[92;100m ID       \u001b[0m\u001b[92;100m JOB                     \u001b[0m\u001b[92;100m STATE     \u001b[0m\u001b[92;100m VERIFIED \u001b[0m\u001b[92;100m PUBLISHED               \u001b[0m\n",
      "\u001b[97;40m 17:53:19 \u001b[0m\u001b[97;40m c1334838 \u001b[0m\u001b[97;40m Docker r-base Rscrip... \u001b[0m\u001b[97;40m Completed \u001b[0m\u001b[97;40m          \u001b[0m\u001b[97;40m /ipfs/QmQ1Yci2Gbptoc... \u001b[0m\n"
     ]
    }
   ],
   "source": [
    "%%bash\n",
    "bacalhau list --id-filter ${JOB_ID}"
   ]
  },
  {
   "cell_type": "markdown",
   "metadata": {
    "id": "kFYpNA32c7t5"
   },
   "source": [
    "\n",
    "Where it says \"`Published `\", that means the job is done, and we can get the results.\n",
    "\n",
    "To find out more information about your job, run the following command:"
   ]
  },
  {
   "cell_type": "code",
   "execution_count": null,
   "metadata": {
    "colab": {
     "base_uri": "https://localhost:8080/"
    },
    "executionInfo": {
     "elapsed": 9,
     "status": "ok",
     "timestamp": 1664646817550,
     "user": {
      "displayName": "Vedant Padwal",
      "userId": "05534807475078682627"
     },
     "user_tz": -330
    },
    "id": "FDnxNH3lVbG1",
    "outputId": "17671ebf-7d92-4d33-8933-71d8b5be9277"
   },
   "outputs": [
    {
     "name": "stdout",
     "output_type": "stream",
     "text": [
      "JobAPIVersion: \"\"\n",
      "ID: c1334838-d75e-413c-b5d1-2a8cf3a0e847\n",
      "RequesterNodeID: QmYgxZiySj3MRkwLSL4X2MF5F9f2PMhAE3LV49XkfNL1o3\n",
      "ClientID: 2f3ace1e78ecef12af7b0547496393f45508eb8ab9c5c71dbcd56a867dab46cb\n",
      "Spec:\n",
      "    Engine: 2\n",
      "    Verifier: 1\n",
      "    Publisher: 4\n",
      "    Docker:\n",
      "        Image: r-base\n",
      "        Entrypoint:\n",
      "            - Rscript\n",
      "            - hello.R\n",
      "    inputs:\n",
      "        - Engine: 1\n",
      "          Cid: QmQRVx3gXVLaRXywgwo8GCTQ63fHqWV88FiwEqCidmUGhk\n",
      "          path: /hello.R\n",
      "    outputs:\n",
      "        - Engine: 1\n",
      "          Name: outputs\n",
      "          path: /outputs\n",
      "    Sharding:\n",
      "        BatchSize: 1\n",
      "        GlobPatternBasePath: /inputs\n",
      "Deal:\n",
      "    Concurrency: 1\n",
      "CreatedAt: 2022-10-01T17:53:19.581955821Z\n",
      "JobState:\n",
      "    Nodes:\n",
      "        QmXaXu9N5GNetatsvwnTfQqNtSeKAD6uCmarbh3LMRYAcF:\n",
      "            Shards:\n",
      "                0:\n",
      "                    NodeId: QmXaXu9N5GNetatsvwnTfQqNtSeKAD6uCmarbh3LMRYAcF\n",
      "                    ShardIndex: 0\n",
      "                    State: 7\n",
      "                    Status: 'Got results proposal of length: 0'\n",
      "                    VerificationProposal: []\n",
      "                    VerificationResult:\n",
      "                        Complete: true\n",
      "                        Result: true\n",
      "                    PublishedResults:\n",
      "                        Engine: 1\n",
      "                        Name: job-c1334838-d75e-413c-b5d1-2a8cf3a0e847-shard-0-host-QmXaXu9N5GNetatsvwnTfQqNtSeKAD6uCmarbh3LMRYAcF\n",
      "                        Cid: QmQ1Yci2GbptoccHy46txBK28gtnbKcb7nvFNHYpS6Gbn7\n",
      "                    RunOutput:\n",
      "                        Stdout: '[1] \"hello world\"'\n",
      "                        StdoutTruncated: false\n",
      "                        Stderr: \"\"\n",
      "                        StderrTruncated: false\n",
      "                        ExitCode: 0\n",
      "                        RunnerError: \"\"\n"
     ]
    }
   ],
   "source": [
    "%%bash\n",
    "bacalhau describe  ${JOB_ID}"
   ]
  },
  {
   "cell_type": "markdown",
   "metadata": {
    "id": "2I4DHnt0Vzua"
   },
   "source": [
    "Since there is no error we can’t see any error instead we see the state of our job to be complete, that means \n",
    "we can download the results!\n",
    "we create a temporary directory to save our results"
   ]
  },
  {
   "cell_type": "code",
   "execution_count": null,
   "metadata": {
    "colab": {
     "base_uri": "https://localhost:8080/"
    },
    "executionInfo": {
     "elapsed": 5,
     "status": "ok",
     "timestamp": 1664646817550,
     "user": {
      "displayName": "Vedant Padwal",
      "userId": "05534807475078682627"
     },
     "user_tz": -330
    },
    "id": "9fXo1Vv8V84j",
    "outputId": "d0fd6bb5-6850-4925-c60b-c9d6c55ddf96"
   },
   "outputs": [
    {
     "name": "stdout",
     "output_type": "stream",
     "text": [
      "mkdir: cannot create directory ‘results’: File exists\n"
     ]
    }
   ],
   "source": [
    "%%bash\n",
    "mkdir results"
   ]
  },
  {
   "cell_type": "markdown",
   "metadata": {
    "id": "6SuXkeV-WD7j"
   },
   "source": [
    "To Download the results of your job, run \n",
    "\n",
    "---\n",
    "\n",
    "the following command:"
   ]
  },
  {
   "cell_type": "code",
   "execution_count": null,
   "metadata": {
    "colab": {
     "base_uri": "https://localhost:8080/"
    },
    "executionInfo": {
     "elapsed": 12394,
     "status": "ok",
     "timestamp": 1664646829942,
     "user": {
      "displayName": "Vedant Padwal",
      "userId": "05534807475078682627"
     },
     "user_tz": -330
    },
    "id": "Ha5UFWLYV_5R",
    "outputId": "4de5e5f7-251b-4af9-ccea-87496ea88e41"
   },
   "outputs": [
    {
     "name": "stdout",
     "output_type": "stream",
     "text": [
      "\u001b[90m17:53:36.606 |\u001b[0m \u001b[32mINF\u001b[0m \u001b[1mbacalhau/get.go:67\u001b[0m\u001b[36m >\u001b[0m Fetching results of job 'c1334838-d75e-413c-b5d1-2a8cf3a0e847'...\n",
      "2022/10/01 17:53:36 failed to sufficiently increase receive buffer size (was: 208 kiB, wanted: 2048 kiB, got: 416 kiB). See https://github.com/lucas-clemente/quic-go/wiki/UDP-Receive-Buffer-Size for details.\n",
      "\u001b[90m17:53:46.792 |\u001b[0m \u001b[32mINF\u001b[0m \u001b[1mipfs/downloader.go:115\u001b[0m\u001b[36m >\u001b[0m Found 1 result shards, downloading to temporary folder.\n",
      "\u001b[90m17:53:48.178 |\u001b[0m \u001b[32mINF\u001b[0m \u001b[1mipfs/downloader.go:195\u001b[0m\u001b[36m >\u001b[0m Combining shard from output volume 'outputs' to final location: '/content/results'\n"
     ]
    }
   ],
   "source": [
    "%%bash\n",
    "bacalhau get ${JOB_ID} --output-dir results"
   ]
  },
  {
   "cell_type": "markdown",
   "metadata": {
    "id": "nrZcHon2WOd-"
   },
   "source": [
    "After the download has finished you should \n",
    "see the following contents in results directory"
   ]
  },
  {
   "cell_type": "code",
   "execution_count": null,
   "metadata": {
    "colab": {
     "base_uri": "https://localhost:8080/"
    },
    "executionInfo": {
     "elapsed": 14,
     "status": "ok",
     "timestamp": 1664646829943,
     "user": {
      "displayName": "Vedant Padwal",
      "userId": "05534807475078682627"
     },
     "user_tz": -330
    },
    "id": "C5EmAu29WRpa",
    "outputId": "885aea35-16bf-4654-f0e8-b70b0aaba6a4"
   },
   "outputs": [
    {
     "name": "stdout",
     "output_type": "stream",
     "text": [
      "shards\tstderr\tstdout\tvolumes\n"
     ]
    }
   ],
   "source": [
    "%%bash\n",
    "ls results/"
   ]
  },
  {
   "cell_type": "markdown",
   "metadata": {
    "id": "R3lb_C4WpSOC"
   },
   "source": [
    "Viewing the result"
   ]
  },
  {
   "cell_type": "code",
   "execution_count": null,
   "metadata": {
    "colab": {
     "base_uri": "https://localhost:8080/"
    },
    "executionInfo": {
     "elapsed": 10,
     "status": "ok",
     "timestamp": 1664646829943,
     "user": {
      "displayName": "Vedant Padwal",
      "userId": "05534807475078682627"
     },
     "user_tz": -330
    },
    "id": "QUwFx8EkpTy7",
    "outputId": "4ea5b068-c586-443a-eedf-3fb9d584a7d0"
   },
   "outputs": [
    {
     "name": "stdout",
     "output_type": "stream",
     "text": [
      "[1] \"hello world\"\n"
     ]
    }
   ],
   "source": [
    "%%bash\n",
    "cat results/combined_results/stdout"
   ]
  },
  {
   "cell_type": "markdown",
   "metadata": {
    "id": "7ZhBGAcopkNM"
   },
   "source": [
    "\n",
    "\n",
    "Mounting the script from a URL in this case a github gist\n",
    "\n",
    "Command:\n",
    "\n",
    "\n",
    "```\n",
    "bacalhau docker run \\\n",
    "-u https://gist.github.com/js-ts/7a865dda1e1f968e4de86fcc4e710dad:/hello.R \\\n",
    "r-base \\\n",
    "-- Rscript hello.R\n",
    "```\n",
    "\n"
   ]
  },
  {
   "cell_type": "code",
   "execution_count": null,
   "metadata": {
    "id": "0_DRSYbqKePQ"
   },
   "outputs": [],
   "source": [
    "%%bash\n",
    "bacalhau describe ${JOB_ID} --spec > job.yaml"
   ]
  },
  {
   "cell_type": "code",
   "execution_count": null,
   "metadata": {
    "id": "HWaY9_LjKiSO"
   },
   "outputs": [],
   "source": [
    "%%bash\n",
    "cat job.yaml"
   ]
  }
 ],
 "metadata": {
  "celltoolbar": "Tags",
  "colab": {
   "authorship_tag": "ABX9TyMacc5STeh3Fr3i+7Fmyref",
   "provenance": []
  },
  "kernelspec": {
   "display_name": "Python 3.10.6 64-bit",
   "language": "python",
   "name": "python3"
  },
  "language_info": {
   "codemirror_mode": {
    "name": "ipython",
    "version": 3
   },
   "file_extension": ".py",
   "mimetype": "text/x-python",
   "name": "python",
   "nbconvert_exporter": "python",
   "pygments_lexer": "ipython3",
   "version": "3.10.6"
  },
  "vscode": {
   "interpreter": {
    "hash": "916dbcbb3f70747c44a77c7bcd40155683ae19c65e1c03b4aa3499c5328201f1"
   }
  }
 },
 "nbformat": 4,
 "nbformat_minor": 1
}
