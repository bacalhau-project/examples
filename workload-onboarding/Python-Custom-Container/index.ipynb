{
  "cells": [
    {
      "cell_type": "raw",
      "metadata": {},
      "source": [
        "---\n",
        "sidebar_label: \"Python-Custom-Container\"\n",
        "sidebar_position: 5\n",
        "---"
      ]
    },
    {
      "cell_type": "markdown",
      "metadata": {
        "id": "zV12nSsqNBsO"
      },
      "source": [
        "# Building and Running Custom Python  Container\n"
      ]
    },
    {
      "attachments": {},
      "cell_type": "markdown",
      "metadata": {},
      "source": [
        "[![Open In Colab](https://colab.research.google.com/assets/colab-badge.svg)](https://colab.research.google.com/github/bacalhau-project/examples/blob/main/workload-onboarding/Python-Custom-Container/index.ipynb)\n",
        "[![Open In Binder](https://mybinder.org/badge.svg)](https://mybinder.org/v2/gh/bacalhau-project/examples/HEAD?labpath=workload-onboarding/Python-Custom-Container/index.ipynb)\n",
        "[![stars - badge-generator](https://img.shields.io/github/stars/bacalhau-project/bacalhau?style=social)](https://github.com/bacalhau-project/bacalhau)"
      ]
    },
    {
      "cell_type": "markdown",
      "metadata": {
        "id": "h9P9U11ANDf0"
      },
      "source": [
        "## **Introduction**\n"
      ]
    },
    {
      "attachments": {},
      "cell_type": "markdown",
      "metadata": {
        "id": "JMnJRIzlNA15"
      },
      "source": [
        "In this tutorial example, we will walk you through building your own docker container and running the container on the bacalhau network.\n",
        "\n",
        "## TD;LR\n",
        "Running python container on Bacalhau\n",
        "\n",
        "## Prerequisites\n",
        "\n",
        "To get started, you need to install the Bacalhau client, see more information [here](https://docs.bacalhau.org/getting-started/installation)\n",
        "\n",
        "## Sample Recommendation Dataset\n",
        "\n",
        "We will using a simple recommendation script that when given a movie ID will recommend other movies based on user ratings. Assuming you want if recommendations for the movie Toy Story (1995) it will recommend movies from similar categories:\n",
        "\n",
        "```\n",
        "Recommendations for Toy Story (1995):\n",
        "1  :  Toy Story (1995)\n",
        "58  :  Postino, Il (The Postman) (1994)\n",
        "3159  :  Fantasia 2000 (1999)\n",
        "359  :  I Like It Like That (1994)\n",
        "756  :  Carmen Miranda: Bananas Is My Business (1994)\n",
        "618  :  Two Much (1996)\n",
        "48  :  Pocahontas (1995)\n",
        "2695  :  Boys, The (1997)\n",
        "2923  :  Citizen's Band (a.k.a. Handle with Care) (1977)\n",
        "688  :  Operation Dumbo Drop (1995)\n",
        "```\n"
      ]
    },
    {
      "attachments": {},
      "cell_type": "markdown",
      "metadata": {
        "id": "jU7eSd3vNAhO"
      },
      "source": [
        "\n",
        "### Downloading the dataset\n",
        "\n",
        "Download Movielens1M dataset from this link [https://files.grouplens.org/datasets/movielens/ml-1m.zip](https://files.grouplens.org/datasets/movielens/ml-1m.zip)"
      ]
    },
    {
      "cell_type": "code",
      "execution_count": null,
      "metadata": {
        "colab": {
          "base_uri": "https://localhost:8080/"
        },
        "id": "d2JvTK8WPGjK",
        "outputId": "5af4181f-aa29-49fd-bae9-32ad17ad23a4",
        "tags": [
          "skip-execution"
        ]
      },
      "outputs": [],
      "source": [
        "!wget https://files.grouplens.org/datasets/movielens/ml-1m.zip"
      ]
    },
    {
      "attachments": {},
      "cell_type": "markdown",
      "metadata": {},
      "source": [
        "In this example we’ll be using 2 files from the MovieLens 1M dataset: ratings.dat and movies.dat. After the dataset is downloaded extract the zip and place ratings.dat and movies.dat into a folder called input\n",
        "\n",
        "The structure of input directory should be\n",
        "\n",
        "```\n",
        "input\n",
        "├── movies.dat\n",
        "└── ratings.dat\n",
        "```"
      ]
    },
    {
      "cell_type": "code",
      "execution_count": null,
      "metadata": {
        "colab": {
          "base_uri": "https://localhost:8080/"
        },
        "id": "sFPEGRGxPQVJ",
        "outputId": "0130c7e6-da96-4cc4-efa2-1308cd971295",
        "tags": [
          "skip-execution"
        ]
      },
      "outputs": [],
      "source": [
        "# Extracting the downloaded zip file\n",
        "!unzip ml-1m.zip"
      ]
    },
    {
      "cell_type": "code",
      "execution_count": null,
      "metadata": {
        "id": "s9tDjvTlPc9Q",
        "tags": [
          "skip-execution"
        ]
      },
      "outputs": [],
      "source": [
        "#moving  ratings.dat and movies.dat into a folder called 'input'\n",
        "!mkdir input; mv ml-1m/movies.dat ml-1m/ratings.dat input/"
      ]
    },
    {
      "attachments": {},
      "cell_type": "markdown",
      "metadata": {
        "id": "2ig2GvdRNZS_"
      },
      "source": [
        "\n",
        "### Installing Dependencies\n",
        "\n",
        "Create a `requirements.txt` for the Python libraries we’ll be using:"
      ]
    },
    {
      "cell_type": "code",
      "execution_count": null,
      "metadata": {
        "id": "Hl8FgxjmM6k1",
        "tags": [
          "skip-execution"
        ]
      },
      "outputs": [],
      "source": [
        "%%writefile requirements.txt\n",
        "numpy\n",
        "pandas"
      ]
    },
    {
      "cell_type": "markdown",
      "metadata": {
        "id": "RO_Yo1_cNz09"
      },
      "source": [
        "To install the dependencies run the command\n"
      ]
    },
    {
      "cell_type": "code",
      "execution_count": null,
      "metadata": {
        "id": "q0PCgH2bN13T",
        "tags": [
          "skip-execution"
        ]
      },
      "outputs": [],
      "source": [
        "%%bash\n",
        "pip install -r requirements.txt"
      ]
    },
    {
      "attachments": {},
      "cell_type": "markdown",
      "metadata": {
        "id": "fq_tiopcN6Yy"
      },
      "source": [
        "### Writing the Script\n",
        "\n",
        "Create a new file called `similar-movies.py` and in it paste the following script"
      ]
    },
    {
      "cell_type": "code",
      "execution_count": null,
      "metadata": {
        "id": "rUtJQ-l4N_lf",
        "tags": [
          "skip-execution"
        ]
      },
      "outputs": [],
      "source": [
        "%%writefile similar-movies.py\n",
        "# Imports\n",
        "import numpy as np\n",
        "import pandas as pd\n",
        "import argparse\n",
        "from distutils.dir_util import mkpath\n",
        "import warnings\n",
        "warnings.filterwarnings(\"ignore\")\n",
        "# Read the files with pandas\n",
        "data = pd.io.parsers.read_csv('input/ratings.dat',\n",
        "names=['user_id', 'movie_id', 'rating', 'time'],\n",
        "engine='python', delimiter='::', encoding='latin-1')\n",
        "movie_data = pd.io.parsers.read_csv('input/movies.dat',\n",
        "names=['movie_id', 'title', 'genre'],\n",
        "engine='python', delimiter='::', encoding='latin-1')\n",
        "\n",
        "# Create the ratings matrix of shape (m×u) with rows as movies and columns as users\n",
        "\n",
        "ratings_mat = np.ndarray(\n",
        "shape=((np.max(data.movie_id.values)), np.max(data.user_id.values)),\n",
        "dtype=np.uint8)\n",
        "ratings_mat[data.movie_id.values-1, data.user_id.values-1] = data.rating.values\n",
        "\n",
        "# Normalise matrix (subtract mean off)\n",
        "\n",
        "normalised_mat = ratings_mat - np.asarray([(np.mean(ratings_mat, 1))]).T\n",
        "\n",
        "# Compute SVD\n",
        "\n",
        "normalised_mat = ratings_mat - np.matrix(np.mean(ratings_mat, 1)).T\n",
        "cov_mat = np.cov(normalised_mat)\n",
        "evals, evecs = np.linalg.eig(cov_mat)\n",
        "\n",
        "# Calculate cosine similarity, sort by most similar and return the top N.\n",
        "\n",
        "def top_cosine_similarity(data, movie_id, top_n=10):\n",
        "   \n",
        "index = movie_id - 1\n",
        "# Movie id starts from 1\n",
        "   \n",
        "movie_row = data[index, :]\n",
        "magnitude = np.sqrt(np.einsum('ij, ij -> i', data, data))\n",
        "similarity = np.dot(movie_row, data.T) / (magnitude[index] * magnitude)\n",
        "sort_indexes = np.argsort(-similarity)\n",
        "return sort_indexes[:top_n]\n",
        "\n",
        "# Helper function to print top N similar movies\n",
        "def print_similar_movies(movie_data, movie_id, top_indexes):\n",
        "print('Recommendations for {0}: \\n'.format(\n",
        "movie_data[movie_data.movie_id == movie_id].title.values[0]))\n",
        "for id in top_indexes + 1:\n",
        "print(str(id),' : ',movie_data[movie_data.movie_id == id].title.values[0])\n",
        "\n",
        "\n",
        "parser = argparse.ArgumentParser(description='Personal information')\n",
        "parser.add_argument('--k', dest='k', type=int, help='principal components to represent the movies',default=50)\n",
        "parser.add_argument('--id', dest='id', type=int, help='Id of the movie',default=1)\n",
        "parser.add_argument('--n', dest='n', type=int, help='No of recommendations',default=10)\n",
        "\n",
        "args = parser.parse_args()\n",
        "k = args.k\n",
        "movie_id = args.id # Grab an id from movies.dat\n",
        "top_n = args.n\n",
        "\n",
        "# k = 50\n",
        "# # Grab an id from movies.dat\n",
        "# movie_id = 1\n",
        "# top_n = 10\n",
        "\n",
        "sliced = evecs[:, :k] # representative data\n",
        "top_indexes = top_cosine_similarity(sliced, movie_id, top_n)\n",
        "print_similar_movies(movie_data, movie_id, top_indexes)"
      ]
    },
    {
      "attachments": {},
      "cell_type": "markdown",
      "metadata": {
        "id": "GSfSljOlOWxZ"
      },
      "source": [
        "\n",
        "What the similar-movies.py script does\n",
        "\n",
        "* Read the files with pandas\n",
        "* Create the ratings matrix of shape (m×u) with rows as movies and columns as user\n",
        "* Normalise matrix (subtract mean off)\n",
        "* Compute SVD\n",
        "* Calculate cosine similarity, sort by most similar and return the top N.\n",
        "* Select k principal components to represent the movies, a movie_id to find recommendations and print the top_n results.\n",
        "\n",
        "For further reading on how the script works, go to [Simple Movie Recommender Using SVD | Alyssa](https://alyssaq.github.io/2015/20150426-simple-movie-recommender-using-svd/)"
      ]
    },
    {
      "attachments": {},
      "cell_type": "markdown",
      "metadata": {
        "id": "YY4k-R-xObIe"
      },
      "source": [
        "\n",
        "### Running the Script\n",
        "\n",
        "Running the script similar-movies.py using the default values you can also use other flags to set your own values\n"
      ]
    },
    {
      "cell_type": "code",
      "execution_count": null,
      "metadata": {
        "id": "5EglscyQOzgb",
        "tags": [
          "skip-execution"
        ]
      },
      "outputs": [],
      "source": [
        "! python similar-movies.py"
      ]
    },
    {
      "attachments": {},
      "cell_type": "markdown",
      "metadata": {
        "id": "ifea4e2TO68d"
      },
      "source": [
        "## Setting Up Docker\n",
        "\n",
        "We will create a  `Dockerfile` and add the desired configuration to the file. These commands specify how the image will be built, and what extra requirements will be included."
      ]
    },
    {
      "cell_type": "code",
      "execution_count": null,
      "metadata": {
        "id": "F-uF7RY6O75F",
        "tags": [
          "skip-execution"
        ]
      },
      "outputs": [],
      "source": [
        "%%writefile Dockerfile\n",
        "FROM python:3.8\n",
        "ADD similar-movies.py .\n",
        "ADD /input input\n",
        "COPY ./requirements.txt /requirements.txt\n",
        "RUN pip install -r requirements.txt"
      ]
    },
    {
      "attachments": {},
      "cell_type": "markdown",
      "metadata": {
        "id": "ynbIvLBWRJxe"
      },
      "source": [
        "\n",
        "We will use the python:3.8 docker image and add our script `similar-movies.py` to copy the script to the docker image, similarly we also add the dataset directory and also the requirements, after that run the command to install the dependencies in the image\n",
        "\n",
        "The final folder structure will look like this: \n",
        "\n",
        "\n",
        "```\n",
        "├── Dockerfile\n",
        "├── input\n",
        "│   ├── movies.dat\n",
        "│   └── ratings.dat\n",
        "├── requirements.txt\n",
        "└── similar-movies.py\n",
        "```\n"
      ]
    },
    {
      "attachments": {},
      "cell_type": "markdown",
      "metadata": {
        "id": "Zs2d88iyRNIV"
      },
      "source": [
        ":::info\n",
        "See more information on how to containerize your script/app [here](https://docs.docker.com/get-started/02_our_app/)\n",
        ":::\n",
        "\n",
        "### Build the container\n",
        "\n",
        "We will run `docker build` command to build the container;\n",
        "\n",
        "```\n",
        "docker build -t <hub-user>/<repo-name>:<tag> .\n",
        "```\n",
        "\n",
        "Before running the command replace;\n",
        "\n",
        "- **hub-user** with your docker hub username, If you don’t have a docker hub account [follow these instructions to create docker account](https://docs.docker.com/docker-id/), and use the username of the account you created\n",
        "\n",
        "- **repo-name** with the name of the container, you can name it anything you want\n",
        "\n",
        "- **tag** this is not required but you can use the latest tag\n",
        "\n",
        "In our case\n",
        "\n",
        "```bash\n",
        "docker build -t jsace/python-similar-movies\n",
        "```\n",
        "\n",
        "### Push the container\n",
        "\n",
        "Next, upload the image to the registry. This can be done by using the Docker hub username, repo name or tag.\n",
        "\n",
        "```\n",
        "docker push <hub-user>/<repo-name>:<tag>\n",
        "```\n",
        "\n",
        "In our case\n",
        "\n",
        "```bash\n",
        "docker push jsace/python-similar-movies\n",
        "```"
      ]
    },
    {
      "attachments": {},
      "cell_type": "markdown",
      "metadata": {
        "id": "j7mBHBsaS0gO"
      },
      "source": [
        "## Running a Bacalhau Job\n",
        "\n",
        "After the repo image has been pushed to docker hub, we can now use the container for running on Bacalhau. You can submit a Bacalhau job using by running your container on bacalhau with default or custom parameters"
      ]
    },
    {
      "attachments": {},
      "cell_type": "markdown",
      "metadata": {},
      "source": [
        "### Running the Container with Default Parameters"
      ]
    },
    {
      "attachments": {},
      "cell_type": "markdown",
      "metadata": {
        "id": "TMVUkihxUAxT"
      },
      "source": [
        "To submit a Bacalhau job by running your container on bacalhau with default parameters, run the following Bacalhau command:"
      ]
    },
    {
      "cell_type": "code",
      "execution_count": null,
      "metadata": {
        "colab": {
          "base_uri": "https://localhost:8080/"
        },
        "id": "DZYy3KqTRN-z",
        "outputId": "f6ca7b0b-bf08-49ae-9c32-bbe41220db98",
        "tags": [
          "skip-execution"
        ]
      },
      "outputs": [],
      "source": [
        "%%bash --out job_id\n",
        "bacalhau docker run \\\n",
        "--id-only \\\n",
        "--wait \\\n",
        "jsace/python-similar-movies \\\n",
        "-- python similar-movies.py"
      ]
    },
    {
      "attachments": {},
      "cell_type": "markdown",
      "metadata": {},
      "source": [
        "### Structure of the command\n",
        "\n",
        "Let's look closely at the command above:\n",
        "\n",
        "* `bacalhau docker run`: call to bacalhau \n",
        "\n",
        "* `jsace/python-similar-movies`: the name and the tag of the docker image we are using\n",
        "\n",
        "* `-- python similar-movies.py`: execute the python script"
      ]
    },
    {
      "attachments": {},
      "cell_type": "markdown",
      "metadata": {},
      "source": [
        "When a job is submitted, Bacalhau prints out the related `job_id`. We store that in an environment variable so that we can reuse it later on."
      ]
    },
    {
      "cell_type": "code",
      "execution_count": null,
      "metadata": {
        "colab": {
          "base_uri": "https://localhost:8080/"
        },
        "id": "iWfPxY9HMkmX",
        "outputId": "647eac06-eeae-4c5e-d9d3-04459f9cce5b",
        "tags": [
          "skip-execution",
          "remove_cell"
        ]
      },
      "outputs": [],
      "source": [
        "%%env JOB_ID={job_id}"
      ]
    },
    {
      "attachments": {},
      "cell_type": "markdown",
      "metadata": {},
      "source": [
        "### Running the Container with Custom Parameters"
      ]
    },
    {
      "attachments": {},
      "cell_type": "markdown",
      "metadata": {},
      "source": [
        "To submit a Bacalhau job by running your container on bacalhau with custom parameters, run the following Bacalhau command:"
      ]
    },
    {
      "attachments": {},
      "cell_type": "markdown",
      "metadata": {
        "id": "N6oIjUz9TEiq"
      },
      "source": [
        "\n",
        "```\n",
        "bacalhau docker run \\\n",
        "jsace/python-similar-movies \\\n",
        "-- python similar-movies.py --k 50 --id 10 --n 10\n",
        "```"
      ]
    },
    {
      "attachments": {},
      "cell_type": "markdown",
      "metadata": {},
      "source": [
        "### Structure of the command\n",
        "\n",
        "Let's look closely at the command above:\n",
        "\n",
        "* `bacalhau docker run`: call to bacalhau \n",
        "\n",
        "* `jsace/python-similar-movies`: the name and the tag of the docker image we are using\n",
        "\n",
        "* `-- python similar-movies.py --k 50 --id 10 --n 10`: execute the python script"
      ]
    },
    {
      "attachments": {},
      "cell_type": "markdown",
      "metadata": {},
      "source": [
        "## Checking the State of your Jobs"
      ]
    },
    {
      "attachments": {},
      "cell_type": "markdown",
      "metadata": {},
      "source": [
        "- **Job status**: You can check the status of the job using `bacalhau list`. "
      ]
    },
    {
      "cell_type": "code",
      "execution_count": null,
      "metadata": {
        "colab": {
          "base_uri": "https://localhost:8080/"
        },
        "id": "tFCZWmavU8AN",
        "outputId": "c8868b56-1a92-4ff2-a426-eba7447be6f5",
        "tags": [
          "skip-execution"
        ]
      },
      "outputs": [],
      "source": [
        "%%bash\n",
        "bacalhau list --id-filter ${JOB_ID}"
      ]
    },
    {
      "attachments": {},
      "cell_type": "markdown",
      "metadata": {
        "id": "kFYpNA32c7t5"
      },
      "source": [
        "When it says `Published` or `Completed`, that means the job is done, and we can get the results."
      ]
    },
    {
      "attachments": {},
      "cell_type": "markdown",
      "metadata": {},
      "source": [
        "- **Job information**: You can find out more information about your job by using `bacalhau describe`."
      ]
    },
    {
      "cell_type": "code",
      "execution_count": null,
      "metadata": {
        "id": "z7wlx10bMkmY",
        "tags": [
          "skip-execution"
        ]
      },
      "outputs": [],
      "source": [
        "%%bash\n",
        "bacalhau describe ${JOB_ID}"
      ]
    },
    {
      "attachments": {},
      "cell_type": "markdown",
      "metadata": {
        "id": "2I4DHnt0Vzua"
      },
      "source": [
        "- **Job download**: You can download your job results directly by using `bacalhau get`. Alternatively, you can choose to create a directory to store your results. In the command below, we created a directory and downloaded our job output to be stored in that directory."
      ]
    },
    {
      "cell_type": "code",
      "execution_count": null,
      "metadata": {
        "colab": {
          "base_uri": "https://localhost:8080/"
        },
        "id": "9-uJ7_F7MkmY",
        "outputId": "3b1c762e-1d77-491d-b9ab-17d6b27ba6af",
        "tags": [
          "skip-execution"
        ]
      },
      "outputs": [],
      "source": [
        "%%bash\n",
        "rm -rf results && mkdir -p results\n",
        "bacalhau get $JOB_ID --output-dir results"
      ]
    },
    {
      "attachments": {},
      "cell_type": "markdown",
      "metadata": {
        "id": "HEtmR7a6WVuD"
      },
      "source": [
        "## Viewing your Job Output\n",
        "\n",
        "Each job creates 3 subfolders: the **combined_results**,**per_shard files**, and the **raw** directory. To view the file, run the following command:"
      ]
    },
    {
      "cell_type": "code",
      "execution_count": null,
      "metadata": {
        "colab": {
          "base_uri": "https://localhost:8080/"
        },
        "id": "bagppgHhWhEv",
        "outputId": "a606b472-7064-4094-b08e-fa07330aac87",
        "tags": [
          "skip-execution"
        ]
      },
      "outputs": [
        {
          "name": "stdout",
          "output_type": "stream",
          "text": [
            "Recommendations for GoldenEye (1995): \n",
            "\n",
            "10  :  GoldenEye (1995)\n",
            "16  :  Casino (1995)\n",
            "7  :  Sabrina (1995)\n",
            "733  :  Rock, The (1996)\n",
            "648  :  Mission: Impossible (1996)\n",
            "1049  :  Ghost and the Darkness, The (1996)\n",
            "13  :  Balto (1995)\n",
            "839  :  Crow: City of Angels, The (1996)\n",
            "977  :  Moonlight Murder (1936)\n",
            "349  :  Clear and Present Danger (1994)\n"
          ]
        }
      ],
      "source": [
        "!cat results/combined_results/stdout # displays the contents of the file"
      ]
    }
  ],
  "metadata": {
    "colab": {
      "collapsed_sections": [],
      "provenance": []
    },
    "kernelspec": {
      "display_name": "Python 3.10.6 64-bit",
      "language": "python",
      "name": "python3"
    },
    "language_info": {
      "name": "python",
      "version": "3.8.10 (default, Jun 22 2022, 20:18:18) \n[GCC 9.4.0]"
    },
    "vscode": {
      "interpreter": {
        "hash": "916dbcbb3f70747c44a77c7bcd40155683ae19c65e1c03b4aa3499c5328201f1"
      }
    }
  },
  "nbformat": 4,
  "nbformat_minor": 0
}
