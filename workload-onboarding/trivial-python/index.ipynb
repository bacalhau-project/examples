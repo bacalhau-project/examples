{
  "cells": [
    {
      "cell_type": "raw",
      "metadata": {
        "tags": []
      },
      "source": [
        "---\n",
        "sidebar_label: \"Python - Hello World\"\n",
        "sidebar_position: 1\n",
        "---"
      ]
    },
    {
      "attachments": {},
      "cell_type": "markdown",
      "metadata": {
        "tags": []
      },
      "source": [
        "# Python Hello World\n",
        "\n",
        "[![Open In Colab](https://colab.research.google.com/assets/colab-badge.svg)](https://colab.research.google.com/github/bacalhau-project/examples/blob/main/workload-onboarding/trivial-python/index.ipynb)\n",
        "[![Open In Binder](https://mybinder.org/badge.svg)](https://mybinder.org/v2/gh/bacalhau-project/examples/HEAD?labpath=workload-onboarding/trivial-python/index.ipynb)\n",
        "\n",
        "This example serves as an introduction to Bacalhau. Here, you'll be running a Python file hosted on a website on Bacalhau.\n",
        "\n",
        ":::tip\n",
        "You can run this code on your command line interface (CLI), or you can use the **Google Colab** or **Binder** notebooks provided at the top of this example to test the code.\n",
        ":::"
      ]
    },
    {
      "attachments": {},
      "cell_type": "markdown",
      "metadata": {
        "tags": []
      },
      "source": [
        "## Prerequisites\n",
        "\n",
        "* [The Bacalhau client](https://docs.bacalhau.org/getting-started/installation)"
      ]
    },
    {
      "cell_type": "code",
      "execution_count": 19,
      "metadata": {
        "tags": []
      },
      "outputs": [
        {
          "name": "stdout",
          "output_type": "stream",
          "text": [
            "env: PATH=./:./:./:/Users/phil/.pyenv/versions/3.9.7/bin:/opt/homebrew/Caskroom/google-cloud-sdk/latest/google-cloud-sdk/bin:/Users/phil/.gvm/bin:/opt/homebrew/opt/findutils/libexec/gnubin:/opt/homebrew/opt/coreutils/libexec/gnubin:/opt/homebrew/Caskroom/google-cloud-sdk/latest/google-cloud-sdk/bin:/Users/phil/.pyenv/shims:/opt/homebrew/bin:/opt/homebrew/sbin:/usr/local/bin:/usr/bin:/bin:/usr/sbin:/sbin:/Library/TeX/texbin:/usr/local/MacGPG2/bin:/Users/phil/.nexustools\n"
          ]
        }
      ],
      "source": [
        "!command -v bacalhau >/dev/null 2>&1 || (export BACALHAU_INSTALL_DIR=.; curl -sL https://get.bacalhau.org/install.sh | bash)\n",
        "path=!echo $PATH\n",
        "%env PATH=./:{path[0]}"
      ]
    },
    {
      "cell_type": "markdown",
      "metadata": {
        "tags": []
      },
      "source": [
        "## Hello, world\n",
        "\n",
        "For this example, we'll be using a very simple Python script which displays the [traditional first greeting](https://en.wikipedia.org/wiki/%22Hello,_World!%22_program)."
      ]
    },
    {
      "cell_type": "code",
      "execution_count": 20,
      "metadata": {
        "tags": []
      },
      "outputs": [
        {
          "name": "stdout",
          "output_type": "stream",
          "text": [
            "print(\"Hello, world!\")"
          ]
        }
      ],
      "source": [
        "%cat hello-world.py"
      ]
    },
    {
      "attachments": {},
      "cell_type": "markdown",
      "metadata": {
        "tags": []
      },
      "source": [
        "## Submit the workload\n",
        "\n",
        "To submit a workload to Bacalhau you can use the `bacalhau docker run` command. While you'll mainly be passing input data into the container using [content identifier (CID)](https://github.com/multiformats/cid) volumes, we will be using the `-u URL:path` [argument](https://docs.bacalhau.org/all-flags#docker-run) for simplicity. This results in Bacalhau mounting a *data volume* inside the container. By default, Bacalhau mounts the input volume at the path `/inputs` inside the container.\n",
        "\n",
        ":::info\n",
        "[Bacalhau overwrites the default entrypoint](https://github.com/filecoin-project/bacalhau/blob/v0.2.3/cmd/bacalhau/docker_run.go#L64), so we must run the full command after the `--` argument.\n",
        ":::"
      ]
    },
    {
      "cell_type": "code",
      "execution_count": 25,
      "metadata": {
        "tags": []
      },
      "outputs": [
        {
          "name": "stdout",
          "output_type": "stream",
          "text": [
            "Job successfully submitted. Job ID: 15f57de4-4ea1-45ca-899d-fba08fb53420\n",
            "Checking job status... (Enter Ctrl+C to exit at any time, your job will continue running):\n",
            "\n",
            "\t       Creating job for submission ... done ✅\n",
            "\t       Finding node(s) for the job ... done ✅\n",
            "\t             Node accepted the job ... done ✅\n",
            "\t   Job finished, verifying results ... done ✅\n",
            "\t      Results accepted, publishing ... done ✅\n",
            "\t                                  \n",
            "Results CID: QmehTNF6ogbESt26EgrSw9YGrApneSWhPesqw1A5T6ezBe\n",
            "Job Results By Node:\n",
            "Node QmXaXu9N:\n",
            "  Shard 0:\n",
            "    Status: Completed\n",
            "    Container Exit Code: 0\n",
            "    Stdout:\n",
            "      Hello, world!\n",
            "    Stderr: <NONE>\n",
            "\n",
            "To download the results, execute:\n",
            "  bacalhau get 15f57de4-4ea1-45ca-899d-fba08fb53420\n",
            "\n",
            "To get more details about the run, execute:\n",
            "  bacalhau describe 15f57de4-4ea1-45ca-899d-fba08fb53420\n"
          ]
        }
      ],
      "source": [
        "%%bash\n",
        "bacalhau docker run \\\n",
        "  --input-urls https://raw.githubusercontent.com/bacalhau-project/examples/151eebe895151edd83468e3d8b546612bf96cd05/workload-onboarding/trivial-python/hello-world.py \\\n",
        "  python:3.10-slim -- python3 /inputs/hello-world.py"
      ]
    },
    {
      "attachments": {},
      "cell_type": "markdown",
      "metadata": {
        "tags": []
      },
      "source": [
        "## Get Results\n",
        "\n",
        "After the job has finished processing, the next step is to use the `get` verb to download your outputs locally. \n",
        "\n",
        "You can run the `bacalhau get` directly as shown below"
      ]
    },
    {
      "cell_type": "code",
      "execution_count": null,
      "metadata": {},
      "outputs": [],
      "source": [
        "bacalhau get ${JOB_ID}"
      ]
    },
    {
      "attachments": {},
      "cell_type": "markdown",
      "metadata": {},
      "source": [
        "Alternatively, you can create a directory that will store our job outputs."
      ]
    },
    {
      "cell_type": "code",
      "execution_count": null,
      "metadata": {},
      "outputs": [],
      "source": [
        "mkdir -p new/myfolder\n",
        "cd new/myfolder\n",
        "bacalhau get ${JOB_ID}"
      ]
    },
    {
      "attachments": {},
      "cell_type": "markdown",
      "metadata": {},
      "source": [
        "At this point, the outputs will be downloaded locally. Each job creates 3 sub_folders: the *combined_results*, *per_shard* files, and the *raw* directory. In each of this sub_folders, you'll find the *stdout* and *stderr*\n",
        "\n",
        "For the scope this of this guide, we will only look at the **stdout** file. You can go directly to the file folder to inspect the content of the file or use the code belolow"
      ]
    },
    {
      "cell_type": "code",
      "execution_count": null,
      "metadata": {},
      "outputs": [],
      "source": [
        "❯ cat new/myfolder/job-id/combined_results/stdout\n",
        "Hello, World!"
      ]
    },
    {
      "attachments": {},
      "cell_type": "markdown",
      "metadata": {},
      "source": [
        "## Need Support?\n",
        "\n",
        "If have questions or need support or guidance, please reach out to the [Bacalhau team via Slack (#bacalhau channel)](https://filecoin.io/slack)\n",
        "\n",
        "## Contributing\n",
        "\n",
        "If you have any hints, tips or suggestions to add, check out the different [ways to contribute to Bacalhau](/docs/community/ways-to-contribute.md)."
      ]
    }
  ],
  "metadata": {
    "kernelspec": {
      "display_name": "Python 3",
      "language": "python",
      "name": "python3"
    },
    "language_info": {
      "codemirror_mode": {
        "name": "ipython",
        "version": 3
      },
      "file_extension": ".py",
      "mimetype": "text/x-python",
      "name": "python",
      "nbconvert_exporter": "python",
      "pygments_lexer": "ipython3",
      "version": "3.8.13 (default, Oct  4 2022, 14:00:32) \n[GCC 9.4.0]"
    },
    "orig_nbformat": 4,
    "vscode": {
      "interpreter": {
        "hash": "9ac03a0a6051494cc606d484d27d20fce22fb7b4d169f583271e11d5ba46a56e"
      }
    }
  },
  "nbformat": 4,
  "nbformat_minor": 2
}
