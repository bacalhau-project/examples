{
  "cells": [
    {
      "cell_type": "raw",
      "metadata": {
        "tags": []
      },
      "source": [
        "---\n",
        "sidebar_label: \"R - Facebook Prophet - Custom Container\"\n",
        "sidebar_position: 51\n",
        "---"
      ]
    },
    {
      "cell_type": "markdown",
      "metadata": {
        "id": "wd4xm2tnmJBX",
        "tags": []
      },
      "source": [
        "# Building and Running your Custom R Containers on Bacalhau\n",
        "\n",
        "[![Open In Colab](https://colab.research.google.com/assets/colab-badge.svg)](https://colab.research.google.com/github/bacalhau-project/examples/blob/main/workload-onboarding/r-custom-docker-prophet/index.ipynb)\n",
        "[![Open In Binder](https://mybinder.org/badge.svg)](https://mybinder.org/v2/gh/bacalhau-project/examples/HEAD?labpath=workload-onboarding/r-custom-docker-prophet/index.ipynb)\n",
        "\n",
        "## Introduction\n",
        "\n",
        "This example will walk you through building Time Series Forecasting using [Prophet](https://github.com/facebook/prophet).\n",
        "\n",
        "Prophet is a forecasting procedure implemented in R and Python. It is fast and provides completely automated forecasts that can be tuned by hand by data scientists and analysts.\n",
        "\n",
        "### TL;DR\n",
        "\n",
        "```bash\n",
        "bacalhau docker run -v QmY8BAftd48wWRYDf5XnZGkhwqgjpzjyUG3hN1se6SYaFt:/example_wp_log_R.csv ghcr.io/bacalhau-project/examples/r-prophet:0.0.2 -- Rscript Saturating-Forecasts.R \"/example_wp_log_R.csv\" \"/outputs/output0.pdf\" \"/outputs/output1.pdf\"\n",
        "```\n",
        "\n",
        "## Prerequisites\n",
        "\n",
        "* A working R environment\n",
        "* [Docker](https://docs.docker.com/get-docker/)\n",
        "* [Bacalhau](https://docs.bacalhau.org/getting-started/installation)"
      ]
    },
    {
      "cell_type": "code",
      "execution_count": null,
      "metadata": {
        "tags": [
          "remove_cell"
        ]
      },
      "outputs": [
        {
          "name": "stdout",
          "output_type": "stream",
          "text": [
            "env: PATH=./:/Users/phil/.cargo/bin:/Users/phil/.pyenv/versions/3.9.7/bin:/opt/homebrew/Caskroom/google-cloud-sdk/latest/google-cloud-sdk/bin:/Users/phil/.gvm/bin:/opt/homebrew/opt/findutils/libexec/gnubin:/opt/homebrew/opt/coreutils/libexec/gnubin:/opt/homebrew/Caskroom/google-cloud-sdk/latest/google-cloud-sdk/bin:/Users/phil/.pyenv/shims:/opt/homebrew/bin:/opt/homebrew/sbin:/usr/local/bin:/usr/bin:/bin:/usr/sbin:/sbin:/Library/TeX/texbin:/usr/local/MacGPG2/bin:/Users/phil/.nexustools\n"
          ]
        }
      ],
      "source": [
        "!command -v bacalhau >/dev/null 2>&1 || (export BACALHAU_INSTALL_DIR=.; curl -sL https://get.bacalhau.org/install.sh | bash)\n",
        "path=!echo $PATH\n",
        "%env PATH=./:{path[0]}"
      ]
    },
    {
      "cell_type": "markdown",
      "metadata": {
        "id": "VD_HemoNmeMj",
        "tags": []
      },
      "source": [
        "## 1. Running Prophet in R Locally\n",
        "\n",
        "Open R studio or R supported IDE. If you want to run this on a notebook server, then make sure you use an R kernel.\n",
        "\n",
        "Prophet is a CRAN package so you can use install.packages to install the prophet package."
      ]
    },
    {
      "cell_type": "code",
      "execution_count": null,
      "metadata": {
        "tags": [
          "skip-execution"
        ]
      },
      "outputs": [],
      "source": [
        "%%bash\n",
        "R -e \"install.packages('prophet',dependencies=TRUE, repos='http://cran.rstudio.com/')\""
      ]
    },
    {
      "cell_type": "markdown",
      "metadata": {
        "id": "4fTaU3O3m-LT",
        "tags": []
      },
      "source": [
        "\n",
        "After installation is finished, you can download the example data that is stored in IPFS."
      ]
    },
    {
      "cell_type": "code",
      "execution_count": null,
      "metadata": {
        "tags": []
      },
      "outputs": [],
      "source": [
        "%%bash\n",
        "wget https://w3s.link/ipfs/QmZiwZz7fXAvQANKYnt7ya838VPpj4agJt5EDvRYp3Deeo/example_wp_log_R.csv"
      ]
    },
    {
      "cell_type": "markdown",
      "metadata": {
        "tags": []
      },
      "source": [
        "The code below instantiates the library and fits a model to the data."
      ]
    },
    {
      "cell_type": "code",
      "execution_count": 11,
      "metadata": {
        "tags": []
      },
      "outputs": [],
      "source": [
        "%%bash\n",
        "mkdir -p outputs\n",
        "mkdir -p R"
      ]
    },
    {
      "cell_type": "code",
      "execution_count": 12,
      "metadata": {
        "tags": []
      },
      "outputs": [
        {
          "name": "stdout",
          "output_type": "stream",
          "text": [
            "Writing Saturating-Forecasts.R\n"
          ]
        }
      ],
      "source": [
        "%%writefile Saturating-Forecasts.R\n",
        "library('prophet')\n",
        "\n",
        "args = commandArgs(trailingOnly=TRUE)\n",
        "args\n",
        "\n",
        "input = args[1]\n",
        "output = args[2]\n",
        "output1 = args[3]\n",
        "\n",
        "\n",
        "I <- paste(\"\", input, sep =\"\")\n",
        "\n",
        "O <- paste(\"\", output, sep =\"\")\n",
        "\n",
        "O1 <- paste(\"\", output1 ,sep =\"\")\n",
        "\n",
        "\n",
        "df <- read.csv(I)\n",
        "\n",
        "df$cap <- 8.5\n",
        "m <- prophet(df, growth = 'logistic')\n",
        "\n",
        "future <- make_future_dataframe(m, periods = 1826)\n",
        "future$cap <- 8.5\n",
        "fcst <- predict(m, future)\n",
        "pdf(O)\n",
        "plot(m, fcst)\n",
        "dev.off()\n",
        "\n",
        "df$y <- 10 - df$y\n",
        "df$cap <- 6\n",
        "df$floor <- 1.5\n",
        "future$cap <- 6\n",
        "future$floor <- 1.5\n",
        "m <- prophet(df, growth = 'logistic')\n",
        "fcst <- predict(m, future)\n",
        "pdf(O1)\n",
        "plot(m, fcst)\n",
        "dev.off()"
      ]
    },
    {
      "cell_type": "code",
      "execution_count": null,
      "metadata": {
        "tags": [
          "skip-execution"
        ]
      },
      "outputs": [],
      "source": [
        "%%bash\n",
        "Rscript Saturating-Forecasts.R \"example_wp_log_R.csv\" \"outputs/output0.pdf\" \"outputs/output1.pdf\""
      ]
    },
    {
      "cell_type": "markdown",
      "metadata": {
        "id": "LuZMXDyQoN9f",
        "tags": []
      },
      "source": [
        "## 2. Running R Prophet on Bacalhau\n",
        "\n",
        "To use Bacalhau, you need to package your code in an appropriate format. The developers have already pushed a container for you to use, but if you want to build your own, you can follow the steps below. You can view a [dedicated container example](../custom-containers/index.md) in the documentation.\n",
        "\n",
        "### Dockerfile\n",
        "\n",
        "In this step, you will create a `Dockerfile` to create an image. The `Dockerfile` is a text document that contains the commands used to assemble the image. First, create the `Dockerfile`.\n",
        "\n",
        "```\n",
        "FROM r-base\n",
        "RUN R -e \"install.packages('prophet',dependencies=TRUE, repos='http://cran.rstudio.com/')\"\n",
        "RUN mkdir /R\n",
        "RUN mkdir /outputs\n",
        "COPY Saturating-Forecasts.R R\n",
        "WORKDIR /R\n",
        "```\n",
        "\n",
        "Next, add your desired configuration to the `Dockerfile`. These commands specify how the image will be built, and what extra requirements will be included. We use r-base as the base image, and then install the prophet package. We then copy the R script into the container and set the working directory to the R folder.\n",
        "\n",
        "We've already pushed this image to GHCR, but for posterity, you'd use a command like this to update it:\n",
        "\n",
        "```bash\n",
        "docker buildx build --platform linux/amd64 --push -t ghcr.io/bacalhau-project/examples/r-prophet:0.0.1 .\n",
        "```\n",
        "\n",
        "After you have built the container successfully, the next step is to test it locally and then push it docker hub"
      ]
    },
    {
      "cell_type": "markdown",
      "metadata": {
        "id": "24HuygvzTwnT",
        "tags": []
      },
      "source": [
        "### Fitting a Prophet Model on Bacalhau\n",
        "\n",
        "[Bacalhau](https://www.bacalhau.org/) is a distributed computing platform that allows you to run jobs on a network of computers. It is designed to be easy to use and to run on a variety of hardware. In this example, we will use it to run the Prophet library to generate a model on a CPU.\n",
        "\n",
        "To submit a job, you can use the Bacalhau CLI. The following command passes a prompt to the model and generates the results in the outputs directory. It takes approximately 2 minutes to run."
      ]
    },
    {
      "cell_type": "code",
      "execution_count": 3,
      "metadata": {
        "tags": []
      },
      "outputs": [],
      "source": [
        "%%bash --out job_id\n",
        "bacalhau docker run \\\n",
        "    --wait \\\n",
        "    --id-only \\\n",
        "    -v QmY8BAftd48wWRYDf5XnZGkhwqgjpzjyUG3hN1se6SYaFt:/example_wp_log_R.csv \\\n",
        "    ghcr.io/bacalhau-project/examples/r-prophet:0.0.2 \\\n",
        "    -- Rscript Saturating-Forecasts.R \"/example_wp_log_R.csv\" \"/outputs/output0.pdf\" \"/outputs/output1.pdf\""
      ]
    },
    {
      "cell_type": "code",
      "execution_count": 3,
      "metadata": {
        "tags": [
          "remove_cell"
        ]
      },
      "outputs": [
        {
          "name": "stdout",
          "output_type": "stream",
          "text": [
            "env: JOB_ID=0316d0c2-162d-4c57-9c10-391c908f981d\n"
          ]
        }
      ],
      "source": [
        "%env JOB_ID={job_id}"
      ]
    },
    {
      "cell_type": "markdown",
      "metadata": {
        "id": "ajcHo9rupwb2",
        "tags": []
      },
      "source": [
        "Running the commands will output a UUID that represents the job that was created. You can check the status of the job with the following command:"
      ]
    },
    {
      "cell_type": "code",
      "execution_count": 4,
      "metadata": {
        "tags": []
      },
      "outputs": [
        {
          "name": "stdout",
          "output_type": "stream",
          "text": [
            "\u001b[92;100m CREATED  \u001b[0m\u001b[92;100m ID       \u001b[0m\u001b[92;100m JOB                     \u001b[0m\u001b[92;100m STATE     \u001b[0m\u001b[92;100m VERIFIED \u001b[0m\u001b[92;100m PUBLISHED               \u001b[0m\n",
            "\u001b[97;40m 15:10:22 \u001b[0m\u001b[97;40m 0316d0c2 \u001b[0m\u001b[97;40m Docker jsace/r-proph... \u001b[0m\u001b[97;40m Completed \u001b[0m\u001b[97;40m          \u001b[0m\u001b[97;40m /ipfs/QmYwR3uaSnhLpE... \u001b[0m\n"
          ]
        }
      ],
      "source": [
        "%%bash\n",
        "bacalhau list --id-filter ${JOB_ID}"
      ]
    },
    {
      "cell_type": "markdown",
      "metadata": {
        "id": "kFYpNA32c7t5",
        "tags": []
      },
      "source": [
        "\n",
        "Where it says \"`Completed `\", that means the job is done, and we can get the results.\n",
        "\n",
        "To find out more information about your job, run the following command:"
      ]
    },
    {
      "cell_type": "code",
      "execution_count": 5,
      "metadata": {
        "tags": []
      },
      "outputs": [
        {
          "name": "stdout",
          "output_type": "stream",
          "text": [
            "APIVersion: V1alpha1\n",
            "ClientID: 77cf46c04f88ffb1c3e0e4b6e443724e8d2d87074d088ef1a6294a448fa85d2e\n",
            "CreatedAt: \"2022-11-11T15:10:22.177011613Z\"\n",
            "Deal:\n",
            "  Concurrency: 1\n",
            "ExecutionPlan:\n",
            "  ShardsTotal: 1\n",
            "ID: 0316d0c2-162d-4c57-9c10-391c908f981d\n",
            "JobState:\n",
            "  Nodes:\n",
            "    QmYgxZiySj3MRkwLSL4X2MF5F9f2PMhAE3LV49XkfNL1o3:\n",
            "      Shards:\n",
            "        \"0\":\n",
            "          NodeId: QmYgxZiySj3MRkwLSL4X2MF5F9f2PMhAE3LV49XkfNL1o3\n",
            "          PublishedResults: {}\n",
            "          State: Cancelled\n",
            "          VerificationResult: {}\n",
            "    QmdZQ7ZbhnvWY1J12XYKGHApJ6aufKyLNSvf8jZBrBaAVL:\n",
            "      Shards:\n",
            "        \"0\":\n",
            "          NodeId: QmdZQ7ZbhnvWY1J12XYKGHApJ6aufKyLNSvf8jZBrBaAVL\n",
            "          PublishedResults:\n",
            "            CID: QmYwR3uaSnhLpEZYDdUGXQMVCuCmsd8Rc4LHsuHL6pSUz3\n",
            "            Name: job-0316d0c2-162d-4c57-9c10-391c908f981d-shard-0-host-QmdZQ7ZbhnvWY1J12XYKGHApJ6aufKyLNSvf8jZBrBaAVL\n",
            "            StorageSource: IPFS\n",
            "          RunOutput:\n",
            "            exitCode: 0\n",
            "            runnerError: \"\"\n",
            "            stderr: |-\n",
            "              Loading required package: Rcpp\n",
            "              Loading required package: rlang\n",
            "              Disabling daily seasonality. Run prophet with daily.seasonality=TRUE to override this.\n",
            "              Disabling daily seasonality. Run prophet with daily.seasonality=TRUE to override this.\n",
            "            stderrtruncated: false\n",
            "            stdout: \"[1] \\\"example_wp_log_R.csv\\\" \\\"outputs/output0.pdf\\\"  \\\"outputs/output1.pdf\\\"\n",
            "              \\nnull device \\n          1 \\nnull device \\n          1\"\n",
            "            stdouttruncated: false\n",
            "          State: Completed\n",
            "          Status: 'Got results proposal of length: 0'\n",
            "          VerificationResult:\n",
            "            Complete: true\n",
            "            Result: true\n",
            "RequesterNodeID: QmdZQ7ZbhnvWY1J12XYKGHApJ6aufKyLNSvf8jZBrBaAVL\n",
            "RequesterPublicKey: CAASpgIwggEiMA0GCSqGSIb3DQEBAQUAA4IBDwAwggEKAoIBAQDVRKPgCfY2fgfrkHkFjeWcqno+MDpmp8DgVaY672BqJl/dZFNU9lBg2P8Znh8OTtHPPBUBk566vU3KchjW7m3uK4OudXrYEfSfEPnCGmL6GuLiZjLf+eXGEez7qPaoYqo06gD8ROdD8VVse27E96LlrpD1xKshHhqQTxKoq1y6Rx4DpbkSt966BumovWJ70w+Nt9ZkPPydRCxVnyWS1khECFQxp5Ep3NbbKtxHNX5HeULzXN5q0EQO39UN6iBhiI34eZkH7PoAm3Vk5xns//FjTAvQw6wZUu8LwvZTaihs+upx2zZysq6CEBKoeNZqed9+Tf+qHow0P5pxmiu+or+DAgMBAAE=\n",
            "Spec:\n",
            "  Docker:\n",
            "    Entrypoint:\n",
            "    - Rscript\n",
            "    - Saturating-Forecasts.R\n",
            "    - example_wp_log_R.csv\n",
            "    - outputs/output0.pdf\n",
            "    - outputs/output1.pdf\n",
            "    Image: jsace/r-prophet\n",
            "  Engine: Docker\n",
            "  Language:\n",
            "    JobContext: {}\n",
            "  Publisher: Estuary\n",
            "  Resources:\n",
            "    GPU: \"\"\n",
            "  Sharding:\n",
            "    BatchSize: 1\n",
            "    GlobPatternBasePath: /inputs\n",
            "  Verifier: Noop\n",
            "  Wasm: {}\n",
            "  inputs:\n",
            "  - CID: QmY8BAftd48wWRYDf5XnZGkhwqgjpzjyUG3hN1se6SYaFt\n",
            "    StorageSource: IPFS\n",
            "    path: /example_wp_log_R.csv\n",
            "  outputs:\n",
            "  - Name: outputs\n",
            "    StorageSource: IPFS\n",
            "    path: /outputs\n"
          ]
        }
      ],
      "source": [
        "%%bash\n",
        "bacalhau describe ${JOB_ID}"
      ]
    },
    {
      "cell_type": "markdown",
      "metadata": {
        "id": "2I4DHnt0Vzua",
        "tags": []
      },
      "source": [
        "If you see that the job has completed and there are no errors, then you can download the results with the following command:"
      ]
    },
    {
      "cell_type": "code",
      "execution_count": 6,
      "metadata": {
        "tags": []
      },
      "outputs": [
        {
          "name": "stdout",
          "output_type": "stream",
          "text": [
            "Fetching results of job '0316d0c2-162d-4c57-9c10-391c908f981d'...\n",
            "Results for job '0316d0c2-162d-4c57-9c10-391c908f981d' have been written to...\n",
            "results\n"
          ]
        }
      ],
      "source": [
        "%%bash\n",
        "rm -rf results && mkdir -p results\n",
        "bacalhau get $JOB_ID --output-dir results"
      ]
    },
    {
      "cell_type": "markdown",
      "metadata": {
        "id": "nrZcHon2WOd-",
        "tags": []
      },
      "source": [
        "After the download has finished you should \n",
        "see the following contents in results directory"
      ]
    },
    {
      "cell_type": "code",
      "execution_count": 8,
      "metadata": {
        "tags": []
      },
      "outputs": [
        {
          "name": "stdout",
          "output_type": "stream",
          "text": [
            "output0.pdf\n",
            "output1.pdf\n"
          ]
        }
      ],
      "source": [
        "%%bash\n",
        "ls results/combined_results/outputs"
      ]
    },
    {
      "cell_type": "markdown",
      "metadata": {
        "id": "AeX_w0ryrzVS",
        "tags": []
      },
      "source": [
        "You can't natively display PDFs in notebooks, so here are some static images of the PDFS:\n",
        "\n",
        "* output0.pdf\n",
        "\n",
        "![](output0.png)\n",
        "\n",
        "\n",
        "* output1.pdf\n",
        "\n",
        "![](output1.png)\n"
      ]
    }
  ],
  "metadata": {
    "celltoolbar": "Tags",
    "colab": {
      "authorship_tag": "ABX9TyPKkf28a9ugEL1UV5vT5p47",
      "collapsed_sections": [],
      "provenance": []
    },
    "kernelspec": {
      "display_name": "Python 3.9.7 64-bit ('3.9.7')",
      "language": "python",
      "name": "python3"
    },
    "language_info": {
      "codemirror_mode": {
        "name": "ipython",
        "version": 3
      },
      "file_extension": ".py",
      "mimetype": "text/x-python",
      "name": "python",
      "nbconvert_exporter": "python",
      "pygments_lexer": "ipython3",
      "version": "3.9.7"
    },
    "vscode": {
      "interpreter": {
        "hash": "21fd917facdca5c02b7d24e32528f1b4e6711465b0262edbfffba943391e1222"
      }
    }
  },
  "nbformat": 4,
  "nbformat_minor": 1
}
