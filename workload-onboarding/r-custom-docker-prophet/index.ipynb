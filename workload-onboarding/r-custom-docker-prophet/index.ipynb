{
  "cells": [
    {
      "cell_type": "raw",
      "metadata": {
        "tags": []
      },
      "source": [
        "---\n",
        "sidebar_label: \"R-Custom Container\"\n",
        "sidebar_position: 8\n",
        "---"
      ]
    },
    {
      "attachments": {},
      "cell_type": "markdown",
      "metadata": {
        "id": "wd4xm2tnmJBX",
        "tags": []
      },
      "source": [
        "# Building and Running your Custom R Containers on Bacalhau\n",
        "\n",
        "[![Open In Colab](https://colab.research.google.com/assets/colab-badge.svg)](https://colab.research.google.com/github/bacalhau-project/examples/blob/main/workload-onboarding/r-custom-docker-prophet/index.ipynb)\n",
        "[![Open In Binder](https://mybinder.org/badge.svg)](https://mybinder.org/v2/gh/bacalhau-project/examples/HEAD?labpath=workload-onboarding/r-custom-docker-prophet/index.ipynb)\n",
        "\n",
        "## Introduction\n",
        "\n",
        "This example will walk you through building Time Series Forecasting using [Prophet](https://github.com/facebook/prophet). Prophet is a forecasting procedure implemented in R and Python. It is fast and provides completely automated forecasts that can be tuned by hand by data scientists and analysts.\n",
        "\n",
        "### TL;DR\n",
        "\n",
        "Quick script to run custom R container in Bacalhau\n",
        "\n",
        "```bash\n",
        "bacalhau docker run -v QmY8BAftd48wWRYDf5XnZGkhwqgjpzjyUG3hN1se6SYaFt:/example_wp_log_R.csv ghcr.io/bacalhau-project/examples/r-prophet:0.0.2 -- Rscript Saturating-Forecasts.R \"/example_wp_log_R.csv\" \"/outputs/output0.pdf\" \"/outputs/output1.pdf\"\n",
        "```\n",
        "\n",
        "## Prerequisites\n",
        "\n",
        "To get started, you need to install the Bacalhau client, see more information [here](https://docs.bacalhau.org/getting-started/installation)"
      ]
    },
    {
      "cell_type": "code",
      "execution_count": null,
      "metadata": {
        "tags": [
          "remove_cell"
        ]
      },
      "outputs": [
        {
          "name": "stdout",
          "output_type": "stream",
          "text": [
            "env: PATH=./:/Users/phil/.cargo/bin:/Users/phil/.pyenv/versions/3.9.7/bin:/opt/homebrew/Caskroom/google-cloud-sdk/latest/google-cloud-sdk/bin:/Users/phil/.gvm/bin:/opt/homebrew/opt/findutils/libexec/gnubin:/opt/homebrew/opt/coreutils/libexec/gnubin:/opt/homebrew/Caskroom/google-cloud-sdk/latest/google-cloud-sdk/bin:/Users/phil/.pyenv/shims:/opt/homebrew/bin:/opt/homebrew/sbin:/usr/local/bin:/usr/bin:/bin:/usr/sbin:/sbin:/Library/TeX/texbin:/usr/local/MacGPG2/bin:/Users/phil/.nexustools\n"
          ]
        }
      ],
      "source": [
        "!command -v bacalhau >/dev/null 2>&1 || (export BACALHAU_INSTALL_DIR=.; curl -sL https://get.bacalhau.org/install.sh | bash)\n",
        "path=!echo $PATH\n",
        "%env PATH=./:{path[0]}"
      ]
    },
    {
      "attachments": {},
      "cell_type": "markdown",
      "metadata": {
        "id": "VD_HemoNmeMj",
        "tags": []
      },
      "source": [
        "## Running Prophet in R Locally\n",
        "\n",
        "Open R studio or R supported IDE. If you want to run this on a notebook server, then make sure you use an R kernel. Prophet is a CRAN package so you can use install.packages to install the prophet package."
      ]
    },
    {
      "cell_type": "code",
      "execution_count": null,
      "metadata": {
        "tags": [
          "skip-execution"
        ]
      },
      "outputs": [],
      "source": [
        "%%bash\n",
        "R -e \"install.packages('prophet',dependencies=TRUE, repos='http://cran.rstudio.com/')\""
      ]
    },
    {
      "cell_type": "markdown",
      "metadata": {
        "id": "4fTaU3O3m-LT",
        "tags": []
      },
      "source": [
        "\n",
        "After installation is finished, you can download the example data that is stored in IPFS."
      ]
    },
    {
      "cell_type": "code",
      "execution_count": null,
      "metadata": {
        "tags": []
      },
      "outputs": [],
      "source": [
        "%%bash\n",
        "wget https://w3s.link/ipfs/QmZiwZz7fXAvQANKYnt7ya838VPpj4agJt5EDvRYp3Deeo/example_wp_log_R.csv"
      ]
    },
    {
      "cell_type": "markdown",
      "metadata": {
        "tags": []
      },
      "source": [
        "The code below instantiates the library and fits a model to the data."
      ]
    },
    {
      "cell_type": "code",
      "execution_count": 11,
      "metadata": {
        "tags": []
      },
      "outputs": [],
      "source": [
        "%%bash\n",
        "mkdir -p outputs\n",
        "mkdir -p R"
      ]
    },
    {
      "cell_type": "code",
      "execution_count": 12,
      "metadata": {
        "tags": []
      },
      "outputs": [
        {
          "name": "stdout",
          "output_type": "stream",
          "text": [
            "Writing Saturating-Forecasts.R\n"
          ]
        }
      ],
      "source": [
        "%%writefile Saturating-Forecasts.R\n",
        "library('prophet')\n",
        "\n",
        "args = commandArgs(trailingOnly=TRUE)\n",
        "args\n",
        "\n",
        "input = args[1]\n",
        "output = args[2]\n",
        "output1 = args[3]\n",
        "\n",
        "\n",
        "I <- paste(\"\", input, sep =\"\")\n",
        "\n",
        "O <- paste(\"\", output, sep =\"\")\n",
        "\n",
        "O1 <- paste(\"\", output1 ,sep =\"\")\n",
        "\n",
        "\n",
        "df <- read.csv(I)\n",
        "\n",
        "df$cap <- 8.5\n",
        "m <- prophet(df, growth = 'logistic')\n",
        "\n",
        "future <- make_future_dataframe(m, periods = 1826)\n",
        "future$cap <- 8.5\n",
        "fcst <- predict(m, future)\n",
        "pdf(O)\n",
        "plot(m, fcst)\n",
        "dev.off()\n",
        "\n",
        "df$y <- 10 - df$y\n",
        "df$cap <- 6\n",
        "df$floor <- 1.5\n",
        "future$cap <- 6\n",
        "future$floor <- 1.5\n",
        "m <- prophet(df, growth = 'logistic')\n",
        "fcst <- predict(m, future)\n",
        "pdf(O1)\n",
        "plot(m, fcst)\n",
        "dev.off()"
      ]
    },
    {
      "cell_type": "code",
      "execution_count": null,
      "metadata": {
        "tags": [
          "skip-execution"
        ]
      },
      "outputs": [],
      "source": [
        "%%bash\n",
        "Rscript Saturating-Forecasts.R \"example_wp_log_R.csv\" \"outputs/output0.pdf\" \"outputs/output1.pdf\""
      ]
    },
    {
      "attachments": {},
      "cell_type": "markdown",
      "metadata": {
        "id": "LuZMXDyQoN9f",
        "tags": []
      },
      "source": [
        "## Running R Prophet on Bacalhau\n",
        "\n",
        "To use Bacalhau, you need to package your code in an appropriate format. The developers have already pushed a container for you to use, but if you want to build your own, you can follow the steps below. You can view a [dedicated container example](../custom-containers/index.md) in the documentation.\n",
        "\n",
        "## Containerize Script with Docker\n",
        "\n",
        "To build your own docker container, create a `Dockerfile`, which contains instructions to build your image.\n",
        "\n",
        "```\n",
        "FROM r-base\n",
        "RUN R -e \"install.packages('prophet',dependencies=TRUE, repos='http://cran.rstudio.com/')\"\n",
        "RUN mkdir /R\n",
        "RUN mkdir /outputs\n",
        "COPY Saturating-Forecasts.R R\n",
        "WORKDIR /R\n",
        "```\n",
        "\n",
        "These commands specify how the image will be built, and what extra requirements will be included. We use r-base as the base image, and then install the prophet package. We then copy the R script into the container and set the working directory to the R folder.\n",
        "\n",
        "\n",
        "### Build the container\n",
        "\n",
        "We will run `docker build` command to build the container;\n",
        "\n",
        "```\n",
        "docker build -t <hub-user>/<repo-name>:<tag> .\n",
        "```\n",
        "\n",
        "Before running the command replace;\n",
        "\n",
        "- **hub-user** with your docker hub username, If you don’t have a docker hub account [follow these instructions to create docker account](https://docs.docker.com/docker-id/), and use the username of the account you created\n",
        "\n",
        "- **repo-name** with the name of the container, you can name it anything you want\n",
        "\n",
        "- **tag** this is not required but you can use the latest tag\n",
        "\n",
        "In our case:\n",
        "\n",
        "```bash\n",
        "docker buildx build --platform linux/amd64 --push -t ghcr.io/bacalhau-project/examples/r-prophet:0.0.1 .\n",
        "```\n",
        "\n",
        "### Push the container\n",
        "\n",
        "Next, upload the image to the registry. This can be done by using the Docker hub username, repo name or tag.\n",
        "\n",
        "```\n",
        "docker push <hub-user>/<repo-name>:<tag>\n",
        "```\n",
        "\n",
        "In our case:\n",
        "\n",
        "```bash\n",
        "docker push --platform linux/amd64 --push -t ghcr.io/bacalhau-project/examples/r-prophet:0.0.1 .\n",
        "```"
      ]
    },
    {
      "attachments": {},
      "cell_type": "markdown",
      "metadata": {
        "id": "24HuygvzTwnT",
        "tags": []
      },
      "source": [
        "## Running a Job on Bacalhau\n",
        "\n",
        "The following command passes a prompt to the model and generates the results in the outputs directory. It takes approximately 2 minutes to run."
      ]
    },
    {
      "cell_type": "code",
      "execution_count": 3,
      "metadata": {
        "tags": []
      },
      "outputs": [],
      "source": [
        "%%bash --out job_id\n",
        "bacalhau docker run \\\n",
        "    --wait \\\n",
        "    --id-only \\\n",
        "    -v QmY8BAftd48wWRYDf5XnZGkhwqgjpzjyUG3hN1se6SYaFt:/example_wp_log_R.csv \\\n",
        "    ghcr.io/bacalhau-project/examples/r-prophet:0.0.2 \\\n",
        "    -- Rscript Saturating-Forecasts.R \"/example_wp_log_R.csv\" \"/outputs/output0.pdf\" \"/outputs/output1.pdf\""
      ]
    },
    {
      "attachments": {},
      "cell_type": "markdown",
      "metadata": {},
      "source": [
        "### Structure of the command\n",
        "\n",
        "Let's look closely at the command above:\n",
        "\n",
        "* `bacalhau docker run`: call to bacalhau \n",
        "  \n",
        "* `-v QmY8BAftd48wWRYDf5XnZGkhwqgjpzjyUG3hN1se6SYaFt`: CIDs to use on the job. Mounts them at '/inputs' in the execution.\n",
        "\n",
        "* `ghcr.io/bacalhau-project/examples/r-prophet:0.0.2`: the name and the tag of the docker image we are using\n",
        "\n",
        "* `/example_wp_log_R.csv `: path to input dataset\n",
        "\n",
        "* `/outputs/output0.pdf....`: path to output\n",
        "\n",
        "* `Rscript Saturating-Forecasts.R`: execute the R script"
      ]
    },
    {
      "attachments": {},
      "cell_type": "markdown",
      "metadata": {},
      "source": [
        "When a job is submitted, Bacalhau prints out the related `job_id`. We store that in an environment variable so that we can reuse it later on."
      ]
    },
    {
      "cell_type": "code",
      "execution_count": null,
      "metadata": {
        "tags": [
          "remove_cell"
        ]
      },
      "outputs": [],
      "source": [
        "%env JOB_ID={job_id}"
      ]
    },
    {
      "attachments": {},
      "cell_type": "markdown",
      "metadata": {
        "id": "ajcHo9rupwb2",
        "tags": []
      },
      "source": [
        "## Checking the State of your Jobs\n",
        "\n",
        "- **Job status**: You can check the status of the job using `bacalhau list`."
      ]
    },
    {
      "cell_type": "code",
      "execution_count": null,
      "metadata": {
        "tags": []
      },
      "outputs": [],
      "source": [
        "%%bash\n",
        "bacalhau list --id-filter ${JOB_ID}"
      ]
    },
    {
      "attachments": {},
      "cell_type": "markdown",
      "metadata": {
        "id": "kFYpNA32c7t5",
        "tags": []
      },
      "source": [
        "When it says `Published` or `Completed`, that means the job is done, and we can get the results.\n",
        "\n",
        "- **Job information**: You can find out more information about your job by using `bacalhau describe`."
      ]
    },
    {
      "cell_type": "code",
      "execution_count": null,
      "metadata": {
        "tags": []
      },
      "outputs": [],
      "source": [
        "%%bash\n",
        "bacalhau describe ${JOB_ID}"
      ]
    },
    {
      "attachments": {},
      "cell_type": "markdown",
      "metadata": {
        "id": "2I4DHnt0Vzua",
        "tags": []
      },
      "source": [
        "- **Job download**: You can download your job results directly by using `bacalhau get`. Alternatively, you can choose to create a directory to store your results. In the command below, we created a directory and downloaded our job output to be stored in that directory."
      ]
    },
    {
      "cell_type": "code",
      "execution_count": null,
      "metadata": {
        "tags": []
      },
      "outputs": [],
      "source": [
        "%%bash\n",
        "rm -rf results && mkdir -p results\n",
        "bacalhau get $JOB_ID --output-dir results"
      ]
    },
    {
      "attachments": {},
      "cell_type": "markdown",
      "metadata": {
        "id": "nrZcHon2WOd-",
        "tags": []
      },
      "source": [
        "## Viewing your Job Output\n",
        "\n",
        "Each job creates 3 subfolders: the **combined_results**, **per_shard files**, and the **raw** directory. To view the file, run the following command:"
      ]
    },
    {
      "cell_type": "code",
      "execution_count": 8,
      "metadata": {
        "tags": []
      },
      "outputs": [
        {
          "name": "stdout",
          "output_type": "stream",
          "text": [
            "output0.pdf\n",
            "output1.pdf\n"
          ]
        }
      ],
      "source": [
        "%%bash\n",
        "ls results/combined_results/outputs"
      ]
    },
    {
      "cell_type": "markdown",
      "metadata": {
        "id": "AeX_w0ryrzVS",
        "tags": []
      },
      "source": [
        "You can't natively display PDFs in notebooks, so here are some static images of the PDFS:\n",
        "\n",
        "* output0.pdf\n",
        "\n",
        "![](output0.png)\n",
        "\n",
        "\n",
        "* output1.pdf\n",
        "\n",
        "![](output1.png)\n"
      ]
    }
  ],
  "metadata": {
    "celltoolbar": "Tags",
    "colab": {
      "authorship_tag": "ABX9TyPKkf28a9ugEL1UV5vT5p47",
      "collapsed_sections": [],
      "provenance": []
    },
    "kernelspec": {
      "display_name": "Python 3.9.7 64-bit ('3.9.7')",
      "language": "python",
      "name": "python3"
    },
    "language_info": {
      "codemirror_mode": {
        "name": "ipython",
        "version": 3
      },
      "file_extension": ".py",
      "mimetype": "text/x-python",
      "name": "python",
      "nbconvert_exporter": "python",
      "pygments_lexer": "ipython3",
      "version": "3.9.7"
    },
    "vscode": {
      "interpreter": {
        "hash": "21fd917facdca5c02b7d24e32528f1b4e6711465b0262edbfffba943391e1222"
      }
    }
  },
  "nbformat": 4,
  "nbformat_minor": 1
}
