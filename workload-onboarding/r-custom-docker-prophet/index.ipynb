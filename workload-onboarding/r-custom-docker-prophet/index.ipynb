{
    "cells": [
        {
            "cell_type": "markdown",
            "metadata": {
                "id": "wd4xm2tnmJBX"
            },
            "source": [
                "# Building and Running your Custom R Containers on Bacalhau\n",
                "\n",
                "## **Introduction**\n",
                "\n",
                "This example will walk you through building Time Series Forecasting using Prophet \n",
                "\n",
                "Prophet is a forecasting procedure implemented in R and Python. It is fast and provides completely automated forecasts that can be tuned by hand by data scientists and analysts.\n",
                "\n",
                "\n"
            ]
        },
        {
            "cell_type": "markdown",
            "metadata": {},
            "source": [
                "[![Open In Colab](https://colab.research.google.com/assets/colab-badge.svg)](https://colab.research.google.com/github/bacalhau-project/examples/blob/main/workload-onboarding/r-custom-docker-prophet/index.ipynb)\n",
                "[![Open In Binder](https://mybinder.org/badge.svg)](https://mybinder.org/v2/gh/bacalhau-project/examples/HEAD?labpath=workload-onboarding/r-custom-docker-prophet/index.ipynb)"
            ]
        },
        {
            "cell_type": "markdown",
            "metadata": {
                "id": "VD_HemoNmeMj"
            },
            "source": [
                "## **Running the script locally**\n",
                "\n",
                "Open R studio or R supported IDE\n",
                "\n",
                "Prophet is a CRAN package so you can use install.packages to install the prophet package\n",
                "\n",
                "Run this command in console to install prophet"
            ]
        },
        {
            "cell_type": "code",
            "execution_count": null,
            "metadata": {
                "tags": [
                    "skip-execution"
                ]
            },
            "outputs": [],
            "source": [
                "%%bash\n",
                "R -e \"install.packages('prophet',dependencies=TRUE, repos='http://cran.rstudio.com/')\""
            ]
        },
        {
            "cell_type": "markdown",
            "metadata": {
                "id": "4fTaU3O3m-LT"
            },
            "source": [
                "\n",
                "After installation is finished\n",
                "\n",
                "Download the dataset by clicking this link"
            ]
        },
        {
            "cell_type": "code",
            "execution_count": null,
            "metadata": {
                "tags": [
                    "skip-execution"
                ]
            },
            "outputs": [],
            "source": [
                "%%bash\n",
                "wget https://cloudflare-ipfs.com/ipfs/QmZiwZz7fXAvQANKYnt7ya838VPpj4agJt5EDvRYp3Deeo/example_wp_log_R.csv"
            ]
        },
        {
            "cell_type": "code",
            "execution_count": null,
            "metadata": {
                "tags": [
                    "skip-execution"
                ]
            },
            "outputs": [],
            "source": [
                "%%bash\n",
                "mkdir outputs\n",
                "mkdir R"
            ]
        },
        {
            "cell_type": "code",
            "execution_count": null,
            "metadata": {
                "tags": [
                    "skip-execution"
                ]
            },
            "outputs": [],
            "source": [
                "%%writefile Saturating-Forecasts.R\n",
                "library('prophet')\n",
                "\n",
                "args = commandArgs(trailingOnly=TRUE)\n",
                "args\n",
                "\n",
                "input = args[1]\n",
                "output = args[2]\n",
                "output1 = args[3]\n",
                "\n",
                "\n",
                "I <- paste(\"\", input, sep =\"\")\n",
                "\n",
                "O <- paste(\"\", output, sep =\"\")\n",
                "\n",
                "O1 <- paste(\"\", output1 ,sep =\"\")\n",
                "\n",
                "\n",
                "df <- read.csv(I)\n",
                "\n",
                "df$cap <- 8.5\n",
                "m <- prophet(df, growth = 'logistic')\n",
                "\n",
                "future <- make_future_dataframe(m, periods = 1826)\n",
                "future$cap <- 8.5\n",
                "fcst <- predict(m, future)\n",
                "pdf(O)\n",
                "plot(m, fcst)\n",
                "dev.off()\n",
                "\n",
                "df$y <- 10 - df$y\n",
                "df$cap <- 6\n",
                "df$floor <- 1.5\n",
                "future$cap <- 6\n",
                "future$floor <- 1.5\n",
                "m <- prophet(df, growth = 'logistic')\n",
                "fcst <- predict(m, future)\n",
                "pdf(O1)\n",
                "plot(m, fcst)\n",
                "dev.off()"
            ]
        },
        {
            "cell_type": "markdown",
            "metadata": {
                "id": "93s5DzbZoENc"
            },
            "source": [
                "Command to run the script\n",
                "\n",
                "\n",
                "\n",
                " We provide parameters like name of the input csv dataset\n",
                "\n",
                "And Path and name of the First and second output which is a graph that is saved when the script is ran\n"
            ]
        },
        {
            "cell_type": "code",
            "execution_count": null,
            "metadata": {
                "tags": [
                    "skip-execution"
                ]
            },
            "outputs": [],
            "source": [
                "%%bash\n",
                "Rscript Saturating-Forecasts.R \"example_wp_log_R.csv\" \"outputs/output0.pdf\" \"outputs/output1.pdf\""
            ]
        },
        {
            "cell_type": "markdown",
            "metadata": {
                "id": "LuZMXDyQoN9f"
            },
            "source": [
                "\n",
                "**Setting Up Docker**\n",
                "\n",
                "In this step you will create a  `Dockerfile` to create your Docker deployment. The `Dockerfile` is a text document that contains the commands used to assemble the image.\n",
                "\n",
                "First, create the `Dockerfile`.\n",
                "\n",
                "Dockerfile\n",
                "\n",
                "\n",
                "```\n",
                "FROM r-base\n",
                "RUN R -e \"install.packages('prophet',dependencies=TRUE, repos='http://cran.rstudio.com/')\"\n",
                "COPY . R\n",
                "WORKDIR /R\n",
                "```\n",
                "\n",
                "\n",
                "Next, add your desired configuration to the `Dockerfile`. These commands specify how the image will be built, and what extra requirements will be included.\n",
                "\n",
                "What the Dockerfile does\n",
                "\n",
                "\n",
                "```\n",
                "FROM r-base\n",
                "```\n",
                "\n",
                "\n",
                "We use r-base as the base image \n",
                "\n",
                "\n",
                "```\n",
                "RUN R -e \"install.packages('prophet',dependencies=TRUE,repos='http://cran.rstudio.com/')\"\n",
                "```\n",
                "\n",
                "\n",
                "install packages \n",
                "\n",
                "\n",
                "```\n",
                "COPY . R\n",
                "```\n",
                "\n",
                "\n",
                "Copy the contents of your PWD which includes your scripts\n",
                "\n",
                "\n",
                "```\n",
                "WORKDIR /R\n",
                "```\n",
                "\n",
                "\n",
                "Make the R directory which we copied to be the working directory\n",
                "\n",
                "Build the container\n",
                "\n",
                "\n",
                "```\n",
                "docker build -t <hub-user>/<repo-name>:<tag> .\n",
                "```\n",
                "\n",
                "\n",
                "After you have build the container successfully, the next step is to test it locally and then push it docker hub\n",
                "\n",
                "Before pushing you first need to create a repo which you can create by following the instructions here [https://docs.docker.com/docker-hub/repos/](https://docs.docker.com/docker-hub/repos/)\n",
                "\n",
                "Now you can push this repository to the registry designated by its name or tag.\n",
                "\n",
                "\n",
                "```\n",
                " docker push <hub-user>/<repo-name>:<tag>\n",
                "```\n",
                "\n",
                "\n",
                "After the repo image has been pushed to docker hub, we can now use the container for running on bacalhau"
            ]
        },
        {
            "cell_type": "markdown",
            "metadata": {
                "id": "7kFyE7GwonWE"
            },
            "source": [
                "\n",
                "To mount your dataset there are 2 options\n",
                "\n",
                "Mounting the dataset using the -u or The URL flag\n",
                "\n",
                "\n",
                "```\n",
                "bacalhau docker run \\\n",
                "-u https://raw.githubusercontent.com/facebook/prophet/main/examples/example_wp_log_R.csv:/input \\\n",
                "jsace/r-prophet \\\n",
                "-- Rscript Saturating-Forecasts.R \"example_wp_log_R.csv\" \"outputs/output0.pdf\" \"outputs/output1.pdf\"\n",
                "```\n",
                "\n",
                "\n",
                "Mounting the dataset using CID\n",
                "\n",
                "\n",
                "```\n",
                "bacalhau docker run \\\n",
                "-v QmY8BAftd48wWRYDf5XnZGkhwqgjpzjyUG3hN1se6SYaFt:/example_wp_log_R.csv \\\n",
                "jsace/r-prophet \\\n",
                "-- Rscript Saturating-Forecasts.R \"example_wp_log_R.csv\" \"outputs/output0.pdf\" \"outputs/output1.pdf\"\n",
                "```\n",
                "\n"
            ]
        },
        {
            "cell_type": "markdown",
            "metadata": {
                "id": "24HuygvzTwnT"
            },
            "source": [
                "Insalling bacalhau"
            ]
        },
        {
            "cell_type": "code",
            "execution_count": null,
            "metadata": {
                "tags": [
                    "skip-execution"
                ]
            },
            "outputs": [],
            "source": [
                "%%bash\n",
                "curl -sL https://get.bacalhau.org/install.sh | bash"
            ]
        },
        {
            "cell_type": "code",
            "execution_count": null,
            "metadata": {
                "tags": [
                    "skip-execution"
                ]
            },
            "outputs": [],
            "source": [
                "%%bash\n",
                "echo $(bacalhau docker run --id-only --wait --wait-timeout-secs 1000 -v QmY8BAftd48wWRYDf5XnZGkhwqgjpzjyUG3hN1se6SYaFt:/example_wp_log_R.csv jsace/r-prophet -- Rscript Saturating-Forecasts.R \"example_wp_log_R.csv\" \"outputs/output0.pdf\" \"outputs/output1.pdf\") > job_id.txt\n",
                "cat job_id.txt"
            ]
        },
        {
            "cell_type": "markdown",
            "metadata": {
                "id": "UszrZGs4c4i9"
            },
            "source": [
                "\n",
                "Running the commands will output a UUID (like `54506541-4eb9-45f4-a0b1-ea0aecd34b3e`). This is the ID of the job that was created. You can check the status of the job with the following command:\n"
            ]
        },
        {
            "cell_type": "code",
            "execution_count": null,
            "metadata": {
                "tags": [
                    "skip-execution"
                ]
            },
            "outputs": [],
            "source": [
                "%%bash\n",
                "bacalhau list --id-filter $(cat job_id.txt)"
            ]
        },
        {
            "cell_type": "markdown",
            "metadata": {
                "id": "kFYpNA32c7t5"
            },
            "source": [
                "\n",
                "Where it says \"`Published `\", that means the job is done, and we can get the results.\n",
                "\n",
                "To find out more information about your job, run the following command:"
            ]
        },
        {
            "cell_type": "code",
            "execution_count": null,
            "metadata": {
                "tags": [
                    "skip-execution"
                ]
            },
            "outputs": [],
            "source": [
                "%%bash\n",
                "bacalhau describe $(cat job_id.txt)"
            ]
        },
        {
            "cell_type": "markdown",
            "metadata": {
                "id": "2I4DHnt0Vzua"
            },
            "source": [
                "Since there is no error we can’t see any error instead we see the state of our job to be complete, that means \n",
                "we can download the results!\n",
                "we create a temporary directory to save our results"
            ]
        },
        {
            "cell_type": "code",
            "execution_count": null,
            "metadata": {
                "tags": [
                    "skip-execution"
                ]
            },
            "outputs": [],
            "source": [
                "%%bash\n",
                "mkdir results"
            ]
        },
        {
            "cell_type": "markdown",
            "metadata": {
                "id": "6SuXkeV-WD7j"
            },
            "source": [
                "To Download the results of your job, run \n",
                "\n",
                "---\n",
                "\n",
                "the following command:"
            ]
        },
        {
            "cell_type": "code",
            "execution_count": null,
            "metadata": {
                "tags": [
                    "skip-execution"
                ]
            },
            "outputs": [],
            "source": [
                "%%bash\n",
                "bacalhau get  $(cat job_id.txt)  --output-dir results"
            ]
        },
        {
            "cell_type": "markdown",
            "metadata": {
                "id": "nrZcHon2WOd-"
            },
            "source": [
                "After the download has finished you should \n",
                "see the following contents in results directory"
            ]
        },
        {
            "cell_type": "code",
            "execution_count": null,
            "metadata": {
                "tags": [
                    "skip-execution"
                ]
            },
            "outputs": [],
            "source": [
                "%%bash\n",
                "ls results/"
            ]
        },
        {
            "cell_type": "code",
            "execution_count": null,
            "metadata": {
                "tags": [
                    "skip-execution"
                ]
            },
            "outputs": [],
            "source": [
                "%%bash\n",
                "bacalhau describe $(cat job_id.txt) --spec > job.yaml"
            ]
        },
        {
            "cell_type": "code",
            "execution_count": null,
            "metadata": {
                "tags": [
                    "skip-execution"
                ]
            },
            "outputs": [],
            "source": [
                "%%bash\n",
                "cat job.yaml"
            ]
        },
        {
            "cell_type": "markdown",
            "metadata": {
                "id": "AeX_w0ryrzVS"
            },
            "source": [
                "\n",
                "Viewing the output pdf files which are located at volumes/outputs\n",
                "\n",
                "output0.pdf\n",
                "\n",
                "![](https://i.imgur.com/dVLgpLA.png)\n",
                "\n",
                "\n",
                "\n",
                "output1.pdf\n",
                "\n",
                "\n",
                "![](https://i.imgur.com/qvoJKdB.png)\n"
            ]
        }
    ],
    "metadata": {
        "celltoolbar": "Tags",
        "colab": {
            "authorship_tag": "ABX9TyPKkf28a9ugEL1UV5vT5p47",
            "collapsed_sections": [],
            "provenance": []
        },
        "kernelspec": {
            "display_name": "Python 3 (ipykernel)",
            "language": "python",
            "name": "python3"
        },
        "language_info": {
            "codemirror_mode": {
                "name": "ipython",
                "version": 3
            },
            "file_extension": ".py",
            "mimetype": "text/x-python",
            "name": "python",
            "nbconvert_exporter": "python",
            "pygments_lexer": "ipython3",
            "version": "3.10.6"
        }
    },
    "nbformat": 4,
    "nbformat_minor": 1
}