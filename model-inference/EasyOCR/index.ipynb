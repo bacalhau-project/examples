{
  "cells": [
    {
      "cell_type": "raw",
      "metadata": {},
      "source": [
        "---\n",
        "sidebar_label: \"EasyOCR\"\n",
        "sidebar_position: 10\n",
        "---"
      ]
    },
    {
      "cell_type": "markdown",
      "metadata": {},
      "source": [
        "# EasyOCR (Optical Character Recognition) on bacalhau"
      ]
    },
    {
      "cell_type": "markdown",
      "metadata": {},
      "source": [
        "[![Open In Colab](https://colab.research.google.com/assets/colab-badge.svg)](https://colab.research.google.com/github/bacalhau-project/examples/blob/main/model-inference/EasyOCR/index.ipynb)\n",
        "[![Open In Binder](https://mybinder.org/badge.svg)](https://mybinder.org/v2/gh/bacalhau-project/examples/HEAD?labpath=model-inference/EasyOCR/index.ipynb)"
      ]
    },
    {
      "cell_type": "markdown",
      "metadata": {
        "id": "TiirwC_66dkh"
      },
      "source": [
        "## Introduction"
      ]
    },
    {
      "attachments": {},
      "cell_type": "markdown",
      "metadata": {
        "id": "GYMcCMSb68Bg"
      },
      "source": [
        "In this example tutorial, we use Bacalhau and Easy OCR to digitalize paper records or for recognizing characters or extract text data from images stored on IPFS/Filecoin or on the web. [EasyOCR](https://www.jaided.ai/) is a ready-to-use OCR with 80+ supported languages and all popular writing scripts including Latin, Chinese, Arabic, Devanagari, Cyrillic and etc. With easy OCR you use the pretrained models or use your own fine tuned model.\n",
        "\n",
        "## Prerequisite\n",
        "\n",
        "To get started, you need to install the Bacalhau client, see more information [here](https://docs.bacalhau.org/getting-started/installation)"
      ]
    },
    {
      "attachments": {},
      "cell_type": "markdown",
      "metadata": {
        "id": "AbWacRHi6YDB"
      },
      "source": [
        "## Running Easy OCR Locally​\n",
        "Installing the required dependencies"
      ]
    },
    {
      "cell_type": "code",
      "execution_count": null,
      "metadata": {
        "colab": {
          "base_uri": "https://localhost:8080/"
        },
        "id": "lIYdn1woOS1n",
        "outputId": "239b75da-629c-4dff-b8b6-2242e6eadf53",
        "tags": [
          "skip-execution"
        ]
      },
      "outputs": [],
      "source": [
        "%%bash\n",
        "pip install easyocr"
      ]
    },
    {
      "attachments": {},
      "cell_type": "markdown",
      "metadata": {},
      "source": [
        "Loading the example images"
      ]
    },
    {
      "cell_type": "code",
      "execution_count": null,
      "metadata": {
        "colab": {
          "base_uri": "https://localhost:8080/"
        },
        "id": "4lfTxWBJuA1s",
        "outputId": "31f4d2ce-9c79-4d4d-b257-4a01303ca2c9",
        "tags": [
          "skip-execution"
        ]
      },
      "outputs": [],
      "source": [
        "%%bash\n",
        "npx degit JaidedAI/EasyOCR/examples -f"
      ]
    },
    {
      "attachments": {},
      "cell_type": "markdown",
      "metadata": {},
      "source": [
        "Listing the images"
      ]
    },
    {
      "cell_type": "code",
      "execution_count": null,
      "metadata": {
        "colab": {
          "base_uri": "https://localhost:8080/"
        },
        "id": "EARVTZ2rhi-u",
        "outputId": "1e260a7c-e290-4e6a-a7f8-9d83cd585a30",
        "tags": [
          "skip-execution"
        ]
      },
      "outputs": [
        {
          "name": "stdout",
          "output_type": "stream",
          "text": [
            "total 3508\n",
            "-rw-r--r-- 1 root root   59898 Jun 16 22:36 chinese.jpg\n",
            "-rw-r--r-- 1 root root   97910 Jun 16 22:36 easyocr_framework.jpeg\n",
            "-rw-r--r-- 1 root root 1740957 Jun 16 22:36 english.png\n",
            "-rw-r--r-- 1 root root  487995 Jun 16 22:36 example2.png\n",
            "-rw-r--r-- 1 root root  127454 Jun 16 22:36 example3.png\n",
            "-rw-r--r-- 1 root root  488641 Jun 16 22:36 example.png\n",
            "-rw-r--r-- 1 root root  168376 Jun 16 22:36 french.jpg\n",
            "-rw-r--r-- 1 root root   42159 Jun 16 22:36 japanese.jpg\n",
            "-rw-r--r-- 1 root root  225531 Jun 16 22:36 korean.png\n",
            "drwxr-xr-x 1 root root    4096 Jun 15 13:37 sample_data\n",
            "-rw-r--r-- 1 root root   82229 Jun 16 22:36 thai.jpg\n",
            "-rw-r--r-- 1 root root   34706 Jun 16 22:36 width_ths.png\n"
          ]
        }
      ],
      "source": [
        "%%bash\n",
        "ls -l"
      ]
    },
    {
      "attachments": {},
      "cell_type": "markdown",
      "metadata": {},
      "source": [
        "Displaying an image from the list"
      ]
    },
    {
      "cell_type": "code",
      "execution_count": null,
      "metadata": {
        "colab": {
          "base_uri": "https://localhost:8080/",
          "height": 817
        },
        "id": "5gmLzjF-uS7s",
        "outputId": "bcf67454-c42f-42ed-c643-21656e71c3e8",
        "tags": [
          "skip-execution"
        ]
      },
      "outputs": [],
      "source": [
        "# show an image\n",
        "import PIL\n",
        "from PIL import ImageDraw\n",
        "im = PIL.Image.open(\"thai.jpg\")\n",
        "im"
      ]
    },
    {
      "attachments": {},
      "cell_type": "markdown",
      "metadata": {},
      "source": [
        "Create a reader to do OCR."
      ]
    },
    {
      "cell_type": "code",
      "execution_count": null,
      "metadata": {
        "colab": {
          "base_uri": "https://localhost:8080/"
        },
        "id": "gcDnhiCxtztL",
        "outputId": "018f1c0b-f131-4486-afa1-09c2a65d669d",
        "tags": [
          "skip-execution"
        ]
      },
      "outputs": [],
      "source": [
        "# If you change to GPU instance, it will be faster. But CPU is enough.\n",
        "# (by MENU > Runtime > Change runtime type > GPU, then redo from beginning )\n",
        "import easyocr\n",
        "reader = easyocr.Reader(['th','en'])\n",
        "# Doing OCR. Get bounding boxes.\n",
        "bounds = reader.readtext('thai.jpg')\n",
        "bounds"
      ]
    },
    {
      "attachments": {},
      "cell_type": "markdown",
      "metadata": {},
      "source": [
        "We get cordinates which represent a rectangle containing text and the text itself"
      ]
    },
    {
      "cell_type": "markdown",
      "metadata": {
        "id": "HZMMmIGL8ujt"
      },
      "source": [
        "After that we will build a DOCKERFILE to containernize this script and then run it on bacalhau"
      ]
    },
    {
      "attachments": {},
      "cell_type": "markdown",
      "metadata": {
        "id": "KUHNqPOb8n94"
      },
      "source": [
        "## Containerize your Script using Docker\n",
        "\n",
        ":::tip\n",
        "You can skip this step and go straight to running a Bacalhau job\n",
        ":::"
      ]
    },
    {
      "attachments": {},
      "cell_type": "markdown",
      "metadata": {
        "id": "XECKIqQH8jTu"
      },
      "source": [
        "We will use the `Dockerfile` that is already created in the [Easy OCR repo](https://github.com/JaidedAI/EasyOCR). Use the command below to clone the repo\n",
        "\n",
        "```\n",
        "git clone https://github.com/JaidedAI/EasyOCR\n",
        "cd EasyOCR\n",
        "```\n",
        "\n",
        "### Build the Container\n",
        "\n",
        "The `docker build` command builds Docker images from a Dockerfile. \n",
        "\n",
        "```\n",
        "docker build -t hub-user/repo-name:tag .\n",
        "```\n",
        "\n",
        "Before running the command replace;\n",
        "\n",
        "- **hub-user** with your docker hub username, If you don’t have a docker hub account [follow these instructions to create docker account](https://docs.docker.com/docker-id/), and use the username of the account you created\n",
        "\n",
        "- **repo-name** with the name of the container, you can name it anything you want\n",
        "\n",
        "- **tag** this is not required but you can use the latest tag\n",
        "\n",
        "### Push the container\n",
        "\n",
        "Next, upload the image to the registry. This can be done by using the Docker hub username, repo name or tag.\n",
        "\n",
        "```\n",
        "docker push <hub-user>/<repo-name>:<tag>\n",
        "```\n",
        "\n",
        "## Running a Bacalhau Job to Generate Easy OCR output\n",
        "\n",
        "After the repo image has been pushed to docker hub, we can now use the container for running on Bacalhau. To submit a job, run the following Bacalhau command:"
      ]
    },
    {
      "cell_type": "code",
      "execution_count": null,
      "metadata": {
        "id": "T_sMuNQSK9Kg",
        "tags": [
          "skip-execution"
        ]
      },
      "outputs": [],
      "source": [
        "%%bash --out job_id\n",
        "bacalhau docker run \\\n",
        "-v bafybeibvcllzpfviggluobcfassm3vy4x2a4yanfxtmn4ir7olyzfrgq64:/root/.EasyOCR/model/zh_sim_g2.pth  \\\n",
        "-u https://raw.githubusercontent.com/JaidedAI/EasyOCR/ae773d693c3f355aac2e58f0d8142c600172f016/examples/chinese.jpg \\\n",
        "--timeout 3600 \\\n",
        "--wait-timeout-secs 3600 \\\n",
        "--gpu 1  \\\n",
        "--id-only \\\n",
        "--wait \\\n",
        "jsacex/easyocr \\\n",
        "--  easyocr -l ch_sim  en -f ./inputs/chinese.jpg --detail=1 --gpu=True\n"
      ]
    },
    {
      "attachments": {},
      "cell_type": "markdown",
      "metadata": {},
      "source": [
        "Structure of the command\n",
        "\n",
        "- **Mounting the model from IPFS**: -v bafybeibvcllzpfviggluobcfassm3vy4x2a4yanfxtmn4ir7olyzfrgq64:/root/.EasyOCR/model/zh_sim_g2.pth \n",
        "\n",
        "- **Mounting the Input Image from a URL**: -u https://raw.githubusercontent.com/JaidedAI/EasyOCR/ae773d693c3f355aac2e58f0d8142c600172f016/examples/chinese.jpg\n",
        "\n",
        "- **Specifying the no of GPUs**: --gpu 1\n",
        "\n",
        "- **Name of the Docker image**: jsacex/easyocr\n",
        "\n",
        "Breaking up the easyocr command\n",
        "\n",
        "`--  easyocr -l ch_sim  en -f ./inputs/chinese.jpg --detail=1 --gpu=True`\n",
        "\n",
        "- `-l`: the name of the model which is ch_sim\n",
        "\n",
        "- `-f`: path to the input Image or directory\n",
        "\n",
        "- `--detail=1`:  level of detail\n",
        "\n",
        "- `--gpu=True`: we set this flag to true since we are running inference on a GPU, if you run this on a CPU you set this to false \n"
      ]
    },
    {
      "attachments": {},
      "cell_type": "markdown",
      "metadata": {},
      "source": [
        "Since the model and the image aren't present in the container we will mount the image from an URL and the model from IPFS ou can find models to download from [here](https://www.jaided.ai/easyocr/modelhub/). You can choose the model you want to use in this case we will be using the zh_sim_g2 model\n",
        "\n",
        "When a job is sumbitted, Bacalhau prints out the related `job_id`. We store that in an environment variable so that we can reuse it later on."
      ]
    },
    {
      "cell_type": "code",
      "execution_count": null,
      "metadata": {
        "colab": {
          "base_uri": "https://localhost:8080/"
        },
        "id": "NyrU_AcYDBFM",
        "outputId": "4d4ab1ea-6f90-49bd-b0ba-0790e09011ca",
        "tags": [
          "skip-execution",
          "remove_cell"
        ]
      },
      "outputs": [],
      "source": [
        "%env JOB_ID={job_id}"
      ]
    },
    {
      "attachments": {},
      "cell_type": "markdown",
      "metadata": {},
      "source": [
        "## Checking the State of your Jobs\n",
        "\n",
        "- **Job status**: You can check the status of the job using `bacalhau list`. "
      ]
    },
    {
      "cell_type": "code",
      "execution_count": null,
      "metadata": {
        "colab": {
          "base_uri": "https://localhost:8080/"
        },
        "id": "WUOLOFk7El-c",
        "outputId": "0ce48c96-4211-4a6b-f28c-4ae679f60479",
        "tags": [
          "skip-execution"
        ]
      },
      "outputs": [],
      "source": [
        "%%bash\n",
        "bacalhau list --id-filter ${JOB_ID}"
      ]
    },
    {
      "attachments": {},
      "cell_type": "markdown",
      "metadata": {
        "id": "EzYQbkuZE8bY"
      },
      "source": [
        "When it says `Completed`, that means the job is done, and we can get the results.\n",
        "\n",
        "- **Job information**: You can find out more information about your job by using `bacalhau describe`."
      ]
    },
    {
      "cell_type": "code",
      "execution_count": null,
      "metadata": {
        "colab": {
          "base_uri": "https://localhost:8080/"
        },
        "id": "H__tI1_tE-XA",
        "outputId": "c1650735-b3a7-4065-b24b-fb7ec1a0e6ac",
        "tags": [
          "skip-execution"
        ]
      },
      "outputs": [],
      "source": [
        "%%bash\n",
        "bacalhau describe ${JOB_ID}"
      ]
    },
    {
      "attachments": {},
      "cell_type": "markdown",
      "metadata": {},
      "source": [
        "- **Job download**: You can download your job results directly by using `bacalhau get`. Alternatively, you can choose to create a directory to store your results. In the command below, we created a directory and downloaded our job output to be stored in that directory."
      ]
    },
    {
      "cell_type": "code",
      "execution_count": null,
      "metadata": {
        "colab": {
          "base_uri": "https://localhost:8080/"
        },
        "id": "7lqmiMJEFD2X",
        "outputId": "3d766e3f-6a7c-451e-cbac-4d8fcac019d8",
        "tags": [
          "skip-execution"
        ]
      },
      "outputs": [],
      "source": [
        "%%bash\n",
        "rm -rf results && mkdir -p results\n",
        "bacalhau get $JOB_ID --output-dir results"
      ]
    },
    {
      "attachments": {},
      "cell_type": "markdown",
      "metadata": {},
      "source": [
        "After the download has finished you should see the following contents in results directory\n",
        "\n",
        "## Viewing your Job Output\n",
        "\n",
        "Each job creates 3 subfolders: the **combined_results**, **per_shard files**, and the **raw** directory. To view the file, run the following command:"
      ]
    },
    {
      "cell_type": "code",
      "execution_count": null,
      "metadata": {
        "colab": {
          "base_uri": "https://localhost:8080/"
        },
        "id": "ZA0m728bFF__",
        "outputId": "5005a9cd-7e8b-4f61-b27c-5475339d7253",
        "tags": [
          "skip-execution"
        ]
      },
      "outputs": [],
      "source": [
        "%%bash\n",
        "ls results/ # list the contents of the current directory \n",
        "cat results/combined_results/stdout # list the contents of the current directory "
      ]
    }
  ],
  "metadata": {
    "colab": {
      "collapsed_sections": [],
      "provenance": []
    },
    "kernelspec": {
      "display_name": "Python 3.10.6 64-bit",
      "language": "python",
      "name": "python3"
    },
    "language_info": {
      "name": "python",
      "version": "3.8.10 (default, Jun 22 2022, 20:18:18) \n[GCC 9.4.0]"
    },
    "vscode": {
      "interpreter": {
        "hash": "916dbcbb3f70747c44a77c7bcd40155683ae19c65e1c03b4aa3499c5328201f1"
      }
    }
  },
  "nbformat": 4,
  "nbformat_minor": 0
}
