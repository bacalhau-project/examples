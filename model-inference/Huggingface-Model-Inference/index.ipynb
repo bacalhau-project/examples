{
  "cells": [
    {
      "cell_type": "raw",
      "metadata": {},
      "source": [
        "---\n",
        "sidebar_label: \"Huggingface-Model-Inference\"\n",
        "sidebar_position: 1\n",
        "---"
      ]
    },
    {
      "cell_type": "markdown",
      "metadata": {},
      "source": [
        "# Running Inference on Dolly 2.0 Model with Hugging Face"
      ]
    },
    {
      "attachments": {},
      "cell_type": "markdown",
      "metadata": {
        "id": "ur4QupdkJq1E"
      },
      "source": [
        "[![Open In Colab](https://colab.research.google.com/assets/colab-badge.svg)](https://colab.research.google.com/github/bacalhau-project/examples/blob/main/model-inference/Huggingface-Model-Inference/index.ipynb)\n",
        "[![Open In Binder](https://mybinder.org/badge.svg)](https://mybinder.org/v2/gh/bacalhau-project/examples/HEAD?labpath=model-inference/Huggingface-Model-Inference/index.ipynb)\n",
        "[![stars - badge-generator](https://img.shields.io/github/stars/bacalhau-project/bacalhau?style=social)](https://github.com/bacalhau-project/bacalhau)\n",
        "\n",
        "## Introduction\n",
        "Dolly 2.0, the groundbreaking, open-source, instruction-following Large Language Model (LLM) that has been fine-tuned on a human-generated instruction dataset, licensed for both research and commercial purposes. Developed using the EleutherAI Pythia model family, this 12-billion-parameter language model is built exclusively on a high-quality, human-generated instruction following dataset, contributed by Databricks employees.\n",
        "\n",
        "Dolly 2.0 package is open source, including the training code, dataset, and model weights, all available for commercial use. This unprecedented move empowers organizations to create, own, and customize robust LLMs capable of engaging in human-like interactions, without the need for API access fees or sharing data with third parties.\n",
        "\n",
        "## Running locally\n",
        "### Prerequisites\n",
        "- A NVIDIA GPU\n",
        "- Python\n",
        "\n",
        "### Installing dependencies\n"
      ]
    },
    {
      "cell_type": "code",
      "execution_count": null,
      "metadata": {
        "id": "UZY5pgetI8mN",
        "tags": [
          "skip-execution"
        ]
      },
      "outputs": [],
      "source": [
        "%%bash\n",
        "pip -q install git+https://github.com/huggingface/transformers # need to install from github\n",
        "pip -q install accelerate>=0.12.0"
      ]
    },
    {
      "cell_type": "markdown",
      "metadata": {
        "id": "9h6JHuDCKrdb"
      },
      "source": [
        "Creating the inference script\n"
      ]
    },
    {
      "cell_type": "code",
      "execution_count": null,
      "metadata": {
        "id": "dQbYHyijKsr6",
        "tags": [
          "skip-execution"
        ]
      },
      "outputs": [],
      "source": [
        "%%writefile inference.py\n",
        "import argparse\n",
        "import torch\n",
        "from transformers import pipeline\n",
        "\n",
        "def main(prompt_string, model_version):\n",
        "\n",
        "    # use dolly-v2-12b if you're using Colab Pro+, using pythia-2.8b for Free Colab\n",
        "    generate_text = pipeline(model=model_version, \n",
        "                            torch_dtype=torch.bfloat16, \n",
        "                            trust_remote_code=True,\n",
        "                            device_map=\"auto\")\n",
        "\n",
        "    print(generate_text(prompt_string))\n",
        "\n",
        "if __name__ == \"__main__\":\n",
        "    parser = argparse.ArgumentParser()\n",
        "    parser.add_argument(\"--prompt\", type=str, required=True, help=\"The prompt to be used in the GPT model\")\n",
        "    parser.add_argument(\"--model_version\", type=str, default=\"./databricks/dolly-v2-12b\", help=\"The model version to be used\")\n",
        "    args = parser.parse_args()\n",
        "    main(args.prompt, args.model_version)\n"
      ]
    },
    {
      "cell_type": "markdown",
      "metadata": {
        "id": "DJA1XT3ZLAbT"
      },
      "source": [
        "## Building the container (optional)\n",
        "\n",
        "### Prerequisite\n",
        "- Install Docker on your local machine.\n",
        "- Sign up for a DockerHub account if you don't already have one.\n",
        "Steps\n",
        "\n",
        "Step 1: Create a Dockerfile\n",
        "Create a new file named Dockerfile in your project directory with the following content:\n",
        "```Dockerfile\n",
        "FROM huggingface/transformers-pytorch-deepspeed-nightly-gpu\n",
        "\n",
        "RUN apt-get update -y\n",
        "\n",
        "RUN pip -q install git+https://github.com/huggingface/transformers\n",
        "\n",
        "RUN pip -q install accelerate>=0.12.0 \n",
        "\n",
        "WORKDIR /\n",
        "\n",
        "# COPY ./dolly_inference.py .\n",
        "```\n",
        "This Dockerfile sets up a container with the necessary dependencies and installs the Segment Anything Model from its GitHub repository.\n",
        "\n",
        "Step 2: Build the Docker Image\n",
        "In your terminal, navigate to the directory containing the Dockerfile and run the following command to build the Docker image:\n",
        "\n",
        "```bash\n",
        "docker build -t your-dockerhub-username/sam:lite .\n",
        "```\n",
        "Replace your-dockerhub-username with your actual DockerHub username. This command will build the Docker image and tag it with your DockerHub username and the name \"sam\".\n",
        "\n",
        "Step 3: Push the Docker Image to DockerHub\n",
        "Once the build process is complete, Next, push the Docker image to DockerHub using the following command:\n",
        "```bash\n",
        "docker push your-dockerhub-username/sam:lite\n",
        "```\n",
        "\n",
        "Again, replace your-dockerhub-username with your actual DockerHub username. This command will push the Docker image to your DockerHub repository."
      ]
    },
    {
      "cell_type": "markdown",
      "metadata": {
        "id": "LnwGvXnMXsgc"
      },
      "source": [
        "## Running Inference on Bacalhau\n",
        "\n",
        "### Prerequisite\n",
        "\n",
        "To get started, you need to install the Bacalhau client, see more information [here](https://docs.bacalhau.org/getting-started/installation)"
      ]
    },
    {
      "cell_type": "code",
      "execution_count": null,
      "metadata": {
        "colab": {
          "base_uri": "https://localhost:8080/"
        },
        "id": "_7P-o951kFjf",
        "outputId": "04109194-e305-4f05-822f-05eb2fb09ef3",
        "tags": [
          "remove_cell",
          "skip-execution"
        ]
      },
      "outputs": [],
      "source": [
        "%%bash\n",
        "curl -sL https://get.bacalhau.org/install.sh | bash"
      ]
    },
    {
      "cell_type": "markdown",
      "metadata": {
        "id": "YJRzCLV6MaAS"
      },
      "source": [
        "### Structure of the command\n",
        "\n",
        "\n",
        "```\n",
        "bacalhau docker run \\\n",
        "--gpu 1 \\\n",
        "-w /inputs \\\n",
        "-i gitlfs://huggingface.co/databricks/dolly-v2-3b.git \\\n",
        "-i https://raw.githubusercontent.com/bacalhau-project/example-scripts/main/inference-scripts/script.py \\\n",
        "jsacex/dolly_inference:latest \\\n",
        " -- python inference.py --prompt \"Where is Earth located ?\" --model_version \"./databricks/dolly-v2-3b\"\n",
        " ```\n",
        "\n",
        "\n",
        "\n",
        "\n",
        "* `docker run`: Docker command to run a container from a specified image.\n",
        "\n",
        "* `--gpu 1`: Flag to specify the number of GPUs to use for the execution. In this case, 1 GPU will be used.\n",
        "\n",
        "* `-w /inputs`: Flag to set the working directory inside the container to `/inputs`.\n",
        "\n",
        "* `-i gitlfs://huggingface.co/databricks/dolly-v2-3b.git`: Flag to clone the Dolly V2-3B model from Hugging Face's repository using Git LFS. The files will be mounted to `/inputs/databricks/dolly-v2-3b`.\n",
        "\n",
        "* `-i https://raw.githubusercontent.com/bacalhau-project/example-scripts/main/inference-scripts/script.py`: Flag to download the `inference.py` script from the provided URL. The file will be mounted to `/inputs/inference.py`.\n",
        "\n",
        "* `jsacex/dolly_inference:latest`: The name and the tag of the Docker image.\n",
        "\n",
        "* The command to run inference on the model: `python inference.py --prompt \"Where is Earth located ?\" --model_version \"./databricks/dolly-v2-3b\"`.\n",
        "\n",
        "  * `inference.py`: The Python script that runs the inference process using the Dolly V2-3B model.\n",
        "\n",
        "  * `--prompt \"Where is Earth located ?\"`: Specifies the text prompt to be used for the inference.\n",
        "\n",
        "  * `--model_version \"./databricks/dolly-v2-3b\"`: Specifies the path to the Dolly V2-3B model. In this case, the model files are mounted to `/inputs/databricks/dolly-v2-3b`.\n"
      ]
    },
    {
      "cell_type": "code",
      "execution_count": null,
      "metadata": {
        "cellView": "form",
        "colab": {
          "base_uri": "https://localhost:8080/"
        },
        "id": "4fkR7wl2Oash",
        "outputId": "bb5e98f9-8e0e-4482-c4cf-4b6126192665",
        "tags": [
          "remove_cell",
          "skip-execution"
        ]
      },
      "outputs": [],
      "source": [
        "#@title Execute this cell and Enter your prompt\n",
        "import subprocess\n",
        "import os\n",
        "import json\n",
        "import re\n",
        "from IPython.display import clear_output\n",
        "\n",
        "# Function to replace single quotes with double quotes, except when inside string values\n",
        "def replace_quotes(match):\n",
        "    s = match.group(0)\n",
        "    if s == \"'\":\n",
        "        return '\"'\n",
        "    else:\n",
        "        return s\n",
        "\n",
        "# Define the function to run the command with the provided prompt\n",
        "def run_command(prompt_value):\n",
        "    command = f'''\n",
        "    bacalhau docker run \\\n",
        "    --gpu 1 \\\n",
        "    --timeout 3600 \\\n",
        "    --wait-timeout-secs 3600 \\\n",
        "    --wait \\\n",
        "    --id-only \\\n",
        "    -w /inputs \\\n",
        "    -i gitlfs://huggingface.co/databricks/dolly-v2-3b.git \\\n",
        "    -i https://raw.githubusercontent.com/bacalhau-project/example-scripts/main/inference-scripts/script.py \\\n",
        "    jsacex/dolly_inference:latest \\\n",
        "     -- python inference.py --prompt \"{prompt_value}\" --model_version \"./databricks/dolly-v2-3b\"\n",
        "    '''\n",
        "    print(\"...\")\n",
        "    result = subprocess.run(command, stdout=subprocess.PIPE, shell=True, text=True)\n",
        "    job_id = result.stdout.strip()\n",
        "\n",
        "    if job_id:\n",
        "        # Store the job_id as an environment variable\n",
        "        os.environ['JOB_ID'] = job_id\n",
        "        job_id = os.environ['JOB_ID']\n",
        "        command_output = os.popen(f\"bacalhau logs {job_id}\").read()\n",
        "\n",
        "        # Extract the first line of the output\n",
        "        first_line = command_output.splitlines()[0]\n",
        "\n",
        "        # Replace single quotes with double quotes, except when inside string values\n",
        "        valid_json_string = re.sub(r'''(['\"])|(\\w+)'(\\w+)''', replace_quotes, first_line)\n",
        "\n",
        "        # Load the JSON string as a Python object\n",
        "        data = json.loads(valid_json_string)\n",
        "\n",
        "        # Access the 'generated_text' value\n",
        "        generated_text_value = data[0]['generated_text']\n",
        "\n",
        "        print(generated_text_value)\n",
        "    else:\n",
        "        print(\"Command execution failed.\")\n",
        "    \n",
        "# Get the prompt from the user\n",
        "clear_output(wait=True)\n",
        "prompt_value = input(\"Enter the prompt: \")\n",
        "\n",
        "# Run the command with the provided prompt\n",
        "run_command(prompt_value)\n",
        "\n",
        "\n",
        "# execute_code()\n",
        "# Create a button to execute the code\n",
        "# button = widgets.Button(description=\"Click to view outputs\")\n",
        "# button.on_click(execute_code)\n",
        "# display(button)"
      ]
    }
  ],
  "metadata": {
    "colab": {
      "provenance": []
    },
    "kernelspec": {
      "display_name": "Python 3",
      "name": "python3"
    },
    "language_info": {
      "name": "python"
    }
  },
  "nbformat": 4,
  "nbformat_minor": 0
}
