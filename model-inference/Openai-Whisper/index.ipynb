{
 "cells": [
  {
   "cell_type": "markdown",
   "metadata": {
    "id": "QPzzVz_o7GYH"
   },
   "source": [
    "# Speech Recognition using Whisper\n",
    "\n"
   ]
  },
  {
   "cell_type": "markdown",
   "metadata": {
    "id": "6P3IqysI7Iv2"
   },
   "source": [
    "\n",
    "# **Introduction**\n",
    "\n",
    "Whisper is an automatic speech recognition (ASR) system trained on 680,000 hours of multilingual and multitask supervised data collected from the web. We show that the use of such a large and diverse dataset leads to improved robustness to accents, background noise and technical language. Moreover, it enables transcription in multiple languages, as well as translation from those languages into English. We are open-sourcing models and inference code to serve as a foundation for building useful applications and for further research on robust speech processing.\n",
    "\n",
    "In this example we will transcribe an audio clip locally, containerize the script and then \n",
    "Run the container on bacalhau\n",
    "\n",
    "The advantages of using bacalhau over managed Automatic Speech Recognition services is that you can run your own containers which can scale to do batch process petabytes of Videos, Audio for automatic speech recognition, Using our sharding feature you can do distributed inference very easily and if you have the data stored on IPFS you don't need to move the data you can do compute where the data is located, and the cost of compute is much cheaper than managed services \n"
   ]
  },
  {
   "cell_type": "markdown",
   "metadata": {
    "id": "5UXMIVm_7RDm"
   },
   "source": [
    "\n",
    "# Running whisper locally\n",
    "\n",
    "Installing dependecies like Whisper, torch, pandas"
   ]
  },
  {
   "cell_type": "code",
   "execution_count": null,
   "metadata": {
    "id": "llbtihmTd6Ug",
    "tags": [
     "skip-execution"
    ]
   },
   "outputs": [],
   "source": [
    "%%bash\n",
    "pip install git+https://github.com/openai/whisper.git\n",
    "pip install torch==1.10.1\n",
    "pip install pandas\n",
    "sudo apt update && sudo apt install ffmpeg"
   ]
  },
  {
   "cell_type": "markdown",
   "metadata": {
    "id": "E-dL_8_T7veS"
   },
   "source": [
    "## Running the script\n",
    "\n",
    "Before we create and run the script we need a sample audio file to test the code\n",
    "\n",
    "for that we Download a sample audio clip\n",
    "\n"
   ]
  },
  {
   "cell_type": "code",
   "execution_count": 4,
   "metadata": {
    "colab": {
     "base_uri": "https://localhost:8080/"
    },
    "id": "Utdw5vUT7zDC",
    "outputId": "fa8e663c-f722-4596-be00-f4fd3b64d1c5",
    "tags": [
     "skip-execution"
    ]
   },
   "outputs": [
    {
     "name": "stderr",
     "output_type": "stream",
     "text": [
      "--2022-10-10 03:16:18--  https://github.com/js-ts/hello/raw/main/hello.mp3\n",
      "Resolving github.com (github.com)... 20.205.243.166\n",
      "Connecting to github.com (github.com)|20.205.243.166|:443... connected.\n",
      "HTTP request sent, awaiting response... 302 Found\n",
      "Location: https://raw.githubusercontent.com/js-ts/hello/main/hello.mp3 [following]\n",
      "--2022-10-10 03:16:19--  https://raw.githubusercontent.com/js-ts/hello/main/hello.mp3\n",
      "Resolving raw.githubusercontent.com (raw.githubusercontent.com)... 185.199.108.133, 185.199.109.133, 185.199.110.133, ...\n",
      "Connecting to raw.githubusercontent.com (raw.githubusercontent.com)|185.199.108.133|:443... connected.\n",
      "HTTP request sent, awaiting response... 200 OK\n",
      "Length: 10063 (9.8K) [audio/mpeg]\n",
      "Saving to: ‘hello.mp3’\n",
      "\n",
      "     0K .........                                             100% 52.3M=0s\n",
      "\n",
      "2022-10-10 03:16:19 (52.3 MB/s) - ‘hello.mp3’ saved [10063/10063]\n",
      "\n"
     ]
    }
   ],
   "source": [
    "%%bash\n",
    "wget https://github.com/js-ts/hello/raw/main/hello.mp3"
   ]
  },
  {
   "cell_type": "markdown",
   "metadata": {
    "id": "2TtRF1yc8Cx-"
   },
   "source": [
    "\n",
    "We will create a script that accepts parameters like input file path, output file path, temperature etc. and set the default parameters, if provided a mp4 file convert it to a .wav file\n",
    "\n",
    "and also save the transcript in various formats, after that we load the large model\n",
    "\n",
    "then pass it the required parameters, this model is not only limited to english and transcription\n",
    "\n",
    "It supports a lots of other languages and also does translation, to \n",
    "\n",
    "![](https://i.imgur.com/ALFe4qJ.png)\n"
   ]
  },
  {
   "cell_type": "code",
   "execution_count": 5,
   "metadata": {
    "colab": {
     "base_uri": "https://localhost:8080/"
    },
    "id": "twoFG2VH8Irh",
    "outputId": "ecabb5e1-d400-4a76-93bf-fcc056c42b41",
    "tags": [
     "skip-execution"
    ]
   },
   "outputs": [
    {
     "name": "stdout",
     "output_type": "stream",
     "text": [
      "Overwriting openai-whisper.py\n"
     ]
    }
   ],
   "source": [
    "%%writefile openai-whisper.py\n",
    "import argparse\n",
    "import os\n",
    "import sys\n",
    "import warnings\n",
    "import whisper\n",
    "from pathlib import Path\n",
    "import subprocess\n",
    "import torch\n",
    "import shutil\n",
    "import numpy as np\n",
    "parser = argparse.ArgumentParser(description=\"OpenAI Whisper Automatic Speech Recognition\")\n",
    "parser.add_argument(\"-l\",dest=\"audiolanguage\", type=str,help=\"Language spoken in the audio, use Auto detection to let Whisper detect the language. Select from the following languages['Auto detection', 'Afrikaans', 'Albanian', 'Amharic', 'Arabic', 'Armenian', 'Assamese', 'Azerbaijani', 'Bashkir', 'Basque', 'Belarusian', 'Bengali', 'Bosnian', 'Breton', 'Bulgarian', 'Burmese', 'Castilian', 'Catalan', 'Chinese', 'Croatian', 'Czech', 'Danish', 'Dutch', 'English', 'Estonian', 'Faroese', 'Finnish', 'Flemish', 'French', 'Galician', 'Georgian', 'German', 'Greek', 'Gujarati', 'Haitian', 'Haitian Creole', 'Hausa', 'Hawaiian', 'Hebrew', 'Hindi', 'Hungarian', 'Icelandic', 'Indonesian', 'Italian', 'Japanese', 'Javanese', 'Kannada', 'Kazakh', 'Khmer', 'Korean', 'Lao', 'Latin', 'Latvian', 'Letzeburgesch', 'Lingala', 'Lithuanian', 'Luxembourgish', 'Macedonian', 'Malagasy', 'Malay', 'Malayalam', 'Maltese', 'Maori', 'Marathi', 'Moldavian', 'Moldovan', 'Mongolian', 'Myanmar', 'Nepali', 'Norwegian', 'Nynorsk', 'Occitan', 'Panjabi', 'Pashto', 'Persian', 'Polish', 'Portuguese', 'Punjabi', 'Pushto', 'Romanian', 'Russian', 'Sanskrit', 'Serbian', 'Shona', 'Sindhi', 'Sinhala', 'Sinhalese', 'Slovak', 'Slovenian', 'Somali', 'Spanish', 'Sundanese', 'Swahili', 'Swedish', 'Tagalog', 'Tajik', 'Tamil', 'Tatar', 'Telugu', 'Thai', 'Tibetan', 'Turkish', 'Turkmen', 'Ukrainian', 'Urdu', 'Uzbek', 'Valencian', 'Vietnamese', 'Welsh', 'Yiddish', 'Yoruba'] \",default=\"English\")\n",
    "parser.add_argument(\"-p\",dest=\"inputpath\", type=str,help=\"Path of the input file\",default=\"/hello.mp3\")\n",
    "parser.add_argument(\"-v\",dest=\"typeverbose\", type=str,help=\"Whether to print out the progress and debug messages. ['Live transcription', 'Progress bar', 'None']\",default=\"Live transcription\")\n",
    "parser.add_argument(\"-g\",dest=\"outputtype\", type=str,help=\"Type of file to generate to record the transcription. ['All', '.txt', '.vtt', '.srt']\",default=\"All\")\n",
    "parser.add_argument(\"-s\",dest=\"speechtask\", type=str,help=\"Whether to perform X->X speech recognition (`transcribe`) or X->English translation (`translate`). ['transcribe', 'translate']\",default=\"transcribe\")\n",
    "parser.add_argument(\"-n\",dest=\"numSteps\", type=int,help=\"Number of Steps\",default=50)\n",
    "parser.add_argument(\"-t\",dest=\"decodingtemperature\", type=int,help=\"Temperature to increase when falling back when the decoding fails to meet either of the thresholds below.\",default=0.15 )\n",
    "parser.add_argument(\"-b\",dest=\"beamsize\", type=int,help=\"Number of Images\",default=5)\n",
    "parser.add_argument(\"-o\",dest=\"output\", type=str,help=\"Output Folder where to store the ouputs\",default=\"\")\n",
    "\n",
    "args=parser.parse_args()\n",
    "device = torch.device('cuda:0')\n",
    "print('Using device:', device, file=sys.stderr)\n",
    "\n",
    "Model = 'large'\n",
    "whisper_model =whisper.load_model(Model)\n",
    "video_path_local = os.getcwd()+args.inputpath\n",
    "file_name=os.path.basename(video_path_local)\n",
    "output_file_path=args.output\n",
    "\n",
    "if os.path.splitext(video_path_local)[1] == \".mp4\":\n",
    "    video_path_local_wav =os.path.splitext(file_name)[0]+\".wav\"\n",
    "    result  = subprocess.run([\"ffmpeg\", \"-i\", str(video_path_local), \"-vn\", \"-acodec\", \"pcm_s16le\", \"-ar\", \"16000\", \"-ac\", \"1\", str(video_path_local_wav)])\n",
    "\n",
    "# add language parameters\n",
    "# Language spoken in the audio, use Auto detection to let Whisper detect the language.\n",
    "#  ['Auto detection', 'Afrikaans', 'Albanian', 'Amharic', 'Arabic', 'Armenian', 'Assamese', 'Azerbaijani', 'Bashkir', 'Basque', 'Belarusian', 'Bengali', 'Bosnian', 'Breton', 'Bulgarian', 'Burmese', 'Castilian', 'Catalan', 'Chinese', 'Croatian', 'Czech', 'Danish', 'Dutch', 'English', 'Estonian', 'Faroese', 'Finnish', 'Flemish', 'French', 'Galician', 'Georgian', 'German', 'Greek', 'Gujarati', 'Haitian', 'Haitian Creole', 'Hausa', 'Hawaiian', 'Hebrew', 'Hindi', 'Hungarian', 'Icelandic', 'Indonesian', 'Italian', 'Japanese', 'Javanese', 'Kannada', 'Kazakh', 'Khmer', 'Korean', 'Lao', 'Latin', 'Latvian', 'Letzeburgesch', 'Lingala', 'Lithuanian', 'Luxembourgish', 'Macedonian', 'Malagasy', 'Malay', 'Malayalam', 'Maltese', 'Maori', 'Marathi', 'Moldavian', 'Moldovan', 'Mongolian', 'Myanmar', 'Nepali', 'Norwegian', 'Nynorsk', 'Occitan', 'Panjabi', 'Pashto', 'Persian', 'Polish', 'Portuguese', 'Punjabi', 'Pushto', 'Romanian', 'Russian', 'Sanskrit', 'Serbian', 'Shona', 'Sindhi', 'Sinhala', 'Sinhalese', 'Slovak', 'Slovenian', 'Somali', 'Spanish', 'Sundanese', 'Swahili', 'Swedish', 'Tagalog', 'Tajik', 'Tamil', 'Tatar', 'Telugu', 'Thai', 'Tibetan', 'Turkish', 'Turkmen', 'Ukrainian', 'Urdu', 'Uzbek', 'Valencian', 'Vietnamese', 'Welsh', 'Yiddish', 'Yoruba']\n",
    "language = args.audiolanguage\n",
    "# Whether to print out the progress and debug messages.\n",
    "# ['Live transcription', 'Progress bar', 'None']\n",
    "verbose = args.typeverbose\n",
    "#  Type of file to generate to record the transcription.\n",
    "# ['All', '.txt', '.vtt', '.srt']\n",
    "output_type = args.outputtype\n",
    "# Whether to perform X->X speech recognition (`transcribe`) or X->English translation (`translate`).\n",
    "# ['transcribe', 'translate']\n",
    "task = args.speechtask\n",
    "# Temperature to use for sampling.\n",
    "temperature = args.decodingtemperature\n",
    "#  Temperature to increase when falling back when the decoding fails to meet either of the thresholds below.\n",
    "temperature_increment_on_fallback = 0.2\n",
    "#  Number of candidates when sampling with non-zero temperature.\n",
    "best_of = 5\n",
    "#  Number of beams in beam search, only applicable when temperature is zero.\n",
    "beam_size = args.beamsize\n",
    "# Optional patience value to use in beam decoding, as in [*Beam Decoding with Controlled Patience*](https://arxiv.org/abs/2204.05424), the default (1.0) is equivalent to conventional beam search.\n",
    "patience = 1.0\n",
    "# Optional token length penalty coefficient (alpha) as in [*Google's Neural Machine Translation System*](https://arxiv.org/abs/1609.08144), set to negative value to uses simple length normalization.\n",
    "length_penalty = -0.05\n",
    "# Comma-separated list of token ids to suppress during sampling; '-1' will suppress most special characters except common punctuations.\n",
    "suppress_tokens = \"-1\"\n",
    "# Optional text to provide as a prompt for the first window.\n",
    "initial_prompt = \"\"\n",
    "# if True, provide the previous output of the model as a prompt for the next window; disabling may make the text inconsistent across windows, but the model becomes less prone to getting stuck in a failure loop.\n",
    "condition_on_previous_text = True\n",
    "#  whether to perform inference in fp16.\n",
    "fp16 = True\n",
    "#  If the gzip compression ratio is higher than this value, treat the decoding as failed.\n",
    "compression_ratio_threshold = 2.4\n",
    "# If the average log probability is lower than this value, treat the decoding as failed.\n",
    "logprob_threshold = -1.0\n",
    "# If the probability of the <|nospeech|> token is higher than this value AND the decoding has failed due to `logprob_threshold`, consider the segment as silence.\n",
    "no_speech_threshold = 0.6\n",
    "\n",
    "verbose_lut = {\n",
    "    'Live transcription': True,\n",
    "    'Progress bar': False,\n",
    "    'None': None\n",
    "}\n",
    "\n",
    "args = dict(\n",
    "    language = (None if language == \"Auto detection\" else language),\n",
    "    verbose = verbose_lut[verbose],\n",
    "    task = task,\n",
    "    temperature = temperature,\n",
    "    temperature_increment_on_fallback = temperature_increment_on_fallback,\n",
    "    best_of = best_of,\n",
    "    beam_size = beam_size,\n",
    "    patience=patience,\n",
    "    length_penalty=(length_penalty if length_penalty>=0.0 else None),\n",
    "    suppress_tokens=suppress_tokens,\n",
    "    initial_prompt=(None if not initial_prompt else initial_prompt),\n",
    "    condition_on_previous_text=condition_on_previous_text,\n",
    "    fp16=fp16,\n",
    "    compression_ratio_threshold=compression_ratio_threshold,\n",
    "    logprob_threshold=logprob_threshold,\n",
    "    no_speech_threshold=no_speech_threshold\n",
    ")\n",
    "\n",
    "temperature = args.pop(\"temperature\")\n",
    "temperature_increment_on_fallback = args.pop(\"temperature_increment_on_fallback\")\n",
    "if temperature_increment_on_fallback is not None:\n",
    "    temperature = tuple(np.arange(temperature, 1.0 + 1e-6, temperature_increment_on_fallback))\n",
    "else:\n",
    "    temperature = [temperature]\n",
    "\n",
    "if Model.endswith(\".en\") and args[\"language\"] not in {\"en\", \"English\"}:\n",
    "    warnings.warn(f\"{Model} is an English-only model but receipted '{args['language']}'; using English instead.\")\n",
    "    args[\"language\"] = \"en\"\n",
    "\n",
    "video_transcription = whisper.transcribe(\n",
    "    whisper_model,\n",
    "    str(video_path_local),\n",
    "    temperature=temperature,\n",
    "    **args,\n",
    ")\n",
    "\n",
    "# Save output\n",
    "writing_lut = {\n",
    "    '.txt': whisper.utils.write_txt,\n",
    "    '.vtt': whisper.utils.write_vtt,\n",
    "    '.srt': whisper.utils.write_txt,\n",
    "}\n",
    "\n",
    "if output_type == \"All\":\n",
    "    for suffix, write_suffix in writing_lut.items():\n",
    "        transcript_local_path =os.getcwd()+output_file_path+'/'+os.path.splitext(file_name)[0] +suffix\n",
    "        with open(transcript_local_path, \"w\", encoding=\"utf-8\") as f:\n",
    "            write_suffix(video_transcription[\"segments\"], file=f)\n",
    "        try:\n",
    "            transcript_drive_path =file_name\n",
    "        except:\n",
    "            print(f\"**Transcript file created: {transcript_local_path}**\")\n",
    "else:\n",
    "    transcript_local_path =output_file_path+'/'+os.path.splitext(file_name)[0] +output_type\n",
    "\n",
    "    with open(transcript_local_path, \"w\", encoding=\"utf-8\") as f:\n",
    "        writing_lut[output_type](video_transcription[\"segments\"], file=f)"
   ]
  },
  {
   "cell_type": "markdown",
   "metadata": {
    "id": "fiu1d2Lh8Ri5"
   },
   "source": [
    "\n",
    "\n",
    "Then run the script with the default parameters\n",
    "\n"
   ]
  },
  {
   "cell_type": "code",
   "execution_count": 6,
   "metadata": {
    "colab": {
     "base_uri": "https://localhost:8080/"
    },
    "id": "M1N11_Ui8UBg",
    "outputId": "d5a8752f-bf10-4254-bba0-56f31e245ef5",
    "tags": [
     "skip-execution"
    ]
   },
   "outputs": [
    {
     "name": "stdout",
     "output_type": "stream",
     "text": [
      "[00:00.000 --> 00:00.500]  Hello!\n"
     ]
    },
    {
     "name": "stderr",
     "output_type": "stream",
     "text": [
      "Using device: cuda:0\n",
      "\r",
      "  0%|                                              | 0.00/2.87G [00:00<?, ?iB/s]\r",
      "  0%|                                     | 4.75M/2.87G [00:00<01:03, 48.7MiB/s]\r",
      "  0%|                                     | 9.40M/2.87G [00:00<01:04, 48.0MiB/s]\r",
      "  0%|▏                                    | 14.0M/2.87G [00:00<01:07, 45.8MiB/s]\r",
      "  1%|▏                                    | 18.8M/2.87G [00:00<01:04, 47.4MiB/s]\r",
      "  1%|▎                                    | 23.3M/2.87G [00:00<01:04, 47.3MiB/s]\r",
      "  1%|▎                                    | 27.8M/2.87G [00:00<01:06, 45.8MiB/s]\r",
      "  1%|▍                                    | 32.5M/2.87G [00:00<01:05, 46.6MiB/s]\r",
      "  1%|▍                                    | 37.1M/2.87G [00:00<01:05, 46.9MiB/s]\r",
      "  1%|▌                                    | 41.9M/2.87G [00:00<01:03, 47.7MiB/s]\r",
      "  2%|▌                                    | 47.3M/2.87G [00:01<01:00, 50.2MiB/s]\r",
      "  2%|▋                                    | 52.1M/2.87G [00:01<01:04, 47.2MiB/s]\r",
      "  2%|▋                                    | 56.8M/2.87G [00:01<01:03, 47.7MiB/s]\r",
      "  2%|▊                                    | 62.1M/2.87G [00:01<01:00, 50.1MiB/s]\r",
      "  2%|▊                                    | 67.9M/2.87G [00:01<00:56, 53.1MiB/s]\r",
      "  3%|▉                                    | 75.1M/2.87G [00:01<00:50, 59.8MiB/s]\r",
      "  3%|█                                    | 82.5M/2.87G [00:01<00:46, 65.0MiB/s]\r",
      "  3%|█                                    | 88.7M/2.87G [00:01<00:47, 63.1MiB/s]\r",
      "  3%|█▏                                   | 94.8M/2.87G [00:01<00:48, 61.3MiB/s]\r",
      "  4%|█▎                                    | 103M/2.87G [00:01<00:43, 69.1MiB/s]\r",
      "  4%|█▍                                    | 110M/2.87G [00:02<00:53, 56.1MiB/s]\r",
      "  4%|█▍                                    | 116M/2.87G [00:02<00:58, 50.6MiB/s]\r",
      "  4%|█▌                                    | 121M/2.87G [00:02<01:00, 48.9MiB/s]\r",
      "  4%|█▌                                    | 126M/2.87G [00:02<01:01, 47.8MiB/s]\r",
      "  4%|█▋                                    | 130M/2.87G [00:02<01:01, 48.1MiB/s]\r",
      "  5%|█▋                                    | 135M/2.87G [00:02<01:06, 44.4MiB/s]\r",
      "  5%|█▊                                    | 140M/2.87G [00:02<01:04, 45.8MiB/s]\r",
      "  5%|█▊                                    | 144M/2.87G [00:03<01:08, 43.1MiB/s]\r",
      "  5%|█▉                                    | 150M/2.87G [00:03<01:01, 47.4MiB/s]\r",
      "  5%|█▉                                    | 155M/2.87G [00:03<01:00, 48.0MiB/s]\r",
      "  6%|██                                    | 162M/2.87G [00:03<00:52, 55.6MiB/s]\r",
      "  6%|██▏                                   | 167M/2.87G [00:03<00:53, 54.2MiB/s]\r",
      "  6%|██▏                                   | 173M/2.87G [00:03<00:55, 52.7MiB/s]\r",
      "  6%|██▎                                   | 178M/2.87G [00:03<00:55, 52.6MiB/s]\r",
      "  6%|██▎                                   | 183M/2.87G [00:03<00:54, 52.9MiB/s]\r",
      "  6%|██▍                                   | 188M/2.87G [00:03<00:57, 50.4MiB/s]\r",
      "  7%|██▍                                   | 193M/2.87G [00:03<01:01, 46.9MiB/s]\r",
      "  7%|██▌                                   | 197M/2.87G [00:04<01:01, 47.1MiB/s]\r",
      "  7%|██▌                                   | 203M/2.87G [00:04<00:58, 49.1MiB/s]\r",
      "  7%|██▋                                   | 208M/2.87G [00:04<00:55, 52.0MiB/s]\r",
      "  7%|██▊                                   | 213M/2.87G [00:04<00:57, 50.2MiB/s]\r",
      "  7%|██▊                                   | 218M/2.87G [00:04<01:02, 45.5MiB/s]\r",
      "  8%|██▉                                   | 224M/2.87G [00:04<00:58, 48.9MiB/s]\r",
      "  8%|███                                   | 232M/2.87G [00:04<00:46, 60.6MiB/s]\r",
      "  8%|███                                   | 238M/2.87G [00:04<00:49, 57.4MiB/s]\r",
      "  8%|███▏                                  | 244M/2.87G [00:04<00:50, 56.3MiB/s]\r",
      "  8%|███▏                                  | 250M/2.87G [00:05<00:49, 56.7MiB/s]\r",
      "  9%|███▎                                  | 255M/2.87G [00:05<00:48, 57.6MiB/s]\r",
      "  9%|███▎                                  | 261M/2.87G [00:05<00:48, 58.0MiB/s]\r",
      "  9%|███▍                                  | 268M/2.87G [00:05<00:44, 62.6MiB/s]\r",
      "  9%|███▌                                  | 275M/2.87G [00:05<00:43, 64.4MiB/s]\r",
      " 10%|███▌                                  | 281M/2.87G [00:05<01:04, 43.0MiB/s]\r",
      " 10%|███▋                                  | 286M/2.87G [00:05<01:04, 43.1MiB/s]\r",
      " 10%|███▊                                  | 291M/2.87G [00:05<01:03, 43.5MiB/s]\r",
      " 10%|███▊                                  | 297M/2.87G [00:06<00:57, 48.6MiB/s]\r",
      " 10%|███▉                                  | 302M/2.87G [00:06<00:56, 49.1MiB/s]\r",
      " 10%|███▉                                  | 307M/2.87G [00:06<00:55, 49.9MiB/s]\r",
      " 11%|████                                  | 312M/2.87G [00:06<00:56, 48.9MiB/s]\r",
      " 11%|████                                  | 317M/2.87G [00:06<00:57, 48.0MiB/s]\r",
      " 11%|████▏                                 | 321M/2.87G [00:06<00:57, 48.2MiB/s]\r",
      " 11%|████▏                                 | 326M/2.87G [00:06<00:56, 48.6MiB/s]\r",
      " 11%|████▎                                 | 334M/2.87G [00:06<00:47, 57.5MiB/s]\r",
      " 12%|████▍                                 | 345M/2.87G [00:06<00:36, 75.1MiB/s]\r",
      " 12%|████▌                                 | 352M/2.87G [00:07<00:41, 65.3MiB/s]\r",
      " 12%|████▋                                 | 359M/2.87G [00:07<00:42, 64.0MiB/s]\r",
      " 12%|████▋                                 | 365M/2.87G [00:07<00:44, 61.0MiB/s]\r",
      " 13%|████▊                                 | 371M/2.87G [00:07<00:46, 57.6MiB/s]\r",
      " 13%|████▊                                 | 377M/2.87G [00:07<00:47, 56.8MiB/s]\r",
      " 13%|████▉                                 | 382M/2.87G [00:07<00:49, 54.2MiB/s]\r",
      " 13%|████▉                                 | 387M/2.87G [00:07<00:49, 53.7MiB/s]\r",
      " 13%|█████                                 | 393M/2.87G [00:07<00:50, 52.8MiB/s]\r",
      " 14%|█████▏                                | 398M/2.87G [00:07<00:51, 51.8MiB/s]\r",
      " 14%|█████▏                                | 403M/2.87G [00:08<00:52, 50.3MiB/s]\r",
      " 14%|█████▎                                | 407M/2.87G [00:08<00:52, 50.2MiB/s]\r",
      " 14%|█████▎                                | 412M/2.87G [00:08<00:52, 50.2MiB/s]\r",
      " 14%|█████▍                                | 417M/2.87G [00:08<00:51, 51.0MiB/s]\r",
      " 14%|█████▍                                | 424M/2.87G [00:08<00:47, 55.4MiB/s]\r",
      " 15%|█████▌                                | 429M/2.87G [00:08<00:48, 54.5MiB/s]\r",
      " 15%|█████▌                                | 434M/2.87G [00:08<00:51, 51.4MiB/s]\r",
      " 15%|█████▋                                | 440M/2.87G [00:08<00:47, 54.9MiB/s]\r",
      " 15%|█████▊                                | 446M/2.87G [00:08<00:49, 52.8MiB/s]\r",
      " 15%|█████▊                                | 451M/2.87G [00:09<00:53, 48.6MiB/s]\r",
      " 15%|█████▉                                | 455M/2.87G [00:09<00:54, 48.3MiB/s]\r",
      " 16%|█████▉                                | 460M/2.87G [00:09<00:53, 48.8MiB/s]\r",
      " 16%|██████                                | 465M/2.87G [00:09<00:54, 48.1MiB/s]\r",
      " 16%|██████                                | 471M/2.87G [00:09<00:49, 52.6MiB/s]\r",
      " 16%|██████▏                               | 477M/2.87G [00:09<00:47, 54.2MiB/s]\r",
      " 16%|██████▏                               | 484M/2.87G [00:09<00:42, 60.3MiB/s]\r",
      " 17%|██████▎                               | 490M/2.87G [00:09<00:41, 62.7MiB/s]\r",
      " 17%|██████▍                               | 496M/2.87G [00:09<00:44, 57.5MiB/s]\r",
      " 17%|██████▍                               | 502M/2.87G [00:10<00:47, 54.4MiB/s]\r",
      " 17%|██████▌                               | 507M/2.87G [00:10<00:47, 53.6MiB/s]\r",
      " 17%|██████▌                               | 512M/2.87G [00:10<00:48, 53.0MiB/s]\r",
      " 18%|██████▋                               | 518M/2.87G [00:10<00:46, 54.8MiB/s]\r",
      " 18%|██████▊                               | 523M/2.87G [00:10<00:46, 54.1MiB/s]\r",
      " 18%|██████▊                               | 529M/2.87G [00:10<00:48, 52.6MiB/s]\r",
      " 18%|██████▉                               | 534M/2.87G [00:10<00:48, 52.1MiB/s]\r",
      " 18%|██████▉                               | 539M/2.87G [00:10<00:52, 48.3MiB/s]\r",
      " 18%|███████                               | 543M/2.87G [00:10<00:55, 45.7MiB/s]\r",
      " 19%|███████                               | 548M/2.87G [00:11<00:55, 45.1MiB/s]\r",
      " 19%|███████▏                              | 554M/2.87G [00:11<00:50, 49.1MiB/s]\r",
      " 19%|███████▏                              | 560M/2.87G [00:11<00:47, 53.1MiB/s]\r",
      " 19%|███████▎                              | 565M/2.87G [00:11<00:48, 51.3MiB/s]\r",
      " 19%|███████▎                              | 570M/2.87G [00:11<00:49, 50.2MiB/s]\r",
      " 20%|███████▍                              | 574M/2.87G [00:11<00:49, 49.8MiB/s]\r",
      " 20%|███████▍                              | 579M/2.87G [00:11<00:51, 48.4MiB/s]\r",
      " 20%|███████▌                              | 584M/2.87G [00:11<00:54, 45.7MiB/s]\r",
      " 20%|███████▌                              | 588M/2.87G [00:11<01:13, 33.8MiB/s]\r",
      " 20%|███████▋                              | 594M/2.87G [00:12<01:01, 39.9MiB/s]\r",
      " 20%|███████▊                              | 603M/2.87G [00:12<00:47, 51.2MiB/s]\r",
      " 21%|███████▊                              | 608M/2.87G [00:12<00:45, 53.6MiB/s]\r",
      " 21%|███████▉                              | 614M/2.87G [00:12<00:48, 50.9MiB/s]\r",
      " 21%|████████                              | 624M/2.87G [00:12<00:37, 65.7MiB/s]\r",
      " 21%|████████▏                             | 631M/2.87G [00:12<00:37, 64.7MiB/s]\r",
      " 22%|████████▏                             | 637M/2.87G [00:12<00:40, 60.4MiB/s]\r",
      " 22%|████████▎                             | 643M/2.87G [00:12<00:42, 56.8MiB/s]\r",
      " 22%|████████▍                             | 649M/2.87G [00:13<00:43, 55.4MiB/s]\r",
      " 22%|████████▍                             | 654M/2.87G [00:13<00:44, 54.1MiB/s]\r",
      " 22%|████████▌                             | 662M/2.87G [00:13<00:38, 61.7MiB/s]\r",
      " 23%|████████▋                             | 668M/2.87G [00:13<00:40, 59.2MiB/s]\r",
      " 23%|████████▋                             | 674M/2.87G [00:13<00:41, 56.7MiB/s]\r",
      " 23%|████████▊                             | 680M/2.87G [00:13<00:42, 55.4MiB/s]\r",
      " 23%|████████▊                             | 685M/2.87G [00:13<00:45, 51.5MiB/s]\r",
      " 23%|████████▉                             | 691M/2.87G [00:13<00:44, 53.0MiB/s]\r",
      " 24%|████████▉                             | 696M/2.87G [00:13<00:43, 53.7MiB/s]\r",
      " 24%|█████████                             | 702M/2.87G [00:14<00:42, 55.6MiB/s]\r",
      " 24%|█████████▏                            | 712M/2.87G [00:14<00:32, 70.9MiB/s]\r",
      " 24%|█████████▎                            | 719M/2.87G [00:14<00:34, 68.6MiB/s]\r",
      " 25%|█████████▎                            | 726M/2.87G [00:14<00:35, 66.1MiB/s]\r",
      " 25%|█████████▍                            | 732M/2.87G [00:14<00:37, 62.4MiB/s]\r",
      " 25%|█████████▌                            | 738M/2.87G [00:14<00:37, 61.7MiB/s]\r",
      " 25%|█████████▌                            | 745M/2.87G [00:14<00:36, 63.3MiB/s]\r",
      " 26%|█████████▋                            | 753M/2.87G [00:14<00:32, 70.1MiB/s]\r",
      " 26%|█████████▊                            | 760M/2.87G [00:14<00:36, 63.2MiB/s]\r",
      " 26%|█████████▉                            | 766M/2.87G [00:15<00:36, 62.5MiB/s]\r",
      " 26%|█████████▉                            | 772M/2.87G [00:15<00:38, 58.9MiB/s]\r",
      " 26%|██████████                            | 778M/2.87G [00:15<00:40, 56.2MiB/s]\r",
      " 27%|██████████                            | 783M/2.87G [00:15<00:41, 55.3MiB/s]\r",
      " 27%|██████████▏                           | 789M/2.87G [00:15<00:40, 55.8MiB/s]\r",
      " 27%|██████████▎                           | 794M/2.87G [00:15<00:40, 55.8MiB/s]\r",
      " 27%|██████████▎                           | 799M/2.87G [00:15<00:41, 53.8MiB/s]\r",
      " 27%|██████████▍                           | 805M/2.87G [00:15<00:40, 55.1MiB/s]\r",
      " 28%|██████████▍                           | 811M/2.87G [00:15<00:39, 56.9MiB/s]\r",
      " 28%|██████████▌                           | 816M/2.87G [00:15<00:40, 55.5MiB/s]\r",
      " 28%|██████████▌                           | 822M/2.87G [00:16<00:38, 57.2MiB/s]\r",
      " 28%|██████████▋                           | 830M/2.87G [00:16<00:35, 62.4MiB/s]\r",
      " 28%|██████████▊                           | 836M/2.87G [00:16<00:37, 59.6MiB/s]\r",
      " 29%|██████████▊                           | 841M/2.87G [00:16<00:39, 55.8MiB/s]\r",
      " 29%|██████████▉                           | 847M/2.87G [00:16<00:39, 55.9MiB/s]\r",
      " 29%|██████████▉                           | 852M/2.87G [00:16<00:40, 54.3MiB/s]\r",
      " 29%|███████████                           | 857M/2.87G [00:16<00:41, 52.6MiB/s]\r",
      " 29%|███████████▏                          | 862M/2.87G [00:16<00:42, 51.8MiB/s]\r",
      " 29%|███████████▏                          | 867M/2.87G [00:16<00:42, 51.7MiB/s]\r",
      " 30%|███████████▎                          | 872M/2.87G [00:17<00:41, 51.7MiB/s]\r",
      " 30%|███████████▎                          | 877M/2.87G [00:17<00:41, 52.0MiB/s]\r",
      " 30%|███████████▍                          | 883M/2.87G [00:17<00:40, 52.7MiB/s]\r",
      " 30%|███████████▍                          | 888M/2.87G [00:17<00:41, 51.9MiB/s]\r",
      " 30%|███████████▌                          | 893M/2.87G [00:17<00:39, 54.3MiB/s]\r",
      " 31%|███████████▌                          | 899M/2.87G [00:17<00:39, 54.0MiB/s]\r",
      " 31%|███████████▋                          | 904M/2.87G [00:17<00:40, 53.2MiB/s]\r",
      " 31%|███████████▋                          | 909M/2.87G [00:17<00:40, 52.5MiB/s]\r",
      " 31%|███████████▊                          | 914M/2.87G [00:17<00:41, 51.5MiB/s]\r",
      " 31%|███████████▊                          | 919M/2.87G [00:17<00:40, 52.0MiB/s]\r",
      " 31%|███████████▉                          | 925M/2.87G [00:18<00:38, 54.7MiB/s]\r",
      " 32%|████████████                          | 930M/2.87G [00:18<00:40, 52.0MiB/s]\r",
      " 32%|████████████                          | 935M/2.87G [00:18<00:41, 50.4MiB/s]\r",
      " 32%|████████████▏                         | 941M/2.87G [00:18<00:38, 53.9MiB/s]\r",
      " 32%|████████████▏                         | 947M/2.87G [00:18<00:37, 55.3MiB/s]\r",
      " 32%|████████████▎                         | 952M/2.87G [00:18<00:38, 54.1MiB/s]\r",
      " 33%|████████████▎                         | 957M/2.87G [00:18<00:39, 52.7MiB/s]\r",
      " 33%|████████████▍                         | 962M/2.87G [00:18<00:40, 51.9MiB/s]\r",
      " 33%|████████████▍                         | 967M/2.87G [00:18<00:40, 51.3MiB/s]\r",
      " 33%|████████████▌                         | 972M/2.87G [00:19<00:40, 51.2MiB/s]\r",
      " 33%|████████████▌                         | 977M/2.87G [00:19<00:40, 50.9MiB/s]\r",
      " 33%|████████████▋                         | 982M/2.87G [00:19<00:40, 51.0MiB/s]\r",
      " 34%|████████████▊                         | 990M/2.87G [00:19<00:33, 61.2MiB/s]\r",
      " 34%|████████████▊                         | 997M/2.87G [00:19<00:32, 63.2MiB/s]\r",
      " 34%|████████████▌                        | 0.98G/2.87G [00:19<00:33, 60.6MiB/s]\r",
      " 34%|████████████▋                        | 0.98G/2.87G [00:19<00:35, 57.0MiB/s]\r",
      " 34%|████████████▋                        | 0.99G/2.87G [00:19<00:42, 47.4MiB/s]\r",
      " 35%|████████████▊                        | 1.00G/2.87G [00:19<00:41, 49.1MiB/s]\r",
      " 35%|████████████▊                        | 1.00G/2.87G [00:20<00:41, 48.7MiB/s]\r",
      " 35%|████████████▉                        | 1.00G/2.87G [00:20<00:40, 49.4MiB/s]\r",
      " 35%|█████████████                        | 1.01G/2.87G [00:20<00:39, 51.3MiB/s]\r",
      " 35%|█████████████                        | 1.02G/2.87G [00:20<00:36, 54.9MiB/s]\r",
      " 36%|█████████████▏                       | 1.02G/2.87G [00:20<00:34, 57.3MiB/s]\r",
      " 36%|█████████████▎                       | 1.03G/2.87G [00:20<00:28, 68.4MiB/s]\r",
      " 36%|█████████████▎                       | 1.04G/2.87G [00:20<00:32, 60.5MiB/s]\r",
      " 36%|█████████████▍                       | 1.04G/2.87G [00:20<00:33, 58.6MiB/s]\r",
      " 36%|█████████████▍                       | 1.05G/2.87G [00:20<00:34, 57.3MiB/s]\r",
      " 37%|█████████████▌                       | 1.05G/2.87G [00:21<00:33, 58.6MiB/s]\r",
      " 37%|█████████████▋                       | 1.06G/2.87G [00:21<00:34, 55.8MiB/s]\r",
      " 37%|█████████████▋                       | 1.07G/2.87G [00:21<00:34, 55.8MiB/s]\r",
      " 37%|█████████████▊                       | 1.07G/2.87G [00:21<00:33, 57.1MiB/s]\r",
      " 37%|█████████████▊                       | 1.08G/2.87G [00:21<00:35, 54.6MiB/s]\r",
      " 38%|█████████████▉                       | 1.08G/2.87G [00:21<00:36, 53.1MiB/s]\r",
      " 38%|█████████████▉                       | 1.09G/2.87G [00:21<00:37, 51.8MiB/s]\r",
      " 38%|██████████████                       | 1.09G/2.87G [00:21<00:34, 55.3MiB/s]\r",
      " 38%|██████████████▏                      | 1.10G/2.87G [00:21<00:34, 55.2MiB/s]\r",
      " 38%|██████████████▏                      | 1.10G/2.87G [00:22<00:38, 49.5MiB/s]\r",
      " 39%|██████████████▎                      | 1.11G/2.87G [00:22<00:42, 44.4MiB/s]\r",
      " 39%|██████████████▎                      | 1.11G/2.87G [00:22<00:41, 46.0MiB/s]\r",
      " 39%|██████████████▍                      | 1.12G/2.87G [00:22<00:40, 47.0MiB/s]\r",
      " 39%|██████████████▍                      | 1.12G/2.87G [00:22<00:36, 51.7MiB/s]\r",
      " 39%|██████████████▌                      | 1.13G/2.87G [00:22<00:35, 52.5MiB/s]\r",
      " 39%|██████████████▌                      | 1.13G/2.87G [00:22<00:36, 51.8MiB/s]\r",
      " 40%|██████████████▋                      | 1.14G/2.87G [00:22<00:33, 56.0MiB/s]\r",
      " 40%|██████████████▋                      | 1.15G/2.87G [00:22<00:31, 58.3MiB/s]\r",
      " 40%|██████████████▊                      | 1.15G/2.87G [00:23<00:31, 58.1MiB/s]\r",
      " 40%|██████████████▉                      | 1.16G/2.87G [00:23<00:34, 53.7MiB/s]\r",
      " 40%|██████████████▉                      | 1.16G/2.87G [00:23<00:36, 50.3MiB/s]\r",
      " 41%|███████████████                      | 1.17G/2.87G [00:23<00:39, 46.5MiB/s]\r",
      " 41%|███████████████                      | 1.17G/2.87G [00:23<00:38, 47.4MiB/s]\r",
      " 41%|███████████████▏                     | 1.18G/2.87G [00:23<00:35, 51.6MiB/s]\r",
      " 41%|███████████████▏                     | 1.18G/2.87G [00:23<00:32, 55.3MiB/s]\r",
      " 41%|███████████████▎                     | 1.19G/2.87G [00:23<00:31, 57.0MiB/s]\r",
      " 42%|███████████████▎                     | 1.19G/2.87G [00:23<00:31, 56.5MiB/s]\r",
      " 42%|███████████████▍                     | 1.20G/2.87G [00:24<00:30, 59.2MiB/s]\r",
      " 42%|███████████████▌                     | 1.21G/2.87G [00:24<00:31, 56.0MiB/s]\r",
      " 42%|███████████████▌                     | 1.21G/2.87G [00:24<00:32, 55.0MiB/s]\r",
      " 42%|███████████████▋                     | 1.22G/2.87G [00:24<00:33, 53.6MiB/s]\r",
      " 42%|███████████████▋                     | 1.22G/2.87G [00:24<00:34, 51.9MiB/s]\r",
      " 43%|███████████████▊                     | 1.23G/2.87G [00:24<00:34, 50.9MiB/s]\r",
      " 43%|███████████████▊                     | 1.23G/2.87G [00:24<00:32, 54.7MiB/s]\r",
      " 43%|███████████████▉                     | 1.24G/2.87G [00:24<00:30, 57.1MiB/s]\r",
      " 43%|████████████████                     | 1.24G/2.87G [00:24<00:33, 52.6MiB/s]\r",
      " 43%|████████████████                     | 1.25G/2.87G [00:25<00:35, 49.9MiB/s]\r",
      " 44%|████████████████▏                    | 1.25G/2.87G [00:25<00:33, 52.4MiB/s]\r",
      " 44%|████████████████▏                    | 1.26G/2.87G [00:25<00:33, 51.8MiB/s]\r",
      " 44%|████████████████▎                    | 1.26G/2.87G [00:25<00:33, 52.3MiB/s]\r",
      " 44%|████████████████▎                    | 1.27G/2.87G [00:25<00:32, 52.4MiB/s]\r",
      " 44%|████████████████▍                    | 1.27G/2.87G [00:25<00:33, 51.8MiB/s]\r",
      " 44%|████████████████▍                    | 1.28G/2.87G [00:25<00:33, 50.9MiB/s]\r",
      " 45%|████████████████▌                    | 1.28G/2.87G [00:25<00:34, 50.2MiB/s]\r",
      " 45%|████████████████▌                    | 1.29G/2.87G [00:25<00:33, 50.2MiB/s]\r",
      " 45%|████████████████▋                    | 1.29G/2.87G [00:25<00:32, 51.7MiB/s]\r",
      " 45%|████████████████▋                    | 1.30G/2.87G [00:26<00:31, 53.4MiB/s]\r",
      " 45%|████████████████▊                    | 1.30G/2.87G [00:26<00:31, 53.7MiB/s]\r",
      " 46%|████████████████▊                    | 1.31G/2.87G [00:26<00:29, 57.0MiB/s]\r",
      " 46%|████████████████▉                    | 1.32G/2.87G [00:26<00:30, 54.9MiB/s]\r",
      " 46%|████████████████▉                    | 1.32G/2.87G [00:26<00:31, 52.5MiB/s]\r",
      " 46%|█████████████████                    | 1.33G/2.87G [00:26<00:31, 52.4MiB/s]\r",
      " 46%|█████████████████                    | 1.33G/2.87G [00:26<00:31, 52.4MiB/s]\r",
      " 46%|█████████████████▏                   | 1.34G/2.87G [00:26<00:31, 52.2MiB/s]\r",
      " 47%|█████████████████▏                   | 1.34G/2.87G [00:26<00:32, 50.5MiB/s]\r",
      " 47%|█████████████████▎                   | 1.34G/2.87G [00:26<00:32, 50.6MiB/s]\r",
      " 47%|█████████████████▎                   | 1.35G/2.87G [00:27<00:32, 49.7MiB/s]\r",
      " 47%|█████████████████▍                   | 1.35G/2.87G [00:27<00:32, 49.8MiB/s]\r",
      " 47%|█████████████████▍                   | 1.36G/2.87G [00:27<00:32, 50.3MiB/s]\r",
      " 47%|█████████████████▌                   | 1.36G/2.87G [00:27<00:30, 53.9MiB/s]\r",
      " 48%|█████████████████▋                   | 1.37G/2.87G [00:27<00:30, 53.9MiB/s]\r",
      " 48%|█████████████████▋                   | 1.37G/2.87G [00:27<00:33, 47.7MiB/s]\r",
      " 48%|█████████████████▊                   | 1.38G/2.87G [00:27<00:33, 47.8MiB/s]\r",
      " 48%|█████████████████▊                   | 1.38G/2.87G [00:27<00:32, 48.5MiB/s]\r",
      " 48%|█████████████████▉                   | 1.39G/2.87G [00:27<00:30, 52.1MiB/s]\r",
      " 49%|█████████████████▉                   | 1.39G/2.87G [00:28<00:30, 52.3MiB/s]\r",
      " 49%|██████████████████                   | 1.40G/2.87G [00:28<00:32, 49.3MiB/s]\r",
      " 49%|██████████████████                   | 1.40G/2.87G [00:28<00:32, 49.0MiB/s]\r",
      " 49%|██████████████████▏                  | 1.41G/2.87G [00:28<00:31, 50.4MiB/s]\r",
      " 49%|██████████████████▏                  | 1.41G/2.87G [00:28<00:33, 47.2MiB/s]\r",
      " 49%|██████████████████▎                  | 1.42G/2.87G [00:28<00:32, 47.6MiB/s]\r",
      " 50%|██████████████████▎                  | 1.42G/2.87G [00:28<00:36, 42.8MiB/s]\r",
      " 50%|██████████████████▎                  | 1.43G/2.87G [00:28<00:35, 43.8MiB/s]\r",
      " 50%|██████████████████▍                  | 1.43G/2.87G [00:28<00:34, 44.3MiB/s]\r",
      " 50%|██████████████████▍                  | 1.44G/2.87G [00:29<00:33, 45.8MiB/s]\r",
      " 50%|██████████████████▌                  | 1.44G/2.87G [00:29<00:30, 49.7MiB/s]\r",
      " 50%|██████████████████▌                  | 1.45G/2.87G [00:29<00:30, 50.5MiB/s]\r",
      " 51%|██████████████████▋                  | 1.45G/2.87G [00:29<00:30, 50.0MiB/s]\r",
      " 51%|██████████████████▋                  | 1.46G/2.87G [00:29<00:30, 49.6MiB/s]\r",
      " 51%|██████████████████▊                  | 1.46G/2.87G [00:29<00:30, 49.7MiB/s]\r",
      " 51%|██████████████████▉                  | 1.47G/2.87G [00:29<00:28, 53.8MiB/s]\r",
      " 51%|██████████████████▉                  | 1.47G/2.87G [00:29<00:26, 56.6MiB/s]\r",
      " 51%|███████████████████                  | 1.48G/2.87G [00:29<00:26, 57.1MiB/s]\r",
      " 52%|███████████████████                  | 1.48G/2.87G [00:29<00:27, 54.9MiB/s]\r",
      " 52%|███████████████████▏                 | 1.49G/2.87G [00:30<00:27, 53.3MiB/s]\r",
      " 52%|███████████████████▏                 | 1.49G/2.87G [00:30<00:31, 47.3MiB/s]\r",
      " 52%|███████████████████▎                 | 1.50G/2.87G [00:30<00:31, 47.5MiB/s]\r",
      " 52%|███████████████████▎                 | 1.50G/2.87G [00:30<00:30, 48.5MiB/s]\r",
      " 52%|███████████████████▍                 | 1.51G/2.87G [00:30<00:28, 51.2MiB/s]\r",
      " 53%|███████████████████▍                 | 1.52G/2.87G [00:30<00:26, 55.2MiB/s]\r",
      " 53%|███████████████████▌                 | 1.52G/2.87G [00:30<00:25, 57.0MiB/s]\r",
      " 53%|███████████████████▋                 | 1.53G/2.87G [00:30<00:24, 58.5MiB/s]\r",
      " 53%|███████████████████▋                 | 1.53G/2.87G [00:30<00:24, 58.7MiB/s]\r",
      " 53%|███████████████████▊                 | 1.54G/2.87G [00:31<00:25, 56.5MiB/s]\r",
      " 54%|███████████████████▊                 | 1.54G/2.87G [00:31<00:26, 54.8MiB/s]\r",
      " 54%|███████████████████▉                 | 1.55G/2.87G [00:31<00:26, 54.3MiB/s]\r",
      " 54%|███████████████████▉                 | 1.55G/2.87G [00:31<00:25, 55.7MiB/s]\r",
      " 54%|████████████████████                 | 1.56G/2.87G [00:31<00:27, 52.3MiB/s]\r",
      " 54%|████████████████████▏                | 1.56G/2.87G [00:31<00:28, 50.2MiB/s]\r",
      " 55%|████████████████████▏                | 1.57G/2.87G [00:31<00:27, 51.4MiB/s]\r",
      " 55%|████████████████████▎                | 1.57G/2.87G [00:31<00:27, 51.1MiB/s]\r",
      " 55%|████████████████████▎                | 1.58G/2.87G [00:31<00:28, 49.7MiB/s]\r",
      " 55%|████████████████████▍                | 1.58G/2.87G [00:32<00:27, 50.7MiB/s]\r",
      " 55%|████████████████████▍                | 1.59G/2.87G [00:32<00:27, 50.0MiB/s]\r",
      " 55%|████████████████████▌                | 1.59G/2.87G [00:32<00:29, 46.8MiB/s]\r",
      " 56%|████████████████████▌                | 1.60G/2.87G [00:32<00:29, 46.0MiB/s]\r",
      " 56%|████████████████████▌                | 1.60G/2.87G [00:32<00:29, 46.0MiB/s]\r",
      " 56%|████████████████████▋                | 1.61G/2.87G [00:32<00:28, 47.5MiB/s]\r",
      " 56%|████████████████████▊                | 1.61G/2.87G [00:32<00:24, 55.7MiB/s]\r",
      " 56%|████████████████████▊                | 1.62G/2.87G [00:32<00:22, 60.2MiB/s]\r",
      " 57%|████████████████████▉                | 1.63G/2.87G [00:32<00:22, 58.3MiB/s]\r",
      " 57%|████████████████████▉                | 1.63G/2.87G [00:32<00:22, 58.3MiB/s]\r",
      " 57%|█████████████████████                | 1.64G/2.87G [00:33<00:22, 58.5MiB/s]\r",
      " 57%|█████████████████████▏               | 1.64G/2.87G [00:33<00:22, 59.3MiB/s]\r",
      " 57%|█████████████████████▏               | 1.65G/2.87G [00:33<00:21, 60.7MiB/s]\r",
      " 58%|█████████████████████▎               | 1.65G/2.87G [00:33<00:21, 61.5MiB/s]\r",
      " 58%|█████████████████████▎               | 1.66G/2.87G [00:33<00:23, 55.8MiB/s]\r",
      " 58%|█████████████████████▍               | 1.67G/2.87G [00:33<00:24, 53.8MiB/s]\r",
      " 58%|█████████████████████▌               | 1.67G/2.87G [00:33<00:25, 50.0MiB/s]\r",
      " 58%|█████████████████████▌               | 1.68G/2.87G [00:33<00:25, 50.2MiB/s]\r",
      " 58%|█████████████████████▋               | 1.68G/2.87G [00:33<00:24, 51.8MiB/s]\r",
      " 59%|█████████████████████▋               | 1.69G/2.87G [00:34<00:20, 61.1MiB/s]\r",
      " 59%|█████████████████████▊               | 1.69G/2.87G [00:34<00:21, 60.2MiB/s]\r",
      " 59%|█████████████████████▉               | 1.70G/2.87G [00:34<00:21, 58.6MiB/s]\r",
      " 59%|█████████████████████▉               | 1.71G/2.87G [00:34<00:21, 59.1MiB/s]\r",
      " 60%|██████████████████████               | 1.71G/2.87G [00:34<00:20, 60.0MiB/s]\r",
      " 60%|██████████████████████               | 1.72G/2.87G [00:34<00:20, 59.7MiB/s]\r",
      " 60%|██████████████████████▏              | 1.72G/2.87G [00:34<00:20, 60.2MiB/s]\r",
      " 60%|██████████████████████▏              | 1.73G/2.87G [00:34<00:20, 60.4MiB/s]\r",
      " 60%|██████████████████████▎              | 1.73G/2.87G [00:34<00:21, 57.9MiB/s]\r",
      " 61%|██████████████████████▍              | 1.74G/2.87G [00:35<00:21, 55.6MiB/s]\r",
      " 61%|██████████████████████▍              | 1.75G/2.87G [00:35<00:21, 55.5MiB/s]\r",
      " 61%|██████████████████████▌              | 1.75G/2.87G [00:35<00:21, 56.0MiB/s]\r",
      " 61%|██████████████████████▌              | 1.76G/2.87G [00:35<00:21, 56.0MiB/s]\r",
      " 61%|██████████████████████▋              | 1.76G/2.87G [00:35<00:23, 51.7MiB/s]\r",
      " 61%|██████████████████████▋              | 1.77G/2.87G [00:35<00:23, 50.3MiB/s]\r",
      " 62%|██████████████████████▊              | 1.77G/2.87G [00:35<00:24, 49.3MiB/s]\r",
      " 62%|██████████████████████▊              | 1.78G/2.87G [00:35<00:21, 54.0MiB/s]\r",
      " 62%|██████████████████████▉              | 1.78G/2.87G [00:35<00:19, 61.5MiB/s]\r",
      " 62%|███████████████████████              | 1.79G/2.87G [00:35<00:19, 60.1MiB/s]\r",
      " 62%|███████████████████████              | 1.80G/2.87G [00:36<00:20, 57.8MiB/s]\r",
      " 63%|███████████████████████▏             | 1.80G/2.87G [00:36<00:19, 57.8MiB/s]\r",
      " 63%|███████████████████████▏             | 1.81G/2.87G [00:36<00:20, 56.5MiB/s]\r",
      " 63%|███████████████████████▎             | 1.81G/2.87G [00:36<00:20, 54.9MiB/s]\r",
      " 63%|███████████████████████▍             | 1.82G/2.87G [00:36<00:21, 53.5MiB/s]\r",
      " 63%|███████████████████████▍             | 1.82G/2.87G [00:36<00:21, 52.6MiB/s]\r",
      " 64%|███████████████████████▌             | 1.83G/2.87G [00:36<00:19, 56.6MiB/s]\r",
      " 64%|███████████████████████▌             | 1.83G/2.87G [00:36<00:19, 56.8MiB/s]\r",
      " 64%|███████████████████████▋             | 1.84G/2.87G [00:36<00:19, 56.4MiB/s]\r",
      " 64%|███████████████████████▋             | 1.84G/2.87G [00:37<00:20, 53.2MiB/s]\r",
      " 64%|███████████████████████▊             | 1.85G/2.87G [00:37<00:19, 56.7MiB/s]\r",
      " 65%|███████████████████████▉             | 1.86G/2.87G [00:37<00:18, 58.2MiB/s]\r",
      " 65%|███████████████████████▉             | 1.86G/2.87G [00:37<00:19, 56.4MiB/s]\r",
      " 65%|████████████████████████             | 1.87G/2.87G [00:37<00:19, 54.8MiB/s]\r",
      " 65%|████████████████████████             | 1.87G/2.87G [00:37<00:18, 57.2MiB/s]\r",
      " 65%|████████████████████████▏            | 1.88G/2.87G [00:37<00:18, 56.6MiB/s]\r",
      " 66%|████████████████████████▏            | 1.88G/2.87G [00:37<00:19, 53.3MiB/s]\r",
      " 66%|████████████████████████▎            | 1.89G/2.87G [00:37<00:18, 56.0MiB/s]\r",
      " 66%|████████████████████████▍            | 1.90G/2.87G [00:38<00:18, 58.3MiB/s]\r",
      " 66%|████████████████████████▍            | 1.90G/2.87G [00:38<00:17, 58.3MiB/s]\r",
      " 66%|████████████████████████▌            | 1.91G/2.87G [00:38<00:18, 56.4MiB/s]\r",
      " 66%|████████████████████████▌            | 1.91G/2.87G [00:38<00:19, 53.2MiB/s]\r",
      " 67%|████████████████████████▋            | 1.92G/2.87G [00:38<00:19, 52.5MiB/s]\r",
      " 67%|████████████████████████▋            | 1.92G/2.87G [00:38<00:19, 52.2MiB/s]\r",
      " 67%|████████████████████████▊            | 1.93G/2.87G [00:38<00:19, 51.9MiB/s]\r",
      " 67%|████████████████████████▊            | 1.93G/2.87G [00:38<00:19, 51.0MiB/s]\r",
      " 67%|████████████████████████▉            | 1.94G/2.87G [00:38<00:20, 50.1MiB/s]\r",
      " 67%|████████████████████████▉            | 1.94G/2.87G [00:38<00:20, 48.4MiB/s]\r",
      " 68%|█████████████████████████            | 1.95G/2.87G [00:39<00:19, 50.6MiB/s]\r",
      " 68%|█████████████████████████            | 1.95G/2.87G [00:39<00:19, 50.3MiB/s]\r",
      " 68%|█████████████████████████▏           | 1.96G/2.87G [00:39<00:19, 51.7MiB/s]\r",
      " 68%|█████████████████████████▏           | 1.96G/2.87G [00:39<00:17, 55.8MiB/s]\r",
      " 69%|█████████████████████████▎           | 1.97G/2.87G [00:39<00:14, 66.6MiB/s]\r",
      " 69%|█████████████████████████▍           | 1.98G/2.87G [00:39<00:14, 66.2MiB/s]\r",
      " 69%|█████████████████████████▌           | 1.98G/2.87G [00:39<00:16, 57.2MiB/s]\r",
      " 69%|█████████████████████████▌           | 1.99G/2.87G [00:39<00:16, 58.0MiB/s]\r",
      " 69%|█████████████████████████▋           | 1.99G/2.87G [00:40<00:18, 50.3MiB/s]\r",
      " 70%|█████████████████████████▋           | 2.00G/2.87G [00:40<00:18, 50.4MiB/s]\r",
      " 70%|█████████████████████████▊           | 2.00G/2.87G [00:40<00:18, 50.1MiB/s]\r",
      " 70%|█████████████████████████▊           | 2.01G/2.87G [00:40<00:19, 48.0MiB/s]\r",
      " 70%|█████████████████████████▉           | 2.01G/2.87G [00:40<00:18, 50.8MiB/s]\r",
      " 70%|█████████████████████████▉           | 2.02G/2.87G [00:40<00:16, 54.1MiB/s]\r",
      " 70%|██████████████████████████           | 2.03G/2.87G [00:40<00:16, 56.1MiB/s]\r",
      " 71%|██████████████████████████▏          | 2.03G/2.87G [00:40<00:15, 57.3MiB/s]\r",
      " 71%|██████████████████████████▏          | 2.04G/2.87G [00:40<00:18, 47.7MiB/s]\r",
      " 71%|██████████████████████████▎          | 2.04G/2.87G [00:41<00:17, 51.1MiB/s]\r",
      " 71%|██████████████████████████▎          | 2.05G/2.87G [00:41<00:16, 52.6MiB/s]\r",
      " 71%|██████████████████████████▍          | 2.05G/2.87G [00:41<00:16, 52.2MiB/s]\r",
      " 72%|██████████████████████████▍          | 2.06G/2.87G [00:41<00:16, 54.2MiB/s]\r",
      " 72%|██████████████████████████▌          | 2.06G/2.87G [00:41<00:15, 55.8MiB/s]\r",
      " 72%|██████████████████████████▋          | 2.07G/2.87G [00:41<00:15, 55.2MiB/s]\r",
      " 72%|██████████████████████████▋          | 2.08G/2.87G [00:41<00:13, 65.2MiB/s]\r",
      " 72%|██████████████████████████▊          | 2.08G/2.87G [00:41<00:12, 65.4MiB/s]\r",
      " 73%|██████████████████████████▉          | 2.09G/2.87G [00:41<00:13, 62.6MiB/s]\r",
      " 73%|██████████████████████████▉          | 2.10G/2.87G [00:41<00:13, 60.1MiB/s]\r",
      " 73%|███████████████████████████          | 2.10G/2.87G [00:42<00:13, 59.8MiB/s]\r",
      " 73%|███████████████████████████▏         | 2.11G/2.87G [00:42<00:13, 61.3MiB/s]\r",
      " 74%|███████████████████████████▏         | 2.11G/2.87G [00:42<00:13, 62.1MiB/s]\r",
      " 74%|███████████████████████████▎         | 2.12G/2.87G [00:42<00:12, 63.0MiB/s]\r",
      " 74%|███████████████████████████▎         | 2.13G/2.87G [00:42<00:12, 62.5MiB/s]\r",
      " 74%|███████████████████████████▍         | 2.13G/2.87G [00:42<00:13, 58.8MiB/s]\r",
      " 74%|███████████████████████████▌         | 2.14G/2.87G [00:42<00:13, 59.3MiB/s]\r",
      " 75%|███████████████████████████▌         | 2.14G/2.87G [00:42<00:13, 59.4MiB/s]\r",
      " 75%|███████████████████████████▋         | 2.15G/2.87G [00:42<00:13, 59.6MiB/s]\r",
      " 75%|███████████████████████████▋         | 2.15G/2.87G [00:43<00:13, 55.4MiB/s]\r",
      " 75%|███████████████████████████▊         | 2.16G/2.87G [00:43<00:14, 54.5MiB/s]\r",
      " 75%|███████████████████████████▊         | 2.16G/2.87G [00:43<00:14, 53.1MiB/s]\r",
      " 75%|███████████████████████████▉         | 2.17G/2.87G [00:43<00:14, 51.3MiB/s]\r",
      " 76%|███████████████████████████▉         | 2.17G/2.87G [00:43<00:15, 49.3MiB/s]\r",
      " 76%|████████████████████████████         | 2.18G/2.87G [00:43<00:15, 48.8MiB/s]\r",
      " 76%|████████████████████████████         | 2.18G/2.87G [00:43<00:15, 49.3MiB/s]\r",
      " 76%|████████████████████████████▏        | 2.19G/2.87G [00:43<00:15, 46.2MiB/s]\r",
      " 76%|████████████████████████████▏        | 2.19G/2.87G [00:43<00:16, 45.5MiB/s]\r",
      " 76%|████████████████████████████▎        | 2.20G/2.87G [00:43<00:16, 45.1MiB/s]\r",
      " 77%|████████████████████████████▎        | 2.20G/2.87G [00:44<00:15, 46.8MiB/s]\r",
      " 77%|████████████████████████████▍        | 2.21G/2.87G [00:44<00:13, 51.3MiB/s]\r",
      " 77%|████████████████████████████▍        | 2.21G/2.87G [00:44<00:13, 54.2MiB/s]\r",
      " 77%|████████████████████████████▌        | 2.22G/2.87G [00:44<00:12, 55.4MiB/s]\r",
      " 77%|████████████████████████████▋        | 2.22G/2.87G [00:44<00:12, 56.0MiB/s]\r",
      " 78%|████████████████████████████▋        | 2.23G/2.87G [00:44<00:12, 55.8MiB/s]\r",
      " 78%|████████████████████████████▊        | 2.23G/2.87G [00:44<00:12, 53.5MiB/s]\r",
      " 78%|████████████████████████████▊        | 2.24G/2.87G [00:44<00:12, 55.7MiB/s]\r",
      " 78%|████████████████████████████▉        | 2.25G/2.87G [00:44<00:11, 57.5MiB/s]\r",
      " 78%|████████████████████████████▉        | 2.25G/2.87G [00:45<00:11, 59.2MiB/s]\r",
      " 79%|█████████████████████████████        | 2.26G/2.87G [00:45<00:11, 59.0MiB/s]\r",
      " 79%|█████████████████████████████▏       | 2.26G/2.87G [00:45<00:11, 59.4MiB/s]\r",
      " 79%|█████████████████████████████▏       | 2.27G/2.87G [00:45<00:11, 57.9MiB/s]\r",
      " 79%|█████████████████████████████▎       | 2.27G/2.87G [00:45<00:11, 56.3MiB/s]\r",
      " 79%|█████████████████████████████▎       | 2.28G/2.87G [00:45<00:10, 58.2MiB/s]\r",
      " 80%|█████████████████████████████▍       | 2.29G/2.87G [00:45<00:11, 56.0MiB/s]\r",
      " 80%|█████████████████████████████▍       | 2.29G/2.87G [00:45<00:11, 54.4MiB/s]\r",
      " 80%|█████████████████████████████▌       | 2.30G/2.87G [00:45<00:10, 57.6MiB/s]\r",
      " 80%|█████████████████████████████▋       | 2.30G/2.87G [00:45<00:11, 54.8MiB/s]\r",
      " 80%|█████████████████████████████▋       | 2.31G/2.87G [00:46<00:11, 54.7MiB/s]\r",
      " 80%|█████████████████████████████▊       | 2.31G/2.87G [00:46<00:11, 53.9MiB/s]\r",
      " 81%|█████████████████████████████▊       | 2.32G/2.87G [00:46<00:09, 63.0MiB/s]\r",
      " 81%|█████████████████████████████▉       | 2.33G/2.87G [00:46<00:09, 59.6MiB/s]\r",
      " 81%|██████████████████████████████       | 2.33G/2.87G [00:46<00:10, 55.6MiB/s]\r",
      " 81%|██████████████████████████████       | 2.34G/2.87G [00:46<00:10, 54.1MiB/s]\r",
      " 81%|██████████████████████████████▏      | 2.34G/2.87G [00:46<00:10, 53.2MiB/s]\r",
      " 82%|██████████████████████████████▏      | 2.35G/2.87G [00:46<00:10, 53.3MiB/s]\r",
      " 82%|██████████████████████████████▎      | 2.35G/2.87G [00:46<00:10, 54.8MiB/s]\r",
      " 82%|██████████████████████████████▎      | 2.36G/2.87G [00:47<00:09, 57.0MiB/s]\r",
      " 82%|██████████████████████████████▍      | 2.37G/2.87G [00:47<00:08, 66.6MiB/s]\r",
      " 83%|██████████████████████████████▌      | 2.37G/2.87G [00:47<00:08, 63.1MiB/s]\r",
      " 83%|██████████████████████████████▋      | 2.38G/2.87G [00:47<00:08, 61.2MiB/s]\r",
      " 83%|██████████████████████████████▋      | 2.39G/2.87G [00:47<00:09, 57.6MiB/s]\r",
      " 83%|██████████████████████████████▊      | 2.39G/2.87G [00:47<00:09, 54.8MiB/s]\r",
      " 83%|██████████████████████████████▊      | 2.40G/2.87G [00:47<00:09, 54.1MiB/s]\r",
      " 84%|██████████████████████████████▉      | 2.40G/2.87G [00:47<00:09, 53.6MiB/s]\r",
      " 84%|██████████████████████████████▉      | 2.41G/2.87G [00:47<00:09, 53.1MiB/s]\r",
      " 84%|███████████████████████████████      | 2.41G/2.87G [00:48<00:09, 51.9MiB/s]\r",
      " 84%|███████████████████████████████      | 2.42G/2.87G [00:48<00:09, 51.8MiB/s]\r",
      " 84%|███████████████████████████████▏     | 2.42G/2.87G [00:48<00:08, 54.4MiB/s]\r",
      " 84%|███████████████████████████████▏     | 2.43G/2.87G [00:48<00:09, 53.5MiB/s]\r",
      " 85%|███████████████████████████████▎     | 2.43G/2.87G [00:48<00:08, 54.8MiB/s]\r",
      " 85%|███████████████████████████████▎     | 2.44G/2.87G [00:48<00:08, 55.8MiB/s]\r",
      " 85%|███████████████████████████████▍     | 2.44G/2.87G [00:48<00:08, 57.8MiB/s]\r",
      " 85%|███████████████████████████████▌     | 2.45G/2.87G [00:48<00:08, 56.2MiB/s]\r",
      " 85%|███████████████████████████████▌     | 2.45G/2.87G [00:48<00:08, 54.9MiB/s]\r",
      " 86%|███████████████████████████████▋     | 2.46G/2.87G [00:49<00:08, 51.4MiB/s]\r",
      " 86%|███████████████████████████████▋     | 2.47G/2.87G [00:49<00:08, 54.7MiB/s]\r",
      " 86%|███████████████████████████████▊     | 2.47G/2.87G [00:49<00:07, 57.3MiB/s]\r",
      " 86%|███████████████████████████████▉     | 2.48G/2.87G [00:49<00:07, 57.9MiB/s]\r",
      " 86%|███████████████████████████████▉     | 2.48G/2.87G [00:49<00:07, 56.0MiB/s]\r",
      " 87%|████████████████████████████████     | 2.49G/2.87G [00:49<00:07, 54.4MiB/s]\r",
      " 87%|████████████████████████████████     | 2.49G/2.87G [00:49<00:07, 53.2MiB/s]\r",
      " 87%|████████████████████████████████▏    | 2.50G/2.87G [00:49<00:07, 51.7MiB/s]\r",
      " 87%|████████████████████████████████▏    | 2.50G/2.87G [00:49<00:07, 52.6MiB/s]\r",
      " 87%|████████████████████████████████▎    | 2.51G/2.87G [00:49<00:07, 53.4MiB/s]\r",
      " 87%|████████████████████████████████▎    | 2.51G/2.87G [00:50<00:07, 53.1MiB/s]\r",
      " 88%|████████████████████████████████▍    | 2.52G/2.87G [00:50<00:07, 54.0MiB/s]\r",
      " 88%|████████████████████████████████▍    | 2.52G/2.87G [00:50<00:06, 55.3MiB/s]\r",
      " 88%|████████████████████████████████▌    | 2.53G/2.87G [00:50<00:06, 54.2MiB/s]\r",
      " 88%|████████████████████████████████▋    | 2.54G/2.87G [00:50<00:05, 61.2MiB/s]\r",
      " 88%|████████████████████████████████▋    | 2.54G/2.87G [00:50<00:05, 63.3MiB/s]\r",
      " 89%|████████████████████████████████▊    | 2.55G/2.87G [00:50<00:05, 59.9MiB/s]\r",
      " 89%|████████████████████████████████▊    | 2.55G/2.87G [00:50<00:06, 56.7MiB/s]\r",
      " 89%|████████████████████████████████▉    | 2.56G/2.87G [00:50<00:06, 50.0MiB/s]\r",
      " 89%|█████████████████████████████████    | 2.56G/2.87G [00:51<00:06, 51.0MiB/s]\r",
      " 89%|█████████████████████████████████    | 2.57G/2.87G [00:51<00:06, 53.8MiB/s]\r",
      " 90%|█████████████████████████████████▏   | 2.58G/2.87G [00:51<00:06, 49.5MiB/s]\r",
      " 90%|█████████████████████████████████▏   | 2.58G/2.87G [00:51<00:06, 49.2MiB/s]\r",
      " 90%|█████████████████████████████████▎   | 2.58G/2.87G [00:51<00:06, 48.8MiB/s]\r",
      " 90%|█████████████████████████████████▎   | 2.59G/2.87G [00:51<00:05, 51.6MiB/s]\r",
      " 90%|█████████████████████████████████▍   | 2.60G/2.87G [00:51<00:05, 54.5MiB/s]\r",
      " 90%|█████████████████████████████████▍   | 2.60G/2.87G [00:51<00:05, 56.2MiB/s]\r",
      " 91%|█████████████████████████████████▌   | 2.61G/2.87G [00:51<00:04, 57.5MiB/s]\r",
      " 91%|█████████████████████████████████▋   | 2.61G/2.87G [00:52<00:04, 59.0MiB/s]\r",
      " 91%|█████████████████████████████████▋   | 2.62G/2.87G [00:52<00:04, 59.5MiB/s]\r",
      " 91%|█████████████████████████████████▊   | 2.62G/2.87G [00:52<00:04, 59.6MiB/s]\r",
      " 91%|█████████████████████████████████▊   | 2.63G/2.87G [00:52<00:04, 56.5MiB/s]\r",
      " 92%|█████████████████████████████████▉   | 2.64G/2.87G [00:52<00:04, 56.4MiB/s]\r",
      " 92%|█████████████████████████████████▉   | 2.64G/2.87G [00:52<00:04, 57.2MiB/s]\r",
      " 92%|██████████████████████████████████   | 2.65G/2.87G [00:52<00:04, 51.3MiB/s]\r",
      " 92%|██████████████████████████████████   | 2.65G/2.87G [00:52<00:04, 49.8MiB/s]\r",
      " 92%|██████████████████████████████████▏  | 2.66G/2.87G [00:52<00:04, 50.2MiB/s]\r",
      " 93%|██████████████████████████████████▏  | 2.66G/2.87G [00:52<00:04, 50.3MiB/s]\r",
      " 93%|██████████████████████████████████▎  | 2.67G/2.87G [00:53<00:04, 50.4MiB/s]\r",
      " 93%|██████████████████████████████████▍  | 2.67G/2.87G [00:53<00:04, 53.0MiB/s]\r",
      " 93%|██████████████████████████████████▍  | 2.68G/2.87G [00:53<00:03, 54.7MiB/s]\r",
      " 93%|██████████████████████████████████▌  | 2.68G/2.87G [00:53<00:03, 54.8MiB/s]\r",
      " 93%|██████████████████████████████████▌  | 2.69G/2.87G [00:53<00:03, 53.8MiB/s]\r",
      " 94%|██████████████████████████████████▋  | 2.69G/2.87G [00:53<00:03, 54.7MiB/s]\r",
      " 94%|██████████████████████████████████▋  | 2.70G/2.87G [00:53<00:03, 52.4MiB/s]\r",
      " 94%|██████████████████████████████████▊  | 2.70G/2.87G [00:53<00:03, 47.7MiB/s]\r",
      " 94%|██████████████████████████████████▊  | 2.71G/2.87G [00:53<00:03, 49.3MiB/s]\r",
      " 94%|██████████████████████████████████▉  | 2.71G/2.87G [00:54<00:03, 50.1MiB/s]\r",
      " 95%|██████████████████████████████████▉  | 2.72G/2.87G [00:54<00:03, 47.9MiB/s]\r",
      " 95%|███████████████████████████████████  | 2.72G/2.87G [00:54<00:03, 47.2MiB/s]\r",
      " 95%|███████████████████████████████████  | 2.73G/2.87G [00:54<00:03, 48.3MiB/s]\r",
      " 95%|███████████████████████████████████▏ | 2.73G/2.87G [00:54<00:03, 51.2MiB/s]\r",
      " 95%|███████████████████████████████████▏ | 2.74G/2.87G [00:54<00:02, 51.0MiB/s]\r",
      " 95%|███████████████████████████████████▎ | 2.74G/2.87G [00:54<00:02, 50.7MiB/s]\r",
      " 96%|███████████████████████████████████▎ | 2.75G/2.87G [00:54<00:02, 48.7MiB/s]\r",
      " 96%|███████████████████████████████████▍ | 2.75G/2.87G [00:54<00:02, 50.0MiB/s]\r",
      " 96%|███████████████████████████████████▍ | 2.76G/2.87G [00:54<00:02, 54.1MiB/s]\r",
      " 96%|███████████████████████████████████▌ | 2.76G/2.87G [00:55<00:02, 53.6MiB/s]\r",
      " 96%|███████████████████████████████████▌ | 2.77G/2.87G [00:55<00:02, 52.6MiB/s]\r",
      " 96%|███████████████████████████████████▋ | 2.77G/2.87G [00:55<00:02, 51.7MiB/s]\r",
      " 97%|███████████████████████████████████▋ | 2.78G/2.87G [00:55<00:02, 49.8MiB/s]\r",
      " 97%|███████████████████████████████████▊ | 2.78G/2.87G [00:55<00:01, 50.4MiB/s]\r",
      " 97%|███████████████████████████████████▊ | 2.79G/2.87G [00:55<00:01, 49.8MiB/s]\r",
      " 97%|███████████████████████████████████▉ | 2.79G/2.87G [00:55<00:01, 50.2MiB/s]\r",
      " 97%|███████████████████████████████████▉ | 2.80G/2.87G [00:55<00:01, 52.2MiB/s]\r",
      " 98%|████████████████████████████████████ | 2.81G/2.87G [00:55<00:01, 64.3MiB/s]\r",
      " 98%|████████████████████████████████████▏| 2.81G/2.87G [00:56<00:01, 60.0MiB/s]\r",
      " 98%|████████████████████████████████████▎| 2.82G/2.87G [00:56<00:01, 59.4MiB/s]\r",
      " 98%|████████████████████████████████████▎| 2.82G/2.87G [00:56<00:00, 56.9MiB/s]\r",
      " 98%|████████████████████████████████████▍| 2.83G/2.87G [00:56<00:00, 58.2MiB/s]\r",
      " 99%|████████████████████████████████████▍| 2.83G/2.87G [00:56<00:00, 54.7MiB/s]\r",
      " 99%|████████████████████████████████████▌| 2.84G/2.87G [00:56<00:00, 50.6MiB/s]\r",
      " 99%|████████████████████████████████████▌| 2.84G/2.87G [00:56<00:00, 49.7MiB/s]\r",
      " 99%|████████████████████████████████████▋| 2.85G/2.87G [00:56<00:00, 49.2MiB/s]\r",
      " 99%|████████████████████████████████████▋| 2.85G/2.87G [00:56<00:00, 49.9MiB/s]\r",
      " 99%|████████████████████████████████████▊| 2.86G/2.87G [00:57<00:00, 53.2MiB/s]\r",
      "100%|████████████████████████████████████▊| 2.86G/2.87G [00:57<00:00, 54.9MiB/s]\r",
      "100%|████████████████████████████████████▉| 2.87G/2.87G [00:57<00:00, 62.2MiB/s]\r",
      "100%|█████████████████████████████████████| 2.87G/2.87G [00:57<00:00, 53.9MiB/s]tcmalloc: large alloc 3087007744 bytes == 0x708a000 @  0x7fb7d179e1e7 0x4b2150 0x5ac2ec 0x5dc6af 0x58ee9b 0x5901a3 0x5e3f6b 0x4d18aa 0x51b31c 0x58f2a7 0x51740e 0x5b41c5 0x58f49e 0x51b221 0x5b41c5 0x604133 0x606e06 0x606ecc 0x609aa6 0x64d332 0x64d4de 0x7fb7d139bc87 0x5b561a\n",
      "\n"
     ]
    }
   ],
   "source": [
    "%%bash\n",
    "python openai-whisper.py"
   ]
  },
  {
   "cell_type": "markdown",
   "metadata": {},
   "source": [
    "```\n",
    "usage: openai-whisper.py [-h] [-l AUDIOLANGUAGE] [-p INPUTPATH]\n",
    "                         [-v TYPEVERBOSE] [-g OUTPUTTYPE] [-s SPEECHTASK]\n",
    "                         [-n NUMSTEPS] [-t DECODINGTEMPERATURE] [-b BEAMSIZE]\n",
    "                         [-o OUTPUT]\n",
    "\n",
    "OpenAI Whisper Automatic Speech Recognition\n",
    "\n",
    "optional arguments:\n",
    "  -h, --help            show this help message and exit\n",
    "  -l AUDIOLANGUAGE      Language spoken in the audio, use Auto detection to\n",
    "                        let Whisper detect the language. Select from the\n",
    "                        following languages['Auto detection', 'Afrikaans',\n",
    "                        'Albanian', 'Amharic', 'Arabic', 'Armenian',\n",
    "                        'Assamese', 'Azerbaijani', 'Bashkir', 'Basque',\n",
    "                        'Belarusian', 'Bengali', 'Bosnian', 'Breton',\n",
    "                        'Bulgarian', 'Burmese', 'Castilian', 'Catalan',\n",
    "                        'Chinese', 'Croatian', 'Czech', 'Danish', 'Dutch',\n",
    "                        'English', 'Estonian', 'Faroese', 'Finnish',\n",
    "                        'Flemish', 'French', 'Galician', 'Georgian', 'German',\n",
    "                        'Greek', 'Gujarati', 'Haitian', 'Haitian Creole',\n",
    "                        'Hausa', 'Hawaiian', 'Hebrew', 'Hindi', 'Hungarian',\n",
    "                        'Icelandic', 'Indonesian', 'Italian', 'Japanese',\n",
    "                        'Javanese', 'Kannada', 'Kazakh', 'Khmer', 'Korean',\n",
    "                        'Lao', 'Latin', 'Latvian', 'Letzeburgesch', 'Lingala',\n",
    "                        'Lithuanian', 'Luxembourgish', 'Macedonian',\n",
    "                        'Malagasy', 'Malay', 'Malayalam', 'Maltese', 'Maori',\n",
    "                        'Marathi', 'Moldavian', 'Moldovan', 'Mongolian',\n",
    "                        'Myanmar', 'Nepali', 'Norwegian', 'Nynorsk',\n",
    "                        'Occitan', 'Panjabi', 'Pashto', 'Persian', 'Polish',\n",
    "                        'Portuguese', 'Punjabi', 'Pushto', 'Romanian',\n",
    "                        'Russian', 'Sanskrit', 'Serbian', 'Shona', 'Sindhi',\n",
    "                        'Sinhala', 'Sinhalese', 'Slovak', 'Slovenian',\n",
    "                        'Somali', 'Spanish', 'Sundanese', 'Swahili',\n",
    "                        'Swedish', 'Tagalog', 'Tajik', 'Tamil', 'Tatar',\n",
    "                        'Telugu', 'Thai', 'Tibetan', 'Turkish', 'Turkmen',\n",
    "                        'Ukrainian', 'Urdu', 'Uzbek', 'Valencian',\n",
    "                        'Vietnamese', 'Welsh', 'Yiddish', 'Yoruba']\n",
    "  -p INPUTPATH          Path of the input file\n",
    "  -v TYPEVERBOSE        Whether to print out the progress and debug messages.\n",
    "                        ['Live transcription', 'Progress bar', 'None']\n",
    "  -g OUTPUTTYPE         Type of file to generate to record the transcription.\n",
    "                        ['All', '.txt', '.vtt', '.srt']\n",
    "  -s SPEECHTASK         Whether to perform X->X speech recognition\n",
    "                        (`transcribe`) or X->English translation\n",
    "                        (`translate`). ['transcribe', 'translate']\n",
    "  -n NUMSTEPS           Number of Steps\n",
    "  -t DECODINGTEMPERATURE\n",
    "                        Temperature to increase when falling back when the\n",
    "                        decoding fails to meet either of the thresholds below.\n",
    "  -b BEAMSIZE           Number of Images\n",
    "  -o OUTPUT             Output Folder where to store the ouputs\n",
    "```"
   ]
  },
  {
   "cell_type": "markdown",
   "metadata": {
    "id": "G2HMSw658ZCT"
   },
   "source": [
    "Viewing the outputs\n"
   ]
  },
  {
   "cell_type": "code",
   "execution_count": 7,
   "metadata": {
    "colab": {
     "base_uri": "https://localhost:8080/"
    },
    "id": "qUN-KE_n8bqx",
    "outputId": "113c023d-2ca3-4f3b-f063-9f1b1ee428e7",
    "tags": [
     "skip-execution"
    ]
   },
   "outputs": [
    {
     "name": "stdout",
     "output_type": "stream",
     "text": [
      "Hello!\n"
     ]
    }
   ],
   "source": [
    "%%bash\n",
    "cat hello.srt"
   ]
  },
  {
   "cell_type": "markdown",
   "metadata": {
    "id": "HZMMmIGL8ujt"
   },
   "source": [
    "After that we will write a DOCKERFILE to containernize this script and then run it on bacalhau"
   ]
  },
  {
   "cell_type": "markdown",
   "metadata": {
    "id": "KUHNqPOb8n94"
   },
   "source": [
    "# Building and Running on docker\n"
   ]
  },
  {
   "cell_type": "markdown",
   "metadata": {
    "id": "XECKIqQH8jTu"
   },
   "source": [
    "\n",
    "In this step you will create a  `Dockerfile` to create your Docker deployment. The `Dockerfile` is a text document that contains the commands used to assemble the image.\n",
    "\n",
    "First, create the `Dockerfile`.\n",
    "\n",
    "Next, add your desired configuration to the `Dockerfile`. These commands specify how the image will be built, and what extra requirements will be included.\n",
    "\n",
    " Dockerfile\n",
    "\n",
    "\n",
    "```\n",
    "FROM  pytorch/pytorch:1.12.1-cuda11.3-cudnn8-runtime\n",
    "\n",
    "WORKDIR /\n",
    "\n",
    "RUN apt-get -y update\n",
    "\n",
    "RUN apt-get -y install git\n",
    "\n",
    "RUN python3 -m pip install --upgrade pip\n",
    "\n",
    "RUN python -m pip install regex tqdm Pillow\n",
    "\n",
    "RUN pip install git+https://github.com/openai/whisper.git\n",
    "\n",
    "ADD hello.mp3 hello.mp3\n",
    "\n",
    "ADD openai-whisper.py openai-whisper.py\n",
    "\n",
    "RUN python openai-whisper.py\n",
    "```\n",
    "\n",
    "\n",
    "We choose pytorch/pytorch:1.12.1-cuda11.3-cudnn8-runtime as our base image\n",
    "\n",
    "And then install all the dependencies, after that we will add the test audio file and our openai-whisper script to the container, we will also run a test command to check whether our script works inside the container and if the container builds successfully\n"
   ]
  },
  {
   "cell_type": "markdown",
   "metadata": {
    "id": "Y6qrZhPp86Bd"
   },
   "source": [
    "\n",
    "# Running whisper on bacalhau\n",
    "\n",
    "We will transcribe the moon landing video, which can be found here\n",
    "\n",
    "https://www.nasa.gov/multimedia/hd/apollo11_hdpage.html\n",
    "\n",
    "Since the downloaded video is of .mov format we convert the video to .mp4 and then upload it to IPFS\n",
    "\n",
    " Uploading a sample dataset to IPFS\n",
    "\n",
    "To upload the video we will be using [https://nft.storage/docs/how-to/nftup/](https://nft.storage/docs/how-to/nftup/)\n",
    "\n",
    "![](https://i.imgur.com/xwZT3Pi.png)\n",
    "\n",
    "After the dataset has been uploaded, copy the CID\n",
    "\n",
    "bafybeielf6z4cd2nuey5arckect5bjmelhouvn5rhbjlvpvhp7erkrc4nu \n",
    "\n",
    "## **Running the container on bacalhau**\n",
    "\n",
    "We use the --gpu flag to denote the no of GPU we are going to use\n",
    "\n",
    "\n",
    "```\n",
    "bacalhau docker run \\\n",
    " jsacex/whisper \\\n",
    " --gpu 1 \\\n",
    "-i bafybeielf6z4cd2nuey5arckect5bjmelhouvn5rhbjlvpvhp7erkrc4nu \\\n",
    "-- python openai-whisper.py -p inputs/Apollo_11_moonwalk_montage_720p.mp4 -o outputs\n",
    "```\n",
    "-i bafybeielf6z4cd2nuey5arckect5bjmelhouvn5r\n",
    "here we use the -i flag to mount the CID\n",
    "which contains our file to the container\n",
    "at the path /inputs\n",
    "\n",
    "python openai-whisper.py -p inputs/Apollo_11_moonwalk_montage_720p.mp4 -o outputs\n",
    "\n",
    "-p we provide it the input path of our file and then in -o we provide the path where to store the outputs\n"
   ]
  },
  {
   "cell_type": "markdown",
   "metadata": {
    "id": "24HuygvzTwnT"
   },
   "source": [
    "Insalling bacalhau"
   ]
  },
  {
   "cell_type": "code",
   "execution_count": null,
   "metadata": {
    "colab": {
     "base_uri": "https://localhost:8080/"
    },
    "id": "W1joNKGJT5eN",
    "outputId": "3d02cd62-0e22-4424-f0e3-6d7ae0097b31"
   },
   "outputs": [
    {
     "name": "stdout",
     "output_type": "stream",
     "text": [
      "Your system is linux_amd64\n",
      "\n",
      "BACALHAU CLI is detected:\n",
      "Client Version: v0.2.5\n",
      "Server Version: v0.2.5\n",
      "Reinstalling BACALHAU CLI - /usr/local/bin/bacalhau...\n",
      "Getting the latest BACALHAU CLI...\n",
      "Installing v0.2.5 BACALHAU CLI...\n",
      "Downloading https://github.com/filecoin-project/bacalhau/releases/download/v0.2.5/bacalhau_v0.2.5_linux_amd64.tar.gz ...\n",
      "Downloading sig file https://github.com/filecoin-project/bacalhau/releases/download/v0.2.5/bacalhau_v0.2.5_linux_amd64.tar.gz.signature.sha256 ...\n",
      "Verified OK\n",
      "Extracting tarball ...\n",
      "NOT verifying Bin\n",
      "bacalhau installed into /usr/local/bin successfully.\n",
      "Client Version: v0.2.5\n",
      "Server Version: v0.2.5\n"
     ]
    }
   ],
   "source": [
    "!curl -sL https://get.bacalhau.org/install.sh | bash"
   ]
  },
  {
   "cell_type": "code",
   "execution_count": null,
   "metadata": {
    "colab": {
     "base_uri": "https://localhost:8080/"
    },
    "id": "VuhWApORxEp6",
    "outputId": "d9931eba-7657-4861-fc3e-2cc11140eb93"
   },
   "outputs": [
    {
     "name": "stdout",
     "output_type": "stream",
     "text": [
      "4f758052-0543-40b5-bd86-6ab41e77389a\n"
     ]
    }
   ],
   "source": [
    "!echo $(bacalhau docker run --wait --wait-timeout-secs 1000 --id-only --gpu 1  jsacex/whisper -i bafybeielf6z4cd2nuey5arckect5bjmelhouvn5rhbjlvpvhp7erkrc4nu -- python openai-whisper.py -p inputs/Apollo_11_moonwalk_montage_720p.mp4 -o outputs) > job_id.txt\n",
    "!cat job_id.txt"
   ]
  },
  {
   "cell_type": "code",
   "execution_count": null,
   "metadata": {
    "colab": {
     "base_uri": "https://localhost:8080/"
    },
    "id": "bSJmxEPjzLZN",
    "outputId": "e8114716-aeaa-45a3-e808-eeb3b7b14f00"
   },
   "outputs": [
    {
     "name": "stdout",
     "output_type": "stream",
     "text": [
      "\u001b[92;100m CREATED  \u001b[0m\u001b[92;100m ID       \u001b[0m\u001b[92;100m JOB                     \u001b[0m\u001b[92;100m STATE     \u001b[0m\u001b[92;100m VERIFIED \u001b[0m\u001b[92;100m PUBLISHED               \u001b[0m\n",
      "\u001b[97;40m 17:33:46 \u001b[0m\u001b[97;40m 4f758052 \u001b[0m\u001b[97;40m Docker jsacex/stable... \u001b[0m\u001b[97;40m Completed \u001b[0m\u001b[97;40m          \u001b[0m\u001b[97;40m /ipfs/QmcQEQPg934Pow... \u001b[0m\n"
     ]
    }
   ],
   "source": [
    "!bacalhau list --id-filter $(cat job_id.txt)"
   ]
  },
  {
   "cell_type": "markdown",
   "metadata": {
    "id": "kFYpNA32c7t5"
   },
   "source": [
    "\n",
    "Where it says \"`Completed `\", that means the job is done, and we can get the results.\n",
    "\n",
    "To find out more information about your job, run the following command:"
   ]
  },
  {
   "cell_type": "code",
   "execution_count": null,
   "metadata": {
    "id": "FDnxNH3lVbG1"
   },
   "outputs": [],
   "source": [
    "!bacalhau describe $(cat job_id.txt)"
   ]
  },
  {
   "cell_type": "markdown",
   "metadata": {
    "id": "2I4DHnt0Vzua"
   },
   "source": [
    "Since there is no error we can’t see any error instead we see the state of our job to be complete, that means \n",
    "we can download the results!\n",
    "we create a temporary directory to save our results"
   ]
  },
  {
   "cell_type": "code",
   "execution_count": null,
   "metadata": {
    "id": "9fXo1Vv8V84j"
   },
   "outputs": [],
   "source": [
    "!mkdir results"
   ]
  },
  {
   "cell_type": "markdown",
   "metadata": {
    "id": "6SuXkeV-WD7j"
   },
   "source": [
    "To Download the results of your job, run \n",
    "\n",
    "---\n",
    "\n",
    "the following command:"
   ]
  },
  {
   "cell_type": "code",
   "execution_count": null,
   "metadata": {
    "colab": {
     "base_uri": "https://localhost:8080/"
    },
    "id": "Ha5UFWLYV_5R",
    "outputId": "d957cf91-a5a7-4f45-c31f-abe0712c0b57"
   },
   "outputs": [
    {
     "name": "stdout",
     "output_type": "stream",
     "text": [
      "\u001b[90m17:38:25.343 |\u001b[0m \u001b[32mINF\u001b[0m \u001b[1mbacalhau/get.go:67\u001b[0m\u001b[36m >\u001b[0m Fetching results of job '4f758052-0543-40b5-bd86-6ab41e77389a'...\n",
      "2022/09/29 17:38:25 failed to sufficiently increase receive buffer size (was: 208 kiB, wanted: 2048 kiB, got: 416 kiB). See https://github.com/lucas-clemente/quic-go/wiki/UDP-Receive-Buffer-Size for details.\n",
      "\u001b[90m17:38:35.851 |\u001b[0m \u001b[32mINF\u001b[0m \u001b[1mipfs/downloader.go:115\u001b[0m\u001b[36m >\u001b[0m Found 1 result shards, downloading to temporary folder.\n",
      "\u001b[90m17:38:37.1 |\u001b[0m \u001b[32mINF\u001b[0m \u001b[1mipfs/downloader.go:195\u001b[0m\u001b[36m >\u001b[0m Combining shard from output volume 'outputs' to final location: '/content/results'\n"
     ]
    }
   ],
   "source": [
    "! bacalhau get  $(cat job_id.txt)  --output-dir results"
   ]
  },
  {
   "cell_type": "markdown",
   "metadata": {
    "id": "nrZcHon2WOd-"
   },
   "source": [
    "After the download has finished you should \n",
    "see the following contents in results directory"
   ]
  },
  {
   "cell_type": "code",
   "execution_count": null,
   "metadata": {
    "colab": {
     "base_uri": "https://localhost:8080/"
    },
    "id": "C5EmAu29WRpa",
    "outputId": "9c20b1ad-d99a-4953-d8bd-3bda44d53c15"
   },
   "outputs": [
    {
     "name": "stdout",
     "output_type": "stream",
     "text": [
      "shards\tstderr\tstdout\tvolumes\n"
     ]
    }
   ],
   "source": [
    "! ls results/"
   ]
  }
 ],
 "metadata": {
  "accelerator": "GPU",
  "colab": {
   "collapsed_sections": [],
   "provenance": []
  },
  "kernelspec": {
   "display_name": "Python 3 (ipykernel)",
   "language": "python",
   "name": "python3"
  },
  "language_info": {
   "codemirror_mode": {
    "name": "ipython",
    "version": 3
   },
   "file_extension": ".py",
   "mimetype": "text/x-python",
   "name": "python",
   "nbconvert_exporter": "python",
   "pygments_lexer": "ipython3",
   "version": "3.10.6"
  },
  "vscode": {
   "interpreter": {
    "hash": "916dbcbb3f70747c44a77c7bcd40155683ae19c65e1c03b4aa3499c5328201f1"
   }
  }
 },
 "nbformat": 4,
 "nbformat_minor": 1
}
