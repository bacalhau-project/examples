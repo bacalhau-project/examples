{
  "cells": [
    {
      "attachments": {},
      "cell_type": "raw",
      "metadata": {},
      "source": [
        "---\n",
        "sidebar_label: Speech Recognition using Whisper\n",
        "sidebar_position: 9\n",
        "---"
      ]
    },
    {
      "attachments": {},
      "cell_type": "markdown",
      "metadata": {
        "id": "QPzzVz_o7GYH"
      },
      "source": [
        "# Speech Recognition using Whisper"
      ]
    },
    {
      "attachments": {},
      "cell_type": "markdown",
      "metadata": {
        "id": "6P3IqysI7Iv2"
      },
      "source": [
        "\n",
        "[![stars - badge-generator](https://img.shields.io/github/stars/bacalhau-project/bacalhau?style=social)](https://github.com/bacalhau-project/bacalhau)\n",
        "\n",
        "Whisper is an automatic speech recognition (ASR) system trained on 680,000 hours of multilingual and multitask supervised data collected from the web. We show that the use of such a large and diverse dataset leads to improved robustness to accents, background noise and technical language. Moreover, it enables transcription in multiple languages, as well as translation from those languages into English. We are open-sourcing models and inference code to serve as a foundation for building useful applications and for further research on robust speech processing. In this example we will transcribe an audio clip locally, containerize the script and then run the container on bacalhau\n",
        "\n",
        "The advantages of using bacalhau over managed Automatic Speech Recognition services is that you can run your own containers which can scale to do batch process petabytes of videos or audio for automatic speech recognition\n",
        "\n",
        "## TD:LR\n",
        "Using OpenAI whisper with Bacalhau to process audio files\n",
        "\n",
        "## Prerequisite\n",
        "\n",
        "To get started, you need to install:\n",
        "- Bacalhau client, see more information [here](https://docs.bacalhau.org/getting-started/installation)\n",
        "- Whisper, \n",
        "- pytorch\n",
        "- pandas"
      ]
    },
    {
      "attachments": {},
      "cell_type": "markdown",
      "metadata": {
        "id": "5UXMIVm_7RDm"
      },
      "source": [
        "\n",
        "## Running whisper locally"
      ]
    },
    {
      "cell_type": "code",
      "execution_count": null,
      "metadata": {
        "id": "ruVixJqBmhQh",
        "tags": [
          "skip-execution"
        ]
      },
      "outputs": [],
      "source": [
        "%%bash\n",
        "pip install git+https://github.com/openai/whisper.git\n",
        "pip install torch==1.10.1\n",
        "pip install pandas\n",
        "sudo apt update && sudo apt install ffmpeg"
      ]
    },
    {
      "attachments": {},
      "cell_type": "markdown",
      "metadata": {
        "id": "E-dL_8_T7veS"
      },
      "source": [
        "Before we create and run the script we need a sample audio file to test the code for that we download a sample audio clip."
      ]
    },
    {
      "cell_type": "code",
      "execution_count": null,
      "metadata": {
        "id": "CGayUIA4mhQk",
        "outputId": "dcf4522d-fccb-4937-99fd-5e0067de5ec3",
        "tags": [
          "skip-execution"
        ]
      },
      "outputs": [],
      "source": [
        "%%bash\n",
        "wget https://github.com/js-ts/hello/raw/main/hello.mp3"
      ]
    },
    {
      "attachments": {},
      "cell_type": "markdown",
      "metadata": {},
      "source": [
        "## Create the script"
      ]
    },
    {
      "attachments": {},
      "cell_type": "markdown",
      "metadata": {
        "id": "2TtRF1yc8Cx-"
      },
      "source": [
        "\n",
        "We will create a script that accepts parameters (input file path, output file path, temperature etc.) and set the default parameters. Also:\n",
        "* If input file is in mp4 format, than the script converts it to wav format. \n",
        "* Save the transcript in various formats, \n",
        "* We load the large model\n",
        "* Then pass it the required parameters.\n",
        "This model is not only limited to english and transcription, it supports other languages and also does translation, to the following languages:"
      ]
    },
    {
      "cell_type": "markdown",
      "metadata": {},
      "source": [
        "Next, lets create a openai-whisper script:"
      ]
    },
    {
      "cell_type": "code",
      "execution_count": null,
      "metadata": {
        "id": "briewRiomhQm",
        "outputId": "638a0147-2592-471e-ab07-6e3b942c9110",
        "tags": [
          "skip-execution"
        ]
      },
      "outputs": [],
      "source": [
        "%%writefile openai-whisper.py\n",
        "import argparse\n",
        "import os\n",
        "import sys\n",
        "import warnings\n",
        "import whisper\n",
        "from pathlib import Path\n",
        "import subprocess\n",
        "import torch\n",
        "import shutil\n",
        "import numpy as np\n",
        "parser = argparse.ArgumentParser(description=\"OpenAI Whisper Automatic Speech Recognition\")\n",
        "parser.add_argument(\"-l\",dest=\"audiolanguage\", type=str,help=\"Language spoken in the audio, use Auto detection to let Whisper detect the language. Select from the following languages['Auto detection', 'Afrikaans', 'Albanian', 'Amharic', 'Arabic', 'Armenian', 'Assamese', 'Azerbaijani', 'Bashkir', 'Basque', 'Belarusian', 'Bengali', 'Bosnian', 'Breton', 'Bulgarian', 'Burmese', 'Castilian', 'Catalan', 'Chinese', 'Croatian', 'Czech', 'Danish', 'Dutch', 'English', 'Estonian', 'Faroese', 'Finnish', 'Flemish', 'French', 'Galician', 'Georgian', 'German', 'Greek', 'Gujarati', 'Haitian', 'Haitian Creole', 'Hausa', 'Hawaiian', 'Hebrew', 'Hindi', 'Hungarian', 'Icelandic', 'Indonesian', 'Italian', 'Japanese', 'Javanese', 'Kannada', 'Kazakh', 'Khmer', 'Korean', 'Lao', 'Latin', 'Latvian', 'Letzeburgesch', 'Lingala', 'Lithuanian', 'Luxembourgish', 'Macedonian', 'Malagasy', 'Malay', 'Malayalam', 'Maltese', 'Maori', 'Marathi', 'Moldavian', 'Moldovan', 'Mongolian', 'Myanmar', 'Nepali', 'Norwegian', 'Nynorsk', 'Occitan', 'Panjabi', 'Pashto', 'Persian', 'Polish', 'Portuguese', 'Punjabi', 'Pushto', 'Romanian', 'Russian', 'Sanskrit', 'Serbian', 'Shona', 'Sindhi', 'Sinhala', 'Sinhalese', 'Slovak', 'Slovenian', 'Somali', 'Spanish', 'Sundanese', 'Swahili', 'Swedish', 'Tagalog', 'Tajik', 'Tamil', 'Tatar', 'Telugu', 'Thai', 'Tibetan', 'Turkish', 'Turkmen', 'Ukrainian', 'Urdu', 'Uzbek', 'Valencian', 'Vietnamese', 'Welsh', 'Yiddish', 'Yoruba'] \",default=\"English\")\n",
        "parser.add_argument(\"-p\",dest=\"inputpath\", type=str,help=\"Path of the input file\",default=\"/hello.mp3\")\n",
        "parser.add_argument(\"-v\",dest=\"typeverbose\", type=str,help=\"Whether to print out the progress and debug messages. ['Live transcription', 'Progress bar', 'None']\",default=\"Live transcription\")\n",
        "parser.add_argument(\"-g\",dest=\"outputtype\", type=str,help=\"Type of file to generate to record the transcription. ['All', '.txt', '.vtt', '.srt']\",default=\"All\")\n",
        "parser.add_argument(\"-s\",dest=\"speechtask\", type=str,help=\"Whether to perform X->X speech recognition (`transcribe`) or X->English translation (`translate`). ['transcribe', 'translate']\",default=\"transcribe\")\n",
        "parser.add_argument(\"-n\",dest=\"numSteps\", type=int,help=\"Number of Steps\",default=50)\n",
        "parser.add_argument(\"-t\",dest=\"decodingtemperature\", type=int,help=\"Temperature to increase when falling back when the decoding fails to meet either of the thresholds below.\",default=0.15 )\n",
        "parser.add_argument(\"-b\",dest=\"beamsize\", type=int,help=\"Number of Images\",default=5)\n",
        "parser.add_argument(\"-o\",dest=\"output\", type=str,help=\"Output Folder where to store the outputs\",default=\"\")\n",
        "\n",
        "args=parser.parse_args()\n",
        "device = torch.device('cuda:0')\n",
        "print('Using device:', device, file=sys.stderr)\n",
        "\n",
        "Model = 'large'\n",
        "whisper_model =whisper.load_model(Model)\n",
        "video_path_local = os.getcwd()+args.inputpath\n",
        "file_name=os.path.basename(video_path_local)\n",
        "output_file_path=args.output\n",
        "\n",
        "if os.path.splitext(video_path_local)[1] == \".mp4\":\n",
        "    video_path_local_wav =os.path.splitext(file_name)[0]+\".wav\"\n",
        "    result  = subprocess.run([\"ffmpeg\", \"-i\", str(video_path_local), \"-vn\", \"-acodec\", \"pcm_s16le\", \"-ar\", \"16000\", \"-ac\", \"1\", str(video_path_local_wav)])\n",
        "\n",
        "# add language parameters\n",
        "# Language spoken in the audio, use Auto detection to let Whisper detect the language.\n",
        "#  ['Auto detection', 'Afrikaans', 'Albanian', 'Amharic', 'Arabic', 'Armenian', 'Assamese', 'Azerbaijani', 'Bashkir', 'Basque', 'Belarusian', 'Bengali', 'Bosnian', 'Breton', 'Bulgarian', 'Burmese', 'Castilian', 'Catalan', 'Chinese', 'Croatian', 'Czech', 'Danish', 'Dutch', 'English', 'Estonian', 'Faroese', 'Finnish', 'Flemish', 'French', 'Galician', 'Georgian', 'German', 'Greek', 'Gujarati', 'Haitian', 'Haitian Creole', 'Hausa', 'Hawaiian', 'Hebrew', 'Hindi', 'Hungarian', 'Icelandic', 'Indonesian', 'Italian', 'Japanese', 'Javanese', 'Kannada', 'Kazakh', 'Khmer', 'Korean', 'Lao', 'Latin', 'Latvian', 'Letzeburgesch', 'Lingala', 'Lithuanian', 'Luxembourgish', 'Macedonian', 'Malagasy', 'Malay', 'Malayalam', 'Maltese', 'Maori', 'Marathi', 'Moldavian', 'Moldovan', 'Mongolian', 'Myanmar', 'Nepali', 'Norwegian', 'Nynorsk', 'Occitan', 'Panjabi', 'Pashto', 'Persian', 'Polish', 'Portuguese', 'Punjabi', 'Pushto', 'Romanian', 'Russian', 'Sanskrit', 'Serbian', 'Shona', 'Sindhi', 'Sinhala', 'Sinhalese', 'Slovak', 'Slovenian', 'Somali', 'Spanish', 'Sundanese', 'Swahili', 'Swedish', 'Tagalog', 'Tajik', 'Tamil', 'Tatar', 'Telugu', 'Thai', 'Tibetan', 'Turkish', 'Turkmen', 'Ukrainian', 'Urdu', 'Uzbek', 'Valencian', 'Vietnamese', 'Welsh', 'Yiddish', 'Yoruba']\n",
        "language = args.audiolanguage\n",
        "# Whether to print out the progress and debug messages.\n",
        "# ['Live transcription', 'Progress bar', 'None']\n",
        "verbose = args.typeverbose\n",
        "#  Type of file to generate to record the transcription.\n",
        "# ['All', '.txt', '.vtt', '.srt']\n",
        "output_type = args.outputtype\n",
        "# Whether to perform X->X speech recognition (`transcribe`) or X->English translation (`translate`).\n",
        "# ['transcribe', 'translate']\n",
        "task = args.speechtask\n",
        "# Temperature to use for sampling.\n",
        "temperature = args.decodingtemperature\n",
        "#  Temperature to increase when falling back when the decoding fails to meet either of the thresholds below.\n",
        "temperature_increment_on_fallback = 0.2\n",
        "#  Number of candidates when sampling with non-zero temperature.\n",
        "best_of = 5\n",
        "#  Number of beams in beam search, only applicable when temperature is zero.\n",
        "beam_size = args.beamsize\n",
        "# Optional patience value to use in beam decoding, as in [*Beam Decoding with Controlled Patience*](https://arxiv.org/abs/2204.05424), the default (1.0) is equivalent to conventional beam search.\n",
        "patience = 1.0\n",
        "# Optional token length penalty coefficient (alpha) as in [*Google's Neural Machine Translation System*](https://arxiv.org/abs/1609.08144), set to negative value to uses simple length normalization.\n",
        "length_penalty = -0.05\n",
        "# Comma-separated list of token ids to suppress during sampling; '-1' will suppress most special characters except common punctuations.\n",
        "suppress_tokens = \"-1\"\n",
        "# Optional text to provide as a prompt for the first window.\n",
        "initial_prompt = \"\"\n",
        "# if True, provide the previous output of the model as a prompt for the next window; disabling may make the text inconsistent across windows, but the model becomes less prone to getting stuck in a failure loop.\n",
        "condition_on_previous_text = True\n",
        "#  whether to perform inference in fp16.\n",
        "fp16 = True\n",
        "#  If the gzip compression ratio is higher than this value, treat the decoding as failed.\n",
        "compression_ratio_threshold = 2.4\n",
        "# If the average log probability is lower than this value, treat the decoding as failed.\n",
        "logprob_threshold = -1.0\n",
        "# If the probability of the <|nospeech|> token is higher than this value AND the decoding has failed due to `logprob_threshold`, consider the segment as silence.\n",
        "no_speech_threshold = 0.6\n",
        "\n",
        "verbose_lut = {\n",
        "    'Live transcription': True,\n",
        "    'Progress bar': False,\n",
        "    'None': None\n",
        "}\n",
        "\n",
        "args = dict(\n",
        "    language = (None if language == \"Auto detection\" else language),\n",
        "    verbose = verbose_lut[verbose],\n",
        "    task = task,\n",
        "    temperature = temperature,\n",
        "    temperature_increment_on_fallback = temperature_increment_on_fallback,\n",
        "    best_of = best_of,\n",
        "    beam_size = beam_size,\n",
        "    patience=patience,\n",
        "    length_penalty=(length_penalty if length_penalty>=0.0 else None),\n",
        "    suppress_tokens=suppress_tokens,\n",
        "    initial_prompt=(None if not initial_prompt else initial_prompt),\n",
        "    condition_on_previous_text=condition_on_previous_text,\n",
        "    fp16=fp16,\n",
        "    compression_ratio_threshold=compression_ratio_threshold,\n",
        "    logprob_threshold=logprob_threshold,\n",
        "    no_speech_threshold=no_speech_threshold\n",
        ")\n",
        "\n",
        "temperature = args.pop(\"temperature\")\n",
        "temperature_increment_on_fallback = args.pop(\"temperature_increment_on_fallback\")\n",
        "if temperature_increment_on_fallback is not None:\n",
        "    temperature = tuple(np.arange(temperature, 1.0 + 1e-6, temperature_increment_on_fallback))\n",
        "else:\n",
        "    temperature = [temperature]\n",
        "\n",
        "if Model.endswith(\".en\") and args[\"language\"] not in {\"en\", \"English\"}:\n",
        "    warnings.warn(f\"{Model} is an English-only model but receipted '{args['language']}'; using English instead.\")\n",
        "    args[\"language\"] = \"en\"\n",
        "\n",
        "video_transcription = whisper.transcribe(\n",
        "    whisper_model,\n",
        "    str(video_path_local),\n",
        "    temperature=temperature,\n",
        "    **args,\n",
        ")\n",
        "\n",
        "# Save output\n",
        "writing_lut = {\n",
        "    '.txt': whisper.utils.write_txt,\n",
        "    '.vtt': whisper.utils.write_vtt,\n",
        "    '.srt': whisper.utils.write_txt,\n",
        "}\n",
        "\n",
        "if output_type == \"All\":\n",
        "    for suffix, write_suffix in writing_lut.items():\n",
        "        transcript_local_path =os.getcwd()+output_file_path+'/'+os.path.splitext(file_name)[0] +suffix\n",
        "        with open(transcript_local_path, \"w\", encoding=\"utf-8\") as f:\n",
        "            write_suffix(video_transcription[\"segments\"], file=f)\n",
        "        try:\n",
        "            transcript_drive_path =file_name\n",
        "        except:\n",
        "            print(f\"**Transcript file created: {transcript_local_path}**\")\n",
        "else:\n",
        "    transcript_local_path =output_file_path+'/'+os.path.splitext(file_name)[0] +output_type\n",
        "\n",
        "    with open(transcript_local_path, \"w\", encoding=\"utf-8\") as f:\n",
        "        writing_lut[output_type](video_transcription[\"segments\"], file=f)"
      ]
    },
    {
      "cell_type": "markdown",
      "metadata": {
        "id": "fiu1d2Lh8Ri5"
      },
      "source": [
        "\n",
        "Let's run the script with the default parameters:\n",
        "\n"
      ]
    },
    {
      "cell_type": "code",
      "execution_count": null,
      "metadata": {
        "id": "QUxfGDzvmhQt",
        "outputId": "aa1e6485-87c0-4ed9-ff38-94fbacee0090",
        "tags": [
          "skip-execution"
        ]
      },
      "outputs": [],
      "source": [
        "%%bash\n",
        "python openai-whisper.py"
      ]
    },
    {
      "cell_type": "markdown",
      "metadata": {
        "id": "G2HMSw658ZCT"
      },
      "source": [
        "Viewing the outputs\n"
      ]
    },
    {
      "cell_type": "code",
      "execution_count": null,
      "metadata": {
        "id": "CcA9qCFMmhQu",
        "outputId": "b8813580-8939-450b-e268-b9b7f8f98d5a",
        "tags": [
          "skip-execution"
        ]
      },
      "outputs": [],
      "source": [
        "%%bash\n",
        "cat hello.srt"
      ]
    },
    {
      "cell_type": "markdown",
      "metadata": {
        "id": "KUHNqPOb8n94"
      },
      "source": [
        "## Containerize Script using Docker\n",
        "\n",
        "To build your own docker container, create a `Dockerfile`, which contains instructions on how the image will be built, and what extra requirements will be included.\n"
      ]
    },
    {
      "attachments": {},
      "cell_type": "markdown",
      "metadata": {
        "id": "XECKIqQH8jTu"
      },
      "source": [
        "\n",
        "\n",
        "```\n",
        "FROM  pytorch/pytorch:1.12.1-cuda11.3-cudnn8-runtime\n",
        "\n",
        "WORKDIR /\n",
        "\n",
        "RUN apt-get -y update\n",
        "\n",
        "RUN apt-get -y install git\n",
        "\n",
        "RUN python3 -m pip install --upgrade pip\n",
        "\n",
        "RUN python -m pip install regex tqdm Pillow\n",
        "\n",
        "RUN pip install git+https://github.com/openai/whisper.git\n",
        "\n",
        "ADD hello.mp3 hello.mp3\n",
        "\n",
        "ADD openai-whisper.py openai-whisper.py\n",
        "\n",
        "RUN python openai-whisper.py\n",
        "```\n",
        "\n",
        "\n",
        "We choose `pytorch/pytorch:1.12.1-cuda11.3-cudnn8-runtime` as our base image\n",
        "\n",
        "And then install all the dependencies, after that we will add the test audio file and our openai-whisper script to the container, we will also run a test command to check whether our script works inside the container and if the container builds successfully\n",
        "\n",
        ":::info\n",
        "See more information on how to containerize your script/app [here](https://docs.docker.com/get-started/02_our_app/)\n",
        ":::\n",
        "\n",
        "\n",
        "### Build the container\n",
        "\n",
        "We will run `docker build` command to build the container;\n",
        "\n",
        "```\n",
        "docker build -t <hub-user>/<repo-name>:<tag> .\n",
        "```\n",
        "\n",
        "Before running the command replace;\n",
        "\n",
        "- **hub-user** with your docker hub username, If you don’t have a docker hub account [follow these instructions to create docker account](https://docs.docker.com/docker-id/), and use the username of the account you created\n",
        "\n",
        "- **repo-name** with the name of the container, you can name it anything you want\n",
        "\n",
        "- **tag** this is not required but you can use the latest tag\n",
        "\n",
        "In our case\n",
        "\n",
        "```bash\n",
        "docker build -t jsacex/whisper\n",
        "```\n",
        "\n",
        "### Push the container\n",
        "\n",
        "Next, upload the image to the registry. This can be done by using the Docker hub username, repo name or tag.\n",
        "\n",
        "```\n",
        "docker push <hub-user>/<repo-name>:<tag>\n",
        "```\n",
        "\n",
        "In our case\n",
        "\n",
        "```bash\n",
        "docker push jsacex/whisper\n",
        "```"
      ]
    },
    {
      "attachments": {},
      "cell_type": "markdown",
      "metadata": {
        "id": "Y6qrZhPp86Bd"
      },
      "source": [
        "\n",
        "## Running a Bacalhau Job\n",
        "\n",
        "We will transcribe the moon landing video, which can be found here: https://www.nasa.gov/multimedia/hd/apollo11_hdpage.html\n",
        "\n",
        "Since the downloaded video is in mov format we convert the video to mp4 format, and then upload it to our public storage in this case IPFS.\n",
        "We will be using [NFT.Storage](https://nft.storage/) (Recommended Option). To upload your dataset using [NFTup](https://nft.storage/docs/how-to/nftup/)  just drag and drop your directory it will upload it to IPFS\n",
        "\n",
        "\n",
        "After the dataset has been uploaded, copy the CID:\n",
        "\n",
        "`bafybeielf6z4cd2nuey5arckect5bjmelhouvn5rhbjlvpvhp7erkrc4nu` \n",
        "\n",
        "To submit a job, run the following Bacalhau command:"
      ]
    },
    {
      "cell_type": "code",
      "execution_count": null,
      "metadata": {},
      "outputs": [],
      "source": [
        "%%bash --out job_id\n",
        "bacalhau docker run \\\n",
        "    --id-only \\\n",
        "    --gpu 1 \\\n",
        "    --timeout 3600 \\\n",
        "    --wait-timeout-secs 3600 \\\n",
        "    jsacex/whisper \\\n",
        "    -i ipfs://bafybeielf6z4cd2nuey5arckect5bjmelhouvn5rhbjlvpvhp7erkrc4nu \\\n",
        "    -- python openai-whisper.py -p inputs/Apollo_11_moonwalk_montage_720p.mp4 -o outputs"
      ]
    },
    {
      "cell_type": "code",
      "execution_count": null,
      "metadata": {},
      "outputs": [],
      "source": [
        "%env JOB_ID={job_id}"
      ]
    },
    {
      "attachments": {},
      "cell_type": "markdown",
      "metadata": {},
      "source": [
        "### Structure of the command\n",
        "\n",
        "Let's look closely at the command above:\n",
        "\n",
        "* `-i ipfs://bafybeielf6z4cd2nuey5arckect5bjmelhouvn5r`: flag to mount the CID which contains our file to the container at the path `/inputs`\n",
        "* `-p inputs/Apollo_11_moonwalk_montage_720p.mp4 `: the input path of our file\n",
        "* `-o outputs`: the path where to store the outputs\n",
        "* `--gpu` : here we request 1 GPU\n",
        "* `jsacex/whisper`: the name and the tag of the docker image we are using"
      ]
    },
    {
      "attachments": {},
      "cell_type": "markdown",
      "metadata": {},
      "source": [
        "## Checking the State of your Jobs\n",
        "\n",
        "- **Job status**: You can check the status of the job using `bacalhau list`. "
      ]
    },
    {
      "cell_type": "code",
      "execution_count": null,
      "metadata": {
        "colab": {
          "base_uri": "https://localhost:8080/"
        },
        "id": "HoA6iqgLmhQy",
        "outputId": "61edb912-8f4e-4644-934b-d64132c85d85",
        "tags": [
          "skip-execution"
        ]
      },
      "outputs": [],
      "source": [
        "%%bash\n",
        "bacalhau list --id-filter ${JOB_ID} --wide"
      ]
    },
    {
      "attachments": {},
      "cell_type": "markdown",
      "metadata": {
        "id": "kFYpNA32c7t5"
      },
      "source": [
        "When it says `Published` or `Completed`, that means the job is done, and we can get the results.\n",
        "\n",
        "- **Job information**: You can find out more information about your job by using `bacalhau describe`."
      ]
    },
    {
      "cell_type": "code",
      "execution_count": null,
      "metadata": {
        "colab": {
          "base_uri": "https://localhost:8080/"
        },
        "id": "esU2mQ4rmhQz",
        "outputId": "40611f41-53c7-4a87-820e-497422006486",
        "tags": [
          "skip-execution"
        ]
      },
      "outputs": [],
      "source": [
        "%%bash\n",
        "bacalhau describe ${JOB_ID}"
      ]
    },
    {
      "attachments": {},
      "cell_type": "markdown",
      "metadata": {
        "id": "6SuXkeV-WD7j"
      },
      "source": [
        "- **Job download**: You can download your job results directly by using `bacalhau get`. Alternatively, you can choose to create a directory to store your results. In the command below, we created a directory and downloaded our job output to be stored in that directory."
      ]
    },
    {
      "cell_type": "code",
      "execution_count": null,
      "metadata": {
        "colab": {
          "base_uri": "https://localhost:8080/"
        },
        "id": "4yMYsKNmmhRG",
        "outputId": "e46dbdb8-8b84-4911-eb1c-facb4ac7687c",
        "tags": [
          "skip-execution"
        ]
      },
      "outputs": [],
      "source": [
        "%%bash\n",
        "rm -rf results && mkdir -p results\n",
        "bacalhau get $JOB_ID --output-dir results"
      ]
    },
    {
      "attachments": {},
      "cell_type": "markdown",
      "metadata": {
        "id": "nrZcHon2WOd-"
      },
      "source": [
        "## Viewing your Job Output\n",
        "\n",
        "To view the file, run the following command:"
      ]
    },
    {
      "cell_type": "code",
      "execution_count": null,
      "metadata": {
        "colab": {
          "base_uri": "https://localhost:8080/"
        },
        "id": "Tcrdmu-Cqn-v",
        "outputId": "7687365f-9b34-45e8-b787-e5ed4a845a4b",
        "tags": [
          "skip-execution"
        ]
      },
      "outputs": [],
      "source": [
        "%%bash\n",
        "cat results/outputs/Apollo_11_moonwalk_montage_720p.vtt"
      ]
    }
  ],
  "metadata": {
    "accelerator": "GPU",
    "colab": {
      "collapsed_sections": [],
      "provenance": []
    },
    "kernelspec": {
      "display_name": "Python 3 (ipykernel)",
      "language": "python",
      "name": "python3"
    },
    "language_info": {
      "codemirror_mode": {
        "name": "ipython",
        "version": 3
      },
      "file_extension": ".py",
      "mimetype": "text/x-python",
      "name": "python",
      "nbconvert_exporter": "python",
      "pygments_lexer": "ipython3",
      "version": "3.9.13"
    },
    "vscode": {
      "interpreter": {
        "hash": "916dbcbb3f70747c44a77c7bcd40155683ae19c65e1c03b4aa3499c5328201f1"
      }
    }
  },
  "nbformat": 4,
  "nbformat_minor": 0
}
