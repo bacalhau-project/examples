{
  "cells": [
    {
      "cell_type": "markdown",
      "metadata": {
        "id": "QPzzVz_o7GYH"
      },
      "source": [
        "# Speech Recognition using Whisper\n",
        "\n"
      ]
    },
    {
      "cell_type": "markdown",
      "metadata": {
        "id": "6P3IqysI7Iv2"
      },
      "source": [
        "\n",
        "# **Introduction**\n",
        "\n",
        "Whisper is an automatic speech recognition (ASR) system trained on 680,000 hours of multilingual and multitask supervised data collected from the web. We show that the use of such a large and diverse dataset leads to improved robustness to accents, background noise and technical language. Moreover, it enables transcription in multiple languages, as well as translation from those languages into English. We are open-sourcing models and inference code to serve as a foundation for building useful applications and for further research on robust speech processing.\n",
        "\n",
        "In this example we will transcribe an audio clip locally, containerize the script and then \n",
        "Run the container on bacalhau\n",
        "\n",
        "The advantages of using bacalhau over managed Automatic Speech Recognition services is that you can run your own containers which can scale to do batch process petabytes of Videos, Audio for automatic speech recognition, Using our sharding feature you can do distributed inference very easily and if you have the data stored on IPFS you don't need to move the data you can do compute where the data is located, and the cost of compute is much cheaper than managed services \n"
      ]
    },
    {
      "cell_type": "markdown",
      "metadata": {
        "id": "5UXMIVm_7RDm"
      },
      "source": [
        "\n",
        "# Running whisper locally\n",
        "\n",
        "Installing dependecies like Whisper, torch, pandas"
      ]
    },
    {
      "cell_type": "code",
      "execution_count": 2,
      "metadata": {
        "id": "ruVixJqBmhQh",
        "tags": [
          "skip-execution"
        ]
      },
      "outputs": [
        {
          "name": "stdout",
          "output_type": "stream",
          "text": [
            "Collecting git+https://github.com/openai/whisper.git\n",
            "  Cloning https://github.com/openai/whisper.git to /tmp/pip-req-build-med2h65e\n"
          ]
        },
        {
          "name": "stderr",
          "output_type": "stream",
          "text": [
            "  Running command git clone -q https://github.com/openai/whisper.git /tmp/pip-req-build-med2h65e\n"
          ]
        },
        {
          "name": "stdout",
          "output_type": "stream",
          "text": [
            "Requirement already satisfied (use --upgrade to upgrade): whisper==1.0 from git+https://github.com/openai/whisper.git in /workspace/.pyenv_mirror/user/current/lib/python3.8/site-packages\n",
            "Requirement already satisfied: ffmpeg-python==0.2.0 in /workspace/.pyenv_mirror/user/current/lib/python3.8/site-packages (from whisper==1.0) (0.2.0)\n",
            "Requirement already satisfied: more-itertools in /workspace/.pyenv_mirror/user/current/lib/python3.8/site-packages (from whisper==1.0) (9.0.0)\n",
            "Requirement already satisfied: numpy in /workspace/.pyenv_mirror/user/current/lib/python3.8/site-packages (from whisper==1.0) (1.23.5)\n",
            "Requirement already satisfied: torch in /workspace/.pyenv_mirror/user/current/lib/python3.8/site-packages (from whisper==1.0) (1.10.1)\n",
            "Requirement already satisfied: tqdm in /workspace/.pyenv_mirror/user/current/lib/python3.8/site-packages (from whisper==1.0) (4.64.1)\n",
            "Requirement already satisfied: transformers>=4.19.0 in /workspace/.pyenv_mirror/user/current/lib/python3.8/site-packages (from whisper==1.0) (4.25.1)\n",
            "Requirement already satisfied: future in /workspace/.pyenv_mirror/user/current/lib/python3.8/site-packages (from ffmpeg-python==0.2.0->whisper==1.0) (0.18.2)\n",
            "Requirement already satisfied: typing-extensions in /workspace/.pyenv_mirror/user/current/lib/python3.8/site-packages (from torch->whisper==1.0) (4.4.0)\n",
            "Requirement already satisfied: regex!=2019.12.17 in /workspace/.pyenv_mirror/user/current/lib/python3.8/site-packages (from transformers>=4.19.0->whisper==1.0) (2022.10.31)\n",
            "Requirement already satisfied: requests in /usr/lib/python3/dist-packages (from transformers>=4.19.0->whisper==1.0) (2.22.0)\n",
            "Requirement already satisfied: pyyaml>=5.1 in /usr/lib/python3/dist-packages (from transformers>=4.19.0->whisper==1.0) (5.3.1)\n",
            "Requirement already satisfied: packaging>=20.0 in /workspace/.pyenv_mirror/user/current/lib/python3.8/site-packages (from transformers>=4.19.0->whisper==1.0) (22.0)\n",
            "Requirement already satisfied: tokenizers!=0.11.3,<0.14,>=0.11.1 in /workspace/.pyenv_mirror/user/current/lib/python3.8/site-packages (from transformers>=4.19.0->whisper==1.0) (0.13.2)\n",
            "Requirement already satisfied: filelock in /workspace/.pyenv_mirror/user/current/lib/python3.8/site-packages (from transformers>=4.19.0->whisper==1.0) (3.8.2)\n",
            "Requirement already satisfied: huggingface-hub<1.0,>=0.10.0 in /workspace/.pyenv_mirror/user/current/lib/python3.8/site-packages (from transformers>=4.19.0->whisper==1.0) (0.11.1)\n",
            "Building wheels for collected packages: whisper\n",
            "  Building wheel for whisper (setup.py): started\n",
            "  Building wheel for whisper (setup.py): finished with status 'done'\n",
            "  Created wheel for whisper: filename=whisper-1.0-py3-none-any.whl size=1175315 sha256=8f3b2b2e6029907c7264277616ff0fd72d29be741086bcf1a6f5c1b7f8472a9b\n",
            "  Stored in directory: /tmp/pip-ephem-wheel-cache-d6p2d2w6/wheels/a7/70/18/b7693c07b1d18b3dafb328f5d0496aa0d41a9c09ef332fd8e6\n",
            "Successfully built whisper\n",
            "Requirement already satisfied: torch==1.10.1 in /workspace/.pyenv_mirror/user/current/lib/python3.8/site-packages (1.10.1)\n",
            "Requirement already satisfied: typing-extensions in /workspace/.pyenv_mirror/user/current/lib/python3.8/site-packages (from torch==1.10.1) (4.4.0)\n",
            "Requirement already satisfied: pandas in /workspace/.pyenv_mirror/user/current/lib/python3.8/site-packages (1.5.2)\n",
            "Requirement already satisfied: python-dateutil>=2.8.1 in /workspace/.pyenv_mirror/user/current/lib/python3.8/site-packages (from pandas) (2.8.2)\n",
            "Requirement already satisfied: numpy>=1.20.3; python_version < \"3.10\" in /workspace/.pyenv_mirror/user/current/lib/python3.8/site-packages (from pandas) (1.23.5)\n",
            "Requirement already satisfied: pytz>=2020.1 in /workspace/.pyenv_mirror/user/current/lib/python3.8/site-packages (from pandas) (2022.6)\n",
            "Requirement already satisfied: six>=1.5 in /usr/lib/python3/dist-packages (from python-dateutil>=2.8.1->pandas) (1.14.0)\n"
          ]
        },
        {
          "name": "stderr",
          "output_type": "stream",
          "text": [
            "\n",
            "WARNING: apt does not have a stable CLI interface. Use with caution in scripts.\n",
            "\n"
          ]
        },
        {
          "name": "stdout",
          "output_type": "stream",
          "text": [
            "Hit:2 http://ppa.launchpad.net/git-core/ppa/ubuntu focal InRelease\n",
            "Hit:3 http://archive.ubuntu.com/ubuntu focal InRelease\n",
            "Hit:4 http://archive.ubuntu.com/ubuntu focal-updates InRelease\n",
            "Hit:5 https://download.docker.com/linux/ubuntu focal InRelease\n",
            "Hit:6 http://ppa.launchpad.net/ondrej/apache2/ubuntu focal InRelease\n",
            "Hit:7 http://archive.ubuntu.com/ubuntu focal-backports InRelease\n",
            "Hit:8 http://ppa.launchpad.net/ondrej/nginx-mainline/ubuntu focal InRelease\n",
            "Hit:1 https://apt.llvm.org/focal llvm-toolchain-focal-15 InRelease\n",
            "Hit:9 http://ppa.launchpad.net/ondrej/php/ubuntu focal InRelease\n",
            "Hit:10 http://security.ubuntu.com/ubuntu focal-security InRelease\n",
            "Reading package lists...\n",
            "Building dependency tree...\n",
            "Reading state information...\n",
            "95 packages can be upgraded. Run 'apt list --upgradable' to see them.\n"
          ]
        },
        {
          "name": "stderr",
          "output_type": "stream",
          "text": [
            "\n",
            "WARNING: apt does not have a stable CLI interface. Use with caution in scripts.\n",
            "\n"
          ]
        },
        {
          "name": "stdout",
          "output_type": "stream",
          "text": [
            "Reading package lists...\n",
            "Building dependency tree...\n",
            "Reading state information...\n",
            "The following additional packages will be installed:\n",
            "  i965-va-driver intel-media-va-driver libaacs0 libaom0 libass9 libasyncns0\n",
            "  libavc1394-0 libavcodec58 libavdevice58 libavfilter7 libavformat58\n",
            "  libavresample4 libavutil56 libbdplus0 libbluray2 libbs2b0 libcaca0\n",
            "  libcdio-cdda2 libcdio-paranoia2 libcdio18 libchromaprint1 libcodec2-0.9\n",
            "  libdc1394-22 libdrm-amdgpu1 libdrm-common libdrm-intel1 libdrm-nouveau2\n",
            "  libdrm-radeon1 libdrm2 libflac8 libflite1 libgl1 libgl1-mesa-dri\n",
            "  libglapi-mesa libglvnd0 libglx-mesa0 libglx0 libgme0 libgsm1 libiec61883-0\n",
            "  libigdgmm11 libjack-jackd2-0 liblilv-0-0 libllvm12 libmp3lame0 libmpg123-0\n",
            "  libmysofa1 libnorm1 libnuma1 libopenal-data libopenal1 libopenjp2-7\n",
            "  libopenmpt0 libopus0 libpciaccess0 libpgm-5.2-0 libpostproc55 libpulse0\n",
            "  libraw1394-11 librubberband2 libsamplerate0 libsdl2-2.0-0 libsensors-config\n",
            "  libsensors5 libserd-0-0 libshine3 libslang2 libsnappy1v5 libsndfile1\n",
            "  libsndio7.0 libsodium23 libsord-0-0 libsoxr0 libspeex1 libsratom-0-0\n",
            "  libssh-gcrypt-4 libswresample3 libswscale5 libtheora0 libtwolame0\n",
            "  libusb-1.0-0 libva-drm2 libva-x11-2 libva2 libvdpau1 libvidstab1.1\n",
            "  libvorbisenc2 libvpx6 libvulkan1 libwavpack1 libwayland-client0\n",
            "  libwayland-cursor0 libwayland-egl1 libwrap0 libx11-xcb1 libx264-155\n",
            "  libx265-179 libxcb-dri2-0 libxcb-dri3-0 libxcb-glx0 libxcb-present0\n",
            "  libxcb-randr0 libxcb-shape0 libxcb-sync1 libxcb-xfixes0 libxcursor1\n",
            "  libxfixes3 libxi6 libxinerama1 libxkbcommon0 libxrandr2 libxshmfence1\n",
            "  libxss1 libxv1 libxvidcore4 libxxf86vm1 libzmq5 libzvbi-common libzvbi0\n",
            "  mesa-va-drivers mesa-vdpau-drivers mesa-vulkan-drivers ocl-icd-libopencl1\n",
            "  va-driver-all vdpau-driver-all xkb-data\n",
            "Suggested packages:\n",
            "  ffmpeg-doc i965-va-driver-shaders libbluray-bdj jackd2 libportaudio2\n",
            "  opus-tools pciutils pulseaudio libraw1394-doc lm-sensors serdi sndiod sordi\n",
            "  speex opencl-icd libvdpau-va-gl1 nvidia-vdpau-driver\n",
            "  nvidia-legacy-340xx-vdpau-driver nvidia-legacy-304xx-vdpau-driver\n",
            "The following NEW packages will be installed:\n",
            "  ffmpeg i965-va-driver intel-media-va-driver libaacs0 libaom0 libass9\n",
            "  libasyncns0 libavc1394-0 libavcodec58 libavdevice58 libavfilter7\n",
            "  libavformat58 libavresample4 libavutil56 libbdplus0 libbluray2 libbs2b0\n",
            "  libcaca0 libcdio-cdda2 libcdio-paranoia2 libcdio18 libchromaprint1\n",
            "  libcodec2-0.9 libdc1394-22 libdrm-amdgpu1 libdrm-common libdrm-intel1\n",
            "  libdrm-nouveau2 libdrm-radeon1 libdrm2 libflac8 libflite1 libgl1\n",
            "  libgl1-mesa-dri libglapi-mesa libglvnd0 libglx-mesa0 libglx0 libgme0 libgsm1\n",
            "  libiec61883-0 libigdgmm11 libjack-jackd2-0 liblilv-0-0 libllvm12 libmp3lame0\n",
            "  libmpg123-0 libmysofa1 libnorm1 libnuma1 libopenal-data libopenal1\n",
            "  libopenjp2-7 libopenmpt0 libopus0 libpciaccess0 libpgm-5.2-0 libpostproc55\n",
            "  libpulse0 libraw1394-11 librubberband2 libsamplerate0 libsdl2-2.0-0\n",
            "  libsensors-config libsensors5 libserd-0-0 libshine3 libslang2 libsnappy1v5\n",
            "  libsndfile1 libsndio7.0 libsodium23 libsord-0-0 libsoxr0 libspeex1\n",
            "  libsratom-0-0 libssh-gcrypt-4 libswresample3 libswscale5 libtheora0\n",
            "  libtwolame0 libusb-1.0-0 libva-drm2 libva-x11-2 libva2 libvdpau1\n",
            "  libvidstab1.1 libvorbisenc2 libvpx6 libvulkan1 libwavpack1\n",
            "  libwayland-client0 libwayland-cursor0 libwayland-egl1 libwrap0 libx11-xcb1\n",
            "  libx264-155 libx265-179 libxcb-dri2-0 libxcb-dri3-0 libxcb-glx0\n",
            "  libxcb-present0 libxcb-randr0 libxcb-shape0 libxcb-sync1 libxcb-xfixes0\n",
            "  libxcursor1 libxfixes3 libxi6 libxinerama1 libxkbcommon0 libxrandr2\n",
            "  libxshmfence1 libxss1 libxv1 libxvidcore4 libxxf86vm1 libzmq5 libzvbi-common\n",
            "  libzvbi0 mesa-va-drivers mesa-vdpau-drivers mesa-vulkan-drivers\n",
            "  ocl-icd-libopencl1 va-driver-all vdpau-driver-all xkb-data\n",
            "0 upgraded, 127 newly installed, 0 to remove and 95 not upgraded.\n",
            "Need to get 87.0 MB of archives.\n",
            "After this operation, 751 MB of additional disk space will be used.\n",
            "Do you want to continue? [Y/n] Abort.\n"
          ]
        },
        {
          "ename": "CalledProcessError",
          "evalue": "Command 'b'pip install git+https://github.com/openai/whisper.git\\npip install torch==1.10.1\\npip install pandas\\nsudo apt update && sudo apt install ffmpeg\\n'' returned non-zero exit status 1.",
          "output_type": "error",
          "traceback": [
            "\u001b[0;31m---------------------------------------------------------------------------\u001b[0m",
            "\u001b[0;31mCalledProcessError\u001b[0m                        Traceback (most recent call last)",
            "Cell \u001b[0;32mIn[2], line 1\u001b[0m\n\u001b[0;32m----> 1\u001b[0m get_ipython()\u001b[39m.\u001b[39;49mrun_cell_magic(\u001b[39m'\u001b[39;49m\u001b[39mbash\u001b[39;49m\u001b[39m'\u001b[39;49m, \u001b[39m'\u001b[39;49m\u001b[39m'\u001b[39;49m, \u001b[39m'\u001b[39;49m\u001b[39mpip install git+https://github.com/openai/whisper.git\u001b[39;49m\u001b[39m\\n\u001b[39;49;00m\u001b[39mpip install torch==1.10.1\u001b[39;49m\u001b[39m\\n\u001b[39;49;00m\u001b[39mpip install pandas\u001b[39;49m\u001b[39m\\n\u001b[39;49;00m\u001b[39msudo apt update && sudo apt install ffmpeg\u001b[39;49m\u001b[39m\\n\u001b[39;49;00m\u001b[39m'\u001b[39;49m)\n",
            "File \u001b[0;32m/workspace/.pyenv_mirror/user/current/lib/python3.8/site-packages/IPython/core/interactiveshell.py:2417\u001b[0m, in \u001b[0;36mInteractiveShell.run_cell_magic\u001b[0;34m(self, magic_name, line, cell)\u001b[0m\n\u001b[1;32m   2415\u001b[0m \u001b[39mwith\u001b[39;00m \u001b[39mself\u001b[39m\u001b[39m.\u001b[39mbuiltin_trap:\n\u001b[1;32m   2416\u001b[0m     args \u001b[39m=\u001b[39m (magic_arg_s, cell)\n\u001b[0;32m-> 2417\u001b[0m     result \u001b[39m=\u001b[39m fn(\u001b[39m*\u001b[39;49margs, \u001b[39m*\u001b[39;49m\u001b[39m*\u001b[39;49mkwargs)\n\u001b[1;32m   2418\u001b[0m \u001b[39mreturn\u001b[39;00m result\n",
            "File \u001b[0;32m/workspace/.pyenv_mirror/user/current/lib/python3.8/site-packages/IPython/core/magics/script.py:153\u001b[0m, in \u001b[0;36mScriptMagics._make_script_magic.<locals>.named_script_magic\u001b[0;34m(line, cell)\u001b[0m\n\u001b[1;32m    151\u001b[0m \u001b[39melse\u001b[39;00m:\n\u001b[1;32m    152\u001b[0m     line \u001b[39m=\u001b[39m script\n\u001b[0;32m--> 153\u001b[0m \u001b[39mreturn\u001b[39;00m \u001b[39mself\u001b[39;49m\u001b[39m.\u001b[39;49mshebang(line, cell)\n",
            "File \u001b[0;32m/workspace/.pyenv_mirror/user/current/lib/python3.8/site-packages/IPython/core/magics/script.py:305\u001b[0m, in \u001b[0;36mScriptMagics.shebang\u001b[0;34m(self, line, cell)\u001b[0m\n\u001b[1;32m    300\u001b[0m \u001b[39mif\u001b[39;00m args\u001b[39m.\u001b[39mraise_error \u001b[39mand\u001b[39;00m p\u001b[39m.\u001b[39mreturncode \u001b[39m!=\u001b[39m \u001b[39m0\u001b[39m:\n\u001b[1;32m    301\u001b[0m     \u001b[39m# If we get here and p.returncode is still None, we must have\u001b[39;00m\n\u001b[1;32m    302\u001b[0m     \u001b[39m# killed it but not yet seen its return code. We don't wait for it,\u001b[39;00m\n\u001b[1;32m    303\u001b[0m     \u001b[39m# in case it's stuck in uninterruptible sleep. -9 = SIGKILL\u001b[39;00m\n\u001b[1;32m    304\u001b[0m     rc \u001b[39m=\u001b[39m p\u001b[39m.\u001b[39mreturncode \u001b[39mor\u001b[39;00m \u001b[39m-\u001b[39m\u001b[39m9\u001b[39m\n\u001b[0;32m--> 305\u001b[0m     \u001b[39mraise\u001b[39;00m CalledProcessError(rc, cell)\n",
            "\u001b[0;31mCalledProcessError\u001b[0m: Command 'b'pip install git+https://github.com/openai/whisper.git\\npip install torch==1.10.1\\npip install pandas\\nsudo apt update && sudo apt install ffmpeg\\n'' returned non-zero exit status 1."
          ]
        }
      ],
      "source": [
        "%%bash\n",
        "pip install git+https://github.com/openai/whisper.git\n",
        "pip install torch==1.10.1\n",
        "pip install pandas\n",
        "sudo apt update && sudo apt install ffmpeg"
      ]
    },
    {
      "cell_type": "markdown",
      "metadata": {
        "id": "E-dL_8_T7veS"
      },
      "source": [
        "## Running the script\n",
        "\n",
        "Before we create and run the script we need a sample audio file to test the code\n",
        "\n",
        "for that we Download a sample audio clip\n",
        "\n"
      ]
    },
    {
      "cell_type": "code",
      "execution_count": null,
      "metadata": {
        "id": "CGayUIA4mhQk",
        "outputId": "dcf4522d-fccb-4937-99fd-5e0067de5ec3",
        "tags": [
          "skip-execution"
        ]
      },
      "outputs": [
        {
          "name": "stderr",
          "output_type": "stream",
          "text": [
            "--2022-10-10 03:16:18--  https://github.com/js-ts/hello/raw/main/hello.mp3\n",
            "Resolving github.com (github.com)... 20.205.243.166\n",
            "Connecting to github.com (github.com)|20.205.243.166|:443... connected.\n",
            "HTTP request sent, awaiting response... 302 Found\n",
            "Location: https://raw.githubusercontent.com/js-ts/hello/main/hello.mp3 [following]\n",
            "--2022-10-10 03:16:19--  https://raw.githubusercontent.com/js-ts/hello/main/hello.mp3\n",
            "Resolving raw.githubusercontent.com (raw.githubusercontent.com)... 185.199.108.133, 185.199.109.133, 185.199.110.133, ...\n",
            "Connecting to raw.githubusercontent.com (raw.githubusercontent.com)|185.199.108.133|:443... connected.\n",
            "HTTP request sent, awaiting response... 200 OK\n",
            "Length: 10063 (9.8K) [audio/mpeg]\n",
            "Saving to: ‘hello.mp3’\n",
            "\n",
            "     0K .........                                             100% 52.3M=0s\n",
            "\n",
            "2022-10-10 03:16:19 (52.3 MB/s) - ‘hello.mp3’ saved [10063/10063]\n",
            "\n"
          ]
        }
      ],
      "source": [
        "%%bash\n",
        "wget https://github.com/js-ts/hello/raw/main/hello.mp3"
      ]
    },
    {
      "cell_type": "markdown",
      "metadata": {
        "id": "2TtRF1yc8Cx-"
      },
      "source": [
        "\n",
        "We will create a script that accepts parameters like input file path, output file path, temperature etc. and set the default parameters, if provided a mp4 file convert it to a .wav file\n",
        "\n",
        "and also save the transcript in various formats, after that we load the large model\n",
        "\n",
        "then pass it the required parameters, this model is not only limited to english and transcription\n",
        "\n",
        "It supports a lots of other languages and also does translation, to \n",
        "\n",
        "![](https://i.imgur.com/ALFe4qJ.png)\n"
      ]
    },
    {
      "cell_type": "code",
      "execution_count": null,
      "metadata": {
        "id": "briewRiomhQm",
        "outputId": "638a0147-2592-471e-ab07-6e3b942c9110",
        "tags": [
          "skip-execution"
        ]
      },
      "outputs": [
        {
          "name": "stdout",
          "output_type": "stream",
          "text": [
            "Overwriting openai-whisper.py\n"
          ]
        }
      ],
      "source": [
        "%%writefile openai-whisper.py\n",
        "import argparse\n",
        "import os\n",
        "import sys\n",
        "import warnings\n",
        "import whisper\n",
        "from pathlib import Path\n",
        "import subprocess\n",
        "import torch\n",
        "import shutil\n",
        "import numpy as np\n",
        "parser = argparse.ArgumentParser(description=\"OpenAI Whisper Automatic Speech Recognition\")\n",
        "parser.add_argument(\"-l\",dest=\"audiolanguage\", type=str,help=\"Language spoken in the audio, use Auto detection to let Whisper detect the language. Select from the following languages['Auto detection', 'Afrikaans', 'Albanian', 'Amharic', 'Arabic', 'Armenian', 'Assamese', 'Azerbaijani', 'Bashkir', 'Basque', 'Belarusian', 'Bengali', 'Bosnian', 'Breton', 'Bulgarian', 'Burmese', 'Castilian', 'Catalan', 'Chinese', 'Croatian', 'Czech', 'Danish', 'Dutch', 'English', 'Estonian', 'Faroese', 'Finnish', 'Flemish', 'French', 'Galician', 'Georgian', 'German', 'Greek', 'Gujarati', 'Haitian', 'Haitian Creole', 'Hausa', 'Hawaiian', 'Hebrew', 'Hindi', 'Hungarian', 'Icelandic', 'Indonesian', 'Italian', 'Japanese', 'Javanese', 'Kannada', 'Kazakh', 'Khmer', 'Korean', 'Lao', 'Latin', 'Latvian', 'Letzeburgesch', 'Lingala', 'Lithuanian', 'Luxembourgish', 'Macedonian', 'Malagasy', 'Malay', 'Malayalam', 'Maltese', 'Maori', 'Marathi', 'Moldavian', 'Moldovan', 'Mongolian', 'Myanmar', 'Nepali', 'Norwegian', 'Nynorsk', 'Occitan', 'Panjabi', 'Pashto', 'Persian', 'Polish', 'Portuguese', 'Punjabi', 'Pushto', 'Romanian', 'Russian', 'Sanskrit', 'Serbian', 'Shona', 'Sindhi', 'Sinhala', 'Sinhalese', 'Slovak', 'Slovenian', 'Somali', 'Spanish', 'Sundanese', 'Swahili', 'Swedish', 'Tagalog', 'Tajik', 'Tamil', 'Tatar', 'Telugu', 'Thai', 'Tibetan', 'Turkish', 'Turkmen', 'Ukrainian', 'Urdu', 'Uzbek', 'Valencian', 'Vietnamese', 'Welsh', 'Yiddish', 'Yoruba'] \",default=\"English\")\n",
        "parser.add_argument(\"-p\",dest=\"inputpath\", type=str,help=\"Path of the input file\",default=\"/hello.mp3\")\n",
        "parser.add_argument(\"-v\",dest=\"typeverbose\", type=str,help=\"Whether to print out the progress and debug messages. ['Live transcription', 'Progress bar', 'None']\",default=\"Live transcription\")\n",
        "parser.add_argument(\"-g\",dest=\"outputtype\", type=str,help=\"Type of file to generate to record the transcription. ['All', '.txt', '.vtt', '.srt']\",default=\"All\")\n",
        "parser.add_argument(\"-s\",dest=\"speechtask\", type=str,help=\"Whether to perform X->X speech recognition (`transcribe`) or X->English translation (`translate`). ['transcribe', 'translate']\",default=\"transcribe\")\n",
        "parser.add_argument(\"-n\",dest=\"numSteps\", type=int,help=\"Number of Steps\",default=50)\n",
        "parser.add_argument(\"-t\",dest=\"decodingtemperature\", type=int,help=\"Temperature to increase when falling back when the decoding fails to meet either of the thresholds below.\",default=0.15 )\n",
        "parser.add_argument(\"-b\",dest=\"beamsize\", type=int,help=\"Number of Images\",default=5)\n",
        "parser.add_argument(\"-o\",dest=\"output\", type=str,help=\"Output Folder where to store the ouputs\",default=\"\")\n",
        "\n",
        "args=parser.parse_args()\n",
        "device = torch.device('cuda:0')\n",
        "print('Using device:', device, file=sys.stderr)\n",
        "\n",
        "Model = 'large'\n",
        "whisper_model =whisper.load_model(Model)\n",
        "video_path_local = os.getcwd()+args.inputpath\n",
        "file_name=os.path.basename(video_path_local)\n",
        "output_file_path=args.output\n",
        "\n",
        "if os.path.splitext(video_path_local)[1] == \".mp4\":\n",
        "    video_path_local_wav =os.path.splitext(file_name)[0]+\".wav\"\n",
        "    result  = subprocess.run([\"ffmpeg\", \"-i\", str(video_path_local), \"-vn\", \"-acodec\", \"pcm_s16le\", \"-ar\", \"16000\", \"-ac\", \"1\", str(video_path_local_wav)])\n",
        "\n",
        "# add language parameters\n",
        "# Language spoken in the audio, use Auto detection to let Whisper detect the language.\n",
        "#  ['Auto detection', 'Afrikaans', 'Albanian', 'Amharic', 'Arabic', 'Armenian', 'Assamese', 'Azerbaijani', 'Bashkir', 'Basque', 'Belarusian', 'Bengali', 'Bosnian', 'Breton', 'Bulgarian', 'Burmese', 'Castilian', 'Catalan', 'Chinese', 'Croatian', 'Czech', 'Danish', 'Dutch', 'English', 'Estonian', 'Faroese', 'Finnish', 'Flemish', 'French', 'Galician', 'Georgian', 'German', 'Greek', 'Gujarati', 'Haitian', 'Haitian Creole', 'Hausa', 'Hawaiian', 'Hebrew', 'Hindi', 'Hungarian', 'Icelandic', 'Indonesian', 'Italian', 'Japanese', 'Javanese', 'Kannada', 'Kazakh', 'Khmer', 'Korean', 'Lao', 'Latin', 'Latvian', 'Letzeburgesch', 'Lingala', 'Lithuanian', 'Luxembourgish', 'Macedonian', 'Malagasy', 'Malay', 'Malayalam', 'Maltese', 'Maori', 'Marathi', 'Moldavian', 'Moldovan', 'Mongolian', 'Myanmar', 'Nepali', 'Norwegian', 'Nynorsk', 'Occitan', 'Panjabi', 'Pashto', 'Persian', 'Polish', 'Portuguese', 'Punjabi', 'Pushto', 'Romanian', 'Russian', 'Sanskrit', 'Serbian', 'Shona', 'Sindhi', 'Sinhala', 'Sinhalese', 'Slovak', 'Slovenian', 'Somali', 'Spanish', 'Sundanese', 'Swahili', 'Swedish', 'Tagalog', 'Tajik', 'Tamil', 'Tatar', 'Telugu', 'Thai', 'Tibetan', 'Turkish', 'Turkmen', 'Ukrainian', 'Urdu', 'Uzbek', 'Valencian', 'Vietnamese', 'Welsh', 'Yiddish', 'Yoruba']\n",
        "language = args.audiolanguage\n",
        "# Whether to print out the progress and debug messages.\n",
        "# ['Live transcription', 'Progress bar', 'None']\n",
        "verbose = args.typeverbose\n",
        "#  Type of file to generate to record the transcription.\n",
        "# ['All', '.txt', '.vtt', '.srt']\n",
        "output_type = args.outputtype\n",
        "# Whether to perform X->X speech recognition (`transcribe`) or X->English translation (`translate`).\n",
        "# ['transcribe', 'translate']\n",
        "task = args.speechtask\n",
        "# Temperature to use for sampling.\n",
        "temperature = args.decodingtemperature\n",
        "#  Temperature to increase when falling back when the decoding fails to meet either of the thresholds below.\n",
        "temperature_increment_on_fallback = 0.2\n",
        "#  Number of candidates when sampling with non-zero temperature.\n",
        "best_of = 5\n",
        "#  Number of beams in beam search, only applicable when temperature is zero.\n",
        "beam_size = args.beamsize\n",
        "# Optional patience value to use in beam decoding, as in [*Beam Decoding with Controlled Patience*](https://arxiv.org/abs/2204.05424), the default (1.0) is equivalent to conventional beam search.\n",
        "patience = 1.0\n",
        "# Optional token length penalty coefficient (alpha) as in [*Google's Neural Machine Translation System*](https://arxiv.org/abs/1609.08144), set to negative value to uses simple length normalization.\n",
        "length_penalty = -0.05\n",
        "# Comma-separated list of token ids to suppress during sampling; '-1' will suppress most special characters except common punctuations.\n",
        "suppress_tokens = \"-1\"\n",
        "# Optional text to provide as a prompt for the first window.\n",
        "initial_prompt = \"\"\n",
        "# if True, provide the previous output of the model as a prompt for the next window; disabling may make the text inconsistent across windows, but the model becomes less prone to getting stuck in a failure loop.\n",
        "condition_on_previous_text = True\n",
        "#  whether to perform inference in fp16.\n",
        "fp16 = True\n",
        "#  If the gzip compression ratio is higher than this value, treat the decoding as failed.\n",
        "compression_ratio_threshold = 2.4\n",
        "# If the average log probability is lower than this value, treat the decoding as failed.\n",
        "logprob_threshold = -1.0\n",
        "# If the probability of the <|nospeech|> token is higher than this value AND the decoding has failed due to `logprob_threshold`, consider the segment as silence.\n",
        "no_speech_threshold = 0.6\n",
        "\n",
        "verbose_lut = {\n",
        "    'Live transcription': True,\n",
        "    'Progress bar': False,\n",
        "    'None': None\n",
        "}\n",
        "\n",
        "args = dict(\n",
        "    language = (None if language == \"Auto detection\" else language),\n",
        "    verbose = verbose_lut[verbose],\n",
        "    task = task,\n",
        "    temperature = temperature,\n",
        "    temperature_increment_on_fallback = temperature_increment_on_fallback,\n",
        "    best_of = best_of,\n",
        "    beam_size = beam_size,\n",
        "    patience=patience,\n",
        "    length_penalty=(length_penalty if length_penalty>=0.0 else None),\n",
        "    suppress_tokens=suppress_tokens,\n",
        "    initial_prompt=(None if not initial_prompt else initial_prompt),\n",
        "    condition_on_previous_text=condition_on_previous_text,\n",
        "    fp16=fp16,\n",
        "    compression_ratio_threshold=compression_ratio_threshold,\n",
        "    logprob_threshold=logprob_threshold,\n",
        "    no_speech_threshold=no_speech_threshold\n",
        ")\n",
        "\n",
        "temperature = args.pop(\"temperature\")\n",
        "temperature_increment_on_fallback = args.pop(\"temperature_increment_on_fallback\")\n",
        "if temperature_increment_on_fallback is not None:\n",
        "    temperature = tuple(np.arange(temperature, 1.0 + 1e-6, temperature_increment_on_fallback))\n",
        "else:\n",
        "    temperature = [temperature]\n",
        "\n",
        "if Model.endswith(\".en\") and args[\"language\"] not in {\"en\", \"English\"}:\n",
        "    warnings.warn(f\"{Model} is an English-only model but receipted '{args['language']}'; using English instead.\")\n",
        "    args[\"language\"] = \"en\"\n",
        "\n",
        "video_transcription = whisper.transcribe(\n",
        "    whisper_model,\n",
        "    str(video_path_local),\n",
        "    temperature=temperature,\n",
        "    **args,\n",
        ")\n",
        "\n",
        "# Save output\n",
        "writing_lut = {\n",
        "    '.txt': whisper.utils.write_txt,\n",
        "    '.vtt': whisper.utils.write_vtt,\n",
        "    '.srt': whisper.utils.write_txt,\n",
        "}\n",
        "\n",
        "if output_type == \"All\":\n",
        "    for suffix, write_suffix in writing_lut.items():\n",
        "        transcript_local_path =os.getcwd()+output_file_path+'/'+os.path.splitext(file_name)[0] +suffix\n",
        "        with open(transcript_local_path, \"w\", encoding=\"utf-8\") as f:\n",
        "            write_suffix(video_transcription[\"segments\"], file=f)\n",
        "        try:\n",
        "            transcript_drive_path =file_name\n",
        "        except:\n",
        "            print(f\"**Transcript file created: {transcript_local_path}**\")\n",
        "else:\n",
        "    transcript_local_path =output_file_path+'/'+os.path.splitext(file_name)[0] +output_type\n",
        "\n",
        "    with open(transcript_local_path, \"w\", encoding=\"utf-8\") as f:\n",
        "        writing_lut[output_type](video_transcription[\"segments\"], file=f)"
      ]
    },
    {
      "cell_type": "markdown",
      "metadata": {
        "id": "fiu1d2Lh8Ri5"
      },
      "source": [
        "\n",
        "\n",
        "Then run the script with the default parameters\n",
        "\n"
      ]
    },
    {
      "cell_type": "code",
      "execution_count": null,
      "metadata": {
        "id": "QUxfGDzvmhQt",
        "outputId": "aa1e6485-87c0-4ed9-ff38-94fbacee0090",
        "tags": [
          "skip-execution"
        ]
      },
      "outputs": [
        {
          "name": "stdout",
          "output_type": "stream",
          "text": [
            "[00:00.000 --> 00:00.500]  Hello!\n"
          ]
        },
        {
          "name": "stderr",
          "output_type": "stream",
          "text": [
            "Using device: cuda:0\n",
            "\r\n",
            "  0%|                                              | 0.00/2.87G [00:00<?, ?iB/s]\r\n",
            "  0%|                                     | 4.75M/2.87G [00:00<01:03, 48.7MiB/s]\r\n",
            "  0%|                                     | 9.40M/2.87G [00:00<01:04, 48.0MiB/s]\r\n",
            "  0%|▏                                    | 14.0M/2.87G [00:00<01:07, 45.8MiB/s]\r\n",
            "  1%|▏                                    | 18.8M/2.87G [00:00<01:04, 47.4MiB/s]\r\n",
            "  1%|▎                                    | 23.3M/2.87G [00:00<01:04, 47.3MiB/s]\r\n",
            "  1%|▎                                    | 27.8M/2.87G [00:00<01:06, 45.8MiB/s]\r\n",
            "  1%|▍                                    | 32.5M/2.87G [00:00<01:05, 46.6MiB/s]\r\n",
            "  1%|▍                                    | 37.1M/2.87G [00:00<01:05, 46.9MiB/s]\r\n",
            "  1%|▌                                    | 41.9M/2.87G [00:00<01:03, 47.7MiB/s]\r\n",
            "  2%|▌                                    | 47.3M/2.87G [00:01<01:00, 50.2MiB/s]\r\n",
            "  2%|▋                                    | 52.1M/2.87G [00:01<01:04, 47.2MiB/s]\r\n",
            "  2%|▋                                    | 56.8M/2.87G [00:01<01:03, 47.7MiB/s]\r\n",
            "  2%|▊                                    | 62.1M/2.87G [00:01<01:00, 50.1MiB/s]\r\n",
            "  2%|▊                                    | 67.9M/2.87G [00:01<00:56, 53.1MiB/s]\r\n",
            "  3%|▉                                    | 75.1M/2.87G [00:01<00:50, 59.8MiB/s]\r\n",
            "  3%|█                                    | 82.5M/2.87G [00:01<00:46, 65.0MiB/s]\r\n",
            "  3%|█                                    | 88.7M/2.87G [00:01<00:47, 63.1MiB/s]\r\n",
            "  3%|█▏                                   | 94.8M/2.87G [00:01<00:48, 61.3MiB/s]\r\n",
            "  4%|█▎                                    | 103M/2.87G [00:01<00:43, 69.1MiB/s]\r\n",
            "  4%|█▍                                    | 110M/2.87G [00:02<00:53, 56.1MiB/s]\r\n",
            "  4%|█▍                                    | 116M/2.87G [00:02<00:58, 50.6MiB/s]\r\n",
            "  4%|█▌                                    | 121M/2.87G [00:02<01:00, 48.9MiB/s]\r\n",
            "  4%|█▌                                    | 126M/2.87G [00:02<01:01, 47.8MiB/s]\r\n",
            "  4%|█▋                                    | 130M/2.87G [00:02<01:01, 48.1MiB/s]\r\n",
            "  5%|█▋                                    | 135M/2.87G [00:02<01:06, 44.4MiB/s]\r\n",
            "  5%|█▊                                    | 140M/2.87G [00:02<01:04, 45.8MiB/s]\r\n",
            "  5%|█▊                                    | 144M/2.87G [00:03<01:08, 43.1MiB/s]\r\n",
            "  5%|█▉                                    | 150M/2.87G [00:03<01:01, 47.4MiB/s]\r\n",
            "  5%|█▉                                    | 155M/2.87G [00:03<01:00, 48.0MiB/s]\r\n",
            "  6%|██                                    | 162M/2.87G [00:03<00:52, 55.6MiB/s]\r\n",
            "  6%|██▏                                   | 167M/2.87G [00:03<00:53, 54.2MiB/s]\r\n",
            "  6%|██▏                                   | 173M/2.87G [00:03<00:55, 52.7MiB/s]\r\n",
            "  6%|██▎                                   | 178M/2.87G [00:03<00:55, 52.6MiB/s]\r\n",
            "  6%|██▎                                   | 183M/2.87G [00:03<00:54, 52.9MiB/s]\r\n",
            "  6%|██▍                                   | 188M/2.87G [00:03<00:57, 50.4MiB/s]\r\n",
            "  7%|██▍                                   | 193M/2.87G [00:03<01:01, 46.9MiB/s]\r\n",
            "  7%|██▌                                   | 197M/2.87G [00:04<01:01, 47.1MiB/s]\r\n",
            "  7%|██▌                                   | 203M/2.87G [00:04<00:58, 49.1MiB/s]\r\n",
            "  7%|██▋                                   | 208M/2.87G [00:04<00:55, 52.0MiB/s]\r\n",
            "  7%|██▊                                   | 213M/2.87G [00:04<00:57, 50.2MiB/s]\r\n",
            "  7%|██▊                                   | 218M/2.87G [00:04<01:02, 45.5MiB/s]\r\n",
            "  8%|██▉                                   | 224M/2.87G [00:04<00:58, 48.9MiB/s]\r\n",
            "  8%|███                                   | 232M/2.87G [00:04<00:46, 60.6MiB/s]\r\n",
            "  8%|███                                   | 238M/2.87G [00:04<00:49, 57.4MiB/s]\r\n",
            "  8%|███▏                                  | 244M/2.87G [00:04<00:50, 56.3MiB/s]\r\n",
            "  8%|███▏                                  | 250M/2.87G [00:05<00:49, 56.7MiB/s]\r\n",
            "  9%|███▎                                  | 255M/2.87G [00:05<00:48, 57.6MiB/s]\r\n",
            "  9%|███▎                                  | 261M/2.87G [00:05<00:48, 58.0MiB/s]\r\n",
            "  9%|███▍                                  | 268M/2.87G [00:05<00:44, 62.6MiB/s]\r\n",
            "  9%|███▌                                  | 275M/2.87G [00:05<00:43, 64.4MiB/s]\r\n",
            " 10%|███▌                                  | 281M/2.87G [00:05<01:04, 43.0MiB/s]\r\n",
            " 10%|███▋                                  | 286M/2.87G [00:05<01:04, 43.1MiB/s]\r\n",
            " 10%|███▊                                  | 291M/2.87G [00:05<01:03, 43.5MiB/s]\r\n",
            " 10%|███▊                                  | 297M/2.87G [00:06<00:57, 48.6MiB/s]\r\n",
            " 10%|███▉                                  | 302M/2.87G [00:06<00:56, 49.1MiB/s]\r\n",
            " 10%|███▉                                  | 307M/2.87G [00:06<00:55, 49.9MiB/s]\r\n",
            " 11%|████                                  | 312M/2.87G [00:06<00:56, 48.9MiB/s]\r\n",
            " 11%|████                                  | 317M/2.87G [00:06<00:57, 48.0MiB/s]\r\n",
            " 11%|████▏                                 | 321M/2.87G [00:06<00:57, 48.2MiB/s]\r\n",
            " 11%|████▏                                 | 326M/2.87G [00:06<00:56, 48.6MiB/s]\r\n",
            " 11%|████▎                                 | 334M/2.87G [00:06<00:47, 57.5MiB/s]\r\n",
            " 12%|████▍                                 | 345M/2.87G [00:06<00:36, 75.1MiB/s]\r\n",
            " 12%|████▌                                 | 352M/2.87G [00:07<00:41, 65.3MiB/s]\r\n",
            " 12%|████▋                                 | 359M/2.87G [00:07<00:42, 64.0MiB/s]\r\n",
            " 12%|████▋                                 | 365M/2.87G [00:07<00:44, 61.0MiB/s]\r\n",
            " 13%|████▊                                 | 371M/2.87G [00:07<00:46, 57.6MiB/s]\r\n",
            " 13%|████▊                                 | 377M/2.87G [00:07<00:47, 56.8MiB/s]\r\n",
            " 13%|████▉                                 | 382M/2.87G [00:07<00:49, 54.2MiB/s]\r\n",
            " 13%|████▉                                 | 387M/2.87G [00:07<00:49, 53.7MiB/s]\r\n",
            " 13%|█████                                 | 393M/2.87G [00:07<00:50, 52.8MiB/s]\r\n",
            " 14%|█████▏                                | 398M/2.87G [00:07<00:51, 51.8MiB/s]\r\n",
            " 14%|█████▏                                | 403M/2.87G [00:08<00:52, 50.3MiB/s]\r\n",
            " 14%|█████▎                                | 407M/2.87G [00:08<00:52, 50.2MiB/s]\r\n",
            " 14%|█████▎                                | 412M/2.87G [00:08<00:52, 50.2MiB/s]\r\n",
            " 14%|█████▍                                | 417M/2.87G [00:08<00:51, 51.0MiB/s]\r\n",
            " 14%|█████▍                                | 424M/2.87G [00:08<00:47, 55.4MiB/s]\r\n",
            " 15%|█████▌                                | 429M/2.87G [00:08<00:48, 54.5MiB/s]\r\n",
            " 15%|█████▌                                | 434M/2.87G [00:08<00:51, 51.4MiB/s]\r\n",
            " 15%|█████▋                                | 440M/2.87G [00:08<00:47, 54.9MiB/s]\r\n",
            " 15%|█████▊                                | 446M/2.87G [00:08<00:49, 52.8MiB/s]\r\n",
            " 15%|█████▊                                | 451M/2.87G [00:09<00:53, 48.6MiB/s]\r\n",
            " 15%|█████▉                                | 455M/2.87G [00:09<00:54, 48.3MiB/s]\r\n",
            " 16%|█████▉                                | 460M/2.87G [00:09<00:53, 48.8MiB/s]\r\n",
            " 16%|██████                                | 465M/2.87G [00:09<00:54, 48.1MiB/s]\r\n",
            " 16%|██████                                | 471M/2.87G [00:09<00:49, 52.6MiB/s]\r\n",
            " 16%|██████▏                               | 477M/2.87G [00:09<00:47, 54.2MiB/s]\r\n",
            " 16%|██████▏                               | 484M/2.87G [00:09<00:42, 60.3MiB/s]\r\n",
            " 17%|██████▎                               | 490M/2.87G [00:09<00:41, 62.7MiB/s]\r\n",
            " 17%|██████▍                               | 496M/2.87G [00:09<00:44, 57.5MiB/s]\r\n",
            " 17%|██████▍                               | 502M/2.87G [00:10<00:47, 54.4MiB/s]\r\n",
            " 17%|██████▌                               | 507M/2.87G [00:10<00:47, 53.6MiB/s]\r\n",
            " 17%|██████▌                               | 512M/2.87G [00:10<00:48, 53.0MiB/s]\r\n",
            " 18%|██████▋                               | 518M/2.87G [00:10<00:46, 54.8MiB/s]\r\n",
            " 18%|██████▊                               | 523M/2.87G [00:10<00:46, 54.1MiB/s]\r\n",
            " 18%|██████▊                               | 529M/2.87G [00:10<00:48, 52.6MiB/s]\r\n",
            " 18%|██████▉                               | 534M/2.87G [00:10<00:48, 52.1MiB/s]\r\n",
            " 18%|██████▉                               | 539M/2.87G [00:10<00:52, 48.3MiB/s]\r\n",
            " 18%|███████                               | 543M/2.87G [00:10<00:55, 45.7MiB/s]\r\n",
            " 19%|███████                               | 548M/2.87G [00:11<00:55, 45.1MiB/s]\r\n",
            " 19%|███████▏                              | 554M/2.87G [00:11<00:50, 49.1MiB/s]\r\n",
            " 19%|███████▏                              | 560M/2.87G [00:11<00:47, 53.1MiB/s]\r\n",
            " 19%|███████▎                              | 565M/2.87G [00:11<00:48, 51.3MiB/s]\r\n",
            " 19%|███████▎                              | 570M/2.87G [00:11<00:49, 50.2MiB/s]\r\n",
            " 20%|███████▍                              | 574M/2.87G [00:11<00:49, 49.8MiB/s]\r\n",
            " 20%|███████▍                              | 579M/2.87G [00:11<00:51, 48.4MiB/s]\r\n",
            " 20%|███████▌                              | 584M/2.87G [00:11<00:54, 45.7MiB/s]\r\n",
            " 20%|███████▌                              | 588M/2.87G [00:11<01:13, 33.8MiB/s]\r\n",
            " 20%|███████▋                              | 594M/2.87G [00:12<01:01, 39.9MiB/s]\r\n",
            " 20%|███████▊                              | 603M/2.87G [00:12<00:47, 51.2MiB/s]\r\n",
            " 21%|███████▊                              | 608M/2.87G [00:12<00:45, 53.6MiB/s]\r\n",
            " 21%|███████▉                              | 614M/2.87G [00:12<00:48, 50.9MiB/s]\r\n",
            " 21%|████████                              | 624M/2.87G [00:12<00:37, 65.7MiB/s]\r\n",
            " 21%|████████▏                             | 631M/2.87G [00:12<00:37, 64.7MiB/s]\r\n",
            " 22%|████████▏                             | 637M/2.87G [00:12<00:40, 60.4MiB/s]\r\n",
            " 22%|████████▎                             | 643M/2.87G [00:12<00:42, 56.8MiB/s]\r\n",
            " 22%|████████▍                             | 649M/2.87G [00:13<00:43, 55.4MiB/s]\r\n",
            " 22%|████████▍                             | 654M/2.87G [00:13<00:44, 54.1MiB/s]\r\n",
            " 22%|████████▌                             | 662M/2.87G [00:13<00:38, 61.7MiB/s]\r\n",
            " 23%|████████▋                             | 668M/2.87G [00:13<00:40, 59.2MiB/s]\r\n",
            " 23%|████████▋                             | 674M/2.87G [00:13<00:41, 56.7MiB/s]\r\n",
            " 23%|████████▊                             | 680M/2.87G [00:13<00:42, 55.4MiB/s]\r\n",
            " 23%|████████▊                             | 685M/2.87G [00:13<00:45, 51.5MiB/s]\r\n",
            " 23%|████████▉                             | 691M/2.87G [00:13<00:44, 53.0MiB/s]\r\n",
            " 24%|████████▉                             | 696M/2.87G [00:13<00:43, 53.7MiB/s]\r\n",
            " 24%|█████████                             | 702M/2.87G [00:14<00:42, 55.6MiB/s]\r\n",
            " 24%|█████████▏                            | 712M/2.87G [00:14<00:32, 70.9MiB/s]\r\n",
            " 24%|█████████▎                            | 719M/2.87G [00:14<00:34, 68.6MiB/s]\r\n",
            " 25%|█████████▎                            | 726M/2.87G [00:14<00:35, 66.1MiB/s]\r\n",
            " 25%|█████████▍                            | 732M/2.87G [00:14<00:37, 62.4MiB/s]\r\n",
            " 25%|█████████▌                            | 738M/2.87G [00:14<00:37, 61.7MiB/s]\r\n",
            " 25%|█████████▌                            | 745M/2.87G [00:14<00:36, 63.3MiB/s]\r\n",
            " 26%|█████████▋                            | 753M/2.87G [00:14<00:32, 70.1MiB/s]\r\n",
            " 26%|█████████▊                            | 760M/2.87G [00:14<00:36, 63.2MiB/s]\r\n",
            " 26%|█████████▉                            | 766M/2.87G [00:15<00:36, 62.5MiB/s]\r\n",
            " 26%|█████████▉                            | 772M/2.87G [00:15<00:38, 58.9MiB/s]\r\n",
            " 26%|██████████                            | 778M/2.87G [00:15<00:40, 56.2MiB/s]\r\n",
            " 27%|██████████                            | 783M/2.87G [00:15<00:41, 55.3MiB/s]\r\n",
            " 27%|██████████▏                           | 789M/2.87G [00:15<00:40, 55.8MiB/s]\r\n",
            " 27%|██████████▎                           | 794M/2.87G [00:15<00:40, 55.8MiB/s]\r\n",
            " 27%|██████████▎                           | 799M/2.87G [00:15<00:41, 53.8MiB/s]\r\n",
            " 27%|██████████▍                           | 805M/2.87G [00:15<00:40, 55.1MiB/s]\r\n",
            " 28%|██████████▍                           | 811M/2.87G [00:15<00:39, 56.9MiB/s]\r\n",
            " 28%|██████████▌                           | 816M/2.87G [00:15<00:40, 55.5MiB/s]\r\n",
            " 28%|██████████▌                           | 822M/2.87G [00:16<00:38, 57.2MiB/s]\r\n",
            " 28%|██████████▋                           | 830M/2.87G [00:16<00:35, 62.4MiB/s]\r\n",
            " 28%|██████████▊                           | 836M/2.87G [00:16<00:37, 59.6MiB/s]\r\n",
            " 29%|██████████▊                           | 841M/2.87G [00:16<00:39, 55.8MiB/s]\r\n",
            " 29%|██████████▉                           | 847M/2.87G [00:16<00:39, 55.9MiB/s]\r\n",
            " 29%|██████████▉                           | 852M/2.87G [00:16<00:40, 54.3MiB/s]\r\n",
            " 29%|███████████                           | 857M/2.87G [00:16<00:41, 52.6MiB/s]\r\n",
            " 29%|███████████▏                          | 862M/2.87G [00:16<00:42, 51.8MiB/s]\r\n",
            " 29%|███████████▏                          | 867M/2.87G [00:16<00:42, 51.7MiB/s]\r\n",
            " 30%|███████████▎                          | 872M/2.87G [00:17<00:41, 51.7MiB/s]\r\n",
            " 30%|███████████▎                          | 877M/2.87G [00:17<00:41, 52.0MiB/s]\r\n",
            " 30%|███████████▍                          | 883M/2.87G [00:17<00:40, 52.7MiB/s]\r\n",
            " 30%|███████████▍                          | 888M/2.87G [00:17<00:41, 51.9MiB/s]\r\n",
            " 30%|███████████▌                          | 893M/2.87G [00:17<00:39, 54.3MiB/s]\r\n",
            " 31%|███████████▌                          | 899M/2.87G [00:17<00:39, 54.0MiB/s]\r\n",
            " 31%|███████████▋                          | 904M/2.87G [00:17<00:40, 53.2MiB/s]\r\n",
            " 31%|███████████▋                          | 909M/2.87G [00:17<00:40, 52.5MiB/s]\r\n",
            " 31%|███████████▊                          | 914M/2.87G [00:17<00:41, 51.5MiB/s]\r\n",
            " 31%|███████████▊                          | 919M/2.87G [00:17<00:40, 52.0MiB/s]\r\n",
            " 31%|███████████▉                          | 925M/2.87G [00:18<00:38, 54.7MiB/s]\r\n",
            " 32%|████████████                          | 930M/2.87G [00:18<00:40, 52.0MiB/s]\r\n",
            " 32%|████████████                          | 935M/2.87G [00:18<00:41, 50.4MiB/s]\r\n",
            " 32%|████████████▏                         | 941M/2.87G [00:18<00:38, 53.9MiB/s]\r\n",
            " 32%|████████████▏                         | 947M/2.87G [00:18<00:37, 55.3MiB/s]\r\n",
            " 32%|████████████▎                         | 952M/2.87G [00:18<00:38, 54.1MiB/s]\r\n",
            " 33%|████████████▎                         | 957M/2.87G [00:18<00:39, 52.7MiB/s]\r\n",
            " 33%|████████████▍                         | 962M/2.87G [00:18<00:40, 51.9MiB/s]\r\n",
            " 33%|████████████▍                         | 967M/2.87G [00:18<00:40, 51.3MiB/s]\r\n",
            " 33%|████████████▌                         | 972M/2.87G [00:19<00:40, 51.2MiB/s]\r\n",
            " 33%|████████████▌                         | 977M/2.87G [00:19<00:40, 50.9MiB/s]\r\n",
            " 33%|████████████▋                         | 982M/2.87G [00:19<00:40, 51.0MiB/s]\r\n",
            " 34%|████████████▊                         | 990M/2.87G [00:19<00:33, 61.2MiB/s]\r\n",
            " 34%|████████████▊                         | 997M/2.87G [00:19<00:32, 63.2MiB/s]\r\n",
            " 34%|████████████▌                        | 0.98G/2.87G [00:19<00:33, 60.6MiB/s]\r\n",
            " 34%|████████████▋                        | 0.98G/2.87G [00:19<00:35, 57.0MiB/s]\r\n",
            " 34%|████████████▋                        | 0.99G/2.87G [00:19<00:42, 47.4MiB/s]\r\n",
            " 35%|████████████▊                        | 1.00G/2.87G [00:19<00:41, 49.1MiB/s]\r\n",
            " 35%|████████████▊                        | 1.00G/2.87G [00:20<00:41, 48.7MiB/s]\r\n",
            " 35%|████████████▉                        | 1.00G/2.87G [00:20<00:40, 49.4MiB/s]\r\n",
            " 35%|█████████████                        | 1.01G/2.87G [00:20<00:39, 51.3MiB/s]\r\n",
            " 35%|█████████████                        | 1.02G/2.87G [00:20<00:36, 54.9MiB/s]\r\n",
            " 36%|█████████████▏                       | 1.02G/2.87G [00:20<00:34, 57.3MiB/s]\r\n",
            " 36%|█████████████▎                       | 1.03G/2.87G [00:20<00:28, 68.4MiB/s]\r\n",
            " 36%|█████████████▎                       | 1.04G/2.87G [00:20<00:32, 60.5MiB/s]\r\n",
            " 36%|█████████████▍                       | 1.04G/2.87G [00:20<00:33, 58.6MiB/s]\r\n",
            " 36%|█████████████▍                       | 1.05G/2.87G [00:20<00:34, 57.3MiB/s]\r\n",
            " 37%|█████████████▌                       | 1.05G/2.87G [00:21<00:33, 58.6MiB/s]\r\n",
            " 37%|█████████████▋                       | 1.06G/2.87G [00:21<00:34, 55.8MiB/s]\r\n",
            " 37%|█████████████▋                       | 1.07G/2.87G [00:21<00:34, 55.8MiB/s]\r\n",
            " 37%|█████████████▊                       | 1.07G/2.87G [00:21<00:33, 57.1MiB/s]\r\n",
            " 37%|█████████████▊                       | 1.08G/2.87G [00:21<00:35, 54.6MiB/s]\r\n",
            " 38%|█████████████▉                       | 1.08G/2.87G [00:21<00:36, 53.1MiB/s]\r\n",
            " 38%|█████████████▉                       | 1.09G/2.87G [00:21<00:37, 51.8MiB/s]\r\n",
            " 38%|██████████████                       | 1.09G/2.87G [00:21<00:34, 55.3MiB/s]\r\n",
            " 38%|██████████████▏                      | 1.10G/2.87G [00:21<00:34, 55.2MiB/s]\r\n",
            " 38%|██████████████▏                      | 1.10G/2.87G [00:22<00:38, 49.5MiB/s]\r\n",
            " 39%|██████████████▎                      | 1.11G/2.87G [00:22<00:42, 44.4MiB/s]\r\n",
            " 39%|██████████████▎                      | 1.11G/2.87G [00:22<00:41, 46.0MiB/s]\r\n",
            " 39%|██████████████▍                      | 1.12G/2.87G [00:22<00:40, 47.0MiB/s]\r\n",
            " 39%|██████████████▍                      | 1.12G/2.87G [00:22<00:36, 51.7MiB/s]\r\n",
            " 39%|██████████████▌                      | 1.13G/2.87G [00:22<00:35, 52.5MiB/s]\r\n",
            " 39%|██████████████▌                      | 1.13G/2.87G [00:22<00:36, 51.8MiB/s]\r\n",
            " 40%|██████████████▋                      | 1.14G/2.87G [00:22<00:33, 56.0MiB/s]\r\n",
            " 40%|██████████████▋                      | 1.15G/2.87G [00:22<00:31, 58.3MiB/s]\r\n",
            " 40%|██████████████▊                      | 1.15G/2.87G [00:23<00:31, 58.1MiB/s]\r\n",
            " 40%|██████████████▉                      | 1.16G/2.87G [00:23<00:34, 53.7MiB/s]\r\n",
            " 40%|██████████████▉                      | 1.16G/2.87G [00:23<00:36, 50.3MiB/s]\r\n",
            " 41%|███████████████                      | 1.17G/2.87G [00:23<00:39, 46.5MiB/s]\r\n",
            " 41%|███████████████                      | 1.17G/2.87G [00:23<00:38, 47.4MiB/s]\r\n",
            " 41%|███████████████▏                     | 1.18G/2.87G [00:23<00:35, 51.6MiB/s]\r\n",
            " 41%|███████████████▏                     | 1.18G/2.87G [00:23<00:32, 55.3MiB/s]\r\n",
            " 41%|███████████████▎                     | 1.19G/2.87G [00:23<00:31, 57.0MiB/s]\r\n",
            " 42%|███████████████▎                     | 1.19G/2.87G [00:23<00:31, 56.5MiB/s]\r\n",
            " 42%|███████████████▍                     | 1.20G/2.87G [00:24<00:30, 59.2MiB/s]\r\n",
            " 42%|███████████████▌                     | 1.21G/2.87G [00:24<00:31, 56.0MiB/s]\r\n",
            " 42%|███████████████▌                     | 1.21G/2.87G [00:24<00:32, 55.0MiB/s]\r\n",
            " 42%|███████████████▋                     | 1.22G/2.87G [00:24<00:33, 53.6MiB/s]\r\n",
            " 42%|███████████████▋                     | 1.22G/2.87G [00:24<00:34, 51.9MiB/s]\r\n",
            " 43%|███████████████▊                     | 1.23G/2.87G [00:24<00:34, 50.9MiB/s]\r\n",
            " 43%|███████████████▊                     | 1.23G/2.87G [00:24<00:32, 54.7MiB/s]\r\n",
            " 43%|███████████████▉                     | 1.24G/2.87G [00:24<00:30, 57.1MiB/s]\r\n",
            " 43%|████████████████                     | 1.24G/2.87G [00:24<00:33, 52.6MiB/s]\r\n",
            " 43%|████████████████                     | 1.25G/2.87G [00:25<00:35, 49.9MiB/s]\r\n",
            " 44%|████████████████▏                    | 1.25G/2.87G [00:25<00:33, 52.4MiB/s]\r\n",
            " 44%|████████████████▏                    | 1.26G/2.87G [00:25<00:33, 51.8MiB/s]\r\n",
            " 44%|████████████████▎                    | 1.26G/2.87G [00:25<00:33, 52.3MiB/s]\r\n",
            " 44%|████████████████▎                    | 1.27G/2.87G [00:25<00:32, 52.4MiB/s]\r\n",
            " 44%|████████████████▍                    | 1.27G/2.87G [00:25<00:33, 51.8MiB/s]\r\n",
            " 44%|████████████████▍                    | 1.28G/2.87G [00:25<00:33, 50.9MiB/s]\r\n",
            " 45%|████████████████▌                    | 1.28G/2.87G [00:25<00:34, 50.2MiB/s]\r\n",
            " 45%|████████████████▌                    | 1.29G/2.87G [00:25<00:33, 50.2MiB/s]\r\n",
            " 45%|████████████████▋                    | 1.29G/2.87G [00:25<00:32, 51.7MiB/s]\r\n",
            " 45%|████████████████▋                    | 1.30G/2.87G [00:26<00:31, 53.4MiB/s]\r\n",
            " 45%|████████████████▊                    | 1.30G/2.87G [00:26<00:31, 53.7MiB/s]\r\n",
            " 46%|████████████████▊                    | 1.31G/2.87G [00:26<00:29, 57.0MiB/s]\r\n",
            " 46%|████████████████▉                    | 1.32G/2.87G [00:26<00:30, 54.9MiB/s]\r\n",
            " 46%|████████████████▉                    | 1.32G/2.87G [00:26<00:31, 52.5MiB/s]\r\n",
            " 46%|█████████████████                    | 1.33G/2.87G [00:26<00:31, 52.4MiB/s]\r\n",
            " 46%|█████████████████                    | 1.33G/2.87G [00:26<00:31, 52.4MiB/s]\r\n",
            " 46%|█████████████████▏                   | 1.34G/2.87G [00:26<00:31, 52.2MiB/s]\r\n",
            " 47%|█████████████████▏                   | 1.34G/2.87G [00:26<00:32, 50.5MiB/s]\r\n",
            " 47%|█████████████████▎                   | 1.34G/2.87G [00:26<00:32, 50.6MiB/s]\r\n",
            " 47%|█████████████████▎                   | 1.35G/2.87G [00:27<00:32, 49.7MiB/s]\r\n",
            " 47%|█████████████████▍                   | 1.35G/2.87G [00:27<00:32, 49.8MiB/s]\r\n",
            " 47%|█████████████████▍                   | 1.36G/2.87G [00:27<00:32, 50.3MiB/s]\r\n",
            " 47%|█████████████████▌                   | 1.36G/2.87G [00:27<00:30, 53.9MiB/s]\r\n",
            " 48%|█████████████████▋                   | 1.37G/2.87G [00:27<00:30, 53.9MiB/s]\r\n",
            " 48%|█████████████████▋                   | 1.37G/2.87G [00:27<00:33, 47.7MiB/s]\r\n",
            " 48%|█████████████████▊                   | 1.38G/2.87G [00:27<00:33, 47.8MiB/s]\r\n",
            " 48%|█████████████████▊                   | 1.38G/2.87G [00:27<00:32, 48.5MiB/s]\r\n",
            " 48%|█████████████████▉                   | 1.39G/2.87G [00:27<00:30, 52.1MiB/s]\r\n",
            " 49%|█████████████████▉                   | 1.39G/2.87G [00:28<00:30, 52.3MiB/s]\r\n",
            " 49%|██████████████████                   | 1.40G/2.87G [00:28<00:32, 49.3MiB/s]\r\n",
            " 49%|██████████████████                   | 1.40G/2.87G [00:28<00:32, 49.0MiB/s]\r\n",
            " 49%|██████████████████▏                  | 1.41G/2.87G [00:28<00:31, 50.4MiB/s]\r\n",
            " 49%|██████████████████▏                  | 1.41G/2.87G [00:28<00:33, 47.2MiB/s]\r\n",
            " 49%|██████████████████▎                  | 1.42G/2.87G [00:28<00:32, 47.6MiB/s]\r\n",
            " 50%|██████████████████▎                  | 1.42G/2.87G [00:28<00:36, 42.8MiB/s]\r\n",
            " 50%|██████████████████▎                  | 1.43G/2.87G [00:28<00:35, 43.8MiB/s]\r\n",
            " 50%|██████████████████▍                  | 1.43G/2.87G [00:28<00:34, 44.3MiB/s]\r\n",
            " 50%|██████████████████▍                  | 1.44G/2.87G [00:29<00:33, 45.8MiB/s]\r\n",
            " 50%|██████████████████▌                  | 1.44G/2.87G [00:29<00:30, 49.7MiB/s]\r\n",
            " 50%|██████████████████▌                  | 1.45G/2.87G [00:29<00:30, 50.5MiB/s]\r\n",
            " 51%|██████████████████▋                  | 1.45G/2.87G [00:29<00:30, 50.0MiB/s]\r\n",
            " 51%|██████████████████▋                  | 1.46G/2.87G [00:29<00:30, 49.6MiB/s]\r\n",
            " 51%|██████████████████▊                  | 1.46G/2.87G [00:29<00:30, 49.7MiB/s]\r\n",
            " 51%|██████████████████▉                  | 1.47G/2.87G [00:29<00:28, 53.8MiB/s]\r\n",
            " 51%|██████████████████▉                  | 1.47G/2.87G [00:29<00:26, 56.6MiB/s]\r\n",
            " 51%|███████████████████                  | 1.48G/2.87G [00:29<00:26, 57.1MiB/s]\r\n",
            " 52%|███████████████████                  | 1.48G/2.87G [00:29<00:27, 54.9MiB/s]\r\n",
            " 52%|███████████████████▏                 | 1.49G/2.87G [00:30<00:27, 53.3MiB/s]\r\n",
            " 52%|███████████████████▏                 | 1.49G/2.87G [00:30<00:31, 47.3MiB/s]\r\n",
            " 52%|███████████████████▎                 | 1.50G/2.87G [00:30<00:31, 47.5MiB/s]\r\n",
            " 52%|███████████████████▎                 | 1.50G/2.87G [00:30<00:30, 48.5MiB/s]\r\n",
            " 52%|███████████████████▍                 | 1.51G/2.87G [00:30<00:28, 51.2MiB/s]\r\n",
            " 53%|███████████████████▍                 | 1.52G/2.87G [00:30<00:26, 55.2MiB/s]\r\n",
            " 53%|███████████████████▌                 | 1.52G/2.87G [00:30<00:25, 57.0MiB/s]\r\n",
            " 53%|███████████████████▋                 | 1.53G/2.87G [00:30<00:24, 58.5MiB/s]\r\n",
            " 53%|███████████████████▋                 | 1.53G/2.87G [00:30<00:24, 58.7MiB/s]\r\n",
            " 53%|███████████████████▊                 | 1.54G/2.87G [00:31<00:25, 56.5MiB/s]\r\n",
            " 54%|███████████████████▊                 | 1.54G/2.87G [00:31<00:26, 54.8MiB/s]\r\n",
            " 54%|███████████████████▉                 | 1.55G/2.87G [00:31<00:26, 54.3MiB/s]\r\n",
            " 54%|███████████████████▉                 | 1.55G/2.87G [00:31<00:25, 55.7MiB/s]\r\n",
            " 54%|████████████████████                 | 1.56G/2.87G [00:31<00:27, 52.3MiB/s]\r\n",
            " 54%|████████████████████▏                | 1.56G/2.87G [00:31<00:28, 50.2MiB/s]\r\n",
            " 55%|████████████████████▏                | 1.57G/2.87G [00:31<00:27, 51.4MiB/s]\r\n",
            " 55%|████████████████████▎                | 1.57G/2.87G [00:31<00:27, 51.1MiB/s]\r\n",
            " 55%|████████████████████▎                | 1.58G/2.87G [00:31<00:28, 49.7MiB/s]\r\n",
            " 55%|████████████████████▍                | 1.58G/2.87G [00:32<00:27, 50.7MiB/s]\r\n",
            " 55%|████████████████████▍                | 1.59G/2.87G [00:32<00:27, 50.0MiB/s]\r\n",
            " 55%|████████████████████▌                | 1.59G/2.87G [00:32<00:29, 46.8MiB/s]\r\n",
            " 56%|████████████████████▌                | 1.60G/2.87G [00:32<00:29, 46.0MiB/s]\r\n",
            " 56%|████████████████████▌                | 1.60G/2.87G [00:32<00:29, 46.0MiB/s]\r\n",
            " 56%|████████████████████▋                | 1.61G/2.87G [00:32<00:28, 47.5MiB/s]\r\n",
            " 56%|████████████████████▊                | 1.61G/2.87G [00:32<00:24, 55.7MiB/s]\r\n",
            " 56%|████████████████████▊                | 1.62G/2.87G [00:32<00:22, 60.2MiB/s]\r\n",
            " 57%|████████████████████▉                | 1.63G/2.87G [00:32<00:22, 58.3MiB/s]\r\n",
            " 57%|████████████████████▉                | 1.63G/2.87G [00:32<00:22, 58.3MiB/s]\r\n",
            " 57%|█████████████████████                | 1.64G/2.87G [00:33<00:22, 58.5MiB/s]\r\n",
            " 57%|█████████████████████▏               | 1.64G/2.87G [00:33<00:22, 59.3MiB/s]\r\n",
            " 57%|█████████████████████▏               | 1.65G/2.87G [00:33<00:21, 60.7MiB/s]\r\n",
            " 58%|█████████████████████▎               | 1.65G/2.87G [00:33<00:21, 61.5MiB/s]\r\n",
            " 58%|█████████████████████▎               | 1.66G/2.87G [00:33<00:23, 55.8MiB/s]\r\n",
            " 58%|█████████████████████▍               | 1.67G/2.87G [00:33<00:24, 53.8MiB/s]\r\n",
            " 58%|█████████████████████▌               | 1.67G/2.87G [00:33<00:25, 50.0MiB/s]\r\n",
            " 58%|█████████████████████▌               | 1.68G/2.87G [00:33<00:25, 50.2MiB/s]\r\n",
            " 58%|█████████████████████▋               | 1.68G/2.87G [00:33<00:24, 51.8MiB/s]\r\n",
            " 59%|█████████████████████▋               | 1.69G/2.87G [00:34<00:20, 61.1MiB/s]\r\n",
            " 59%|█████████████████████▊               | 1.69G/2.87G [00:34<00:21, 60.2MiB/s]\r\n",
            " 59%|█████████████████████▉               | 1.70G/2.87G [00:34<00:21, 58.6MiB/s]\r\n",
            " 59%|█████████████████████▉               | 1.71G/2.87G [00:34<00:21, 59.1MiB/s]\r\n",
            " 60%|██████████████████████               | 1.71G/2.87G [00:34<00:20, 60.0MiB/s]\r\n",
            " 60%|██████████████████████               | 1.72G/2.87G [00:34<00:20, 59.7MiB/s]\r\n",
            " 60%|██████████████████████▏              | 1.72G/2.87G [00:34<00:20, 60.2MiB/s]\r\n",
            " 60%|██████████████████████▏              | 1.73G/2.87G [00:34<00:20, 60.4MiB/s]\r\n",
            " 60%|██████████████████████▎              | 1.73G/2.87G [00:34<00:21, 57.9MiB/s]\r\n",
            " 61%|██████████████████████▍              | 1.74G/2.87G [00:35<00:21, 55.6MiB/s]\r\n",
            " 61%|██████████████████████▍              | 1.75G/2.87G [00:35<00:21, 55.5MiB/s]\r\n",
            " 61%|██████████████████████▌              | 1.75G/2.87G [00:35<00:21, 56.0MiB/s]\r\n",
            " 61%|██████████████████████▌              | 1.76G/2.87G [00:35<00:21, 56.0MiB/s]\r\n",
            " 61%|██████████████████████▋              | 1.76G/2.87G [00:35<00:23, 51.7MiB/s]\r\n",
            " 61%|██████████████████████▋              | 1.77G/2.87G [00:35<00:23, 50.3MiB/s]\r\n",
            " 62%|██████████████████████▊              | 1.77G/2.87G [00:35<00:24, 49.3MiB/s]\r\n",
            " 62%|██████████████████████▊              | 1.78G/2.87G [00:35<00:21, 54.0MiB/s]\r\n",
            " 62%|██████████████████████▉              | 1.78G/2.87G [00:35<00:19, 61.5MiB/s]\r\n",
            " 62%|███████████████████████              | 1.79G/2.87G [00:35<00:19, 60.1MiB/s]\r\n",
            " 62%|███████████████████████              | 1.80G/2.87G [00:36<00:20, 57.8MiB/s]\r\n",
            " 63%|███████████████████████▏             | 1.80G/2.87G [00:36<00:19, 57.8MiB/s]\r\n",
            " 63%|███████████████████████▏             | 1.81G/2.87G [00:36<00:20, 56.5MiB/s]\r\n",
            " 63%|███████████████████████▎             | 1.81G/2.87G [00:36<00:20, 54.9MiB/s]\r\n",
            " 63%|███████████████████████▍             | 1.82G/2.87G [00:36<00:21, 53.5MiB/s]\r\n",
            " 63%|███████████████████████▍             | 1.82G/2.87G [00:36<00:21, 52.6MiB/s]\r\n",
            " 64%|███████████████████████▌             | 1.83G/2.87G [00:36<00:19, 56.6MiB/s]\r\n",
            " 64%|███████████████████████▌             | 1.83G/2.87G [00:36<00:19, 56.8MiB/s]\r\n",
            " 64%|███████████████████████▋             | 1.84G/2.87G [00:36<00:19, 56.4MiB/s]\r\n",
            " 64%|███████████████████████▋             | 1.84G/2.87G [00:37<00:20, 53.2MiB/s]\r\n",
            " 64%|███████████████████████▊             | 1.85G/2.87G [00:37<00:19, 56.7MiB/s]\r\n",
            " 65%|███████████████████████▉             | 1.86G/2.87G [00:37<00:18, 58.2MiB/s]\r\n",
            " 65%|███████████████████████▉             | 1.86G/2.87G [00:37<00:19, 56.4MiB/s]\r\n",
            " 65%|████████████████████████             | 1.87G/2.87G [00:37<00:19, 54.8MiB/s]\r\n",
            " 65%|████████████████████████             | 1.87G/2.87G [00:37<00:18, 57.2MiB/s]\r\n",
            " 65%|████████████████████████▏            | 1.88G/2.87G [00:37<00:18, 56.6MiB/s]\r\n",
            " 66%|████████████████████████▏            | 1.88G/2.87G [00:37<00:19, 53.3MiB/s]\r\n",
            " 66%|████████████████████████▎            | 1.89G/2.87G [00:37<00:18, 56.0MiB/s]\r\n",
            " 66%|████████████████████████▍            | 1.90G/2.87G [00:38<00:18, 58.3MiB/s]\r\n",
            " 66%|████████████████████████▍            | 1.90G/2.87G [00:38<00:17, 58.3MiB/s]\r\n",
            " 66%|████████████████████████▌            | 1.91G/2.87G [00:38<00:18, 56.4MiB/s]\r\n",
            " 66%|████████████████████████▌            | 1.91G/2.87G [00:38<00:19, 53.2MiB/s]\r\n",
            " 67%|████████████████████████▋            | 1.92G/2.87G [00:38<00:19, 52.5MiB/s]\r\n",
            " 67%|████████████████████████▋            | 1.92G/2.87G [00:38<00:19, 52.2MiB/s]\r\n",
            " 67%|████████████████████████▊            | 1.93G/2.87G [00:38<00:19, 51.9MiB/s]\r\n",
            " 67%|████████████████████████▊            | 1.93G/2.87G [00:38<00:19, 51.0MiB/s]\r\n",
            " 67%|████████████████████████▉            | 1.94G/2.87G [00:38<00:20, 50.1MiB/s]\r\n",
            " 67%|████████████████████████▉            | 1.94G/2.87G [00:38<00:20, 48.4MiB/s]\r\n",
            " 68%|█████████████████████████            | 1.95G/2.87G [00:39<00:19, 50.6MiB/s]\r\n",
            " 68%|█████████████████████████            | 1.95G/2.87G [00:39<00:19, 50.3MiB/s]\r\n",
            " 68%|█████████████████████████▏           | 1.96G/2.87G [00:39<00:19, 51.7MiB/s]\r\n",
            " 68%|█████████████████████████▏           | 1.96G/2.87G [00:39<00:17, 55.8MiB/s]\r\n",
            " 69%|█████████████████████████▎           | 1.97G/2.87G [00:39<00:14, 66.6MiB/s]\r\n",
            " 69%|█████████████████████████▍           | 1.98G/2.87G [00:39<00:14, 66.2MiB/s]\r\n",
            " 69%|█████████████████████████▌           | 1.98G/2.87G [00:39<00:16, 57.2MiB/s]\r\n",
            " 69%|█████████████████████████▌           | 1.99G/2.87G [00:39<00:16, 58.0MiB/s]\r\n",
            " 69%|█████████████████████████▋           | 1.99G/2.87G [00:40<00:18, 50.3MiB/s]\r\n",
            " 70%|█████████████████████████▋           | 2.00G/2.87G [00:40<00:18, 50.4MiB/s]\r\n",
            " 70%|█████████████████████████▊           | 2.00G/2.87G [00:40<00:18, 50.1MiB/s]\r\n",
            " 70%|█████████████████████████▊           | 2.01G/2.87G [00:40<00:19, 48.0MiB/s]\r\n",
            " 70%|█████████████████████████▉           | 2.01G/2.87G [00:40<00:18, 50.8MiB/s]\r\n",
            " 70%|█████████████████████████▉           | 2.02G/2.87G [00:40<00:16, 54.1MiB/s]\r\n",
            " 70%|██████████████████████████           | 2.03G/2.87G [00:40<00:16, 56.1MiB/s]\r\n",
            " 71%|██████████████████████████▏          | 2.03G/2.87G [00:40<00:15, 57.3MiB/s]\r\n",
            " 71%|██████████████████████████▏          | 2.04G/2.87G [00:40<00:18, 47.7MiB/s]\r\n",
            " 71%|██████████████████████████▎          | 2.04G/2.87G [00:41<00:17, 51.1MiB/s]\r\n",
            " 71%|██████████████████████████▎          | 2.05G/2.87G [00:41<00:16, 52.6MiB/s]\r\n",
            " 71%|██████████████████████████▍          | 2.05G/2.87G [00:41<00:16, 52.2MiB/s]\r\n",
            " 72%|██████████████████████████▍          | 2.06G/2.87G [00:41<00:16, 54.2MiB/s]\r\n",
            " 72%|██████████████████████████▌          | 2.06G/2.87G [00:41<00:15, 55.8MiB/s]\r\n",
            " 72%|██████████████████████████▋          | 2.07G/2.87G [00:41<00:15, 55.2MiB/s]\r\n",
            " 72%|██████████████████████████▋          | 2.08G/2.87G [00:41<00:13, 65.2MiB/s]\r\n",
            " 72%|██████████████████████████▊          | 2.08G/2.87G [00:41<00:12, 65.4MiB/s]\r\n",
            " 73%|██████████████████████████▉          | 2.09G/2.87G [00:41<00:13, 62.6MiB/s]\r\n",
            " 73%|██████████████████████████▉          | 2.10G/2.87G [00:41<00:13, 60.1MiB/s]\r\n",
            " 73%|███████████████████████████          | 2.10G/2.87G [00:42<00:13, 59.8MiB/s]\r\n",
            " 73%|███████████████████████████▏         | 2.11G/2.87G [00:42<00:13, 61.3MiB/s]\r\n",
            " 74%|███████████████████████████▏         | 2.11G/2.87G [00:42<00:13, 62.1MiB/s]\r\n",
            " 74%|███████████████████████████▎         | 2.12G/2.87G [00:42<00:12, 63.0MiB/s]\r\n",
            " 74%|███████████████████████████▎         | 2.13G/2.87G [00:42<00:12, 62.5MiB/s]\r\n",
            " 74%|███████████████████████████▍         | 2.13G/2.87G [00:42<00:13, 58.8MiB/s]\r\n",
            " 74%|███████████████████████████▌         | 2.14G/2.87G [00:42<00:13, 59.3MiB/s]\r\n",
            " 75%|███████████████████████████▌         | 2.14G/2.87G [00:42<00:13, 59.4MiB/s]\r\n",
            " 75%|███████████████████████████▋         | 2.15G/2.87G [00:42<00:13, 59.6MiB/s]\r\n",
            " 75%|███████████████████████████▋         | 2.15G/2.87G [00:43<00:13, 55.4MiB/s]\r\n",
            " 75%|███████████████████████████▊         | 2.16G/2.87G [00:43<00:14, 54.5MiB/s]\r\n",
            " 75%|███████████████████████████▊         | 2.16G/2.87G [00:43<00:14, 53.1MiB/s]\r\n",
            " 75%|███████████████████████████▉         | 2.17G/2.87G [00:43<00:14, 51.3MiB/s]\r\n",
            " 76%|███████████████████████████▉         | 2.17G/2.87G [00:43<00:15, 49.3MiB/s]\r\n",
            " 76%|████████████████████████████         | 2.18G/2.87G [00:43<00:15, 48.8MiB/s]\r\n",
            " 76%|████████████████████████████         | 2.18G/2.87G [00:43<00:15, 49.3MiB/s]\r\n",
            " 76%|████████████████████████████▏        | 2.19G/2.87G [00:43<00:15, 46.2MiB/s]\r\n",
            " 76%|████████████████████████████▏        | 2.19G/2.87G [00:43<00:16, 45.5MiB/s]\r\n",
            " 76%|████████████████████████████▎        | 2.20G/2.87G [00:43<00:16, 45.1MiB/s]\r\n",
            " 77%|████████████████████████████▎        | 2.20G/2.87G [00:44<00:15, 46.8MiB/s]\r\n",
            " 77%|████████████████████████████▍        | 2.21G/2.87G [00:44<00:13, 51.3MiB/s]\r\n",
            " 77%|████████████████████████████▍        | 2.21G/2.87G [00:44<00:13, 54.2MiB/s]\r\n",
            " 77%|████████████████████████████▌        | 2.22G/2.87G [00:44<00:12, 55.4MiB/s]\r\n",
            " 77%|████████████████████████████▋        | 2.22G/2.87G [00:44<00:12, 56.0MiB/s]\r\n",
            " 78%|████████████████████████████▋        | 2.23G/2.87G [00:44<00:12, 55.8MiB/s]\r\n",
            " 78%|████████████████████████████▊        | 2.23G/2.87G [00:44<00:12, 53.5MiB/s]\r\n",
            " 78%|████████████████████████████▊        | 2.24G/2.87G [00:44<00:12, 55.7MiB/s]\r\n",
            " 78%|████████████████████████████▉        | 2.25G/2.87G [00:44<00:11, 57.5MiB/s]\r\n",
            " 78%|████████████████████████████▉        | 2.25G/2.87G [00:45<00:11, 59.2MiB/s]\r\n",
            " 79%|█████████████████████████████        | 2.26G/2.87G [00:45<00:11, 59.0MiB/s]\r\n",
            " 79%|█████████████████████████████▏       | 2.26G/2.87G [00:45<00:11, 59.4MiB/s]\r\n",
            " 79%|█████████████████████████████▏       | 2.27G/2.87G [00:45<00:11, 57.9MiB/s]\r\n",
            " 79%|█████████████████████████████▎       | 2.27G/2.87G [00:45<00:11, 56.3MiB/s]\r\n",
            " 79%|█████████████████████████████▎       | 2.28G/2.87G [00:45<00:10, 58.2MiB/s]\r\n",
            " 80%|█████████████████████████████▍       | 2.29G/2.87G [00:45<00:11, 56.0MiB/s]\r\n",
            " 80%|█████████████████████████████▍       | 2.29G/2.87G [00:45<00:11, 54.4MiB/s]\r\n",
            " 80%|█████████████████████████████▌       | 2.30G/2.87G [00:45<00:10, 57.6MiB/s]\r\n",
            " 80%|█████████████████████████████▋       | 2.30G/2.87G [00:45<00:11, 54.8MiB/s]\r\n",
            " 80%|█████████████████████████████▋       | 2.31G/2.87G [00:46<00:11, 54.7MiB/s]\r\n",
            " 80%|█████████████████████████████▊       | 2.31G/2.87G [00:46<00:11, 53.9MiB/s]\r\n",
            " 81%|█████████████████████████████▊       | 2.32G/2.87G [00:46<00:09, 63.0MiB/s]\r\n",
            " 81%|█████████████████████████████▉       | 2.33G/2.87G [00:46<00:09, 59.6MiB/s]\r\n",
            " 81%|██████████████████████████████       | 2.33G/2.87G [00:46<00:10, 55.6MiB/s]\r\n",
            " 81%|██████████████████████████████       | 2.34G/2.87G [00:46<00:10, 54.1MiB/s]\r\n",
            " 81%|██████████████████████████████▏      | 2.34G/2.87G [00:46<00:10, 53.2MiB/s]\r\n",
            " 82%|██████████████████████████████▏      | 2.35G/2.87G [00:46<00:10, 53.3MiB/s]\r\n",
            " 82%|██████████████████████████████▎      | 2.35G/2.87G [00:46<00:10, 54.8MiB/s]\r\n",
            " 82%|██████████████████████████████▎      | 2.36G/2.87G [00:47<00:09, 57.0MiB/s]\r\n",
            " 82%|██████████████████████████████▍      | 2.37G/2.87G [00:47<00:08, 66.6MiB/s]\r\n",
            " 83%|██████████████████████████████▌      | 2.37G/2.87G [00:47<00:08, 63.1MiB/s]\r\n",
            " 83%|██████████████████████████████▋      | 2.38G/2.87G [00:47<00:08, 61.2MiB/s]\r\n",
            " 83%|██████████████████████████████▋      | 2.39G/2.87G [00:47<00:09, 57.6MiB/s]\r\n",
            " 83%|██████████████████████████████▊      | 2.39G/2.87G [00:47<00:09, 54.8MiB/s]\r\n",
            " 83%|██████████████████████████████▊      | 2.40G/2.87G [00:47<00:09, 54.1MiB/s]\r\n",
            " 84%|██████████████████████████████▉      | 2.40G/2.87G [00:47<00:09, 53.6MiB/s]\r\n",
            " 84%|██████████████████████████████▉      | 2.41G/2.87G [00:47<00:09, 53.1MiB/s]\r\n",
            " 84%|███████████████████████████████      | 2.41G/2.87G [00:48<00:09, 51.9MiB/s]\r\n",
            " 84%|███████████████████████████████      | 2.42G/2.87G [00:48<00:09, 51.8MiB/s]\r\n",
            " 84%|███████████████████████████████▏     | 2.42G/2.87G [00:48<00:08, 54.4MiB/s]\r\n",
            " 84%|███████████████████████████████▏     | 2.43G/2.87G [00:48<00:09, 53.5MiB/s]\r\n",
            " 85%|███████████████████████████████▎     | 2.43G/2.87G [00:48<00:08, 54.8MiB/s]\r\n",
            " 85%|███████████████████████████████▎     | 2.44G/2.87G [00:48<00:08, 55.8MiB/s]\r\n",
            " 85%|███████████████████████████████▍     | 2.44G/2.87G [00:48<00:08, 57.8MiB/s]\r\n",
            " 85%|███████████████████████████████▌     | 2.45G/2.87G [00:48<00:08, 56.2MiB/s]\r\n",
            " 85%|███████████████████████████████▌     | 2.45G/2.87G [00:48<00:08, 54.9MiB/s]\r\n",
            " 86%|███████████████████████████████▋     | 2.46G/2.87G [00:49<00:08, 51.4MiB/s]\r\n",
            " 86%|███████████████████████████████▋     | 2.47G/2.87G [00:49<00:08, 54.7MiB/s]\r\n",
            " 86%|███████████████████████████████▊     | 2.47G/2.87G [00:49<00:07, 57.3MiB/s]\r\n",
            " 86%|███████████████████████████████▉     | 2.48G/2.87G [00:49<00:07, 57.9MiB/s]\r\n",
            " 86%|███████████████████████████████▉     | 2.48G/2.87G [00:49<00:07, 56.0MiB/s]\r\n",
            " 87%|████████████████████████████████     | 2.49G/2.87G [00:49<00:07, 54.4MiB/s]\r\n",
            " 87%|████████████████████████████████     | 2.49G/2.87G [00:49<00:07, 53.2MiB/s]\r\n",
            " 87%|████████████████████████████████▏    | 2.50G/2.87G [00:49<00:07, 51.7MiB/s]\r\n",
            " 87%|████████████████████████████████▏    | 2.50G/2.87G [00:49<00:07, 52.6MiB/s]\r\n",
            " 87%|████████████████████████████████▎    | 2.51G/2.87G [00:49<00:07, 53.4MiB/s]\r\n",
            " 87%|████████████████████████████████▎    | 2.51G/2.87G [00:50<00:07, 53.1MiB/s]\r\n",
            " 88%|████████████████████████████████▍    | 2.52G/2.87G [00:50<00:07, 54.0MiB/s]\r\n",
            " 88%|████████████████████████████████▍    | 2.52G/2.87G [00:50<00:06, 55.3MiB/s]\r\n",
            " 88%|████████████████████████████████▌    | 2.53G/2.87G [00:50<00:06, 54.2MiB/s]\r\n",
            " 88%|████████████████████████████████▋    | 2.54G/2.87G [00:50<00:05, 61.2MiB/s]\r\n",
            " 88%|████████████████████████████████▋    | 2.54G/2.87G [00:50<00:05, 63.3MiB/s]\r\n",
            " 89%|████████████████████████████████▊    | 2.55G/2.87G [00:50<00:05, 59.9MiB/s]\r\n",
            " 89%|████████████████████████████████▊    | 2.55G/2.87G [00:50<00:06, 56.7MiB/s]\r\n",
            " 89%|████████████████████████████████▉    | 2.56G/2.87G [00:50<00:06, 50.0MiB/s]\r\n",
            " 89%|█████████████████████████████████    | 2.56G/2.87G [00:51<00:06, 51.0MiB/s]\r\n",
            " 89%|█████████████████████████████████    | 2.57G/2.87G [00:51<00:06, 53.8MiB/s]\r\n",
            " 90%|█████████████████████████████████▏   | 2.58G/2.87G [00:51<00:06, 49.5MiB/s]\r\n",
            " 90%|█████████████████████████████████▏   | 2.58G/2.87G [00:51<00:06, 49.2MiB/s]\r\n",
            " 90%|█████████████████████████████████▎   | 2.58G/2.87G [00:51<00:06, 48.8MiB/s]\r\n",
            " 90%|█████████████████████████████████▎   | 2.59G/2.87G [00:51<00:05, 51.6MiB/s]\r\n",
            " 90%|█████████████████████████████████▍   | 2.60G/2.87G [00:51<00:05, 54.5MiB/s]\r\n",
            " 90%|█████████████████████████████████▍   | 2.60G/2.87G [00:51<00:05, 56.2MiB/s]\r\n",
            " 91%|█████████████████████████████████▌   | 2.61G/2.87G [00:51<00:04, 57.5MiB/s]\r\n",
            " 91%|█████████████████████████████████▋   | 2.61G/2.87G [00:52<00:04, 59.0MiB/s]\r\n",
            " 91%|█████████████████████████████████▋   | 2.62G/2.87G [00:52<00:04, 59.5MiB/s]\r\n",
            " 91%|█████████████████████████████████▊   | 2.62G/2.87G [00:52<00:04, 59.6MiB/s]\r\n",
            " 91%|█████████████████████████████████▊   | 2.63G/2.87G [00:52<00:04, 56.5MiB/s]\r\n",
            " 92%|█████████████████████████████████▉   | 2.64G/2.87G [00:52<00:04, 56.4MiB/s]\r\n",
            " 92%|█████████████████████████████████▉   | 2.64G/2.87G [00:52<00:04, 57.2MiB/s]\r\n",
            " 92%|██████████████████████████████████   | 2.65G/2.87G [00:52<00:04, 51.3MiB/s]\r\n",
            " 92%|██████████████████████████████████   | 2.65G/2.87G [00:52<00:04, 49.8MiB/s]\r\n",
            " 92%|██████████████████████████████████▏  | 2.66G/2.87G [00:52<00:04, 50.2MiB/s]\r\n",
            " 93%|██████████████████████████████████▏  | 2.66G/2.87G [00:52<00:04, 50.3MiB/s]\r\n",
            " 93%|██████████████████████████████████▎  | 2.67G/2.87G [00:53<00:04, 50.4MiB/s]\r\n",
            " 93%|██████████████████████████████████▍  | 2.67G/2.87G [00:53<00:04, 53.0MiB/s]\r\n",
            " 93%|██████████████████████████████████▍  | 2.68G/2.87G [00:53<00:03, 54.7MiB/s]\r\n",
            " 93%|██████████████████████████████████▌  | 2.68G/2.87G [00:53<00:03, 54.8MiB/s]\r\n",
            " 93%|██████████████████████████████████▌  | 2.69G/2.87G [00:53<00:03, 53.8MiB/s]\r\n",
            " 94%|██████████████████████████████████▋  | 2.69G/2.87G [00:53<00:03, 54.7MiB/s]\r\n",
            " 94%|██████████████████████████████████▋  | 2.70G/2.87G [00:53<00:03, 52.4MiB/s]\r\n",
            " 94%|██████████████████████████████████▊  | 2.70G/2.87G [00:53<00:03, 47.7MiB/s]\r\n",
            " 94%|██████████████████████████████████▊  | 2.71G/2.87G [00:53<00:03, 49.3MiB/s]\r\n",
            " 94%|██████████████████████████████████▉  | 2.71G/2.87G [00:54<00:03, 50.1MiB/s]\r\n",
            " 95%|██████████████████████████████████▉  | 2.72G/2.87G [00:54<00:03, 47.9MiB/s]\r\n",
            " 95%|███████████████████████████████████  | 2.72G/2.87G [00:54<00:03, 47.2MiB/s]\r\n",
            " 95%|███████████████████████████████████  | 2.73G/2.87G [00:54<00:03, 48.3MiB/s]\r\n",
            " 95%|███████████████████████████████████▏ | 2.73G/2.87G [00:54<00:03, 51.2MiB/s]\r\n",
            " 95%|███████████████████████████████████▏ | 2.74G/2.87G [00:54<00:02, 51.0MiB/s]\r\n",
            " 95%|███████████████████████████████████▎ | 2.74G/2.87G [00:54<00:02, 50.7MiB/s]\r\n",
            " 96%|███████████████████████████████████▎ | 2.75G/2.87G [00:54<00:02, 48.7MiB/s]\r\n",
            " 96%|███████████████████████████████████▍ | 2.75G/2.87G [00:54<00:02, 50.0MiB/s]\r\n",
            " 96%|███████████████████████████████████▍ | 2.76G/2.87G [00:54<00:02, 54.1MiB/s]\r\n",
            " 96%|███████████████████████████████████▌ | 2.76G/2.87G [00:55<00:02, 53.6MiB/s]\r\n",
            " 96%|███████████████████████████████████▌ | 2.77G/2.87G [00:55<00:02, 52.6MiB/s]\r\n",
            " 96%|███████████████████████████████████▋ | 2.77G/2.87G [00:55<00:02, 51.7MiB/s]\r\n",
            " 97%|███████████████████████████████████▋ | 2.78G/2.87G [00:55<00:02, 49.8MiB/s]\r\n",
            " 97%|███████████████████████████████████▊ | 2.78G/2.87G [00:55<00:01, 50.4MiB/s]\r\n",
            " 97%|███████████████████████████████████▊ | 2.79G/2.87G [00:55<00:01, 49.8MiB/s]\r\n",
            " 97%|███████████████████████████████████▉ | 2.79G/2.87G [00:55<00:01, 50.2MiB/s]\r\n",
            " 97%|███████████████████████████████████▉ | 2.80G/2.87G [00:55<00:01, 52.2MiB/s]\r\n",
            " 98%|████████████████████████████████████ | 2.81G/2.87G [00:55<00:01, 64.3MiB/s]\r\n",
            " 98%|████████████████████████████████████▏| 2.81G/2.87G [00:56<00:01, 60.0MiB/s]\r\n",
            " 98%|████████████████████████████████████▎| 2.82G/2.87G [00:56<00:01, 59.4MiB/s]\r\n",
            " 98%|████████████████████████████████████▎| 2.82G/2.87G [00:56<00:00, 56.9MiB/s]\r\n",
            " 98%|████████████████████████████████████▍| 2.83G/2.87G [00:56<00:00, 58.2MiB/s]\r\n",
            " 99%|████████████████████████████████████▍| 2.83G/2.87G [00:56<00:00, 54.7MiB/s]\r\n",
            " 99%|████████████████████████████████████▌| 2.84G/2.87G [00:56<00:00, 50.6MiB/s]\r\n",
            " 99%|████████████████████████████████████▌| 2.84G/2.87G [00:56<00:00, 49.7MiB/s]\r\n",
            " 99%|████████████████████████████████████▋| 2.85G/2.87G [00:56<00:00, 49.2MiB/s]\r\n",
            " 99%|████████████████████████████████████▋| 2.85G/2.87G [00:56<00:00, 49.9MiB/s]\r\n",
            " 99%|████████████████████████████████████▊| 2.86G/2.87G [00:57<00:00, 53.2MiB/s]\r\n",
            "100%|████████████████████████████████████▊| 2.86G/2.87G [00:57<00:00, 54.9MiB/s]\r\n",
            "100%|████████████████████████████████████▉| 2.87G/2.87G [00:57<00:00, 62.2MiB/s]\r\n",
            "100%|█████████████████████████████████████| 2.87G/2.87G [00:57<00:00, 53.9MiB/s]tcmalloc: large alloc 3087007744 bytes == 0x708a000 @  0x7fb7d179e1e7 0x4b2150 0x5ac2ec 0x5dc6af 0x58ee9b 0x5901a3 0x5e3f6b 0x4d18aa 0x51b31c 0x58f2a7 0x51740e 0x5b41c5 0x58f49e 0x51b221 0x5b41c5 0x604133 0x606e06 0x606ecc 0x609aa6 0x64d332 0x64d4de 0x7fb7d139bc87 0x5b561a\n",
            "\n"
          ]
        }
      ],
      "source": [
        "%%bash\n",
        "python openai-whisper.py"
      ]
    },
    {
      "cell_type": "markdown",
      "metadata": {
        "id": "d0HSlXB5mhQt"
      },
      "source": [
        "```\n",
        "usage: openai-whisper.py [-h] [-l AUDIOLANGUAGE] [-p INPUTPATH]\n",
        "                         [-v TYPEVERBOSE] [-g OUTPUTTYPE] [-s SPEECHTASK]\n",
        "                         [-n NUMSTEPS] [-t DECODINGTEMPERATURE] [-b BEAMSIZE]\n",
        "                         [-o OUTPUT]\n",
        "\n",
        "OpenAI Whisper Automatic Speech Recognition\n",
        "\n",
        "optional arguments:\n",
        "  -h, --help            show this help message and exit\n",
        "  -l AUDIOLANGUAGE      Language spoken in the audio, use Auto detection to\n",
        "                        let Whisper detect the language. Select from the\n",
        "                        following languages['Auto detection', 'Afrikaans',\n",
        "                        'Albanian', 'Amharic', 'Arabic', 'Armenian',\n",
        "                        'Assamese', 'Azerbaijani', 'Bashkir', 'Basque',\n",
        "                        'Belarusian', 'Bengali', 'Bosnian', 'Breton',\n",
        "                        'Bulgarian', 'Burmese', 'Castilian', 'Catalan',\n",
        "                        'Chinese', 'Croatian', 'Czech', 'Danish', 'Dutch',\n",
        "                        'English', 'Estonian', 'Faroese', 'Finnish',\n",
        "                        'Flemish', 'French', 'Galician', 'Georgian', 'German',\n",
        "                        'Greek', 'Gujarati', 'Haitian', 'Haitian Creole',\n",
        "                        'Hausa', 'Hawaiian', 'Hebrew', 'Hindi', 'Hungarian',\n",
        "                        'Icelandic', 'Indonesian', 'Italian', 'Japanese',\n",
        "                        'Javanese', 'Kannada', 'Kazakh', 'Khmer', 'Korean',\n",
        "                        'Lao', 'Latin', 'Latvian', 'Letzeburgesch', 'Lingala',\n",
        "                        'Lithuanian', 'Luxembourgish', 'Macedonian',\n",
        "                        'Malagasy', 'Malay', 'Malayalam', 'Maltese', 'Maori',\n",
        "                        'Marathi', 'Moldavian', 'Moldovan', 'Mongolian',\n",
        "                        'Myanmar', 'Nepali', 'Norwegian', 'Nynorsk',\n",
        "                        'Occitan', 'Panjabi', 'Pashto', 'Persian', 'Polish',\n",
        "                        'Portuguese', 'Punjabi', 'Pushto', 'Romanian',\n",
        "                        'Russian', 'Sanskrit', 'Serbian', 'Shona', 'Sindhi',\n",
        "                        'Sinhala', 'Sinhalese', 'Slovak', 'Slovenian',\n",
        "                        'Somali', 'Spanish', 'Sundanese', 'Swahili',\n",
        "                        'Swedish', 'Tagalog', 'Tajik', 'Tamil', 'Tatar',\n",
        "                        'Telugu', 'Thai', 'Tibetan', 'Turkish', 'Turkmen',\n",
        "                        'Ukrainian', 'Urdu', 'Uzbek', 'Valencian',\n",
        "                        'Vietnamese', 'Welsh', 'Yiddish', 'Yoruba']\n",
        "  -p INPUTPATH          Path of the input file\n",
        "  -v TYPEVERBOSE        Whether to print out the progress and debug messages.\n",
        "                        ['Live transcription', 'Progress bar', 'None']\n",
        "  -g OUTPUTTYPE         Type of file to generate to record the transcription.\n",
        "                        ['All', '.txt', '.vtt', '.srt']\n",
        "  -s SPEECHTASK         Whether to perform X->X speech recognition\n",
        "                        (`transcribe`) or X->English translation\n",
        "                        (`translate`). ['transcribe', 'translate']\n",
        "  -n NUMSTEPS           Number of Steps\n",
        "  -t DECODINGTEMPERATURE\n",
        "                        Temperature to increase when falling back when the\n",
        "                        decoding fails to meet either of the thresholds below.\n",
        "  -b BEAMSIZE           Number of Images\n",
        "  -o OUTPUT             Output Folder where to store the ouputs\n",
        "```"
      ]
    },
    {
      "cell_type": "markdown",
      "metadata": {
        "id": "G2HMSw658ZCT"
      },
      "source": [
        "Viewing the outputs\n"
      ]
    },
    {
      "cell_type": "code",
      "execution_count": null,
      "metadata": {
        "id": "CcA9qCFMmhQu",
        "outputId": "b8813580-8939-450b-e268-b9b7f8f98d5a",
        "tags": [
          "skip-execution"
        ]
      },
      "outputs": [
        {
          "name": "stdout",
          "output_type": "stream",
          "text": [
            "Hello!\n"
          ]
        }
      ],
      "source": [
        "%%bash\n",
        "cat hello.srt"
      ]
    },
    {
      "cell_type": "markdown",
      "metadata": {
        "id": "HZMMmIGL8ujt"
      },
      "source": [
        "After that we will write a DOCKERFILE to containernize this script and then run it on bacalhau"
      ]
    },
    {
      "cell_type": "markdown",
      "metadata": {
        "id": "KUHNqPOb8n94"
      },
      "source": [
        "# Building and Running on docker\n"
      ]
    },
    {
      "cell_type": "markdown",
      "metadata": {
        "id": "XECKIqQH8jTu"
      },
      "source": [
        "\n",
        "In this step you will create a  `Dockerfile` to create your Docker deployment. The `Dockerfile` is a text document that contains the commands used to assemble the image.\n",
        "\n",
        "First, create the `Dockerfile`.\n",
        "\n",
        "Next, add your desired configuration to the `Dockerfile`. These commands specify how the image will be built, and what extra requirements will be included.\n",
        "\n",
        " Dockerfile\n",
        "\n",
        "\n",
        "```\n",
        "FROM  pytorch/pytorch:1.12.1-cuda11.3-cudnn8-runtime\n",
        "\n",
        "WORKDIR /\n",
        "\n",
        "RUN apt-get -y update\n",
        "\n",
        "RUN apt-get -y install git\n",
        "\n",
        "RUN python3 -m pip install --upgrade pip\n",
        "\n",
        "RUN python -m pip install regex tqdm Pillow\n",
        "\n",
        "RUN pip install git+https://github.com/openai/whisper.git\n",
        "\n",
        "ADD hello.mp3 hello.mp3\n",
        "\n",
        "ADD openai-whisper.py openai-whisper.py\n",
        "\n",
        "RUN python openai-whisper.py\n",
        "```\n",
        "\n",
        "\n",
        "We choose pytorch/pytorch:1.12.1-cuda11.3-cudnn8-runtime as our base image\n",
        "\n",
        "And then install all the dependencies, after that we will add the test audio file and our openai-whisper script to the container, we will also run a test command to check whether our script works inside the container and if the container builds successfully\n"
      ]
    },
    {
      "cell_type": "markdown",
      "metadata": {
        "id": "Y6qrZhPp86Bd"
      },
      "source": [
        "\n",
        "# Running whisper on bacalhau\n",
        "\n",
        "We will transcribe the moon landing video, which can be found here\n",
        "\n",
        "https://www.nasa.gov/multimedia/hd/apollo11_hdpage.html\n",
        "\n",
        "Since the downloaded video is of .mov format we convert the video to .mp4 and then upload it to IPFS\n",
        "\n",
        " Uploading a sample dataset to IPFS\n",
        "\n",
        "To upload the video we will be using [https://nft.storage/docs/how-to/nftup/](https://nft.storage/docs/how-to/nftup/)\n",
        "\n",
        "![](https://i.imgur.com/xwZT3Pi.png)\n",
        "\n",
        "After the dataset has been uploaded, copy the CID\n",
        "\n",
        "bafybeielf6z4cd2nuey5arckect5bjmelhouvn5rhbjlvpvhp7erkrc4nu \n",
        "\n",
        "## **Running the container on bacalhau**\n",
        "\n",
        "We use the --gpu flag to denote the no of GPU we are going to use\n",
        "\n",
        "\n",
        "```\n",
        "bacalhau docker run \\\n",
        " jsacex/whisper \\\n",
        " --gpu 1 \\\n",
        "-i bafybeielf6z4cd2nuey5arckect5bjmelhouvn5rhbjlvpvhp7erkrc4nu \\\n",
        "-- python openai-whisper.py -p inputs/Apollo_11_moonwalk_montage_720p.mp4 -o outputs\n",
        "```\n",
        "-i bafybeielf6z4cd2nuey5arckect5bjmelhouvn5r\n",
        "here we use the -i flag to mount the CID\n",
        "which contains our file to the container\n",
        "at the path /inputs\n",
        "\n",
        "python openai-whisper.py -p inputs/Apollo_11_moonwalk_montage_720p.mp4 -o outputs\n",
        "\n",
        "-p we provide it the input path of our file and then in -o we provide the path where to store the outputs\n"
      ]
    },
    {
      "cell_type": "markdown",
      "metadata": {
        "id": "24HuygvzTwnT"
      },
      "source": [
        "Insalling bacalhau"
      ]
    },
    {
      "cell_type": "code",
      "execution_count": 2,
      "metadata": {
        "colab": {
          "base_uri": "https://localhost:8080/"
        },
        "id": "wlaWUskdmhQw",
        "outputId": "42d1d6ec-f8f4-4e79-bdf9-2891c30af21e",
        "tags": [
          "skip-execution"
        ]
      },
      "outputs": [
        {
          "name": "stdout",
          "output_type": "stream",
          "text": [
            "Your system is linux_amd64\n",
            "No BACALHAU detected. Installing fresh BACALHAU CLI...\n",
            "Getting the latest BACALHAU CLI...\n",
            "Installing v0.3.15 BACALHAU CLI...\n",
            "Downloading https://github.com/filecoin-project/bacalhau/releases/download/v0.3.15/bacalhau_v0.3.15_linux_amd64.tar.gz ...\n",
            "Downloading sig file https://github.com/filecoin-project/bacalhau/releases/download/v0.3.15/bacalhau_v0.3.15_linux_amd64.tar.gz.signature.sha256 ...\n",
            "Verified OK\n",
            "Extracting tarball ...\n",
            "NOT verifying Bin\n",
            "bacalhau installed into /usr/local/bin successfully.\n",
            "Client Version: v0.3.15\n",
            "Server Version: v0.3.15\n"
          ]
        }
      ],
      "source": [
        "!curl -sL https://get.bacalhau.org/install.sh | bash"
      ]
    },
    {
      "cell_type": "code",
      "execution_count": null,
      "metadata": {
        "colab": {
          "base_uri": "https://localhost:8080/"
        },
        "id": "pU9SwO86mhQx",
        "outputId": "b75bf5cf-df6b-4aee-cf96-2f61e5892bd0",
        "tags": [
          "skip-execution"
        ]
      },
      "outputs": [
        {
          "name": "stdout",
          "output_type": "stream",
          "text": [
            "215dc3ca-e59a-4a06-9272-0be8304f1e1d\n"
          ]
        }
      ],
      "source": [
        "%%bash --out job_id\n",
        "bacalhau docker run \\ \n",
        "--wait \\\n",
        "--id-only \\\n",
        "--gpu 1 \\\n",
        "--timeout 3600 \\\n",
        "--wait-timeout-secs 3600 \\\n",
        "jsacex/whisper \\\n",
        "-i bafybeielf6z4cd2nuey5arckect5bjmelhouvn5rhbjlvpvhp7erkrc4nu \\\n",
        "-- python openai-whisper.py -p inputs/Apollo_11_moonwalk_montage_720p.mp4 -o outputs"
      ]
    },
    {
      "cell_type": "code",
      "execution_count": null,
      "metadata": {
        "colab": {
          "base_uri": "https://localhost:8080/"
        },
        "id": "HoA6iqgLmhQy",
        "outputId": "61edb912-8f4e-4644-934b-d64132c85d85",
        "tags": [
          "skip-execution"
        ]
      },
      "outputs": [
        {
          "name": "stdout",
          "output_type": "stream",
          "text": [
            "\u001b[92;100m CREATED  \u001b[0m\u001b[92;100m ID       \u001b[0m\u001b[92;100m JOB                     \u001b[0m\u001b[92;100m STATE     \u001b[0m\u001b[92;100m VERIFIED \u001b[0m\u001b[92;100m PUBLISHED               \u001b[0m\n",
            "\u001b[97;40m 08:04:36 \u001b[0m\u001b[97;40m d4ae780f \u001b[0m\u001b[97;40m Docker jsacex/whispe... \u001b[0m\u001b[97;40m Completed \u001b[0m\u001b[97;40m          \u001b[0m\u001b[97;40m /ipfs/QmabtzjaAj94sG... \u001b[0m\n"
          ]
        }
      ],
      "source": [
        "%%bash\n",
        "bacalhau list --id-filter ${JOB_ID} --wide"
      ]
    },
    {
      "cell_type": "markdown",
      "metadata": {
        "id": "kFYpNA32c7t5"
      },
      "source": [
        "\n",
        "Where it says \"`Completed `\", that means the job is done, and we can get the results.\n",
        "\n",
        "To find out more information about your job, run the following command:"
      ]
    },
    {
      "cell_type": "code",
      "execution_count": 1,
      "metadata": {
        "colab": {
          "base_uri": "https://localhost:8080/"
        },
        "id": "esU2mQ4rmhQz",
        "outputId": "40611f41-53c7-4a87-820e-497422006486",
        "tags": [
          "skip-execution"
        ]
      },
      "outputs": [
        {
          "name": "stderr",
          "output_type": "stream",
          "text": [
            "bash: line 1: bacalhau: command not found\n"
          ]
        },
        {
          "ename": "CalledProcessError",
          "evalue": "Command 'b'bacalhau describe ${JOB_ID}\\n'' returned non-zero exit status 127.",
          "output_type": "error",
          "traceback": [
            "\u001b[0;31m---------------------------------------------------------------------------\u001b[0m",
            "\u001b[0;31mCalledProcessError\u001b[0m                        Traceback (most recent call last)",
            "Cell \u001b[0;32mIn[1], line 1\u001b[0m\n\u001b[0;32m----> 1\u001b[0m get_ipython()\u001b[39m.\u001b[39;49mrun_cell_magic(\u001b[39m'\u001b[39;49m\u001b[39mbash\u001b[39;49m\u001b[39m'\u001b[39;49m, \u001b[39m'\u001b[39;49m\u001b[39m'\u001b[39;49m, \u001b[39m'\u001b[39;49m\u001b[39mbacalhau describe $\u001b[39;49m\u001b[39m{JOB_ID}\u001b[39;49;00m\u001b[39m\\n\u001b[39;49;00m\u001b[39m'\u001b[39;49m)\n",
            "File \u001b[0;32m/workspace/.pyenv_mirror/user/current/lib/python3.8/site-packages/IPython/core/interactiveshell.py:2417\u001b[0m, in \u001b[0;36mInteractiveShell.run_cell_magic\u001b[0;34m(self, magic_name, line, cell)\u001b[0m\n\u001b[1;32m   2415\u001b[0m \u001b[39mwith\u001b[39;00m \u001b[39mself\u001b[39m\u001b[39m.\u001b[39mbuiltin_trap:\n\u001b[1;32m   2416\u001b[0m     args \u001b[39m=\u001b[39m (magic_arg_s, cell)\n\u001b[0;32m-> 2417\u001b[0m     result \u001b[39m=\u001b[39m fn(\u001b[39m*\u001b[39;49margs, \u001b[39m*\u001b[39;49m\u001b[39m*\u001b[39;49mkwargs)\n\u001b[1;32m   2418\u001b[0m \u001b[39mreturn\u001b[39;00m result\n",
            "File \u001b[0;32m/workspace/.pyenv_mirror/user/current/lib/python3.8/site-packages/IPython/core/magics/script.py:153\u001b[0m, in \u001b[0;36mScriptMagics._make_script_magic.<locals>.named_script_magic\u001b[0;34m(line, cell)\u001b[0m\n\u001b[1;32m    151\u001b[0m \u001b[39melse\u001b[39;00m:\n\u001b[1;32m    152\u001b[0m     line \u001b[39m=\u001b[39m script\n\u001b[0;32m--> 153\u001b[0m \u001b[39mreturn\u001b[39;00m \u001b[39mself\u001b[39;49m\u001b[39m.\u001b[39;49mshebang(line, cell)\n",
            "File \u001b[0;32m/workspace/.pyenv_mirror/user/current/lib/python3.8/site-packages/IPython/core/magics/script.py:305\u001b[0m, in \u001b[0;36mScriptMagics.shebang\u001b[0;34m(self, line, cell)\u001b[0m\n\u001b[1;32m    300\u001b[0m \u001b[39mif\u001b[39;00m args\u001b[39m.\u001b[39mraise_error \u001b[39mand\u001b[39;00m p\u001b[39m.\u001b[39mreturncode \u001b[39m!=\u001b[39m \u001b[39m0\u001b[39m:\n\u001b[1;32m    301\u001b[0m     \u001b[39m# If we get here and p.returncode is still None, we must have\u001b[39;00m\n\u001b[1;32m    302\u001b[0m     \u001b[39m# killed it but not yet seen its return code. We don't wait for it,\u001b[39;00m\n\u001b[1;32m    303\u001b[0m     \u001b[39m# in case it's stuck in uninterruptible sleep. -9 = SIGKILL\u001b[39;00m\n\u001b[1;32m    304\u001b[0m     rc \u001b[39m=\u001b[39m p\u001b[39m.\u001b[39mreturncode \u001b[39mor\u001b[39;00m \u001b[39m-\u001b[39m\u001b[39m9\u001b[39m\n\u001b[0;32m--> 305\u001b[0m     \u001b[39mraise\u001b[39;00m CalledProcessError(rc, cell)\n",
            "\u001b[0;31mCalledProcessError\u001b[0m: Command 'b'bacalhau describe ${JOB_ID}\\n'' returned non-zero exit status 127."
          ]
        }
      ],
      "source": [
        "%%bash\n",
        "bacalhau describe ${JOB_ID}"
      ]
    },
    {
      "cell_type": "markdown",
      "metadata": {
        "id": "2I4DHnt0Vzua"
      },
      "source": [
        "Since there is no error we can’t see any error instead we see the state of our job to be complete, that means \n",
        "we can download the results!\n",
        "we create a temporary directory to save our results"
      ]
    },
    {
      "cell_type": "markdown",
      "metadata": {
        "id": "6SuXkeV-WD7j"
      },
      "source": [
        "To Download the results of your job, run \n",
        "\n",
        "---\n",
        "\n",
        "the following command:"
      ]
    },
    {
      "cell_type": "code",
      "execution_count": null,
      "metadata": {
        "colab": {
          "base_uri": "https://localhost:8080/"
        },
        "id": "4yMYsKNmmhRG",
        "outputId": "e46dbdb8-8b84-4911-eb1c-facb4ac7687c",
        "tags": [
          "skip-execution"
        ]
      },
      "outputs": [
        {
          "name": "stdout",
          "output_type": "stream",
          "text": [
            "Fetching results of job '215dc3ca-e59a-4a06-9272-0be8304f1e1d'...2022/10/28 08:13:02 failed to sufficiently increase receive buffer size (was: 208 kiB, wanted: 2048 kiB, got: 416 kiB). See https://github.com/lucas-clemente/quic-go/wiki/UDP-Receive-Buffer-Size for details.\n"
          ]
        }
      ],
      "source": [
        "%%bash\n",
        "rm -rf results && mkdir -p results\n",
        "bacalhau get $JOB_ID --output-dir results"
      ]
    },
    {
      "cell_type": "markdown",
      "metadata": {
        "id": "nrZcHon2WOd-"
      },
      "source": [
        "After the download has finished you should \n",
        "see the following contents in results directory"
      ]
    },
    {
      "cell_type": "code",
      "execution_count": null,
      "metadata": {
        "colab": {
          "base_uri": "https://localhost:8080/"
        },
        "id": "ZPIHtggkmhRG",
        "outputId": "aabd0bb0-81e6-40d3-d052-c7bc61e3380f",
        "tags": [
          "skip-execution"
        ]
      },
      "outputs": [
        {
          "name": "stdout",
          "output_type": "stream",
          "text": [
            "job-215dc3ca-e59a-4a06-9272-0be8304f1e1d-shard-0-host-QmVAb7r2pKWCuyLpYWoZr9syhhFnTWeFaByHdb8PkkhLQG\n",
            "shards\n",
            "stderr\n",
            "stdout\n",
            "volumes\n"
          ]
        }
      ],
      "source": [
        "%%bash\n",
        "ls results/"
      ]
    },
    {
      "cell_type": "markdown",
      "metadata": {
        "id": "aDzlDHlFr_js"
      },
      "source": [
        "## Viewing the Outputs"
      ]
    },
    {
      "cell_type": "code",
      "execution_count": null,
      "metadata": {
        "colab": {
          "base_uri": "https://localhost:8080/"
        },
        "id": "Tcrdmu-Cqn-v",
        "outputId": "7687365f-9b34-45e8-b787-e5ed4a845a4b",
        "tags": [
          "skip-execution"
        ]
      },
      "outputs": [
        {
          "name": "stdout",
          "output_type": "stream",
          "text": [
            "WEBVTT\n",
            "\n",
            "00:00.000 --> 00:07.000\n",
            "As the foot of the ladder, the lamb foot beds are only depressed in the surface about one\n",
            "\n",
            "00:14.760 --> 00:21.760\n",
            "or two inches, although the surface appears to be very, very fine grained as you get close\n",
            "\n",
            "00:23.360 --> 00:28.360\n",
            "to it. It's almost like a powder. The ground mass is very fine.\n",
            "\n",
            "00:28.360 --> 00:35.360\n",
            "Okay, I'm going to leave that one foot up there and both hands down about the fourth\n",
            "\n",
            "00:47.760 --> 00:48.760\n",
            "rung up.\n",
            "\n",
            "00:48.760 --> 00:49.760\n",
            "There you go.\n",
            "\n",
            "00:49.760 --> 00:52.760\n",
            "Okay, now I think I'll do the same.\n",
            "\n",
            "00:52.760 --> 00:59.760\n",
            "For those who haven't read the plaque, we'll read the plaque that's on the front landing\n",
            "\n",
            "01:06.840 --> 01:13.840\n",
            "gear of this lamb. There's two hemispheres, one showing each of the two hemispheres of\n",
            "\n",
            "01:13.840 --> 01:20.840\n",
            "Earth. Underneath it says, Airman from the planet Earth, first set foot upon the moon\n",
            "\n",
            "01:25.280 --> 01:28.280\n",
            "July 1969, D.C. We came in deep.\n",
            "\n",
            "01:28.280 --> 01:35.280\n",
            "I guess you're about the only person around that doesn't have TV coverage of the scene.\n",
            "\n",
            "01:35.280 --> 01:42.280\n",
            "That's all right. I don't mind a bit.\n",
            "\n",
            "01:42.280 --> 01:47.280\n",
            "How is the quality of the TV?\n",
            "\n",
            "01:47.280 --> 01:50.280\n",
            "Oh, it's beautiful, Mike. It really is.\n",
            "\n",
            "01:50.280 --> 01:55.280\n",
            "Oh, geez, that's great. Is the lighting halfway decent?\n",
            "\n",
            "01:55.280 --> 02:00.280\n",
            "Yes, indeed. They've got the flag up now, and you can see the stars and stripes on the\n",
            "\n"
          ]
        }
      ],
      "source": [
        "%%bash\n",
        "cat results/combined_results/outputs/stdout"
      ]
    }
  ],
  "metadata": {
    "accelerator": "GPU",
    "colab": {
      "collapsed_sections": [],
      "provenance": []
    },
    "kernelspec": {
      "display_name": "Python 3 (ipykernel)",
      "language": "python",
      "name": "python3"
    },
    "language_info": {
      "codemirror_mode": {
        "name": "ipython",
        "version": 3
      },
      "file_extension": ".py",
      "mimetype": "text/x-python",
      "name": "python",
      "nbconvert_exporter": "python",
      "pygments_lexer": "ipython3",
      "version": "3.8.10"
    },
    "vscode": {
      "interpreter": {
        "hash": "916dbcbb3f70747c44a77c7bcd40155683ae19c65e1c03b4aa3499c5328201f1"
      }
    }
  },
  "nbformat": 4,
  "nbformat_minor": 0
}
