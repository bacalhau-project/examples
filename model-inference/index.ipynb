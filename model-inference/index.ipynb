{
  "cells": [
    {
      "cell_type": "raw",
      "id": "01214209-a92c-4b07-a7ae-1acd7d871c47",
      "metadata": {
        "tags": [
          "skip-execution"
        ]
      },
      "source": [
        "---\n",
        "sidebar_label: \"Model Inference\"\n",
        "sidebar_position: 30\n",
        "---"
      ]
    },
    {
      "cell_type": "markdown",
      "id": "de30faba-32df-4b3f-8553-d29a826620ca",
      "metadata": {
        "tags": [
          "skip-execution"
        ]
      },
      "source": [
        "# Model Inference\n",
        "\n",
        "This directory contains examples relating to model inference workloads."
      ]
    }
  ],
  "metadata": {
    "kernelspec": {
      "display_name": "Python 3",
      "language": "python",
      "name": "python3"
    },
    "language_info": {
      "name": "python",
      "version": "3.8.16 (default, Jan 10 2023, 15:23:34) \n[GCC 9.4.0]"
    },
    "vscode": {
      "interpreter": {
        "hash": "9ac03a0a6051494cc606d484d27d20fce22fb7b4d169f583271e11d5ba46a56e"
      }
    }
  },
  "nbformat": 4,
  "nbformat_minor": 5
}
