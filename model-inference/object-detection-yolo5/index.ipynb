{
  "cells": [
    {
      "cell_type": "raw",
      "metadata": {
        "tags": [
          "skip-execution"
        ]
      },
      "source": [
        "---\n",
        "sidebar_label: Object Detection - YOLOv5\n",
        "sidebar_position: 2\n",
        "---"
      ]
    },
    {
      "attachments": {},
      "cell_type": "markdown",
      "metadata": {
        "id": "iYX7WHwyqUZL",
        "tags": []
      },
      "source": [
        "# Object Detection with YOLOv5 on Bacalhau\n",
        "\n",
        "[![stars - badge-generator](https://img.shields.io/github/stars/bacalhau-project/bacalhau?style=social)](https://github.com/bacalhau-project/bacalhau)\n",
        "\n",
        "The identification and localization of objects in images and videos is a computer vision task called object detection. Several algorithms have emerged in the past few years to tackle the problem. One of the most popular algorithms to date for real-time object detection is [YOLO (You Only Look Once)](https://towardsdatascience.com/yolo-you-only-look-once-real-time-object-detection-explained-492dc9230006), initially proposed by Redmond et al.[[1]](https://arxiv.org/abs/1506.02640)\n",
        "\n",
        "Traditionally, models like YOLO required enormous amounts of training data to yield reasonable results. People might not have access to such high-quality labelled data. Thankfully, open source communities and researchers have made it possible to utilise pre-trained models to perform inference. In other words, you can use models that have already been trained on large datasets to perform object detection on your own data.\n",
        "\n",
        "In this tutorial you will perform an end-to-end object detection inference, using the [YOLOv5 Docker Image developed by Ultralytics.](https://github.com/ultralytics/yolov5/wiki/Docker-Quickstart)\n",
        "\n",
        "## TD;LR\n",
        "Performing object detection inference using Yolov5 and Bacalhau\n",
        "\n",
        "## Prerequisite\n",
        "\n",
        "To get started, you need to install the Bacalhau client, see more information [here](https://docs.bacalhau.org/getting-started/installation)"
      ]
    },
    {
      "cell_type": "code",
      "execution_count": null,
      "metadata": {
        "tags": [
          "remove_cell"
        ]
      },
      "outputs": [
        {
          "name": "stdout",
          "output_type": "stream",
          "text": [
            "/Users/phil/.zshenv:.:1: no such file or directory: /Users/phil/.cargo/env\n",
            "/Users/phil/.zshenv:.:2: no such file or directory: /Users/phil/source/bacalhau-project/examples/workload-onboarding/rust-wasm/./env\n",
            "env: PATH=./:/Users/phil/.pyenv/versions/3.9.7/bin:/opt/homebrew/Caskroom/google-cloud-sdk/latest/google-cloud-sdk/bin:/Users/phil/.gvm/bin:/opt/homebrew/opt/findutils/libexec/gnubin:/opt/homebrew/opt/coreutils/libexec/gnubin:/opt/homebrew/Caskroom/google-cloud-sdk/latest/google-cloud-sdk/bin:/Users/phil/.pyenv/shims:/opt/homebrew/bin:/opt/homebrew/sbin:/usr/local/bin:/usr/bin:/bin:/usr/sbin:/sbin:/Library/TeX/texbin:/usr/local/MacGPG2/bin:/Users/phil/.cargo/bin:/Users/phil/.nexustools\n"
          ]
        }
      ],
      "source": [
        "!command -v bacalhau >/dev/null 2>&1 || (export BACALHAU_INSTALL_DIR=.; curl -sL https://get.bacalhau.org/install.sh | bash)\n",
        "path=!echo $PATH\n",
        "pwd=!echo $PWD\n",
        "%env PATH={pwd[-1]}:{path[-1]}"
      ]
    },
    {
      "attachments": {},
      "cell_type": "markdown",
      "metadata": {
        "id": "qr2kbc0yqUEV",
        "tags": []
      },
      "source": [
        "## Running Object Detection Jobs on Bacalhau\n",
        "\n",
        "Bacalhau is a highly scalable decentralised computing platform and is well suited to running massive object detection jobs. In this example, you can take advantage of the GPUs available on the Bacalhau network.\n",
        "\n",
        "### Test Run with Sample Data\n",
        "\n",
        "To get started, let's run a test job with a small sample dataset that is included in the YOLOv5 Docker Image. This will give you a chance to familiarise yourself with the process of running a job on Bacalhau.\n",
        "\n",
        "\n",
        "In addition to the usual Bacalhau flags, you will also see:\n",
        "\n",
        "* `--gpu 1` to specify the use of a GPU\n",
        "\n",
        ":::tip\n",
        "Remember that Bacalhau does not provide any network connectivity when running a job. All assets must be provided at submission time.\n",
        ":::\n",
        "\n",
        "The model requires pre-trained weights to run and by default downloads them from within the container. Bacalhau jobs don't have network access so we will pass in the weights at submission time, saving them to `/usr/src/app/yolov5s.pt`. You may also provide your own weights here.\n",
        "\n",
        "The container has its own options that we must specify:\n",
        "\n",
        "* `--input-urls` to select which pre-trained weights you desire with details on the [yolov5 release page](https://github.com/ultralytics/yolov5/releases)\n",
        "* `--project` specifies the output volume that the model will save its results to. Bacalhau defaults to using `/outputs` as the output directory, so we save to there.\n",
        "\n",
        "For more container flags refer to the [`yolov5/detect.py` file in the YOLO repository](https://github.com/ultralytics/yolov5/blob/master/detect.py#L3-#L25).\n",
        "\n",
        "One final additional hack that we have to do is move the weights file to a location with the standard name. As of writing this, Bacalhau downloads the file to a UUID-named file, which the model is not expecting. This is because github 302 redirects the request to a random file in its backend."
      ]
    },
    {
      "cell_type": "code",
      "execution_count": 7,
      "metadata": {
        "colab": {
          "base_uri": "https://localhost:8080/"
        },
        "executionInfo": {
          "elapsed": 9,
          "status": "ok",
          "timestamp": 1663505883701,
          "user": {
            "displayName": "Vedant Padwal",
            "userId": "05534807475078682627"
          },
          "user_tz": -330
        },
        "id": "8FDrTgcwo8g_",
        "outputId": "5f8b3e71-90ca-47ea-d175-5b69d7fab014",
        "tags": []
      },
      "outputs": [],
      "source": [
        "%%bash --out job_id\n",
        "bacalhau docker run \\\n",
        "--gpu 1 \\\n",
        "--timeout 3600 \\\n",
        "--wait-timeout-secs 3600 \\\n",
        "--wait \\\n",
        "--id-only \\\n",
        "--input-urls https://github.com/ultralytics/yolov5/releases/download/v6.2/yolov5s.pt \\\n",
        "ultralytics/yolov5:v6.2 \\\n",
        "-- /bin/bash -c 'find /inputs -type f -exec cp {} /outputs/yolov5s.pt \\; ; python detect.py --weights /outputs/yolov5s.pt --source $(pwd)/data/images --project /outputs'"
      ]
    },
    {
      "cell_type": "code",
      "execution_count": null,
      "metadata": {
        "tags": [
          "remove_cell"
        ]
      },
      "outputs": [],
      "source": [
        "%env JOB_ID={job_id}"
      ]
    },
    {
      "cell_type": "markdown",
      "metadata": {
        "id": "Nty3mMUnq9vP",
        "tags": [
          "skip-execution"
        ]
      },
      "source": [
        "\n",
        "This should output a UUID (like `59c59bfb-4ef8-45ac-9f4b-f0e9afd26e70`). This is the ID of the job that was created. You can check the status of the job with the following command:\n"
      ]
    },
    {
      "attachments": {},
      "cell_type": "markdown",
      "metadata": {},
      "source": [
        "## Checking the State of your Jobs\n",
        "\n",
        "- **Job status**: You can check the status of the job using `bacalhau list`. "
      ]
    },
    {
      "cell_type": "code",
      "execution_count": null,
      "metadata": {
        "id": "Tl6KdTc_q8JQ",
        "tags": []
      },
      "outputs": [],
      "source": [
        "%%bash\n",
        "bacalhau list --id-filter ${JOB_ID}"
      ]
    },
    {
      "attachments": {},
      "cell_type": "markdown",
      "metadata": {
        "id": "0Scc3Ro9rsWz",
        "tags": []
      },
      "source": [
        "When it says `Completed`, that means the job is done, and we can get the results.\n",
        "\n",
        "- **Job information**: You can find out more information about your job by using `bacalhau describe`."
      ]
    },
    {
      "cell_type": "code",
      "execution_count": null,
      "metadata": {},
      "outputs": [],
      "source": [
        "%%bash\n",
        "bacalhau describe ${JOB_ID}"
      ]
    },
    {
      "attachments": {},
      "cell_type": "markdown",
      "metadata": {},
      "source": [
        "- **Job download**: You can download your job results directly by using `bacalhau get`. Alternatively, you can choose to create a directory to store your results. In the command below, we created a directory and downloaded our job output to be stored in that directory."
      ]
    },
    {
      "cell_type": "code",
      "execution_count": null,
      "metadata": {
        "id": "HxxZoLaBr4Hi",
        "tags": []
      },
      "outputs": [],
      "source": [
        "%%bash\n",
        "rm -rf results && mkdir results\n",
        "bacalhau get ${JOB_ID} --output-dir results"
      ]
    },
    {
      "attachments": {},
      "cell_type": "markdown",
      "metadata": {},
      "source": [
        "## Viewing Output"
      ]
    },
    {
      "cell_type": "markdown",
      "metadata": {
        "id": "nrZcHon2WOd-",
        "tags": [
          "skip-execution"
        ]
      },
      "source": [
        "After the download has finished we can see the results:"
      ]
    },
    {
      "cell_type": "code",
      "execution_count": null,
      "metadata": {},
      "outputs": [],
      "source": [
        "import IPython.display as display\n",
        "display.Image(\"results/combined_results/outputs/exp/bus.jpg\")\n",
        "display.Image(\"results/combined_results/outputs/exp/zidane.jpg\")"
      ]
    },
    {
      "attachments": {},
      "cell_type": "markdown",
      "metadata": {
        "id": "62y7nvvJtw7W",
        "tags": []
      },
      "source": [
        "## Using custom Images as an input\n",
        "\n",
        "Now let's use some custom images. First you will need to ingest your images onto IPFS/Filecoin. For more information about how to do that see data ingestion section.\n",
        "\n",
        "This example will use the [Cyclist Dataset for Object Detection | Kaggle](https://www.kaggle.com/datasets/f445f341fc5e3ab58757efa983a38d6dc709de82abd1444c8817785ecd42a1ac) dataset.\n",
        "\n",
        "We have already uploaded this dataset to Filecoin under the CID: `bafybeicyuddgg4iliqzkx57twgshjluo2jtmlovovlx5lmgp5uoh3zrvpm`. You can browse to this dataset via [a HTTP IPFS proxy](https://w3s.link/ipfs/bafybeicyuddgg4iliqzkx57twgshjluo2jtmlovovlx5lmgp5uoh3zrvpm).\n",
        "\n",
        "Let's run a the same job again, but this time use the images above."
      ]
    },
    {
      "cell_type": "code",
      "execution_count": 14,
      "metadata": {
        "colab": {
          "base_uri": "https://localhost:8080/"
        },
        "executionInfo": {
          "elapsed": 1069,
          "status": "ok",
          "timestamp": 1663508552437,
          "user": {
            "displayName": "Vedant Padwal",
            "userId": "05534807475078682627"
          },
          "user_tz": -330
        },
        "id": "VHwUGPPCt-32",
        "outputId": "45b18a50-5904-45a1-c057-26f1613bef23",
        "tags": []
      },
      "outputs": [],
      "source": [
        "%%bash --out job_id\n",
        "bacalhau docker run \\\n",
        "--gpu 1 \\\n",
        "--timeout 3600 \\\n",
        "--wait-timeout-secs 3600 \\\n",
        "--wait \\\n",
        "--id-only \\\n",
        "--input-urls https://github.com/ultralytics/yolov5/releases/download/v6.2/yolov5s.pt \\\n",
        "--input-volumes bafybeicyuddgg4iliqzkx57twgshjluo2jtmlovovlx5lmgp5uoh3zrvpm:/datasets \\\n",
        "ultralytics/yolov5:v6.2 \\\n",
        "-- /bin/bash -c 'find /inputs -type f -exec cp {} /outputs/yolov5s.pt \\; ; python detect.py --weights /outputs/yolov5s.pt --source /datasets --project /outputs'"
      ]
    },
    {
      "cell_type": "code",
      "execution_count": 15,
      "metadata": {
        "tags": [
          "remove_cell"
        ]
      },
      "outputs": [
        {
          "name": "stdout",
          "output_type": "stream",
          "text": [
            "env: JOB_ID=7e2c5c13-40e6-473d-a76b-229416c3c04e\n"
          ]
        }
      ],
      "source": [
        "%env JOB_ID={job_id}"
      ]
    },
    {
      "attachments": {},
      "cell_type": "markdown",
      "metadata": {},
      "source": [
        "When a job is submitted, Bacalhau prints out the related `job_id`. We store that in an environment variable so that we can reuse it later on."
      ]
    },
    {
      "attachments": {},
      "cell_type": "markdown",
      "metadata": {},
      "source": [
        "### Checking the State of your Jobs\n",
        "\n",
        "- **Job status**: You can check the status of the job using `bacalhau list`. "
      ]
    },
    {
      "cell_type": "code",
      "execution_count": null,
      "metadata": {
        "id": "VVOpyN4nz1qF",
        "tags": []
      },
      "outputs": [],
      "source": [
        "%%bash\n",
        "bacalhau list --id-filter ${JOB_ID}"
      ]
    },
    {
      "attachments": {},
      "cell_type": "markdown",
      "metadata": {},
      "source": [
        "- **Job download**: You can download your job results directly by using `bacalhau get`. Alternatively, you can choose to create a directory to store your results. In the command below, we created a directory and downloaded our job output to be stored in that directory."
      ]
    },
    {
      "cell_type": "code",
      "execution_count": null,
      "metadata": {
        "id": "Gy8xoLKQ15Oz",
        "tags": []
      },
      "outputs": [],
      "source": [
        "%%bash\n",
        "rm -rf custom-results && mkdir custom-results\n",
        "bacalhau get ${JOB_ID} --output-dir custom-results"
      ]
    },
    {
      "attachments": {},
      "cell_type": "markdown",
      "metadata": {},
      "source": [
        "### Viewing Job Output"
      ]
    },
    {
      "cell_type": "code",
      "execution_count": null,
      "metadata": {},
      "outputs": [],
      "source": [
        "import glob\n",
        "from IPython.display import Image, display\n",
        "for file in glob.glob('custom-results/combined_results/outputs/exp/*.jpg'):\n",
        "    display(Image(filename=file))"
      ]
    }
  ],
  "metadata": {
    "celltoolbar": "Tags",
    "colab": {
      "authorship_tag": "ABX9TyOSiaNGKHLxD7G03Al1KPJ4",
      "provenance": []
    },
    "kernelspec": {
      "display_name": "Python 3.9.7 64-bit ('3.9.7')",
      "language": "python",
      "name": "python3"
    },
    "language_info": {
      "codemirror_mode": {
        "name": "ipython",
        "version": 3
      },
      "file_extension": ".py",
      "mimetype": "text/x-python",
      "name": "python",
      "nbconvert_exporter": "python",
      "pygments_lexer": "ipython3",
      "version": "3.9.7"
    },
    "vscode": {
      "interpreter": {
        "hash": "21fd917facdca5c02b7d24e32528f1b4e6711465b0262edbfffba943391e1222"
      }
    }
  },
  "nbformat": 4,
  "nbformat_minor": 1
}
