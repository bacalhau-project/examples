{
  "cells": [
    {
      "cell_type": "raw",
      "metadata": {},
      "source": [
        "---\n",
        "sidebar_label: \"S3-Model-Inference\"\n",
        "sidebar_position: 3\n",
        "---"
      ]
    },
    {
      "attachments": {},
      "cell_type": "markdown",
      "metadata": {},
      "source": [
        "# Running Inference on a Model stored on S3\n"
      ]
    },
    {
      "attachments": {},
      "cell_type": "markdown",
      "metadata": {
        "id": "ssiy7N3eTxTF"
      },
      "source": [
        "\n",
        "[![Open In Colab](https://colab.research.google.com/assets/colab-badge.svg)](https://colab.research.google.com/github/bacalhau-project/examples/blob/main/model-inference/S3-Model-Inference/index.ipynb)\n",
        "[![Open In Binder](https://mybinder.org/badge.svg)](https://mybinder.org/v2/gh/bacalhau-project/examples/HEAD?labpath=model-inference/S3-Model-Inference/index.ipynb)\n",
        "[![stars - badge-generator](https://img.shields.io/github/stars/bacalhau-project/bacalhau?style=social)](https://github.com/bacalhau-project/bacalhau)\n",
        "\n",
        "In this example, we will demonstrate how to run inference on a model stored on Amazon S3. We will use a PyTorch model trained on the MNIST dataset."
      ]
    },
    {
      "cell_type": "markdown",
      "metadata": {
        "id": "hkHFuJWb1kG2"
      },
      "source": [
        "## Running Locally\n",
        "\n",
        "### Prerequisites\n",
        "\n",
        "- Python\n",
        "- PyTorch\n",
        "\n",
        "### Downloading the Datasets"
      ]
    },
    {
      "cell_type": "code",
      "execution_count": null,
      "metadata": {
        "id": "uqGPcSWyTtPT",
        "tags": [
          "skip-execution"
        ]
      },
      "outputs": [],
      "source": [
        "%%bash\n",
        "wget https://sagemaker-sample-files.s3.amazonaws.com/datasets/image/MNIST/model/pytorch-training-2020-11-21-22-02-56-203/model.tar.gz\n",
        "wget https://raw.githubusercontent.com/js-ts/mnist-test/main/digit.png"
      ]
    },
    {
      "cell_type": "markdown",
      "metadata": {
        "id": "BWhHOWYbT9Ak"
      },
      "source": [
        "### Creating the Inference Script\n",
        "\n",
        "This script is designed to load a pretrained PyTorch model for MNIST digit classification from a tar.gz file, extract it, and use the model to perform inference on a given input image."
      ]
    },
    {
      "cell_type": "code",
      "execution_count": null,
      "metadata": {
        "id": "lYcCBnkjT_sg",
        "tags": [
          "skip-execution"
        ]
      },
      "outputs": [],
      "source": [
        "%%writefile inference.py\n",
        "import torch\n",
        "import torchvision.transforms as transforms\n",
        "from PIL import Image\n",
        "from torch.autograd import Variable\n",
        "import argparse\n",
        "import tarfile\n",
        "\n",
        "class CustomModel(torch.nn.Module):\n",
        "    def __init__(self):\n",
        "        super(CustomModel, self).__init__()\n",
        "        self.conv1 = torch.nn.Conv2d(1, 10, 5)\n",
        "        self.conv2 = torch.nn.Conv2d(10, 20, 5)\n",
        "        self.fc1 = torch.nn.Linear(320, 50)\n",
        "        self.fc2 = torch.nn.Linear(50, 10)\n",
        "\n",
        "    def forward(self, x):\n",
        "        x = torch.relu(self.conv1(x))\n",
        "        x = torch.max_pool2d(x, 2)\n",
        "        x = torch.relu(self.conv2(x))\n",
        "        x = torch.max_pool2d(x, 2)\n",
        "        x = torch.flatten(x, 1)\n",
        "        x = torch.relu(self.fc1(x))\n",
        "        x = self.fc2(x)\n",
        "        output = torch.log_softmax(x, dim=1)\n",
        "        return output\n",
        "\n",
        "def extract_tar_gz(file_path, output_dir):\n",
        "    with tarfile.open(file_path, 'r:gz') as tar:\n",
        "        tar.extractall(path=output_dir)\n",
        "\n",
        "# Parse command-line arguments\n",
        "parser = argparse.ArgumentParser()\n",
        "parser.add_argument('--tar_gz_file_path', type=str, required=True, help='Path to the tar.gz file')\n",
        "parser.add_argument('--output_directory', type=str, required=True, help='Output directory to extract the tar.gz file')\n",
        "parser.add_argument('--image_path', type=str, required=True, help='Path to the input image file')\n",
        "args = parser.parse_args()\n",
        "\n",
        "# Extract the tar.gz file\n",
        "tar_gz_file_path = args.tar_gz_file_path\n",
        "output_directory = args.output_directory\n",
        "extract_tar_gz(tar_gz_file_path, output_directory)\n",
        "\n",
        "# Load the model\n",
        "model_path = f\"{output_directory}/model.pth\"\n",
        "model = CustomModel()\n",
        "model.load_state_dict(torch.load(model_path, map_location=torch.device(\"cpu\")))\n",
        "model.eval()\n",
        "\n",
        "# Transformations for the MNIST dataset\n",
        "transform = transforms.Compose([\n",
        "    transforms.Resize((28, 28)),\n",
        "    transforms.Grayscale(num_output_channels=1),\n",
        "    transforms.ToTensor(),\n",
        "    transforms.Normalize((0.1307,), (0.3081,)),\n",
        "])\n",
        "\n",
        "# Function to run inference on an image\n",
        "def run_inference(image, model):\n",
        "    image_tensor = transform(image).unsqueeze(0)  # Apply transformations and add batch dimension\n",
        "    input = Variable(image_tensor)\n",
        "\n",
        "    # Perform inference\n",
        "    output = model(input)\n",
        "    _, predicted = torch.max(output.data, 1)\n",
        "    return predicted.item()\n",
        "\n",
        "# Example usage\n",
        "image_path = args.image_path\n",
        "image = Image.open(image_path)\n",
        "predicted_class = run_inference(image, model)\n",
        "print(f\"Predicted class: {predicted_class}\")\n"
      ]
    },
    {
      "cell_type": "markdown",
      "metadata": {
        "id": "6u2-btORUJYS"
      },
      "source": [
        "### Running the inference script\n",
        "\n",
        "To use this script, you need to provide the paths to the tar.gz file containing the pretrained model, the output directory where the model will be extracted, and the input image file for which you want to perform inference. The script will output the predicted digit (class) for the given input image."
      ]
    },
    {
      "cell_type": "code",
      "execution_count": null,
      "metadata": {
        "id": "jTFx2amVUMOn",
        "tags": [
          "skip-execution"
        ]
      },
      "outputs": [],
      "source": [
        "%%bash\n",
        "python inference.py --tar_gz_file_path ./model.tar.gz --output_directory ./model --image_path ./digit.png"
      ]
    },
    {
      "cell_type": "markdown",
      "metadata": {
        "id": "s9La-30JVDEo"
      },
      "source": [
        "## Running inference on bacalhau\n",
        "\n",
        "### Prerequisite\n",
        "\n",
        "To get started, you need to install the Bacalhau client, see more information [here](https://docs.bacalhau.org/getting-started/installation)"
      ]
    },
    {
      "cell_type": "code",
      "execution_count": null,
      "metadata": {
        "id": "_7P-o951kFjf",
        "tags": [
          "remove_cell",
          "skip-execution"
        ]
      },
      "outputs": [],
      "source": [
        "!command -v bacalhau >/dev/null 2>&1 || (export BACALHAU_INSTALL_DIR=.; curl -sL https://get.bacalhau.org/install.sh | bash)\n",
        "path=!echo $PATH\n",
        "pwd=!echo $PWD\n",
        "%env PATH={pwd[-1]}:{path[-1]}"
      ]
    },
    {
      "cell_type": "code",
      "execution_count": null,
      "metadata": {
        "id": "-_ujh8jKU_y6",
        "tags": [
          "skip-execution"
        ]
      },
      "outputs": [],
      "source": [
        "%%bash --out job_id\n",
        "bacalhau docker run \\\n",
        "--wait \\\n",
        "--id-only \\\n",
        "--timeout 3600 \\\n",
        "--wait-timeout-secs 3600 \\\n",
        "-w /inputs \\\n",
        "-i src=s3://sagemaker-sample-files/datasets/image/MNIST/model/pytorch-training-2020-11-21-22-02-56-203/model.tar.gz,dst=/model/,opt=region=us-east-1 \\\n",
        "-i git://github.com/js-ts/mnist-test.git \\\n",
        "pytorch/pytorch \\\n",
        " -- python /inputs/js-ts/mnist-test/inference.py --tar_gz_file_path /model/model.tar.gz --output_directory /model-pth --image_path /inputs/js-ts/mnist-test/image.png"
      ]
    },
    {
      "cell_type": "markdown",
      "metadata": {
        "id": "QXjiXzhMZltS"
      },
      "source": [
        "### Structure of the command\n",
        "\n",
        "---\n",
        "\n",
        "* `-w /inputs` Setting the current working directory at /inputs in the container\n",
        "\n",
        "* `-i src=s3://sagemaker-sample-files/datasets/image/MNIST/model/pytorch-training-2020-11-21-22-02-56-203/model.tar.gz,dst=/model/,opt=region=us-east-1`: Mounting the s3 bucket at the destination path provided \n",
        "`/model/` and specifying the region where the bucket is located `opt=region=us-east-1`\n",
        "\n",
        "* `-i git://github.com/js-ts/mnist-test.git`: Flag to mount the source code repo from GitHub. It would mount the repo at `/inputs/js-ts/mnist-test`\n",
        "in this case it also contains the test image.\n",
        "\n",
        "* `pytorch/pytorch`: The name of the Docker image.\n",
        "\n",
        "* `-- python /inputs/js-ts/mnist-test/inference.py --tar_gz_file_path /model/model.tar.gz --output_directory /model-pth --image_path /inputs/js-ts/mnist-test/image.png`: The command to run inference on the model.\n",
        "\n",
        "  - `/model/model.tar.gz` is the path to the model file.\n",
        "  \n",
        "  - `/model-pth` is the output directory for the model.\n",
        "  \n",
        "  - `/inputs/js-ts/mnist-test/image.png` is the path to the input image."
      ]
    },
    {
      "cell_type": "markdown",
      "metadata": {
        "id": "AXOvjdEghRoS"
      },
      "source": [
        "The job has been submitted and Bacalhau has printed out the related job id. We store that in an environment variable so that we can reuse it later on."
      ]
    },
    {
      "cell_type": "code",
      "execution_count": null,
      "metadata": {
        "colab": {
          "base_uri": "https://localhost:8080/"
        },
        "id": "-48r8Pg4hFk1",
        "outputId": "ad4451c0-5734-47f6-821a-58e042745dd1",
        "tags": [
          "remove_cell",
          "skip-execution"
        ]
      },
      "outputs": [],
      "source": [
        "%env JOB_ID={job_id}"
      ]
    },
    {
      "cell_type": "markdown",
      "metadata": {
        "id": "khSJSxIeq-Pb"
      },
      "source": [
        "### Viewing the output"
      ]
    },
    {
      "cell_type": "code",
      "execution_count": null,
      "metadata": {
        "colab": {
          "base_uri": "https://localhost:8080/"
        },
        "id": "FFjvfkuvrExT",
        "outputId": "0dc009bf-fe4e-4e27-ff11-2c73c4692fc6",
        "tags": [
          "skip-execution"
        ]
      },
      "outputs": [],
      "source": [
        "%%bash\n",
        "bacalhau logs ${JOB_ID}"
      ]
    }
  ],
  "metadata": {
    "colab": {
      "provenance": []
    },
    "kernelspec": {
      "display_name": "Python 3",
      "name": "python3"
    },
    "language_info": {
      "codemirror_mode": {
        "name": "ipython",
        "version": 3
      },
      "file_extension": ".py",
      "mimetype": "text/x-python",
      "name": "python",
      "nbconvert_exporter": "python",
      "pygments_lexer": "ipython3",
      "version": "3.9.13"
    }
  },
  "nbformat": 4,
  "nbformat_minor": 0
}
