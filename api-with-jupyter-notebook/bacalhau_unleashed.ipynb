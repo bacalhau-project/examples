{
  "nbformat": 4,
  "nbformat_minor": 0,
  "metadata": {
    "colab": {
      "provenance": [],
      "toc_visible": true
    },
    "kernelspec": {
      "name": "python3",
      "display_name": "Python 3"
    },
    "language_info": {
      "name": "python"
    }
  },
  "cells": [
    {
      "cell_type": "markdown",
      "source": [
        "# Bacalhau Unleashed - the 1.4.0 API"
      ],
      "metadata": {
        "id": "tolELBpPpNHj"
      }
    },
    {
      "cell_type": "markdown",
      "source": [
        "## Get node info from API\n"
      ],
      "metadata": {
        "id": "G44G1dIHc0LV"
      }
    },
    {
      "cell_type": "markdown",
      "source": [
        "A Baclahau network is made up of [Nodes](https://docs.bacalhau.org/getting-started/architecture): Compute Nodes and Requester Nodes. Understanding how these nodes are related to one another is super-helpful in helping us conceptualise the nature of Distributed Computing networks, and we can get this information from the `/api/v1/orchestrator/nodes` endpoint.\n",
        "\n",
        "First, let's install the dependencies we'll need for this network."
      ],
      "metadata": {
        "id": "TjWNLlka0qmX"
      }
    },
    {
      "cell_type": "code",
      "source": [
        "!pip install networkx\n",
        "!pip install matplotlib"
      ],
      "metadata": {
        "colab": {
          "base_uri": "https://localhost:8080/"
        },
        "id": "pktOGVDCyGZL",
        "outputId": "27c15490-b517-44d3-8ae3-b0c0837eeeb2",
        "collapsed": true
      },
      "execution_count": 1,
      "outputs": [
        {
          "output_type": "stream",
          "name": "stdout",
          "text": [
            "Requirement already satisfied: networkx in /usr/local/lib/python3.10/dist-packages (3.3)\n",
            "Requirement already satisfied: matplotlib in /usr/local/lib/python3.10/dist-packages (3.7.1)\n",
            "Requirement already satisfied: contourpy>=1.0.1 in /usr/local/lib/python3.10/dist-packages (from matplotlib) (1.2.1)\n",
            "Requirement already satisfied: cycler>=0.10 in /usr/local/lib/python3.10/dist-packages (from matplotlib) (0.12.1)\n",
            "Requirement already satisfied: fonttools>=4.22.0 in /usr/local/lib/python3.10/dist-packages (from matplotlib) (4.53.0)\n",
            "Requirement already satisfied: kiwisolver>=1.0.1 in /usr/local/lib/python3.10/dist-packages (from matplotlib) (1.4.5)\n",
            "Requirement already satisfied: numpy>=1.20 in /usr/local/lib/python3.10/dist-packages (from matplotlib) (1.25.2)\n",
            "Requirement already satisfied: packaging>=20.0 in /usr/local/lib/python3.10/dist-packages (from matplotlib) (24.1)\n",
            "Requirement already satisfied: pillow>=6.2.0 in /usr/local/lib/python3.10/dist-packages (from matplotlib) (9.4.0)\n",
            "Requirement already satisfied: pyparsing>=2.3.1 in /usr/local/lib/python3.10/dist-packages (from matplotlib) (3.1.2)\n",
            "Requirement already satisfied: python-dateutil>=2.7 in /usr/local/lib/python3.10/dist-packages (from matplotlib) (2.8.2)\n",
            "Requirement already satisfied: six>=1.5 in /usr/local/lib/python3.10/dist-packages (from python-dateutil>=2.7->matplotlib) (1.16.0)\n"
          ]
        }
      ]
    },
    {
      "cell_type": "markdown",
      "source": [
        "In this cell, we're generating a HTTP request to the Requester node of a Bacalhau Network to get the information about all of the nodes connected to it.\n",
        "\n",
        "This data will return a JSON payload, which we can then use to visualise the structure of our network."
      ],
      "metadata": {
        "id": "XpvYnNHl1T1g"
      }
    },
    {
      "cell_type": "code",
      "source": [
        "import os\n",
        "import requests\n",
        "import pprint\n",
        "import json\n",
        "import time\n",
        "\n",
        "REQUESTER_HOST = \"bootstrap.production.bacalhau.org\"\n",
        "REQUESTER_API_PORT = \"1234\"\n",
        "\n",
        "try:\n",
        "  REQUESTER_HOST = os.environ[\"BACALHAU_API_HOST\"]\n",
        "  REQUESTER_API_PORT = os.environ['REQUESTER_API_PORT']\n",
        "except KeyError as e:\n",
        "    missing_var = e.args[0]\n",
        "    print(f\"Error: The environment variable '{missing_var}' is not set.\")\n",
        "except Exception as e:\n",
        "    print(f\"An unexpected error occurred: {e}\")\n",
        "\n",
        "REQUESTER_BASE_URL = f\"http://{REQUESTER_HOST}:{REQUESTER_API_PORT}\"\n",
        "\n",
        "getNodesInNetworkResp = requests.get(REQUESTER_BASE_URL + \"/api/v1/orchestrator/nodes\")\n",
        "nodes_data = None\n",
        "\n",
        "# Check if the request was successful\n",
        "if getNodesInNetworkResp.status_code == 200:\n",
        "    # Parse the JSON response\n",
        "    nodes_data = getNodesInNetworkResp.json()\n",
        "\n",
        "    # Pretty print the JSON data\n",
        "    pprint.pprint(nodes_data)\n",
        "else:\n",
        "    print(f\"Failed to retrieve nodes. HTTP Status code: {getNodesInNetworkResp.status_code}\")\n",
        "    print(f\"Response: {getNodesInNetworkResp.text}\")"
      ],
      "metadata": {
        "colab": {
          "base_uri": "https://localhost:8080/"
        },
        "collapsed": true,
        "id": "gwS42SjWem_l",
        "outputId": "5fdd72df-49c2-4bb6-ff6e-719dda04706a"
      },
      "execution_count": 14,
      "outputs": [
        {
          "output_type": "stream",
          "name": "stdout",
          "text": [
            "Error: The environment variable 'BACALHAU_API_HOST' is not set.\n",
            "{'NextToken': '',\n",
            " 'Nodes': [{'Connection': 'CONNECTED',\n",
            "            'Info': {'BacalhauVersion': {'BuildDate': '0001-01-01T00:00:00Z',\n",
            "                                         'GOARCH': '',\n",
            "                                         'GOOS': '',\n",
            "                                         'GitCommit': '',\n",
            "                                         'GitVersion': ''},\n",
            "                     'ComputeNodeInfo': {'AvailableCapacity': {'CPU': 12.8,\n",
            "                                                               'Disk': 1676877044121,\n",
            "                                                               'Memory': 53930662297},\n",
            "                                         'EnqueuedExecutions': 0,\n",
            "                                         'ExecutionEngines': ['wasm', 'docker'],\n",
            "                                         'MaxCapacity': {'CPU': 12.8,\n",
            "                                                         'Disk': 1676877044121,\n",
            "                                                         'Memory': 53930662297},\n",
            "                                         'MaxJobRequirements': {'CPU': 12.8,\n",
            "                                                                'Disk': 1676877044121,\n",
            "                                                                'Memory': 53930662297},\n",
            "                                         'Publishers': ['noop',\n",
            "                                                        's3',\n",
            "                                                        'local',\n",
            "                                                        'ipfs'],\n",
            "                                         'QueueCapacity': {},\n",
            "                                         'RunningExecutions': 0,\n",
            "                                         'StorageSources': ['inline',\n",
            "                                                            's3',\n",
            "                                                            'ipfs',\n",
            "                                                            'urldownload']},\n",
            "                     'Labels': {'Architecture': 'amd64',\n",
            "                                'Operating-System': 'linux',\n",
            "                                'owner': 'bacalhau'},\n",
            "                     'NodeID': 'QmPLPUUjaVE3wQNSSkxmYoaBPHVAWdjBjDYmMkWvtMZxAf',\n",
            "                     'NodeType': 'Compute'},\n",
            "            'Membership': 'APPROVED'},\n",
            "           {'Connection': 'CONNECTED',\n",
            "            'Info': {'BacalhauVersion': {'BuildDate': '0001-01-01T00:00:00Z',\n",
            "                                         'GOARCH': '',\n",
            "                                         'GOOS': '',\n",
            "                                         'GitCommit': '',\n",
            "                                         'GitVersion': ''},\n",
            "                     'ComputeNodeInfo': {'AvailableCapacity': {'CPU': 12.8,\n",
            "                                                               'Disk': 1572959371264,\n",
            "                                                               'Memory': 53930655744},\n",
            "                                         'EnqueuedExecutions': 0,\n",
            "                                         'ExecutionEngines': ['docker', 'wasm'],\n",
            "                                         'MaxCapacity': {'CPU': 12.8,\n",
            "                                                         'Disk': 1572959371264,\n",
            "                                                         'Memory': 53930655744},\n",
            "                                         'MaxJobRequirements': {'CPU': 12.8,\n",
            "                                                                'Disk': 1572959371264,\n",
            "                                                                'Memory': 53930655744},\n",
            "                                         'Publishers': ['local',\n",
            "                                                        'ipfs',\n",
            "                                                        'noop',\n",
            "                                                        's3'],\n",
            "                                         'QueueCapacity': {},\n",
            "                                         'RunningExecutions': 0,\n",
            "                                         'StorageSources': ['urldownload',\n",
            "                                                            'inline',\n",
            "                                                            's3',\n",
            "                                                            'ipfs']},\n",
            "                     'Labels': {'Architecture': 'amd64',\n",
            "                                'Operating-System': 'linux',\n",
            "                                'owner': 'bacalhau'},\n",
            "                     'NodeID': 'QmSD38wHdeoLrfysEejQnqpmNx4iUPh83Dh4vfYRHML9aC',\n",
            "                     'NodeType': 'Compute'},\n",
            "            'Membership': 'APPROVED'},\n",
            "           {'Connection': 'CONNECTED',\n",
            "            'Info': {'BacalhauVersion': {'BuildDate': '0001-01-01T00:00:00Z',\n",
            "                                         'GOARCH': '',\n",
            "                                         'GOOS': '',\n",
            "                                         'GitCommit': '',\n",
            "                                         'GitVersion': ''},\n",
            "                     'ComputeNodeInfo': {'AvailableCapacity': {'CPU': 12.8,\n",
            "                                                               'Disk': 1670775134617,\n",
            "                                                               'Memory': 53930655744},\n",
            "                                         'EnqueuedExecutions': 0,\n",
            "                                         'ExecutionEngines': ['docker', 'wasm'],\n",
            "                                         'MaxCapacity': {'CPU': 12.8,\n",
            "                                                         'Disk': 1670775134617,\n",
            "                                                         'Memory': 53930655744},\n",
            "                                         'MaxJobRequirements': {'CPU': 12.8,\n",
            "                                                                'Disk': 1670775134617,\n",
            "                                                                'Memory': 53930655744},\n",
            "                                         'Publishers': ['local',\n",
            "                                                        'ipfs',\n",
            "                                                        'noop',\n",
            "                                                        's3'],\n",
            "                                         'QueueCapacity': {},\n",
            "                                         'RunningExecutions': 0,\n",
            "                                         'StorageSources': ['urldownload',\n",
            "                                                            'inline',\n",
            "                                                            's3',\n",
            "                                                            'ipfs']},\n",
            "                     'Labels': {'Architecture': 'amd64',\n",
            "                                'Operating-System': 'linux',\n",
            "                                'owner': 'bacalhau'},\n",
            "                     'NodeID': 'QmbxGSsM6saCTyKkiWSxhJCt6Fgj7M9cns1vzYtfDbB5Ws',\n",
            "                     'NodeType': 'Compute'},\n",
            "            'Membership': 'APPROVED'},\n",
            "           {'Connection': 'DISCONNECTED',\n",
            "            'Info': {'BacalhauVersion': {'BuildDate': '0001-01-01T00:00:00Z',\n",
            "                                         'GOARCH': '',\n",
            "                                         'GOOS': '',\n",
            "                                         'GitCommit': '',\n",
            "                                         'GitVersion': ''},\n",
            "                     'ComputeNodeInfo': {'AvailableCapacity': {'CPU': 0.5,\n",
            "                                                               'Disk': 44906538598,\n",
            "                                                               'Memory': 13743895347},\n",
            "                                         'EnqueuedExecutions': 0,\n",
            "                                         'ExecutionEngines': ['wasm', 'docker'],\n",
            "                                         'MaxCapacity': {'CPU': 0.5,\n",
            "                                                         'Disk': 44906538598,\n",
            "                                                         'Memory': 13743895347},\n",
            "                                         'MaxJobRequirements': {'CPU': 0.5,\n",
            "                                                                'Disk': 44906538598,\n",
            "                                                                'Memory': 13743895347},\n",
            "                                         'Publishers': ['noop', 's3', 'local'],\n",
            "                                         'QueueCapacity': {},\n",
            "                                         'RunningExecutions': 0,\n",
            "                                         'StorageSources': ['urldownload',\n",
            "                                                            'inline',\n",
            "                                                            's3']},\n",
            "                     'Labels': {'Architecture': 'arm64',\n",
            "                                'Operating-System': 'darwin',\n",
            "                                'name': 'walid'},\n",
            "                     'NodeID': 'n-ca26aab1-df9a-418e-a7fe-2f49f3a69589',\n",
            "                     'NodeType': 'Compute'},\n",
            "            'Membership': 'APPROVED'}]}\n"
          ]
        }
      ]
    },
    {
      "cell_type": "markdown",
      "source": [
        "## Render Network"
      ],
      "metadata": {
        "id": "NhZ6ODEZx8hE"
      }
    },
    {
      "cell_type": "markdown",
      "source": [
        "Now that we have the information on our network structure, we can write use `matplotlib` and `networkx` to visualise it."
      ],
      "metadata": {
        "id": "amW-SD2v1o3E"
      }
    },
    {
      "cell_type": "code",
      "source": [
        "import matplotlib.pyplot as plt\n",
        "import networkx as nx\n",
        "\n",
        "G = nx.Graph()\n",
        "\n",
        "# Function to truncate NodeID to only show up to the second hyphen\n",
        "def truncate_node_id(node_id):\n",
        "    parts = node_id.split('-')\n",
        "    return '-'.join(parts[:2]) if len(parts) > 3 else node_id\n",
        "\n",
        "# Find the requester node\n",
        "requester_node = None\n",
        "for node in nodes_data['Nodes']:\n",
        "    if node['Info']['NodeType'] == 'Requester':\n",
        "        requester_node = truncate_node_id(node['Info']['NodeID'])\n",
        "        break\n",
        "\n",
        "if requester_node is None:\n",
        "    requester_node = 'Requester Node'  # Fallback in case no requester node is found\n",
        "G.add_node(requester_node, label=requester_node)\n",
        "\n",
        "# Add the connected nodes\n",
        "for node in nodes_data['Nodes']:\n",
        "    if node['Connection'] == 'CONNECTED':\n",
        "        truncated_node_id = truncate_node_id(node['Info']['NodeID'])\n",
        "        G.add_node(truncated_node_id, label=truncated_node_id)\n",
        "        G.add_edge(requester_node, truncated_node_id)\n",
        "\n",
        "# Plot the graph\n",
        "plt.figure(figsize=(12, 8))\n",
        "pos = nx.spring_layout(G)  # positions for all nodes\n",
        "labels = nx.get_node_attributes(G, 'label')\n",
        "\n",
        "# Draw the nodes with customized colors and sizes\n",
        "node_colors = ['orange' if node == requester_node else 'skyblue' for node in G.nodes()]\n",
        "node_sizes = [1000 if node == requester_node else 750 for node in G.nodes()]  # Reduce size by 50%\n",
        "\n",
        "nx.draw(G, pos, labels=labels, with_labels=True, node_size=node_sizes, node_color=node_colors, font_size=10, font_weight='bold')\n",
        "plt.title('Connected Nodes to the Requester Node')\n",
        "plt.show()"
      ],
      "metadata": {
        "colab": {
          "base_uri": "https://localhost:8080/",
          "height": 859
        },
        "id": "zaNeIG64x8MZ",
        "outputId": "7607043d-2353-447c-f7ff-d28a142b07ba"
      },
      "execution_count": 15,
      "outputs": [
        {
          "output_type": "display_data",
          "data": {
            "text/plain": [
              "<Figure size 1200x800 with 1 Axes>"
            ],
            "image/png": "[encoded data removed]"
          },
          "metadata": {}
        }
      ]
    },
    {
      "cell_type": "markdown",
      "source": [
        "# Creating a Job"
      ],
      "metadata": {
        "id": "gdgejljhf9Cz"
      }
    },
    {
      "cell_type": "markdown",
      "source": [
        "Creating a [Job](https://docs.bacalhau.org/references/jobs/task/job) is simple. We can create a JSON payload which describes the Job, it's requirements, and the tasks it must complete for dispatching to the Bacalhau network.\n",
        "\n",
        "Once the Job is dispatched, we'll get a response from the Bacalhau network giving us a Job ID that we can use to retrieve further information on the state of our Job, and any output it may have generated."
      ],
      "metadata": {
        "id": "1xYhRq_l13i9"
      }
    },
    {
      "cell_type": "code",
      "source": [
        "import requests\n",
        "import pprint\n",
        "import json\n",
        "\n",
        "job = '''\n",
        "{\n",
        "  \"Job\": {\n",
        "    \"Name\": \"test-job\",\n",
        "    \"Type\": \"batch\",\n",
        "    \"Count\": 1,\n",
        "    \"Labels\": {\n",
        "      \"foo\": \"bar\",\n",
        "      \"env\": \"dev\"\n",
        "    },\n",
        "    \"Tasks\": [\n",
        "      {\n",
        "        \"Name\": \"task1\",\n",
        "        \"Engine\": {\n",
        "          \"Type\": \"docker\",\n",
        "          \"Params\": {\n",
        "            \"Image\": \"ubuntu:latest\",\n",
        "            \"Entrypoint\": [\n",
        "              \"echo\",\n",
        "              \"hello, world\"\n",
        "            ]\n",
        "          }\n",
        "        },\n",
        "        \"Publisher\": {\n",
        "          \"Type\": \"noop\"\n",
        "        }\n",
        "      }\n",
        "    ],\n",
        "    \"CreateTime\": 1234\n",
        "  }\n",
        "}\n",
        "'''\n",
        "\n",
        "createJobResp = requests.put(REQUESTER_BASE_URL + \"/api/v1/orchestrator/jobs\", json=json.loads(job))\n",
        "createJobRespData = None\n",
        "\n",
        "if createJobResp.status_code == 200:\n",
        "    # Parse the JSON response\n",
        "    createJobRespData = createJobResp.json()\n",
        "    pprint.pprint(createJobRespData)\n",
        "else:\n",
        "    print(f\"Failed to retrieve nodes. HTTP Status code: {createJobResp.status_code}\")\n",
        "    print(f\"Response: {createJobResp.text}\")"
      ],
      "metadata": {
        "colab": {
          "base_uri": "https://localhost:8080/"
        },
        "id": "pYTPeb5Kfghx",
        "outputId": "b7d076c8-73e9-4c3f-9236-b756b5922ea1"
      },
      "execution_count": 16,
      "outputs": [
        {
          "output_type": "stream",
          "name": "stdout",
          "text": [
            "{'EvaluationID': '851e4f04-2a6c-438f-88f7-b25e112d6fa2',\n",
            " 'JobID': 'j-aba20b3f-a8f2-436f-88b5-1beaf7d9bca4',\n",
            " 'Warnings': ['job create time is ignored when submitting a job']}\n"
          ]
        }
      ]
    },
    {
      "cell_type": "markdown",
      "source": [
        "## Get Job Results"
      ],
      "metadata": {
        "id": "E4oDj2Gwh4Xs"
      }
    },
    {
      "cell_type": "markdown",
      "source": [
        "Now that we’ve submitted a Job, we can get the results of that execution. And it’s super simple to do so! All we need is to pass the value of the JobID key that we received once we created our job to the `/api/v1/orchestrator/jobs/{job_id}/results` endpoint.\n"
      ],
      "metadata": {
        "id": "TDaH_2dw2mI4"
      }
    },
    {
      "cell_type": "code",
      "source": [
        "job_id = createJobRespData[\"JobID\"]\n",
        "\n",
        "pprint.pprint(job_id)\n",
        "\n",
        "createJobResp = requests.get(f\"{REQUESTER_BASE_URL}/api/v1/orchestrator/jobs/{job_id}/results\")\n",
        "\n",
        "if createJobResp.status_code == 200:\n",
        "    # Pretty print the JSON data\n",
        "    pprint.pprint(createJobResp.json())\n",
        "else:\n",
        "    print(f\"Failed to retrieve nodes. HTTP Status code: {createJobResp.status_code}\")\n",
        "    print(f\"Response: {createJobResp.text}\")"
      ],
      "metadata": {
        "colab": {
          "base_uri": "https://localhost:8080/"
        },
        "id": "ippw9e2bh3-a",
        "outputId": "3f4712d3-a165-41f9-b2e2-d7bb25c450da"
      },
      "execution_count": 17,
      "outputs": [
        {
          "output_type": "stream",
          "name": "stdout",
          "text": [
            "'j-aba20b3f-a8f2-436f-88b5-1beaf7d9bca4'\n",
            "{'Items': [], 'NextToken': ''}\n"
          ]
        }
      ]
    },
    {
      "cell_type": "markdown",
      "source": [
        "But wait! Where are our results? Well, when we created our job, we didn't specify a publisher to send our results to. This doesn't mean that we span one up for nothing, though. The output of each Job is still stored in our network, and we can retrieve those by accessing our Job `executions`."
      ],
      "metadata": {
        "id": "aFY_7Ddl2ulO"
      }
    },
    {
      "cell_type": "markdown",
      "source": [
        "## Get Execution Results of Job"
      ],
      "metadata": {
        "id": "zZm8G2vVkHb9"
      }
    },
    {
      "cell_type": "markdown",
      "source": [
        "With the `api/v1/orchestrator/jobs/{job_id}/executions` endpoint, we can get a list of all of the executions of our Job that have taken place so far!"
      ],
      "metadata": {
        "id": "NY-GmJlr226x"
      }
    },
    {
      "cell_type": "code",
      "source": [
        "import time\n",
        "time.sleep(5)\n",
        "getJobExecResp = requests.get(f\"{REQUESTER_BASE_URL}/api/v1/orchestrator/jobs/{job_id}/executions\")\n",
        "getJobExecRespData = None\n",
        "\n",
        "if getJobExecResp.status_code == 200:\n",
        "    # Pretty print the JSON data\n",
        "    pprint.pprint(getJobExecResp.json())\n",
        "    getJobExecRespData = getJobExecResp.json()\n",
        "\n",
        "    for item in getJobExecRespData.get(\"Items\", []):\n",
        "      print(f\"Execution ID: {item['ID']}\")\n",
        "\n",
        "      if item[\"RunOutput\"] != None:\n",
        "        print(\"Stdout:\")\n",
        "        print(item[\"RunOutput\"][\"Stdout\"])\n",
        "        print(\"-\" * 20)  # Separator for readability\n",
        "      else:\n",
        "        print(f\"No data returned at this point for execution {item['ID']}\")\n",
        "\n",
        "else:\n",
        "    print(f\"Failed to retrieve nodes. HTTP Status code: {createJobResp.status_code}\")\n",
        "    print(f\"Response: {createJobResp.text}\")\n"
      ],
      "metadata": {
        "colab": {
          "base_uri": "https://localhost:8080/"
        },
        "id": "Vuv8-wJdkKbd",
        "outputId": "74b17e74-ef6a-470b-fa0c-fcbe17192e76"
      },
      "execution_count": 18,
      "outputs": [
        {
          "output_type": "stream",
          "name": "stdout",
          "text": [
            "{'Items': [{'AllocatedResources': {'Tasks': {}},\n",
            "            'ComputeState': {'Message': 'Accepted job', 'StateType': 7},\n",
            "            'CreateTime': 1720199565754869770,\n",
            "            'DesiredState': {'Message': 'execution completed', 'StateType': 2},\n",
            "            'EvalID': '851e4f04-2a6c-438f-88f7-b25e112d6fa2',\n",
            "            'FollowupEvalID': '',\n",
            "            'ID': 'e-b7e4f88c-f1b9-45fa-b3b9-34f1287beb32',\n",
            "            'JobID': 'j-aba20b3f-a8f2-436f-88b5-1beaf7d9bca4',\n",
            "            'ModifyTime': 1720199566104519761,\n",
            "            'Name': '',\n",
            "            'Namespace': 'default',\n",
            "            'NextExecution': '',\n",
            "            'NodeID': 'QmbxGSsM6saCTyKkiWSxhJCt6Fgj7M9cns1vzYtfDbB5Ws',\n",
            "            'PreviousExecution': '',\n",
            "            'PublishedResult': {'Type': ''},\n",
            "            'Revision': 6,\n",
            "            'RunOutput': {'ErrorMsg': '',\n",
            "                          'ExitCode': 0,\n",
            "                          'StderrTruncated': False,\n",
            "                          'Stdout': 'hello, world\\n',\n",
            "                          'StdoutTruncated': False,\n",
            "                          'stderr': ''}}],\n",
            " 'NextToken': ''}\n",
            "Execution ID: e-b7e4f88c-f1b9-45fa-b3b9-34f1287beb32\n",
            "Stdout:\n",
            "hello, world\n",
            "\n",
            "--------------------\n"
          ]
        }
      ]
    }
  ]
}