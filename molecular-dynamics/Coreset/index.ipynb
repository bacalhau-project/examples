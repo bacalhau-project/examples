{
    "cells": [
        {
            "cell_type": "markdown",
            "metadata": {},
            "source": [
                "# Coresets On Bacalhau \n"
            ]
        },
        {
            "cell_type": "markdown",
            "metadata": {},
            "source": [
                "[![Open In Colab](https://colab.research.google.com/assets/colab-badge.svg)](https://colab.research.google.com/github/bacalhau-project/examples/blob/main/Coreset/BIDS/index.ipynb)\n",
                "[![Open In Binder](https://mybinder.org/badge.svg)](https://mybinder.org/v2/gh/bacalhau-project/examples/HEAD?labpath=miscellaneous/Coreset/index.ipynb)"
            ]
        },
        {
            "attachments": {},
            "cell_type": "markdown",
            "metadata": {
                "id": "d3gwaTxulZ30"
            },
            "source": [
                "[Coreset ](https://arxiv.org/abs/2011.09384)is a data subsetting method. Since the uncompressed datasets can get very large when compressed, it becomes much harder to train them as training time increases with the dataset size. To reduce the training time to save costs we use the coreset method the coreset method can also be applied to other datasets. In this case, we use the coreset method which can lead to a fast speed in solving the k-means problem among the big data with high accuracy in the meantime.\n",
                "\n",
                "We construct a small coreset for arbitrary shapes of numerical data with a decent time cost. The implementation was mainly based on the coreset construction algorithm that was proposed by Braverman et al. (SODA 2021)."
            ]
        },
        {
            "attachments": {},
            "cell_type": "markdown",
            "metadata": {
                "id": "CZOHqcrglexv"
            },
            "source": [
                "\n",
                "## Running Locally\n",
                "\n",
                "Clone the repo which contains the code\n"
            ]
        },
        {
            "cell_type": "code",
            "execution_count": null,
            "metadata": {
                "tags": [
                    "skip-execution"
                ]
            },
            "outputs": [],
            "source": [
                "%%bash\n",
                "git clone https://github.com/js-ts/Coreset"
            ]
        },
        {
            "cell_type": "markdown",
            "metadata": {
                "id": "YadAZJJIlolB"
            },
            "source": [
                "\n",
                "To download the dataset you should open Street Map, which is a public repository that aims to generate and distribute accessible geographic data for the whole world. Basically, it supplies detailed position information, including the longitude and latitude of the places around the world. \n",
                "\n",
                " The dataset is a osm.pbf (compressed format for .osm file), the file can be downloaded from [Geofabrik Download Server](https://download.geofabrik.de/) \n"
            ]
        },
        {
            "cell_type": "code",
            "execution_count": null,
            "metadata": {
                "tags": [
                    "skip-execution"
                ]
            },
            "outputs": [],
            "source": [
                "%%bash\n",
                "wget https://download.geofabrik.de/europe/liechtenstein-latest.osm.pbf -o liechtenstein-latest.osm.pbf"
            ]
        },
        {
            "cell_type": "markdown",
            "metadata": {
                "id": "j7-NHDoHl-vV"
            },
            "source": [
                "\n",
                "The following command is installing Linux dependencies:\n"
            ]
        },
        {
            "cell_type": "code",
            "execution_count": null,
            "metadata": {
                "tags": [
                    "skip-execution"
                ]
            },
            "outputs": [],
            "source": [
                "%%bash\n",
                "sudo apt-get -y update \\\n",
                "sudo apt-get -y install osmium-tool \\\n",
                "sudo apt update \\\n",
                "sudo apt-get -y install libpq-dev gdal-bin libgdal-dev libxml2-dev libxslt-dev"
            ]
        },
        {
            "cell_type": "markdown",
            "metadata": {
                "id": "mdGmpAzpmLrA"
            },
            "source": [
                "The following command is installing Python dependencies:\n"
            ]
        },
        {
            "cell_type": "code",
            "execution_count": null,
            "metadata": {
                "tags": [
                    "skip-execution"
                ]
            },
            "outputs": [],
            "source": [
                "%%bash\n",
                "pip3 install -r Coreset/requirements.txt"
            ]
        },
        {
            "cell_type": "markdown",
            "metadata": {
                "id": "k0WKc5bSmRfC"
            },
            "source": [
                "To run coreset locally, you need to convert from compressed pbf format to geojson format:"
            ]
        },
        {
            "cell_type": "code",
            "execution_count": null,
            "metadata": {
                "tags": [
                    "skip-execution"
                ]
            },
            "outputs": [],
            "source": [
                "%%bash\n",
                "osmium export liechtenstein-latest.osm.pbf -o liechtenstein-latest.geojson"
            ]
        },
        {
            "cell_type": "markdown",
            "metadata": {
                "id": "JY_IobynmZ4e"
            },
            "source": [
                "The following command is to run the python script to generate the coreset:"
            ]
        },
        {
            "cell_type": "code",
            "execution_count": null,
            "metadata": {
                "colab": {
                    "base_uri": "https://localhost:8080/"
                },
                "executionInfo": {
                    "elapsed": 11,
                    "status": "ok",
                    "timestamp": 1664707922138,
                    "user": {
                        "displayName": "Vedant Padwal",
                        "userId": "05534807475078682627"
                    },
                    "user_tz": -330
                },
                "id": "P-THiUUsmdnx",
                "outputId": "b900d93e-7d1f-4f04-ce3b-ef43e78d977b",
                "scrolled": true,
                "tags": [
                    "skip-execution"
                ]
            },
            "outputs": [],
            "source": [
                "%%bash\n",
                "python Coreset/python/coreset.py -f liechtenstein-latest.geojson"
            ]
        },
        {
            "attachments": {},
            "cell_type": "markdown",
            "metadata": {},
            "source": [
                "## Containerize Script using Docker\n",
                "\n",
                "To build your own docker container, create a `Dockerfile`, which contains instructions on how the image will be built, and what extra requirements will be included."
            ]
        },
        {
            "attachments": {},
            "cell_type": "markdown",
            "metadata": {
                "id": "nD7tGg4Fml91"
            },
            "source": [
                "```\n",
                "FROM python:3.8\n",
                "\n",
                "RUN apt-get -y update && apt-get -y install osmium-tool && apt update && apt-get -y install libpq-dev gdal-bin libgdal-dev libxml2-dev libxslt-dev\n",
                "\n",
                "ADD Coreset Coreset\n",
                "\n",
                "ADD monaco-latest.geojson .\n",
                "\n",
                "RUN cd Coreset && pip3 install -r requirements.txt\n",
                "```\n",
                "\n",
                "\n",
                "We will use the `python:3.8` image, and we will choose the src directory in the container as our work directory, we run the same commands for installing dependencies that we used locally, but we also add files and directories which are present on our local machine, we also run a test command, in the end, to check whether the script works\n",
                "\n",
                ":::info\n",
                "See more information on how to containerize your script/app [here](https://docs.docker.com/get-started/02_our_app/)\n",
                ":::\n",
                "\n",
                "\n",
                "### Build the container\n",
                "\n",
                "We will run `docker build` command to build the container;\n",
                "\n",
                "```\n",
                "docker build -t <hub-user>/<repo-name>:<tag> .\n",
                "```\n",
                "\n",
                "Before running the command replace;\n",
                "\n",
                "- **hub-user** with your docker hub username, If you don’t have a docker hub account [follow these instructions to create docker account](https://docs.docker.com/docker-id/), and use the username of the account you created\n",
                "\n",
                "- **repo-name** with the name of the container, you can name it anything you want\n",
                "\n",
                "- **tag** this is not required but you can use the latest tag\n",
                "\n",
                "In our case\n",
                "\n",
                "```bash\n",
                "docker build -t jsace/coreset\n",
                "```\n",
                "\n",
                "### Push the container\n",
                "\n",
                "Next, upload the image to the registry. This can be done by using the Docker hub username, repo name or tag.\n",
                "\n",
                "```\n",
                "docker push <hub-user>/<repo-name>:<tag>\n",
                "```\n",
                "\n",
                "In our case\n",
                "\n",
                "```bash\n",
                "docker push jsace/coreset\n",
                "```\n",
                "\n",
                "\n",
                "## Running a Bacalhau Job\n",
                "\n",
                "After the repo image has been pushed to docker hub, we can now use the container for running on Bacalhau. To submit a job, run the following Bacalhau command:\n",
                "\n",
                "```\n",
                "bacalhau docker run \\\n",
                "-v QmXuatKaWL24CwrBPC9PzmLW8NGjgvBVJfk6ZGCWUGZgCu:/input \\\n",
                "jsace/coreset \\\n",
                "-- /bin/bash -c 'osmium export input/liechtenstein-latest.osm.pbf -o liechtenstein-latest.geojson;\n",
                "python Coreset/python/coreset.py -f input/liechtenstein-latest.geojson -o outputs'\n",
                "```\n",
                "\n",
                "\n",
                "Backend: Docker backend here for running the job\n",
                "\n",
                "* `input/liechtenstein-latest.osm.pbf`: Upload the .osm.pbf file \n",
                "\n",
                "* `-v QmXuatKaWL24CwrBPC9PzmLW8NGjgvBVJfk6ZGCWUGZgCu:/inpu`: mount dataset to the folder inside the container so it can be used by the script\n",
                "\n",
                "* `jsace/coreset`:  the name and the tag of the docker image we are using\n",
                "\n",
                "\n",
                "The following command converts the osm.pbf dataset to geojson (the dataset is stored in the input volume folder):\n",
                "\n",
                "```\n",
                "osmium export input/.osm.pbf -o liechtenstein-latest.geojson\n",
                "```\n",
                "\n",
                "Let's run the script, we use flag `-f` to determine the path of the output geojson file from the step above.\n",
                "\n",
                "```\n",
                "python Coreset/python/coreset.py -f liechtenstein-latest.geojson -o outputs\n",
                "```\n",
                "\n",
                "We get the output in stdout\n",
                "\n",
                "Additional parameters: \n",
                "* `-k`: amount of initialized centers (default=5)\n",
                "\n",
                "* `-n`: size of coreset (default=50)\n",
                "\n",
                "* `-o`: the output folder"
            ]
        },
        {
            "attachments": {},
            "cell_type": "markdown",
            "metadata": {},
            "source": [
                "When a job is submitted, Bacalhau prints out the related `job_id`. We store that in an environment variable so that we can reuse it later on."
            ]
        },
        {
            "cell_type": "code",
            "execution_count": null,
            "metadata": {
                "tags": [
                    "skip-execution"
                ]
            },
            "outputs": [],
            "source": [
                "%%env JOB_ID={job_id}"
            ]
        },
        {
            "attachments": {},
            "cell_type": "markdown",
            "metadata": {
                "id": "UszrZGs4c4i9"
            },
            "source": [
                "\n",
                "## Checking the State of your Jobs\n",
                "\n",
                "- **Job status**: You can check the status of the job using `bacalhau list`. \n"
            ]
        },
        {
            "cell_type": "code",
            "execution_count": null,
            "metadata": {
                "tags": [
                    "skip-execution"
                ]
            },
            "outputs": [],
            "source": [
                "%%bash\n",
                "bacalhau list --id-filter ${JOB_ID} --wide"
            ]
        },
        {
            "attachments": {},
            "cell_type": "markdown",
            "metadata": {
                "id": "kFYpNA32c7t5"
            },
            "source": [
                "When it says `Published` or `Completed`, that means the job is done, and we can get the results.\n",
                "\n",
                "- **Job information**: You can find out more information about your job by using `bacalhau describe`."
            ]
        },
        {
            "cell_type": "code",
            "execution_count": null,
            "metadata": {
                "tags": [
                    "skip-execution"
                ]
            },
            "outputs": [],
            "source": [
                "%%bash\n",
                "bacalhau describe ${JOB_ID}"
            ]
        },
        {
            "attachments": {},
            "cell_type": "markdown",
            "metadata": {
                "id": "2I4DHnt0Vzua"
            },
            "source": [
                "- **Job download**: You can download your job results directly by using `bacalhau get`. Alternatively, you can choose to create a directory to store your results. In the command below, we created a directory and downloaded our job output to be stored in that directory."
            ]
        },
        {
            "cell_type": "code",
            "execution_count": null,
            "metadata": {
                "tags": [
                    "skip-execution"
                ]
            },
            "outputs": [],
            "source": [
                "%%bash\n",
                "rm -rf results && mkdir -p results\n",
                "bacalhau get $JOB_ID --output-dir results"
            ]
        },
        {
            "attachments": {},
            "cell_type": "markdown",
            "metadata": {
                "id": "nrZcHon2WOd-"
            },
            "source": [
                "## Viewing your Job Output\n",
                "\n",
                "Each job creates 3 subfolders: the **combined_results**,**per_shard files**, and the **raw** directory. To view the file, run the following command:"
            ]
        },
        {
            "cell_type": "code",
            "execution_count": null,
            "metadata": {
                "tags": [
                    "skip-execution"
                ]
            },
            "outputs": [],
            "source": [
                "%%bash\n",
                "ls results/"
            ]
        },
        {
            "cell_type": "markdown",
            "metadata": {
                "id": "50IMIv-OntcO"
            },
            "source": [
                "To view the output csv file run:"
            ]
        },
        {
            "cell_type": "code",
            "execution_count": null,
            "metadata": {
                "tags": [
                    "skip-execution"
                ]
            },
            "outputs": [],
            "source": [
                "%%bash\n",
                "cat results/combined_results/outputs/centers.csv | head -n 10"
            ]
        },
        {
            "cell_type": "code",
            "execution_count": null,
            "metadata": {
                "tags": [
                    "skip-execution"
                ]
            },
            "outputs": [],
            "source": [
                "%%bash\n",
                "cat results/combined_results/outputs/coreset-values-liechtenstein-latest.csv | head -n 10"
            ]
        },
        {
            "cell_type": "code",
            "execution_count": null,
            "metadata": {
                "tags": [
                    "skip-execution"
                ]
            },
            "outputs": [],
            "source": [
                "%%bash\n",
                "cat results/combined_results/outputs/coreset-weights-liechtenstein-latest.csv | head -n 10"
            ]
        },
        {
            "attachments": {},
            "cell_type": "markdown",
            "metadata": {
                "id": "fG5UUxQwoRQ9"
            },
            "source": [
                "\n",
                "#### Sources\n",
                "\n",
                "[1] [http://proceedings.mlr.press/v97/braverman19a/braverman19a.pdf](http://proceedings.mlr.press/v97/braverman19a/braverman19a.pdf)\n",
                "\n",
                "[2][https://aaltodoc.aalto.fi/bitstream/handle/123456789/108293/master_Wu_Xiaobo_2021.pdf?sequence=2](https://aaltodoc.aalto.fi/bitstream/handle/123456789/108293/master_Wu_Xiaobo_2021.pdf?sequence=2)\n"
            ]
        }
    ],
    "metadata": {
        "celltoolbar": "Tags",
        "colab": {
            "authorship_tag": "ABX9TyORLbHqRKfwM0WREoW1UtMV",
            "provenance": []
        },
        "kernelspec": {
            "display_name": "Python 3 (ipykernel)",
            "language": "python",
            "name": "python3"
        },
        "language_info": {
            "codemirror_mode": {
                "name": "ipython",
                "version": 3
            },
            "file_extension": ".py",
            "mimetype": "text/x-python",
            "name": "python",
            "nbconvert_exporter": "python",
            "pygments_lexer": "ipython3",
            "version": "3.10.6"
        },
        "vscode": {
            "interpreter": {
                "hash": "916dbcbb3f70747c44a77c7bcd40155683ae19c65e1c03b4aa3499c5328201f1"
            }
        }
    },
    "nbformat": 4,
    "nbformat_minor": 1
}
