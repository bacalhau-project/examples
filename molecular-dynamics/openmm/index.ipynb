{
 "cells": [
  {
   "cell_type": "raw",
   "metadata": {},
   "source": [
    "---\n",
    "sidebar_label: \"Simulation with OpenMM\"\n",
    "sidebar_position: 1\n",
    "---"
   ]
  },
  {
   "cell_type": "markdown",
   "metadata": {
    "tags": []
   },
   "source": [
    "# Molecular Simulation with OpenMM\n",
    "\n",
    "[![Open In Colab](https://colab.research.google.com/assets/colab-badge.svg)](https://colab.research.google.com/github/bacalhau-project/examples/blob/main/molecular-dynamics/openmm/index.ipynb)\n",
    "[![Open In Binder](https://mybinder.org/badge.svg)](https://mybinder.org/v2/gh/bacalhau-project/examples/HEAD?labpath=molecular-dynamics/openmm/index.ipynb)\n",
    "\n",
    "[OpenMM](https://github.com/openmm/openmm) is a toolkit for molecular simulation. Physic based libraries like OpenMM are then useful for refining the structure and exploring functional interactions with other molecules. It provides a combination of extreme flexibility (through custom forces and integrators), openness, and high performance (especially on recent GPUs) that make it truly unique among simulation codes.\n",
    "\n",
    "References:\n",
    "\n",
    "* https://github.com/openmm/openmm\n",
    "* https://github.com/Openzyme/openzyme (Docker scaffolding to run OpenMM)\n",
    "\n",
    "\n",
    "### Goal\n",
    "\n",
    "The goal of this notebook is to showcase how to containerize an OpenMM workload so that it can be executed on the Bacalhau network and to take advantage of the distributed storage & compute resources.\n",
    "\n",
    "### Prerequisites\n",
    "\n",
    "This example requires Docker. If you don't have Docker installed, you can install it from [here](https://docs.docker.com/install/). Docker commands will not work on hosted notebooks like Google Colab, but the Bacalhau commands will.\n",
    "\n",
    "Make sure you have the latest `bacalhau` client installed by following the [getting started instructions](../../../getting-started/installation)"
   ]
  },
  {
   "cell_type": "markdown",
   "metadata": {},
   "source": [
    "## Protein data\n",
    "\n",
    "We use a processed 2DRI dataset that represents the ribose binding protein in bacterial transport and chemotaxis. The source organism is the [Escherichia coli](https://en.wikipedia.org/wiki/Escherichia_coli) bacteria.\n",
    "You can find more details on this protein at the related [RCSB Protein Data Bank page](https://www.rcsb.org/structure/2dri).\n",
    "\n",
    "![image.png](./2dri-image.png)\n",
    "\n",
    "\n",
    "\n",
    "Protein data can be stored in a `.pdb` file, this is a human readable format.\n",
    "It provides for description and annotation of protein and nucleic acid structures including atomic coordinates, secondary structure assignments, as well as atomic connectivity.\n",
    "Please find more info about PDB format in [this article](https://www.cgl.ucsf.edu/chimera/docs/UsersGuide/tutorials/pdbintro.html).\n",
    "\n",
    "Let us sneak peak into the dataset by printing the first 10 lines of the file.\n",
    "Among other things, we can see it contains a number of ATOM records. These describe the coordinates of the atoms that are part of the protein."
   ]
  },
  {
   "cell_type": "code",
   "execution_count": null,
   "metadata": {},
   "outputs": [],
   "source": [
    "%%bash\n",
    "head ./dataset/2dri-processed.pdb"
   ]
  },
  {
   "cell_type": "markdown",
   "metadata": {},
   "source": [
    "## Prepare & Run the task\n",
    "\n",
    "\n",
    "1. Upload the data to IPFS\n",
    "1. Create a docker image with the code and dependencies\n",
    "1. Run the docker image on the Bacalhau network using the IPFS data\n"
   ]
  },
  {
   "cell_type": "markdown",
   "metadata": {},
   "source": [
    "### Upload the Data to IPFS\n",
    "\n",
    "The first step is to upload the data to IPFS. The simplest way to do this is to use a third party service to \"pin\" data to the IPFS network, to ensure that the data exists and is available. To do this you need an account with a pinning service like [web3.storage](https://web3.storage/) or [Pinata](https://pinata.cloud/). Once registered you can use their UI or API or SDKs to upload files.\n",
    "\n",
    "For the purposes of this example I pinned the `2dri-processed.pdb` file to IPFS via [web3.storage](https://web3.storage/).\n",
    "\n",
    "This resulted in the IPFS CID of `bafybeig63whfqyuvwqqrp5456fl4anceju24ttyycexef3k5eurg5uvrq4`.\n",
    "\n",
    "<!-- TODO: Add link to notebook showing people how to upload data to IPFS -->"
   ]
  },
  {
   "cell_type": "markdown",
   "metadata": {},
   "source": [
    "### Create a Docker Image to Process the Data\n",
    "\n",
    "Next we will create the docker image that will process the data. The docker image will contain the code and dependencies needed to perform the conversion. This code originated with [wesfloyd](https://github.com/wesfloyd/openmm-test). Thank you Wes!\n",
    "\n",
    ":::tip\n",
    "For more information about working with custom containers, see the [custom containers example](../../workload-onboarding/custom-containers/).\n",
    ":::\n",
    "\n",
    "The key thing to watch out for here is the paths to the data. I'm using the default bacalhau output directory `/outputs` to write my data to. And the input data is mounted to the `/inputs` directory. But as you will see in a moment, web3.storage has added another `input` directory that we need to account for."
   ]
  },
  {
   "cell_type": "code",
   "execution_count": null,
   "metadata": {},
   "outputs": [],
   "source": [
    "%%writefile run_openmm_simulation.py\n",
    "import os\n",
    "from openmm import *\n",
    "from openmm.app import *\n",
    "from openmm.unit import *\n",
    "\n",
    "# Input Files\n",
    "input_path = '/inputs/2dri-processed.pdb'\n",
    "os.path.exists(input_path) # check if input file exists\n",
    "pdb = PDBFile(input_path)\n",
    "forcefield = ForceField('amber14-all.xml', 'amber14/tip3pfb.xml')\n",
    "\n",
    "# Output\n",
    "output_path = '/outputs/final_state.pdbx'\n",
    "if not os.path.exists(os.path.dirname(output_path)): # check if ouput dir exists\n",
    "    os.makedirs(os.path.dirname(output_path))\n",
    "\n",
    "# System Configuration\n",
    "\n",
    "nonbondedMethod = PME\n",
    "nonbondedCutoff = 1.0*nanometers\n",
    "ewaldErrorTolerance = 0.0005\n",
    "constraints = HBonds\n",
    "rigidWater = True\n",
    "constraintTolerance = 0.000001\n",
    "hydrogenMass = 1.5*amu\n",
    "\n",
    "# Integration Options\n",
    "\n",
    "dt = 0.002*picoseconds\n",
    "temperature = 310*kelvin\n",
    "friction = 1.0/picosecond\n",
    "pressure = 1.0*atmospheres\n",
    "barostatInterval = 25\n",
    "\n",
    "# Simulation Options\n",
    "\n",
    "steps = 10\n",
    "equilibrationSteps = 0\n",
    "#platform = Platform.getPlatformByName('CUDA')\n",
    "platform = Platform.getPlatformByName('CPU')\n",
    "#platformProperties = {'Precision': 'single'}\n",
    "platformProperties = {}\n",
    "dcdReporter = DCDReporter('trajectory.dcd', 1000)\n",
    "dataReporter = StateDataReporter('log.txt', 1000, totalSteps=steps,\n",
    "    step=True, time=True, speed=True, progress=True, elapsedTime=True, remainingTime=True, potentialEnergy=True, kineticEnergy=True, totalEnergy=True, temperature=True, volume=True, density=True, separator='\\t')\n",
    "checkpointReporter = CheckpointReporter('checkpoint.chk', 1000)\n",
    "\n",
    "# Prepare the Simulation\n",
    "\n",
    "print('Building system...')\n",
    "topology = pdb.topology\n",
    "positions = pdb.positions\n",
    "system = forcefield.createSystem(topology, nonbondedMethod=nonbondedMethod, nonbondedCutoff=nonbondedCutoff,\n",
    "    constraints=constraints, rigidWater=rigidWater, ewaldErrorTolerance=ewaldErrorTolerance, hydrogenMass=hydrogenMass)\n",
    "system.addForce(MonteCarloBarostat(pressure, temperature, barostatInterval))\n",
    "integrator = LangevinMiddleIntegrator(temperature, friction, dt)\n",
    "integrator.setConstraintTolerance(constraintTolerance)\n",
    "simulation = Simulation(topology, system, integrator, platform, platformProperties)\n",
    "simulation.context.setPositions(positions)\n",
    "\n",
    "# Minimize and Equilibrate\n",
    "\n",
    "print('Performing energy minimization...')\n",
    "simulation.minimizeEnergy()\n",
    "print('Equilibrating...')\n",
    "simulation.context.setVelocitiesToTemperature(temperature)\n",
    "simulation.step(equilibrationSteps)\n",
    "\n",
    "# Simulate\n",
    "\n",
    "print('Simulating...')\n",
    "simulation.reporters.append(dcdReporter)\n",
    "simulation.reporters.append(dataReporter)\n",
    "simulation.reporters.append(checkpointReporter)\n",
    "simulation.currentStep = 0\n",
    "simulation.step(steps)\n",
    "\n",
    "# Write file with final simulation state\n",
    "\n",
    "state = simulation.context.getState(getPositions=True, enforcePeriodicBox=system.usesPeriodicBoundaryConditions())\n",
    "with open(output_path, mode=\"w+\") as file:\n",
    "    PDBxFile.writeFile(simulation.topology, state.getPositions(), file)\n",
    "print('Simulation complete, file written to disk at: {}'.format(output_path))"
   ]
  },
  {
   "cell_type": "markdown",
   "metadata": {},
   "source": [
    "To run the script above all we need is a Python environment with the OpenMM library installed.\n",
    "We install that via the package manager [conda](https://docs.conda.io/projects/conda/en/latest/user-guide/index.html).\n",
    "Below is the resulting Dockerfile."
   ]
  },
  {
   "cell_type": "code",
   "execution_count": null,
   "metadata": {},
   "outputs": [],
   "source": [
    "%%writefile Dockerfile\n",
    "FROM conda/miniconda3\n",
    "\n",
    "RUN conda install -y -c conda-forge openmm\n",
    "\n",
    "WORKDIR /project\n",
    "\n",
    "COPY ./run_openmm_simulation.py /project\n",
    "\n",
    "LABEL org.opencontainers.image.source https://github.com/bacalhau-project/examples\n",
    "\n",
    "CMD [\"python\",\"run_openmm_simulation.py\"]"
   ]
  },
  {
   "cell_type": "code",
   "execution_count": null,
   "metadata": {
    "tags": [
     "skip-execution"
    ]
   },
   "outputs": [],
   "source": [
    "%%bash\n",
    "#docker buildx build --platform linux/amd64 --push -t ghcr.io/bacalhau-project/examples/openmm:0.3 ."
   ]
  },
  {
   "cell_type": "markdown",
   "metadata": {},
   "source": [
    "### Test the Container Locally\n",
    "\n",
    "Before we upload the container to the Bacalhau network, we should test it locally to make sure it works."
   ]
  },
  {
   "cell_type": "code",
   "execution_count": null,
   "metadata": {
    "tags": [
     "skip-execution"
    ]
   },
   "outputs": [],
   "source": [
    "%%bash\n",
    "docker run \\\n",
    "    -v $(pwd)/dataset:/inputs/ \\\n",
    "    -v $(pwd)/output:/output \\\n",
    "    ghcr.io/bacalhau-project/examples/openmm:0.3"
   ]
  },
  {
   "cell_type": "markdown",
   "metadata": {},
   "source": [
    "### Run a Bacalhau Job\n",
    "\n",
    "Now that we have the data in IPFS and the docker image pushed, we can run a job on the Bacalhau network.\n",
    "\n",
    "I find it useful to first run a simple test with a known working container to ensure the data is located in the place I expect, because some storage providers add their own opinions. E.g. web3.storage wraps the directory uploads in a top level directory."
   ]
  },
  {
   "cell_type": "code",
   "execution_count": null,
   "metadata": {},
   "outputs": [],
   "source": [
    "%%bash\n",
    "rm -rf stdout stderr volumes shards\n",
    "bacalhau docker run \\\n",
    "        --download \\\n",
    "        --inputs bafybeig63whfqyuvwqqrp5456fl4anceju24ttyycexef3k5eurg5uvrq4 \\\n",
    "        ubuntu -- ls /inputs"
   ]
  },
  {
   "cell_type": "markdown",
   "metadata": {},
   "source": [
    "Let's switch to our custom container image."
   ]
  },
  {
   "cell_type": "code",
   "execution_count": null,
   "metadata": {},
   "outputs": [],
   "source": [
    "%%bash\n",
    "rm -rf stdout stderr volumes shards\n",
    "bacalhau docker run \\\n",
    "    --inputs bafybeig63whfqyuvwqqrp5456fl4anceju24ttyycexef3k5eurg5uvrq4 \\\n",
    "    --download \\\n",
    "    ghcr.io/bacalhau-project/examples/openmm:0.3 -- ls -la /inputs/"
   ]
  },
  {
   "cell_type": "markdown",
   "metadata": {},
   "source": [
    "And finally let's run the full job. This time I will not download the data immediately, because the job takes a few minutes to complete. The commands are below, but you will need to wait until the job completes before they work."
   ]
  },
  {
   "cell_type": "code",
   "execution_count": null,
   "metadata": {},
   "outputs": [],
   "source": [
    "%%bash --out job_id\n",
    "bacalhau docker run \\\n",
    "    --inputs bafybeig63whfqyuvwqqrp5456fl4anceju24ttyycexef3k5eurg5uvrq4 \\\n",
    "    --wait \\\n",
    "    ghcr.io/bacalhau-project/examples/openmm:0.3 -- python run_openmm_simulation.py"
   ]
  },
  {
   "cell_type": "code",
   "execution_count": null,
   "metadata": {},
   "outputs": [],
   "source": [
    "%env JOB_ID={job_id}"
   ]
  },
  {
   "cell_type": "code",
   "execution_count": null,
   "metadata": {},
   "outputs": [],
   "source": [
    "%%bash\n",
    "bacalhau list --id-filter=${JOB_ID} --no-style"
   ]
  },
  {
   "cell_type": "markdown",
   "metadata": {},
   "source": [
    "### Get Results\n",
    "\n",
    "Now let's download and display the result from the results directory. We can use the `bacalhau get` command to download the results from the output data volume."
   ]
  },
  {
   "cell_type": "code",
   "execution_count": null,
   "metadata": {
    "tags": []
   },
   "outputs": [],
   "source": [
    "%%bash\n",
    "rm -rf stdout stderr volumes shards\n",
    "bacalhau get ${JOB_ID} # Download the results"
   ]
  },
  {
   "cell_type": "code",
   "execution_count": null,
   "metadata": {},
   "outputs": [],
   "source": [
    "%%bash\n",
    "ls -l volumes/outputs"
   ]
  },
  {
   "cell_type": "code",
   "execution_count": null,
   "metadata": {},
   "outputs": [],
   "source": []
  }
 ],
 "metadata": {
  "kernelspec": {
   "display_name": "Python",
   "language": "python",
   "name": "python3"
  },
  "language_info": {
   "codemirror_mode": {
    "name": "ipython",
    "version": 3
   },
   "file_extension": ".py",
   "mimetype": "text/x-python",
   "name": "python",
   "nbconvert_exporter": "python",
   "pygments_lexer": "ipython3",
   "version": "3.8.13"
  },
  "vscode": {
   "interpreter": {
    "hash": "aea7858cef9427785bc316c70b698395426554d73f09fcd521eda3719ce51728"
   }
  }
 },
 "nbformat": 4,
 "nbformat_minor": 4
}
