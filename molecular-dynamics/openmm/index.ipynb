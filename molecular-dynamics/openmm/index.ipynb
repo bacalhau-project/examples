{
  "cells": [
    {
      "cell_type": "raw",
      "metadata": {
        "tags": [
          "skip-execution"
        ]
      },
      "source": [
        "---\n",
        "sidebar_label: \"Simulation with OpenMM\"\n",
        "sidebar_position: 1\n",
        "---"
      ]
    },
    {
      "attachments": {},
      "cell_type": "markdown",
      "metadata": {
        "tags": [
          "skip-execution"
        ]
      },
      "source": [
        "# Molecular Simulation with OpenMM and Bacalhau \n",
        "\n",
        "[![Open In Colab](https://colab.research.google.com/assets/colab-badge.svg)](https://colab.research.google.com/github/bacalhau-project/examples/blob/main/molecular-dynamics/openmm/index.ipynb)\n",
        "[![Open In Binder](https://mybinder.org/badge.svg)](https://mybinder.org/v2/gh/bacalhau-project/examples/HEAD?labpath=molecular-dynamics/openmm/index.ipynb)\n",
        "\n",
        "In this tutorial example, we will showcase how to containerize an OpenMM workload so that it can be executed on the Bacalhau network and take advantage of the distributed storage & compute resources. [OpenMM](https://github.com/openmm/openmm) is a toolkit for molecular simulation. Physic based libraries like OpenMM are then useful for refining the structure and exploring functional interactions with other molecules. It provides a combination of extreme flexibility (through custom forces and integrators), openness, and high performance (especially on recent GPUs) that make it truly unique among simulation codes.\n",
        "\n",
        "\n",
        "## Prerequisite\n",
        "\n",
        "To get started, you need to install the Bacalhau client, see more information [here](https://docs.bacalhau.org/getting-started/installation)"
      ]
    },
    {
      "attachments": {},
      "cell_type": "markdown",
      "metadata": {
        "tags": [
          "skip-execution"
        ]
      },
      "source": [
        "## Protein data\n",
        "\n",
        "We use a processed 2DRI dataset that represents the ribose binding protein in bacterial transport and chemotaxis. The source organism is the [Escherichia coli](https://en.wikipedia.org/wiki/Escherichia_coli) bacteria.\n",
        "You can find more details on this protein at the related [RCSB Protein Data Bank page](https://www.rcsb.org/structure/2dri).\n",
        "\n",
        "![image.png](./2dri-image.png)\n",
        "\n",
        "Protein data can be stored in a `.pdb` file, this is a human readable format. It provides for description and annotation of protein and nucleic acid structures including atomic coordinates, secondary structure assignments, as well as atomic connectivity.\n",
        "See more information about PDB format [here](https://www.cgl.ucsf.edu/chimera/docs/UsersGuide/tutorials/pdbintro.html)."
      ]
    },
    {
      "attachments": {},
      "cell_type": "markdown",
      "metadata": {},
      "source": [
        "## Write the script\n",
        "Let us sneak peak into the dataset by printing the first 10 lines of the file.\n",
        "Among other things, we can see it contains a number of ATOM records. These describe the coordinates of the atoms that are part of the protein.\n",
        "\n",
        ":::tip\n",
        "To run the script above all we need is a Python environment with the [OpenMM library](http://docs.openmm.org/latest/userguide/application/01_getting_started.html) installed.\n",
        ":::"
      ]
    },
    {
      "cell_type": "code",
      "execution_count": null,
      "metadata": {},
      "outputs": [],
      "source": [
        "%%writefile run_openmm_simulation.py\n",
        "import os\n",
        "from openmm import *\n",
        "from openmm.app import *\n",
        "from openmm.unit import *\n",
        "\n",
        "# Input Files\n",
        "input_path = '/inputs/2dri-processed.pdb'\n",
        "os.path.exists(input_path) # check if input file exists\n",
        "pdb = PDBFile(input_path)\n",
        "forcefield = ForceField('amber14-all.xml', 'amber14/tip3pfb.xml')\n",
        "\n",
        "# Output\n",
        "output_path = '/outputs/final_state.pdbx'\n",
        "if not os.path.exists(os.path.dirname(output_path)): # check if ouput dir exists\n",
        "    os.makedirs(os.path.dirname(output_path))\n",
        "\n",
        "# System Configuration\n",
        "\n",
        "nonbondedMethod = PME\n",
        "nonbondedCutoff = 1.0*nanometers\n",
        "ewaldErrorTolerance = 0.0005\n",
        "constraints = HBonds\n",
        "rigidWater = True\n",
        "constraintTolerance = 0.000001\n",
        "hydrogenMass = 1.5*amu\n",
        "\n",
        "# Integration Options\n",
        "\n",
        "dt = 0.002*picoseconds\n",
        "temperature = 310*kelvin\n",
        "friction = 1.0/picosecond\n",
        "pressure = 1.0*atmospheres\n",
        "barostatInterval = 25\n",
        "\n",
        "# Simulation Options\n",
        "\n",
        "steps = 10\n",
        "equilibrationSteps = 0\n",
        "#platform = Platform.getPlatformByName('CUDA')\n",
        "platform = Platform.getPlatformByName('CPU')\n",
        "#platformProperties = {'Precision': 'single'}\n",
        "platformProperties = {}\n",
        "dcdReporter = DCDReporter('trajectory.dcd', 1000)\n",
        "dataReporter = StateDataReporter('log.txt', 1000, totalSteps=steps,\n",
        "    step=True, time=True, speed=True, progress=True, elapsedTime=True, remainingTime=True, potentialEnergy=True, kineticEnergy=True, totalEnergy=True, temperature=True, volume=True, density=True, separator='\\t')\n",
        "checkpointReporter = CheckpointReporter('checkpoint.chk', 1000)\n",
        "\n",
        "# Prepare the Simulation\n",
        "\n",
        "print('Building system...')\n",
        "topology = pdb.topology\n",
        "positions = pdb.positions\n",
        "system = forcefield.createSystem(topology, nonbondedMethod=nonbondedMethod, nonbondedCutoff=nonbondedCutoff,\n",
        "    constraints=constraints, rigidWater=rigidWater, ewaldErrorTolerance=ewaldErrorTolerance, hydrogenMass=hydrogenMass)\n",
        "system.addForce(MonteCarloBarostat(pressure, temperature, barostatInterval))\n",
        "integrator = LangevinMiddleIntegrator(temperature, friction, dt)\n",
        "integrator.setConstraintTolerance(constraintTolerance)\n",
        "simulation = Simulation(topology, system, integrator, platform, platformProperties)\n",
        "simulation.context.setPositions(positions)\n",
        "\n",
        "# Minimize and Equilibrate\n",
        "\n",
        "print('Performing energy minimization...')\n",
        "simulation.minimizeEnergy()\n",
        "print('Equilibrating...')\n",
        "simulation.context.setVelocitiesToTemperature(temperature)\n",
        "simulation.step(equilibrationSteps)\n",
        "\n",
        "# Simulate\n",
        "\n",
        "print('Simulating...')\n",
        "simulation.reporters.append(dcdReporter)\n",
        "simulation.reporters.append(dataReporter)\n",
        "simulation.reporters.append(checkpointReporter)\n",
        "simulation.currentStep = 0\n",
        "simulation.step(steps)\n",
        "\n",
        "# Write file with final simulation state\n",
        "\n",
        "state = simulation.context.getState(getPositions=True, enforcePeriodicBox=system.usesPeriodicBoundaryConditions())\n",
        "with open(output_path, mode=\"w+\") as file:\n",
        "    PDBxFile.writeFile(simulation.topology, state.getPositions(), file)\n",
        "print('Simulation complete, file written to disk at: {}'.format(output_path))"
      ]
    },
    {
      "cell_type": "code",
      "execution_count": 8,
      "metadata": {
        "tags": [
          "skip-execution"
        ]
      },
      "outputs": [
        {
          "name": "stdout",
          "output_type": "stream",
          "text": [
            "REMARK   1 CREATED WITH OPENMM 7.6, 2022-07-12\n",
            "CRYST1   81.309   81.309   81.309  90.00  90.00  90.00 P 1           1 \n",
            "ATOM      1  N   LYS A   1      64.731   9.461  59.430  1.00  0.00           N  \n",
            "ATOM      2  CA  LYS A   1      63.588  10.286  58.927  1.00  0.00           C  \n",
            "ATOM      3  HA  LYS A   1      62.707   9.486  59.038  1.00  0.00           H  \n",
            "ATOM      4  C   LYS A   1      63.790  10.671  57.468  1.00  0.00           C  \n",
            "ATOM      5  O   LYS A   1      64.887  11.089  57.078  1.00  0.00           O  \n",
            "ATOM      6  CB  LYS A   1      63.458  11.567  59.749  1.00  0.00           C  \n",
            "ATOM      7  HB2 LYS A   1      63.333  12.366  58.879  1.00  0.00           H  \n",
            "ATOM      8  HB3 LYS A   1      64.435  11.867  60.372  1.00  0.00           H  \n"
          ]
        }
      ],
      "source": [
        "%%bash\n",
        "head ./dataset/2dri-processed.pdb"
      ]
    },
    {
      "cell_type": "markdown",
      "metadata": {
        "tags": [
          "skip-execution"
        ]
      },
      "source": [
        "## Prepare & Run the task\n",
        "\n",
        "\n",
        "1. Upload the data to IPFS\n",
        "1. Create a docker image with the code and dependencies\n",
        "1. Run the docker image on the Bacalhau network using the IPFS data\n"
      ]
    },
    {
      "attachments": {},
      "cell_type": "markdown",
      "metadata": {
        "tags": [
          "skip-execution"
        ]
      },
      "source": [
        "## Upload the Data to IPFS\n",
        "\n",
        "The simplest way to upload the data to IPFS is to use a third party service to \"pin\" data to the IPFS network, to ensure that the data exists and is available. To do this you need an account with a pinning service like [web3.storage](https://web3.storage/) or [Pinata](https://pinata.cloud/) or nft.storage . Once registered you can use their UI or API or SDKs to upload files."
      ]
    },
    {
      "attachments": {},
      "cell_type": "markdown",
      "metadata": {},
      "source": [
        "## Containerize Script using Docker\n",
        "\n",
        "To build your own docker container, create a `Dockerfile`, which contains instructions to build your image.\n",
        "\n",
        ":::tip\n",
        "For more information about working with custom containers, see the [custom containers example](https://docs.bacalhau.org/getting-started/docker-workload-onboarding).\n",
        ":::"
      ]
    },
    {
      "cell_type": "code",
      "execution_count": null,
      "metadata": {
        "tags": [
          "skip-execution"
        ]
      },
      "outputs": [],
      "source": [
        "%%writefile Dockerfile\n",
        "FROM conda/miniconda3\n",
        "\n",
        "RUN conda install -y -c conda-forge openmm\n",
        "\n",
        "WORKDIR /project\n",
        "\n",
        "COPY ./run_openmm_simulation.py /project\n",
        "\n",
        "LABEL org.opencontainers.image.source https://github.com/bacalhau-project/examples\n",
        "\n",
        "CMD [\"python\",\"run_openmm_simulation.py\"]"
      ]
    },
    {
      "attachments": {},
      "cell_type": "markdown",
      "metadata": {},
      "source": [
        "\n",
        "### Build the container\n",
        "\n",
        "We will run `docker build` command to build the container;\n",
        "\n",
        "```\n",
        "docker build -t <hub-user>/<repo-name>:<tag> .\n",
        "```\n",
        "\n",
        "Before running the command replace;\n",
        "\n",
        "- **hub-user** with your docker hub username, If you don’t have a docker hub account [follow these instructions to create docker account](https://docs.docker.com/docker-id/), and use the username of the account you created\n",
        "\n",
        "- **repo-name** with the name of the container, you can name it anything you want\n",
        "\n",
        "- **tag** this is not required but you can use the latest tag\n",
        "\n",
        "In our case, this will be:\n",
        "\n",
        "```bash\n",
        "docker buildx build --platform linux/amd64 --push -t ghcr.io/bacalhau-project/examples/openmm:0.3 .\n",
        "```\n",
        "\n",
        "### Push the container\n",
        "\n",
        "Next, upload the image to the registry. This can be done by using the Docker hub username, repo name or tag.\n",
        "\n",
        "```\n",
        "docker push <hub-user>/<repo-name>:<tag>\n",
        "```"
      ]
    },
    {
      "attachments": {},
      "cell_type": "markdown",
      "metadata": {
        "tags": [
          "skip-execution"
        ]
      },
      "source": [
        "### Run a Bacalhau Job\n",
        "\n",
        "Now that we have the data in IPFS and the docker image pushed, we can run a job on the Bacalhau network."
      ]
    },
    {
      "cell_type": "code",
      "execution_count": null,
      "metadata": {
        "tags": [
          "skip-execution"
        ]
      },
      "outputs": [],
      "source": [
        "%%bash --out job_id\n",
        "bacalhau docker run \\\n",
        "--inputs bafybeig63whfqyuvwqqrp5456fl4anceju24ttyycexef3k5eurg5uvrq4 \\\n",
        "--wait \\\n",
        "--id-only \\\n",
        "ghcr.io/bacalhau-project/examples/openmm:0.3 -- python run_openmm_simulation.py"
      ]
    },
    {
      "attachments": {},
      "cell_type": "markdown",
      "metadata": {
        "tags": [
          "skip-execution"
        ]
      },
      "source": [
        "When a job is sumbitted, Bacalhau prints out the related `job_id`. We store that in an environment variable so that we can reuse it later on."
      ]
    },
    {
      "cell_type": "code",
      "execution_count": null,
      "metadata": {
        "tags": [
          "skip-execution"
        ]
      },
      "outputs": [],
      "source": [
        "%%env JOB_ID={job_id}"
      ]
    },
    {
      "attachments": {},
      "cell_type": "markdown",
      "metadata": {},
      "source": [
        "## Checking the State of your Jobs\n",
        "\n",
        "- **Job status**: You can check the status of the job using `bacalhau list`. "
      ]
    },
    {
      "cell_type": "code",
      "execution_count": null,
      "metadata": {
        "tags": [
          "skip-execution"
        ]
      },
      "outputs": [],
      "source": [
        "%%bash\n",
        "bacalhau list --id-filter=${JOB_ID} --no-style"
      ]
    },
    {
      "attachments": {},
      "cell_type": "markdown",
      "metadata": {},
      "source": [
        "When it says `Completed`, that means the job is done, and we can get the results.\n",
        "\n",
        "- **Job information**: You can find out more information about your job by using `bacalhau describe`."
      ]
    },
    {
      "cell_type": "code",
      "execution_count": null,
      "metadata": {},
      "outputs": [],
      "source": [
        "%%bash\n",
        "bacalhau describe ${JOB_ID}"
      ]
    },
    {
      "attachments": {},
      "cell_type": "markdown",
      "metadata": {},
      "source": [
        "- **Job download**: You can download your job results directly by using `bacalhau get`. Alternatively, you can choose to create a directory to store your results. In the command below, we created a directory and downloaded our job output to be stored in that directory."
      ]
    },
    {
      "cell_type": "code",
      "execution_count": null,
      "metadata": {
        "tags": [
          "skip-execution"
        ]
      },
      "outputs": [],
      "source": [
        "%%bash\n",
        "rm -rf results && mkdir -p results\n",
        "bacalhau get ${JOB_ID} # Download the results"
      ]
    },
    {
      "attachments": {},
      "cell_type": "markdown",
      "metadata": {},
      "source": [
        "After the download has finished you should see the following contents in results directory\n",
        "\n",
        "## Viewing your Job Output\n",
        "\n",
        "Each job creates 3 subfolders: the **combined_results**, **per_shard files**, and the **raw** directory. To view the file, run the following command:"
      ]
    },
    {
      "cell_type": "code",
      "execution_count": 19,
      "metadata": {
        "tags": [
          "skip-execution"
        ]
      },
      "outputs": [
        {
          "name": "stdout",
          "output_type": "stream",
          "text": [
            "total 6656\n",
            "-rw-r--r-- 1 phil staff 6578336 Oct 10 13:11 final_state.pdbx\n"
          ]
        }
      ],
      "source": [
        "%%bash\n",
        "ls -l results/combined_results/studout/"
      ]
    }
  ],
  "metadata": {
    "kernelspec": {
      "display_name": "Python 3",
      "language": "python",
      "name": "python3"
    },
    "language_info": {
      "codemirror_mode": {
        "name": "ipython",
        "version": 3
      },
      "file_extension": ".py",
      "mimetype": "text/x-python",
      "name": "python",
      "nbconvert_exporter": "python",
      "pygments_lexer": "ipython3",
      "version": "3.8.16 (default, Jan 10 2023, 15:23:34) \n[GCC 9.4.0]"
    },
    "vscode": {
      "interpreter": {
        "hash": "9ac03a0a6051494cc606d484d27d20fce22fb7b4d169f583271e11d5ba46a56e"
      }
    }
  },
  "nbformat": 4,
  "nbformat_minor": 4
}
