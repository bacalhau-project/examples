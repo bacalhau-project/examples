{
  "cells": [
    {
      "cell_type": "raw",
      "metadata": {},
      "source": [
        "---\n",
        "sidebar_label: \"Simulation with OpenMM\"\n",
        "sidebar_position: 1\n",
        "---"
      ]
    },
    {
      "cell_type": "markdown",
      "metadata": {
        "tags": []
      },
      "source": [
        "# Molecular Simulation with OpenMM\n",
        "\n",
        "[![Open In Colab](https://colab.research.google.com/assets/colab-badge.svg)](https://colab.research.google.com/github/bacalhau-project/examples/blob/main/molecular-dynamics/openmm/index.ipynb)\n",
        "[![Open In Binder](https://mybinder.org/badge.svg)](https://mybinder.org/v2/gh/bacalhau-project/examples/HEAD?labpath=molecular-dynamics/openmm/index.ipynb)\n",
        "\n",
        "[OpenMM](https://github.com/openmm/openmm) is a toolkit for molecular simulation. Physic based libraries like OpenMM are then useful for refining the structure and exploring functional interactions with other molecules. It provides a combination of extreme flexibility (through custom forces and integrators), openness, and high performance (especially on recent GPUs) that make it truly unique among simulation codes.\n",
        "\n",
        "References:\n",
        "\n",
        "* https://github.com/openmm/openmm\n",
        "* https://github.com/Openzyme/openzyme (Docker scaffolding to run OpenMM)\n",
        "\n",
        "\n",
        "### Goal\n",
        "\n",
        "The goal of this notebook is to showcase how to containerize an OpenMM workload so that it can be executed on the Bacalhau network and to take advantage of the distributed storage & compute resources.\n",
        "\n",
        "### Prerequisites\n",
        "\n",
        "This example requires Docker. If you don't have Docker installed, you can install it from [here](https://docs.docker.com/install/). Docker commands will not work on hosted notebooks like Google Colab, but the Bacalhau commands will.\n",
        "\n",
        "Make sure you have the latest `bacalhau` client installed by following the [getting started instructions](../../../getting-started/installation)"
      ]
    },
    {
      "cell_type": "markdown",
      "metadata": {},
      "source": [
        "## Protein data\n",
        "\n",
        "We use a processed 2DRI dataset that represents the ribose binding protein in bacterial transport and chemotaxis. The source organism is the [Escherichia coli](https://en.wikipedia.org/wiki/Escherichia_coli) bacteria.\n",
        "You can find more details on this protein at the related [RCSB Protein Data Bank page](https://www.rcsb.org/structure/2dri).\n",
        "\n",
        "![image.png](./2dri-image.png)\n",
        "\n",
        "\n",
        "\n",
        "Protein data can be stored in a `.pdb` file, this is a human readable format.\n",
        "It provides for description and annotation of protein and nucleic acid structures including atomic coordinates, secondary structure assignments, as well as atomic connectivity.\n",
        "Please find more info about PDB format in [this article](https://www.cgl.ucsf.edu/chimera/docs/UsersGuide/tutorials/pdbintro.html).\n",
        "\n",
        "Let us sneak peak into the dataset by printing the first 10 lines of the file.\n",
        "Among other things, we can see it contains a number of ATOM records. These describe the coordinates of the atoms that are part of the protein."
      ]
    },
    {
      "cell_type": "code",
      "execution_count": 8,
      "metadata": {},
      "outputs": [
        {
          "name": "stdout",
          "output_type": "stream",
          "text": [
            "REMARK   1 CREATED WITH OPENMM 7.6, 2022-07-12\n",
            "CRYST1   81.309   81.309   81.309  90.00  90.00  90.00 P 1           1 \n",
            "ATOM      1  N   LYS A   1      64.731   9.461  59.430  1.00  0.00           N  \n",
            "ATOM      2  CA  LYS A   1      63.588  10.286  58.927  1.00  0.00           C  \n",
            "ATOM      3  HA  LYS A   1      62.707   9.486  59.038  1.00  0.00           H  \n",
            "ATOM      4  C   LYS A   1      63.790  10.671  57.468  1.00  0.00           C  \n",
            "ATOM      5  O   LYS A   1      64.887  11.089  57.078  1.00  0.00           O  \n",
            "ATOM      6  CB  LYS A   1      63.458  11.567  59.749  1.00  0.00           C  \n",
            "ATOM      7  HB2 LYS A   1      63.333  12.366  58.879  1.00  0.00           H  \n",
            "ATOM      8  HB3 LYS A   1      64.435  11.867  60.372  1.00  0.00           H  \n"
          ]
        }
      ],
      "source": [
        "%%bash\n",
        "head ./dataset/2dri-processed.pdb"
      ]
    },
    {
      "cell_type": "markdown",
      "metadata": {},
      "source": [
        "## Prepare & Run the task\n",
        "\n",
        "\n",
        "1. Upload the data to IPFS\n",
        "1. Create a docker image with the code and dependencies\n",
        "1. Run the docker image on the Bacalhau network using the IPFS data\n"
      ]
    },
    {
      "cell_type": "code",
      "execution_count": 2,
      "metadata": {
        "tags": [
          "remove_cell"
        ]
      },
      "outputs": [
        {
          "name": "stdout",
          "output_type": "stream",
          "text": [
            "Your system is darwin_arm64\n",
            "No BACALHAU detected. Installing fresh BACALHAU CLI...\n",
            "Getting the latest BACALHAU CLI...\n",
            "Installing v0.3.1 BACALHAU CLI...\n",
            "Downloading https://github.com/filecoin-project/bacalhau/releases/download/v0.3.1/bacalhau_v0.3.1_darwin_arm64.tar.gz ...\n",
            "Downloading sig file https://github.com/filecoin-project/bacalhau/releases/download/v0.3.1/bacalhau_v0.3.1_darwin_arm64.tar.gz.signature.sha256 ...\n",
            "Verified OK\n",
            "Extracting tarball ...\n",
            "NOT verifying Bin\n",
            "bacalhau installed into . successfully.\n",
            "Client Version: v0.3.1\n",
            "Server Version: v0.3.1\n",
            "env: PATH=./:/Users/phil/.pyenv/versions/3.9.7/bin:/opt/homebrew/Caskroom/google-cloud-sdk/latest/google-cloud-sdk/bin:/Users/phil/.gvm/bin:/opt/homebrew/opt/findutils/libexec/gnubin:/opt/homebrew/opt/coreutils/libexec/gnubin:/opt/homebrew/Caskroom/google-cloud-sdk/latest/google-cloud-sdk/bin:/Users/phil/.pyenv/shims:/opt/homebrew/bin:/opt/homebrew/sbin:/usr/local/bin:/usr/bin:/bin:/usr/sbin:/sbin:/Library/TeX/texbin:/usr/local/MacGPG2/bin:/Users/phil/.nexustools\n"
          ]
        }
      ],
      "source": [
        "!(export BACALHAU_INSTALL_DIR=.; curl -sL https://get.bacalhau.org/install.sh | bash)\n",
        "path=!echo $PATH\n",
        "%env PATH=./:{path[0]}"
      ]
    },
    {
      "cell_type": "markdown",
      "metadata": {},
      "source": [
        "### Upload the Data to IPFS\n",
        "\n",
        "The first step is to upload the data to IPFS. The simplest way to do this is to use a third party service to \"pin\" data to the IPFS network, to ensure that the data exists and is available. To do this you need an account with a pinning service like [web3.storage](https://web3.storage/) or [Pinata](https://pinata.cloud/). Once registered you can use their UI or API or SDKs to upload files.\n",
        "\n",
        "For the purposes of this example I pinned the `2dri-processed.pdb` file to IPFS via [web3.storage](https://web3.storage/).\n",
        "\n",
        "This resulted in the IPFS CID of `bafybeig63whfqyuvwqqrp5456fl4anceju24ttyycexef3k5eurg5uvrq4`.\n",
        "\n",
        "<!-- TODO: Add link to notebook showing people how to upload data to IPFS -->"
      ]
    },
    {
      "cell_type": "markdown",
      "metadata": {},
      "source": [
        "### Create a Docker Image to Process the Data\n",
        "\n",
        "Next we will create the docker image that will process the data. The docker image will contain the code and dependencies needed to perform the conversion. This code originated with [wesfloyd](https://github.com/wesfloyd/openmm-test). Thank you Wes!\n",
        "\n",
        ":::tip\n",
        "For more information about working with custom containers, see the [custom containers example](../../workload-onboarding/custom-containers/).\n",
        ":::\n",
        "\n",
        "The key thing to watch out for here is the paths to the data. I'm using the default bacalhau output directory `/outputs` to write my data to. And the input data is mounted to the `/inputs` directory. But as you will see in a moment, web3.storage has added another `input` directory that we need to account for."
      ]
    },
    {
      "cell_type": "code",
      "execution_count": 9,
      "metadata": {},
      "outputs": [
        {
          "name": "stdout",
          "output_type": "stream",
          "text": [
            "Overwriting run_openmm_simulation.py\n"
          ]
        }
      ],
      "source": [
        "%%writefile run_openmm_simulation.py\n",
        "import os\n",
        "from openmm import *\n",
        "from openmm.app import *\n",
        "from openmm.unit import *\n",
        "\n",
        "# Input Files\n",
        "input_path = '/inputs/2dri-processed.pdb'\n",
        "os.path.exists(input_path) # check if input file exists\n",
        "pdb = PDBFile(input_path)\n",
        "forcefield = ForceField('amber14-all.xml', 'amber14/tip3pfb.xml')\n",
        "\n",
        "# Output\n",
        "output_path = '/outputs/final_state.pdbx'\n",
        "if not os.path.exists(os.path.dirname(output_path)): # check if ouput dir exists\n",
        "    os.makedirs(os.path.dirname(output_path))\n",
        "\n",
        "# System Configuration\n",
        "\n",
        "nonbondedMethod = PME\n",
        "nonbondedCutoff = 1.0*nanometers\n",
        "ewaldErrorTolerance = 0.0005\n",
        "constraints = HBonds\n",
        "rigidWater = True\n",
        "constraintTolerance = 0.000001\n",
        "hydrogenMass = 1.5*amu\n",
        "\n",
        "# Integration Options\n",
        "\n",
        "dt = 0.002*picoseconds\n",
        "temperature = 310*kelvin\n",
        "friction = 1.0/picosecond\n",
        "pressure = 1.0*atmospheres\n",
        "barostatInterval = 25\n",
        "\n",
        "# Simulation Options\n",
        "\n",
        "steps = 10\n",
        "equilibrationSteps = 0\n",
        "#platform = Platform.getPlatformByName('CUDA')\n",
        "platform = Platform.getPlatformByName('CPU')\n",
        "#platformProperties = {'Precision': 'single'}\n",
        "platformProperties = {}\n",
        "dcdReporter = DCDReporter('trajectory.dcd', 1000)\n",
        "dataReporter = StateDataReporter('log.txt', 1000, totalSteps=steps,\n",
        "    step=True, time=True, speed=True, progress=True, elapsedTime=True, remainingTime=True, potentialEnergy=True, kineticEnergy=True, totalEnergy=True, temperature=True, volume=True, density=True, separator='\\t')\n",
        "checkpointReporter = CheckpointReporter('checkpoint.chk', 1000)\n",
        "\n",
        "# Prepare the Simulation\n",
        "\n",
        "print('Building system...')\n",
        "topology = pdb.topology\n",
        "positions = pdb.positions\n",
        "system = forcefield.createSystem(topology, nonbondedMethod=nonbondedMethod, nonbondedCutoff=nonbondedCutoff,\n",
        "    constraints=constraints, rigidWater=rigidWater, ewaldErrorTolerance=ewaldErrorTolerance, hydrogenMass=hydrogenMass)\n",
        "system.addForce(MonteCarloBarostat(pressure, temperature, barostatInterval))\n",
        "integrator = LangevinMiddleIntegrator(temperature, friction, dt)\n",
        "integrator.setConstraintTolerance(constraintTolerance)\n",
        "simulation = Simulation(topology, system, integrator, platform, platformProperties)\n",
        "simulation.context.setPositions(positions)\n",
        "\n",
        "# Minimize and Equilibrate\n",
        "\n",
        "print('Performing energy minimization...')\n",
        "simulation.minimizeEnergy()\n",
        "print('Equilibrating...')\n",
        "simulation.context.setVelocitiesToTemperature(temperature)\n",
        "simulation.step(equilibrationSteps)\n",
        "\n",
        "# Simulate\n",
        "\n",
        "print('Simulating...')\n",
        "simulation.reporters.append(dcdReporter)\n",
        "simulation.reporters.append(dataReporter)\n",
        "simulation.reporters.append(checkpointReporter)\n",
        "simulation.currentStep = 0\n",
        "simulation.step(steps)\n",
        "\n",
        "# Write file with final simulation state\n",
        "\n",
        "state = simulation.context.getState(getPositions=True, enforcePeriodicBox=system.usesPeriodicBoundaryConditions())\n",
        "with open(output_path, mode=\"w+\") as file:\n",
        "    PDBxFile.writeFile(simulation.topology, state.getPositions(), file)\n",
        "print('Simulation complete, file written to disk at: {}'.format(output_path))"
      ]
    },
    {
      "cell_type": "markdown",
      "metadata": {},
      "source": [
        "To run the script above all we need is a Python environment with the OpenMM library installed.\n",
        "We install that via the package manager [conda](https://docs.conda.io/projects/conda/en/latest/user-guide/index.html).\n",
        "Below is the resulting Dockerfile; to keep this example concise we the Docker build command is commented out."
      ]
    },
    {
      "cell_type": "code",
      "execution_count": 10,
      "metadata": {},
      "outputs": [
        {
          "name": "stdout",
          "output_type": "stream",
          "text": [
            "Overwriting Dockerfile\n"
          ]
        }
      ],
      "source": [
        "%%writefile Dockerfile\n",
        "FROM conda/miniconda3\n",
        "\n",
        "RUN conda install -y -c conda-forge openmm\n",
        "\n",
        "WORKDIR /project\n",
        "\n",
        "COPY ./run_openmm_simulation.py /project\n",
        "\n",
        "LABEL org.opencontainers.image.source https://github.com/bacalhau-project/examples\n",
        "\n",
        "CMD [\"python\",\"run_openmm_simulation.py\"]"
      ]
    },
    {
      "cell_type": "code",
      "execution_count": 11,
      "metadata": {
        "tags": []
      },
      "outputs": [],
      "source": [
        "%%bash\n",
        "#docker buildx build --platform linux/amd64 --push -t ghcr.io/bacalhau-project/examples/openmm:0.3 ."
      ]
    },
    {
      "cell_type": "markdown",
      "metadata": {},
      "source": [
        "### Test the Container Locally\n",
        "\n",
        "Before we upload the container to the Bacalhau network, we should test it locally to make sure it works."
      ]
    },
    {
      "cell_type": "code",
      "execution_count": null,
      "metadata": {
        "tags": []
      },
      "outputs": [],
      "source": [
        "%%bash\n",
        "docker run \\\n",
        "    -v $(pwd)/dataset:/inputs/ \\\n",
        "    -v $(pwd)/output:/output \\\n",
        "    ghcr.io/bacalhau-project/examples/openmm:0.3"
      ]
    },
    {
      "cell_type": "markdown",
      "metadata": {},
      "source": [
        "### Run a Bacalhau Job\n",
        "\n",
        "Now that we have the data in IPFS and the docker image pushed, we can run a job on the Bacalhau network.\n",
        "\n",
        "I find it useful to first run a simple test with a known working container to ensure the data is located in the place I expect, because some storage providers add their own opinions. E.g. web3.storage wraps the directory uploads in a top level directory."
      ]
    },
    {
      "cell_type": "code",
      "execution_count": 3,
      "metadata": {
        "tags": []
      },
      "outputs": [
        {
          "name": "stdout",
          "output_type": "stream",
          "text": [
            "Job successfully submitted. Job ID: 5836a70b-0ed1-4741-90fa-390c6a4f1137\n",
            "Checking job status... (Enter Ctrl+C to exit at any time, your job will continue running):\n",
            "\n",
            "\t       Creating job for submission ... done ✅\n",
            "\t       Finding node(s) for the job ... done ✅\n",
            "\t             Node accepted the job ... done ✅\n",
            "\t                                   ... done ✅\n",
            "\t   Job finished, verifying results ... done ✅\n",
            "\t      Results accepted, publishing ... done ✅\n",
            "\t                                  \n",
            "Results CID: QmbVhcvWKmZbLd6ZKiDctUYY7DN5jQBKsbPsrTz5aGFY68\n",
            "Job Results By Node:\n",
            "Node QmXaXu9N:\n",
            "  Shard 0:\n",
            "    Status: Cancelled\n",
            "    No RunOutput for this shard\n",
            "Node QmdZQ7Zb:\n",
            "  Shard 0:\n",
            "    Status: Completed\n",
            "    Container Exit Code: 0\n",
            "    Stdout:\n",
            "      2dri-processed.pdb\n",
            "    Stderr: <NONE>\n",
            "\n",
            "To download the results, execute:\n",
            "  bacalhau get 5836a70b-0ed1-4741-90fa-390c6a4f1137\n",
            "\n",
            "To get more details about the run, execute:\n",
            "  bacalhau describe 5836a70b-0ed1-4741-90fa-390c6a4f1137\n"
          ]
        }
      ],
      "source": [
        "%%bash\n",
        "rm -rf stdout stderr volumes shards\n",
        "bacalhau docker run \\\n",
        "        --inputs bafybeig63whfqyuvwqqrp5456fl4anceju24ttyycexef3k5eurg5uvrq4 \\\n",
        "        ubuntu -- ls /inputs"
      ]
    },
    {
      "cell_type": "markdown",
      "metadata": {},
      "source": [
        "Let's switch to our custom container image."
      ]
    },
    {
      "cell_type": "code",
      "execution_count": 14,
      "metadata": {
        "tags": []
      },
      "outputs": [
        {
          "name": "stdout",
          "output_type": "stream",
          "text": [
            "Job successfully submitted. Job ID: d9ca75a5-a766-42e1-aab5-b97a5ae1e7f1\n",
            "Checking job status... (Enter Ctrl+C to exit at any time, your job will continue running):\n",
            "\n",
            "\t       Creating job for submission ... done ✅\n",
            "\t       Finding node(s) for the job ... done ✅\n",
            "\t             Node accepted the job ... done ✅\n",
            "\t   Job finished, verifying results ... done ✅\n",
            "\t      Results accepted, publishing ... done ✅\n",
            "\t                                  \n",
            "Results CID: QmcVp5m7MngLa7QU9prwzZZHHgKgmJaW6wrvEyufUCwX9x\n",
            "Job Results By Node:\n",
            "Node QmYgxZiy:\n",
            "  Shard 0:\n",
            "    Status: Completed\n",
            "    Container Exit Code: 0\n",
            "    Stdout:\n",
            "      total 4080\n",
            "drwxr-xr-x 2 root root    4096 Oct 10 12:04 .\n",
            "drwxr-xr-x 1 root root    4096 Oct 10 12:08 ..\n",
            "-rw-r--r-- 1 root root 4167654 Oct 10 12:04 2dri-processed.pdb\n",
            "    Stderr: <NONE>\n",
            "\n",
            "To download the results, execute:\n",
            "  bacalhau get d9ca75a5-a766-42e1-aab5-b97a5ae1e7f1\n",
            "\n",
            "To get more details about the run, execute:\n",
            "  bacalhau describe d9ca75a5-a766-42e1-aab5-b97a5ae1e7f1\n"
          ]
        }
      ],
      "source": [
        "%%bash\n",
        "rm -rf stdout stderr volumes shards\n",
        "bacalhau docker run \\\n",
        "    --inputs bafybeig63whfqyuvwqqrp5456fl4anceju24ttyycexef3k5eurg5uvrq4 \\\n",
        "    ghcr.io/bacalhau-project/examples/openmm:0.3 -- ls -la /inputs/"
      ]
    },
    {
      "cell_type": "markdown",
      "metadata": {},
      "source": [
        "And finally let's run the full job. This time I will not download the data immediately, because the job takes a few minutes to complete. The commands are below, but you will need to wait until the job completes before they work."
      ]
    },
    {
      "cell_type": "code",
      "execution_count": 15,
      "metadata": {
        "tags": []
      },
      "outputs": [],
      "source": [
        "%%bash --out job_id\n",
        "bacalhau docker run \\\n",
        "    --inputs bafybeig63whfqyuvwqqrp5456fl4anceju24ttyycexef3k5eurg5uvrq4 \\\n",
        "    --wait \\\n",
        "    --id-only \\\n",
        "    ghcr.io/bacalhau-project/examples/openmm:0.3 -- python run_openmm_simulation.py"
      ]
    },
    {
      "cell_type": "code",
      "execution_count": 16,
      "metadata": {},
      "outputs": [
        {
          "name": "stdout",
          "output_type": "stream",
          "text": [
            "env: JOB_ID=10e11cba-3de2-4507-85f6-a8f2b53d110b\n"
          ]
        }
      ],
      "source": [
        "%env JOB_ID={job_id}"
      ]
    },
    {
      "cell_type": "code",
      "execution_count": 17,
      "metadata": {
        "tags": []
      },
      "outputs": [
        {
          "name": "stdout",
          "output_type": "stream",
          "text": [
            " CREATED   ID        JOB                      STATE      VERIFIED  PUBLISHED               \n",
            " 12:08:16  10e11cba  Docker ghcr.io/bacal...  Completed            /ipfs/QmUpBj6Eacz5Y5... \n"
          ]
        }
      ],
      "source": [
        "%%bash\n",
        "bacalhau list --id-filter=${JOB_ID} --no-style"
      ]
    },
    {
      "cell_type": "markdown",
      "metadata": {},
      "source": [
        "### Get Results\n",
        "\n",
        "Now let's download and display the result from the results directory. We can use the `bacalhau get` command to download the results from the output data volume."
      ]
    },
    {
      "cell_type": "code",
      "execution_count": 18,
      "metadata": {
        "tags": []
      },
      "outputs": [
        {
          "name": "stdout",
          "output_type": "stream",
          "text": [
            "Fetching results of job '10e11cba-3de2-4507-85f6-a8f2b53d110b'..."
          ]
        }
      ],
      "source": [
        "%%bash\n",
        "rm -rf stdout stderr volumes shards\n",
        "bacalhau get ${JOB_ID} # Download the results"
      ]
    },
    {
      "cell_type": "code",
      "execution_count": 19,
      "metadata": {
        "tags": []
      },
      "outputs": [
        {
          "name": "stdout",
          "output_type": "stream",
          "text": [
            "total 6656\n",
            "-rw-r--r-- 1 phil staff 6578336 Oct 10 13:11 final_state.pdbx\n"
          ]
        }
      ],
      "source": [
        "%%bash\n",
        "ls -l volumes/outputs"
      ]
    },
    {
      "cell_type": "markdown",
      "metadata": {},
      "source": [
        "That's all folks!"
      ]
    }
  ],
  "metadata": {
    "kernelspec": {
      "display_name": "Python 3.10.2 64-bit ('3.10.2')",
      "language": "python",
      "name": "python3"
    },
    "language_info": {
      "codemirror_mode": {
        "name": "ipython",
        "version": 3
      },
      "file_extension": ".py",
      "mimetype": "text/x-python",
      "name": "python",
      "nbconvert_exporter": "python",
      "pygments_lexer": "ipython3",
      "version": "3.10.2"
    },
    "vscode": {
      "interpreter": {
        "hash": "81ff6dc1b26ee3af5189d22d58a3b36fca4ebbdded7f6a7b0d8f8cebee16ffbc"
      }
    }
  },
  "nbformat": 4,
  "nbformat_minor": 4
}
