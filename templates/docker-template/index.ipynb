{
  "cells": [
    {
      "cell_type": "raw",
      "metadata": {},
      "source": [
        "---\n",
        "sidebar_label: \"Docker Template\"\n",
        "sidebar_position: 2\n",
        "---"
      ]
    },
    {
      "cell_type": "markdown",
      "metadata": {},
      "source": [
        "# Title of Example\n",
        "\n",
        "> This notebook shows how to use Docker in a notebook. Other simpler templates are available in the [templates](..) directory.\n",
        "\n",
        "This example requires Docker. If you don't have Docker installed, you can install it from [here](https://docs.docker.com/install/)."
      ]
    },
    {
      "cell_type": "code",
      "execution_count": 1,
      "metadata": {},
      "outputs": [],
      "source": [
        "!command -v docker >/dev/null 2>&1 || { echo >&2 \"I require docker but it's not installed.  Aborting.\"; exit 1; }"
      ]
    },
    {
      "cell_type": "markdown",
      "metadata": {},
      "source": [
        "## Example Container Run\n",
        "\n",
        "This example runs a container."
      ]
    },
    {
      "cell_type": "code",
      "execution_count": 2,
      "metadata": {
        "tags": []
      },
      "outputs": [
        {
          "name": "stdout",
          "output_type": "stream",
          "text": [
            "\n",
            "Hello from Docker!\n",
            "This message shows that your installation appears to be working correctly.\n",
            "\n",
            "To generate this message, Docker took the following steps:\n",
            " 1. The Docker client contacted the Docker daemon.\n",
            " 2. The Docker daemon pulled the \"hello-world\" image from the Docker Hub.\n",
            "    (arm64v8)\n",
            " 3. The Docker daemon created a new container from that image which runs the\n",
            "    executable that produces the output you are currently reading.\n",
            " 4. The Docker daemon streamed that output to the Docker client, which sent it\n",
            "    to your terminal.\n",
            "\n",
            "To try something more ambitious, you can run an Ubuntu container with:\n",
            " $ docker run -it ubuntu bash\n",
            "\n",
            "Share images, automate workflows, and more with a free Docker ID:\n",
            " https://hub.docker.com/\n",
            "\n",
            "For more examples and ideas, visit:\n",
            " https://docs.docker.com/get-started/\n",
            "\n"
          ]
        }
      ],
      "source": [
        "%%bash\n",
        "docker run --rm hello-world"
      ]
    },
    {
      "cell_type": "markdown",
      "metadata": {},
      "source": [
        "## Example Container Build and Run\n",
        "\n",
        "And this example shows you how to build a container and run it."
      ]
    },
    {
      "cell_type": "code",
      "execution_count": 3,
      "metadata": {},
      "outputs": [
        {
          "name": "stdout",
          "output_type": "stream",
          "text": [
            "Overwriting Dockerfile\n"
          ]
        }
      ],
      "source": [
        "%%writefile Dockerfile\n",
        "FROM ubuntu:latest\n",
        "RUN echo \"built\""
      ]
    },
    {
      "cell_type": "code",
      "execution_count": 4,
      "metadata": {
        "tags": []
      },
      "outputs": [
        {
          "name": "stdout",
          "output_type": "stream",
          "text": [
            "works!\n"
          ]
        },
        {
          "name": "stderr",
          "output_type": "stream",
          "text": [
            "#1 [internal] load build definition from Dockerfile\n",
            "#1 sha256:74af154ae2ac123245b8df9e2b42787668440fd24078ceb686663bc3731b2578\n",
            "#1 transferring dockerfile: 78B done\n",
            "#1 DONE 0.0s\n",
            "\n",
            "#2 [internal] load .dockerignore\n",
            "#2 sha256:da1201b85feb52129655bd8a173ed303b1f452fec29db8561615e8945fa430a1\n",
            "#2 transferring context: 2B done\n",
            "#2 DONE 0.0s\n",
            "\n",
            "#3 [internal] load metadata for docker.io/library/ubuntu:latest\n",
            "#3 sha256:abd44fdc5704a1f31ce24272a9c459712f2a16d9c7c7ce9bcc7a9b6c11e01aa9\n",
            "#3 DONE 0.6s\n",
            "\n",
            "#4 [1/2] FROM docker.io/library/ubuntu:latest@sha256:20fa2d7bb4de7723f542be5923b06c4d704370f0390e4ae9e1c833c8785644c1\n",
            "#4 sha256:ecb55e1c6e99b222a30124fe4f604e87265732d794a19c4d0256314619091953\n",
            "#4 DONE 0.0s\n",
            "\n",
            "#5 [2/2] RUN echo \"built\"\n",
            "#5 sha256:055bd4b2d00eacbbdc2aed5df1c88d58721f8ea4b1b4e6c01536d6e656d64f49\n",
            "#5 CACHED\n",
            "\n",
            "#6 exporting to image\n",
            "#6 sha256:e8c613e07b0b7ff33893b694f7759a10d42e180f2b4dc349fb57dc6b71dcab00\n",
            "#6 exporting layers done\n",
            "#6 writing image sha256:13f4b7e419b299b9e194b5e50af30861ebaea6e93c2e734b413f6a1cc935d863 done\n",
            "#6 naming to docker.io/library/myimage done\n",
            "#6 DONE 0.0s\n",
            "\n",
            "Use 'docker scan' to run Snyk tests against images to find vulnerabilities and learn how to fix them\n"
          ]
        }
      ],
      "source": [
        "%%bash\n",
        "docker build -t myimage .\n",
        "docker run --rm myimage echo \"works!\""
      ]
    }
  ],
  "metadata": {
    "kernelspec": {
      "display_name": "Python 3.9.7 64-bit ('3.9.7')",
      "language": "python",
      "name": "python3"
    },
    "language_info": {
      "codemirror_mode": {
        "name": "ipython",
        "version": 3
      },
      "file_extension": ".py",
      "mimetype": "text/x-python",
      "name": "python",
      "nbconvert_exporter": "python",
      "pygments_lexer": "ipython3",
      "version": "3.9.7"
    },
    "orig_nbformat": 4,
    "vscode": {
      "interpreter": {
        "hash": "21fd917facdca5c02b7d24e32528f1b4e6711465b0262edbfffba943391e1222"
      }
    }
  },
  "nbformat": 4,
  "nbformat_minor": 2
}
