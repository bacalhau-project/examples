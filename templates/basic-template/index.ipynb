{
 "cells": [
  {
   "cell_type": "raw",
   "metadata": {},
   "source": [
    "---\n",
    "sidebar_label: \"Basic Template\"\n",
    "sidebar_position: 1\n",
    "---"
   ]
  },
  {
   "cell_type": "markdown",
   "metadata": {},
   "source": [
    "# Title of Example\n",
    "\n",
    "This notebook is a basic example of using notebooks to create examples. It demonstrates some of ipython's basic features to achieve common Bacalhau tasks. Other more advanced templates are available in the [templates](../templates) directory.\n",
    "\n",
    "### Why a Notebook?\n",
    "\n",
    "Notebooks are great because:\n",
    "\n",
    "* Readers can \"execute\" the documentation. They can not only read the example, but try it!\n",
    "* They are testable. We can run the notebook in CI and check that it works.\n",
    "* They are interactive. Readers can alter the notebooks and play with the code.\n",
    "* They are great for hackathons. Just point people to the notebook and get hacking.\n",
    "\n",
    "### What Happens to This Notebook\n",
    "\n",
    "There are a few CI scripts that operate on notebooks:\n",
    "* Whenever you push to the main branch on this repository, a github action will automatically render your ipynb's into markdown and push them to the [docs repository](https://github.com/bacalhau-project/docs.bacalhau.org/).\n",
    "* Whenever you push, pytest will run to ensure that all notebooks execute without error.\n",
    "\n",
    "### Key Requirements\n",
    "\n",
    "* We use Python as the kernel for our notebooks. This is the most common kernel and is used in our tests.\n",
    "* Large datafiles should not be stored in the repo. Store data in either the GCS bucket or IPFS (depending on the example).\n",
    "* Make sure all cells run successfully to pass tests. If a cell takes a very long time you may want to skip tests. See below.\n",
    "\n",
    "### Structure\n",
    "\n",
    "All examples must exist within a directory. The notebook should be called `index.ipynb` (so that it gets rendered as the index.html page in the docs). You may have other supporting files in the directory. For example:\n",
    "\n",
    "```\n",
    "basic-template\n",
    "├── Dockerfile\n",
    "├── README.md\n",
    "├── example-image.jpg\n",
    "├── index.ipynb\n",
    "└── small-toy-dataset.csv\n",
    "```\n",
    "\n",
    "### Metadata\n",
    "\n",
    "You can control some elements of the documentation rendering by adding metadata to the notebook. This is done by adding a raw cell at the top of the notebook. The metadata is in YAML format. See the top of this file for an example.\n",
    "\n",
    "## Working With Bash\n",
    "\n",
    "The following demonstrates how to work with bash commands in a notebook. Note that these commands execute within the context of your kernel. If you don't have the required dependencies installed, you will need to install them first. Read more about [working with bash in notebooks](https://ipython.readthedocs.io/en/stable/interactive/magics.html#magic-bash).\n",
    "\n",
    "```bash"
   ]
  },
  {
   "cell_type": "code",
   "execution_count": 8,
   "metadata": {},
   "outputs": [
    {
     "name": "stdout",
     "output_type": "stream",
     "text": [
      "This is one way of working with bash, which is good because it renders nicely in the documentation\n",
      "total 144\n",
      "-rw-r--r-- 1 phil staff      0 Sep 16 09:38 Dockerfile\n",
      "-rw-r--r-- 1 phil staff      0 Sep 16 09:38 README.md\n",
      "-rw-r--r-- 1 phil staff 137052 Sep 16 09:42 example-image.jpg\n",
      "-rw-r--r-- 1 phil staff   4192 Sep 16 09:52 index.ipynb\n",
      "-rw-r--r-- 1 phil staff      0 Sep 16 09:38 small-toy-dataset.csv\n"
     ]
    }
   ],
   "source": [
    "%%bash\n",
    "echo \"This is one way of working with bash, which is good because it renders nicely in the documentation\"\n",
    "ls -l"
   ]
  },
  {
   "cell_type": "code",
   "execution_count": 11,
   "metadata": {},
   "outputs": [
    {
     "name": "stdout",
     "output_type": "stream",
     "text": [
      "But this works too, but remember the ! is rendered in the docs\n",
      "92.4.101.140"
     ]
    }
   ],
   "source": [
    "!echo \"But this works too, but remember the ! is rendered in the docs\"\n",
    "!curl https://ifconfig.me/"
   ]
  },
  {
   "cell_type": "markdown",
   "metadata": {},
   "source": [
    "## Working with Bacalhau\n",
    "\n",
    "> Remember that the user's and CI context likely won't have Bacalhau installed, so you need to install it.\n",
    "\n",
    "Install Bacalhau with the following command:"
   ]
  },
  {
   "cell_type": "code",
   "execution_count": 14,
   "metadata": {},
   "outputs": [
    {
     "name": "stdout",
     "output_type": "stream",
     "text": [
      "Your system is darwin_arm64\n",
      "No BACALHAU detected. Installing fresh BACALHAU CLI...\n",
      "Getting the latest BACALHAU CLI...\n",
      "Installing v0.2.3 BACALHAU CLI...\n",
      "Downloading https://github.com/filecoin-project/bacalhau/releases/download/v0.2.3/bacalhau_v0.2.3_darwin_arm64.tar.gz ...\n",
      "Downloading sig file https://github.com/filecoin-project/bacalhau/releases/download/v0.2.3/bacalhau_v0.2.3_darwin_arm64.tar.gz.signature.sha256 ...\n",
      "Verified OK\n",
      "Extracting tarball ...\n",
      "NOT verifying Bin\n",
      "bacalhau installed into . successfully.\n",
      "Client Version: v0.2.3\n",
      "Server Version: v0.2.3\n"
     ]
    }
   ],
   "source": [
    "%%bash\n",
    "(export BACALHAU_INSTALL_DIR=.; curl -sL https://get.bacalhau.org/install.sh | bash)"
   ]
  },
  {
   "cell_type": "code",
   "execution_count": 15,
   "metadata": {},
   "outputs": [
    {
     "name": "stdout",
     "output_type": "stream",
     "text": [
      "Client Version: v0.2.3\n",
      "Server Version: v0.2.3\n"
     ]
    }
   ],
   "source": [
    "%%bash\n",
    "bacalhau version"
   ]
  },
  {
   "cell_type": "code",
   "execution_count": 29,
   "metadata": {},
   "outputs": [
    {
     "name": "stdout",
     "output_type": "stream",
     "text": [
      "d5464534-76f9-44a6-af23-8699a830ed72\n",
      "Note that bash is executed in a subprocess, so variables are only available within the same cell\n"
     ]
    }
   ],
   "source": [
    "%%bash\n",
    "job_id=$(bacalhau docker run ubuntu echo Hello World)\n",
    "echo $job_id\n",
    "echo \"Note that bash is executed in a subprocess, so variables are only available within the same cell\""
   ]
  },
  {
   "cell_type": "code",
   "execution_count": 30,
   "metadata": {},
   "outputs": [
    {
     "name": "stdout",
     "output_type": "stream",
     "text": [
      "We can also do this with Python\n"
     ]
    }
   ],
   "source": [
    "print(\"We can also do this with Python\")\n",
    "job_id = !bacalhau docker run --wait --wait-timeout-secs 100 ubuntu echo Hello World\n"
   ]
  },
  {
   "cell_type": "code",
   "execution_count": 36,
   "metadata": {},
   "outputs": [
    {
     "name": "stdout",
     "output_type": "stream",
     "text": [
      "Which does work across cells 1a6f8588-9eb6-40b6-a73c-7abd8da0f876\n"
     ]
    }
   ],
   "source": [
    "print(\"Which does work across cells\", job_id[0])"
   ]
  },
  {
   "cell_type": "code",
   "execution_count": 35,
   "metadata": {},
   "outputs": [
    {
     "name": "stdout",
     "output_type": "stream",
     "text": [
      "\u001b[92;100m CREATED  \u001b[0m\u001b[92;100m ID       \u001b[0m\u001b[92;100m JOB                     \u001b[0m\u001b[92;100m STATE     \u001b[0m\u001b[92;100m VERIFIED \u001b[0m\u001b[92;100m PUBLISHED               \u001b[0m\n",
      "\u001b[97;40m 09:11:05 \u001b[0m\u001b[97;40m 1a6f8588 \u001b[0m\u001b[97;40m Docker ubuntu echo H... \u001b[0m\u001b[97;40m Published \u001b[0m\u001b[97;40m          \u001b[0m\u001b[97;40m /ipfs/bafybeidu4zm6w... \u001b[0m\n"
     ]
    }
   ],
   "source": [
    "!bacalhau list --id-filter {job_id[0]}"
   ]
  },
  {
   "cell_type": "code",
   "execution_count": null,
   "metadata": {},
   "outputs": [],
   "source": []
  }
 ],
 "metadata": {
  "kernelspec": {
   "display_name": "Python 3.9.7 64-bit ('3.9.7')",
   "language": "python",
   "name": "python3"
  },
  "language_info": {
   "codemirror_mode": {
    "name": "ipython",
    "version": 3
   },
   "file_extension": ".py",
   "mimetype": "text/x-python",
   "name": "python",
   "nbconvert_exporter": "python",
   "pygments_lexer": "ipython3",
   "version": "3.9.7"
  },
  "orig_nbformat": 4,
  "vscode": {
   "interpreter": {
    "hash": "21fd917facdca5c02b7d24e32528f1b4e6711465b0262edbfffba943391e1222"
   }
  }
 },
 "nbformat": 4,
 "nbformat_minor": 2
}
