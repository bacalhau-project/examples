{
 "cells": [
  {
   "cell_type": "markdown",
   "id": "3289cbfb",
   "metadata": {},
   "source": [
    "# Cloud masks\n",
    "\n",
    "Different instruments, by virtue of their differing measurement principle and footprint, see clouds in different ways. To provide an overview of the cloud fields sampled by HALO during EUREC4A, a cloud mask is created for each cloud sensitive instrument.  \n",
    "In the following, we compare the different cloud mask products for a case study on 5 February and further provide a statistical overview for the full campaign period.\n",
    "\n",
    "More information on the dataset can be found in Konow et al. (in preparation). If you have questions or if you would like to use the data for a publication, please don't hesitate to get in contact with the dataset authors as stated in the dataset attributes `contact` or `author`."
   ]
  },
  {
   "cell_type": "code",
   "execution_count": 1,
   "id": "c2a7f7c3",
   "metadata": {
    "ExecuteTime": {
     "end_time": "2022-06-14T20:08:25.551044Z",
     "start_time": "2022-06-14T20:08:24.779367Z"
    }
   },
   "outputs": [],
   "source": [
    "import eurec4a\n",
    "import numpy as np\n",
    "import xarray as xr\n",
    "import matplotlib as mpl\n",
    "\n",
    "from mpl_toolkits.axes_grid1 import make_axes_locatable\n",
    "from matplotlib.colors import LogNorm"
   ]
  },
  {
   "cell_type": "markdown",
   "id": "a27b4308",
   "metadata": {},
   "source": [
    "We generally don't support ignoring warnings, however, we do so in this notebook to suppress warnings originating from zero division. Unfortunately, we coudn't find another way to handle the warnings. If you have an idea, please make a pull request and change it :)"
   ]
  },
  {
   "cell_type": "code",
   "execution_count": 2,
   "id": "1cb69578",
   "metadata": {
    "ExecuteTime": {
     "end_time": "2022-06-14T20:08:25.553989Z",
     "start_time": "2022-06-14T20:08:25.552369Z"
    }
   },
   "outputs": [],
   "source": [
    "import warnings\n",
    "warnings.filterwarnings(\"ignore\")"
   ]
  },
  {
   "cell_type": "markdown",
   "id": "7ee741f4",
   "metadata": {},
   "source": [
    "## Cloud cover functions\n",
    "We define some utility functions to extract (circle) cloud cover estimates from different datasets assuming that the datasets follow a certain flag meaning convention.  \n",
    "\n",
    "In particular, we define a **minimum cloud cover** based on the cloud mask flag `most_likely_cloudy` and a **maximum cloud cover** combining the flags `most_likely_cloudy` and `probably_cloudy`. The cloud mask datasets slightly vary in their flag definition for cloud free conditions and their handling of unvalid measurements which is taken care of by the following functions."
   ]
  },
  {
   "cell_type": "code",
   "execution_count": 3,
   "id": "a370fd75",
   "metadata": {
    "ExecuteTime": {
     "end_time": "2022-06-14T20:08:25.561125Z",
     "start_time": "2022-06-14T20:08:25.556319Z"
    }
   },
   "outputs": [],
   "source": [
    "def _isvalid(da):\n",
    "    meanings = dict(zip(da.flag_meanings.split(\" \"), da.flag_values))\n",
    "    return ~(np.isnan(da) | (\"unknown\" in meanings and da==meanings[\"unknown\"]))\n",
    "\n",
    "def _cloudy_max(da):\n",
    "    meanings = dict(zip(da.flag_meanings.split(\" \"), da.flag_values))\n",
    "    return (da==meanings[\"most_likely_cloudy\"]) | (da==meanings[\"probably_cloudy\"])\n",
    "\n",
    "def _cloudy_min(da):\n",
    "    meanings = dict(zip(da.flag_meanings.split(\" \"), da.flag_values))\n",
    "    return da==meanings[\"most_likely_cloudy\"]\n",
    "\n",
    "def cfmin(ds):\n",
    "    sumdims = [d for d in ds.cloud_mask.dims if d != \"time\"]\n",
    "    return (_cloudy_min(ds.cloud_mask).sum(dim=sumdims)\n",
    "            / _isvalid(ds.cloud_mask).sum(dim=sumdims))\n",
    "\n",
    "def cfmax(ds):\n",
    "    sumdims = [d for d in ds.cloud_mask.dims if d != \"time\"]\n",
    "    return (_cloudy_max(ds.cloud_mask).sum(dim=sumdims)\n",
    "            / _isvalid(ds.cloud_mask).sum(dim=sumdims))\n",
    "\n",
    "def correct_VELOX(ds):\n",
    "    return ds.assign(CF_min=ds.CF_min.where((ds.CF_min >=0 ) & (ds.CF_min <= 1)),\n",
    "                     CF_max=ds.CF_max.where((ds.CF_max >=0 ) & (ds.CF_max <= 1)))\n",
    "\n",
    "def ensure_cfminmax(ds):\n",
    "    if \"CF_min\" not in ds:\n",
    "        ds = ds.assign(CF_min=cfmin)\n",
    "    if \"CF_max\" not in ds:\n",
    "        ds = ds.assign(CF_max=cfmax)\n",
    "    ds.CF_min.load()\n",
    "    ds.CF_max.load()\n",
    "    return correct_VELOX(ds)\n",
    "\n",
    "from multiprocessing.pool import ThreadPool\n",
    "\n",
    "def load_cloudmask_dataset(cat_item):\n",
    "    # load in parallel as this function is mainly limited by the network roundtrip time\n",
    "    p = ThreadPool(20)\n",
    "    return ensure_cfminmax(xr.concat(list(p.map(lambda v: v.get().to_dask().chunk(),\n",
    "                                                cat_item.values())),\n",
    "                                     dim=\"time\",\n",
    "                                     data_vars=\"minimal\"))"
   ]
  },
  {
   "cell_type": "markdown",
   "id": "80e23412",
   "metadata": {},
   "source": [
    "## Get data\n",
    "We use the [eurec4a intake catalog](https://github.com/eurec4a/eurec4a-intake) to access the data files."
   ]
  },
  {
   "cell_type": "code",
   "execution_count": 4,
   "id": "d75b63a8",
   "metadata": {
    "ExecuteTime": {
     "end_time": "2022-06-14T20:08:31.062210Z",
     "start_time": "2022-06-14T20:08:25.561965Z"
    }
   },
   "outputs": [
    {
     "data": {
      "text/plain": [
       "['BACARDI',\n",
       " 'BAHAMAS',\n",
       " 'KT19',\n",
       " 'SMART',\n",
       " 'UNIFIED',\n",
       " 'VELOX',\n",
       " 'WALES',\n",
       " 'specMACS',\n",
       " 'track']"
      ]
     },
     "execution_count": 4,
     "metadata": {},
     "output_type": "execute_result"
    }
   ],
   "source": [
    "cat = eurec4a.get_intake_catalog(use_ipfs=\"QmahMN2wgPauHYkkiTGoG2TpPBmj3p5FoYJAq9uE9iXT9N\")\n",
    "list(cat.HALO)"
   ]
  },
  {
   "cell_type": "markdown",
   "id": "f0ea9ee6",
   "metadata": {},
   "source": [
    "For each instrument, we extract the data from individual flights and concatenate them to campaign-spanning datasets for the cloud mask files."
   ]
  },
  {
   "cell_type": "code",
   "execution_count": 5,
   "id": "faf466ee",
   "metadata": {
    "ExecuteTime": {
     "end_time": "2022-06-14T20:09:30.986799Z",
     "start_time": "2022-06-14T20:08:31.063227Z"
    }
   },
   "outputs": [],
   "source": [
    "cat_cloudmask = {\n",
    "    \"WALES\": cat.HALO.WALES.cloudparameter,\n",
    "    \"HAMP Radar\": cat.HALO.UNIFIED.HAMPradar_cloudmask,\n",
    "    \"specMACS\": cat.HALO.specMACS.cloudmaskSWIR,\n",
    "    \"HAMP Radiometer\": cat.HALO.UNIFIED.HAMPradiometer_cloudmask,\n",
    "    \"KT19\": cat.HALO.KT19.cloudmask,\n",
    "    \"VELOX\": cat.HALO.VELOX.cloudmask,\n",
    "}"
   ]
  },
  {
   "cell_type": "code",
   "execution_count": null,
   "id": "94652e38",
   "metadata": {
    "ExecuteTime": {
     "start_time": "2022-06-14T20:08:24.781Z"
    }
   },
   "outputs": [],
   "source": [
    "data = {k: load_cloudmask_dataset(v) for k, v in cat_cloudmask.items()}"
   ]
  },
  {
   "cell_type": "markdown",
   "id": "fb5f0101",
   "metadata": {},
   "source": [
    "We have a look at the time periods spanned by the individual datasets: The datasets `HAMP Radar`, `HAMP Radiometer`, and `specMACS` include measurements from the transfer flights on 19 January to Barbados and on 18 February back over the Atlantic to Europe. The datasets `WALES`, `KT19`, and `VELOX` are limited to the 13 local research flights between 22 January and 15 February."
   ]
  },
  {
   "cell_type": "code",
   "execution_count": null,
   "id": "9872f751",
   "metadata": {
    "ExecuteTime": {
     "start_time": "2022-06-14T20:08:24.781Z"
    }
   },
   "outputs": [],
   "source": [
    "for k, v in data.items():\n",
    "    print(f\"{k}: {v.isel(time=0).time.values} -  {v.isel(time=-1).time.values}\")"
   ]
  },
  {
   "cell_type": "markdown",
   "id": "afae9e84",
   "metadata": {},
   "source": [
    "## Case study on February 5\n",
    "We show the cloud masks from the various instruments for an 5 minute time interval around noon on February 5.\n",
    "\n",
    "We add 2D vertical lidar and radar data, as well as 2D horizontal imager data for a better visualization of the cloud information content provided by the instruments."
   ]
  },
  {
   "cell_type": "markdown",
   "id": "e6ed16b0",
   "metadata": {},
   "source": [
    "### Data preprocessing\n",
    "#### Time interval"
   ]
  },
  {
   "cell_type": "code",
   "execution_count": null,
   "id": "e4a2dc0c",
   "metadata": {
    "ExecuteTime": {
     "start_time": "2022-06-14T20:08:24.782Z"
    }
   },
   "outputs": [],
   "source": [
    "s = slice(\"2020-02-05T11:22:00\", \"2020-02-05T11:27:00\")"
   ]
  },
  {
   "cell_type": "markdown",
   "id": "97660468",
   "metadata": {},
   "source": [
    "#### HAMP radar reflectivities"
   ]
  },
  {
   "cell_type": "code",
   "execution_count": null,
   "id": "bcb178fa",
   "metadata": {
    "ExecuteTime": {
     "start_time": "2022-06-14T20:08:24.783Z"
    }
   },
   "outputs": [],
   "source": [
    "ds_radar = cat.HALO.UNIFIED.HAMPradar[\"HALO-0205\"].to_dask()\n",
    "da_radar = ds_radar.dBZ.sel(height=slice(0, 4000), time=s)"
   ]
  },
  {
   "cell_type": "markdown",
   "id": "465d3932",
   "metadata": {},
   "source": [
    "#### WALES lidar backscatter ratio at 1064 nm\n",
    "The WALES dataset has a `range` coordinate that can be translated into a `height` coordinate by:\n",
    "\\begin{equation}\n",
    "height = height\\_above\\_sea\\_level[0] - range\n",
    "\\end{equation}"
   ]
  },
  {
   "cell_type": "code",
   "execution_count": null,
   "id": "1fb80d33",
   "metadata": {
    "ExecuteTime": {
     "start_time": "2022-06-14T20:08:24.783Z"
    }
   },
   "outputs": [],
   "source": [
    "def add_height_coordinate_wales(ds):\n",
    "    ds.coords[\"height\"] = ds.height_above_sea_level[0].values - ds.range\n",
    "    return ds.swap_dims({\"range\": \"height\"})"
   ]
  },
  {
   "cell_type": "code",
   "execution_count": null,
   "id": "901eaaaf",
   "metadata": {
    "ExecuteTime": {
     "start_time": "2022-06-14T20:08:24.784Z"
    }
   },
   "outputs": [],
   "source": [
    "ds_bsri = add_height_coordinate_wales(cat.HALO.WALES.bsri[\"HALO-0205\"].to_dask())\n",
    "da_bsri = ds_bsri.backscatter_ratio.sel(height=slice(4000, 0), time=s)"
   ]
  },
  {
   "cell_type": "markdown",
   "id": "6b296a83",
   "metadata": {},
   "source": [
    "From WALES we also include the cloud top height information"
   ]
  },
  {
   "cell_type": "code",
   "execution_count": null,
   "id": "eea816e8",
   "metadata": {
    "ExecuteTime": {
     "start_time": "2022-06-14T20:08:24.784Z"
    }
   },
   "outputs": [],
   "source": [
    "da_cth = cat.HALO.WALES.cloudparameter[\"HALO-0205\"].to_dask().cloud_top.sel(time=s)"
   ]
  },
  {
   "cell_type": "markdown",
   "id": "6a74a443",
   "metadata": {},
   "source": [
    "#### SpecMACS imager radiance\n",
    "From specMACS we include the radiances at 1.6 micron in the short-wave infrared (SWIR).  \n",
    "\n",
    "```{note}\n",
    "this dataset is only available for the following application on February 5, not for the whole campaign.\n",
    "```"
   ]
  },
  {
   "cell_type": "code",
   "execution_count": null,
   "id": "276f9a2f",
   "metadata": {
    "ExecuteTime": {
     "start_time": "2022-06-14T20:08:24.785Z"
    }
   },
   "outputs": [],
   "source": [
    "ds_swir = xr.open_zarr(\"ipfs://QmZUNCXKvKSeugVHFUsgzDnTrrPHomc5ikEhjoYH2hRq4N\")\n",
    "da_swir = ds_swir.sel(time=s).isel(radiation_wavelength=0).swir_radiance"
   ]
  },
  {
   "cell_type": "markdown",
   "id": "219500d5",
   "metadata": {},
   "source": [
    "#### VELOX broadband IR brightness temperature\n",
    "Next to the SpecMACS SWIR radiance, we include broadband brightness temperatures from VELOX (7.7 - 12 μm).\n",
    "\n",
    "```{note}\n",
    "this dataset is only available for the following application on February 5, not for the whole campaign.\n",
    "```"
   ]
  },
  {
   "cell_type": "code",
   "execution_count": null,
   "id": "c9648ff0",
   "metadata": {
    "ExecuteTime": {
     "start_time": "2022-06-14T20:08:24.785Z"
    }
   },
   "outputs": [],
   "source": [
    "ds_bt = xr.open_zarr(\"ipfs://QmQEwkhhHdJkiThf4hnj9G3wgqVreBnWGrX2A5kT6CrtY7\",\n",
    "                     consolidated=True,\n",
    "                    ).assign_coords(va=lambda x: x.va)"
   ]
  },
  {
   "cell_type": "markdown",
   "id": "e652e148",
   "metadata": {},
   "source": [
    "#### Preprocess cloud mask data\n",
    "\n",
    "We copy the data dictionary and apply the time selection."
   ]
  },
  {
   "cell_type": "markdown",
   "id": "2a189100",
   "metadata": {},
   "source": [
    "For the 2D horizontal imagers we select a region in the center, derive a representative (most frequent) `cloud_mask` flag value and use that in the following intercomparison plot.\n",
    "* VELOX: we select only the central 11 x 11 pixels, i.e. view angle = 0 ∓ 0.2865 (see below)\n",
    "* SpecMACS: we select the central 0.6 degrees, i.e. angle = 0 ∓ 0.3\n",
    "\n",
    "What is the angle of the 11 central pixel in accross track direction for VELOX?"
   ]
  },
  {
   "cell_type": "code",
   "execution_count": null,
   "id": "acfa5120",
   "metadata": {
    "ExecuteTime": {
     "start_time": "2022-06-14T20:08:24.786Z"
    }
   },
   "outputs": [],
   "source": [
    "xmid = ds_bt.x.size // 2\n",
    "va_central = ds_bt.isel(time=0, x=slice(xmid - 5, xmid + 6)).va\n",
    "(va_central.max() - va_central.min()).values"
   ]
  },
  {
   "cell_type": "code",
   "execution_count": null,
   "id": "fa17c3a2",
   "metadata": {
    "ExecuteTime": {
     "start_time": "2022-06-14T20:08:24.786Z"
    }
   },
   "outputs": [],
   "source": [
    "def most_frequent_flag(var, dims):\n",
    "    flag_values = np.asarray(var.flag_values)\n",
    "    flags = xr.DataArray(flag_values, dims=(\"__internal__flags__\"))\n",
    "    flag_indices = (var == flags).sum(dims).argmax(\"__internal__flags__\")\n",
    "    return xr.DataArray(flag_values[flag_indices.data],\n",
    "                        dims=flag_indices.dims,\n",
    "                        attrs=var.attrs)\n",
    "\n",
    "def select_specmacs_cloudmask(ds):\n",
    "    specmacs = ds.sel(angle=slice(.3, -.3))\n",
    "    return ds.assign({\"cloud_mask\": most_frequent_flag(specmacs.cloud_mask, \"angle\"),\n",
    "                      \"CF_min\": cfmin(specmacs),\n",
    "                      \"CF_max\": cfmax(specmacs)})\n",
    "\n",
    "def select_velox_cloudmask(ds):\n",
    "    xmid = ds.x.size // 2\n",
    "    ymid = ds.y.size // 2\n",
    "    velox = ds.isel(x=slice(xmid - 5, xmid + 6), y=slice(ymid - 5, ymid + 6))\n",
    "    return ds.assign({\"cloud_mask\": most_frequent_flag(velox.cloud_mask, (\"x\", \"y\")),\n",
    "                      \"CF_min\": cfmin(velox),\n",
    "                      \"CF_max\": cfmax(velox)})\n",
    "\n",
    "cloudmask_selectors = {\n",
    "    \"WALES\": lambda ds: ds,\n",
    "    \"HAMP Radar\": lambda ds: ds,\n",
    "    \"specMACS\": select_specmacs_cloudmask,\n",
    "    \"HAMP Radiometer\": lambda ds: ds,\n",
    "    \"KT19\": lambda ds: ds,\n",
    "    \"VELOX\": select_velox_cloudmask,\n",
    "}"
   ]
  },
  {
   "cell_type": "code",
   "execution_count": null,
   "id": "0b1891bf",
   "metadata": {
    "ExecuteTime": {
     "start_time": "2022-06-14T20:08:24.787Z"
    }
   },
   "outputs": [],
   "source": [
    "data0205 = {k: ensure_cfminmax(v[\"HALO-0205\"].to_dask()) for k, v in cat_cloudmask.items()}\n",
    "data_feb5 = {k: cloudmask_selectors[k](v.sel(time=s)) for k, v in data0205.items()}"
   ]
  },
  {
   "cell_type": "markdown",
   "id": "52c60a81",
   "metadata": {},
   "source": [
    "### Plot"
   ]
  },
  {
   "cell_type": "code",
   "execution_count": null,
   "id": "e55350bb",
   "metadata": {
    "ExecuteTime": {
     "start_time": "2022-06-14T20:08:24.787Z"
    }
   },
   "outputs": [],
   "source": [
    "colors={\n",
    "    \"WALES\": \"darkgreen\",\n",
    "    \"HAMP Radar\": \"navy\",\n",
    "    \"specMACS\": \"darkred\",\n",
    "    \"HAMP Radiometer\": \"palevioletred\",\n",
    "    \"KT19\": \"coral\",\n",
    "    \"VELOX\": \"cadetblue\",\n",
    "       }"
   ]
  },
  {
   "cell_type": "code",
   "execution_count": null,
   "id": "45d92225",
   "metadata": {
    "ExecuteTime": {
     "start_time": "2022-06-14T20:08:24.788Z"
    }
   },
   "outputs": [],
   "source": [
    "%matplotlib inline\n",
    "import matplotlib.pyplot as plt\n",
    "plt.style.use([\"./mplstyle/book\"])"
   ]
  },
  {
   "cell_type": "code",
   "execution_count": null,
   "id": "79c83676",
   "metadata": {
    "ExecuteTime": {
     "start_time": "2022-06-14T20:08:24.788Z"
    }
   },
   "outputs": [],
   "source": [
    "with plt.style.context(\"mplstyle/square\"):\n",
    "    fig, (ax0, ax1, ax2, ax3, axLegend, axL1, axL2, axL3, axL4, axL5, axL6) = plt.subplots(\n",
    "        11, 1, sharex=True, gridspec_kw={\"height_ratios\": [3, 3, 3, 3, 0.5, 0.5, 0.5,\n",
    "                                                           0.5, 0.5, 0.5, 0.5]}\n",
    "    )\n",
    "\n",
    "    ## 2D vertical\n",
    "    # Wales backscatter ratio\n",
    "    im0 = da_bsri.plot.pcolormesh(\n",
    "        ax=ax0, x=\"time\", y=\"height\", norm=LogNorm(vmin=1, vmax=100),\n",
    "        cmap=\"Spectral_r\", rasterized=True, add_colorbar=False\n",
    "    )\n",
    "    cax0 = make_axes_locatable(ax0).append_axes(\"right\", size=\"1%\", pad=-0.05)\n",
    "    fig.colorbar(im0, cax=cax0, label=\"backscatter ratio\", extend='both')\n",
    "    # cloud top height\n",
    "    da_cth.plot(ax=ax0, x=\"time\", ls=\"\", marker=\".\", color=\"k\", label=\"Cloud top\")\n",
    "    ax0.legend()\n",
    "\n",
    "    # Radar reflectivity\n",
    "    im1 = da_radar.plot(ax=ax1, x=\"time\", rasterized=True, add_colorbar=False)\n",
    "    cax1 = make_axes_locatable(ax1).append_axes(\"right\", size=\"1%\", pad=-0.05)\n",
    "    fig.colorbar(im1, cax=cax1, label=\"reflectivity / dBZ\")\n",
    "\n",
    "    for ax in [ax0, ax1]:\n",
    "        ax.set_yticks([0, 1000, 2000, 3000])\n",
    "        ax.set_ylabel(\"height / m\")\n",
    "\n",
    "    ## 2D horizontal\n",
    "    # SpecMACS radiance\n",
    "    im2 = da_swir.plot.pcolormesh(ax=ax2, x=\"time\", y=\"angle\", cmap=\"Greys_r\",\n",
    "                                  vmin=0, vmax=20, rasterized=True, add_colorbar=False)\n",
    "    cax2 = make_axes_locatable(ax2).append_axes(\"right\", size=\"1%\", pad=-0.05)\n",
    "    fig.colorbar(im2, cax=cax2, label=\"SWIR radiance\", extend='max')\n",
    "    ax2.set_ylabel(\"view angle / deg\")\n",
    "\n",
    "    # VELOX brightness temperature\n",
    "    im3 = (ds_bt.Brightness_temperature - 273.15).plot.pcolormesh(ax=ax3, x=\"time\", y=\"va\",\n",
    "            cmap=\"RdYlBu_r\", rasterized=True, add_colorbar=False)\n",
    "    cax3 = make_axes_locatable(ax3).append_axes(\"right\", size=\"1%\", pad=-0.05)\n",
    "    fig.colorbar(im3, cax=cax3, label=\"Brightness\\ntemperature / °C\")\n",
    "    ax3.set_ylabel(\"view angle / deg\")\n",
    "\n",
    "\n",
    "    ## We leave an empty axis to put the legend here\n",
    "    [s.set_visible(False) for s in axLegend.spines.values()]\n",
    "    axLegend.xaxis.set_visible(False)\n",
    "    axLegend.yaxis.set_visible(False)\n",
    "\n",
    "    ## 1D\n",
    "    # We plot 1D cloud masks\n",
    "    # Each we annotate with a total min and max cloud cover for the scene shown and\n",
    "    # remove disturbing spines\n",
    "    lines = []\n",
    "    plot_order = ['WALES', 'HAMP Radar', 'specMACS', 'VELOX', 'KT19', 'HAMP Radiometer']\n",
    "    axes = dict(zip(plot_order, [axL1, axL2, axL3, axL4, axL5, axL6]))\n",
    "\n",
    "    for k in plot_order:\n",
    "        ds = data_feb5[k]\n",
    "        lines += ds.cloud_mask.plot.line(ax=axes[k], x=\"time\", label=k, color=colors[k])\n",
    "        if axes[k]!=axL6:\n",
    "            axes[k].spines[\"bottom\"].set_visible(False)\n",
    "            axes[k].xaxis.set_visible(False)\n",
    "        axes[k].set_ylabel(\"\")\n",
    "        axes[k].annotate(f\"{ds.CF_min.mean().values * 100:.1f}\"\n",
    "                         + f\" - {ds.CF_max.mean().values * 100:.1f} %\",\n",
    "                         (1, 0.5), color=colors[k], xycoords=\"axes fraction\")\n",
    "\n",
    "    # We add one legend for all 1D cloud masks\n",
    "    labels = [l.get_label() for l in lines]\n",
    "    axL1.legend(lines, labels, ncol=7, bbox_to_anchor=(0.01, 1.5))\n",
    "    axL3.set_ylabel(\"cloud flag\")\n",
    "\n",
    "    for ax in [ax0, ax1, ax2, ax3, axLegend, axL1, axL2, axL3, axL4, axL5, axL6]:\n",
    "        ax.set_xlabel(\"\")\n",
    "        ax.set_title(\"\")\n",
    "\n",
    "    axL6.set_xlabel(\"UTC time\")\n",
    "    axL6.set_xticks(np.arange(np.datetime64('2020-02-05T11:22:00'),\n",
    "                    np.datetime64('2020-02-05T11:28:00'), np.timedelta64(1, 'm')))\n",
    "    ax0.xaxis.set_major_formatter(mpl.dates.DateFormatter('%H:%M'))\n",
    "    fig.autofmt_xdate()\n",
    "\n",
    "    fig.align_ylabels(axs=[ax0, ax1, ax2, ax3, axL3])\n",
    "    #fig.align_ylabels(axs=[cax0, cax1, cax2])\n",
    "\n",
    "    label_pos_x = np.datetime64('2020-02-05T11:21:35')\n",
    "    for ax, label in zip([ax0, ax1, ax2, ax3, axL1], [\"(a)\", \"(b)\", \"(c)\", \"(d)\", \"(e)\"]):\n",
    "        ax.text(label_pos_x, ax.get_ylim()[1], label, verticalalignment='bottom')"
   ]
  },
  {
   "cell_type": "markdown",
   "id": "9bb52a71",
   "metadata": {},
   "source": [
    "## Statistical comparison\n",
    "\n",
    "We will further compare cloud mask information from all HALO flights during EUREC4A on the basis of circle flight segments. Most of the time, the HALO aircraft sampled the airmass in circles east of Barbados. We use the meta data on flight segments, extract the information on start and end time of individual circles, and derive circle-average cloud cover.\n",
    "\n",
    "For the 2D imagers VELOX and speMACS we use the full swath. In the case study above we had selected the central measurements for a better comparison with the other instruments. However, in the following we investigate the broad statistics and therefore include as much information on the cloud field as we can get from the full footprints of each instrument.\n",
    "\n",
    "The following statistics are based on the **minimum cloud cover** including the cloud mask flag `most_likely_cloudy` and **maximum cloud cover** with cloud mask flags $\\in$ {`most_likely_cloudy`, `probably_cloudy`}."
   ]
  },
  {
   "cell_type": "code",
   "execution_count": null,
   "id": "96f803fe",
   "metadata": {
    "ExecuteTime": {
     "start_time": "2022-06-14T20:08:24.788Z"
    }
   },
   "outputs": [],
   "source": [
    "def midpoint(a, b):\n",
    "    return a + (b - a) / 2\n",
    "\n",
    "def cf_circles(ds):\n",
    "    return xr.concat(\n",
    "        [\n",
    "            xr.Dataset({\n",
    "                \"CF_max\": ds.sel(time=slice(i[\"start\"], i[\"end\"])).CF_max.mean(dim=\"time\"),\n",
    "                \"CF_min\": ds.sel(time=slice(i[\"start\"], i[\"end\"])).CF_min.mean(dim=\"time\"),\n",
    "                \"time\": xr.DataArray(midpoint(i[\"start\"], i[\"end\"]), dims=()),\n",
    "                \"segment_id\": xr.DataArray(i[\"segment_id\"], dims=())\n",
    "            })\n",
    "            for i in segments.values()\n",
    "        ], dim=\"time\")"
   ]
  },
  {
   "cell_type": "markdown",
   "id": "f7cb4d2d",
   "metadata": {},
   "source": [
    "### Get meta data"
   ]
  },
  {
   "cell_type": "code",
   "execution_count": null,
   "id": "dfe0427f",
   "metadata": {
    "ExecuteTime": {
     "start_time": "2022-06-14T20:08:24.789Z"
    }
   },
   "outputs": [],
   "source": [
    "meta = eurec4a.get_flight_segments()"
   ]
  },
  {
   "cell_type": "markdown",
   "id": "27be6056",
   "metadata": {},
   "source": [
    "We extract all flight IDs of HALO's research flights"
   ]
  },
  {
   "cell_type": "code",
   "execution_count": null,
   "id": "651394a9",
   "metadata": {
    "ExecuteTime": {
     "start_time": "2022-06-14T20:08:24.789Z"
    }
   },
   "outputs": [],
   "source": [
    "flight_ids = [flight_id\n",
    "              for platform_id, flights in meta.items()\n",
    "              if platform_id==\"HALO\"\n",
    "              for flight_id, flight in flights.items()\n",
    "              ]"
   ]
  },
  {
   "cell_type": "markdown",
   "id": "dda1987d",
   "metadata": {},
   "source": [
    "Within each flight we further extract the circle segments"
   ]
  },
  {
   "cell_type": "code",
   "execution_count": null,
   "id": "fb2c0079",
   "metadata": {
    "ExecuteTime": {
     "start_time": "2022-06-14T20:08:24.790Z"
    }
   },
   "outputs": [],
   "source": [
    "segments = {s[\"segment_id\"]: {**s, \"flight_id\": flight[\"flight_id\"]}\n",
    "             for platform_id, flight_id in meta.items()\n",
    "             if platform_id==\"HALO\"\n",
    "             for flight in flight_id.values()\n",
    "             for s in flight[\"segments\"]\n",
    "            if \"circle\" in s[\"kinds\"]\n",
    "            }\n",
    "print(f\"In total HALO flew {len(segments)} circles during EUREC4A\")"
   ]
  },
  {
   "cell_type": "markdown",
   "id": "a9af87f6",
   "metadata": {},
   "source": [
    "### Time series of circle cloud cover\n",
    "Time series of circle-mean (minimum) cloud cover estimates. The markers visualize the research-flight average, while the lines span the range of all circle-mean cloud cover estimates within a respective flight."
   ]
  },
  {
   "cell_type": "code",
   "execution_count": null,
   "id": "775f796e",
   "metadata": {
    "ExecuteTime": {
     "start_time": "2022-06-14T20:08:24.791Z"
    }
   },
   "outputs": [],
   "source": [
    "ts = np.timedelta64(2, 'h')\n",
    "\n",
    "with plt.style.context(\"mplstyle/wide\"):\n",
    "    fig, ax = plt.subplots()\n",
    "    for k, v in data.items():\n",
    "        ds = cf_circles(v)\n",
    "        ds[\"date\"] = ds.time.astype('<M8[D]')\n",
    "        ax.errorbar(\n",
    "            x=np.unique(ds.date) + ts,\n",
    "            y=ds.groupby(\"date\").mean().CF_min.values,\n",
    "            yerr=abs(np.array([ds.groupby(\"date\").min().CF_min.values,\n",
    "                               ds.groupby(\"date\").max().CF_min.values])\n",
    "                     - ds.groupby(\"date\").mean().CF_min.values),\n",
    "            fmt='o',\n",
    "            color=colors[k],\n",
    "            label=k,\n",
    "        )\n",
    "        ts += np.timedelta64(4, 'h')\n",
    "    ax.set_ylim(0, 1)\n",
    "    ax.set_xticks(np.unique(ds.date) + np.timedelta64(12, 'h'))\n",
    "    ax.xaxis.set_major_formatter(mpl.dates.DateFormatter('%b %d'))\n",
    "    fig.autofmt_xdate()\n",
    "\n",
    "    ax.set_ylabel(\"Minimum circle-mean\\ncloud cover\")\n",
    "    ax.legend(title=\"Instruments\", bbox_to_anchor=(1,1), loc=\"upper left\")\n",
    "    ax.set_xlabel(\"Date\")"
   ]
  },
  {
   "cell_type": "markdown",
   "id": "188c8171",
   "metadata": {},
   "source": [
    "### Histogram of circle-mean cloud cover\n",
    "\n",
    "We first have a look at the distributions of circle-mean cloud cover based on the minimum (`most_likely_cloudy`) and the maximum estimates (`most_likely_cloudy` & `probably_cloudy`)."
   ]
  },
  {
   "cell_type": "code",
   "execution_count": null,
   "id": "5467c3a9",
   "metadata": {
    "ExecuteTime": {
     "start_time": "2022-06-14T20:08:24.791Z"
    }
   },
   "outputs": [],
   "source": [
    "binedges = np.arange(0, 1.2, .2)\n",
    "binmids = (binedges[1:] + binedges[:-1]) / 2"
   ]
  },
  {
   "cell_type": "code",
   "execution_count": null,
   "id": "3fe711c6",
   "metadata": {
    "ExecuteTime": {
     "start_time": "2022-06-14T20:08:24.792Z"
    }
   },
   "outputs": [],
   "source": [
    "with plt.style.context(\"mplstyle/wide\"):\n",
    "    fig, (ax0, ax1) = plt.subplots(1, 2, sharey=True)\n",
    "    count = 0\n",
    "    width = 0.02\n",
    "    for k, v in data.items():\n",
    "        ds = cf_circles(v)\n",
    "        ax0.bar(x=binmids - 0.05 + count,\n",
    "                height=np.histogram(ds.CF_min.values, bins=binedges)[0] / ds.time.size,\n",
    "                width=width, color=colors[k], label=k)\n",
    "        ax1.bar(x=binmids - 0.05 + count,\n",
    "                height=np.histogram(ds.CF_max.values, bins=binedges)[0] / ds.time.size,\n",
    "                width=width, color=colors[k], label=k)\n",
    "        count += 0.02\n",
    "\n",
    "    xticks = [0.1, 0.3, 0.5, 0.7, 0.9]\n",
    "\n",
    "    for ax in [ax0, ax1]:\n",
    "        ax.set_xlim(0, 1)\n",
    "        ax.set_ylim(0, 1)\n",
    "        ax.spines['bottom'].set_visible(False)\n",
    "        for x in xticks:\n",
    "            ax.axhline(y=0, xmin=x-0.06, xmax=x+0.06, color=\"k\")\n",
    "        ax.set_xticks([0, 0.2, 0.4, 0.6, 0.8, 1])\n",
    "\n",
    "\n",
    "    ax0.set_xlabel(\"Minimum circle-mean cloud cover\")\n",
    "    ax1.set_xlabel(\"Maximum circle-mean cloud cover\")\n",
    "    ax0.set_ylabel(\"Fraction of circles\")\n",
    "    ax1.legend(title=\"Instruments\", bbox_to_anchor=(.55,1), loc=\"upper left\")\n",
    "\n",
    "    ax0.text(-0.18, ax.get_ylim()[1], \"(a)\", verticalalignment='top')\n",
    "    ax1.text(-0.1, ax.get_ylim()[1], \"(b)\", verticalalignment='top')"
   ]
  },
  {
   "cell_type": "markdown",
   "id": "c642cd91",
   "metadata": {},
   "source": [
    "For a better comparison of minimum and maximum circle-mean cloud cover we merge the two above plots and show their difference in the following plot. In particular, we show the cumulative fraction of circle-mean cloud cover estimates. Depending on the instruments and some instrument downtimes, the available circle counts range from 64 to 72. The bins on the x-axis have a bin width of 0.2 respectively. The bars span the range defined by the minimum cloud cover based on cloud flag `most likely cloudy`and the maximum cloud cover based on cloud flags `most likely cloudy` and `probably cloudy`."
   ]
  },
  {
   "cell_type": "code",
   "execution_count": null,
   "id": "97fc437b",
   "metadata": {
    "ExecuteTime": {
     "start_time": "2022-06-14T20:08:24.792Z"
    }
   },
   "outputs": [],
   "source": [
    "with plt.style.context(\"mplstyle/wide\"):\n",
    "    fig, ax = plt.subplots()\n",
    "    count = 0\n",
    "    width = 0.02\n",
    "    for k, v in data.items():\n",
    "        ds = cf_circles(v)\n",
    "        hist_min = (np.histogram(ds.CF_min.values, bins=binedges)[0]\n",
    "                    / (ds.time.size - np.isnan(ds.CF_min.values).sum()))\n",
    "        hist_max = (np.histogram(ds.CF_max.values, bins=binedges)[0]\n",
    "                    / (ds.time.size - np.isnan(ds.CF_max.values).sum()))\n",
    "        # draw a fake default line at the minimum\n",
    "        ax.bar(x=binmids - 0.05 + count,\n",
    "                height=0.015,\n",
    "                width=width,\n",
    "                bottom=np.cumsum(hist_min),\n",
    "                color=colors[k], label=k)\n",
    "        ax.bar(x=binmids - 0.05 + count,\n",
    "                height=np.cumsum(hist_max) - np.cumsum(hist_min),\n",
    "                width=width,\n",
    "                bottom=np.cumsum(hist_min),\n",
    "                color=colors[k])\n",
    "        count+=0.02\n",
    "\n",
    "    # manually set x- and y-axis\n",
    "    [s.set_visible(False) for s in ax.spines.values()]\n",
    "    # x-axis\n",
    "    ax.set_xlim(0, 1)\n",
    "    xticks = [0.1, 0.3, 0.5, 0.7, 0.9]\n",
    "    for x in xticks:\n",
    "        ax.axhline(y=0, xmin=x-0.06, xmax=x+0.06, color=\"k\")\n",
    "    ax.set_xticks([0, 0.2, 0.4, 0.6, 0.8, 1])\n",
    "    ax.set_xlabel(\"Circle-mean cloud cover\")\n",
    "    # y-axis\n",
    "    ax.set_ylim(0, 1.02)\n",
    "    ax.plot([0, 0], [0, 1], color=\"k\")\n",
    "    ax.set_ylabel(\"Fraction of circles\")\n",
    "\n",
    "    ax.legend(title=\"Instruments\", bbox_to_anchor=(1,1), loc=\"upper left\")"
   ]
  },
  {
   "cell_type": "markdown",
   "id": "961b903c",
   "metadata": {},
   "source": [
    "### A small interpretation attempt\n",
    "We highlight a few features that stick out in the above figures showing the cloud cover statistics.\n",
    "\n",
    "Time series:\n",
    "* the WALES dataset does not have a `probably_cloudy` flag, and thus, the `CF_min` and `CF_max` variables are the same. The instrument design and methodology used to define the cloud flag seems to be very sensitive to small and optically thin clouds and the cloud cover estimates agree better with the `CF_max` of all other instruments.\n",
    "* The time series shows that on the transfer flight on 19 January the HAMP radar and radiometer and specMACS datasets were processed and datasets are available including one circle near Barbados. For WALES, VELOX, and KT19 no data is available.\n",
    "* The disagreement in cloud cover estimates for the flight on 15 February is partly due to a deep stratocumulus layer with a strong reflection at cloud top that blinded the lidar (WALES), while the radar was still able to provide reasonable estimates.\n",
    "\n",
    "Distributions:\n",
    "* All instruments, excluding WALES, agree well in the distribution of circle-mean cloud cover estimates according to their `CF_min` variable, while they vary on their definition of uncertain `probably_cloudy` measurements that are included in `CF_max`.\n",
    "* In the case of VELOX as well as for all other passive instruments, the cloud cover estimates shift to higher numbers when including the uncertain cloud flag (from minimum to maximum cloud cover).\n",
    "* The fraction of circle-mean cloud cover difference (minimum to maximum) shows a disagreement between the instruments for cloud cover ranges up to about 0.5 due to their different detection principles. Optically thin clouds can have a significant impact on circle-mean estimates in low cloud cover situations and lead to uncertain pixels. WALES can detect such thin clouds and suggest generally higher cloud cover with the change in cumulative fraction being strongest between 0.2 and 0.6.\n",
    "* In general we find that only few circles have a cloud cover higher than 0.6. At such high cloud cover the instruments agree remarkably well and also, minimum and maximum cloud cover are almost equal.\n",
    "* About 50 % of the time cloud cover estimates are below 0.2."
   ]
  },
  {
   "cell_type": "markdown",
   "id": "1a3a89f3",
   "metadata": {},
   "source": [
    "## Camapign mean cloud cover\n",
    "* from all available data including the transfer flights"
   ]
  },
  {
   "cell_type": "code",
   "execution_count": null,
   "id": "bf4b5ab7",
   "metadata": {
    "ExecuteTime": {
     "start_time": "2022-06-14T20:08:24.793Z"
    }
   },
   "outputs": [],
   "source": [
    "print(\"Instrument: min - max\")\n",
    "print(\"\")\n",
    "for k, v in data.items():\n",
    "    print(f\"{k}: {v.CF_min.mean().values:.2f} - {v.CF_max.mean().values:.2f} \")"
   ]
  },
  {
   "cell_type": "markdown",
   "id": "ae34e82f",
   "metadata": {},
   "source": [
    "* only from local research flights"
   ]
  },
  {
   "cell_type": "code",
   "execution_count": null,
   "id": "b40a32d0",
   "metadata": {
    "ExecuteTime": {
     "start_time": "2022-06-14T20:08:24.793Z"
    }
   },
   "outputs": [],
   "source": [
    "localRF = slice(\"2020-01-22T00:00:00\", \"2020-02-15T23:59:59\")"
   ]
  },
  {
   "cell_type": "code",
   "execution_count": null,
   "id": "9ee1cf02",
   "metadata": {
    "ExecuteTime": {
     "start_time": "2022-06-14T20:08:24.794Z"
    }
   },
   "outputs": [],
   "source": [
    "print(\"Instrument: min - max\")\n",
    "print(\"\")\n",
    "for k, v in data.items():\n",
    "    print(f\"{k}: {v.sel(time=localRF).CF_min.mean().values:.2f} - \"\n",
    "          + f\"{v.sel(time=localRF).CF_max.mean().values:.2f} \")"
   ]
  }
 ],
 "metadata": {
  "kernelspec": {
   "display_name": "Python 3 (ipykernel)",
   "language": "python",
   "name": "python3"
  },
  "language_info": {
   "codemirror_mode": {
    "name": "ipython",
    "version": 3
   },
   "file_extension": ".py",
   "mimetype": "text/x-python",
   "name": "python",
   "nbconvert_exporter": "python",
   "pygments_lexer": "ipython3",
   "version": "3.9.12"
  }
 },
 "nbformat": 4,
 "nbformat_minor": 5
}
