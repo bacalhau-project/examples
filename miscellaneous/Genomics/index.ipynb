{
 "cells": [
  {
   "cell_type": "markdown",
   "metadata": {},
   "source": [
    "# Running Genomics on Bacalhau\n"
   ]
  },
  {
   "cell_type": "markdown",
   "metadata": {},
   "source": [
    "[![Open In Colab](https://colab.research.google.com/assets/colab-badge.svg)](https://colab.research.google.com/github/bacalhau-project/examples/blob/main/Genomics/BIDS/index.ipynb)\n",
    "[![Open In Binder](https://mybinder.org/badge.svg)](https://mybinder.org/v2/gh/bacalhau-project/examples/HEAD?labpath=miscellaneous/Genomics/index.ipynb)"
   ]
  },
  {
   "attachments": {},
   "cell_type": "markdown",
   "metadata": {
    "id": "zMydkhcwEBhl"
   },
   "source": [
    "# Introduction\n",
    "\n",
    "Kipoi _(pronounce: kípi; from the Greek κήποι: gardens)_ is an API and a repository of ready-to-use trained models for genomics. It currently contains 2201 different models, covering canonical predictive tasks in transcriptional and post-transcriptional gene regulation. Kipoi's API is implemented as a [python package](https://github.com/kipoi/kipoi) and it is also accessible from the command line.\n",
    "\n",
    "\n",
    "## Prerequisite\n",
    "\n",
    "To get started, you need to install the Bacalhau client, see more information [here](https://docs.bacalhau.org/getting-started/installation)\n",
    "\n",
    "## Containerize your Script using Docker\n",
    "\n",
    "To run Genomics on Bacalhau we need to set up a Docker container. To do this, you'll need to create a `Dockerfile` and add your desired configuaration. The Dockerfile is a text document that contains the commands that specify how the image will be built.\n",
    "\n",
    "```\n",
    "FROM kipoi/kipoi-veff2:py37\n",
    "\n",
    "RUN kipoi_veff2_predict ./examples/input/test.vcf ./examples/input/test.fa ./output.tsv -m \"DeepSEA/predict\" -s \"diff\" -s \"logit\"\n",
    "```\n",
    "\n",
    "### Build the container\n",
    "\n",
    "The `docker build` command builds Docker images from a Dockerfile. \n",
    "\n",
    "```\n",
    "docker build -t <hub-user>/<repo-name>:<tag> .\n",
    "```\n",
    "\n",
    "Before running the command replace;\n",
    "\n",
    "- **hub-user** with your docker hub username, If you don’t have a docker hub account [follow these instructions to create docker account](https://docs.docker.com/docker-id/), and use the username of the account you created\n",
    "\n",
    "- **repo-name** with the name of the container, you can name it anything you want\n",
    "\n",
    "- **tag** this is not required but you can use the latest tag\n",
    "\n",
    "In our case\n",
    "\n",
    "```bash\n",
    "docker build -t ghcr.io/bacalhau-project/examples/stable-diffusion-gpu:0.0.1 .\n",
    "```\n",
    "\n",
    "### Push the container\n",
    "\n",
    "Next, upload the image to the registry. This can be done by using the Docker hub username, repo name or tag.\n",
    "\n",
    "```\n",
    "docker push <hub-user>/<repo-name>:<tag>\n",
    "```"
   ]
  },
  {
   "attachments": {},
   "cell_type": "markdown",
   "metadata": {
    "id": "nrYRpVNUEN73"
   },
   "source": [
    "### Running a Bacalhau job to Generate Genomics Data\n",
    "\n",
    "After the repo image has been pushed to docker hub, we can now use the container for running on Bacalhau. To submit a job, run the following Bacalhau command:\n"
   ]
  },
  {
   "cell_type": "code",
   "execution_count": null,
   "metadata": {
    "colab": {
     "base_uri": "https://localhost:8080/"
    },
    "executionInfo": {
     "elapsed": 120483,
     "status": "ok",
     "timestamp": 1664708614147,
     "user": {
      "displayName": "Vedant Padwal",
      "userId": "05534807475078682627"
     },
     "user_tz": -330
    },
    "id": "Htb8W95DU8av",
    "outputId": "8b83702b-4815-46a2-e02f-202454eaab83",
    "tags": [
     "skip-execution"
    ]
   },
   "outputs": [],
   "source": [
    "%%bash --out job_id\n",
    "bacalhau docker run \\\n",
    "--id-only \\\n",
    "--wait \\ \n",
    "--timeout 3600 \\\n",
    "--wait-timeout-secs 3600 \\\n",
    "jsacex/kipoi-veff2:py37 \\\n",
    "-- kipoi_veff2_predict ./examples/input/test.vcf ./examples/input/test.fa ../outputs/output.tsv -m \"DeepSEA/predict\" -s \"diff\" -s \"logit\""
   ]
  },
  {
   "attachments": {},
   "cell_type": "markdown",
   "metadata": {},
   "source": [
    "When a job is sumbitted, Bacalhau prints out the related `job_id`. We store that in an environment variable so that we can reuse it later on."
   ]
  },
  {
   "cell_type": "code",
   "execution_count": null,
   "metadata": {
    "tags": [
     "skip-execution"
    ]
   },
   "outputs": [],
   "source": [
    "%%env JOB_ID={job_id}"
   ]
  },
  {
   "attachments": {},
   "cell_type": "markdown",
   "metadata": {
    "id": "UszrZGs4c4i9"
   },
   "source": [
    "\n",
    "## Checking the State of your Jobs\n",
    "\n",
    "- **Job status**: You can check the status of the job using `bacalhau list`. "
   ]
  },
  {
   "cell_type": "code",
   "execution_count": null,
   "metadata": {
    "colab": {
     "base_uri": "https://localhost:8080/"
    },
    "executionInfo": {
     "elapsed": 902,
     "status": "ok",
     "timestamp": 1664708615019,
     "user": {
      "displayName": "Vedant Padwal",
      "userId": "05534807475078682627"
     },
     "user_tz": -330
    },
    "id": "jY8x0oyWc6Dq",
    "outputId": "8579fff6-908c-42f1-be60-eca2040d5ecd",
    "tags": [
     "skip-execution"
    ]
   },
   "outputs": [
    {
     "name": "stdout",
     "output_type": "stream",
     "text": [
      "\u001b[92;100m CREATED  \u001b[0m\u001b[92;100m ID       \u001b[0m\u001b[92;100m JOB                     \u001b[0m\u001b[92;100m STATE     \u001b[0m\u001b[92;100m VERIFIED \u001b[0m\u001b[92;100m PUBLISHED               \u001b[0m\n",
      "\u001b[97;40m 11:01:31 \u001b[0m\u001b[97;40m cf10a68c \u001b[0m\u001b[97;40m Docker jsacex/kipoi-... \u001b[0m\u001b[97;40m Completed \u001b[0m\u001b[97;40m          \u001b[0m\u001b[97;40m /ipfs/QmU3EV213QSHeK... \u001b[0m\n"
     ]
    }
   ],
   "source": [
    "%%bash\n",
    "bacalhau list --id-filter ${JOB_ID} --wide"
   ]
  },
  {
   "attachments": {},
   "cell_type": "markdown",
   "metadata": {
    "id": "kFYpNA32c7t5"
   },
   "source": [
    "When it says `Completed`, that means the job is done, and we can get the results.\n",
    "\n",
    "- **Job information**: You can find out more information about your job by using `bacalhau describe`."
   ]
  },
  {
   "cell_type": "code",
   "execution_count": null,
   "metadata": {
    "colab": {
     "base_uri": "https://localhost:8080/"
    },
    "executionInfo": {
     "elapsed": 1133,
     "status": "ok",
     "timestamp": 1664708616147,
     "user": {
      "displayName": "Vedant Padwal",
      "userId": "05534807475078682627"
     },
     "user_tz": -330
    },
    "id": "FDnxNH3lVbG1",
    "outputId": "919ec2d0-f5e5-43be-f483-0f3292152ac6",
    "tags": [
     "skip-execution"
    ]
   },
   "outputs": [],
   "source": [
    "%%bash\n",
    "bacalhau describe ${JOB_ID}"
   ]
  },
  {
   "attachments": {},
   "cell_type": "markdown",
   "metadata": {
    "id": "2I4DHnt0Vzua"
   },
   "source": [
    "- **Job download**: You can download your job results directly by using `bacalhau get`. Alternatively, you can choose to create a directory to store your results. In the command below, we created a directory and downloaded our job output to be stored in that directory."
   ]
  },
  {
   "cell_type": "code",
   "execution_count": null,
   "metadata": {
    "colab": {
     "base_uri": "https://localhost:8080/"
    },
    "executionInfo": {
     "elapsed": 382486,
     "status": "ok",
     "timestamp": 1664708998627,
     "user": {
      "displayName": "Vedant Padwal",
      "userId": "05534807475078682627"
     },
     "user_tz": -330
    },
    "id": "Ha5UFWLYV_5R",
    "outputId": "c52ccd0e-1f2d-4982-c2e3-10799ffa4bdb",
    "tags": [
     "skip-execution"
    ]
   },
   "outputs": [
    {
     "name": "stdout",
     "output_type": "stream",
     "text": [
      "\u001b[90m11:03:34.094 |\u001b[0m \u001b[32mINF\u001b[0m \u001b[1mbacalhau/get.go:67\u001b[0m\u001b[36m >\u001b[0m Fetching results of job 'cf10a68c-9fb7-41fa-991b-a736cbf6277f'...\n",
      "2022/10/02 11:03:35 failed to sufficiently increase receive buffer size (was: 208 kiB, wanted: 2048 kiB, got: 416 kiB). See https://github.com/lucas-clemente/quic-go/wiki/UDP-Receive-Buffer-Size for details.\n",
      "\u001b[90m11:03:45.277 |\u001b[0m \u001b[32mINF\u001b[0m \u001b[1mipfs/downloader.go:115\u001b[0m\u001b[36m >\u001b[0m Found 1 result shards, downloading to temporary folder.\n",
      "\u001b[90m11:09:55.538 |\u001b[0m \u001b[32mINF\u001b[0m \u001b[1mipfs/downloader.go:195\u001b[0m\u001b[36m >\u001b[0m Combining shard from output volume 'outputs' to final location: '/content/results'\n"
     ]
    }
   ],
   "source": [
    "%%bash\n",
    "rm -rf results && mkdir -p results\n",
    "bacalhau get $JOB_ID --output-dir results"
   ]
  },
  {
   "attachments": {},
   "cell_type": "markdown",
   "metadata": {
    "id": "nrZcHon2WOd-"
   },
   "source": [
    "After the download has finished you should see the following contents in results directory\n",
    "\n",
    "## Viewing your Job Output\n",
    "\n",
    "Each job creates 3 subfolders: the **combined_results**, **per_shard files**, and the **raw** directory. To view the file, run the following command:"
   ]
  },
  {
   "cell_type": "code",
   "execution_count": null,
   "metadata": {
    "colab": {
     "base_uri": "https://localhost:8080/"
    },
    "executionInfo": {
     "elapsed": 15,
     "status": "ok",
     "timestamp": 1664708998628,
     "user": {
      "displayName": "Vedant Padwal",
      "userId": "05534807475078682627"
     },
     "user_tz": -330
    },
    "id": "C5EmAu29WRpa",
    "outputId": "1d9daa3e-e77e-4f69-8430-b86f23e82251",
    "tags": [
     "skip-execution"
    ]
   },
   "outputs": [],
   "source": [
    "%%bash\n",
    "ls results/ # list the contents of the current directory \n",
    "cat results/combined_results/outputs/output.tsv | head -n 10 # list the contents of the current directory "
   ]
  }
 ],
 "metadata": {
  "colab": {
   "authorship_tag": "ABX9TyN7Wp+KpghcK17ZTag8sOzr",
   "provenance": []
  },
  "kernelspec": {
   "display_name": "Python 3 (ipykernel)",
   "language": "python",
   "name": "python3"
  },
  "language_info": {
   "codemirror_mode": {
    "name": "ipython",
    "version": 3
   },
   "file_extension": ".py",
   "mimetype": "text/x-python",
   "name": "python",
   "nbconvert_exporter": "python",
   "pygments_lexer": "ipython3",
   "version": "3.8.10 (default, Jun 22 2022, 20:18:18) \n[GCC 9.4.0]"
  },
  "vscode": {
   "interpreter": {
    "hash": "916dbcbb3f70747c44a77c7bcd40155683ae19c65e1c03b4aa3499c5328201f1"
   }
  }
 },
 "nbformat": 4,
 "nbformat_minor": 1
}
