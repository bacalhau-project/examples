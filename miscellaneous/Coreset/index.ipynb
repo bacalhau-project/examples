{
    "cells": [
        {
            "cell_type": "markdown",
            "metadata": {},
            "source": [
                "# Coresets On Bacalhau \n"
            ]
        },
        {
            "cell_type": "markdown",
            "metadata": {},
            "source": [
                "[![Open In Colab](https://colab.research.google.com/assets/colab-badge.svg)](https://colab.research.google.com/github/bacalhau-project/examples/blob/main/Coreset/BIDS/index.ipynb)\n",
                "[![Open In Binder](https://mybinder.org/badge.svg)](https://mybinder.org/v2/gh/bacalhau-project/examples/HEAD?labpath=miscellaneous/Coreset/index.ipynb)"
            ]
        },
        {
            "cell_type": "markdown",
            "metadata": {
                "id": "d3gwaTxulZ30"
            },
            "source": [
                "## **Introduction**\n",
                "\n",
                "[Coreset ](https://arxiv.org/abs/2011.09384)is a data subsetting method, Since the uncompressed datasets involved can get very big when compressed it becomes much harder to train them as training time increases with the dataset size, to reduce the training time to save costs we use the coreset method the coreset method can also be applied to other datasets\n",
                "\n",
                "Coresets similar functionality as same as the whole dataset\n",
                "\n",
                "![](https://i.imgur.com/AQDLMXn.png)\n",
                "\n",
                "In this case, we use the coreset method which can lead to a fast speed in solving the k-means problem among the big data with high accuracy in the meantime.\n",
                "\n",
                "We construct a small coreset for arbitrary shapes of numerical data with a decent time cost. The implementation was mainly based on the coreset construction algorithm that was proposed by Braverman et al. (SODA 2021)."
            ]
        },
        {
            "cell_type": "markdown",
            "metadata": {
                "id": "CZOHqcrglexv"
            },
            "source": [
                "\n",
                "## **Running Locally**\n",
                "\n",
                "Clone the repo which contains the code\n"
            ]
        },
        {
            "cell_type": "code",
            "execution_count": null,
            "metadata": {
                "tags": [
                    "skip-execution"
                ]
            },
            "outputs": [],
            "source": [
                "%%bash\n",
                "git clone https://github.com/js-ts/Coreset"
            ]
        },
        {
            "cell_type": "markdown",
            "metadata": {
                "id": "YadAZJJIlolB"
            },
            "source": [
                "\n",
                "Downloading the dataset\n",
                "\n",
                "Open Street Map, which is a public repository that aims to generate and distribute accessible geographic data for the whole world. Basically, it supplies detailed position information, including the longitude and latitude of the places around the world. \n",
                "\n",
                " The dataset is a osm.pbf (compressed format for .osm file), the file can be downloaded from [Geofabrik Download Server](https://download.geofabrik.de/) \n"
            ]
        },
        {
            "cell_type": "code",
            "execution_count": null,
            "metadata": {
                "tags": [
                    "skip-execution"
                ]
            },
            "outputs": [],
            "source": [
                "%%bash\n",
                "wget https://download.geofabrik.de/europe/liechtenstein-latest.osm.pbf -o liechtenstein-latest.osm.pbf"
            ]
        },
        {
            "cell_type": "markdown",
            "metadata": {
                "id": "j7-NHDoHl-vV"
            },
            "source": [
                "\n",
                "Installing the Linux dependencies\n"
            ]
        },
        {
            "cell_type": "code",
            "execution_count": null,
            "metadata": {
                "tags": [
                    "skip-execution"
                ]
            },
            "outputs": [],
            "source": [
                "%%bash\n",
                "sudo apt-get -y update \\\n",
                "sudo apt-get -y install osmium-tool \\\n",
                "sudo apt update \\\n",
                "sudo apt-get -y install libpq-dev gdal-bin libgdal-dev libxml2-dev libxslt-dev"
            ]
        },
        {
            "cell_type": "markdown",
            "metadata": {
                "id": "mdGmpAzpmLrA"
            },
            "source": [
                "Installing Python Dependencies\n"
            ]
        },
        {
            "cell_type": "code",
            "execution_count": null,
            "metadata": {
                "tags": [
                    "skip-execution"
                ]
            },
            "outputs": [],
            "source": [
                "%%bash\n",
                "pip3 install -r Coreset/requirements.txt"
            ]
        },
        {
            "cell_type": "markdown",
            "metadata": {
                "id": "k0WKc5bSmRfC"
            },
            "source": [
                "Running coreset locally\n",
                "\n",
                "Convert from compressed pbf format to geojson format"
            ]
        },
        {
            "cell_type": "code",
            "execution_count": null,
            "metadata": {
                "tags": [
                    "skip-execution"
                ]
            },
            "outputs": [],
            "source": [
                "%%bash\n",
                "osmium export liechtenstein-latest.osm.pbf -o liechtenstein-latest.geojson"
            ]
        },
        {
            "cell_type": "markdown",
            "metadata": {
                "id": "JY_IobynmZ4e"
            },
            "source": [
                " Running the python script to generate the coreset"
            ]
        },
        {
            "cell_type": "code",
            "execution_count": null,
            "metadata": {
                "colab": {
                    "base_uri": "https://localhost:8080/"
                },
                "executionInfo": {
                    "elapsed": 11,
                    "status": "ok",
                    "timestamp": 1664707922138,
                    "user": {
                        "displayName": "Vedant Padwal",
                        "userId": "05534807475078682627"
                    },
                    "user_tz": -330
                },
                "id": "P-THiUUsmdnx",
                "outputId": "b900d93e-7d1f-4f04-ce3b-ef43e78d977b",
                "scrolled": true,
                "tags": [
                    "skip-execution"
                ]
            },
            "outputs": [],
            "source": [
                "%%bash\n",
                "python Coreset/python/coreset.py -f liechtenstein-latest.geojson"
            ]
        },
        {
            "cell_type": "markdown",
            "metadata": {
                "id": "nD7tGg4Fml91"
            },
            "source": [
                "Building the docker container\n",
                "\n",
                "In this step you will create a  `Dockerfile` to create your Docker deployment. The `Dockerfile` is a text document that contains the commands used to assemble the image.\n",
                "\n",
                "First, create the `Dockerfile`.\n",
                "\n",
                "Next, add your desired configuration to the `Dockerfile`. These commands specify how the image will be built, and what extra requirements will be included.\n",
                "\n",
                "Dockerfile\n",
                "\n",
                "\n",
                "```\n",
                "FROM python:3.8\n",
                "\n",
                "RUN apt-get -y update && apt-get -y install osmium-tool && apt update && apt-get -y install libpq-dev gdal-bin libgdal-dev libxml2-dev libxslt-dev\n",
                "\n",
                "ADD Coreset Coreset\n",
                "\n",
                "ADD monaco-latest.geojson .\n",
                "\n",
                "RUN cd Coreset && pip3 install -r requirements.txt\n",
                "```\n",
                "\n",
                "\n",
                "We will use the `python:3.8` image, and we will choose the src directory in the container as our work directory, we run the same commands for installing dependencies that we used locally, but we also add files and directories which are present on our local machine, we also run a test command, in the end, to check whether the script works\n",
                "\n",
                "To Build the docker container run the docker build command\n",
                "\n",
                "\n",
                "```\n",
                "docker build -t <hub-user>/<repo-name>:<tag> .\n",
                "```\n",
                "\n",
                "\n",
                "Please replace\n",
                "\n",
                "&lt;hub-user> with your docker hub username, If you don’t have a docker hub account [Follow these instructions to create docker account](https://docs.docker.com/docker-id/), and use the username of the account you created\n",
                "\n",
                "&lt;repo-name> This is the name of the container, you can name it anything you want\n",
                "\n",
                "&lt;tag> This is not required but you can use the latest tag\n",
                "\n",
                "After you have build the container, the next step is to test it locally and then push it docker hub\n",
                "\n",
                "Now you can push this repository to the registry designated by its name or tag.\n",
                "\n",
                "\n",
                "```\n",
                " docker push <hub-user>/<repo-name>:<tag>\n",
                "```\n",
                "\n",
                "\n",
                "After the repo image has been pushed to docker hub, we can now use the container for running on bacalhau\n",
                "\n",
                "\n",
                "## Running on Bacalhau\n",
                "\n",
                "COMMAND\n",
                "\n",
                "\n",
                "```\n",
                "bacalhau docker run \\\n",
                "-v QmXuatKaWL24CwrBPC9PzmLW8NGjgvBVJfk6ZGCWUGZgCu:/input \\\n",
                "jsace/coreset \\\n",
                "-- /bin/bash -c 'osmium export input/liechtenstein-latest.osm.pbf -o liechtenstein-latest.geojson;\n",
                "python Coreset/python/coreset.py -f input/liechtenstein-latest.geojson -o outputs'\n",
                "```\n",
                "\n",
                "\n",
                "Backend: Docker backend here for running the job\n",
                "\n",
                "Input dataset: Upload the .osm.pbf file while you want to use as a dataset to IPFS, use this CID here \n",
                "\n",
                "we mount it to the folder inside the container so it can be used by the script\n",
                "\n",
                "Image: custom docker Image (it has osmium, python and the requirements for the script installed )\n",
                "\n",
                "Command:\n",
                "\n",
                "Convert the osm.pbf dataset to geojson (the dataset is stored in the input volume folder)\n",
                "\n",
                "\n",
                "```\n",
                "osmium export input/.osm.pbf -o liechtenstein-latest.geojson\n",
                "```\n",
                "\n",
                "\n",
                "Run the script ‘-f’ path of the output geojson file from the above step\n",
                "\n",
                "\n",
                "```\n",
                "python Coreset/python/coreset.py -f liechtenstein-latest.geojson -o outputs\n",
                "```\n",
                "\n",
                "\n",
                "We get the output in stdout\n",
                "\n",
                "Additional parameters: -k amount of initialized centers (default=5)\n",
                "\n",
                "-n: size of coreset (default=50)\n",
                "\n",
                "-o the folder where you want to store you outputs"
            ]
        },
        {
            "cell_type": "markdown",
            "metadata": {
                "id": "24HuygvzTwnT"
            },
            "source": [
                "Insalling bacalhau"
            ]
        },
        {
            "cell_type": "code",
            "execution_count": null,
            "metadata": {
                "tags": [
                    "skip-execution"
                ]
            },
            "outputs": [],
            "source": [
                "%%bash\n",
                "curl -sL https://get.bacalhau.org/install.sh | bash"
            ]
        },
        {
            "cell_type": "code",
            "execution_count": null,
            "metadata": {
                "tags": [
                    "skip-execution"
                ]
            },
            "outputs": [],
            "source": [
                "%%bash --out job_id\n",
                "bacalhau docker run \\\n",
                "--id-only \\\n",
                "--wait \\\n",
                "--timeout 3600 \\\n","--wait-timeout-secs 3600 \\\n",
                "-v QmXuatKaWL24CwrBPC9PzmLW8NGjgvBVJfk6ZGCWUGZgCu:/input \\\n",
                "jsace/coreset\n",
                "-- /bin/bash -c 'osmium export input/liechtenstein-latest.osm.pbf -o liechtenstein-latest.geojson; python Coreset/python/coreset.py -f liechtenstein-latest.geojson -o outputs'"
            ]
        },
        {
            "cell_type": "code",
            "execution_count": null,
            "metadata": {
                "tags": [
                    "skip-execution"
                ]
            },
            "outputs": [],
            "source": [
                "%env JOB_ID={job_id}"
            ]
        },
        {
            "cell_type": "markdown",
            "metadata": {
                "id": "UszrZGs4c4i9"
            },
            "source": [
                "\n",
                "Running the commands will output a UUID (like `54506541-4eb9-45f4-a0b1-ea0aecd34b3e`). This is the ID of the job that was created. You can check the status of the job with the following command:\n"
            ]
        },
        {
            "cell_type": "code",
            "execution_count": null,
            "metadata": {
                "tags": [
                    "skip-execution"
                ]
            },
            "outputs": [],
            "source": [
                "%%bash\n",
                "bacalhau list --id-filter ${JOB_ID} --wide"
            ]
        },
        {
            "cell_type": "markdown",
            "metadata": {
                "id": "kFYpNA32c7t5"
            },
            "source": [
                "\n",
                "Where it says \"`Completed`\", that means the job is done, and we can get the results.\n",
                "\n",
                "To find out more information about your job, run the following command:"
            ]
        },
        {
            "cell_type": "code",
            "execution_count": null,
            "metadata": {
                "tags": [
                    "skip-execution"
                ]
            },
            "outputs": [],
            "source": [
                "%%bash\n",
                "bacalhau describe ${JOB_ID}"
            ]
        },
        {
            "cell_type": "markdown",
            "metadata": {
                "id": "2I4DHnt0Vzua"
            },
            "source": [
                "Since there is no error we can’t see any error instead we see the state of our job to be complete, that means \n",
                "we can download the results!\n",
                "we create a temporary directory to save our results"
            ]
        },
        {
            "cell_type": "markdown",
            "metadata": {
                "id": "6SuXkeV-WD7j"
            },
            "source": [
                "To Download the results of your job, run \n",
                "\n",
                "---\n",
                "\n",
                "the following command:"
            ]
        },
        {
            "cell_type": "code",
            "execution_count": null,
            "metadata": {
                "tags": [
                    "skip-execution"
                ]
            },
            "outputs": [],
            "source": [
                "%%bash\n",
                "rm -rf results && mkdir -p results\n",
                "bacalhau get $JOB_ID --output-dir results"
            ]
        },
        {
            "cell_type": "markdown",
            "metadata": {
                "id": "nrZcHon2WOd-"
            },
            "source": [
                "After the download has finished you should \n",
                "see the following contents in results directory"
            ]
        },
        {
            "cell_type": "code",
            "execution_count": null,
            "metadata": {
                "tags": [
                    "skip-execution"
                ]
            },
            "outputs": [],
            "source": [
                "%%bash\n",
                "ls results/"
            ]
        },
        {
            "cell_type": "markdown",
            "metadata": {
                "id": "50IMIv-OntcO"
            },
            "source": [
                "### VIEWING THE OUTPUT CSV FILES"
            ]
        },
        {
            "cell_type": "code",
            "execution_count": null,
            "metadata": {
                "tags": [
                    "skip-execution"
                ]
            },
            "outputs": [],
            "source": [
                "%%bash\n",
                "cat results/combined_results/outputs/centers.csv | head -n 10"
            ]
        },
        {
            "cell_type": "code",
            "execution_count": null,
            "metadata": {
                "tags": [
                    "skip-execution"
                ]
            },
            "outputs": [],
            "source": [
                "%%bash\n",
                "cat results/combined_results/outputs/coreset-values-liechtenstein-latest.csv | head -n 10"
            ]
        },
        {
            "cell_type": "code",
            "execution_count": null,
            "metadata": {
                "tags": [
                    "skip-execution"
                ]
            },
            "outputs": [],
            "source": [
                "%%bash\n",
                "cat results/combined_results/outputs/coreset-weights-liechtenstein-latest.csv | head -n 10"
            ]
        },
        {
            "cell_type": "markdown",
            "metadata": {
                "id": "fG5UUxQwoRQ9"
            },
            "source": [
                "\n",
                "Sources\n",
                "\n",
                "[1] [http://proceedings.mlr.press/v97/braverman19a/braverman19a.pdf](http://proceedings.mlr.press/v97/braverman19a/braverman19a.pdf)\n",
                "\n",
                "[2][https://aaltodoc.aalto.fi/bitstream/handle/123456789/108293/master_Wu_Xiaobo_2021.pdf?sequence=2](https://aaltodoc.aalto.fi/bitstream/handle/123456789/108293/master_Wu_Xiaobo_2021.pdf?sequence=2)\n"
            ]
        }
    ],
    "metadata": {
        "celltoolbar": "Tags",
        "colab": {
            "authorship_tag": "ABX9TyORLbHqRKfwM0WREoW1UtMV",
            "provenance": []
        },
        "kernelspec": {
            "display_name": "Python 3 (ipykernel)",
            "language": "python",
            "name": "python3"
        },
        "language_info": {
            "codemirror_mode": {
                "name": "ipython",
                "version": 3
            },
            "file_extension": ".py",
            "mimetype": "text/x-python",
            "name": "python",
            "nbconvert_exporter": "python",
            "pygments_lexer": "ipython3",
            "version": "3.10.6"
        },
        "vscode": {
            "interpreter": {
                "hash": "916dbcbb3f70747c44a77c7bcd40155683ae19c65e1c03b4aa3499c5328201f1"
            }
        }
    },
    "nbformat": 4,
    "nbformat_minor": 1
}
