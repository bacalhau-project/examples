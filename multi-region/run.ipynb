{
  "cells": [
    {
      "cell_type": "markdown",
      "metadata": {},
      "source": [
        "# Run Inference on Multi-Region S3 Buckets"  
      ]
    },
    {
      "cell_type": "markdown",
      "metadata": {},
      "source": [
        "### Prerequisites\n", 
        "- terraform\n",
        "- python\n",
        "- aws cli (configured)"
      ]
    },
    {
      "cell_type": "code",
      "execution_count": null,
      "metadata": {},
      "outputs": [],
      "source": [
        "%cd multi-region"
      ]
    },
    {
      "cell_type": "markdown",
      "metadata": {},
      "source": [
        "## Add your regions to regions.md\n",
        "### Note: The Bootstrap region should be first"
      ]
    },
    {
      "cell_type": "code",
      "execution_count": 2,
      "metadata": {},
      "outputs": [
        {
          "name": "stdout",
          "output_type": "stream", 
          "text": [
            "# aws ec2 describe-regions | jq -r '.Regions[].RegionName'\n",
            "# Bootstrap region must be first\n",
            "ca-central-1\n",
            "eu-north-1\n", 
            "us-east-1\n",
            "us-west-1\n"  
          ]
        }
      ],
      "source": [
        "%cat regions.md"
      ]
    },
    {
      "cell_type": "code",
      "execution_count": 5,
      "metadata": {},
      "outputs": [
        {
          "name": "stdout",
          "output_type": "stream",
          "text": [
            "{\n",
            "    \"ca-central-1\": {\n",
            "        \"region\": \"ca-central-1\",\n", 
            "        \"zone\": \"ca-central-1a\",\n",
            "        \"instance_ami\": \"ami-05b7ce93ce9fc8e32\"\n",
            "    },\n", 
            "    \"eu-north-1\": {\n",
            "        \"region\": \"eu-north-1\",\n",
            "        \"zone\": \"eu-north-1a\",\n", 
            "        \"instance_ami\": \"ami-057ca637f0e971f76\"\n",
            "    },\n",
            "    \"us-east-1\": {\n",
            "        \"region\": \"us-east-1\",\n",
            "        \"zone\": \"us-east-1a\",\n",
            "        \"instance_ami\": \"ami-09ad94ebabb1d9472\"\n",
            "    },\n",
            "    \"us-west-1\": {\n",
            "        \"region\": \"us-west-1\",\n",
            "        \"zone\": \"us-west-1a\",\n",
            "        \"instance_ami\": \"ami-0c3a8f7521f75b65b\"\n",
            "    }\n",
            "}\n"
          ]
        }
      ],
      "source": [
        "#Replace the value of the name parameter with the name of your AMI\n",
        "%python3 get_instance_amis.py --name \"Deep Learning AMI Graviton GPU PyTorch 1.10.0 (Ubuntu 20.04) 20211122\""
      ]
    },
    {
      "cell_type": "markdown",
      "metadata": {},
      "source": [
        "## Replace the Values of \"locations\" with the values outputted from the above command"
      ]
    },
    {
      "cell_type": "code",
      "execution_count": 10,
      "metadata": {},
      "outputs": [
        {
          "name": "stdout",
          "output_type": "stream",
          "text": [
            "{\n",
            "  \"access_key\": \"<your_access_key>\", \n", 
            "  \"secret_key\": \"<your_secret_key>\", \n",
            "  \"bootstrap_region\": \"ca-central-1\", \n",
            "  \"locations\": {\n",
            "    \"ca-central-1\": {\n",
            "      \"region\": \"ca-central-1\",\n",
            "      \"availability_zone\": \"ca-central-1a\",\n",
            "      \"instance_ami\": \"ami-05b7ce93ce9fc8e32\"\n",
            "    },\n",
            "    \"eu-north-1\": {\n",
            "      \"region\": \"eu-north-1\",\n",
            "      \"availability_zone\": \"eu-north-1a\",\n",
            "      \"instance_ami\": \"ami-057ca637f0e971f76\"\n",
            "    },\n",
            "    \"us-east-1\": {\n",
            "      \"region\": \"us-east-1\",\n",
            "      \"availability_zone\": \"us-east-1a\",\n",
            "      \"instance_ami\": \"ami-09ad94ebabb1d9472\"\n",
            "    },\n",
            "    \"us-west-1\": {\n",
            "      \"region\": \"us-west-1\",\n",
            "      \"availability_zone\": \"us-west-1a\",\n",
            "      \"instance_ami\": \"ami-0c3a8f7521f75b65b\"\n",
            "    }\n",
            "  },\n", 
            "  \"app_tag\": \"multiregion-bacalhau-example\",\n",
            "  \"instance_type\": \"g4dn.xlarge\",\n", 
            "  \"bacalhau_run_file\": \"bacalhau.run\",\n",
            "  \"tailscale_key\": \"<your_tailscale_key>\",\n",
            "  \"shelluser\": \"bacalhau-installer\",\n",
            "  \"public_key\": \"~/.ssh/id_rsa.pub\",\n",
            "  \"private_key\": \"~/.ssh/id_rsa\"\n",
            "}\n"
          ]
        }
      ],
      "source": [
        "%cat ./tf/.env.example" 
      ]
    },
    {
      "cell_type": "markdown",
      "metadata": {},
      "source": [
        "## Replace The values of the keys with your own key values and also the value of instance_type if you want"
      ]
    },
    {
      "cell_type": "code",
      "execution_count": null,
      "metadata": {},
      "outputs": [],
      "source": [
        "%%bash\n",
        "cp -r .env.example .env.json"
      ]
    },
    {
      "cell_type": "markdown",
      "metadata": {},
      "source": [
        "### Deploying the infra"
      ]
    },
    {
      "cell_type": "code",
      "execution_count": null,
      "metadata": {},
      "outputs": [],
      "source": [
        "%%bash\n",
        "./bulk-deploy.sh create"
      ]
    },
    {
      "cell_type": "markdown",
      "metadata": {},
      "source": [
        "### Populating the Buckets with random samples from the coco-2017 val dataset\n",
        "Putting 10 sample images in each bucket"
      ]
    },
    {
      "cell_type": "code",
      "execution_count": null,
      "metadata": {},
      "outputs": [],
      "source": [
        "%%bash\n",
        "python3 populate_buckets.py --sample_size 10"
      ]
    },
    {
      "cell_type": "markdown",
      "metadata": {},
      "source": [
        "### Running the job"
      ]
    },
    {
      "cell_type": "code",
      "execution_count": null,
      "metadata": {},
      "outputs": [],
      "source": [
        "%%bash\n",
        "python3 job.py \"person\""
      ]
    },
    {
      "cell_type": "markdown",
      "metadata": {},
      "source": [
        "### Downloading the outputs"
      ]
    },
    {
      "cell_type": "code",
      "execution_count": null,
      "metadata": {},
      "outputs": [],
      "source": [
        "%%bash\n",
        "python3 download_outputs.py"
      ]
    },
    {
      "cell_type": "markdown",
      "metadata": {},
      "source": [
        "### Viewing the outputs"
      ]
    },
    {
      "cell_type": "code",
      "execution_count": 1,
      "metadata": {},
      "outputs": [
        {
          "data": {
            "application/vnd.jupyter.widget-view+json": {
              "model_id": "6874e1c99cf34cf7905ce3f424a1a75a",
              "version_major": 2,
              "version_minor": 0
            },
            "text/plain": [
              "interactive(children=(IntSlider(value=0, description='i', max=9), Output()), _dom_classes=('widget-interact',)???"
            ]
          },
          "metadata": {},
          "output_type": "display_data"
        },
        {
          "data": {
            "text/plain": [
              "<function __main__.display_image(i)>"
            ]
          },
          "execution_count": 1,
          "metadata": {},
          "output_type": "execute_result"
        }
      ],
      "source": [
        "import os\n",
        "from PIL import Image\n",
        "import ipywidgets as widgets\n",
        "from IPython.display import display\n",
        "\n",
        "# Path to the folder where the images are stored\n",
        "image_folder = os.path.join(os.getcwd(), 'outputs')\n",
        "\n",
        "# List to store the images\n",
        "images = []\n",
        "\n",
        "# Go through all the files in the folder\n",
        "for filename in os.listdir(image_folder):\n",
        "    # Check if the file is an image\n",
        "    if filename.endswith(\".jpg\") or filename.endswith(\".png\"):\n",
        "        # Open the image and append it to the list\n",
        "        images.append(Image.open(os.path.join(image_folder, filename)))\n",
        "\n",
        "# Create a slider\n",
        "slider = widgets.IntSlider(min=0, max=len(images)-1, step=1)\n",
        "\n",
        "# Function to display an image\n",
        "def display_image(i):\n",
        "    display(images[i])\n",
        "\n",
        "# Link the slider to the function\n",
        "widgets.interact(display_image, i=slider)"
      ]
    }
  ],
  "metadata": {
    "kernelspec": {
      "display_name": "Python 3 (ipykernel)",
      "language": "python",
      "name": "python3"
    },
    "language_info": {
      "codemirror_mode": {
        "name": "ipython",
        "version": 3
      },
      "file_extension": ".py",
      "mimetype": "text/x-python",
      "name": "python",
      "nbconvert_exporter": "python",
      "pygments_lexer": "ipython3",
      "version": "3.10.8"
    },
    "orig_nbformat": 4
  },
  "nbformat": 4,
  "nbformat_minor": 2
}
