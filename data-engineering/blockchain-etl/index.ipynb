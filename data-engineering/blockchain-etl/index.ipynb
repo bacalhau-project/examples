{
  "cells": [
    {
      "cell_type": "raw",
      "metadata": {
        "tags": [
          "skip-execution"
        ]
      },
      "source": [
        "---\n",
        "sidebar_label: Ethereum Blockchain Analysis\n",
        "sidebar_position: 3\n",
        "---"
      ]
    },
    {
      "cell_type": "markdown",
      "metadata": {
        "id": "mkXV6QLvygma",
        "tags": [
          "skip-execution"
        ]
      },
      "source": [
        "# Ethereum Blockchain Analysis with Ethereum-ETL and Bacalhau\n",
        "\n",
        "[![Open In Colab](https://colab.research.google.com/assets/colab-badge.svg)](https://colab.research.google.com/github/bacalhau-project/examples/blob/main/data-engineering/blockchain-etl/index.ipynb)\n",
        "[![Open In Binder](https://mybinder.org/badge.svg)](https://mybinder.org/v2/gh/bacalhau-project/examples/HEAD?labpath=data-engineering/blockchain-etl/index.ipynb)\n",
        "\n",
        "# Introduction\n",
        "\n",
        "Mature blockchains are difficult to analyze because of their size. Ethereum-ETL is a tool that makes it easy to extract information from an Ethereum node, but it's not easy to get working in a batch manner. It takes approximately 1 week for an Ethereum node to download the entire chain (event more in my experience) and importing and exporting data from the Ethereum node is slow.\n",
        "\n",
        "For this example, we ran an Ethereum node for a week and allowed it to synchronise. We then ran ethereum-etl to extract the information and pinned it on Filecoin. This means that we can both now access the data without having to run another ethereum node.\n",
        "\n",
        "But there's still a lot of data and these types of analyses typically need repeating or refining. So it makes absolute sense to use a decentralised network like Bacalhau to process the data in a scalable way.\n",
        "\n",
        "### Prerequisites\n",
        "\n",
        "* Python 3 \n",
        "* The Bacalhau client - [Installation instructions](https://docs.bacalhau.org/getting-started/installation)"
      ]
    },
    {
      "cell_type": "code",
      "execution_count": 1,
      "metadata": {
        "tags": [
          "skip-execution"
        ]
      },
      "outputs": [
        {
          "name": "stdout",
          "output_type": "stream",
          "text": [
            "/Users/phil/.zshenv:.:1: no such file or directory: /Users/phil/.cargo/env\n",
            "env: PATH=./:/Users/phil/.pyenv/versions/3.9.7/bin:/opt/homebrew/Caskroom/google-cloud-sdk/latest/google-cloud-sdk/bin:/Users/phil/.gvm/bin:/opt/homebrew/opt/findutils/libexec/gnubin:/opt/homebrew/opt/coreutils/libexec/gnubin:/opt/homebrew/Caskroom/google-cloud-sdk/latest/google-cloud-sdk/bin:/Users/phil/.pyenv/shims:/opt/homebrew/bin:/opt/homebrew/sbin:/usr/local/bin:/usr/bin:/bin:/usr/sbin:/sbin:/Library/TeX/texbin:/usr/local/MacGPG2/bin:/Users/phil/source/bacalhau-project/examples/workload-onboarding/rust-wasm/./bin:/Users/phil/.nexustools\n"
          ]
        }
      ],
      "source": [
        "!command -v bacalhau >/dev/null 2>&1 || (export BACALHAU_INSTALL_DIR=.; curl -sL https://get.bacalhau.org/install.sh | bash)\n",
        "path=!echo $PATH\n",
        "%env PATH=./:{path[-1]}"
      ]
    },
    {
      "cell_type": "markdown",
      "metadata": {
        "tags": [
          "skip-execution"
        ]
      },
      "source": [
        "## 1. Analysing Ethereum Data Locally\n",
        "\n",
        "First let's download one of the IPFS files and inspect it locally. You can see the full list of IPFS CIDs in the appendix."
      ]
    },
    {
      "cell_type": "code",
      "execution_count": 2,
      "metadata": {
        "tags": [
          "skip-execution"
        ]
      },
      "outputs": [
        {
          "name": "stderr",
          "output_type": "stream",
          "text": [
            "x output_850000/\n",
            "x output_850000/token_transfers/\n",
            "x output_850000/token_transfers/start_block=00850000/\n",
            "x output_850000/token_transfers/start_block=00850000/end_block=00899999/\n",
            "x output_850000/token_transfers/start_block=00850000/end_block=00899999/token_transfers_00850000_00899999.csv\n",
            "x output_850000/contracts/\n",
            "x output_850000/contracts/start_block=00850000/\n",
            "x output_850000/contracts/start_block=00850000/end_block=00899999/\n",
            "x output_850000/contracts/start_block=00850000/end_block=00899999/contracts_00850000_00899999.csv\n",
            "x output_850000/transactions/\n",
            "x output_850000/transactions/start_block=00850000/\n",
            "x output_850000/transactions/start_block=00850000/end_block=00899999/\n",
            "x output_850000/transactions/start_block=00850000/end_block=00899999/transactions_00850000_00899999.csv\n",
            "x output_850000/receipts/\n",
            "x output_850000/receipts/start_block=00850000/\n",
            "x output_850000/receipts/start_block=00850000/end_block=00899999/\n",
            "x output_850000/receipts/start_block=00850000/end_block=00899999/receipts_00850000_00899999.csv\n",
            "x output_850000/tokens/\n",
            "x output_850000/tokens/start_block=00850000/\n",
            "x output_850000/tokens/start_block=00850000/end_block=00899999/\n",
            "x output_850000/tokens/start_block=00850000/end_block=00899999/tokens_00850000_00899999.csv\n",
            "x output_850000/blocks/\n",
            "x output_850000/blocks/start_block=00850000/\n",
            "x output_850000/blocks/start_block=00850000/end_block=00899999/\n",
            "x output_850000/blocks/start_block=00850000/end_block=00899999/blocks_00850000_00899999.csv\n",
            "x output_850000/.tmp/\n",
            "x output_850000/logs/\n",
            "x output_850000/logs/start_block=00850000/\n",
            "x output_850000/logs/start_block=00850000/end_block=00899999/\n",
            "x output_850000/logs/start_block=00850000/end_block=00899999/logs_00850000_00899999.csv\n"
          ]
        }
      ],
      "source": [
        "%%bash\n",
        "wget -q -O file.tar.gz https://w3s.link/ipfs/bafybeifgqjvmzbtz427bne7af5tbndmvniabaex77us6l637gqtb2iwlwq\n",
        "tar -xvf file.tar.gz"
      ]
    },
    {
      "cell_type": "code",
      "execution_count": 3,
      "metadata": {
        "colab": {
          "base_uri": "https://localhost:8080/"
        },
        "id": "9uugWSqGysqL",
        "outputId": "5bdcd741-3ca9-4e93-b1d9-bde7657f65fa",
        "tags": [
          "skip-execution"
        ]
      },
      "outputs": [
        {
          "name": "stdout",
          "output_type": "stream",
          "text": [
            "Requirement already satisfied: pandas in /Users/phil/.pyenv/versions/3.9.7/lib/python3.9/site-packages (1.4.3)\n",
            "Requirement already satisfied: python-dateutil>=2.8.1 in /Users/phil/.local/lib/python3.9/site-packages (from pandas) (2.8.2)\n",
            "Requirement already satisfied: numpy>=1.20.0 in /Users/phil/.pyenv/versions/3.9.7/lib/python3.9/site-packages (from pandas) (1.23.0)\n",
            "Requirement already satisfied: pytz>=2020.1 in /Users/phil/.local/lib/python3.9/site-packages (from pandas) (2021.1)\n",
            "Requirement already satisfied: six>=1.5 in /Users/phil/.pyenv/versions/3.9.7/lib/python3.9/site-packages (from python-dateutil>=2.8.1->pandas) (1.16.0)\n"
          ]
        }
      ],
      "source": [
        "%%bash\n",
        "pip install pandas"
      ]
    },
    {
      "cell_type": "code",
      "execution_count": 4,
      "metadata": {
        "colab": {
          "base_uri": "https://localhost:8080/"
        },
        "id": "qCCfxjBRzTzQ",
        "outputId": "3dd165db-7138-4645-d4ab-a1a76ad7b715",
        "tags": [
          "skip-execution"
        ]
      },
      "outputs": [
        {
          "name": "stdout",
          "output_type": "stream",
          "text": [
            "Loading file output_850000/transactions/start_block=00850000/end_block=00899999/transactions_00850000_00899999.csv\n",
            "<class 'pandas.core.frame.DataFrame'>\n",
            "RangeIndex: 115517 entries, 0 to 115516\n",
            "Data columns (total 16 columns):\n",
            " #   Column                    Non-Null Count   Dtype         \n",
            "---  ------                    --------------   -----         \n",
            " 0   hash                      115517 non-null  string        \n",
            " 1   nonce                     115517 non-null  int64         \n",
            " 2   block_hash                115517 non-null  string        \n",
            " 3   block_number              115517 non-null  int64         \n",
            " 4   transaction_index         115517 non-null  int64         \n",
            " 5   from_address              115517 non-null  string        \n",
            " 6   to_address                114901 non-null  string        \n",
            " 7   value                     115517 non-null  float64       \n",
            " 8   gas                       115517 non-null  int64         \n",
            " 9   gas_price                 115517 non-null  int64         \n",
            " 10  input                     115517 non-null  object        \n",
            " 11  block_timestamp           115517 non-null  int64         \n",
            " 12  max_fee_per_gas           0 non-null       float64       \n",
            " 13  max_priority_fee_per_gas  0 non-null       float64       \n",
            " 14  transaction_type          115517 non-null  int64         \n",
            " 15  block_datetime            115517 non-null  datetime64[ns]\n",
            "dtypes: datetime64[ns](1), float64(3), int64(7), object(1), string(4)\n",
            "memory usage: 14.1+ MB\n"
          ]
        }
      ],
      "source": [
        "# Use pandas to read in transation data and clean up the columns\n",
        "import pandas as pd\n",
        "import glob\n",
        "\n",
        "file = glob.glob('output_*/transactions/start_block=*/end_block=*/transactions*.csv')[0]\n",
        "print(\"Loading file %s\" % file)\n",
        "df = pd.read_csv(file)\n",
        "df['value'] = df['value'].astype('float')\n",
        "df['from_address'] = df['from_address'].astype('string')\n",
        "df['to_address'] = df['to_address'].astype('string')\n",
        "df['hash'] = df['hash'].astype('string')\n",
        "df['block_hash'] = df['block_hash'].astype('string')\n",
        "df['block_datetime'] = pd.to_datetime(df['block_timestamp'], unit='s')\n",
        "df.info()"
      ]
    },
    {
      "cell_type": "markdown",
      "metadata": {
        "tags": [
          "skip-execution"
        ]
      },
      "source": [
        "The following code inspects the daily trading volume of Ethereum for a single chunk (100,000 blocks) of data.\n",
        "\n",
        "This is all good, but we can do better. We can use the Bacalhau client to download the data from IPFS and then run the analysis on the data in the cloud. This means that we can analyse the entire Ethereum blockchain without having to download it locally."
      ]
    },
    {
      "cell_type": "code",
      "execution_count": 5,
      "metadata": {
        "tags": [
          "skip-execution"
        ]
      },
      "outputs": [
        {
          "data": {
            "text/plain": [
              "<AxesSubplot:xlabel='block_datetime'>"
            ]
          },
          "execution_count": 5,
          "metadata": {},
          "output_type": "execute_result"
        },
        {
          "data": {
            "image/png": "[encoded data removed]",
            "text/plain": [
              "<Figure size 432x288 with 1 Axes>"
            ]
          },
          "metadata": {
            "needs_background": "light"
          },
          "output_type": "display_data"
        }
      ],
      "source": [
        "# Total volume per day\n",
        "df[['block_datetime', 'value']].groupby(pd.Grouper(key='block_datetime', freq='1D')).sum().plot()\n"
      ]
    },
    {
      "cell_type": "markdown",
      "metadata": {
        "id": "QYWVyCrLzZHu",
        "tags": [
          "skip-execution"
        ]
      },
      "source": [
        "\n",
        "\n",
        "\n",
        "## 2. Analysing Ethereum Data With Bacalhau\n",
        "\n",
        "To run jobs on the Bacalhau network you need to package your code. In this example I will package the code as a Docker image.\n",
        "\n",
        "But before we do that, we need to develop the code that will perform the analysis. The code below is a simple script to parse the incoming data and produce a CSV file with the daily trading volume of Ethereum."
      ]
    },
    {
      "cell_type": "code",
      "execution_count": 6,
      "metadata": {
        "tags": [
          "skip-execution"
        ]
      },
      "outputs": [
        {
          "name": "stdout",
          "output_type": "stream",
          "text": [
            "Overwriting main.py\n"
          ]
        }
      ],
      "source": [
        "%%writefile main.py\n",
        "import glob, os, sys, shutil, tempfile\n",
        "import pandas as pd\n",
        "\n",
        "def main(input_dir, output_dir):\n",
        "    search_path = os.path.join(input_dir, \"output*\", \"transactions\", \"start_block*\", \"end_block*\", \"transactions_*.csv\")\n",
        "    csv_files = glob.glob(search_path)\n",
        "    if len(csv_files) == 0:\n",
        "        print(\"No CSV files found in %s\" % search_path)\n",
        "        sys.exit(1)\n",
        "    for transactions_file in csv_files:\n",
        "        print(\"Loading %s\" % transactions_file)\n",
        "        df = pd.read_csv(transactions_file)\n",
        "        df['value'] = df['value'].astype('float')\n",
        "        df['block_datetime'] = pd.to_datetime(df['block_timestamp'], unit='s')\n",
        "        \n",
        "        print(\"Processing %d blocks\" % (df.shape[0]))\n",
        "        results = df[['block_datetime', 'value']].groupby(pd.Grouper(key='block_datetime', freq='1D')).sum()\n",
        "        print(\"Finished processing %d days worth of records\" % (results.shape[0]))\n",
        "\n",
        "        save_path = os.path.join(output_dir, os.path.basename(transactions_file))\n",
        "        os.makedirs(os.path.dirname(save_path), exist_ok=True)\n",
        "        print(\"Saving to %s\" % (save_path))\n",
        "        results.to_csv(save_path)\n",
        "\n",
        "def extractData(input_dir, output_dir):\n",
        "    search_path = os.path.join(input_dir, \"*.tar.gz\")\n",
        "    gz_files = glob.glob(search_path)\n",
        "    if len(gz_files) == 0:\n",
        "        print(\"No tar.gz files found in %s\" % search_path)\n",
        "        sys.exit(1)\n",
        "    for f in gz_files:\n",
        "        shutil.unpack_archive(filename=f, extract_dir=output_dir)\n",
        "\n",
        "if __name__ == \"__main__\":\n",
        "    if len(sys.argv) != 3:\n",
        "        print('Must pass arguments. Format: [command] input_dir output_dir')\n",
        "        sys.exit()\n",
        "    with tempfile.TemporaryDirectory() as tmp_dir:\n",
        "        extractData(sys.argv[1], tmp_dir)\n",
        "        main(tmp_dir, sys.argv[2])"
      ]
    },
    {
      "cell_type": "markdown",
      "metadata": {
        "tags": [
          "skip-execution"
        ]
      },
      "source": [
        "Next, let's make sure the file works as expected..."
      ]
    },
    {
      "cell_type": "code",
      "execution_count": 7,
      "metadata": {
        "tags": [
          "skip-execution"
        ]
      },
      "outputs": [
        {
          "name": "stdout",
          "output_type": "stream",
          "text": [
            "Loading /var/folders/kr/pl4p96k11b55hp5_p9l_t8kr0000gn/T/tmp63wukfr3/output_850000/transactions/start_block=00850000/end_block=00899999/transactions_00850000_00899999.csv\n",
            "Processing 115517 blocks\n",
            "Finished processing 11 days worth of records\n",
            "Saving to outputs/transactions_00850000_00899999.csv\n"
          ]
        }
      ],
      "source": [
        "%%bash\n",
        "python main.py . outputs/"
      ]
    },
    {
      "cell_type": "markdown",
      "metadata": {
        "tags": [
          "skip-execution"
        ]
      },
      "source": [
        "And finally, package the code inside a Docker image to make the process reproducible. Here I'm passing the Bacalhau default `/inputs` and `/outputs` directories. The `/inputs` directory is where the data will be read from and the `/outputs` directory is where the results will be saved to."
      ]
    },
    {
      "cell_type": "code",
      "execution_count": 8,
      "metadata": {
        "tags": [
          "skip-execution"
        ]
      },
      "outputs": [
        {
          "name": "stdout",
          "output_type": "stream",
          "text": [
            "Overwriting Dockerfile\n"
          ]
        }
      ],
      "source": [
        "%%writefile Dockerfile\n",
        "FROM python:3.11-slim-bullseye\n",
        "WORKDIR /src\n",
        "RUN pip install pandas==1.5.1\n",
        "ADD main.py .\n",
        "CMD [\"python\", \"main.py\", \"/inputs\", \"/outputs\"]"
      ]
    },
    {
      "cell_type": "markdown",
      "metadata": {
        "tags": [
          "skip-execution"
        ]
      },
      "source": [
        "We've already pushed the container, but for posterity, the following command pushes this container to GHCR.\n",
        "\n",
        "```bash\n",
        "docker buildx build --platform linux/amd64 --push -t ghcr.io/bacalhau-project/examples/blockchain-etl:0.0.1 .\n",
        "```"
      ]
    },
    {
      "cell_type": "markdown",
      "metadata": {
        "id": "wjvk7WHzzhBH",
        "tags": [
          "skip-execution"
        ]
      },
      "source": [
        "\n",
        "### Analysing Ethereum Data On Bacalhau\n",
        "\n",
        "[Bacalhau](https://www.bacalhau.org/) is a distributed computing platform that allows you to run jobs on a network of computers. It is designed to be easy to use and to run on a variety of hardware. In this example, we will use it to run our analysis on the Ethereum blockchain.\n",
        "\n",
        "To submit a job, you can use the Bacalhau CLI. The following command will run the container above on the IPFS data -- the long hash -- shown at the start of this notebook. Let's confirm that the results are as expected.\n"
      ]
    },
    {
      "cell_type": "code",
      "execution_count": 9,
      "metadata": {
        "tags": [
          "skip-execution"
        ]
      },
      "outputs": [],
      "source": [
        "%%bash --out job_id\n",
        "bacalhau docker run \\\n",
        "    --id-only \\\n",
        "    --input-volumes bafybeifgqjvmzbtz427bne7af5tbndmvniabaex77us6l637gqtb2iwlwq:/inputs/data.tar.gz \\\n",
        "    ghcr.io/bacalhau-project/examples/blockchain-etl:0.0.6"
      ]
    },
    {
      "cell_type": "code",
      "execution_count": 10,
      "metadata": {
        "tags": [
          "skip-execution"
        ]
      },
      "outputs": [
        {
          "name": "stdout",
          "output_type": "stream",
          "text": [
            "env: JOB_ID=0955253b-5221-4452-819f-351baac88dba\n"
          ]
        }
      ],
      "source": [
        "%env JOB_ID={job_id}"
      ]
    },
    {
      "cell_type": "markdown",
      "metadata": {
        "tags": [
          "skip-execution"
        ]
      },
      "source": [
        "\n",
        "Running the commands will output a UUID that represents the job that was created. You can check the status of the job with the following command:\n"
      ]
    },
    {
      "cell_type": "code",
      "execution_count": 11,
      "metadata": {
        "tags": [
          "skip-execution"
        ]
      },
      "outputs": [
        {
          "name": "stdout",
          "output_type": "stream",
          "text": [
            "\u001b[92;100m CREATED  \u001b[0m\u001b[92;100m ID       \u001b[0m\u001b[92;100m JOB                     \u001b[0m\u001b[92;100m STATE     \u001b[0m\u001b[92;100m VERIFIED \u001b[0m\u001b[92;100m PUBLISHED               \u001b[0m\n",
            "\u001b[97;40m 14:03:17 \u001b[0m\u001b[97;40m 0955253b \u001b[0m\u001b[97;40m Docker ghcr.io/bacal... \u001b[0m\u001b[97;40m Completed \u001b[0m\u001b[97;40m          \u001b[0m\u001b[97;40m /ipfs/QmPnZdFNRXgVxe... \u001b[0m\n"
          ]
        }
      ],
      "source": [
        "%%bash\n",
        "bacalhau list --id-filter ${JOB_ID}"
      ]
    },
    {
      "cell_type": "markdown",
      "metadata": {
        "tags": [
          "skip-execution"
        ]
      },
      "source": [
        "\n",
        "Wait until it says `Completed` and then get the results.\n",
        "\n",
        "To find out more information about your job, run the following command:"
      ]
    },
    {
      "cell_type": "code",
      "execution_count": 12,
      "metadata": {
        "tags": [
          "skip-execution"
        ]
      },
      "outputs": [
        {
          "name": "stdout",
          "output_type": "stream",
          "text": [
            "APIVersion: V1beta1\n",
            "ClientID: 77cf46c04f88ffb1c3e0e4b6e443724e8d2d87074d088ef1a6294a448fa85d2e\n",
            "CreatedAt: \"2022-11-28T14:03:17.134938204Z\"\n",
            "Deal:\n",
            "  Concurrency: 1\n",
            "ExecutionPlan:\n",
            "  ShardsTotal: 1\n",
            "ID: 0955253b-5221-4452-819f-351baac88dba\n",
            "JobState:\n",
            "  Nodes:\n",
            "    QmSyJ8VUd4YSPwZFJSJsHmmmmg7sd4BAc2yHY73nisJo86:\n",
            "      Shards:\n",
            "        \"0\":\n",
            "          NodeId: QmSyJ8VUd4YSPwZFJSJsHmmmmg7sd4BAc2yHY73nisJo86\n",
            "          PublishedResults: {}\n",
            "          State: Cancelled\n",
            "          VerificationResult: {}\n",
            "    QmVAb7r2pKWCuyLpYWoZr9syhhFnTWeFaByHdb8PkkhLQG:\n",
            "      Shards:\n",
            "        \"0\":\n",
            "          NodeId: QmVAb7r2pKWCuyLpYWoZr9syhhFnTWeFaByHdb8PkkhLQG\n",
            "          PublishedResults:\n",
            "            CID: QmPnZdFNRXgVxec4ip5X7baebSr3jkHVTKuzVsVwiWkoQ1\n",
            "            Name: job-0955253b-5221-4452-819f-351baac88dba-shard-0-host-QmVAb7r2pKWCuyLpYWoZr9syhhFnTWeFaByHdb8PkkhLQG\n",
            "            StorageSource: IPFS\n",
            "          RunOutput:\n",
            "            exitCode: 0\n",
            "            runnerError: \"\"\n",
            "            stderr: \"\"\n",
            "            stderrtruncated: false\n",
            "            stdout: |\n",
            "              Loading /tmp/tmp3rvwqb9f/output_850000/transactions/start_block=00850000/end_block=00899999/transactions_00850000_00899999.csv\n",
            "              Processing 115517 blocks\n",
            "              Finished processing 11 days worth of records\n",
            "              Saving to /outputs/transactions_00850000_00899999.csv\n",
            "            stdouttruncated: false\n",
            "          State: Completed\n",
            "          Status: 'Got results proposal of length: 0'\n",
            "          VerificationResult:\n",
            "            Complete: true\n",
            "            Result: true\n",
            "RequesterNodeID: QmXaXu9N5GNetatsvwnTfQqNtSeKAD6uCmarbh3LMRYAcF\n",
            "RequesterPublicKey: CAASpgIwggEiMA0GCSqGSIb3DQEBAQUAA4IBDwAwggEKAoIBAQCehDIWl72XKJi1tsrYM9JjAWt3n6hNzrCA+IVRXixK1sJVTLMpsxEP8UKJI+koAWkAUuY8yi6DMzot0owK4VpM3PYp34HdKi2hTjzM8pjCVb70XVXt6k9bzj4KmbiQTuEkQfvwIRmgxb2jrkRdTpZmhMb1Q7StR/nrGa/bx75Vpupx1EYH6+LixYnnV5WbCUK/kjpBW8SF5v+f9ZO61KHd9DMpdhJnzocTGq17tAjHh3birke0xlP98JjxlMkzzvIAuFsnH0zBIgjmHDA1Yi5DcOPWgE0jUfGlSDC1t2xITVoofHQcXDjkHZE6OhxswNYPd7cnTf9OppLddFdQnga5AgMBAAE=\n",
            "Spec:\n",
            "  Docker:\n",
            "    Image: ghcr.io/bacalhau-project/examples/blockchain-etl:0.0.6\n",
            "  Engine: Docker\n",
            "  Language:\n",
            "    JobContext: {}\n",
            "  Publisher: Estuary\n",
            "  Resources:\n",
            "    GPU: \"\"\n",
            "  Sharding:\n",
            "    BatchSize: 1\n",
            "    GlobPatternBasePath: /inputs\n",
            "  Timeout: 1800\n",
            "  Verifier: Noop\n",
            "  Wasm: {}\n",
            "  inputs:\n",
            "  - CID: bafybeifgqjvmzbtz427bne7af5tbndmvniabaex77us6l637gqtb2iwlwq\n",
            "    StorageSource: IPFS\n",
            "    path: /inputs/data.tar.gz\n",
            "  outputs:\n",
            "  - Name: outputs\n",
            "    StorageSource: IPFS\n",
            "    path: /outputs\n"
          ]
        }
      ],
      "source": [
        "%%bash\n",
        "bacalhau describe ${JOB_ID}"
      ]
    },
    {
      "cell_type": "markdown",
      "metadata": {
        "tags": [
          "skip-execution"
        ]
      },
      "source": [
        "And let's inspect the results."
      ]
    },
    {
      "cell_type": "code",
      "execution_count": 13,
      "metadata": {
        "tags": [
          "skip-execution"
        ]
      },
      "outputs": [
        {
          "name": "stdout",
          "output_type": "stream",
          "text": [
            "Fetching results of job '0955253b-5221-4452-819f-351baac88dba'...\n",
            "Results for job '0955253b-5221-4452-819f-351baac88dba' have been written to...\n",
            "./results\n"
          ]
        }
      ],
      "source": [
        "%%bash\n",
        "rm -rf ./results && mkdir -p ./results # Temporary directory to store the results\n",
        "bacalhau get --output-dir ./results ${JOB_ID} # Download the results"
      ]
    },
    {
      "cell_type": "markdown",
      "metadata": {
        "tags": [
          "skip-execution"
        ]
      },
      "source": [
        "The docker run command above used the `outputs` volume as a results folder so when we download them they will be stored in a  folder within `volumes/outputs`."
      ]
    },
    {
      "cell_type": "code",
      "execution_count": 14,
      "metadata": {
        "tags": [
          "skip-execution"
        ]
      },
      "outputs": [
        {
          "name": "stdout",
          "output_type": "stream",
          "text": [
            "total 4.0K\n",
            "drwxr-xr-x 3 phil staff  96 Nov 28 14:04 .\n",
            "drwxr-xr-x 5 phil staff 160 Nov 28 14:04 ..\n",
            "-rw-r--r-- 3 phil staff 387 Nov 28 14:04 transactions_00850000_00899999.csv\n"
          ]
        }
      ],
      "source": [
        "%%bash\n",
        "ls -lah results/combined_results/outputs"
      ]
    },
    {
      "cell_type": "code",
      "execution_count": 15,
      "metadata": {
        "tags": [
          "skip-execution"
        ]
      },
      "outputs": [
        {
          "data": {
            "text/plain": [
              "<AxesSubplot:xlabel='block_datetime'>"
            ]
          },
          "execution_count": 15,
          "metadata": {},
          "output_type": "execute_result"
        },
        {
          "data": {
            "image/png": "[encoded data removed]",
            "text/plain": [
              "<Figure size 432x288 with 1 Axes>"
            ]
          },
          "metadata": {
            "needs_background": "light"
          },
          "output_type": "display_data"
        }
      ],
      "source": [
        "import glob\n",
        "import pandas as pd\n",
        "\n",
        "# Get CSV files list from a folder\n",
        "csv_files = glob.glob(\"results/combined_results/outputs/*.csv\")\n",
        "df = pd.read_csv(csv_files[0], index_col='block_datetime')\n",
        "df.plot()"
      ]
    },
    {
      "cell_type": "markdown",
      "metadata": {
        "tags": [
          "skip-execution"
        ]
      },
      "source": [
        "### Massive Scale Ethereum Analysis\n",
        "\n",
        "Ok so that works. Let's scale this up! We can run the same analysis on the entire Ethereum blockchain (up to the point where I have uploaded the Ethereum data). To do this, we need to run the analysis on each of the chunks of data that we have stored on IPFS. We can do this by running the same job on each of the chunks.\n",
        "\n",
        "See the appendix for the `hashes.txt` file."
      ]
    },
    {
      "cell_type": "code",
      "execution_count": 16,
      "metadata": {
        "tags": [
          "skip-execution"
        ]
      },
      "outputs": [],
      "source": [
        "%%bash\n",
        "printf \"\" > job_ids.txt\n",
        "for h in $(cat hashes.txt); do \\\n",
        "    bacalhau docker run \\\n",
        "    --id-only \\\n",
        "    --wait=false \\\n",
        "    --input-volumes=$h:/inputs/data.tar.gz \\\n",
        "    ghcr.io/bacalhau-project/examples/blockchain-etl:0.0.6 >> job_ids.txt \n",
        "done"
      ]
    },
    {
      "cell_type": "markdown",
      "metadata": {
        "tags": [
          "skip-execution"
        ]
      },
      "source": [
        "Now take a look at the job id's. You can use these to check the status of the jobs and download the results. You might want to double check that the jobs ran ok by doing a `bacalhau list`."
      ]
    },
    {
      "cell_type": "code",
      "execution_count": 17,
      "metadata": {
        "tags": [
          "skip-execution"
        ]
      },
      "outputs": [
        {
          "name": "stdout",
          "output_type": "stream",
          "text": [
            "445a479c-1e3e-4b32-a1e2-2c973f5a185b\n",
            "0fbdd9a9-fa7c-43b9-8c8a-efdec0830eb7\n",
            "f9c2c3d1-b9de-464b-b110-92d8d3ccfc4e\n",
            "bd5cac66-37f6-40cc-9373-68b9d7c742e2\n",
            "357a22cf-f41e-4a75-a9ab-5dce2bd7f825\n",
            "7e60e598-01b9-4bf7-9f96-4a68ede4c7c3\n",
            "98c35b9d-118c-4931-bdce-cb62c2921a27\n",
            "a6f8a9cc-78ca-4386-8337-380e022e60d1\n",
            "3c73312f-ca84-4e20-acd7-6af367543383\n",
            "84ea57ea-eb17-4d8e-937b-a2cf4a9d16e7\n",
            "098a6da7-b5bc-4e68-a3bb-6f9188c85ba6\n",
            "c8c61b72-4b88-4f59-b9d1-1beb155e88ae\n",
            "df5b95a5-f1b9-435a-9c14-15fe79ccf24d\n",
            "ade9eb7d-77a7-471c-8a90-47e2b073fa0f\n",
            "9ff874e9-3c94-457e-9c57-be4097a30ff6\n",
            "00740e37-9eb6-4da4-8483-ab362e7db64b\n",
            "0afd0a29-2460-4bf9-b9c0-ec0b2cbf9e44\n",
            "b63de8f7-d98f-49a5-af57-b67524474960\n",
            "61f57708-6405-462f-872c-4aa5107d70a7\n",
            "014ecad4-65ca-4166-85cc-d343b6f77f30\n",
            "02e7c151-e012-4be6-a9d2-abc47c3b4155\n",
            "d7df3cc3-9f11-4c1f-80c9-edae9b3290a2\n",
            "f9d34193-b175-4e42-9f9d-aed190a24587\n",
            "038f4dd4-fdb7-4411-822c-88bc814ab4b2\n",
            "464ef40c-0b87-4c8d-83e6-92e7ef2fd558\n",
            "de74b3a6-8d97-416d-96bd-feabae46aa66\n",
            "6d836a92-e421-459d-a9fe-e7db3300d2a7\n",
            "d94a89fd-a0c8-4983-b509-ceddaa4c13d8\n",
            "f994f9d4-4745-4316-b40b-b7be880da0f0\n",
            "056789ef-21e2-46a5-9015-d57fbcae921b\n",
            "e459e6a3-95c4-4aa9-afd0-b3f4b2980968\n",
            "19abbfcb-92ff-49c3-91bc-a7ead01724dc\n",
            "2e10d740-4dbc-4cdd-a484-6d891cd0cddf\n",
            "8e5b43a8-fbc4-4c22-9719-c47380a7ed2b\n",
            "91bf0ee2-7669-4447-ba42-c88681b4ec27\n",
            "fe9886dc-98f2-4775-83c4-7f203b213056\n",
            "567e5063-093b-412a-a84f-b0d21da203b8\n",
            "8e222c42-8ab6-44a2-a48e-6f5840240e5d\n",
            "4abc9e04-318a-4fa6-8329-092e4de48666\n",
            "f6d1969a-4c6c-4f49-9e51-34ef0a6c5489\n",
            "2dc6919c-633f-42f9-b13b-b545de6a6fbd\n",
            "3b0bb4a3-dc5a-48fb-939f-2b7b689842fe\n",
            "ae6d6427-bafb-4043-8e4f-f1225dd5e8e4\n",
            "65421c32-7c50-480f-bced-02ced556d238\n",
            "e4cda61b-ca8d-444f-9fa3-efdba217aefc\n",
            "b6e545a2-36b7-4203-8545-0b0f391767e4\n",
            "bf9b1e4d-b94b-4cb3-8e91-b31cccd2a60e\n",
            "a0684d59-413f-4354-ace1-f6d4b8a57700\n",
            "44d40215-21a7-4071-9b8e-1507e462c4ef\n",
            "a6308802-0792-47f1-a5af-9039d7e6fd70\n",
            "8a1cadcc-4350-4253-90b2-1697e17f8940\n",
            "080985dc-ec4e-4ddc-bbb2-7981705cf8f0\n",
            "0750b53e-c4e3-4a8e-946c-4b86e3456dc2\n",
            "04b88a32-760d-466f-ad5f-7bbf5c4572b9\n"
          ]
        }
      ],
      "source": [
        "%%bash\n",
        "cat job_ids.txt"
      ]
    },
    {
      "cell_type": "markdown",
      "metadata": {
        "tags": [
          "skip-execution"
        ]
      },
      "source": [
        "Wait until all of these jobs have completed:"
      ]
    },
    {
      "cell_type": "code",
      "execution_count": 18,
      "metadata": {
        "tags": [
          "skip-execution"
        ]
      },
      "outputs": [
        {
          "name": "stdout",
          "output_type": "stream",
          "text": [
            "\u001b[92;100m CREATED  \u001b[0m\u001b[92;100m ID       \u001b[0m\u001b[92;100m JOB                     \u001b[0m\u001b[92;100m STATE     \u001b[0m\u001b[92;100m VERIFIED \u001b[0m\u001b[92;100m PUBLISHED               \u001b[0m\n",
            "\u001b[97;40m 14:05:06 \u001b[0m\u001b[97;40m 04b88a32 \u001b[0m\u001b[97;40m Docker ghcr.io/bacal... \u001b[0m\u001b[97;40m Cancelled \u001b[0m\u001b[97;40m          \u001b[0m\u001b[97;40m                         \u001b[0m\n",
            "\u001b[37;40m 14:05:05 \u001b[0m\u001b[37;40m 080985dc \u001b[0m\u001b[37;40m Docker ghcr.io/bacal... \u001b[0m\u001b[37;40m Cancelled \u001b[0m\u001b[37;40m          \u001b[0m\u001b[37;40m                         \u001b[0m\n",
            "\u001b[97;40m 14:05:05 \u001b[0m\u001b[97;40m 0750b53e \u001b[0m\u001b[97;40m Docker ghcr.io/bacal... \u001b[0m\u001b[97;40m Cancelled \u001b[0m\u001b[97;40m          \u001b[0m\u001b[97;40m                         \u001b[0m\n",
            "\u001b[37;40m 14:05:04 \u001b[0m\u001b[37;40m 8a1cadcc \u001b[0m\u001b[37;40m Docker ghcr.io/bacal... \u001b[0m\u001b[37;40m Cancelled \u001b[0m\u001b[37;40m          \u001b[0m\u001b[37;40m                         \u001b[0m\n",
            "\u001b[97;40m 14:05:03 \u001b[0m\u001b[97;40m a6308802 \u001b[0m\u001b[97;40m Docker ghcr.io/bacal... \u001b[0m\u001b[97;40m Cancelled \u001b[0m\u001b[97;40m          \u001b[0m\u001b[97;40m                         \u001b[0m\n",
            "\u001b[37;40m 14:05:03 \u001b[0m\u001b[37;40m 44d40215 \u001b[0m\u001b[37;40m Docker ghcr.io/bacal... \u001b[0m\u001b[37;40m Cancelled \u001b[0m\u001b[37;40m          \u001b[0m\u001b[37;40m                         \u001b[0m\n",
            "\u001b[97;40m 14:05:02 \u001b[0m\u001b[97;40m a0684d59 \u001b[0m\u001b[97;40m Docker ghcr.io/bacal... \u001b[0m\u001b[97;40m Cancelled \u001b[0m\u001b[97;40m          \u001b[0m\u001b[97;40m                         \u001b[0m\n",
            "\u001b[37;40m 14:05:01 \u001b[0m\u001b[37;40m bf9b1e4d \u001b[0m\u001b[37;40m Docker ghcr.io/bacal... \u001b[0m\u001b[37;40m Cancelled \u001b[0m\u001b[37;40m          \u001b[0m\u001b[37;40m                         \u001b[0m\n",
            "\u001b[97;40m 14:05:00 \u001b[0m\u001b[97;40m e4cda61b \u001b[0m\u001b[97;40m Docker ghcr.io/bacal... \u001b[0m\u001b[97;40m Cancelled \u001b[0m\u001b[97;40m          \u001b[0m\u001b[97;40m                         \u001b[0m\n",
            "\u001b[37;40m 14:05:00 \u001b[0m\u001b[37;40m b6e545a2 \u001b[0m\u001b[37;40m Docker ghcr.io/bacal... \u001b[0m\u001b[37;40m Cancelled \u001b[0m\u001b[37;40m          \u001b[0m\u001b[37;40m                         \u001b[0m\n",
            "\u001b[97;40m 14:04:59 \u001b[0m\u001b[97;40m 65421c32 \u001b[0m\u001b[97;40m Docker ghcr.io/bacal... \u001b[0m\u001b[97;40m Cancelled \u001b[0m\u001b[97;40m          \u001b[0m\u001b[97;40m                         \u001b[0m\n",
            "\u001b[37;40m 14:04:58 \u001b[0m\u001b[37;40m ae6d6427 \u001b[0m\u001b[37;40m Docker ghcr.io/bacal... \u001b[0m\u001b[37;40m Cancelled \u001b[0m\u001b[37;40m          \u001b[0m\u001b[37;40m                         \u001b[0m\n",
            "\u001b[97;40m 14:04:58 \u001b[0m\u001b[97;40m 3b0bb4a3 \u001b[0m\u001b[97;40m Docker ghcr.io/bacal... \u001b[0m\u001b[97;40m Cancelled \u001b[0m\u001b[97;40m          \u001b[0m\u001b[97;40m                         \u001b[0m\n",
            "\u001b[37;40m 14:04:57 \u001b[0m\u001b[37;40m 2dc6919c \u001b[0m\u001b[37;40m Docker ghcr.io/bacal... \u001b[0m\u001b[37;40m Cancelled \u001b[0m\u001b[37;40m          \u001b[0m\u001b[37;40m                         \u001b[0m\n",
            "\u001b[97;40m 14:04:56 \u001b[0m\u001b[97;40m f6d1969a \u001b[0m\u001b[97;40m Docker ghcr.io/bacal... \u001b[0m\u001b[97;40m Completed \u001b[0m\u001b[97;40m          \u001b[0m\u001b[97;40m /ipfs/Qmb9x7oneehHxn... \u001b[0m\n",
            "\u001b[37;40m 14:04:56 \u001b[0m\u001b[37;40m 4abc9e04 \u001b[0m\u001b[37;40m Docker ghcr.io/bacal... \u001b[0m\u001b[37;40m Completed \u001b[0m\u001b[37;40m          \u001b[0m\u001b[37;40m /ipfs/QmWZzcdirLCm4F... \u001b[0m\n",
            "\u001b[97;40m 14:04:55 \u001b[0m\u001b[97;40m 8e222c42 \u001b[0m\u001b[97;40m Docker ghcr.io/bacal... \u001b[0m\u001b[97;40m Completed \u001b[0m\u001b[97;40m          \u001b[0m\u001b[97;40m /ipfs/Qmais14RCZNXBs... \u001b[0m\n",
            "\u001b[37;40m 14:04:54 \u001b[0m\u001b[37;40m fe9886dc \u001b[0m\u001b[37;40m Docker ghcr.io/bacal... \u001b[0m\u001b[37;40m Cancelled \u001b[0m\u001b[37;40m          \u001b[0m\u001b[37;40m                         \u001b[0m\n",
            "\u001b[97;40m 14:04:54 \u001b[0m\u001b[97;40m 567e5063 \u001b[0m\u001b[97;40m Docker ghcr.io/bacal... \u001b[0m\u001b[97;40m Completed \u001b[0m\u001b[97;40m          \u001b[0m\u001b[97;40m /ipfs/QmPPZRbBwJzugk... \u001b[0m\n",
            "\u001b[37;40m 14:04:53 \u001b[0m\u001b[37;40m 91bf0ee2 \u001b[0m\u001b[37;40m Docker ghcr.io/bacal... \u001b[0m\u001b[37;40m Cancelled \u001b[0m\u001b[37;40m          \u001b[0m\u001b[37;40m                         \u001b[0m\n",
            "\u001b[97;40m 14:04:52 \u001b[0m\u001b[97;40m 8e5b43a8 \u001b[0m\u001b[97;40m Docker ghcr.io/bacal... \u001b[0m\u001b[97;40m Cancelled \u001b[0m\u001b[97;40m          \u001b[0m\u001b[97;40m                         \u001b[0m\n",
            "\u001b[37;40m 14:04:51 \u001b[0m\u001b[37;40m 19abbfcb \u001b[0m\u001b[37;40m Docker ghcr.io/bacal... \u001b[0m\u001b[37;40m Completed \u001b[0m\u001b[37;40m          \u001b[0m\u001b[37;40m /ipfs/QmRm1DtKqNxYcC... \u001b[0m\n",
            "\u001b[97;40m 14:04:51 \u001b[0m\u001b[97;40m 2e10d740 \u001b[0m\u001b[97;40m Docker ghcr.io/bacal... \u001b[0m\u001b[97;40m Cancelled \u001b[0m\u001b[97;40m          \u001b[0m\u001b[97;40m                         \u001b[0m\n",
            "\u001b[37;40m 14:04:50 \u001b[0m\u001b[37;40m e459e6a3 \u001b[0m\u001b[37;40m Docker ghcr.io/bacal... \u001b[0m\u001b[37;40m Completed \u001b[0m\u001b[37;40m          \u001b[0m\u001b[37;40m /ipfs/QmVCj25SqVixwn... \u001b[0m\n",
            "\u001b[97;40m 14:04:49 \u001b[0m\u001b[97;40m 056789ef \u001b[0m\u001b[97;40m Docker ghcr.io/bacal... \u001b[0m\u001b[97;40m Completed \u001b[0m\u001b[97;40m          \u001b[0m\u001b[97;40m /ipfs/QmbgwKGpB3jteX... \u001b[0m\n",
            "\u001b[37;40m 14:04:49 \u001b[0m\u001b[37;40m f994f9d4 \u001b[0m\u001b[37;40m Docker ghcr.io/bacal... \u001b[0m\u001b[37;40m Completed \u001b[0m\u001b[37;40m          \u001b[0m\u001b[37;40m /ipfs/QmXnU1iMfVxXXG... \u001b[0m\n",
            "\u001b[97;40m 14:04:48 \u001b[0m\u001b[97;40m d94a89fd \u001b[0m\u001b[97;40m Docker ghcr.io/bacal... \u001b[0m\u001b[97;40m Completed \u001b[0m\u001b[97;40m          \u001b[0m\u001b[97;40m /ipfs/QmXn7T4oGoxMKG... \u001b[0m\n",
            "\u001b[37;40m 14:04:47 \u001b[0m\u001b[37;40m 6d836a92 \u001b[0m\u001b[37;40m Docker ghcr.io/bacal... \u001b[0m\u001b[37;40m Cancelled \u001b[0m\u001b[37;40m          \u001b[0m\u001b[37;40m                         \u001b[0m\n",
            "\u001b[97;40m 14:04:47 \u001b[0m\u001b[97;40m de74b3a6 \u001b[0m\u001b[97;40m Docker ghcr.io/bacal... \u001b[0m\u001b[97;40m Cancelled \u001b[0m\u001b[97;40m          \u001b[0m\u001b[97;40m                         \u001b[0m\n",
            "\u001b[37;40m 14:04:46 \u001b[0m\u001b[37;40m 464ef40c \u001b[0m\u001b[37;40m Docker ghcr.io/bacal... \u001b[0m\u001b[37;40m Completed \u001b[0m\u001b[37;40m          \u001b[0m\u001b[37;40m /ipfs/QmcAdQzrmYNv6Q... \u001b[0m\n",
            "\u001b[97;40m 14:04:45 \u001b[0m\u001b[97;40m 038f4dd4 \u001b[0m\u001b[97;40m Docker ghcr.io/bacal... \u001b[0m\u001b[97;40m Completed \u001b[0m\u001b[97;40m          \u001b[0m\u001b[97;40m /ipfs/QmVAjPB5GUdmmu... \u001b[0m\n",
            "\u001b[37;40m 14:04:45 \u001b[0m\u001b[37;40m f9d34193 \u001b[0m\u001b[37;40m Docker ghcr.io/bacal... \u001b[0m\u001b[37;40m Completed \u001b[0m\u001b[37;40m          \u001b[0m\u001b[37;40m /ipfs/QmVY85VgAi1S4b... \u001b[0m\n",
            "\u001b[97;40m 14:04:44 \u001b[0m\u001b[97;40m d7df3cc3 \u001b[0m\u001b[97;40m Docker ghcr.io/bacal... \u001b[0m\u001b[97;40m Completed \u001b[0m\u001b[97;40m          \u001b[0m\u001b[97;40m /ipfs/QmcjGZ6RAp1QxS... \u001b[0m\n",
            "\u001b[37;40m 14:04:43 \u001b[0m\u001b[37;40m 02e7c151 \u001b[0m\u001b[37;40m Docker ghcr.io/bacal... \u001b[0m\u001b[37;40m Completed \u001b[0m\u001b[37;40m          \u001b[0m\u001b[37;40m /ipfs/QmTdR2RxCZLmwH... \u001b[0m\n",
            "\u001b[97;40m 14:04:43 \u001b[0m\u001b[97;40m 014ecad4 \u001b[0m\u001b[97;40m Docker ghcr.io/bacal... \u001b[0m\u001b[97;40m Completed \u001b[0m\u001b[97;40m          \u001b[0m\u001b[97;40m /ipfs/QmWJ2ZEzveNLWR... \u001b[0m\n",
            "\u001b[37;40m 14:04:42 \u001b[0m\u001b[37;40m 61f57708 \u001b[0m\u001b[37;40m Docker ghcr.io/bacal... \u001b[0m\u001b[37;40m Completed \u001b[0m\u001b[37;40m          \u001b[0m\u001b[37;40m /ipfs/QmbvUzsfP8r12f... \u001b[0m\n",
            "\u001b[97;40m 14:04:41 \u001b[0m\u001b[97;40m b63de8f7 \u001b[0m\u001b[97;40m Docker ghcr.io/bacal... \u001b[0m\u001b[97;40m Completed \u001b[0m\u001b[97;40m          \u001b[0m\u001b[97;40m /ipfs/Qmd3p2YWn8v1XN... \u001b[0m\n",
            "\u001b[37;40m 14:04:40 \u001b[0m\u001b[37;40m 00740e37 \u001b[0m\u001b[37;40m Docker ghcr.io/bacal... \u001b[0m\u001b[37;40m Completed \u001b[0m\u001b[37;40m          \u001b[0m\u001b[37;40m /ipfs/QmPfDFtiYFvSbe... \u001b[0m\n",
            "\u001b[97;40m 14:04:40 \u001b[0m\u001b[97;40m 0afd0a29 \u001b[0m\u001b[97;40m Docker ghcr.io/bacal... \u001b[0m\u001b[97;40m Completed \u001b[0m\u001b[97;40m          \u001b[0m\u001b[97;40m /ipfs/QmVxHSi51xFPxe... \u001b[0m\n",
            "\u001b[37;40m 14:04:39 \u001b[0m\u001b[37;40m 9ff874e9 \u001b[0m\u001b[37;40m Docker ghcr.io/bacal... \u001b[0m\u001b[37;40m Completed \u001b[0m\u001b[37;40m          \u001b[0m\u001b[37;40m /ipfs/QmRqgMa4V5Cdda... \u001b[0m\n",
            "\u001b[97;40m 14:04:38 \u001b[0m\u001b[97;40m ade9eb7d \u001b[0m\u001b[97;40m Docker ghcr.io/bacal... \u001b[0m\u001b[97;40m Completed \u001b[0m\u001b[97;40m          \u001b[0m\u001b[97;40m /ipfs/QmcjVqYQzj2KUb... \u001b[0m\n",
            "\u001b[37;40m 14:04:38 \u001b[0m\u001b[37;40m df5b95a5 \u001b[0m\u001b[37;40m Docker ghcr.io/bacal... \u001b[0m\u001b[37;40m Completed \u001b[0m\u001b[37;40m          \u001b[0m\u001b[37;40m /ipfs/QmUqKQw8m1tGco... \u001b[0m\n",
            "\u001b[97;40m 14:04:37 \u001b[0m\u001b[97;40m c8c61b72 \u001b[0m\u001b[97;40m Docker ghcr.io/bacal... \u001b[0m\u001b[97;40m Completed \u001b[0m\u001b[97;40m          \u001b[0m\u001b[97;40m /ipfs/QmetDQ1snDEiMN... \u001b[0m\n",
            "\u001b[37;40m 14:04:36 \u001b[0m\u001b[37;40m 098a6da7 \u001b[0m\u001b[37;40m Docker ghcr.io/bacal... \u001b[0m\u001b[37;40m Completed \u001b[0m\u001b[37;40m          \u001b[0m\u001b[37;40m /ipfs/QmYRTbboaXU1Cs... \u001b[0m\n",
            "\u001b[97;40m 14:04:36 \u001b[0m\u001b[97;40m 84ea57ea \u001b[0m\u001b[97;40m Docker ghcr.io/bacal... \u001b[0m\u001b[97;40m Completed \u001b[0m\u001b[97;40m          \u001b[0m\u001b[97;40m /ipfs/QmehKmebsHuzxd... \u001b[0m\n",
            "\u001b[37;40m 14:04:35 \u001b[0m\u001b[37;40m 3c73312f \u001b[0m\u001b[37;40m Docker ghcr.io/bacal... \u001b[0m\u001b[37;40m Completed \u001b[0m\u001b[37;40m          \u001b[0m\u001b[37;40m /ipfs/QmRKLcQha5ZZKP... \u001b[0m\n",
            "\u001b[97;40m 14:04:34 \u001b[0m\u001b[97;40m 98c35b9d \u001b[0m\u001b[97;40m Docker ghcr.io/bacal... \u001b[0m\u001b[97;40m Completed \u001b[0m\u001b[97;40m          \u001b[0m\u001b[97;40m /ipfs/QmTJ4P1nWxe9Qt... \u001b[0m\n",
            "\u001b[37;40m 14:04:34 \u001b[0m\u001b[37;40m a6f8a9cc \u001b[0m\u001b[37;40m Docker ghcr.io/bacal... \u001b[0m\u001b[37;40m Completed \u001b[0m\u001b[37;40m          \u001b[0m\u001b[37;40m /ipfs/QmVWr2Qx23srDu... \u001b[0m\n",
            "\u001b[97;40m 14:04:33 \u001b[0m\u001b[97;40m 7e60e598 \u001b[0m\u001b[97;40m Docker ghcr.io/bacal... \u001b[0m\u001b[97;40m Completed \u001b[0m\u001b[97;40m          \u001b[0m\u001b[97;40m /ipfs/QmPuQuQjjNjRWs... \u001b[0m\n",
            "\u001b[37;40m 14:04:32 \u001b[0m\u001b[37;40m 357a22cf \u001b[0m\u001b[37;40m Docker ghcr.io/bacal... \u001b[0m\u001b[37;40m Completed \u001b[0m\u001b[37;40m          \u001b[0m\u001b[37;40m /ipfs/QmUZxRdMVnibEp... \u001b[0m\n"
          ]
        }
      ],
      "source": [
        "%%bash\n",
        "bacalhau list -n 50"
      ]
    },
    {
      "cell_type": "markdown",
      "metadata": {
        "tags": [
          "skip-execution"
        ]
      },
      "source": [
        "And then download all the results and merge them into a single directory. This might take a while, so this is a good time to treat yourself to a nice Dark Mild. There's also been some issues in the past communicating with IPFS, so if you get an error, try again."
      ]
    },
    {
      "cell_type": "code",
      "execution_count": 22,
      "metadata": {
        "tags": [
          "skip-execution",
          "remove_output"
        ]
      },
      "outputs": [
        {
          "name": "stdout",
          "output_type": "stream",
          "text": [
            "Fetching results of job '0fbdd9a9-fa7c-43b9-8c8a-efdec0830eb7'...\n",
            "Fetching results of job '84ea57ea-eb17-4d8e-937b-a2cf4a9d16e7'...\n",
            "Fetching results of job 'a6308802-0792-47f1-a5af-9039d7e6fd70'...\n",
            "Fetching results of job '445a479c-1e3e-4b32-a1e2-2c973f5a185b'...\n",
            "Fetching results of job 'a6f8a9cc-78ca-4386-8337-380e022e60d1'...\n",
            "Fetching results of job 'f9c2c3d1-b9de-464b-b110-92d8d3ccfc4e'...\n",
            "Fetching results of job '7e60e598-01b9-4bf7-9f96-4a68ede4c7c3'...\n",
            "Fetching results of job '3c73312f-ca84-4e20-acd7-6af367543383'...\n",
            "Fetching results of job '098a6da7-b5bc-4e68-a3bb-6f9188c85ba6'...\n",
            "Fetching results of job '357a22cf-f41e-4a75-a9ab-5dce2bd7f825'...\n",
            "Fetching results of job '98c35b9d-118c-4931-bdce-cb62c2921a27'...\n",
            "Fetching results of job 'de74b3a6-8d97-416d-96bd-feabae46aa66'...\n",
            "Fetching results of job 'bd5cac66-37f6-40cc-9373-68b9d7c742e2'...\n",
            "Fetching results of job '014ecad4-65ca-4166-85cc-d343b6f77f30'...\n",
            "Fetching results of job '00740e37-9eb6-4da4-8483-ab362e7db64b'...\n",
            "Fetching results of job '6d836a92-e421-459d-a9fe-e7db3300d2a7'...\n",
            "Fetching results of job 'd7df3cc3-9f11-4c1f-80c9-edae9b3290a2'...\n",
            "Fetching results of job '61f57708-6405-462f-872c-4aa5107d70a7'...\n",
            "Fetching results of job 'c8c61b72-4b88-4f59-b9d1-1beb155e88ae'...\n",
            "Fetching results of job 'f9d34193-b175-4e42-9f9d-aed190a24587'...\n",
            "Fetching results of job '3b0bb4a3-dc5a-48fb-939f-2b7b689842fe'...\n",
            "Fetching results of job '9ff874e9-3c94-457e-9c57-be4097a30ff6'...\n",
            "Fetching results of job '04b88a32-760d-466f-ad5f-7bbf5c4572b9'...\n",
            "Fetching results of job '038f4dd4-fdb7-4411-822c-88bc814ab4b2'...\n",
            "Fetching results of job '464ef40c-0b87-4c8d-83e6-92e7ef2fd558'...\n",
            "Fetching results of job 'f994f9d4-4745-4316-b40b-b7be880da0f0'...\n",
            "Fetching results of job 'df5b95a5-f1b9-435a-9c14-15fe79ccf24d'...\n",
            "Fetching results of job '2dc6919c-633f-42f9-b13b-b545de6a6fbd'...\n",
            "Fetching results of job '02e7c151-e012-4be6-a9d2-abc47c3b4155'...\n",
            "Fetching results of job '44d40215-21a7-4071-9b8e-1507e462c4ef'...\n",
            "Fetching results of job '0afd0a29-2460-4bf9-b9c0-ec0b2cbf9e44'...\n",
            "Fetching results of job '91bf0ee2-7669-4447-ba42-c88681b4ec27'...\n",
            "Fetching results of job 'b63de8f7-d98f-49a5-af57-b67524474960'...\n",
            "Fetching results of job '8e5b43a8-fbc4-4c22-9719-c47380a7ed2b'...\n",
            "Fetching results of job 'd94a89fd-a0c8-4983-b509-ceddaa4c13d8'...\n",
            "Fetching results of job 'e4cda61b-ca8d-444f-9fa3-efdba217aefc'...\n",
            "Fetching results of job '8e222c42-8ab6-44a2-a48e-6f5840240e5d'...\n",
            "Fetching results of job '19abbfcb-92ff-49c3-91bc-a7ead01724dc'...\n",
            "Fetching results of job '4abc9e04-318a-4fa6-8329-092e4de48666'...\n",
            "Fetching results of job '056789ef-21e2-46a5-9015-d57fbcae921b'...\n",
            "Fetching results of job 'a0684d59-413f-4354-ace1-f6d4b8a57700'...\n",
            "Fetching results of job '2e10d740-4dbc-4cdd-a484-6d891cd0cddf'...\n",
            "Fetching results of job 'ade9eb7d-77a7-471c-8a90-47e2b073fa0f'...\n",
            "Fetching results of job 'ae6d6427-bafb-4043-8e4f-f1225dd5e8e4'...\n",
            "Fetching results of job '567e5063-093b-412a-a84f-b0d21da203b8'...\n",
            "Fetching results of job 'fe9886dc-98f2-4775-83c4-7f203b213056'...\n",
            "Fetching results of job 'e459e6a3-95c4-4aa9-afd0-b3f4b2980968'...\n",
            "Fetching results of job 'b6e545a2-36b7-4203-8545-0b0f391767e4'...\n",
            "Fetching results of job '0750b53e-c4e3-4a8e-946c-4b86e3456dc2'...\n",
            "Fetching results of job '65421c32-7c50-480f-bced-02ced556d238'...\n",
            "Fetching results of job 'f6d1969a-4c6c-4f49-9e51-34ef0a6c5489'...\n",
            "Fetching results of job '8a1cadcc-4350-4253-90b2-1697e17f8940'...\n",
            "Fetching results of job '080985dc-ec4e-4ddc-bbb2-7981705cf8f0'...\n",
            "Fetching results of job 'bf9b1e4d-b94b-4cb3-8e91-b31cccd2a60e'...\n",
            "Results for job '98c35b9d-118c-4931-bdce-cb62c2921a27' have been written to...\n",
            "results_98c35b9d-118c-4931-bdce-cb62c2921a27\n",
            "Results for job 'f9c2c3d1-b9de-464b-b110-92d8d3ccfc4e' have been written to...\n",
            "results_f9c2c3d1-b9de-464b-b110-92d8d3ccfc4e\n",
            "Results for job '19abbfcb-92ff-49c3-91bc-a7ead01724dc' have been written to...\n",
            "results_19abbfcb-92ff-49c3-91bc-a7ead01724dc\n",
            "Results for job '9ff874e9-3c94-457e-9c57-be4097a30ff6' have been written to...\n",
            "results_9ff874e9-3c94-457e-9c57-be4097a30ff6\n",
            "Results for job 'b63de8f7-d98f-49a5-af57-b67524474960' have been written to...\n",
            "results_b63de8f7-d98f-49a5-af57-b67524474960\n",
            "Results for job 'd7df3cc3-9f11-4c1f-80c9-edae9b3290a2' have been written to...\n",
            "results_d7df3cc3-9f11-4c1f-80c9-edae9b3290a2\n",
            "Results for job '0750b53e-c4e3-4a8e-946c-4b86e3456dc2' have been written to...\n",
            "results_0750b53e-c4e3-4a8e-946c-4b86e3456dc2\n",
            "Results for job 'a6308802-0792-47f1-a5af-9039d7e6fd70' have been written to...\n",
            "results_a6308802-0792-47f1-a5af-9039d7e6fd70\n",
            "Results for job '4abc9e04-318a-4fa6-8329-092e4de48666' have been written to...\n",
            "results_4abc9e04-318a-4fa6-8329-092e4de48666\n",
            "Results for job 'a0684d59-413f-4354-ace1-f6d4b8a57700' have been written to...\n",
            "results_a0684d59-413f-4354-ace1-f6d4b8a57700\n",
            "Results for job '2dc6919c-633f-42f9-b13b-b545de6a6fbd' have been written to...\n",
            "results_2dc6919c-633f-42f9-b13b-b545de6a6fbd\n",
            "Results for job '91bf0ee2-7669-4447-ba42-c88681b4ec27' have been written to...\n",
            "results_91bf0ee2-7669-4447-ba42-c88681b4ec27\n",
            "Results for job '445a479c-1e3e-4b32-a1e2-2c973f5a185b' have been written to...\n",
            "results_445a479c-1e3e-4b32-a1e2-2c973f5a185b\n",
            "Results for job '6d836a92-e421-459d-a9fe-e7db3300d2a7' have been written to...\n",
            "results_6d836a92-e421-459d-a9fe-e7db3300d2a7\n",
            "Results for job '04b88a32-760d-466f-ad5f-7bbf5c4572b9' have been written to...\n",
            "results_04b88a32-760d-466f-ad5f-7bbf5c4572b9\n",
            "Results for job 'e4cda61b-ca8d-444f-9fa3-efdba217aefc' have been written to...\n",
            "results_e4cda61b-ca8d-444f-9fa3-efdba217aefc\n",
            "Results for job 'bf9b1e4d-b94b-4cb3-8e91-b31cccd2a60e' have been written to...\n",
            "results_bf9b1e4d-b94b-4cb3-8e91-b31cccd2a60e\n",
            "Results for job 'c8c61b72-4b88-4f59-b9d1-1beb155e88ae' have been written to...\n",
            "results_c8c61b72-4b88-4f59-b9d1-1beb155e88ae\n",
            "Results for job 'fe9886dc-98f2-4775-83c4-7f203b213056' have been written to...\n",
            "results_fe9886dc-98f2-4775-83c4-7f203b213056\n",
            "Results for job '61f57708-6405-462f-872c-4aa5107d70a7' have been written to...\n",
            "results_61f57708-6405-462f-872c-4aa5107d70a7\n",
            "Results for job '357a22cf-f41e-4a75-a9ab-5dce2bd7f825' have been written to...\n",
            "results_357a22cf-f41e-4a75-a9ab-5dce2bd7f825\n",
            "Results for job 'f6d1969a-4c6c-4f49-9e51-34ef0a6c5489' have been written to...\n",
            "results_f6d1969a-4c6c-4f49-9e51-34ef0a6c5489\n",
            "Results for job 'f9d34193-b175-4e42-9f9d-aed190a24587' have been written to...\n",
            "results_f9d34193-b175-4e42-9f9d-aed190a24587\n",
            "Results for job '038f4dd4-fdb7-4411-822c-88bc814ab4b2' have been written to...\n",
            "results_038f4dd4-fdb7-4411-822c-88bc814ab4b2\n",
            "Results for job '8a1cadcc-4350-4253-90b2-1697e17f8940' have been written to...\n",
            "results_8a1cadcc-4350-4253-90b2-1697e17f8940\n",
            "Results for job 'f994f9d4-4745-4316-b40b-b7be880da0f0' have been written to...\n",
            "results_f994f9d4-4745-4316-b40b-b7be880da0f0\n",
            "Results for job '3b0bb4a3-dc5a-48fb-939f-2b7b689842fe' have been written to...\n",
            "results_3b0bb4a3-dc5a-48fb-939f-2b7b689842fe\n",
            "Results for job '0afd0a29-2460-4bf9-b9c0-ec0b2cbf9e44' have been written to...\n",
            "results_0afd0a29-2460-4bf9-b9c0-ec0b2cbf9e44\n",
            "Results for job '056789ef-21e2-46a5-9015-d57fbcae921b' have been written to...\n",
            "results_056789ef-21e2-46a5-9015-d57fbcae921b\n",
            "Results for job 'ade9eb7d-77a7-471c-8a90-47e2b073fa0f' have been written to...\n",
            "results_ade9eb7d-77a7-471c-8a90-47e2b073fa0f\n",
            "Results for job 'b6e545a2-36b7-4203-8545-0b0f391767e4' have been written to...\n",
            "results_b6e545a2-36b7-4203-8545-0b0f391767e4\n",
            "Results for job '7e60e598-01b9-4bf7-9f96-4a68ede4c7c3' have been written to...\n",
            "results_7e60e598-01b9-4bf7-9f96-4a68ede4c7c3\n",
            "Results for job '44d40215-21a7-4071-9b8e-1507e462c4ef' have been written to...\n",
            "results_44d40215-21a7-4071-9b8e-1507e462c4ef\n",
            "Results for job '02e7c151-e012-4be6-a9d2-abc47c3b4155' have been written to...\n",
            "results_02e7c151-e012-4be6-a9d2-abc47c3b4155\n",
            "Results for job '080985dc-ec4e-4ddc-bbb2-7981705cf8f0' have been written to...\n",
            "results_080985dc-ec4e-4ddc-bbb2-7981705cf8f0\n",
            "Results for job '3c73312f-ca84-4e20-acd7-6af367543383' have been written to...\n",
            "results_3c73312f-ca84-4e20-acd7-6af367543383\n",
            "Results for job 'df5b95a5-f1b9-435a-9c14-15fe79ccf24d' have been written to...\n",
            "results_df5b95a5-f1b9-435a-9c14-15fe79ccf24d\n",
            "Results for job '2e10d740-4dbc-4cdd-a484-6d891cd0cddf' have been written to...\n",
            "results_2e10d740-4dbc-4cdd-a484-6d891cd0cddf\n",
            "Results for job '8e222c42-8ab6-44a2-a48e-6f5840240e5d' have been written to...\n",
            "results_8e222c42-8ab6-44a2-a48e-6f5840240e5d\n",
            "Results for job 'd94a89fd-a0c8-4983-b509-ceddaa4c13d8' have been written to...\n",
            "results_d94a89fd-a0c8-4983-b509-ceddaa4c13d8\n",
            "Results for job 'a6f8a9cc-78ca-4386-8337-380e022e60d1' have been written to...\n",
            "results_a6f8a9cc-78ca-4386-8337-380e022e60d1\n",
            "Results for job '098a6da7-b5bc-4e68-a3bb-6f9188c85ba6' have been written to...\n",
            "results_098a6da7-b5bc-4e68-a3bb-6f9188c85ba6\n",
            "Results for job '014ecad4-65ca-4166-85cc-d343b6f77f30' have been written to...\n",
            "results_014ecad4-65ca-4166-85cc-d343b6f77f30\n",
            "Results for job '464ef40c-0b87-4c8d-83e6-92e7ef2fd558' have been written to...\n",
            "results_464ef40c-0b87-4c8d-83e6-92e7ef2fd558\n",
            "Results for job '0fbdd9a9-fa7c-43b9-8c8a-efdec0830eb7' have been written to...\n",
            "results_0fbdd9a9-fa7c-43b9-8c8a-efdec0830eb7\n",
            "Results for job '00740e37-9eb6-4da4-8483-ab362e7db64b' have been written to...\n",
            "results_00740e37-9eb6-4da4-8483-ab362e7db64b\n",
            "Results for job '84ea57ea-eb17-4d8e-937b-a2cf4a9d16e7' have been written to...\n",
            "results_84ea57ea-eb17-4d8e-937b-a2cf4a9d16e7\n",
            "Results for job '65421c32-7c50-480f-bced-02ced556d238' have been written to...\n",
            "results_65421c32-7c50-480f-bced-02ced556d238\n",
            "Results for job '8e5b43a8-fbc4-4c22-9719-c47380a7ed2b' have been written to...\n",
            "results_8e5b43a8-fbc4-4c22-9719-c47380a7ed2b\n",
            "Results for job '567e5063-093b-412a-a84f-b0d21da203b8' have been written to...\n",
            "results_567e5063-093b-412a-a84f-b0d21da203b8\n",
            "Results for job 'e459e6a3-95c4-4aa9-afd0-b3f4b2980968' have been written to...\n",
            "results_e459e6a3-95c4-4aa9-afd0-b3f4b2980968\n",
            "Results for job 'bd5cac66-37f6-40cc-9373-68b9d7c742e2' have been written to...\n",
            "results_bd5cac66-37f6-40cc-9373-68b9d7c742e2\n",
            "Results for job 'ae6d6427-bafb-4043-8e4f-f1225dd5e8e4' have been written to...\n",
            "results_ae6d6427-bafb-4043-8e4f-f1225dd5e8e4\n",
            "Results for job 'de74b3a6-8d97-416d-96bd-feabae46aa66' have been written to...\n",
            "results_de74b3a6-8d97-416d-96bd-feabae46aa66\n"
          ]
        },
        {
          "name": "stderr",
          "output_type": "stream",
          "text": [
            "2022/11/28 14:32:52 CleanupManager.fnsMutex violation LOCK section took 241.608ms 241608000 (threshold 10ms)\n",
            "2022/11/28 14:32:53 CleanupManager.fnsMutex violation CRITICAL section took 27.944ms 27944000 (threshold 10ms)\n",
            "14:33:02.65 | ??? tcp/tcp.go:58 > ERROR tcp-tpt failed set keepalive period {\"error\": \"set tcp4 127.0.0.1:4001->127.0.0.1:65444: setsockopt: invalid argument\"}\n",
            "\n"
          ]
        }
      ],
      "source": [
        "%%bash\n",
        "for id in $(cat job_ids.txt); do \\\n",
        "    rm -rf results_$id && mkdir results_$id\n",
        "    bacalhau get --output-dir results_$id $id &\n",
        "done\n",
        "wait"
      ]
    },
    {
      "cell_type": "code",
      "execution_count": 25,
      "metadata": {
        "tags": [
          "skip-execution"
        ]
      },
      "outputs": [
        {
          "data": {
            "text/plain": [
              "<AxesSubplot:xlabel='block_datetime'>"
            ]
          },
          "execution_count": 25,
          "metadata": {},
          "output_type": "execute_result"
        },
        {
          "data": {
            "image/png": "[encoded data removed]",
            "text/plain": [
              "<Figure size 1152x648 with 1 Axes>"
            ]
          },
          "metadata": {
            "needs_background": "light"
          },
          "output_type": "display_data"
        }
      ],
      "source": [
        "import os, glob\n",
        "import pandas as pd\n",
        "\n",
        "# Get CSV files list from a folder\n",
        "path = os.path.join(\"results_*\", \"combined_results\", \"outputs\", \"*.csv\")\n",
        "csv_files = glob.glob(path)\n",
        "\n",
        "# Read each CSV file into a list of DataFrames\n",
        "df_list = (pd.read_csv(file, index_col='block_datetime') for file in csv_files)\n",
        "\n",
        "# Concatenate all DataFrames\n",
        "df_unsorted = pd.concat(df_list, ignore_index=False)\n",
        "\n",
        "# Some files will cross days, so group by day and sum the values\n",
        "df = df_unsorted.groupby(level=0).sum()\n",
        "\n",
        "# Plot\n",
        "df.plot(figsize=(16,9))"
      ]
    },
    {
      "cell_type": "markdown",
      "metadata": {
        "tags": [
          "skip-execution"
        ]
      },
      "source": [
        "That's it! There is several years of Ethereum transaction volume data."
      ]
    },
    {
      "cell_type": "code",
      "execution_count": 31,
      "metadata": {},
      "outputs": [],
      "source": [
        "%%bash\n",
        "rm -rf results_* output_* outputs results combined_results temp # Remove temporary results"
      ]
    },
    {
      "cell_type": "markdown",
      "metadata": {
        "tags": [
          "skip-execution"
        ]
      },
      "source": [
        "## Appendix 1: List Ethereum Data CIDs \n",
        "\n",
        "The following list is a list of IPFS CID's for the Ethereum data that we used in this tutorial. You can use these CID's to download the rest of the chain if you so desire. The CIDs are ordered by block number and they increase 50,000 blocks at a time. Here's a list of ordered CIDs:"
      ]
    },
    {
      "cell_type": "code",
      "execution_count": 32,
      "metadata": {
        "tags": [
          "skip-execution"
        ]
      },
      "outputs": [
        {
          "name": "stdout",
          "output_type": "stream",
          "text": [
            "Overwriting hashes.txt\n"
          ]
        }
      ],
      "source": [
        "%%writefile hashes.txt\n",
        "bafybeihvtzberlxrsz4lvzrzvpbanujmab3hr5okhxtbgv2zvonqos2l3i\n",
        "bafybeifb25fgxrzu45lsc47gldttomycqcsao22xa2gtk2ijbsa5muzegq\n",
        "bafybeig4wwwhs63ly6wbehwd7tydjjtnw425yvi2tlzt3aii3pfcj6hvoq\n",
        "bafybeievpb5q372q3w5fsezflij3wlpx6thdliz5xowimunoqushn3cwka\n",
        "bafybeih6te26iwf5kzzby2wqp67m7a5pmwilwzaciii3zipvhy64utikre\n",
        "bafybeicjd4545xph6rcyoc74wvzxyaz2vftapap64iqsp5ky6nz3f5yndm\n",
        "bafybeicgo3iofo3sw73wenc3nkdhi263yytjnds5cxjwvypwekbz4sk7ra\n",
        "bafybeihvep5xsvxm44lngmmeysihsopcuvcr34an4idz45ixl5slsqzy3y\n",
        "bafybeigmt2zwzrbzwb4q2kt2ihlv34ntjjwujftvabrftyccwzwdypama4\n",
        "bafybeiciwui7sw3zqkvp4d55p4woq4xgjlstrp3mzxl66ab5ih5vmeozci\n",
        "bafybeicpmotdsj2ambf666b2jkzp2gvg6tadr6acxqw2tmdlmsruuggbbu\n",
        "bafybeigefo3esovbveavllgv5wiheu5w6cnfo72jxe6vmfweco5eq5sfty\n",
        "bafybeigvajsumnfwuv7lp7yhr2sr5vrk3bmmuhhnaz53waa2jqv3kgkvsu\n",
        "bafybeih2xg2n7ytlunvqxwqlqo5l3daykuykyvhgehoa2arot6dmorstmq\n",
        "bafybeihnmq2ltuolnlthb757teihwvvw7wophoag2ihnva43afbeqdtgi4\n",
        "bafybeibb34hzu6z2xgo6nhrplt3xntpnucthqlawe3pmzgxccppbxrpudy\n",
        "bafybeigny33b4g6gf2hrqzzkfbroprqrimjl5gmb3mnsqu655pbbny6tou\n",
        "bafybeifgqjvmzbtz427bne7af5tbndmvniabaex77us6l637gqtb2iwlwq\n",
        "bafybeibryqj62l45pxjhdyvgdc44p3suhvt4xdqc5jpx474gpykxwgnw2e\n",
        "bafybeidme3fkigdjaifkjfbwn76jk3fcqdogpzebtotce6ygphlujaecla\n",
        "bafybeig7myc3eg3h2g5mk2co7ybte4qsuremflrjneer6xk3pghjwmcwbi\n",
        "bafybeic3x2r5rrd3fdpdqeqax4bszcciwepvbpjl7xdv6mkwubyqizw5te\n",
        "bafybeihxutvxg3bw7fbwohq4gvncrk3hngkisrtkp52cu7qu7tfcuvktnq\n",
        "bafybeicumr67jkyarg5lspqi2w4zqopvgii5dgdbe5vtbbq53mbyftduxy\n",
        "bafybeiecn2cdvefvdlczhz6i4afbkabf5pe5yqrcsgdvlw5smme2tw7em4\n",
        "bafybeiaxh7dhg4krgkil5wqrv5kdsc3oewwy6ym4n3545ipmzqmxaxrqf4\n",
        "bafybeiclcqfzinrmo3adr4lg7sf255faioxjfsolcdko3i4x7opx7xrqii\n",
        "bafybeicjmeul7c2dxhmaudawum4ziwfgfkvbgthgtliggfut5tsc77dx7q\n",
        "bafybeialziupik7csmhfxnhuss5vrw37kmte7rmboqovp4cpq5hj4insda\n",
        "bafybeid7ecwdrw7pb3fnkokq5adybum6s5ok3yi2lw4m3edjpuy65zm4ji\n",
        "bafybeibuxwnl5ogs4pwa32xriqhch24zbrw44rp22hrly4t6roh6rz7j4m\n",
        "bafybeicxvy47jpvv3fi5umjatem5pxabfrbkzxiho7efu6mpidjpatte54\n",
        "bafybeifynb4mpqrbsjbeqtxpbuf6y4frrtjrc4tm7cnmmui7gbjkckszrq\n",
        "bafybeidcgnbhguyfaahkoqbyy2z525d3qfzdtbjuk4e75wkdbnkcafvjei\n",
        "bafybeiefc67s6hpydnsqdgypbunroqwkij5j26sfmc7are7yxvg45uuh7i\n",
        "bafybeiefwjy3o42ovkssnm7iihbog46k5grk3gobvvkzrqvof7p6xbgowi\n",
        "bafybeihpydd3ivtza2ql5clatm5fy7ocych7t4czu46sbc6c2ykrbwk5uu\n",
        "bafybeiet7222lqfmzogur3zlxqavlnd3lt3qryw5yi5rhuiqeqg4w7c3qu\n",
        "bafybeihwomd4ygoydvj5kh24wfwk5kszmst5vz44zkl6yibjargttv7sly\n",
        "bafybeidbjt2ckr4oooio3jsfk76r3bsaza5trjvt7u36slhha5ksoc5gv4\n",
        "bafybeifyjrmopgtfmswq7b4pfscni46doy3g3z6vi5rrgpozc6duebpmuy\n",
        "bafybeidsrowz46yt62zs64q2mhirlc3rsmctmi3tluorsts53vppdqjj7e\n",
        "bafybeiggntql57bw24bw6hkp2yqd3qlyp5oxowo6q26wsshxopfdnzsxhq\n",
        "bafybeidguz36u6wakx4e5ewuhslsfsjmk5eff5q7un2vpkrcu7cg5aaqf4\n",
        "bafybeiaypwu2b45iunbqnfk2g7bku3nfqveuqp4vlmmwj7o7liyys42uai\n",
        "bafybeicaahv7xvia7xojgiecljo2ddrvryzh2af7rb3qqbg5a257da5p2y\n",
        "bafybeibgeiijr74rcliwal3e7tujybigzqr6jmtchqrcjdo75trm2ptb4e\n",
        "bafybeiba3nrd43ylnedipuq2uoowd4blghpw2z7r4agondfinladcsxlku\n",
        "bafybeif3semzitjbxg5lzwmnjmlsrvc7y5htekwqtnhmfi4wxywtj5lgoe\n",
        "bafybeiedmsig5uj7rgarsjans2ad5kcb4w4g5iurbryqn62jy5qap4qq2a\n",
        "bafybeidyz34bcd3k6nxl7jbjjgceg5eu3szbrbgusnyn7vfl7facpecsce\n",
        "bafybeigmq5gch72q3qpk4nipssh7g7msk6jpzns2d6xmpusahkt2lu5m4y\n",
        "bafybeicjzoypdmmdt6k54wzotr5xhpzwbgd3c4oqg6mj4qukgvxvdrvzye\n",
        "bafybeien55egngdpfvrsxr2jmkewdyha72ju7qaaeiydz2f5rny7drgzta"
      ]
    },
    {
      "cell_type": "markdown",
      "metadata": {
        "tags": [
          "skip-execution"
        ]
      },
      "source": [
        "## Appendix 2: Setting up an Ethereum Node\n",
        "\n",
        "In the course of writing this example I had to setup an Ethereum node. It was a slow and painful process so I thought I would share the steps I took to make it easier for others."
      ]
    },
    {
      "cell_type": "markdown",
      "metadata": {
        "tags": [
          "skip-execution"
        ]
      },
      "source": [
        "### Geth setup and sync\n",
        "\n",
        "Geth supports Ubuntu by default, so use that when creating a VM. Use Ubuntu 22.04 LTS.\n",
        "\n",
        "```bash\n",
        "gcloud compute instances create phil-ethereum-node \\\n",
        "    --project=bacalhau-development --zone=europe-west2-c \\\n",
        "    --machine-type=c2-standard-4 --tags=geth \\\n",
        "    --create-disk=auto-delete=yes,boot=yes,device-name=phil-ethereum-node,image=projects/ubuntu-os-cloud/global/images/ubuntu-2204-jammy-v20221101a,mode=rw,size=50,type=projects/bacalhau-development/zones/europe-west2-c/diskTypes/pd-balanced \\\n",
        "    --create-disk=auto-delete=yes,device-name=phil-ethereum-disk,mode=rw,name=phil-ethereum-disk,size=3000,type=projects/bacalhau-development/zones/europe-west2-c/diskTypes/pd-standard\n",
        "```\n",
        "\n",
        "Mount the disk:\n",
        "\n",
        "```bash\n",
        "sudo mkfs.ext4 -m 0 -E lazy_itable_init=0,lazy_journal_init=0,discard /dev/sdb\n",
        "sudo mkdir -p /mnt/disks/ethereum\n",
        "sudo mount -o discard,defaults /dev/sdb /mnt/disks/ethereum\n",
        "sudo chmod a+w /mnt/disks/ethereum\n",
        "```\n",
        "\n",
        "```bash\n",
        "sudo add-apt-repository -y ppa:ethereum/ethereum\n",
        "sudo apt-get update\n",
        "sudo apt-get install -y ethereum\n",
        "sudo mkdir /prysm && cd /prysm\n",
        "sudo curl https://raw.githubusercontent.com/prysmaticlabs/prysm/master/prysm.sh --output prysm.sh && sudo chmod +x prysm.sh\n",
        "```\n",
        "\n",
        "Run as a new user:\n",
        "\n",
        "```bash\n",
        "sudo useradd -d /home/ethuser -m --uid 10000 ethuser\n",
        "sudo chown -R ethuser /prysm\n",
        "```\n",
        "\n",
        "```\n",
        "sudo tee \"/etc/systemd/system/geth.service\" > /dev/null <<'EOF'\n",
        "[Unit]\n",
        "Description=Geth\n",
        "\n",
        "[Service]\n",
        "Type=simple\n",
        "User=ethuser\n",
        "Restart=always\n",
        "RestartSec=12\n",
        "ExecStart=/bin/geth --syncmode \"full\" --datadir /mnt/disks/ethereum\n",
        "\n",
        "[Install]\n",
        "WantedBy=default.target\n",
        "EOF\n",
        "\n",
        "sudo tee \"/etc/systemd/system/prysm.service\" > /dev/null <<'EOF'\n",
        "[Unit]\n",
        "Description=Prysm\n",
        "\n",
        "[Service]\n",
        "Type=simple\n",
        "User=ethuser\n",
        "Restart=always\n",
        "RestartSec=12\n",
        "ExecStart=/prysm/prysm.sh beacon-chain --execution-endpoint=/mnt/disks/ethereum/geth.ipc --suggested-fee-recipient=0x7f68cb1cdE000AF82291A0D0c21E0f88FD7dB440 --checkpoint-sync-url=https://beaconstate.info\n",
        "--genesis-beacon-api-url=https://beaconstate.info --accept-terms-of-use --datadir /mnt/disks/ethereum/prysm\n",
        "\n",
        "[Install]\n",
        "WantedBy=default.target\n",
        "EOF\n",
        "\n",
        "sudo systemctl daemon-reload\n",
        "sudo systemctl enable prysm.service\n",
        "sudo systemctl enable geth.service\n",
        "sudo systemctl daemon-reload\n",
        "sudo service prysm start \n",
        "sudo service geth start \n",
        "```\n",
        "\n",
        "Check they are running:\n",
        "\n",
        "```bash\n",
        "service prysm status\n",
        "service geth status\n",
        "```\n",
        "\n",
        "Watch the logs:\n",
        "\n",
        "```bash\n",
        "journalctl -u prysm -f\n",
        "```\n",
        "\n",
        "Prysm will need to finish synchronising before geth will start syncronising.\n",
        "\n",
        "In Prysm you will see lots of log messages saying: `Synced new block`, and in Geth you will see: `Syncing beacon headers    downloaded=11,920,384 left=4,054,753  eta=2m25.903s`. This tells you how long it will take to sync the beacons. Once that's done, get will start synchronising the blocks.\n",
        "\n",
        "Bring up the ethereum javascript console with:\n",
        "\n",
        "```\n",
        "sudo geth --datadir /mnt/disks/ethereum/ attach\n",
        "```\n",
        "\n",
        "Once the block sync has started, `eth.syncing` will return values. Before it starts, this value will be `false`.\n",
        "\n",
        "Note that by default, geth will perform a fast sync, without downloading the full blocks. The `syncmode=flull` flag forces geth to do a full sync. If we didn't do this, then we wouldn't be able to backup the data properly.\n",
        "\n",
        "### Extracting the Data\n",
        "\n",
        "```bash\n",
        "# Install pip and ethereum-etl\n",
        "sudo apt-get install -y python3-pip\n",
        "sudo pip3 install ethereum-etl\n",
        "cd\n",
        "mkdir ethereum-etl\n",
        "cd ethereum-etl\n",
        "\n",
        "# Export data with one 50000-item batch in a directory. Up to this point we've processed about 3m.\n",
        "# The full chain is about 16m blocks\n",
        "for i in $(seq 0 50000 16000000); do sudo ethereumetl export_all --partition-batch-size 50000 --start $i --end $(expr $i + 50000 - 1)  --provider-uri file:///mnt/disks/ethereum/geth.ipc -o output_$i; done\n",
        "```\n",
        "\n",
        "### Upload the data\n",
        "\n",
        "Tar and compress the directories to make them easier to upload:\n",
        "\n",
        "```bash\n",
        "sudo apt-get install -y jq # Install jq to parse the cid\n",
        "cd\n",
        "cd ethereum-etl\n",
        "for i in $(seq 0 50000 16000000); do tar cfz output_$i.tar.gz output_$i; done\n",
        "```\n",
        "\n",
        "Export your Web3.storage JWT API key as an environment variable called `TOKEN`:\n",
        "\n",
        "```bash\n",
        "printf \"\" > hashes.txt\n",
        "for i in $(seq 0 50000 16000000); do curl -X POST https://api.web3.storage/upload -H \"Authorization: Bearer ${TOKEN}\" -H 'accept: application/json' -H 'Content-Type: text/plain' -H \"X-NAME: ethereum-etl-block-$i\" --data-binary \"@output_$i.tar.gz\" >> raw.json; done\n",
        "```\n"
      ]
    }
  ],
  "metadata": {
    "celltoolbar": "Tags",
    "colab": {
      "provenance": []
    },
    "kernelspec": {
      "display_name": "Python 3.9.7 64-bit ('3.9.7')",
      "language": "python",
      "name": "python3"
    },
    "language_info": {
      "codemirror_mode": {
        "name": "ipython",
        "version": 3
      },
      "file_extension": ".py",
      "mimetype": "text/x-python",
      "name": "python",
      "nbconvert_exporter": "python",
      "pygments_lexer": "ipython3",
      "version": "3.9.7"
    },
    "vscode": {
      "interpreter": {
        "hash": "21fd917facdca5c02b7d24e32528f1b4e6711465b0262edbfffba943391e1222"
      }
    }
  },
  "nbformat": 4,
  "nbformat_minor": 1
}
