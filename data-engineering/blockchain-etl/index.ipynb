{
 "cells": [
  {
   "cell_type": "raw",
   "metadata": {
    "tags": [
     "skip-execution"
    ]
   },
   "source": [
    "---\n",
    "sidebar_label: Ethereum Blockchain Analysis\n",
    "sidebar_position: 1\n",
    "---"
   ]
  },
  {
   "attachments": {},
   "cell_type": "markdown",
   "metadata": {
    "collapsed": false
   },
   "source": [
    "# Ethereum Blockchain Analysis with Ethereum-ETL and Bacalhau\n",
    "\n",
    "\n",
    "[![stars - badge-generator](https://img.shields.io/github/stars/bacalhau-project/bacalhau?style=social)](https://github.com/bacalhau-project/bacalhau)\n",
    "\n",
    "Mature blockchains are difficult to analyze because of their size. Ethereum-ETL is a tool that makes it easy to extract information from an Ethereum node, but it's not easy to get working in a batch manner. It takes approximately 1 week for an Ethereum node to download the entire chain (event more in my experience) and importing and exporting data from the Ethereum node is slow.\n",
    "\n",
    "For this example, we ran an Ethereum node for a week and allowed it to synchronise. We then ran ethereum-etl to extract the information and pinned it on Filecoin. This means that we can both now access the data without having to run another ethereum node.\n",
    "\n",
    "But there's still a lot of data and these types of analyses typically need repeating or refining. So it makes absolute sense to use a decentralised network like Bacalhau to process the data in a scalable way.\n",
    "\n",
    "## TD;LR\n",
    "Running Ethereum-etl tool on Bacalhau to extract Ethereum node.\n",
    "\n",
    "### Prerequisite\n",
    "\n",
    "To get started, you need to install the Bacalhau client, see more information [here](https://docs.bacalhau.org/getting-started/installation)"
   ]
  },
  {
   "cell_type": "code",
   "execution_count": null,
   "metadata": {
    "tags": [
     "skip-execution"
    ]
   },
   "outputs": [],
   "source": [
    "!command -v bacalhau >/dev/null 2>&1 || (export BACALHAU_INSTALL_DIR=.; curl -sL https://get.bacalhau.org/install.sh | bash)\n",
    "path=!echo $PATH\n",
    "%env PATH=./:{path[-1]}"
   ]
  },
  {
   "attachments": {},
   "cell_type": "markdown",
   "metadata": {
    "tags": [
     "skip-execution"
    ]
   },
   "source": [
    "## Analysing Ethereum Data Locally\n",
    "\n",
    "First let's download one of the IPFS files and inspect it locally. You can see the full list of IPFS CIDs in the appendix."
   ]
  },
  {
   "cell_type": "code",
   "execution_count": null,
   "metadata": {
    "tags": [
     "skip-execution"
    ]
   },
   "outputs": [],
   "source": [
    "%%bash\n",
    "wget -q -O file.tar.gz https://w3s.link/ipfs/bafybeifgqjvmzbtz427bne7af5tbndmvniabaex77us6l637gqtb2iwlwq\n",
    "tar -xvf file.tar.gz"
   ]
  },
  {
   "cell_type": "code",
   "execution_count": null,
   "metadata": {
    "colab": {
     "base_uri": "https://localhost:8080/"
    },
    "id": "9uugWSqGysqL",
    "outputId": "5bdcd741-3ca9-4e93-b1d9-bde7657f65fa",
    "tags": [
     "skip-execution"
    ]
   },
   "outputs": [],
   "source": [
    "%%bash\n",
    "pip install pandas"
   ]
  },
  {
   "cell_type": "code",
   "execution_count": null,
   "metadata": {
    "colab": {
     "base_uri": "https://localhost:8080/"
    },
    "id": "qCCfxjBRzTzQ",
    "outputId": "3dd165db-7138-4645-d4ab-a1a76ad7b715",
    "tags": [
     "skip-execution"
    ]
   },
   "outputs": [],
   "source": [
    "# Use pandas to read in transaction data and clean up the columns\n",
    "import pandas as pd\n",
    "import glob\n",
    "\n",
    "file = glob.glob('output_*/transactions/start_block=*/end_block=*/transactions*.csv')[0]\n",
    "print(\"Loading file %s\" % file)\n",
    "df = pd.read_csv(file)\n",
    "df['value'] = df['value'].astype('float')\n",
    "df['from_address'] = df['from_address'].astype('string')\n",
    "df['to_address'] = df['to_address'].astype('string')\n",
    "df['hash'] = df['hash'].astype('string')\n",
    "df['block_hash'] = df['block_hash'].astype('string')\n",
    "df['block_datetime'] = pd.to_datetime(df['block_timestamp'], unit='s')\n",
    "df.info()"
   ]
  },
  {
   "cell_type": "markdown",
   "metadata": {
    "tags": [
     "skip-execution"
    ]
   },
   "source": [
    "The following code inspects the daily trading volume of Ethereum for a single chunk (100,000 blocks) of data.\n",
    "\n",
    "This is all good, but we can do better. We can use the Bacalhau client to download the data from IPFS and then run the analysis on the data in the cloud. This means that we can analyse the entire Ethereum blockchain without having to download it locally."
   ]
  },
  {
   "cell_type": "code",
   "execution_count": null,
   "metadata": {
    "tags": [
     "skip-execution"
    ]
   },
   "outputs": [],
   "source": [
    "# Total volume per day\n",
    "df[['block_datetime', 'value']].groupby(pd.Grouper(key='block_datetime', freq='1D')).sum().plot()\n"
   ]
  },
  {
   "attachments": {},
   "cell_type": "markdown",
   "metadata": {
    "id": "QYWVyCrLzZHu",
    "tags": [
     "skip-execution"
    ]
   },
   "source": [
    "##  Analysing Ethereum Data With Bacalhau\n",
    "\n",
    "To run jobs on the Bacalhau network you need to package your code. In this example I will package the code as a Docker image.\n",
    "\n",
    "But before we do that, we need to develop the code that will perform the analysis. The code below is a simple script to parse the incoming data and produce a CSV file with the daily trading volume of Ethereum."
   ]
  },
  {
   "cell_type": "code",
   "execution_count": null,
   "metadata": {
    "tags": [
     "skip-execution"
    ]
   },
   "outputs": [],
   "source": [
    "%%writefile main.py\n",
    "import glob, os, sys, shutil, tempfile\n",
    "import pandas as pd\n",
    "\n",
    "def main(input_dir, output_dir):\n",
    "    search_path = os.path.join(input_dir, \"output*\", \"transactions\", \"start_block*\", \"end_block*\", \"transactions_*.csv\")\n",
    "    csv_files = glob.glob(search_path)\n",
    "    if len(csv_files) == 0:\n",
    "        print(\"No CSV files found in %s\" % search_path)\n",
    "        sys.exit(1)\n",
    "    for transactions_file in csv_files:\n",
    "        print(\"Loading %s\" % transactions_file)\n",
    "        df = pd.read_csv(transactions_file)\n",
    "        df['value'] = df['value'].astype('float')\n",
    "        df['block_datetime'] = pd.to_datetime(df['block_timestamp'], unit='s')\n",
    "        \n",
    "        print(\"Processing %d blocks\" % (df.shape[0]))\n",
    "        results = df[['block_datetime', 'value']].groupby(pd.Grouper(key='block_datetime', freq='1D')).sum()\n",
    "        print(\"Finished processing %d days worth of records\" % (results.shape[0]))\n",
    "\n",
    "        save_path = os.path.join(output_dir, os.path.basename(transactions_file))\n",
    "        os.makedirs(os.path.dirname(save_path), exist_ok=True)\n",
    "        print(\"Saving to %s\" % (save_path))\n",
    "        results.to_csv(save_path)\n",
    "\n",
    "def extractData(input_dir, output_dir):\n",
    "    search_path = os.path.join(input_dir, \"*.tar.gz\")\n",
    "    gz_files = glob.glob(search_path)\n",
    "    if len(gz_files) == 0:\n",
    "        print(\"No tar.gz files found in %s\" % search_path)\n",
    "        sys.exit(1)\n",
    "    for f in gz_files:\n",
    "        shutil.unpack_archive(filename=f, extract_dir=output_dir)\n",
    "\n",
    "if __name__ == \"__main__\":\n",
    "    if len(sys.argv) != 3:\n",
    "        print('Must pass arguments. Format: [command] input_dir output_dir')\n",
    "        sys.exit()\n",
    "    with tempfile.TemporaryDirectory() as tmp_dir:\n",
    "        extractData(sys.argv[1], tmp_dir)\n",
    "        main(tmp_dir, sys.argv[2])"
   ]
  },
  {
   "cell_type": "markdown",
   "metadata": {
    "tags": [
     "skip-execution"
    ]
   },
   "source": [
    "Next, let's make sure the file works as expected..."
   ]
  },
  {
   "cell_type": "code",
   "execution_count": null,
   "metadata": {
    "tags": [
     "skip-execution"
    ]
   },
   "outputs": [],
   "source": [
    "%%bash\n",
    "python main.py . outputs/"
   ]
  },
  {
   "cell_type": "markdown",
   "metadata": {
    "tags": [
     "skip-execution"
    ]
   },
   "source": [
    "And finally, package the code inside a Docker image to make the process reproducible. Here I'm passing the Bacalhau default `/inputs` and `/outputs` directories. The `/inputs` directory is where the data will be read from and the `/outputs` directory is where the results will be saved to."
   ]
  },
  {
   "cell_type": "code",
   "execution_count": null,
   "metadata": {
    "tags": [
     "skip-execution"
    ]
   },
   "outputs": [],
   "source": [
    "%%writefile Dockerfile\n",
    "FROM python:3.11-slim-bullseye\n",
    "WORKDIR /src\n",
    "RUN pip install pandas==1.5.1\n",
    "ADD main.py .\n",
    "CMD [\"python\", \"main.py\", \"/inputs\", \"/outputs\"]"
   ]
  },
  {
   "cell_type": "markdown",
   "metadata": {
    "tags": [
     "skip-execution"
    ]
   },
   "source": [
    "We've already pushed the container, but for posterity, the following command pushes this container to GHCR.\n",
    "\n",
    "```bash\n",
    "docker buildx build --platform linux/amd64 --push -t ghcr.io/bacalhau-project/examples/blockchain-etl:0.0.1 .\n",
    "```"
   ]
  },
  {
   "attachments": {},
   "cell_type": "markdown",
   "metadata": {
    "id": "wjvk7WHzzhBH",
    "tags": [
     "skip-execution"
    ]
   },
   "source": [
    "## Running a Bacalhau Job\n",
    "\n",
    "To run our analysis on the Ethereum blockchain, we will use the `bacalhau docker run` command."
   ]
  },
  {
   "cell_type": "code",
   "execution_count": null,
   "metadata": {
    "tags": [
     "skip-execution"
    ]
   },
   "outputs": [],
   "source": [
    "%%bash --out job_id\n",
    "bacalhau docker run \\\n",
    "    --id-only \\\n",
    "    --input ipfs://bafybeifgqjvmzbtz427bne7af5tbndmvniabaex77us6l637gqtb2iwlwq:/inputs/data.tar.gz \\\n",
    "    ghcr.io/bacalhau-project/examples/blockchain-etl:0.0.6"
   ]
  },
  {
   "attachments": {},
   "cell_type": "markdown",
   "metadata": {},
   "source": [
    "The job has been submitted and Bacalhau has printed out the related job id. We store that in an environment variable so that we can reuse it later on."
   ]
  },
  {
   "cell_type": "code",
   "execution_count": null,
   "metadata": {
    "tags": [
     "skip-execution"
    ]
   },
   "outputs": [],
   "source": [
    "%env JOB_ID={job_id}"
   ]
  },
  {
   "attachments": {},
   "cell_type": "markdown",
   "metadata": {
    "tags": [
     "skip-execution"
    ]
   },
   "source": [
    "The `bacalhau docker run` command allows to pass input data volume with a `-i ipfs://CID:path` argument just like Docker, except the left-hand side of the argument is a [content identifier (CID)](https://github.com/multiformats/cid). This results in Bacalhau mounting a *data volume* inside the container. By default, Bacalhau mounts the input volume at the path `/inputs` inside the container.\n",
    "\n",
    "Bacalhau also mounts a data volume to store output data. The `bacalhau docker run` command creates an output data volume mounted at `/outputs`. This is a convenient location to store the results of your job. "
   ]
  },
  {
   "attachments": {},
   "cell_type": "markdown",
   "metadata": {},
   "source": [
    "## Checking the State of your Jobs\n",
    "\n",
    "- **Job status**: You can check the status of the job using `bacalhau list`. "
   ]
  },
  {
   "cell_type": "code",
   "execution_count": null,
   "metadata": {
    "tags": [
     "skip-execution"
    ]
   },
   "outputs": [],
   "source": [
    "%%bash\n",
    "bacalhau list --id-filter ${JOB_ID}"
   ]
  },
  {
   "attachments": {},
   "cell_type": "markdown",
   "metadata": {
    "tags": [
     "skip-execution"
    ]
   },
   "source": [
    "When it says `Published` or `Completed`, that means the job is done, and we can get the results.\n",
    "\n",
    "- **Job information**: You can find out more information about your job by using `bacalhau describe`."
   ]
  },
  {
   "cell_type": "code",
   "execution_count": null,
   "metadata": {
    "tags": [
     "skip-execution"
    ]
   },
   "outputs": [],
   "source": [
    "%%bash\n",
    "bacalhau describe ${JOB_ID}"
   ]
  },
  {
   "attachments": {},
   "cell_type": "markdown",
   "metadata": {
    "tags": [
     "skip-execution"
    ]
   },
   "source": [
    "- **Job download**: You can download your job results directly by using `bacalhau get`. Alternatively, you can choose to create a directory to store your results. In the command below, we created a directory and downloaded our job output to be stored in that directory."
   ]
  },
  {
   "cell_type": "code",
   "execution_count": null,
   "metadata": {
    "tags": [
     "skip-execution"
    ]
   },
   "outputs": [],
   "source": [
    "%%bash\n",
    "rm -rf ./results && mkdir -p ./results # Temporary directory to store the results\n",
    "bacalhau get --output-dir ./results ${JOB_ID} # Download the results"
   ]
  },
  {
   "attachments": {},
   "cell_type": "markdown",
   "metadata": {
    "tags": [
     "skip-execution"
    ]
   },
   "source": [
    "After the download has finished you should see the following contents in results directory.\n",
    "\n",
    "## Viewing your Job Output\n",
    "\n",
    "To view the file, run the following command:"
   ]
  },
  {
   "cell_type": "code",
   "execution_count": null,
   "metadata": {
    "tags": [
     "skip-execution"
    ]
   },
   "outputs": [],
   "source": [
    "%%bash\n",
    "ls -lah results/outputs"
   ]
  },
  {
   "attachments": {},
   "cell_type": "markdown",
   "metadata": {},
   "source": [
    "### Display the image\n",
    "\n",
    "To view the images, we will use **glob** to return all file paths that match a specific pattern. "
   ]
  },
  {
   "cell_type": "code",
   "execution_count": null,
   "metadata": {
    "tags": [
     "skip-execution"
    ]
   },
   "outputs": [],
   "source": [
    "import glob\n",
    "import pandas as pd\n",
    "\n",
    "# Get CSV files list from a folder\n",
    "csv_files = glob.glob(\"results/outputs/*.csv\")\n",
    "df = pd.read_csv(csv_files[0], index_col='block_datetime')\n",
    "df.plot()"
   ]
  },
  {
   "cell_type": "markdown",
   "metadata": {
    "tags": [
     "skip-execution"
    ]
   },
   "source": [
    "### Massive Scale Ethereum Analysis\n",
    "\n",
    "Ok so that works. Let's scale this up! We can run the same analysis on the entire Ethereum blockchain (up to the point where I have uploaded the Ethereum data). To do this, we need to run the analysis on each of the chunks of data that we have stored on IPFS. We can do this by running the same job on each of the chunks.\n",
    "\n",
    "See the appendix for the `hashes.txt` file."
   ]
  },
  {
   "cell_type": "code",
   "execution_count": null,
   "metadata": {
    "tags": [
     "skip-execution"
    ]
   },
   "outputs": [],
   "source": [
    "%%bash\n",
    "printf \"\" > job_ids.txt\n",
    "for h in $(cat hashes.txt); do \\\n",
    "    bacalhau docker run \\\n",
    "    --id-only \\\n",
    "    --wait=false \\\n",
    "    --input=ipfs://$h:/inputs/data.tar.gz \\\n",
    "    ghcr.io/bacalhau-project/examples/blockchain-etl:0.0.6 >> job_ids.txt \n",
    "done"
   ]
  },
  {
   "cell_type": "markdown",
   "metadata": {
    "tags": [
     "skip-execution"
    ]
   },
   "source": [
    "Now take a look at the job id's. You can use these to check the status of the jobs and download the results. You might want to double check that the jobs ran ok by doing a `bacalhau list`."
   ]
  },
  {
   "cell_type": "code",
   "execution_count": null,
   "metadata": {
    "tags": [
     "skip-execution"
    ]
   },
   "outputs": [],
   "source": [
    "%%bash\n",
    "cat job_ids.txt"
   ]
  },
  {
   "cell_type": "markdown",
   "metadata": {
    "tags": [
     "skip-execution"
    ]
   },
   "source": [
    "Wait until all of these jobs have completed:"
   ]
  },
  {
   "cell_type": "code",
   "execution_count": null,
   "metadata": {
    "tags": [
     "skip-execution"
    ]
   },
   "outputs": [],
   "source": [
    "%%bash\n",
    "bacalhau list -n 50"
   ]
  },
  {
   "cell_type": "markdown",
   "metadata": {
    "tags": [
     "skip-execution"
    ]
   },
   "source": [
    "And then download all the results and merge them into a single directory. This might take a while, so this is a good time to treat yourself to a nice Dark Mild. There's also been some issues in the past communicating with IPFS, so if you get an error, try again."
   ]
  },
  {
   "cell_type": "code",
   "execution_count": null,
   "metadata": {
    "tags": [
     "skip-execution",
     "remove_output"
    ]
   },
   "outputs": [],
   "source": [
    "%%bash\n",
    "for id in $(cat job_ids.txt); do \\\n",
    "    rm -rf results_$id && mkdir results_$id\n",
    "    bacalhau get --output-dir results_$id $id &\n",
    "done\n",
    "wait"
   ]
  },
  {
   "attachments": {},
   "cell_type": "markdown",
   "metadata": {},
   "source": [
    "### Display the image\n",
    "\n",
    "To view the images, we will use **glob** to return all file paths that match a specific pattern. "
   ]
  },
  {
   "cell_type": "code",
   "execution_count": null,
   "metadata": {
    "tags": [
     "skip-execution"
    ]
   },
   "outputs": [],
   "source": [
    "import os, glob\n",
    "import pandas as pd\n",
    "\n",
    "# Get CSV files list from a folder\n",
    "path = os.path.join(\"results_*\", \"outputs\", \"*.csv\")\n",
    "csv_files = glob.glob(path)\n",
    "\n",
    "# Read each CSV file into a list of DataFrames\n",
    "df_list = (pd.read_csv(file, index_col='block_datetime') for file in csv_files)\n",
    "\n",
    "# Concatenate all DataFrames\n",
    "df_unsorted = pd.concat(df_list, ignore_index=False)\n",
    "\n",
    "# Some files will cross days, so group by day and sum the values\n",
    "df = df_unsorted.groupby(level=0).sum()\n",
    "\n",
    "# Plot\n",
    "df.plot(figsize=(16,9))"
   ]
  },
  {
   "cell_type": "markdown",
   "metadata": {
    "tags": [
     "skip-execution"
    ]
   },
   "source": [
    "That's it! There is several years of Ethereum transaction volume data."
   ]
  },
  {
   "cell_type": "code",
   "execution_count": null,
   "metadata": {},
   "outputs": [],
   "source": [
    "%%bash\n",
    "rm -rf results_* output_* outputs results temp # Remove temporary results"
   ]
  },
  {
   "cell_type": "markdown",
   "metadata": {
    "tags": [
     "skip-execution"
    ]
   },
   "source": [
    "## Appendix 1: List Ethereum Data CIDs \n",
    "\n",
    "The following list is a list of IPFS CID's for the Ethereum data that we used in this tutorial. You can use these CID's to download the rest of the chain if you so desire. The CIDs are ordered by block number and they increase 50,000 blocks at a time. Here's a list of ordered CIDs:"
   ]
  },
  {
   "cell_type": "code",
   "execution_count": null,
   "metadata": {
    "tags": [
     "skip-execution"
    ]
   },
   "outputs": [],
   "source": [
    "%%writefile hashes.txt\n",
    "bafybeihvtzberlxrsz4lvzrzvpbanujmab3hr5okhxtbgv2zvonqos2l3i\n",
    "bafybeifb25fgxrzu45lsc47gldttomycqcsao22xa2gtk2ijbsa5muzegq\n",
    "bafybeig4wwwhs63ly6wbehwd7tydjjtnw425yvi2tlzt3aii3pfcj6hvoq\n",
    "bafybeievpb5q372q3w5fsezflij3wlpx6thdliz5xowimunoqushn3cwka\n",
    "bafybeih6te26iwf5kzzby2wqp67m7a5pmwilwzaciii3zipvhy64utikre\n",
    "bafybeicjd4545xph6rcyoc74wvzxyaz2vftapap64iqsp5ky6nz3f5yndm\n",
    "bafybeicgo3iofo3sw73wenc3nkdhi263yytjnds5cxjwvypwekbz4sk7ra\n",
    "bafybeihvep5xsvxm44lngmmeysihsopcuvcr34an4idz45ixl5slsqzy3y\n",
    "bafybeigmt2zwzrbzwb4q2kt2ihlv34ntjjwujftvabrftyccwzwdypama4\n",
    "bafybeiciwui7sw3zqkvp4d55p4woq4xgjlstrp3mzxl66ab5ih5vmeozci\n",
    "bafybeicpmotdsj2ambf666b2jkzp2gvg6tadr6acxqw2tmdlmsruuggbbu\n",
    "bafybeigefo3esovbveavllgv5wiheu5w6cnfo72jxe6vmfweco5eq5sfty\n",
    "bafybeigvajsumnfwuv7lp7yhr2sr5vrk3bmmuhhnaz53waa2jqv3kgkvsu\n",
    "bafybeih2xg2n7ytlunvqxwqlqo5l3daykuykyvhgehoa2arot6dmorstmq\n",
    "bafybeihnmq2ltuolnlthb757teihwvvw7wophoag2ihnva43afbeqdtgi4\n",
    "bafybeibb34hzu6z2xgo6nhrplt3xntpnucthqlawe3pmzgxccppbxrpudy\n",
    "bafybeigny33b4g6gf2hrqzzkfbroprqrimjl5gmb3mnsqu655pbbny6tou\n",
    "bafybeifgqjvmzbtz427bne7af5tbndmvniabaex77us6l637gqtb2iwlwq\n",
    "bafybeibryqj62l45pxjhdyvgdc44p3suhvt4xdqc5jpx474gpykxwgnw2e\n",
    "bafybeidme3fkigdjaifkjfbwn76jk3fcqdogpzebtotce6ygphlujaecla\n",
    "bafybeig7myc3eg3h2g5mk2co7ybte4qsuremflrjneer6xk3pghjwmcwbi\n",
    "bafybeic3x2r5rrd3fdpdqeqax4bszcciwepvbpjl7xdv6mkwubyqizw5te\n",
    "bafybeihxutvxg3bw7fbwohq4gvncrk3hngkisrtkp52cu7qu7tfcuvktnq\n",
    "bafybeicumr67jkyarg5lspqi2w4zqopvgii5dgdbe5vtbbq53mbyftduxy\n",
    "bafybeiecn2cdvefvdlczhz6i4afbkabf5pe5yqrcsgdvlw5smme2tw7em4\n",
    "bafybeiaxh7dhg4krgkil5wqrv5kdsc3oewwy6ym4n3545ipmzqmxaxrqf4\n",
    "bafybeiclcqfzinrmo3adr4lg7sf255faioxjfsolcdko3i4x7opx7xrqii\n",
    "bafybeicjmeul7c2dxhmaudawum4ziwfgfkvbgthgtliggfut5tsc77dx7q\n",
    "bafybeialziupik7csmhfxnhuss5vrw37kmte7rmboqovp4cpq5hj4insda\n",
    "bafybeid7ecwdrw7pb3fnkokq5adybum6s5ok3yi2lw4m3edjpuy65zm4ji\n",
    "bafybeibuxwnl5ogs4pwa32xriqhch24zbrw44rp22hrly4t6roh6rz7j4m\n",
    "bafybeicxvy47jpvv3fi5umjatem5pxabfrbkzxiho7efu6mpidjpatte54\n",
    "bafybeifynb4mpqrbsjbeqtxpbuf6y4frrtjrc4tm7cnmmui7gbjkckszrq\n",
    "bafybeidcgnbhguyfaahkoqbyy2z525d3qfzdtbjuk4e75wkdbnkcafvjei\n",
    "bafybeiefc67s6hpydnsqdgypbunroqwkij5j26sfmc7are7yxvg45uuh7i\n",
    "bafybeiefwjy3o42ovkssnm7iihbog46k5grk3gobvvkzrqvof7p6xbgowi\n",
    "bafybeihpydd3ivtza2ql5clatm5fy7ocych7t4czu46sbc6c2ykrbwk5uu\n",
    "bafybeiet7222lqfmzogur3zlxqavlnd3lt3qryw5yi5rhuiqeqg4w7c3qu\n",
    "bafybeihwomd4ygoydvj5kh24wfwk5kszmst5vz44zkl6yibjargttv7sly\n",
    "bafybeidbjt2ckr4oooio3jsfk76r3bsaza5trjvt7u36slhha5ksoc5gv4\n",
    "bafybeifyjrmopgtfmswq7b4pfscni46doy3g3z6vi5rrgpozc6duebpmuy\n",
    "bafybeidsrowz46yt62zs64q2mhirlc3rsmctmi3tluorsts53vppdqjj7e\n",
    "bafybeiggntql57bw24bw6hkp2yqd3qlyp5oxowo6q26wsshxopfdnzsxhq\n",
    "bafybeidguz36u6wakx4e5ewuhslsfsjmk5eff5q7un2vpkrcu7cg5aaqf4\n",
    "bafybeiaypwu2b45iunbqnfk2g7bku3nfqveuqp4vlmmwj7o7liyys42uai\n",
    "bafybeicaahv7xvia7xojgiecljo2ddrvryzh2af7rb3qqbg5a257da5p2y\n",
    "bafybeibgeiijr74rcliwal3e7tujybigzqr6jmtchqrcjdo75trm2ptb4e\n",
    "bafybeiba3nrd43ylnedipuq2uoowd4blghpw2z7r4agondfinladcsxlku\n",
    "bafybeif3semzitjbxg5lzwmnjmlsrvc7y5htekwqtnhmfi4wxywtj5lgoe\n",
    "bafybeiedmsig5uj7rgarsjans2ad5kcb4w4g5iurbryqn62jy5qap4qq2a\n",
    "bafybeidyz34bcd3k6nxl7jbjjgceg5eu3szbrbgusnyn7vfl7facpecsce\n",
    "bafybeigmq5gch72q3qpk4nipssh7g7msk6jpzns2d6xmpusahkt2lu5m4y\n",
    "bafybeicjzoypdmmdt6k54wzotr5xhpzwbgd3c4oqg6mj4qukgvxvdrvzye\n",
    "bafybeien55egngdpfvrsxr2jmkewdyha72ju7qaaeiydz2f5rny7drgzta"
   ]
  },
  {
   "cell_type": "markdown",
   "metadata": {
    "tags": [
     "skip-execution"
    ]
   },
   "source": [
    "## Appendix 2: Setting up an Ethereum Node\n",
    "\n",
    "In the course of writing this example I had to setup an Ethereum node. It was a slow and painful process so I thought I would share the steps I took to make it easier for others."
   ]
  },
  {
   "attachments": {},
   "cell_type": "markdown",
   "metadata": {
    "tags": [
     "skip-execution"
    ]
   },
   "source": [
    "### Geth setup and sync\n",
    "\n",
    "Geth supports Ubuntu by default, so use that when creating a VM. Use Ubuntu 22.04 LTS.\n",
    "\n",
    "```bash\n",
    "gcloud compute instances create phil-ethereum-node \\\n",
    "    --project=bacalhau-development --zone=europe-west2-c \\\n",
    "    --machine-type=c2-standard-4 --tags=geth \\\n",
    "    --create-disk=auto-delete=yes,boot=yes,device-name=phil-ethereum-node,image=projects/ubuntu-os-cloud/global/images/ubuntu-2204-jammy-v20221101a,mode=rw,size=50,type=projects/bacalhau-development/zones/europe-west2-c/diskTypes/pd-balanced \\\n",
    "    --create-disk=auto-delete=yes,device-name=phil-ethereum-disk,mode=rw,name=phil-ethereum-disk,size=3000,type=projects/bacalhau-development/zones/europe-west2-c/diskTypes/pd-standard\n",
    "```\n",
    "\n",
    "Mount the disk:\n",
    "\n",
    "```bash\n",
    "sudo mkfs.ext4 -m 0 -E lazy_itable_init=0,lazy_journal_init=0,discard /dev/sdb\n",
    "sudo mkdir -p /mnt/disks/ethereum\n",
    "sudo mount -o discard,defaults /dev/sdb /mnt/disks/ethereum\n",
    "sudo chmod a+w /mnt/disks/ethereum\n",
    "```\n",
    "\n",
    "```bash\n",
    "sudo add-apt-repository -y ppa:ethereum/ethereum\n",
    "sudo apt-get update\n",
    "sudo apt-get install -y ethereum\n",
    "sudo mkdir /prysm && cd /prysm\n",
    "sudo curl https://raw.githubusercontent.com/prysmaticlabs/prysm/master/prysm.sh --output prysm.sh && sudo chmod +x prysm.sh\n",
    "```\n",
    "\n",
    "Run as a new user:\n",
    "\n",
    "```bash\n",
    "sudo useradd -d /home/ethuser -m --uid 10000 ethuser\n",
    "sudo chown -R ethuser /prysm\n",
    "```\n",
    "\n",
    "```\n",
    "sudo tee \"/etc/systemd/system/geth.service\" > /dev/null <<'EOF'\n",
    "[Unit]\n",
    "Description=Geth\n",
    "\n",
    "[Service]\n",
    "Type=simple\n",
    "User=ethuser\n",
    "Restart=always\n",
    "RestartSec=12\n",
    "ExecStart=/bin/geth --syncmode \"full\" --datadir /mnt/disks/ethereum\n",
    "\n",
    "[Install]\n",
    "WantedBy=default.target\n",
    "EOF\n",
    "\n",
    "sudo tee \"/etc/systemd/system/prysm.service\" > /dev/null <<'EOF'\n",
    "[Unit]\n",
    "Description=Prysm\n",
    "\n",
    "[Service]\n",
    "Type=simple\n",
    "User=ethuser\n",
    "Restart=always\n",
    "RestartSec=12\n",
    "ExecStart=/prysm/prysm.sh beacon-chain --execution-endpoint=/mnt/disks/ethereum/geth.ipc --suggested-fee-recipient=0x7f68cb1cdE000AF82291A0D0c21E0f88FD7dB440 --checkpoint-sync-url=https://beaconstate.info\n",
    "--genesis-beacon-api-url=https://beaconstate.info --accept-terms-of-use --datadir /mnt/disks/ethereum/prysm\n",
    "\n",
    "[Install]\n",
    "WantedBy=default.target\n",
    "EOF\n",
    "\n",
    "sudo systemctl daemon-reload\n",
    "sudo systemctl enable prysm.service\n",
    "sudo systemctl enable geth.service\n",
    "sudo systemctl daemon-reload\n",
    "sudo service prysm start \n",
    "sudo service geth start \n",
    "```\n",
    "\n",
    "Check they are running:\n",
    "\n",
    "```bash\n",
    "service prysm status\n",
    "service geth status\n",
    "```\n",
    "\n",
    "Watch the logs:\n",
    "\n",
    "```bash\n",
    "journalctl -u prysm -f\n",
    "```\n",
    "\n",
    "Prysm will need to finish synchronising before geth will start synchronising.\n",
    "\n",
    "In Prysm you will see lots of log messages saying: `Synced new block`, and in Geth you will see: `Syncing beacon headers    downloaded=11,920,384 left=4,054,753  eta=2m25.903s`. This tells you how long it will take to sync the beacons. Once that's done, get will start synchronising the blocks.\n",
    "\n",
    "Bring up the ethereum javascript console with:\n",
    "\n",
    "```\n",
    "sudo geth --datadir /mnt/disks/ethereum/ attach\n",
    "```\n",
    "\n",
    "Once the block sync has started, `eth.syncing` will return values. Before it starts, this value will be `false`.\n",
    "\n",
    "Note that by default, geth will perform a fast sync, without downloading the full blocks. The `syncmode=flull` flag forces geth to do a full sync. If we didn't do this, then we wouldn't be able to backup the data properly.\n",
    "\n",
    "### Extracting the Data\n",
    "\n",
    "```bash\n",
    "# Install pip and ethereum-etl\n",
    "sudo apt-get install -y python3-pip\n",
    "sudo pip3 install ethereum-etl\n",
    "cd\n",
    "mkdir ethereum-etl\n",
    "cd ethereum-etl\n",
    "\n",
    "# Export data with one 50000-item batch in a directory. Up to this point we've processed about 3m.\n",
    "# The full chain is about 16m blocks\n",
    "for i in $(seq 0 50000 16000000); do sudo ethereumetl export_all --partition-batch-size 50000 --start $i --end $(expr $i + 50000 - 1)  --provider-uri file:///mnt/disks/ethereum/geth.ipc -o output_$i; done\n",
    "```\n",
    "\n",
    "### Upload the data\n",
    "\n",
    "Tar and compress the directories to make them easier to upload:\n",
    "\n",
    "```bash\n",
    "sudo apt-get install -y jq # Install jq to parse the cid\n",
    "cd\n",
    "cd ethereum-etl\n",
    "for i in $(seq 0 50000 16000000); do tar cfz output_$i.tar.gz output_$i; done\n",
    "```\n",
    "\n",
    "Export your Web3.storage JWT API key as an environment variable called `TOKEN`:\n",
    "\n",
    "```bash\n",
    "printf \"\" > hashes.txt\n",
    "for i in $(seq 0 50000 16000000); do curl -X POST https://api.web3.storage/upload -H \"Authorization: Bearer ${TOKEN}\" -H 'accept: application/json' -H 'Content-Type: text/plain' -H \"X-NAME: ethereum-etl-block-$i\" --data-binary \"@output_$i.tar.gz\" >> raw.json; done\n",
    "```\n"
   ]
  }
 ],
 "metadata": {
  "celltoolbar": "Tags",
  "colab": {
   "provenance": []
  },
  "kernelspec": {
   "display_name": "Python 3.9.7 64-bit ('3.9.7')",
   "language": "python",
   "name": "python3"
  },
  "language_info": {
   "codemirror_mode": {
    "name": "ipython",
    "version": 3
   },
   "file_extension": ".py",
   "mimetype": "text/x-python",
   "name": "python",
   "nbconvert_exporter": "python",
   "pygments_lexer": "ipython3",
   "version": "3.9.13"
  },
  "vscode": {
   "interpreter": {
    "hash": "21fd917facdca5c02b7d24e32528f1b4e6711465b0262edbfffba943391e1222"
   }
  }
 },
 "nbformat": 4,
 "nbformat_minor": 1
}
