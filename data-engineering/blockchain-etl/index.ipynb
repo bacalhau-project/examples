{
  "cells": [
    {
      "cell_type": "markdown",
      "metadata": {
        "id": "mkXV6QLvygma"
      },
      "source": [
        "# **BlockchainETL**\n",
        "\n",
        "\n",
        "# **Introduction**\n",
        "\n",
        "Analyzing and loading blockchain data can be difficult since loading blockchain ledgers can be hard to do since downloading them for performing ETL can be difficult as well tricky, since the datasets are on IPFS we could mount the CIDs and then analyze the performing ETL operations on that data can be made easier to do it at scale,[ Ethereum ETL](https://ethereum-etl.readthedocs.io/en/latest/) lets you convert blockchain data into convenient formats like CSVs and relational databases.\n",
        "\n",
        "Prerequisites\n",
        "\n",
        "\n",
        "\n",
        "* Python 3 running locally - [Installation Binaries](http://here) / [Tutorial](https://realpython.com/installing-python/)\n",
        "* The Bacalhau client - [Installation instructions](https://docs.bacalhau.org/getting-started/installation)\n",
        "* (Optional, but Recommended) Docker - [Installation Instructions](https://docs.docker.com/get-docker/)\n",
        "\n",
        "\n",
        "# **Running EthereumETL locally**\n",
        "\n",
        "Downloading Datasets\n",
        "\n",
        "Data could be downloaded using tools like [Geth Documentation | Go Ethereum](https://geth.ethereum.org/docs/) and then you can upload it to IPFS or better use the dataset already there on IPFS link to the dataset used   \n",
        "\n",
        "For this example you can use this CSV file\n"
      ]
    },
    {
      "cell_type": "code",
      "execution_count": null,
      "metadata": {
        "colab": {
          "base_uri": "https://localhost:8080/"
        },
        "id": "JGscZGDFyUJC",
        "outputId": "ab40753d-83a9-4c2f-91e8-42f959862d26"
      },
      "outputs": [
        {
          "name": "stdout",
          "output_type": "stream",
          "text": [
            "--2022-10-03 04:44:33--  https://cloudflare-ipfs.com/ipfs/QmTAQMGiSv9xocaB4PUCT5nSBHrf9HZrYj21BAZ5nMTY2W/transactions.csv\n",
            "Resolving cloudflare-ipfs.com (cloudflare-ipfs.com)... 104.17.96.13, 104.17.64.14, 2606:4700::6811:400e, ...\n",
            "Connecting to cloudflare-ipfs.com (cloudflare-ipfs.com)|104.17.96.13|:443... connected.\n",
            "HTTP request sent, awaiting response... 200 OK\n",
            "Length: 1567 (1.5K) [text/csv]\n",
            "Saving to: ‘transactions.csv’\n",
            "\n",
            "transactions.csv    100%[===================>]   1.53K  --.-KB/s    in 0s      \n",
            "\n",
            "2022-10-03 04:44:34 (21.5 MB/s) - ‘transactions.csv’ saved [1567/1567]\n",
            "\n"
          ]
        }
      ],
      "source": [
        "!wget https://cloudflare-ipfs.com/ipfs/QmTAQMGiSv9xocaB4PUCT5nSBHrf9HZrYj21BAZ5nMTY2W/transactions.csv"
      ]
    },
    {
      "cell_type": "markdown",
      "metadata": {
        "id": "GoxWwqTtynX8"
      },
      "source": [
        "\n",
        "Create a folder called ‘outputs’ for the output dataset\n"
      ]
    },
    {
      "cell_type": "code",
      "execution_count": null,
      "metadata": {
        "id": "Z9acyzEIyo-h"
      },
      "outputs": [],
      "source": [
        "!mkdir outputs"
      ]
    },
    {
      "cell_type": "markdown",
      "metadata": {
        "id": "i2RNEwPjyr00"
      },
      "source": [
        "Installing the ethreumetl package"
      ]
    },
    {
      "cell_type": "code",
      "execution_count": null,
      "metadata": {
        "colab": {
          "base_uri": "https://localhost:8080/"
        },
        "id": "9uugWSqGysqL",
        "outputId": "5bdcd741-3ca9-4e93-b1d9-bde7657f65fa"
      },
      "outputs": [
        {
          "name": "stdout",
          "output_type": "stream",
          "text": [
            "Looking in indexes: https://pypi.org/simple, https://us-python.pkg.dev/colab-wheels/public/simple/\n",
            "Collecting ethereum-etl\n",
            "  Downloading ethereum-etl-2.0.6.tar.gz (335 kB)\n",
            "\u001b[K     |████████████████████████████████| 335 kB 8.5 MB/s \n",
            "\u001b[?25hCollecting web3<6,>=5.29\n",
            "  Downloading web3-5.31.0-py3-none-any.whl (501 kB)\n",
            "\u001b[K     |████████████████████████████████| 501 kB 45.9 MB/s \n",
            "\u001b[?25hCollecting eth-utils==1.10\n",
            "  Downloading eth_utils-1.10.0-py3-none-any.whl (24 kB)\n",
            "Collecting eth-abi==2.1.1\n",
            "  Downloading eth_abi-2.1.1-py3-none-any.whl (27 kB)\n",
            "Requirement already satisfied: python-dateutil<3,>=2.8.0 in /usr/local/lib/python3.7/dist-packages (from ethereum-etl) (2.8.2)\n",
            "Collecting click==8.0.4\n",
            "  Downloading click-8.0.4-py3-none-any.whl (97 kB)\n",
            "\u001b[K     |████████████████████████████████| 97 kB 6.6 MB/s \n",
            "\u001b[?25hCollecting ethereum-dasm==0.1.4\n",
            "  Downloading ethereum_dasm-0.1.4-py3-none-any.whl (44 kB)\n",
            "\u001b[K     |████████████████████████████████| 44 kB 2.6 MB/s \n",
            "\u001b[?25hCollecting base58\n",
            "  Downloading base58-2.1.1-py3-none-any.whl (5.6 kB)\n",
            "Requirement already satisfied: requests in /usr/local/lib/python3.7/dist-packages (from ethereum-etl) (2.23.0)\n",
            "Requirement already satisfied: importlib-metadata in /usr/local/lib/python3.7/dist-packages (from click==8.0.4->ethereum-etl) (4.12.0)\n",
            "Collecting parsimonious<0.9.0,>=0.8.0\n",
            "  Downloading parsimonious-0.8.1.tar.gz (45 kB)\n",
            "\u001b[K     |████████████████████████████████| 45 kB 3.0 MB/s \n",
            "\u001b[?25hCollecting eth-typing<3.0.0,>=2.0.0\n",
            "  Downloading eth_typing-2.3.0-py3-none-any.whl (6.2 kB)\n",
            "Collecting cytoolz<1.0.0,>=0.10.1\n",
            "  Downloading cytoolz-0.12.0-cp37-cp37m-manylinux_2_17_x86_64.manylinux2014_x86_64.whl (1.6 MB)\n",
            "\u001b[K     |████████████████████████████████| 1.6 MB 50.8 MB/s \n",
            "\u001b[?25hCollecting eth-hash<0.4.0,>=0.3.1\n",
            "  Downloading eth_hash-0.3.3-py3-none-any.whl (8.9 kB)\n",
            "Collecting evmdasm\n",
            "  Downloading evmdasm-0.1.10-py3-none-any.whl (14 kB)\n",
            "Requirement already satisfied: tabulate in /usr/local/lib/python3.7/dist-packages (from ethereum-dasm==0.1.4->ethereum-etl) (0.8.10)\n",
            "Collecting colorama\n",
            "  Downloading colorama-0.4.5-py2.py3-none-any.whl (16 kB)\n",
            "Requirement already satisfied: toolz>=0.8.0 in /usr/local/lib/python3.7/dist-packages (from cytoolz<1.0.0,>=0.10.1->eth-utils==1.10->ethereum-etl) (0.12.0)\n",
            "Requirement already satisfied: six>=1.9.0 in /usr/local/lib/python3.7/dist-packages (from parsimonious<0.9.0,>=0.8.0->eth-abi==2.1.1->ethereum-etl) (1.15.0)\n",
            "Requirement already satisfied: jsonschema<5,>=3.2.0 in /usr/local/lib/python3.7/dist-packages (from web3<6,>=5.29->ethereum-etl) (4.3.3)\n",
            "Collecting eth-rlp<0.3\n",
            "  Downloading eth_rlp-0.2.1-py3-none-any.whl (5.0 kB)\n",
            "Requirement already satisfied: protobuf<4,>=3.10.0 in /usr/local/lib/python3.7/dist-packages (from web3<6,>=5.29->ethereum-etl) (3.17.3)\n",
            "Requirement already satisfied: typing-extensions<5,>=3.7.4.1 in /usr/local/lib/python3.7/dist-packages (from web3<6,>=5.29->ethereum-etl) (4.1.1)\n",
            "Collecting lru-dict<2.0.0,>=1.1.6\n",
            "  Downloading lru_dict-1.1.8-cp37-cp37m-manylinux_2_5_x86_64.manylinux1_x86_64.manylinux_2_17_x86_64.manylinux2014_x86_64.whl (26 kB)\n",
            "Requirement already satisfied: aiohttp<4,>=3.7.4.post0 in /usr/local/lib/python3.7/dist-packages (from web3<6,>=5.29->ethereum-etl) (3.8.1)\n",
            "Collecting websockets<10,>=9.1\n",
            "  Downloading websockets-9.1-cp37-cp37m-manylinux2010_x86_64.whl (103 kB)\n",
            "\u001b[K     |████████████████████████████████| 103 kB 36.0 MB/s \n",
            "\u001b[?25hCollecting hexbytes<1.0.0,>=0.1.0\n",
            "  Downloading hexbytes-0.3.0-py3-none-any.whl (6.4 kB)\n",
            "Collecting eth-hash[pycryptodome]<1.0.0,>=0.2.0\n",
            "  Downloading eth_hash-0.5.0-py3-none-any.whl (8.9 kB)\n",
            "Collecting eth-account<0.6.0,>=0.5.9\n",
            "  Downloading eth_account-0.5.9-py3-none-any.whl (101 kB)\n",
            "\u001b[K     |████████████████████████████████| 101 kB 10.5 MB/s \n",
            "\u001b[?25hCollecting ipfshttpclient==0.8.0a2\n",
            "  Downloading ipfshttpclient-0.8.0a2-py3-none-any.whl (82 kB)\n",
            "\u001b[K     |████████████████████████████████| 82 kB 807 kB/s \n",
            "\u001b[?25hCollecting multiaddr>=0.0.7\n",
            "  Downloading multiaddr-0.0.9-py2.py3-none-any.whl (16 kB)\n",
            "Requirement already satisfied: charset-normalizer<3.0,>=2.0 in /usr/local/lib/python3.7/dist-packages (from aiohttp<4,>=3.7.4.post0->web3<6,>=5.29->ethereum-etl) (2.1.1)\n",
            "Requirement already satisfied: yarl<2.0,>=1.0 in /usr/local/lib/python3.7/dist-packages (from aiohttp<4,>=3.7.4.post0->web3<6,>=5.29->ethereum-etl) (1.8.1)\n",
            "Requirement already satisfied: frozenlist>=1.1.1 in /usr/local/lib/python3.7/dist-packages (from aiohttp<4,>=3.7.4.post0->web3<6,>=5.29->ethereum-etl) (1.3.1)\n",
            "Requirement already satisfied: asynctest==0.13.0 in /usr/local/lib/python3.7/dist-packages (from aiohttp<4,>=3.7.4.post0->web3<6,>=5.29->ethereum-etl) (0.13.0)\n",
            "Requirement already satisfied: attrs>=17.3.0 in /usr/local/lib/python3.7/dist-packages (from aiohttp<4,>=3.7.4.post0->web3<6,>=5.29->ethereum-etl) (22.1.0)\n",
            "Requirement already satisfied: aiosignal>=1.1.2 in /usr/local/lib/python3.7/dist-packages (from aiohttp<4,>=3.7.4.post0->web3<6,>=5.29->ethereum-etl) (1.2.0)\n",
            "Requirement already satisfied: async-timeout<5.0,>=4.0.0a3 in /usr/local/lib/python3.7/dist-packages (from aiohttp<4,>=3.7.4.post0->web3<6,>=5.29->ethereum-etl) (4.0.2)\n",
            "Requirement already satisfied: multidict<7.0,>=4.5 in /usr/local/lib/python3.7/dist-packages (from aiohttp<4,>=3.7.4.post0->web3<6,>=5.29->ethereum-etl) (6.0.2)\n",
            "Collecting bitarray<3,>=1.2.1\n",
            "  Downloading bitarray-2.6.0-cp37-cp37m-manylinux_2_17_x86_64.manylinux2014_x86_64.whl (235 kB)\n",
            "\u001b[K     |████████████████████████████████| 235 kB 38.2 MB/s \n",
            "\u001b[?25hCollecting rlp<3,>=1.0.0\n",
            "  Downloading rlp-2.0.1-py2.py3-none-any.whl (20 kB)\n",
            "Collecting eth-keys<0.4.0,>=0.3.4\n",
            "  Downloading eth_keys-0.3.4-py3-none-any.whl (21 kB)\n",
            "Collecting eth-keyfile<0.6.0,>=0.5.0\n",
            "  Downloading eth_keyfile-0.5.1-py3-none-any.whl (8.3 kB)\n",
            "Collecting eth-hash[pycryptodome]<1.0.0,>=0.2.0\n",
            "  Downloading eth_hash-0.4.0-py3-none-any.whl (9.0 kB)\n",
            "Collecting pycryptodome<4,>=3.6.6\n",
            "  Downloading pycryptodome-3.15.0-cp35-abi3-manylinux2010_x86_64.whl (2.3 MB)\n",
            "\u001b[K     |████████████████████████████████| 2.3 MB 39.5 MB/s \n",
            "\u001b[?25hRequirement already satisfied: pyrsistent!=0.17.0,!=0.17.1,!=0.17.2,>=0.14.0 in /usr/local/lib/python3.7/dist-packages (from jsonschema<5,>=3.2.0->web3<6,>=5.29->ethereum-etl) (0.18.1)\n",
            "Requirement already satisfied: importlib-resources>=1.4.0 in /usr/local/lib/python3.7/dist-packages (from jsonschema<5,>=3.2.0->web3<6,>=5.29->ethereum-etl) (5.9.0)\n",
            "Requirement already satisfied: zipp>=3.1.0 in /usr/local/lib/python3.7/dist-packages (from importlib-resources>=1.4.0->jsonschema<5,>=3.2.0->web3<6,>=5.29->ethereum-etl) (3.8.1)\n",
            "Collecting varint\n",
            "  Downloading varint-1.0.2.tar.gz (1.9 kB)\n",
            "Collecting netaddr\n",
            "  Downloading netaddr-0.8.0-py2.py3-none-any.whl (1.9 MB)\n",
            "\u001b[K     |████████████████████████████████| 1.9 MB 48.8 MB/s \n",
            "\u001b[?25hRequirement already satisfied: chardet<4,>=3.0.2 in /usr/local/lib/python3.7/dist-packages (from requests->ethereum-etl) (3.0.4)\n",
            "Requirement already satisfied: urllib3!=1.25.0,!=1.25.1,<1.26,>=1.21.1 in /usr/local/lib/python3.7/dist-packages (from requests->ethereum-etl) (1.24.3)\n",
            "Requirement already satisfied: idna<3,>=2.5 in /usr/local/lib/python3.7/dist-packages (from requests->ethereum-etl) (2.10)\n",
            "Requirement already satisfied: certifi>=2017.4.17 in /usr/local/lib/python3.7/dist-packages (from requests->ethereum-etl) (2022.6.15)\n",
            "Building wheels for collected packages: ethereum-etl, parsimonious, varint\n",
            "  Building wheel for ethereum-etl (setup.py) ... \u001b[?25l\u001b[?25hdone\n",
            "  Created wheel for ethereum-etl: filename=ethereum_etl-2.0.6-py3-none-any.whl size=436905 sha256=8473ee8462ba3c76b97df4a026450b9b806573d33a6ec9ce506714deca68cf03\n",
            "  Stored in directory: /root/.cache/pip/wheels/02/93/e0/ac1bf4612efd94f057acbeeec3b7cceeb6ffde084a943a182b\n",
            "  Building wheel for parsimonious (setup.py) ... \u001b[?25l\u001b[?25hdone\n",
            "  Created wheel for parsimonious: filename=parsimonious-0.8.1-py3-none-any.whl size=42723 sha256=c7c888bf33b2d8f062f0e3809997d71edf65513fe436e3680876c239f63ad73f\n",
            "  Stored in directory: /root/.cache/pip/wheels/88/5d/ba/f27d8af07306b65ee44f9d3f9cadea1db749a421a6db8a99bf\n",
            "  Building wheel for varint (setup.py) ... \u001b[?25l\u001b[?25hdone\n",
            "  Created wheel for varint: filename=varint-1.0.2-py3-none-any.whl size=1980 sha256=ecc1102d5871011512f9757206bd0a3fcba4b8c40a0ee4786073aca02428af6a\n",
            "  Stored in directory: /root/.cache/pip/wheels/69/21/07/09f1c6a7d9b59377aa6d98da6efdd670f7ca40aabd93d02704\n",
            "Successfully built ethereum-etl parsimonious varint\n",
            "Installing collected packages: eth-typing, eth-hash, cytoolz, eth-utils, varint, rlp, pycryptodome, parsimonious, netaddr, hexbytes, eth-keys, base58, multiaddr, eth-rlp, eth-keyfile, eth-abi, bitarray, websockets, lru-dict, ipfshttpclient, evmdasm, eth-account, colorama, web3, ethereum-dasm, click, ethereum-etl\n",
            "  Attempting uninstall: click\n",
            "    Found existing installation: click 7.1.2\n",
            "    Uninstalling click-7.1.2:\n",
            "      Successfully uninstalled click-7.1.2\n",
            "\u001b[31mERROR: pip's dependency resolver does not currently take into account all the packages that are installed. This behaviour is the source of the following dependency conflicts.\n",
            "flask 1.1.4 requires click<8.0,>=5.1, but you have click 8.0.4 which is incompatible.\u001b[0m\n",
            "Successfully installed base58-2.1.1 bitarray-2.6.0 click-8.0.4 colorama-0.4.5 cytoolz-0.12.0 eth-abi-2.1.1 eth-account-0.5.9 eth-hash-0.3.3 eth-keyfile-0.5.1 eth-keys-0.3.4 eth-rlp-0.2.1 eth-typing-2.3.0 eth-utils-1.10.0 ethereum-dasm-0.1.4 ethereum-etl-2.0.6 evmdasm-0.1.10 hexbytes-0.3.0 ipfshttpclient-0.8.0a2 lru-dict-1.1.8 multiaddr-0.0.9 netaddr-0.8.0 parsimonious-0.8.1 pycryptodome-3.15.0 rlp-2.0.1 varint-1.0.2 web3-5.31.0 websockets-9.1\n"
          ]
        }
      ],
      "source": [
        "!pip install ethereum-etl"
      ]
    },
    {
      "cell_type": "markdown",
      "metadata": {
        "id": "gvG-Nf1lzFwH"
      },
      "source": [
        "\n",
        "Run the following command  for Extracting transaction hashes from `transactions.csv`\n",
        "\n"
      ]
    },
    {
      "cell_type": "code",
      "execution_count": null,
      "metadata": {
        "colab": {
          "base_uri": "https://localhost:8080/"
        },
        "id": "49q7UtSWzI_G",
        "outputId": "d2b7a49d-3d34-4961-b38f-f9e93d5dccf9"
      },
      "outputs": [
        {
          "name": "stdout",
          "output_type": "stream",
          "text": [
            "\u001b[0m"
          ]
        }
      ],
      "source": [
        "!ethereumetl extract_csv_column --input transactions.csv --column hash --output ./output/transaction_hashes.csv"
      ]
    },
    {
      "cell_type": "markdown",
      "metadata": {
        "id": "86n2UzMGzPlv"
      },
      "source": [
        "\n",
        "Source [Commands - Ethereum ETL](https://ethereum-etl.readthedocs.io/en/latest/commands/) For running other commands\n"
      ]
    },
    {
      "cell_type": "code",
      "execution_count": null,
      "metadata": {
        "colab": {
          "base_uri": "https://localhost:8080/"
        },
        "id": "qCCfxjBRzTzQ",
        "outputId": "3dd165db-7138-4645-d4ab-a1a76ad7b715"
      },
      "outputs": [
        {
          "name": "stdout",
          "output_type": "stream",
          "text": [
            "0x04cbcb236043d8fb7839e07bbc7f5eed692fb2ca55d897f1101eac3e3ad4fab8\n",
            "0xcea6f89720cc1d2f46cc7a935463ae0b99dd5fad9c91bb7357de5421511cee49\n",
            "0x463d53f0ad57677a3b430a007c1c31d15d62c37fab5eee598551697c297c235c\n",
            "0x05287a561f218418892ab053adfb3d919860988b19458c570c5c30f51c146f02\n"
          ]
        }
      ],
      "source": [
        "!cat output/transaction_hashes.csv"
      ]
    },
    {
      "cell_type": "markdown",
      "metadata": {
        "id": "QYWVyCrLzZHu"
      },
      "source": [
        "\n",
        "\n",
        "\n",
        "## **Creating a docker container**\n",
        "\n",
        "In this step you will create a  `Dockerfile` to create your Docker deployment. The `Dockerfile` is a text document that contains the commands used to assemble the image.\n",
        "\n",
        "First, create the `Dockerfile`.\n",
        "\n",
        "Next, add your desired configuration to the `Dockerfile`. These commands specify how the image will be built, and what extra requirements will be included.\n",
        "\n",
        "\n",
        "```\n",
        "FROM python:3.8\n",
        "\n",
        "RUN pip install ethereum-etl\n",
        "```\n",
        "\n",
        "\n",
        "We create a simple python container with just installing the single package [Ethereum ETL](https://ethereum-etl.readthedocs.io/en/latest/)\n",
        "\n",
        "Build the container\n",
        "\n",
        "\n",
        "```\n",
        "docker build -t <hub-user>/<repo-name>:<tag> .\n",
        "```\n",
        "\n",
        "\n",
        "Please replace\n",
        "\n",
        "&lt;hub-user> with your docker hub username, If you don’t have a docker hub account [Follow these instructions to create docker account](https://docs.docker.com/docker-id/), and use the username of the account you created\n",
        "\n",
        "&lt;repo-name> This is the name of the container, you can name it anything you want\n",
        "\n",
        "&lt;tag> This is not required but you can use the latest tag\n",
        "\n",
        "After you have build the container, the next step is to test it locally and then push it docker hub\n",
        "\n",
        "Before pushing you first need to create a repo which you can create by following the instructions here [https://docs.docker.com/docker-hub/repos/](https://docs.docker.com/docker-hub/repos/)\n",
        "\n",
        "Now you can push this repository to the registry designated by its name or tag.\n",
        "\n",
        "\n",
        "```\n",
        " docker push <hub-user>/<repo-name>:<tag>\n",
        "```\n",
        "\n",
        "\n",
        "After the repo image has been pushed to docker hub, we can now use the container for running on bacalhau"
      ]
    },
    {
      "cell_type": "markdown",
      "metadata": {
        "id": "wjvk7WHzzhBH"
      },
      "source": [
        "\n",
        "# **Running EthereumETL on bacalhau**\n",
        "\n",
        "Structure of the Command\n",
        "\n",
        "`bacalhau docker run ` similar to docker run\n",
        "\n",
        "-v mount the CID to the container this is the \n",
        "\n",
        "CID:/&lt;PATH-TO-WHERE-THE-CID-IS-TO-BE-MOUNTED> `QmfKJT13h5k1b23ja3ZCVg5nFL9oKz2bVXc8oXgtwiwhjz:/files`\n",
        "\n",
        "-- **`ethereumetl extract_csv_column --input transactions.csv --column hash --output ./output/transaction_hashes.csv`** running the command on bacalhau\n",
        "\n",
        "Command:\n",
        "\n",
        "\n",
        "```\n",
        "bacalhau docker run \\\n",
        "-v QmYErPqtdpNTxpKot9pXR5QbhGSyaGdMFxfUwGHm4rzXzH:/transactions.csv \\\n",
        "jsace/ethereum-etl \\\n",
        "-- ethereumetl extract_csv_column --input transactions.csv --column hash --output ./output/transaction_hashes.csv\n",
        "```\n",
        "\n"
      ]
    },
    {
      "cell_type": "markdown",
      "metadata": {
        "id": "24HuygvzTwnT"
      },
      "source": [
        "Insalling bacalhau"
      ]
    },
    {
      "cell_type": "code",
      "execution_count": null,
      "metadata": {
        "colab": {
          "base_uri": "https://localhost:8080/"
        },
        "id": "W1joNKGJT5eN",
        "outputId": "be226f00-179c-4ccf-e741-2f3dc0857b52"
      },
      "outputs": [
        {
          "name": "stdout",
          "output_type": "stream",
          "text": [
            "Your system is linux_amd64\n",
            "No BACALHAU detected. Installing fresh BACALHAU CLI...\n",
            "Getting the latest BACALHAU CLI...\n",
            "Installing v0.2.5 BACALHAU CLI...\n",
            "Downloading https://github.com/filecoin-project/bacalhau/releases/download/v0.2.5/bacalhau_v0.2.5_linux_amd64.tar.gz ...\n",
            "Downloading sig file https://github.com/filecoin-project/bacalhau/releases/download/v0.2.5/bacalhau_v0.2.5_linux_amd64.tar.gz.signature.sha256 ...\n",
            "Verified OK\n",
            "Extracting tarball ...\n",
            "NOT verifying Bin\n",
            "bacalhau installed into /usr/local/bin successfully.\n",
            "Client Version: v0.2.5\n",
            "Server Version: v0.2.5\n"
          ]
        }
      ],
      "source": [
        "!curl -sL https://get.bacalhau.org/install.sh | bash"
      ]
    },
    {
      "cell_type": "code",
      "execution_count": null,
      "metadata": {
        "colab": {
          "base_uri": "https://localhost:8080/"
        },
        "id": "Htb8W95DU8av",
        "outputId": "c21496c6-347b-4982-c27b-6bd69ee4969a"
      },
      "outputs": [
        {
          "name": "stdout",
          "output_type": "stream",
          "text": [
            "75ef84c5-1f39-483f-a33f-508c9f7a789a\n"
          ]
        }
      ],
      "source": [
        "!echo $(bacalhau docker run --wait --wait-timeout-secs 1000 -v QmYErPqtdpNTxpKot9pXR5QbhGSyaGdMFxfUwGHm4rzXzH:/transactions.csv jsace/ethereum-etl -- ethereumetl extract_csv_column --input transactions.csv --column hash --output ./outputs/transaction_hashes.csv) > job_id.txt\n",
        "!cat job_id.txt"
      ]
    },
    {
      "cell_type": "markdown",
      "metadata": {
        "id": "UszrZGs4c4i9"
      },
      "source": [
        "\n",
        "Running the commands will output a UUID (like `54506541-4eb9-45f4-a0b1-ea0aecd34b3e`). This is the ID of the job that was created. You can check the status of the job with the following command:\n"
      ]
    },
    {
      "cell_type": "code",
      "execution_count": null,
      "metadata": {
        "colab": {
          "base_uri": "https://localhost:8080/"
        },
        "id": "jY8x0oyWc6Dq",
        "outputId": "bc092c7e-2cce-4480-e657-eed775346560"
      },
      "outputs": [
        {
          "name": "stdout",
          "output_type": "stream",
          "text": [
            "\u001b[92;100m CREATED  \u001b[0m\u001b[92;100m ID       \u001b[0m\u001b[92;100m JOB                     \u001b[0m\u001b[92;100m STATE     \u001b[0m\u001b[92;100m VERIFIED \u001b[0m\u001b[92;100m PUBLISHED               \u001b[0m\n",
            "\u001b[97;40m 04:45:02 \u001b[0m\u001b[97;40m 75ef84c5 \u001b[0m\u001b[97;40m Docker jsace/ethereu... \u001b[0m\u001b[97;40m Completed \u001b[0m\u001b[97;40m          \u001b[0m\u001b[97;40m /ipfs/QmRcanuDamGtJz... \u001b[0m\n"
          ]
        }
      ],
      "source": [
        "!bacalhau list --id-filter $(cat job_id.txt)"
      ]
    },
    {
      "cell_type": "markdown",
      "metadata": {
        "id": "kFYpNA32c7t5"
      },
      "source": [
        "\n",
        "Where it says \"`Published `\", that means the job is done, and we can get the results.\n",
        "\n",
        "To find out more information about your job, run the following command:"
      ]
    },
    {
      "cell_type": "code",
      "execution_count": null,
      "metadata": {
        "colab": {
          "base_uri": "https://localhost:8080/"
        },
        "id": "FDnxNH3lVbG1",
        "outputId": "f047196c-f8b8-4c6c-dc1d-184a3651d76f"
      },
      "outputs": [
        {
          "name": "stdout",
          "output_type": "stream",
          "text": [
            "JobAPIVersion: \"\"\n",
            "ID: 75ef84c5-1f39-483f-a33f-508c9f7a789a\n",
            "RequesterNodeID: QmYgxZiySj3MRkwLSL4X2MF5F9f2PMhAE3LV49XkfNL1o3\n",
            "ClientID: 14748225207ab2b2535e2f04ecd0ed2b1ac44363d6ef419ba05cca30377d6aca\n",
            "Spec:\n",
            "    Engine: 2\n",
            "    Verifier: 1\n",
            "    Publisher: 4\n",
            "    Docker:\n",
            "        Image: jsace/ethereum-etl\n",
            "        Entrypoint:\n",
            "            - ethereumetl\n",
            "            - extract_csv_column\n",
            "            - --input\n",
            "            - transactions.csv\n",
            "            - --column\n",
            "            - hash\n",
            "            - --output\n",
            "            - ./outputs/transaction_hashes.csv\n",
            "    inputs:\n",
            "        - Engine: 1\n",
            "          Cid: QmYErPqtdpNTxpKot9pXR5QbhGSyaGdMFxfUwGHm4rzXzH\n",
            "          path: /transactions.csv\n",
            "    outputs:\n",
            "        - Engine: 1\n",
            "          Name: outputs\n",
            "          path: /outputs\n",
            "    Sharding:\n",
            "        BatchSize: 1\n",
            "        GlobPatternBasePath: /inputs\n",
            "Deal:\n",
            "    Concurrency: 1\n",
            "CreatedAt: 2022-10-03T04:45:02.775669316Z\n",
            "JobState:\n",
            "    Nodes:\n",
            "        QmYgxZiySj3MRkwLSL4X2MF5F9f2PMhAE3LV49XkfNL1o3:\n",
            "            Shards:\n",
            "                0:\n",
            "                    NodeId: QmYgxZiySj3MRkwLSL4X2MF5F9f2PMhAE3LV49XkfNL1o3\n",
            "                    ShardIndex: 0\n",
            "                    State: 7\n",
            "                    Status: 'Got results proposal of length: 0'\n",
            "                    VerificationProposal: []\n",
            "                    VerificationResult:\n",
            "                        Complete: true\n",
            "                        Result: true\n",
            "                    PublishedResults:\n",
            "                        Engine: 1\n",
            "                        Name: job-75ef84c5-1f39-483f-a33f-508c9f7a789a-shard-0-host-QmYgxZiySj3MRkwLSL4X2MF5F9f2PMhAE3LV49XkfNL1o3\n",
            "                        Cid: QmRcanuDamGtJzYreoP79ButPimGYo6oz2v1T7FPr6GRhP\n",
            "                    RunOutput:\n",
            "                        Stdout: \"\"\n",
            "                        StdoutTruncated: false\n",
            "                        Stderr: \"\"\n",
            "                        StderrTruncated: false\n",
            "                        ExitCode: 0\n",
            "                        RunnerError: \"\"\n"
          ]
        }
      ],
      "source": [
        "!bacalhau describe $(cat job_id.txt)"
      ]
    },
    {
      "cell_type": "markdown",
      "metadata": {
        "id": "2I4DHnt0Vzua"
      },
      "source": [
        "Since there is no error we can’t see any error instead we see the state of our job to be complete, that means \n",
        "we can download the results!\n",
        "we create a temporary directory to save our results"
      ]
    },
    {
      "cell_type": "code",
      "execution_count": null,
      "metadata": {
        "id": "9fXo1Vv8V84j"
      },
      "outputs": [],
      "source": [
        "!mkdir results"
      ]
    },
    {
      "cell_type": "markdown",
      "metadata": {
        "id": "6SuXkeV-WD7j"
      },
      "source": [
        "To Download the results of your job, run \n",
        "\n",
        "---\n",
        "\n",
        "the following command:"
      ]
    },
    {
      "cell_type": "code",
      "execution_count": null,
      "metadata": {
        "colab": {
          "base_uri": "https://localhost:8080/"
        },
        "id": "Ha5UFWLYV_5R",
        "outputId": "54d874ff-85f0-4382-9b90-a3d17ed5f2a1"
      },
      "outputs": [
        {
          "name": "stdout",
          "output_type": "stream",
          "text": [
            "\u001b[90m04:45:07.642 |\u001b[0m \u001b[32mINF\u001b[0m \u001b[1mbacalhau/get.go:67\u001b[0m\u001b[36m >\u001b[0m Fetching results of job '75ef84c5-1f39-483f-a33f-508c9f7a789a'...\n",
            "2022/10/03 04:45:08 failed to sufficiently increase receive buffer size (was: 208 kiB, wanted: 2048 kiB, got: 416 kiB). See https://github.com/lucas-clemente/quic-go/wiki/UDP-Receive-Buffer-Size for details.\n",
            "\u001b[90m04:45:18.137 |\u001b[0m \u001b[32mINF\u001b[0m \u001b[1mipfs/downloader.go:115\u001b[0m\u001b[36m >\u001b[0m Found 1 result shards, downloading to temporary folder.\n",
            "\u001b[90m04:46:19 |\u001b[0m \u001b[32mINF\u001b[0m \u001b[1mipfs/downloader.go:195\u001b[0m\u001b[36m >\u001b[0m Combining shard from output volume 'outputs' to final location: '/content/results'\n"
          ]
        }
      ],
      "source": [
        "! bacalhau get  $(cat job_id.txt)  --output-dir results"
      ]
    },
    {
      "cell_type": "markdown",
      "metadata": {
        "id": "nrZcHon2WOd-"
      },
      "source": [
        "After the download has finished you should \n",
        "see the following contents in results directory"
      ]
    },
    {
      "cell_type": "code",
      "execution_count": null,
      "metadata": {
        "colab": {
          "base_uri": "https://localhost:8080/"
        },
        "id": "C5EmAu29WRpa",
        "outputId": "cba3724a-86b9-4ac8-8e12-3279f6ee1d9c"
      },
      "outputs": [
        {
          "name": "stdout",
          "output_type": "stream",
          "text": [
            "shards\tstderr\tstdout\tvolumes\n"
          ]
        }
      ],
      "source": [
        "! ls results/"
      ]
    },
    {
      "cell_type": "markdown",
      "metadata": {
        "id": "gLfJC1rAiOHP"
      },
      "source": [
        "VIEWING THE RESULTS CSV"
      ]
    },
    {
      "cell_type": "code",
      "execution_count": null,
      "metadata": {
        "colab": {
          "base_uri": "https://localhost:8080/"
        },
        "id": "o7DMYf-Jz_cv",
        "outputId": "9c55cec6-51ce-4043-fab5-796b118e6fc8"
      },
      "outputs": [
        {
          "name": "stdout",
          "output_type": "stream",
          "text": [
            "0x04cbcb236043d8fb7839e07bbc7f5eed692fb2ca55d897f1101eac3e3ad4fab8\n",
            "0xcea6f89720cc1d2f46cc7a935463ae0b99dd5fad9c91bb7357de5421511cee49\n",
            "0x463d53f0ad57677a3b430a007c1c31d15d62c37fab5eee598551697c297c235c\n",
            "0x05287a561f218418892ab053adfb3d919860988b19458c570c5c30f51c146f02\n"
          ]
        }
      ],
      "source": [
        "!cat results/volumes/outputs/transaction_hashes.csv"
      ]
    },
    {
      "cell_type": "code",
      "execution_count": null,
      "metadata": {
        "id": "0_DRSYbqKePQ"
      },
      "outputs": [],
      "source": [
        " !bacalhau describe $(cat job_id.txt) --spec > job.yaml"
      ]
    },
    {
      "cell_type": "code",
      "execution_count": null,
      "metadata": {
        "colab": {
          "base_uri": "https://localhost:8080/"
        },
        "id": "HWaY9_LjKiSO",
        "outputId": "ce437b25-7394-48f2-e068-44799b7b2ccf"
      },
      "outputs": [
        {
          "name": "stdout",
          "output_type": "stream",
          "text": [
            "JobAPIVersion: \"\"\n",
            "ID: 75ef84c5-1f39-483f-a33f-508c9f7a789a\n",
            "RequesterNodeID: QmYgxZiySj3MRkwLSL4X2MF5F9f2PMhAE3LV49XkfNL1o3\n",
            "ClientID: 14748225207ab2b2535e2f04ecd0ed2b1ac44363d6ef419ba05cca30377d6aca\n",
            "Spec:\n",
            "    Engine: 2\n",
            "    Verifier: 1\n",
            "    Publisher: 4\n",
            "    Docker:\n",
            "        Image: jsace/ethereum-etl\n",
            "        Entrypoint:\n",
            "            - ethereumetl\n",
            "            - extract_csv_column\n",
            "            - --input\n",
            "            - transactions.csv\n",
            "            - --column\n",
            "            - hash\n",
            "            - --output\n",
            "            - ./outputs/transaction_hashes.csv\n",
            "    inputs:\n",
            "        - Engine: 1\n",
            "          Cid: QmYErPqtdpNTxpKot9pXR5QbhGSyaGdMFxfUwGHm4rzXzH\n",
            "          path: /transactions.csv\n",
            "    outputs:\n",
            "        - Engine: 1\n",
            "          Name: outputs\n",
            "          path: /outputs\n",
            "    Sharding:\n",
            "        BatchSize: 1\n",
            "        GlobPatternBasePath: /inputs\n",
            "Deal:\n",
            "    Concurrency: 1\n",
            "CreatedAt: 2022-10-03T04:45:02.782847165Z\n",
            "JobState:\n",
            "    Nodes:\n",
            "        QmYgxZiySj3MRkwLSL4X2MF5F9f2PMhAE3LV49XkfNL1o3:\n",
            "            Shards:\n",
            "                0:\n",
            "                    NodeId: QmYgxZiySj3MRkwLSL4X2MF5F9f2PMhAE3LV49XkfNL1o3\n",
            "                    ShardIndex: 0\n",
            "                    State: 7\n",
            "                    Status: 'Got results proposal of length: 0'\n",
            "                    VerificationProposal: []\n",
            "                    VerificationResult:\n",
            "                        Complete: true\n",
            "                        Result: true\n",
            "                    PublishedResults:\n",
            "                        Engine: 1\n",
            "                        Name: job-75ef84c5-1f39-483f-a33f-508c9f7a789a-shard-0-host-QmYgxZiySj3MRkwLSL4X2MF5F9f2PMhAE3LV49XkfNL1o3\n",
            "                        Cid: QmRcanuDamGtJzYreoP79ButPimGYo6oz2v1T7FPr6GRhP\n",
            "                    RunOutput:\n",
            "                        Stdout: \"\"\n",
            "                        StdoutTruncated: false\n",
            "                        Stderr: \"\"\n",
            "                        StderrTruncated: false\n",
            "                        ExitCode: 0\n",
            "                        RunnerError: \"\"\n"
          ]
        }
      ],
      "source": [
        "!cat job.yaml"
      ]
    },
    {
      "cell_type": "code",
      "execution_count": null,
      "metadata": {
        "id": "pegY55UKKxSG"
      },
      "outputs": [],
      "source": []
    }
  ],
  "metadata": {
    "colab": {
      "provenance": []
    },
    "kernelspec": {
      "display_name": "Python 3",
      "name": "python3"
    },
    "language_info": {
      "name": "python"
    }
  },
  "nbformat": 4,
  "nbformat_minor": 0
}
