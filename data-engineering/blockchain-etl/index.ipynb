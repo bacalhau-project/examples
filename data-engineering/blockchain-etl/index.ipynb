{
    "cells": [
        {
            "cell_type": "raw",
            "metadata": {},
            "source": [
                "---\n",
                "sidebar_label: Ethereum Blockchain Analysis\n",
                "sidebar_position: 3\n",
                "---"
            ]
        },
        {
            "cell_type": "markdown",
            "metadata": {
                "id": "mkXV6QLvygma"
            },
            "source": [
                "# Ethereum Blockchain Analysis with Ethereum-ETL and Bacalhau\n",
                "\n",
                "[![Open In Colab](https://colab.research.google.com/assets/colab-badge.svg)](https://colab.research.google.com/github/bacalhau-project/examples/blob/main/data-engineering/blockchain-etl/index.ipynb)\n",
                "[![Open In Binder](https://mybinder.org/badge.svg)](https://mybinder.org/v2/gh/bacalhau-project/examples/HEAD?labpath=data-engineering/blockchain-etl/index.ipynb)\n",
                "\n",
                "# Introduction\n",
                "\n",
                "Mature blockchains are difficult to analyze because of their size. Ethereum-ETL is a tool that makes it easy to extract information from an Ethereum node, but it's not easy to get working in a batch manner. It takes approximately 1 week for an ethereum node to download the entire chain and importing and exporting data from the ethereum node is slow.\n",
                "\n",
                "For this example we ran an ethereum node for a week and allowed it to synchronise. We then ran ethereum-etl to extract the information and pinned it on Filecoin. This means that we can both now access the data without having to run another ethereum node.\n",
                "\n",
                "### Prerequisites\n",
                "\n",
                "* Python 3 \n",
                "* The Bacalhau client - [Installation instructions](https://docs.bacalhau.org/getting-started/installation)"
            ]
        },
        {
            "cell_type": "code",
            "execution_count": null,
            "metadata": {
                "tags": [
                    "skip-execution",
                    "remove_cell"
                ]
            },
            "outputs": [
                {
                    "name": "stdout",
                    "output_type": "stream",
                    "text": [
                        "env: PATH=./:/Users/phil/.pyenv/versions/3.9.7/bin:/opt/homebrew/Caskroom/google-cloud-sdk/latest/google-cloud-sdk/bin:/Users/phil/.gvm/bin:/opt/homebrew/opt/findutils/libexec/gnubin:/opt/homebrew/opt/coreutils/libexec/gnubin:/opt/homebrew/Caskroom/google-cloud-sdk/latest/google-cloud-sdk/bin:/Users/phil/.pyenv/shims:/opt/homebrew/bin:/opt/homebrew/sbin:/usr/local/bin:/usr/bin:/bin:/usr/sbin:/sbin:/Library/TeX/texbin:/usr/local/MacGPG2/bin:/Users/phil/.nexustools\n"
                    ]
                }
            ],
            "source": [
                "!command -v bacalhau >/dev/null 2>&1 || (export BACALHAU_INSTALL_DIR=.; curl -sL https://get.bacalhau.org/install.sh | bash)\n",
                "path=!echo $PATH\n",
                "%env PATH=./:{path[0]}"
            ]
        },
        {
            "cell_type": "markdown",
            "metadata": {},
            "source": [
                "## 1. Analysing Ethereum Data Locally\n",
                "\n",
                "First let's download one of the IPFS files and inspect it locally. You can see the full list of IPFS CIDs in the appendix."
            ]
        },
        {
            "cell_type": "code",
            "execution_count": 59,
            "metadata": {
                "tags": [
                    "skip-execution"
                ]
            },
            "outputs": [
                {
                    "name": "stderr",
                    "output_type": "stream",
                    "text": [
                        "x output_1100000/\n",
                        "x output_1100000/token_transfers/\n",
                        "x output_1100000/token_transfers/start_block=01100000/\n",
                        "x output_1100000/token_transfers/start_block=01100000/end_block=01199999/\n",
                        "x output_1100000/token_transfers/start_block=01100000/end_block=01199999/token_transfers_01100000_01199999.csv\n",
                        "x output_1100000/contracts/\n",
                        "x output_1100000/contracts/start_block=01100000/\n",
                        "x output_1100000/contracts/start_block=01100000/end_block=01199999/\n",
                        "x output_1100000/contracts/start_block=01100000/end_block=01199999/contracts_01100000_01199999.csv\n",
                        "x output_1100000/transactions/\n",
                        "x output_1100000/transactions/start_block=01100000/\n",
                        "x output_1100000/transactions/start_block=01100000/end_block=01199999/\n",
                        "x output_1100000/transactions/start_block=01100000/end_block=01199999/transactions_01100000_01199999.csv\n",
                        "x output_1100000/receipts/\n",
                        "x output_1100000/receipts/start_block=01100000/\n",
                        "x output_1100000/receipts/start_block=01100000/end_block=01199999/\n",
                        "x output_1100000/receipts/start_block=01100000/end_block=01199999/receipts_01100000_01199999.csv\n",
                        "x output_1100000/tokens/\n",
                        "x output_1100000/tokens/start_block=01100000/\n",
                        "x output_1100000/tokens/start_block=01100000/end_block=01199999/\n",
                        "x output_1100000/tokens/start_block=01100000/end_block=01199999/tokens_01100000_01199999.csv\n",
                        "x output_1100000/blocks/\n",
                        "x output_1100000/blocks/start_block=01100000/\n",
                        "x output_1100000/blocks/start_block=01100000/end_block=01199999/\n",
                        "x output_1100000/blocks/start_block=01100000/end_block=01199999/blocks_01100000_01199999.csv\n",
                        "x output_1100000/.tmp/\n",
                        "x output_1100000/logs/\n",
                        "x output_1100000/logs/start_block=01100000/\n",
                        "x output_1100000/logs/start_block=01100000/end_block=01199999/\n",
                        "x output_1100000/logs/start_block=01100000/end_block=01199999/logs_01100000_01199999.csv\n"
                    ]
                }
            ],
            "source": [
                "%%bash\n",
                "wget -q -O file.tar.gz https://w3s.link/ipfs/bafybeihvmcrs5voz2pzpdkb3b7kt4bbb6kpi5ohspgrrs7bqkalpwmfdpq\n",
                "tar -xvf file.tar.gz"
            ]
        },
        {
            "cell_type": "code",
            "execution_count": 17,
            "metadata": {
                "colab": {
                    "base_uri": "https://localhost:8080/"
                },
                "id": "9uugWSqGysqL",
                "outputId": "5bdcd741-3ca9-4e93-b1d9-bde7657f65fa",
                "tags": [
                    "skip-execution"
                ]
            },
            "outputs": [
                {
                    "name": "stdout",
                    "output_type": "stream",
                    "text": [
                        "Requirement already satisfied: ethereum-etl in /Users/phil/.pyenv/versions/3.9.7/lib/python3.9/site-packages (2.0.6)\n",
                        "Requirement already satisfied: pandas in /Users/phil/.pyenv/versions/3.9.7/lib/python3.9/site-packages (1.4.3)\n",
                        "Requirement already satisfied: web3<6,>=5.29 in /Users/phil/.pyenv/versions/3.9.7/lib/python3.9/site-packages (from ethereum-etl) (5.31.0)\n",
                        "Requirement already satisfied: eth-utils==1.10 in /Users/phil/.pyenv/versions/3.9.7/lib/python3.9/site-packages (from ethereum-etl) (1.10.0)\n",
                        "Requirement already satisfied: eth-abi==2.1.1 in /Users/phil/.pyenv/versions/3.9.7/lib/python3.9/site-packages (from ethereum-etl) (2.1.1)\n",
                        "Requirement already satisfied: python-dateutil<3,>=2.8.0 in /Users/phil/.local/lib/python3.9/site-packages (from ethereum-etl) (2.8.2)\n",
                        "Requirement already satisfied: click==8.0.4 in /Users/phil/.pyenv/versions/3.9.7/lib/python3.9/site-packages (from ethereum-etl) (8.0.4)\n",
                        "Requirement already satisfied: ethereum-dasm==0.1.4 in /Users/phil/.pyenv/versions/3.9.7/lib/python3.9/site-packages (from ethereum-etl) (0.1.4)\n",
                        "Requirement already satisfied: base58 in /Users/phil/.pyenv/versions/3.9.7/lib/python3.9/site-packages (from ethereum-etl) (2.1.1)\n",
                        "Requirement already satisfied: requests in /Users/phil/.pyenv/versions/3.9.7/lib/python3.9/site-packages (from ethereum-etl) (2.26.0)\n",
                        "Requirement already satisfied: eth-typing<3.0.0,>=2.0.0 in /Users/phil/.pyenv/versions/3.9.7/lib/python3.9/site-packages (from eth-abi==2.1.1->ethereum-etl) (2.3.0)\n",
                        "Requirement already satisfied: parsimonious<0.9.0,>=0.8.0 in /Users/phil/.pyenv/versions/3.9.7/lib/python3.9/site-packages (from eth-abi==2.1.1->ethereum-etl) (0.8.1)\n",
                        "Requirement already satisfied: eth-hash<0.4.0,>=0.3.1 in /Users/phil/.pyenv/versions/3.9.7/lib/python3.9/site-packages (from eth-utils==1.10->ethereum-etl) (0.3.3)\n",
                        "Requirement already satisfied: cytoolz<1.0.0,>=0.10.1 in /Users/phil/.pyenv/versions/3.9.7/lib/python3.9/site-packages (from eth-utils==1.10->ethereum-etl) (0.12.0)\n",
                        "Requirement already satisfied: tabulate in /Users/phil/.local/lib/python3.9/site-packages (from ethereum-dasm==0.1.4->ethereum-etl) (0.8.9)\n",
                        "Requirement already satisfied: colorama in /Users/phil/.pyenv/versions/3.9.7/lib/python3.9/site-packages (from ethereum-dasm==0.1.4->ethereum-etl) (0.4.5)\n",
                        "Requirement already satisfied: evmdasm in /Users/phil/.pyenv/versions/3.9.7/lib/python3.9/site-packages (from ethereum-dasm==0.1.4->ethereum-etl) (0.1.10)\n",
                        "Requirement already satisfied: numpy>=1.20.0 in /Users/phil/.pyenv/versions/3.9.7/lib/python3.9/site-packages (from pandas) (1.23.0)\n",
                        "Requirement already satisfied: pytz>=2020.1 in /Users/phil/.local/lib/python3.9/site-packages (from pandas) (2021.1)\n",
                        "Requirement already satisfied: six>=1.5 in /Users/phil/.pyenv/versions/3.9.7/lib/python3.9/site-packages (from python-dateutil<3,>=2.8.0->ethereum-etl) (1.16.0)\n",
                        "Requirement already satisfied: ipfshttpclient==0.8.0a2 in /Users/phil/.pyenv/versions/3.9.7/lib/python3.9/site-packages (from web3<6,>=5.29->ethereum-etl) (0.8.0a2)\n",
                        "Requirement already satisfied: lru-dict<2.0.0,>=1.1.6 in /Users/phil/.pyenv/versions/3.9.7/lib/python3.9/site-packages (from web3<6,>=5.29->ethereum-etl) (1.1.8)\n",
                        "Requirement already satisfied: eth-account<0.6.0,>=0.5.9 in /Users/phil/.pyenv/versions/3.9.7/lib/python3.9/site-packages (from web3<6,>=5.29->ethereum-etl) (0.5.9)\n",
                        "Requirement already satisfied: hexbytes<1.0.0,>=0.1.0 in /Users/phil/.pyenv/versions/3.9.7/lib/python3.9/site-packages (from web3<6,>=5.29->ethereum-etl) (0.3.0)\n",
                        "Requirement already satisfied: aiohttp<4,>=3.7.4.post0 in /Users/phil/.pyenv/versions/3.9.7/lib/python3.9/site-packages (from web3<6,>=5.29->ethereum-etl) (3.8.1)\n",
                        "Requirement already satisfied: eth-rlp<0.3 in /Users/phil/.pyenv/versions/3.9.7/lib/python3.9/site-packages (from web3<6,>=5.29->ethereum-etl) (0.2.1)\n",
                        "Requirement already satisfied: jsonschema<5,>=3.2.0 in /Users/phil/.pyenv/versions/3.9.7/lib/python3.9/site-packages (from web3<6,>=5.29->ethereum-etl) (4.16.0)\n",
                        "Requirement already satisfied: websockets<10,>=9.1 in /Users/phil/.pyenv/versions/3.9.7/lib/python3.9/site-packages (from web3<6,>=5.29->ethereum-etl) (9.1)\n",
                        "Requirement already satisfied: protobuf<4,>=3.10.0 in /Users/phil/.local/lib/python3.9/site-packages (from web3<6,>=5.29->ethereum-etl) (3.15.7)\n",
                        "Requirement already satisfied: multiaddr>=0.0.7 in /Users/phil/.pyenv/versions/3.9.7/lib/python3.9/site-packages (from ipfshttpclient==0.8.0a2->web3<6,>=5.29->ethereum-etl) (0.0.9)\n",
                        "Requirement already satisfied: charset-normalizer~=2.0.0 in /Users/phil/.pyenv/versions/3.9.7/lib/python3.9/site-packages (from requests->ethereum-etl) (2.0.7)\n",
                        "Requirement already satisfied: certifi>=2017.4.17 in /Users/phil/.pyenv/versions/3.9.7/lib/python3.9/site-packages (from requests->ethereum-etl) (2021.10.8)\n",
                        "Requirement already satisfied: urllib3<1.27,>=1.21.1 in /Users/phil/.pyenv/versions/3.9.7/lib/python3.9/site-packages (from requests->ethereum-etl) (1.26.7)\n",
                        "Requirement already satisfied: idna<4,>=2.5 in /Users/phil/.pyenv/versions/3.9.7/lib/python3.9/site-packages (from requests->ethereum-etl) (3.3)\n",
                        "Requirement already satisfied: async-timeout<5.0,>=4.0.0a3 in /Users/phil/.pyenv/versions/3.9.7/lib/python3.9/site-packages (from aiohttp<4,>=3.7.4.post0->web3<6,>=5.29->ethereum-etl) (4.0.2)\n",
                        "Requirement already satisfied: multidict<7.0,>=4.5 in /Users/phil/.pyenv/versions/3.9.7/lib/python3.9/site-packages (from aiohttp<4,>=3.7.4.post0->web3<6,>=5.29->ethereum-etl) (6.0.2)\n",
                        "Requirement already satisfied: yarl<2.0,>=1.0 in /Users/phil/.pyenv/versions/3.9.7/lib/python3.9/site-packages (from aiohttp<4,>=3.7.4.post0->web3<6,>=5.29->ethereum-etl) (1.8.1)\n",
                        "Requirement already satisfied: aiosignal>=1.1.2 in /Users/phil/.pyenv/versions/3.9.7/lib/python3.9/site-packages (from aiohttp<4,>=3.7.4.post0->web3<6,>=5.29->ethereum-etl) (1.2.0)\n",
                        "Requirement already satisfied: attrs>=17.3.0 in /Users/phil/.pyenv/versions/3.9.7/lib/python3.9/site-packages (from aiohttp<4,>=3.7.4.post0->web3<6,>=5.29->ethereum-etl) (22.1.0)\n",
                        "Requirement already satisfied: frozenlist>=1.1.1 in /Users/phil/.pyenv/versions/3.9.7/lib/python3.9/site-packages (from aiohttp<4,>=3.7.4.post0->web3<6,>=5.29->ethereum-etl) (1.3.1)\n",
                        "Requirement already satisfied: toolz>=0.8.0 in /Users/phil/.pyenv/versions/3.9.7/lib/python3.9/site-packages (from cytoolz<1.0.0,>=0.10.1->eth-utils==1.10->ethereum-etl) (0.12.0)\n",
                        "Requirement already satisfied: eth-keys<0.4.0,>=0.3.4 in /Users/phil/.pyenv/versions/3.9.7/lib/python3.9/site-packages (from eth-account<0.6.0,>=0.5.9->web3<6,>=5.29->ethereum-etl) (0.3.4)\n",
                        "Requirement already satisfied: bitarray<3,>=1.2.1 in /Users/phil/.pyenv/versions/3.9.7/lib/python3.9/site-packages (from eth-account<0.6.0,>=0.5.9->web3<6,>=5.29->ethereum-etl) (2.6.0)\n",
                        "Requirement already satisfied: eth-keyfile<0.6.0,>=0.5.0 in /Users/phil/.pyenv/versions/3.9.7/lib/python3.9/site-packages (from eth-account<0.6.0,>=0.5.9->web3<6,>=5.29->ethereum-etl) (0.5.1)\n",
                        "Requirement already satisfied: rlp<3,>=1.0.0 in /Users/phil/.pyenv/versions/3.9.7/lib/python3.9/site-packages (from eth-account<0.6.0,>=0.5.9->web3<6,>=5.29->ethereum-etl) (2.0.1)\n",
                        "Requirement already satisfied: pycryptodome<4,>=3.6.6 in /Users/phil/.pyenv/versions/3.9.7/lib/python3.9/site-packages (from eth-hash<0.4.0,>=0.3.1->eth-utils==1.10->ethereum-etl) (3.15.0)\n",
                        "Requirement already satisfied: pyrsistent!=0.17.0,!=0.17.1,!=0.17.2,>=0.14.0 in /Users/phil/.pyenv/versions/3.9.7/lib/python3.9/site-packages (from jsonschema<5,>=3.2.0->web3<6,>=5.29->ethereum-etl) (0.18.1)\n",
                        "Requirement already satisfied: varint in /Users/phil/.pyenv/versions/3.9.7/lib/python3.9/site-packages (from multiaddr>=0.0.7->ipfshttpclient==0.8.0a2->web3<6,>=5.29->ethereum-etl) (1.0.2)\n",
                        "Requirement already satisfied: netaddr in /Users/phil/.pyenv/versions/3.9.7/lib/python3.9/site-packages (from multiaddr>=0.0.7->ipfshttpclient==0.8.0a2->web3<6,>=5.29->ethereum-etl) (0.8.0)\n",
                        "\n",
                        "[notice] A new release of pip available: 22.1.2 -> 22.3.1\n",
                        "[notice] To update, run: pip install --upgrade pip\n"
                    ]
                }
            ],
            "source": [
                "%%bash\n",
                "pip install pandas"
            ]
        },
        {
            "cell_type": "code",
            "execution_count": 69,
            "metadata": {
                "colab": {
                    "base_uri": "https://localhost:8080/"
                },
                "id": "qCCfxjBRzTzQ",
                "outputId": "3dd165db-7138-4645-d4ab-a1a76ad7b715",
                "tags": [
                    "skip-execution"
                ]
            },
            "outputs": [
                {
                    "name": "stdout",
                    "output_type": "stream",
                    "text": [
                        "<class 'pandas.core.frame.DataFrame'>\n",
                        "RangeIndex: 520716 entries, 0 to 520715\n",
                        "Data columns (total 16 columns):\n",
                        " #   Column                    Non-Null Count   Dtype         \n",
                        "---  ------                    --------------   -----         \n",
                        " 0   hash                      520716 non-null  string        \n",
                        " 1   nonce                     520716 non-null  int64         \n",
                        " 2   block_hash                520716 non-null  string        \n",
                        " 3   block_number              520716 non-null  int64         \n",
                        " 4   transaction_index         520716 non-null  int64         \n",
                        " 5   from_address              520716 non-null  string        \n",
                        " 6   to_address                518546 non-null  string        \n",
                        " 7   value                     520716 non-null  float64       \n",
                        " 8   gas                       520716 non-null  int64         \n",
                        " 9   gas_price                 520716 non-null  int64         \n",
                        " 10  input                     520716 non-null  object        \n",
                        " 11  block_timestamp           520716 non-null  int64         \n",
                        " 12  max_fee_per_gas           0 non-null       float64       \n",
                        " 13  max_priority_fee_per_gas  0 non-null       float64       \n",
                        " 14  transaction_type          520716 non-null  int64         \n",
                        " 15  block_datetime            520716 non-null  datetime64[ns]\n",
                        "dtypes: datetime64[ns](1), float64(3), int64(7), object(1), string(4)\n",
                        "memory usage: 63.6+ MB\n"
                    ]
                }
            ],
            "source": [
                "# Use pandas to read in transation data and clean up the columns\n",
                "import pandas as pd\n",
                "df = pd.read_csv('output_1100000/transactions/start_block=01100000/end_block=01199999/transactions_01100000_01199999.csv')\n",
                "df['value'] = df['value'].astype('float')\n",
                "df['from_address'] = df['from_address'].astype('string')\n",
                "df['to_address'] = df['to_address'].astype('string')\n",
                "df['hash'] = df['hash'].astype('string')\n",
                "df['block_hash'] = df['block_hash'].astype('string')\n",
                "df['block_datetime'] = pd.to_datetime(df['block_timestamp'], unit='s')\n",
                "df.info()"
            ]
        },
        {
            "cell_type": "markdown",
            "metadata": {},
            "source": [
                "The following code inspects the daily trading volume of Ethereum for a single chunk (100,000 blocks) of data.\n",
                "\n",
                "This is all good, but we can do better. We can use the Bacalhau client to download the data from IPFS and then run the analysis on the data in the cloud. This means that we can analyse the entire Ethereum blockchain without having to download it locally."
            ]
        },
        {
            "cell_type": "code",
            "execution_count": 70,
            "metadata": {
                "tags": [
                    "skip-execution"
                ]
            },
            "outputs": [
                {
                    "data": {
                        "text/plain": [
                            "<AxesSubplot:xlabel='block_datetime'>"
                        ]
                    },
                    "execution_count": 70,
                    "metadata": {},
                    "output_type": "execute_result"
                },
                {
                    "data": {
                        "image/png": "[encoded data removed]",
                        "text/plain": [
                            "<Figure size 432x288 with 1 Axes>"
                        ]
                    },
                    "metadata": {
                        "needs_background": "light"
                    },
                    "output_type": "display_data"
                }
            ],
            "source": [
                "# Total volume per day\n",
                "df[['block_datetime', 'value']].groupby(pd.Grouper(key='block_datetime', freq='1D')).sum().plot()\n"
            ]
        },
        {
            "cell_type": "markdown",
            "metadata": {
                "id": "QYWVyCrLzZHu"
            },
            "source": [
                "\n",
                "\n",
                "\n",
                "## 2. Analysing Ethereum Data With Bacalhau\n",
                "\n",
                "To run jobs on the Bacalhau network you need to package your code. In this example I will package the code as a Docker image.\n",
                "\n",
                "But before we do that, we need to develop the code that will perform the analysis. The code below is a simple script to parse the incoming data and produce a CSV file with the daily trading volume of Ethereum."
            ]
        },
        {
            "cell_type": "code",
            "execution_count": 155,
            "metadata": {
                "tags": [
                    "skip-execution"
                ]
            },
            "outputs": [
                {
                    "name": "stdout",
                    "output_type": "stream",
                    "text": [
                        "Overwriting main.py\n"
                    ]
                }
            ],
            "source": [
                "%%writefile main.py\n",
                "import glob, os, sys, shutil, tempfile\n",
                "import pandas as pd\n",
                "\n",
                "def main(input_dir, output_dir):\n",
                "    search_path = os.path.join(input_dir, \"output*\", \"transactions\", \"start_block*\", \"end_block*\", \"transactions_*.csv\")\n",
                "    csv_files = glob.glob(search_path)\n",
                "    if len(csv_files) == 0:\n",
                "        print(\"No CSV files found in %s\" % search_path)\n",
                "        sys.exit(1)\n",
                "    for transactions_file in csv_files:\n",
                "        print(\"Loading %s\" % transactions_file)\n",
                "        df = pd.read_csv(transactions_file)\n",
                "        df['value'] = df['value'].astype('float')\n",
                "        df['block_datetime'] = pd.to_datetime(df['block_timestamp'], unit='s')\n",
                "        \n",
                "        print(\"Processing %d blocks\" % (df.shape[0]))\n",
                "        results = df[['block_datetime', 'value']].groupby(pd.Grouper(key='block_datetime', freq='1D')).sum()\n",
                "        print(\"Finished processing %d days worth of records\" % (results.shape[0]))\n",
                "\n",
                "        save_path = os.path.join(output_dir, os.path.basename(transactions_file))\n",
                "        os.makedirs(os.path.dirname(save_path), exist_ok=True)\n",
                "        print(\"Saving to %s\" % (save_path))\n",
                "        results.to_csv(save_path)\n",
                "\n",
                "def extractData(input_dir, output_dir):\n",
                "    search_path = os.path.join(input_dir, \"*.tar.gz\")\n",
                "    gz_files = glob.glob(search_path)\n",
                "    if len(gz_files) == 0:\n",
                "        print(\"No tar.z files found in %s\" % search_path)\n",
                "        sys.exit(1)\n",
                "    for f in gz_files:\n",
                "        shutil.unpack_archive(filename=f, extract_dir=output_dir)\n",
                "\n",
                "if __name__ == \"__main__\":\n",
                "    if len(sys.argv) != 3:\n",
                "        print('Must pass arguments. Format: [command] input_dir output_dir')\n",
                "        sys.exit()\n",
                "    with tempfile.TemporaryDirectory() as tmp_dir:\n",
                "        extractData(sys.argv[1], tmp_dir)\n",
                "        main(tmp_dir, sys.argv[2])"
            ]
        },
        {
            "cell_type": "markdown",
            "metadata": {},
            "source": [
                "Next, let's make sure the file works as expected..."
            ]
        },
        {
            "cell_type": "code",
            "execution_count": 156,
            "metadata": {
                "tags": [
                    "skip-execution"
                ]
            },
            "outputs": [
                {
                    "name": "stdout",
                    "output_type": "stream",
                    "text": [
                        "Loading /var/folders/kr/pl4p96k11b55hp5_p9l_t8kr0000gn/T/tmpv1gvkg2v/output_1100000/transactions/start_block=01100000/end_block=01199999/transactions_01100000_01199999.csv\n",
                        "Processing 520716 blocks\n",
                        "Finished processing 20 days worth of records\n",
                        "Saving to outputs/transactions_01100000_01199999.csv\n"
                    ]
                }
            ],
            "source": [
                "%%bash\n",
                "python main.py . outputs/"
            ]
        },
        {
            "cell_type": "markdown",
            "metadata": {},
            "source": [
                "And finally, package the code inside a Docker image to make the process reproducible. Here I'm passing the Bacalhau default `/inputs` and `/outputs` directories. The `/inputs` directory is where the data will be read from and the `/outputs` directory is where the results will be saved to."
            ]
        },
        {
            "cell_type": "code",
            "execution_count": 157,
            "metadata": {
                "tags": [
                    "skip-execution"
                ]
            },
            "outputs": [
                {
                    "name": "stdout",
                    "output_type": "stream",
                    "text": [
                        "Overwriting Dockerfile\n"
                    ]
                }
            ],
            "source": [
                "%%writefile Dockerfile\n",
                "FROM python:3.11-slim-bullseye\n",
                "WORKDIR /src\n",
                "RUN pip install pandas==1.5.1\n",
                "ADD main.py .\n",
                "CMD [\"python\", \"main.py\", \"/inputs\", \"/outputs\"]"
            ]
        },
        {
            "cell_type": "markdown",
            "metadata": {},
            "source": [
                "We've already pushed the container, but for posterity, the following command pushes this container to GHCR.\n",
                "\n",
                "```bash\n",
                "docker buildx build --platform linux/amd64 --push -t ghcr.io/bacalhau-project/examples/blockchain-etl:0.0.1 .\n",
                "```"
            ]
        },
        {
            "cell_type": "markdown",
            "metadata": {
                "id": "wjvk7WHzzhBH"
            },
            "source": [
                "\n",
                "### Analysing Ethereum Data On Bacalhau\n",
                "\n",
                "[Bacalhau](https://www.bacalhau.org/) is a distributed computing platform that allows you to run jobs on a network of computers. It is designed to be easy to use and to run on a variety of hardware. In this example, we will use it to run our analysis on the Ethereum blockchain.\n",
                "\n",
                "To submit a job, you can use the Bacalhau CLI. The following command will run the container above on the IPFS data -- the long hash -- shown at the start of this notebook. Let's confirm that the results are as expected.\n"
            ]
        },
        {
            "cell_type": "code",
            "execution_count": 158,
            "metadata": {
                "tags": [
                    "skip-execution"
                ]
            },
            "outputs": [],
            "source": [
                "%%bash --out job_id\n",
                "bacalhau docker run \\\n",
                "    --id-only \\\n",
                "    --input-volumes bafybeihvmcrs5voz2pzpdkb3b7kt4bbb6kpi5ohspgrrs7bqkalpwmfdpq:/inputs/data.tar.gz \\\n",
                "    ghcr.io/bacalhau-project/examples/blockchain-etl:0.0.6"
            ]
        },
        {
            "cell_type": "code",
            "execution_count": 159,
            "metadata": {
                "tags": [
                    "skip-execution",
                    "remove_cell"
                ]
            },
            "outputs": [
                {
                    "name": "stdout",
                    "output_type": "stream",
                    "text": [
                        "env: JOB_ID=15673ac4-848f-4c7f-81a0-7e018fe9ba78\n"
                    ]
                }
            ],
            "source": [
                "%env JOB_ID={job_id}"
            ]
        },
        {
            "cell_type": "markdown",
            "metadata": {},
            "source": [
                "\n",
                "Running the commands will output a UUID that represents the job that was created. You can check the status of the job with the following command:\n"
            ]
        },
        {
            "cell_type": "code",
            "execution_count": 160,
            "metadata": {
                "tags": [
                    "skip-execution"
                ]
            },
            "outputs": [
                {
                    "name": "stdout",
                    "output_type": "stream",
                    "text": [
                        "\u001b[92;100m CREATED  \u001b[0m\u001b[92;100m ID       \u001b[0m\u001b[92;100m JOB                     \u001b[0m\u001b[92;100m STATE     \u001b[0m\u001b[92;100m VERIFIED \u001b[0m\u001b[92;100m PUBLISHED               \u001b[0m\n",
                        "\u001b[97;40m 11:48:46 \u001b[0m\u001b[97;40m 15673ac4 \u001b[0m\u001b[97;40m Docker ghcr.io/bacal... \u001b[0m\u001b[97;40m Completed \u001b[0m\u001b[97;40m          \u001b[0m\u001b[97;40m /ipfs/QmP5z2CPPybiVf... \u001b[0m\n"
                    ]
                }
            ],
            "source": [
                "%%bash\n",
                "bacalhau list --id-filter ${JOB_ID}"
            ]
        },
        {
            "cell_type": "markdown",
            "metadata": {},
            "source": [
                "\n",
                "Wait until it says `Completed` and then get the results.\n",
                "\n",
                "To find out more information about your job, run the following command:"
            ]
        },
        {
            "cell_type": "code",
            "execution_count": 161,
            "metadata": {
                "tags": [
                    "skip-execution"
                ]
            },
            "outputs": [
                {
                    "name": "stdout",
                    "output_type": "stream",
                    "text": [
                        "APIVersion: V1beta1\n",
                        "ClientID: 77cf46c04f88ffb1c3e0e4b6e443724e8d2d87074d088ef1a6294a448fa85d2e\n",
                        "CreatedAt: \"2022-11-18T11:48:46.303661585Z\"\n",
                        "Deal:\n",
                        "  Concurrency: 1\n",
                        "ExecutionPlan:\n",
                        "  ShardsTotal: 1\n",
                        "ID: 15673ac4-848f-4c7f-81a0-7e018fe9ba78\n",
                        "JobState:\n",
                        "  Nodes:\n",
                        "    QmVAb7r2pKWCuyLpYWoZr9syhhFnTWeFaByHdb8PkkhLQG:\n",
                        "      Shards:\n",
                        "        \"0\":\n",
                        "          NodeId: QmVAb7r2pKWCuyLpYWoZr9syhhFnTWeFaByHdb8PkkhLQG\n",
                        "          PublishedResults:\n",
                        "            CID: QmP5z2CPPybiVfGxyfEBjVqGF4S8VRFx59ucKShLDsBLWk\n",
                        "            Name: job-15673ac4-848f-4c7f-81a0-7e018fe9ba78-shard-0-host-QmVAb7r2pKWCuyLpYWoZr9syhhFnTWeFaByHdb8PkkhLQG\n",
                        "            StorageSource: IPFS\n",
                        "          RunOutput:\n",
                        "            exitCode: 0\n",
                        "            runnerError: \"\"\n",
                        "            stderr: \"\"\n",
                        "            stderrtruncated: false\n",
                        "            stdout: |\n",
                        "              Loading /tmp/tmpyw253u9x/output_1100000/transactions/start_block=01100000/end_block=01199999/transactions_01100000_01199999.csv\n",
                        "              Processing 520716 blocks\n",
                        "              Finished processing 20 days worth of records\n",
                        "              Saving to /outputs/transactions_01100000_01199999.csv\n",
                        "            stdouttruncated: false\n",
                        "          State: Completed\n",
                        "          Status: 'Got results proposal of length: 0'\n",
                        "          VerificationResult:\n",
                        "            Complete: true\n",
                        "            Result: true\n",
                        "    QmXaXu9N5GNetatsvwnTfQqNtSeKAD6uCmarbh3LMRYAcF:\n",
                        "      Shards:\n",
                        "        \"0\":\n",
                        "          NodeId: QmXaXu9N5GNetatsvwnTfQqNtSeKAD6uCmarbh3LMRYAcF\n",
                        "          PublishedResults: {}\n",
                        "          State: Cancelled\n",
                        "          VerificationResult: {}\n",
                        "    QmdZQ7ZbhnvWY1J12XYKGHApJ6aufKyLNSvf8jZBrBaAVL:\n",
                        "      Shards:\n",
                        "        \"0\":\n",
                        "          NodeId: QmdZQ7ZbhnvWY1J12XYKGHApJ6aufKyLNSvf8jZBrBaAVL\n",
                        "          PublishedResults: {}\n",
                        "          State: Cancelled\n",
                        "          VerificationResult: {}\n",
                        "RequesterNodeID: QmXaXu9N5GNetatsvwnTfQqNtSeKAD6uCmarbh3LMRYAcF\n",
                        "RequesterPublicKey: CAASpgIwggEiMA0GCSqGSIb3DQEBAQUAA4IBDwAwggEKAoIBAQCehDIWl72XKJi1tsrYM9JjAWt3n6hNzrCA+IVRXixK1sJVTLMpsxEP8UKJI+koAWkAUuY8yi6DMzot0owK4VpM3PYp34HdKi2hTjzM8pjCVb70XVXt6k9bzj4KmbiQTuEkQfvwIRmgxb2jrkRdTpZmhMb1Q7StR/nrGa/bx75Vpupx1EYH6+LixYnnV5WbCUK/kjpBW8SF5v+f9ZO61KHd9DMpdhJnzocTGq17tAjHh3birke0xlP98JjxlMkzzvIAuFsnH0zBIgjmHDA1Yi5DcOPWgE0jUfGlSDC1t2xITVoofHQcXDjkHZE6OhxswNYPd7cnTf9OppLddFdQnga5AgMBAAE=\n",
                        "Spec:\n",
                        "  Docker:\n",
                        "    Image: ghcr.io/bacalhau-project/examples/blockchain-etl:0.0.6\n",
                        "  Engine: Docker\n",
                        "  Language:\n",
                        "    JobContext: {}\n",
                        "  Publisher: Estuary\n",
                        "  Resources:\n",
                        "    GPU: \"\"\n",
                        "  Sharding:\n",
                        "    BatchSize: 1\n",
                        "    GlobPatternBasePath: /inputs\n",
                        "  Timeout: 1800\n",
                        "  Verifier: Noop\n",
                        "  Wasm: {}\n",
                        "  inputs:\n",
                        "  - CID: bafybeihvmcrs5voz2pzpdkb3b7kt4bbb6kpi5ohspgrrs7bqkalpwmfdpq\n",
                        "    StorageSource: IPFS\n",
                        "    path: /inputs/data.tar.gz\n",
                        "  outputs:\n",
                        "  - Name: outputs\n",
                        "    StorageSource: IPFS\n",
                        "    path: /outputs\n"
                    ]
                }
            ],
            "source": [
                "%%bash\n",
                "bacalhau describe ${JOB_ID}"
            ]
        },
        {
            "cell_type": "markdown",
            "metadata": {},
            "source": [
                "And let's inspect the results."
            ]
        },
        {
            "cell_type": "code",
            "execution_count": 162,
            "id": "ebdfe481-b430-426f-8fb3-fe0bfce513e8",
            "metadata": {
                "tags": [
                    "skip-execution"
                ]
            },
            "outputs": [
                {
                    "name": "stdout",
                    "output_type": "stream",
                    "text": [
                        "Fetching results of job '15673ac4-848f-4c7f-81a0-7e018fe9ba78'...\n",
                        "Results for job '15673ac4-848f-4c7f-81a0-7e018fe9ba78' have been written to...\n",
                        "./results\n"
                    ]
                }
            ],
            "source": [
                "%%bash\n",
                "mkdir -p ./results # Temporary directory to store the results\n",
                "bacalhau get --output-dir ./results ${JOB_ID} # Download the results"
            ]
        },
        {
            "cell_type": "markdown",
            "id": "92e80386-a0d7-4320-b0b1-4c2622b66db6",
            "metadata": {
                "tags": [
                    "skip-execution"
                ]
            },
            "source": [
                "The docker run command above used the `outputs` volume as a results folder so when we download them they will be stored in a  folder within `volumes/outputs`."
            ]
        },
        {
            "cell_type": "code",
            "execution_count": 166,
            "id": "bf6819af-def3-47f7-ae99-e6d191b1e832",
            "metadata": {
                "tags": [
                    "skip-execution"
                ]
            },
            "outputs": [
                {
                    "name": "stdout",
                    "output_type": "stream",
                    "text": [
                        "total 4.0K\n",
                        "drwxr-xr-x 3 phil staff  96 Nov 18 11:49 .\n",
                        "drwxr-xr-x 5 phil staff 160 Nov 18 11:49 ..\n",
                        "-rw-r--r-- 3 phil staff 692 Nov 18 11:49 transactions_01100000_01199999.csv\n"
                    ]
                }
            ],
            "source": [
                "%%bash\n",
                "ls -lah results/combined_results/outputs"
            ]
        },
        {
            "cell_type": "code",
            "execution_count": 169,
            "metadata": {},
            "outputs": [
                {
                    "data": {
                        "text/plain": [
                            "<AxesSubplot:xlabel='block_datetime'>"
                        ]
                    },
                    "execution_count": 169,
                    "metadata": {},
                    "output_type": "execute_result"
                },
                {
                    "data": {
                        "image/png": "[encoded data removed]",
                        "text/plain": [
                            "<Figure size 432x288 with 1 Axes>"
                        ]
                    },
                    "metadata": {
                        "needs_background": "light"
                    },
                    "output_type": "display_data"
                }
            ],
            "source": [
                "import pandas as pd\n",
                "\n",
                "df = pd.read_csv('results/combined_results/outputs/transactions_01100000_01199999.csv', index_col='block_datetime')\n",
                "df.plot()"
            ]
        },
        {
            "cell_type": "markdown",
            "metadata": {},
            "source": [
                "### Massive Scale Ethereum Analysis\n",
                "\n",
                "Ok so that works. Let's scale this up! We can run the same analysis on the entire Ethereum blockchain (up to the point where I have uploaded the Ethereum data). To do this, we need to run the analysis on each of the chunks of data that we have stored on IPFS. We can do this by running the same job on each of the chunks."
            ]
        },
        {
            "cell_type": "code",
            "execution_count": 181,
            "metadata": {
                "tags": [
                    "skip-execution"
                ]
            },
            "outputs": [],
            "source": [
                "%%bash\n",
                "printf \"\" > job_ids.txt\n",
                "for h in $(cat hashes.txt); do \\\n",
                "    bacalhau docker run \\\n",
                "    --id-only \\\n",
                "    --wait=false \\\n",
                "    --input-volumes=$h:/inputs/data.tar.gz \\\n",
                "    ghcr.io/bacalhau-project/examples/blockchain-etl:0.0.6 >> job_ids.txt \n",
                "done"
            ]
        },
        {
            "cell_type": "code",
            "execution_count": 182,
            "metadata": {
                "tags": [
                    "skip-execution"
                ]
            },
            "outputs": [
                {
                    "name": "stdout",
                    "output_type": "stream",
                    "text": [
                        "da73f5b0-89c5-4f6f-a6e9-ff4ae186e8a4\n",
                        "250285e8-0dec-4d89-b627-ea950420c504\n",
                        "4d7f30ef-e409-43ce-9bba-1a4a6a4d337a\n",
                        "e36516f3-5252-4a63-871b-b624366c7e22\n",
                        "f6e12bac-0bf4-48c3-828d-2c2f62d0f97f\n",
                        "c004d954-32eb-4a90-a5e3-c266678a5607\n",
                        "46459ab2-5430-40c8-bf3c-4b2a799a500c\n",
                        "ccd6fae5-70fb-46ef-a256-d7a484335d79\n",
                        "d63c4e08-fa76-44b8-b94e-681a5b342fe6\n",
                        "19462995-324a-4872-9800-6c0a95fdf0e7\n",
                        "8fa72856-c1da-455b-b56d-d60c6b10b655\n",
                        "3aa1f9bd-ce60-43d5-9b49-ec2f5beb4c6c\n"
                    ]
                }
            ],
            "source": [
                "%%bash\n",
                "cat job_ids.txt"
            ]
        },
        {
            "cell_type": "code",
            "execution_count": 187,
            "metadata": {
                "tags": [
                    "skip-execution"
                ]
            },
            "outputs": [
                {
                    "name": "stdout",
                    "output_type": "stream",
                    "text": [
                        "Fetching results of job 'da73f5b0-89c5-4f6f-a6e9-ff4ae186e8a4'...\n",
                        "Results for job 'da73f5b0-89c5-4f6f-a6e9-ff4ae186e8a4' have been written to...\n",
                        "./results\n",
                        "Fetching results of job '250285e8-0dec-4d89-b627-ea950420c504'...\n",
                        "Results for job '250285e8-0dec-4d89-b627-ea950420c504' have been written to...\n",
                        "./results\n",
                        "Fetching results of job '4d7f30ef-e409-43ce-9bba-1a4a6a4d337a'...\n",
                        "Results for job '4d7f30ef-e409-43ce-9bba-1a4a6a4d337a' have been written to...\n",
                        "./results\n",
                        "Fetching results of job 'e36516f3-5252-4a63-871b-b624366c7e22'...\n",
                        "Results for job 'e36516f3-5252-4a63-871b-b624366c7e22' have been written to...\n",
                        "./results\n",
                        "Fetching results of job 'f6e12bac-0bf4-48c3-828d-2c2f62d0f97f'...\n",
                        "Results for job 'f6e12bac-0bf4-48c3-828d-2c2f62d0f97f' have been written to...\n",
                        "./results\n",
                        "Fetching results of job 'c004d954-32eb-4a90-a5e3-c266678a5607'...\n",
                        "Results for job 'c004d954-32eb-4a90-a5e3-c266678a5607' have been written to...\n",
                        "./results\n",
                        "Fetching results of job '46459ab2-5430-40c8-bf3c-4b2a799a500c'...\n",
                        "Results for job '46459ab2-5430-40c8-bf3c-4b2a799a500c' have been written to...\n",
                        "./results\n",
                        "Fetching results of job 'ccd6fae5-70fb-46ef-a256-d7a484335d79'...\n",
                        "Results for job 'ccd6fae5-70fb-46ef-a256-d7a484335d79' have been written to...\n",
                        "./results\n",
                        "Fetching results of job 'd63c4e08-fa76-44b8-b94e-681a5b342fe6'...\n",
                        "Results for job 'd63c4e08-fa76-44b8-b94e-681a5b342fe6' have been written to...\n",
                        "./results\n",
                        "Fetching results of job '19462995-324a-4872-9800-6c0a95fdf0e7'...\n",
                        "Results for job '19462995-324a-4872-9800-6c0a95fdf0e7' have been written to...\n",
                        "./results\n",
                        "Fetching results of job '8fa72856-c1da-455b-b56d-d60c6b10b655'...\n",
                        "Results for job '8fa72856-c1da-455b-b56d-d60c6b10b655' have been written to...\n",
                        "./results\n",
                        "Fetching results of job '3aa1f9bd-ce60-43d5-9b49-ec2f5beb4c6c'...\n",
                        "Results for job '3aa1f9bd-ce60-43d5-9b49-ec2f5beb4c6c' have been written to...\n",
                        "./results\n"
                    ]
                },
                {
                    "name": "stderr",
                    "output_type": "stream",
                    "text": [
                        "2022/11/18 12:13:42 CleanupManager.fnsMutex violation CRITICAL section took 21.65ms 21650000 (threshold 10ms)\n",
                        "2022/11/18 12:13:46 CleanupManager.fnsMutex violation CRITICAL section took 10.564ms 10564000 (threshold 10ms)\n",
                        "2022/11/18 12:14:03 CleanupManager.fnsMutex violation CRITICAL section took 20.862ms 20862000 (threshold 10ms)\n",
                        "2022/11/18 12:14:07 CleanupManager.fnsMutex violation CRITICAL section took 18.909ms 18909000 (threshold 10ms)\n",
                        "2022/11/18 12:14:19 CleanupManager.fnsMutex violation CRITICAL section took 19.754ms 19754000 (threshold 10ms)\n",
                        "2022/11/18 12:15:26 CleanupManager.fnsMutex violation CRITICAL section took 21.134ms 21134000 (threshold 10ms)\n"
                    ]
                }
            ],
            "source": [
                "%%bash\n",
                "rm -rf ./combined_results && mkdir -p ./combined_results\n",
                "for id in $(cat job_ids.txt); do \\\n",
                "    rm -rf results && mkdir results\n",
                "    bacalhau get --output-dir ./results $id\n",
                "    cp results/combined_results/outputs/* ./combined_results\n",
                "done"
            ]
        },
        {
            "cell_type": "code",
            "execution_count": 212,
            "metadata": {
                "tags": [
                    "skip-execution"
                ]
            },
            "outputs": [
                {
                    "data": {
                        "text/plain": [
                            "<AxesSubplot:xlabel='block_datetime'>"
                        ]
                    },
                    "execution_count": 212,
                    "metadata": {},
                    "output_type": "execute_result"
                },
                {
                    "data": {
                        "image/png": "[encoded data removed]",
                        "text/plain": [
                            "<Figure size 432x288 with 1 Axes>"
                        ]
                    },
                    "metadata": {
                        "needs_background": "light"
                    },
                    "output_type": "display_data"
                }
            ],
            "source": [
                "import os, glob\n",
                "import pandas as pd\n",
                "\n",
                "# Get CSV files list from a folder\n",
                "path = os.path.join(\"combined_results\", \"*.csv\")\n",
                "csv_files = glob.glob(path)\n",
                "\n",
                "# Read each CSV file into a list of DataFrames\n",
                "df_list = (pd.read_csv(file, index_col='block_datetime') for file in csv_files)\n",
                "\n",
                "# Concatenate all DataFrames\n",
                "df_unsorted = pd.concat(df_list, ignore_index=False)\n",
                "\n",
                "# Some files will cross days, so group by day and sum the values\n",
                "df = df_unsorted.groupby(level=0).sum()\n",
                "\n",
                "# Plot\n",
                "df.plot()"
            ]
        },
        {
            "cell_type": "markdown",
            "metadata": {},
            "source": [
                "That's it! There is several years of Ethereum transaction volume data."
            ]
        },
        {
            "cell_type": "markdown",
            "metadata": {},
            "source": [
                "## Appendix 1: List Ethereum Data CIDs \n",
                "\n",
                "The following list is a list of IPFS CID's for the Ethereum data that we used in this tutorial. You can use these CID's to download the rest of the chain if you so desire. The CIDs are ordered by block number and they increase 100,000 blocks at a time. Here's a list of ordered CIDs:"
            ]
        },
        {
            "cell_type": "code",
            "execution_count": 213,
            "metadata": {
                "tags": [
                    "skip-execution"
                ]
            },
            "outputs": [
                {
                    "name": "stdout",
                    "output_type": "stream",
                    "text": [
                        "bafybeihzxaqjpvlb7rzu4ttipma7sths42eolrv7fq6bsdrbb7hckb3oo4\n",
                        "bafybeihsz6omseh27ayglbcebshk6crgbnj2jalt524ihgfqkshcwgmdhq\n",
                        "bafybeicxuum3qerxe5v22fcmyryfmumbxskqdkst56zpaofjsgjff5qrom\n",
                        "bafybeiggm7nhwf5roouchk7lir6vcxoe2luojdlcyukqlqj5q7mibd2i5e\n",
                        "bafybeiflcauohsv4uz3m7e2z5ybcoxn7gvj2rko5pl25xulw22g4qnygpe\n",
                        "bafybeidefyiltnd3gpuhy3sicygnsafnocnzxlcoexxsxeobearat2wzym\n",
                        "bafybeigcyteztp5pdjr3imx55rl2tdg3maigt4w6fpse6dctf2fodusxdm\n",
                        "bafybeiffn7wlhjwajkhhk7cvuxbwuwaodd4h3qfzhhyp33jh3kp6u3usui\n",
                        "bafybeievtkkhkrj2eydcjklp532hvleww4i4gvfblvwvinwnu3646sprqu\n",
                        "bafybeieia52c7t6t35zt2lkcshiwtehsyxojs3hhpvcu367y5em6d7tpna\n",
                        "bafybeicsfa5x4ns46kmvqgauwwskjl6bl3nrkxgo5i33ijj4mjlfh2vvfy\n",
                        "bafybeihvmcrs5voz2pzpdkb3b7kt4bbb6kpi5ohspgrrs7bqkalpwmfdpq"
                    ]
                }
            ],
            "source": [
                "%%bash\n",
                "cat hashes.txt"
            ]
        },
        {
            "cell_type": "markdown",
            "metadata": {},
            "source": [
                "## Appendix 2: Setting up an Ethereum Node\n",
                "\n",
                "In the course of writing this example I had to setup an Ethereum node. It was a slow and painful process so I thought I would share the steps I took to make it easier for others."
            ]
        },
        {
            "cell_type": "markdown",
            "metadata": {},
            "source": [
                "### Geth setup and sync\n",
                "\n",
                "Geth supports Ubuntu by default, so use that when creating a VM. Use Ubuntu 22.04 LTS.\n",
                "\n",
                "```bash\n",
                "gcloud compute instances create phil-ethereum-node \\\n",
                "    --project=bacalhau-development --zone=europe-west2-c \\\n",
                "    --machine-type=c2-standard-4 --tags=geth \\\n",
                "    --create-disk=auto-delete=yes,boot=yes,device-name=phil-ethereum-node,image=projects/ubuntu-os-cloud/global/images/ubuntu-2204-jammy-v20221101a,mode=rw,size=50,type=projects/bacalhau-development/zones/europe-west2-c/diskTypes/pd-balanced \\\n",
                "    --create-disk=auto-delete=yes,device-name=phil-ethereum-disk,mode=rw,name=phil-ethereum-disk,size=3000,type=projects/bacalhau-development/zones/europe-west2-c/diskTypes/pd-standard\n",
                "```\n",
                "\n",
                "Mount the disk:\n",
                "\n",
                "```bash\n",
                "sudo mkfs.ext4 -m 0 -E lazy_itable_init=0,lazy_journal_init=0,discard /dev/sdb\n",
                "sudo mkdir -p /mnt/disks/ethereum\n",
                "sudo mount -o discard,defaults /dev/sdb /mnt/disks/ethereum\n",
                "sudo chmod a+w /mnt/disks/ethereum\n",
                "```\n",
                "\n",
                "```bash\n",
                "sudo add-apt-repository -y ppa:ethereum/ethereum\n",
                "sudo apt-get update\n",
                "sudo apt-get install -y ethereum\n",
                "sudo mkdir /prysm && cd /prysm\n",
                "sudo curl https://raw.githubusercontent.com/prysmaticlabs/prysm/master/prysm.sh --output prysm.sh && sudo chmod +x prysm.sh\n",
                "```\n",
                "\n",
                "Run as a new user:\n",
                "\n",
                "```bash\n",
                "sudo useradd -d /home/ethuser -m --uid 10000 ethuser\n",
                "sudo chown -R ethuser /prysm\n",
                "```\n",
                "\n",
                "```\n",
                "sudo tee \"/etc/systemd/system/geth.service\" > /dev/null <<'EOF'\n",
                "[Unit]\n",
                "Description=Geth\n",
                "\n",
                "[Service]\n",
                "Type=simple\n",
                "User=ethuser\n",
                "Restart=always\n",
                "RestartSec=12\n",
                "ExecStart=/bin/geth --syncmode \"full\" --datadir /mnt/disks/ethereum\n",
                "\n",
                "[Install]\n",
                "WantedBy=default.target\n",
                "EOF\n",
                "\n",
                "sudo tee \"/etc/systemd/system/prysm.service\" > /dev/null <<'EOF'\n",
                "[Unit]\n",
                "Description=Prysm\n",
                "\n",
                "[Service]\n",
                "Type=simple\n",
                "User=ethuser\n",
                "Restart=always\n",
                "RestartSec=12\n",
                "ExecStart=/prysm/prysm.sh beacon-chain --execution-endpoint=/mnt/disks/ethereum/geth.ipc --suggested-fee-recipient=0x7f68cb1cdE000AF82291A0D0c21E0f88FD7dB440 --checkpoint-sync-url=https://beaconstate.info\n",
                "--genesis-beacon-api-url=https://beaconstate.info --accept-terms-of-use --datadir /mnt/disks/ethereum/prysm\n",
                "\n",
                "[Install]\n",
                "WantedBy=default.target\n",
                "EOF\n",
                "\n",
                "sudo systemctl daemon-reload\n",
                "sudo systemctl enable prysm.service\n",
                "sudo systemctl enable geth.service\n",
                "sudo systemctl daemon-reload\n",
                "sudo service prysm start \n",
                "sudo service geth start \n",
                "```\n",
                "\n",
                "Check they are running:\n",
                "\n",
                "```bash\n",
                "service prysm status\n",
                "service geth status\n",
                "```\n",
                "\n",
                "Watch the logs:\n",
                "\n",
                "```bash\n",
                "journalctl -u prysm -f\n",
                "```\n",
                "\n",
                "Prysm will need to finish synchronising before geth will start syncronising.\n",
                "\n",
                "In Prysm you will see lots of log messages saying: `Synced new block`, and in Geth you will see: `Syncing beacon headers    downloaded=11,920,384 left=4,054,753  eta=2m25.903s`. This tells you how long it will take to sync the beacons. Once that's done, get will start synchronising the blocks.\n",
                "\n",
                "Bring up the ethereum javascript console with:\n",
                "\n",
                "```\n",
                "sudo geth --datadir /mnt/disks/ethereum/ attach\n",
                "```\n",
                "\n",
                "Once the block sync has started, `eth.syncing` will return values. Before it starts, this value will be `false`.\n",
                "\n",
                "Note that by default, geth will perform a fast sync, without downloading the full blocks. The `syncmode=flull` flag forces geth to do a full sync. If we didn't do this, then we wouldn't be able to backup the data properly.\n",
                "\n",
                "### Extracting the Data\n",
                "\n",
                "```bash\n",
                "# Install pip and ethereum-etl\n",
                "sudo apt-get install -y python3-pip\n",
                "sudo pip3 install ethereum-etl\n",
                "cd\n",
                "mkdir ethereum-etl\n",
                "cd ethereum-etl\n",
                "\n",
                "# Export data with one 100000-item batch in a directory, up to 2499999 for now\n",
                "# The full chain is about 15m blocks\n",
                "for i in $(seq 0 100000 2499999); do sudo ethereumetl export_all --partition-batch-size 100000 --start $i --end $(expr $i + 100000 - 1)  --provider-uri file:///mnt/disks/ethereum/geth.ipc -o output_$i; done\n",
                "```\n",
                "\n",
                "### Upload the data\n",
                "\n",
                "Tar and compress the directories to make them easier to upload:\n",
                "\n",
                "```bash\n",
                "sudo apt-get install -y jq # Install jq to parse the cid\n",
                "cd\n",
                "cd ethereum-etl\n",
                "for i in $(seq 0 100000 2499999); do tar cfz output_$i.tar.gz output_$i; done\n",
                "```\n",
                "\n",
                "Export your Web3.storage JWT API key as an environment variable called `TOKEN`:\n",
                "\n",
                "```bash\n",
                "printf \"\" > hashes.txt\n",
                "for i in $(seq 0 100000 2499999); do curl -X POST https://api.web3.storage/upload -H \"Authorization: Bearer ${TOKEN}\" -H 'accept: application/json' -H 'Content-Type: text/plain' -H \"X-NAME: ethereum-etl-block-$i\" --data-binary \"@output_$i.tar.gz\" | jq --raw-output '.cid' >> hashes.txt; done\n",
                "```\n"
            ]
        }
    ],
    "metadata": {
        "celltoolbar": "Tags",
        "colab": {
            "provenance": []
        },
        "kernelspec": {
            "display_name": "Python 3.9.7 64-bit ('3.9.7')",
            "language": "python",
            "name": "python3"
        },
        "language_info": {
            "codemirror_mode": {
                "name": "ipython",
                "version": 3
            },
            "file_extension": ".py",
            "mimetype": "text/x-python",
            "name": "python",
            "nbconvert_exporter": "python",
            "pygments_lexer": "ipython3",
            "version": "3.9.7"
        },
        "vscode": {
            "interpreter": {
                "hash": "21fd917facdca5c02b7d24e32528f1b4e6711465b0262edbfffba943391e1222"
            }
        }
    },
    "nbformat": 4,
    "nbformat_minor": 1
}