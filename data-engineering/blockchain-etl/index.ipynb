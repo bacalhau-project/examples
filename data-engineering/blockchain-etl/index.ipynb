{
  "cells": [
    {
      "cell_type": "raw",
      "metadata": {},
      "source": [
        "---\n",
        "sidebar_label: Ethereum Blockchain Analysis\n",
        "sidebar_position: 3\n",
        "---"
      ]
    },
    {
      "cell_type": "markdown",
      "metadata": {
        "id": "mkXV6QLvygma"
      },
      "source": [
        "# Ethereum Blockchain Analysis with Ethereum-ETL and Bacalhau\n",
        "\n",
        "[![Open In Colab](https://colab.research.google.com/assets/colab-badge.svg)](https://colab.research.google.com/github/bacalhau-project/examples/blob/main/data-engineering/blockchain-etl/index.ipynb)\n",
        "[![Open In Binder](https://mybinder.org/badge.svg)](https://mybinder.org/v2/gh/bacalhau-project/examples/HEAD?labpath=data-engineering/blockchain-etl/index.ipynb)\n",
        "\n",
        "# Introduction\n",
        "\n",
        "Mature blockchains are difficult to analyze because of their size. Ethereum-ETL is a tool that makes it easy to extract information from an Ethereum node, but it's not easy to get working in a batch manner. It takes approximately 1 week for an Ethereum node to download the entire chain (event more in my experience) and importing and exporting data from the Ethereum node is slow.\n",
        "\n",
        "For this example, we ran an Ethereum node for a week and allowed it to synchronise. We then ran ethereum-etl to extract the information and pinned it on Filecoin. This means that we can both now access the data without having to run another ethereum node.\n",
        "\n",
        "But there's still a lot of data and these types of analyses typically need repeating or refining. So it makes absolute sense to use a decentralised network like Bacalhau to process the data in a scalable way.\n",
        "\n",
        "### Prerequisites\n",
        "\n",
        "* Python 3 \n",
        "* The Bacalhau client - [Installation instructions](https://docs.bacalhau.org/getting-started/installation)"
      ]
    },
    {
      "cell_type": "code",
      "execution_count": 2,
      "metadata": {
        "tags": [
          "remove_cell"
        ]
      },
      "outputs": [
        {
          "name": "stdout",
          "output_type": "stream",
          "text": [
            "env: PATH=./:/Users/phil/.cargo/bin:/Users/phil/.pyenv/versions/3.9.7/bin:/opt/homebrew/Caskroom/google-cloud-sdk/latest/google-cloud-sdk/bin:/Users/phil/.gvm/bin:/opt/homebrew/opt/findutils/libexec/gnubin:/opt/homebrew/opt/coreutils/libexec/gnubin:/opt/homebrew/Caskroom/google-cloud-sdk/latest/google-cloud-sdk/bin:/Users/phil/.pyenv/shims:/opt/homebrew/bin:/opt/homebrew/sbin:/usr/local/bin:/usr/bin:/bin:/usr/sbin:/sbin:/Library/TeX/texbin:/usr/local/MacGPG2/bin:/Users/phil/.nexustools\n"
          ]
        }
      ],
      "source": [
        "!command -v bacalhau >/dev/null 2>&1 || (export BACALHAU_INSTALL_DIR=.; curl -sL https://get.bacalhau.org/install.sh | bash)\n",
        "path=!echo $PATH\n",
        "%env PATH=./:{path[0]}"
      ]
    },
    {
      "cell_type": "markdown",
      "metadata": {},
      "source": [
        "## 1. Analysing Ethereum Data Locally\n",
        "\n",
        "First let's download one of the IPFS files and inspect it locally. You can see the full list of IPFS CIDs in the appendix."
      ]
    },
    {
      "cell_type": "code",
      "execution_count": 1,
      "metadata": {
        "tags": []
      },
      "outputs": [
        {
          "name": "stderr",
          "output_type": "stream",
          "text": [
            "x output_850000/\n",
            "x output_850000/token_transfers/\n",
            "x output_850000/token_transfers/start_block=00850000/\n",
            "x output_850000/token_transfers/start_block=00850000/end_block=00899999/\n",
            "x output_850000/token_transfers/start_block=00850000/end_block=00899999/token_transfers_00850000_00899999.csv\n",
            "x output_850000/contracts/\n",
            "x output_850000/contracts/start_block=00850000/\n",
            "x output_850000/contracts/start_block=00850000/end_block=00899999/\n",
            "x output_850000/contracts/start_block=00850000/end_block=00899999/contracts_00850000_00899999.csv\n",
            "x output_850000/transactions/\n",
            "x output_850000/transactions/start_block=00850000/\n",
            "x output_850000/transactions/start_block=00850000/end_block=00899999/\n",
            "x output_850000/transactions/start_block=00850000/end_block=00899999/transactions_00850000_00899999.csv\n",
            "x output_850000/receipts/\n",
            "x output_850000/receipts/start_block=00850000/\n",
            "x output_850000/receipts/start_block=00850000/end_block=00899999/\n",
            "x output_850000/receipts/start_block=00850000/end_block=00899999/receipts_00850000_00899999.csv\n",
            "x output_850000/tokens/\n",
            "x output_850000/tokens/start_block=00850000/\n",
            "x output_850000/tokens/start_block=00850000/end_block=00899999/\n",
            "x output_850000/tokens/start_block=00850000/end_block=00899999/tokens_00850000_00899999.csv\n",
            "x output_850000/blocks/\n",
            "x output_850000/blocks/start_block=00850000/\n",
            "x output_850000/blocks/start_block=00850000/end_block=00899999/\n",
            "x output_850000/blocks/start_block=00850000/end_block=00899999/blocks_00850000_00899999.csv\n",
            "x output_850000/.tmp/\n",
            "x output_850000/logs/\n",
            "x output_850000/logs/start_block=00850000/\n",
            "x output_850000/logs/start_block=00850000/end_block=00899999/\n",
            "x output_850000/logs/start_block=00850000/end_block=00899999/logs_00850000_00899999.csv\n"
          ]
        }
      ],
      "source": [
        "%%bash\n",
        "wget -q -O file.tar.gz https://w3s.link/ipfs/bafybeifgqjvmzbtz427bne7af5tbndmvniabaex77us6l637gqtb2iwlwq\n",
        "tar -xvf file.tar.gz"
      ]
    },
    {
      "cell_type": "code",
      "execution_count": 3,
      "metadata": {
        "colab": {
          "base_uri": "https://localhost:8080/"
        },
        "id": "9uugWSqGysqL",
        "outputId": "5bdcd741-3ca9-4e93-b1d9-bde7657f65fa",
        "tags": []
      },
      "outputs": [
        {
          "name": "stdout",
          "output_type": "stream",
          "text": [
            "Requirement already satisfied: pandas in /Users/phil/.pyenv/versions/3.9.7/lib/python3.9/site-packages (1.4.3)\n",
            "Requirement already satisfied: python-dateutil>=2.8.1 in /Users/phil/.local/lib/python3.9/site-packages (from pandas) (2.8.2)\n",
            "Requirement already satisfied: numpy>=1.20.0 in /Users/phil/.pyenv/versions/3.9.7/lib/python3.9/site-packages (from pandas) (1.23.0)\n",
            "Requirement already satisfied: pytz>=2020.1 in /Users/phil/.local/lib/python3.9/site-packages (from pandas) (2021.1)\n",
            "Requirement already satisfied: six>=1.5 in /Users/phil/.pyenv/versions/3.9.7/lib/python3.9/site-packages (from python-dateutil>=2.8.1->pandas) (1.16.0)\n"
          ]
        }
      ],
      "source": [
        "%%bash\n",
        "pip install pandas"
      ]
    },
    {
      "cell_type": "code",
      "execution_count": 8,
      "metadata": {
        "colab": {
          "base_uri": "https://localhost:8080/"
        },
        "id": "qCCfxjBRzTzQ",
        "outputId": "3dd165db-7138-4645-d4ab-a1a76ad7b715",
        "tags": []
      },
      "outputs": [
        {
          "name": "stdout",
          "output_type": "stream",
          "text": [
            "Loading file output_850000/transactions/start_block=00850000/end_block=00899999/transactions_00850000_00899999.csv\n",
            "<class 'pandas.core.frame.DataFrame'>\n",
            "RangeIndex: 115517 entries, 0 to 115516\n",
            "Data columns (total 16 columns):\n",
            " #   Column                    Non-Null Count   Dtype         \n",
            "---  ------                    --------------   -----         \n",
            " 0   hash                      115517 non-null  string        \n",
            " 1   nonce                     115517 non-null  int64         \n",
            " 2   block_hash                115517 non-null  string        \n",
            " 3   block_number              115517 non-null  int64         \n",
            " 4   transaction_index         115517 non-null  int64         \n",
            " 5   from_address              115517 non-null  string        \n",
            " 6   to_address                114901 non-null  string        \n",
            " 7   value                     115517 non-null  float64       \n",
            " 8   gas                       115517 non-null  int64         \n",
            " 9   gas_price                 115517 non-null  int64         \n",
            " 10  input                     115517 non-null  object        \n",
            " 11  block_timestamp           115517 non-null  int64         \n",
            " 12  max_fee_per_gas           0 non-null       float64       \n",
            " 13  max_priority_fee_per_gas  0 non-null       float64       \n",
            " 14  transaction_type          115517 non-null  int64         \n",
            " 15  block_datetime            115517 non-null  datetime64[ns]\n",
            "dtypes: datetime64[ns](1), float64(3), int64(7), object(1), string(4)\n",
            "memory usage: 14.1+ MB\n"
          ]
        }
      ],
      "source": [
        "# Use pandas to read in transation data and clean up the columns\n",
        "import pandas as pd\n",
        "import glob\n",
        "\n",
        "file = glob.glob('output_*/transactions/start_block=*/end_block=*/transactions*.csv')[0]\n",
        "print(\"Loading file %s\" % file)\n",
        "df = pd.read_csv(file)\n",
        "df['value'] = df['value'].astype('float')\n",
        "df['from_address'] = df['from_address'].astype('string')\n",
        "df['to_address'] = df['to_address'].astype('string')\n",
        "df['hash'] = df['hash'].astype('string')\n",
        "df['block_hash'] = df['block_hash'].astype('string')\n",
        "df['block_datetime'] = pd.to_datetime(df['block_timestamp'], unit='s')\n",
        "df.info()"
      ]
    },
    {
      "cell_type": "markdown",
      "metadata": {},
      "source": [
        "The following code inspects the daily trading volume of Ethereum for a single chunk (100,000 blocks) of data.\n",
        "\n",
        "This is all good, but we can do better. We can use the Bacalhau client to download the data from IPFS and then run the analysis on the data in the cloud. This means that we can analyse the entire Ethereum blockchain without having to download it locally."
      ]
    },
    {
      "cell_type": "code",
      "execution_count": 7,
      "metadata": {
        "tags": []
      },
      "outputs": [
        {
          "data": {
            "text/plain": [
              "<AxesSubplot:xlabel='block_datetime'>"
            ]
          },
          "execution_count": 7,
          "metadata": {},
          "output_type": "execute_result"
        },
        {
          "data": {
            "image/png": "[encoded data removed]",
            "text/plain": [
              "<Figure size 432x288 with 1 Axes>"
            ]
          },
          "metadata": {
            "needs_background": "light"
          },
          "output_type": "display_data"
        }
      ],
      "source": [
        "# Total volume per day\n",
        "df[['block_datetime', 'value']].groupby(pd.Grouper(key='block_datetime', freq='1D')).sum().plot()\n"
      ]
    },
    {
      "cell_type": "markdown",
      "metadata": {
        "id": "QYWVyCrLzZHu"
      },
      "source": [
        "\n",
        "\n",
        "\n",
        "## 2. Analysing Ethereum Data With Bacalhau\n",
        "\n",
        "To run jobs on the Bacalhau network you need to package your code. In this example I will package the code as a Docker image.\n",
        "\n",
        "But before we do that, we need to develop the code that will perform the analysis. The code below is a simple script to parse the incoming data and produce a CSV file with the daily trading volume of Ethereum."
      ]
    },
    {
      "cell_type": "code",
      "execution_count": 13,
      "metadata": {
        "tags": []
      },
      "outputs": [
        {
          "name": "stdout",
          "output_type": "stream",
          "text": [
            "Writing main.py\n"
          ]
        }
      ],
      "source": [
        "%%writefile main.py\n",
        "import glob, os, sys, shutil, tempfile\n",
        "import pandas as pd\n",
        "\n",
        "def main(input_dir, output_dir):\n",
        "    search_path = os.path.join(input_dir, \"output*\", \"transactions\", \"start_block*\", \"end_block*\", \"transactions_*.csv\")\n",
        "    csv_files = glob.glob(search_path)\n",
        "    if len(csv_files) == 0:\n",
        "        print(\"No CSV files found in %s\" % search_path)\n",
        "        sys.exit(1)\n",
        "    for transactions_file in csv_files:\n",
        "        print(\"Loading %s\" % transactions_file)\n",
        "        df = pd.read_csv(transactions_file)\n",
        "        df['value'] = df['value'].astype('float')\n",
        "        df['block_datetime'] = pd.to_datetime(df['block_timestamp'], unit='s')\n",
        "        \n",
        "        print(\"Processing %d blocks\" % (df.shape[0]))\n",
        "        results = df[['block_datetime', 'value']].groupby(pd.Grouper(key='block_datetime', freq='1D')).sum()\n",
        "        print(\"Finished processing %d days worth of records\" % (results.shape[0]))\n",
        "\n",
        "        save_path = os.path.join(output_dir, os.path.basename(transactions_file))\n",
        "        os.makedirs(os.path.dirname(save_path), exist_ok=True)\n",
        "        print(\"Saving to %s\" % (save_path))\n",
        "        results.to_csv(save_path)\n",
        "\n",
        "def extractData(input_dir, output_dir):\n",
        "    search_path = os.path.join(input_dir, \"*.tar.gz\")\n",
        "    gz_files = glob.glob(search_path)\n",
        "    if len(gz_files) == 0:\n",
        "        print(\"No tar.gz files found in %s\" % search_path)\n",
        "        sys.exit(1)\n",
        "    for f in gz_files:\n",
        "        shutil.unpack_archive(filename=f, extract_dir=output_dir)\n",
        "\n",
        "if __name__ == \"__main__\":\n",
        "    if len(sys.argv) != 3:\n",
        "        print('Must pass arguments. Format: [command] input_dir output_dir')\n",
        "        sys.exit()\n",
        "    with tempfile.TemporaryDirectory() as tmp_dir:\n",
        "        extractData(sys.argv[1], tmp_dir)\n",
        "        main(tmp_dir, sys.argv[2])"
      ]
    },
    {
      "cell_type": "markdown",
      "metadata": {},
      "source": [
        "Next, let's make sure the file works as expected..."
      ]
    },
    {
      "cell_type": "code",
      "execution_count": 14,
      "metadata": {
        "tags": []
      },
      "outputs": [
        {
          "name": "stdout",
          "output_type": "stream",
          "text": [
            "Loading /var/folders/kr/pl4p96k11b55hp5_p9l_t8kr0000gn/T/tmphtgurgu0/output_850000/transactions/start_block=00850000/end_block=00899999/transactions_00850000_00899999.csv\n",
            "Processing 115517 blocks\n",
            "Finished processing 11 days worth of records\n",
            "Saving to outputs/transactions_00850000_00899999.csv\n"
          ]
        }
      ],
      "source": [
        "%%bash\n",
        "python main.py . outputs/"
      ]
    },
    {
      "cell_type": "markdown",
      "metadata": {},
      "source": [
        "And finally, package the code inside a Docker image to make the process reproducible. Here I'm passing the Bacalhau default `/inputs` and `/outputs` directories. The `/inputs` directory is where the data will be read from and the `/outputs` directory is where the results will be saved to."
      ]
    },
    {
      "cell_type": "code",
      "execution_count": 157,
      "metadata": {
        "tags": []
      },
      "outputs": [
        {
          "name": "stdout",
          "output_type": "stream",
          "text": [
            "Overwriting Dockerfile\n"
          ]
        }
      ],
      "source": [
        "%%writefile Dockerfile\n",
        "FROM python:3.11-slim-bullseye\n",
        "WORKDIR /src\n",
        "RUN pip install pandas==1.5.1\n",
        "ADD main.py .\n",
        "CMD [\"python\", \"main.py\", \"/inputs\", \"/outputs\"]"
      ]
    },
    {
      "cell_type": "markdown",
      "metadata": {},
      "source": [
        "We've already pushed the container, but for posterity, the following command pushes this container to GHCR.\n",
        "\n",
        "```bash\n",
        "docker buildx build --platform linux/amd64 --push -t ghcr.io/bacalhau-project/examples/blockchain-etl:0.0.1 .\n",
        "```"
      ]
    },
    {
      "cell_type": "markdown",
      "metadata": {
        "id": "wjvk7WHzzhBH"
      },
      "source": [
        "\n",
        "### Analysing Ethereum Data On Bacalhau\n",
        "\n",
        "[Bacalhau](https://www.bacalhau.org/) is a distributed computing platform that allows you to run jobs on a network of computers. It is designed to be easy to use and to run on a variety of hardware. In this example, we will use it to run our analysis on the Ethereum blockchain.\n",
        "\n",
        "To submit a job, you can use the Bacalhau CLI. The following command will run the container above on the IPFS data -- the long hash -- shown at the start of this notebook. Let's confirm that the results are as expected.\n"
      ]
    },
    {
      "cell_type": "code",
      "execution_count": 19,
      "metadata": {
        "tags": []
      },
      "outputs": [],
      "source": [
        "%%bash --out job_id\n",
        "bacalhau docker run \\\n",
        "    --id-only \\\n",
        "    --input-volumes bafybeifgqjvmzbtz427bne7af5tbndmvniabaex77us6l637gqtb2iwlwq:/inputs/data.tar.gz \\\n",
        "    ghcr.io/bacalhau-project/examples/blockchain-etl:0.0.6"
      ]
    },
    {
      "cell_type": "code",
      "execution_count": 20,
      "metadata": {
        "tags": [
          "remove_cell"
        ]
      },
      "outputs": [
        {
          "name": "stdout",
          "output_type": "stream",
          "text": [
            "env: JOB_ID=5466b0ae-4eca-429c-a7b7-a9a5eeb0268c\n"
          ]
        }
      ],
      "source": [
        "%env JOB_ID={job_id}"
      ]
    },
    {
      "cell_type": "markdown",
      "metadata": {},
      "source": [
        "\n",
        "Running the commands will output a UUID that represents the job that was created. You can check the status of the job with the following command:\n"
      ]
    },
    {
      "cell_type": "code",
      "execution_count": 21,
      "metadata": {
        "tags": []
      },
      "outputs": [
        {
          "name": "stdout",
          "output_type": "stream",
          "text": [
            "\u001b[92;100m CREATED  \u001b[0m\u001b[92;100m ID       \u001b[0m\u001b[92;100m JOB                     \u001b[0m\u001b[92;100m STATE     \u001b[0m\u001b[92;100m VERIFIED \u001b[0m\u001b[92;100m PUBLISHED               \u001b[0m\n",
            "\u001b[97;40m 11:35:52 \u001b[0m\u001b[97;40m 5466b0ae \u001b[0m\u001b[97;40m Docker ghcr.io/bacal... \u001b[0m\u001b[97;40m Completed \u001b[0m\u001b[97;40m          \u001b[0m\u001b[97;40m /ipfs/QmeaJY77DrN2KD... \u001b[0m\n"
          ]
        }
      ],
      "source": [
        "%%bash\n",
        "bacalhau list --id-filter ${JOB_ID}"
      ]
    },
    {
      "cell_type": "markdown",
      "metadata": {},
      "source": [
        "\n",
        "Wait until it says `Completed` and then get the results.\n",
        "\n",
        "To find out more information about your job, run the following command:"
      ]
    },
    {
      "cell_type": "code",
      "execution_count": 22,
      "metadata": {
        "tags": []
      },
      "outputs": [
        {
          "name": "stdout",
          "output_type": "stream",
          "text": [
            "APIVersion: V1beta1\n",
            "ClientID: 77cf46c04f88ffb1c3e0e4b6e443724e8d2d87074d088ef1a6294a448fa85d2e\n",
            "CreatedAt: \"2022-11-21T11:35:52.834067363Z\"\n",
            "Deal:\n",
            "  Concurrency: 1\n",
            "ExecutionPlan:\n",
            "  ShardsTotal: 1\n",
            "ID: 5466b0ae-4eca-429c-a7b7-a9a5eeb0268c\n",
            "JobState:\n",
            "  Nodes:\n",
            "    QmSyJ8VUd4YSPwZFJSJsHmmmmg7sd4BAc2yHY73nisJo86:\n",
            "      Shards:\n",
            "        \"0\":\n",
            "          NodeId: QmSyJ8VUd4YSPwZFJSJsHmmmmg7sd4BAc2yHY73nisJo86\n",
            "          PublishedResults: {}\n",
            "          State: Cancelled\n",
            "          VerificationResult: {}\n",
            "    QmVAb7r2pKWCuyLpYWoZr9syhhFnTWeFaByHdb8PkkhLQG:\n",
            "      Shards:\n",
            "        \"0\":\n",
            "          NodeId: QmVAb7r2pKWCuyLpYWoZr9syhhFnTWeFaByHdb8PkkhLQG\n",
            "          PublishedResults: {}\n",
            "          State: Cancelled\n",
            "          VerificationResult: {}\n",
            "    QmXaXu9N5GNetatsvwnTfQqNtSeKAD6uCmarbh3LMRYAcF:\n",
            "      Shards:\n",
            "        \"0\":\n",
            "          NodeId: QmXaXu9N5GNetatsvwnTfQqNtSeKAD6uCmarbh3LMRYAcF\n",
            "          PublishedResults:\n",
            "            CID: QmeaJY77DrN2KDMcuyVofEzkXggnWZYEqi6ePXKAbdkavf\n",
            "            Name: job-5466b0ae-4eca-429c-a7b7-a9a5eeb0268c-shard-0-host-QmXaXu9N5GNetatsvwnTfQqNtSeKAD6uCmarbh3LMRYAcF\n",
            "            StorageSource: IPFS\n",
            "          RunOutput:\n",
            "            exitCode: 0\n",
            "            runnerError: \"\"\n",
            "            stderr: \"\"\n",
            "            stderrtruncated: false\n",
            "            stdout: |\n",
            "              Loading /tmp/tmpjgrd_43o/output_850000/transactions/start_block=00850000/end_block=00899999/transactions_00850000_00899999.csv\n",
            "              Processing 115517 blocks\n",
            "              Finished processing 11 days worth of records\n",
            "              Saving to /outputs/transactions_00850000_00899999.csv\n",
            "            stdouttruncated: false\n",
            "          State: Completed\n",
            "          Status: 'Got results proposal of length: 0'\n",
            "          VerificationResult:\n",
            "            Complete: true\n",
            "            Result: true\n",
            "RequesterNodeID: QmdZQ7ZbhnvWY1J12XYKGHApJ6aufKyLNSvf8jZBrBaAVL\n",
            "RequesterPublicKey: CAASpgIwggEiMA0GCSqGSIb3DQEBAQUAA4IBDwAwggEKAoIBAQDVRKPgCfY2fgfrkHkFjeWcqno+MDpmp8DgVaY672BqJl/dZFNU9lBg2P8Znh8OTtHPPBUBk566vU3KchjW7m3uK4OudXrYEfSfEPnCGmL6GuLiZjLf+eXGEez7qPaoYqo06gD8ROdD8VVse27E96LlrpD1xKshHhqQTxKoq1y6Rx4DpbkSt966BumovWJ70w+Nt9ZkPPydRCxVnyWS1khECFQxp5Ep3NbbKtxHNX5HeULzXN5q0EQO39UN6iBhiI34eZkH7PoAm3Vk5xns//FjTAvQw6wZUu8LwvZTaihs+upx2zZysq6CEBKoeNZqed9+Tf+qHow0P5pxmiu+or+DAgMBAAE=\n",
            "Spec:\n",
            "  Docker:\n",
            "    Image: ghcr.io/bacalhau-project/examples/blockchain-etl:0.0.6\n",
            "  Engine: Docker\n",
            "  Language:\n",
            "    JobContext: {}\n",
            "  Publisher: Estuary\n",
            "  Resources:\n",
            "    GPU: \"\"\n",
            "  Sharding:\n",
            "    BatchSize: 1\n",
            "    GlobPatternBasePath: /inputs\n",
            "  Timeout: 1800\n",
            "  Verifier: Noop\n",
            "  Wasm: {}\n",
            "  inputs:\n",
            "  - CID: bafybeifgqjvmzbtz427bne7af5tbndmvniabaex77us6l637gqtb2iwlwq\n",
            "    StorageSource: IPFS\n",
            "    path: /inputs/data.tar.gz\n",
            "  outputs:\n",
            "  - Name: outputs\n",
            "    StorageSource: IPFS\n",
            "    path: /outputs\n"
          ]
        }
      ],
      "source": [
        "%%bash\n",
        "bacalhau describe ${JOB_ID}"
      ]
    },
    {
      "cell_type": "markdown",
      "metadata": {},
      "source": [
        "And let's inspect the results."
      ]
    },
    {
      "cell_type": "code",
      "execution_count": 24,
      "metadata": {
        "tags": []
      },
      "outputs": [
        {
          "name": "stdout",
          "output_type": "stream",
          "text": [
            "Fetching results of job '5466b0ae-4eca-429c-a7b7-a9a5eeb0268c'...\n",
            "Results for job '5466b0ae-4eca-429c-a7b7-a9a5eeb0268c' have been written to...\n",
            "./results\n"
          ]
        }
      ],
      "source": [
        "%%bash\n",
        "rm -rf ./results && mkdir -p ./results # Temporary directory to store the results\n",
        "bacalhau get --output-dir ./results ${JOB_ID} # Download the results"
      ]
    },
    {
      "cell_type": "markdown",
      "metadata": {
        "tags": []
      },
      "source": [
        "The docker run command above used the `outputs` volume as a results folder so when we download them they will be stored in a  folder within `volumes/outputs`."
      ]
    },
    {
      "cell_type": "code",
      "execution_count": 25,
      "metadata": {
        "tags": []
      },
      "outputs": [
        {
          "name": "stdout",
          "output_type": "stream",
          "text": [
            "total 4.0K\n",
            "drwxr-xr-x 3 phil staff  96 Nov 21 11:36 .\n",
            "drwxr-xr-x 5 phil staff 160 Nov 21 11:36 ..\n",
            "-rw-r--r-- 3 phil staff 387 Nov 21 11:36 transactions_00850000_00899999.csv\n"
          ]
        }
      ],
      "source": [
        "%%bash\n",
        "ls -lah results/combined_results/outputs"
      ]
    },
    {
      "cell_type": "code",
      "execution_count": 26,
      "metadata": {
        "tags": []
      },
      "outputs": [
        {
          "data": {
            "text/plain": [
              "<AxesSubplot:xlabel='block_datetime'>"
            ]
          },
          "execution_count": 26,
          "metadata": {},
          "output_type": "execute_result"
        },
        {
          "data": {
            "image/png": "[encoded data removed]",
            "text/plain": [
              "<Figure size 432x288 with 1 Axes>"
            ]
          },
          "metadata": {
            "needs_background": "light"
          },
          "output_type": "display_data"
        }
      ],
      "source": [
        "import glob\n",
        "import pandas as pd\n",
        "\n",
        "# Get CSV files list from a folder\n",
        "csv_files = glob.glob(\"results/combined_results/outputs/*.csv\")\n",
        "df = pd.read_csv(csv_files[0], index_col='block_datetime')\n",
        "df.plot()"
      ]
    },
    {
      "cell_type": "markdown",
      "metadata": {},
      "source": [
        "### Massive Scale Ethereum Analysis\n",
        "\n",
        "Ok so that works. Let's scale this up! We can run the same analysis on the entire Ethereum blockchain (up to the point where I have uploaded the Ethereum data). To do this, we need to run the analysis on each of the chunks of data that we have stored on IPFS. We can do this by running the same job on each of the chunks.\n",
        "\n",
        "See the appendix for the `hashes.txt` file."
      ]
    },
    {
      "cell_type": "code",
      "execution_count": 32,
      "metadata": {
        "tags": []
      },
      "outputs": [],
      "source": [
        "%%bash\n",
        "printf \"\" > job_ids.txt\n",
        "for h in $(cat hashes.txt); do \\\n",
        "    bacalhau docker run \\\n",
        "    --id-only \\\n",
        "    --wait=false \\\n",
        "    --input-volumes=$h:/inputs/data.tar.gz \\\n",
        "    ghcr.io/bacalhau-project/examples/blockchain-etl:0.0.6 >> job_ids.txt \n",
        "done"
      ]
    },
    {
      "cell_type": "markdown",
      "metadata": {},
      "source": [
        "Now take a look at the job id's. You can use these to check the status of the jobs and download the results. You might want to double check that the jobs ran ok by doing a `bacalhau list`."
      ]
    },
    {
      "cell_type": "code",
      "execution_count": 33,
      "metadata": {
        "tags": []
      },
      "outputs": [
        {
          "name": "stdout",
          "output_type": "stream",
          "text": [
            "7e7b9df1-4904-45f5-a392-1f99d1c3a4dd\n",
            "e3e5f500-0ebe-4948-a1b8-80d7b42dd534\n",
            "56fd0c21-99d7-4bf5-8178-d171c91f8576\n",
            "d026ff34-7ecd-42e0-8431-52d9497e9eb6\n",
            "ab919292-74f3-493f-8d66-1f56c4afc819\n",
            "ca6b0fbf-061d-4380-8c6e-faac5ec67a15\n",
            "9d05a2a4-9981-4763-8490-3b849eaa628b\n",
            "c5baf5cc-3259-4acf-ba75-92e1cb2235bb\n",
            "32f97eaa-cad6-49f0-9b20-a2a1276980be\n",
            "69bd1c82-1be7-4b1f-8ab0-d5d2bef19bb1\n",
            "31a43a56-fc31-4254-83b2-8fa8f8a6e542\n",
            "ecfdf8f8-dbad-4447-a275-af8fceb6abfc\n",
            "d45365d4-9cf3-4a24-9ae1-c8c8d8d5856f\n",
            "08cbab6e-88a4-4a20-bcd3-26e2c8f379a7\n",
            "93bcb94e-19a3-49ba-af18-ea6566515b93\n",
            "ce6a8215-b5d4-4cb3-b4ac-e24ef1f84e1c\n",
            "354c3482-4f3a-4d56-b908-43bb8708450f\n",
            "7cc6e343-2b97-4826-9b73-b5bd32019ffc\n",
            "3d396eed-abb4-47bc-a4dc-24647c619db9\n",
            "bc2c6361-39dc-4970-8284-be1f7f011c66\n",
            "f421a3e8-009e-4205-898b-9811a78d6a36\n",
            "ab73b414-edac-45f9-95e6-06a855629b23\n",
            "44711531-3aff-4b65-9db9-9fc6d3948023\n",
            "f6143867-f2ab-4701-a85a-375f080bcd3d\n",
            "6b8552f8-8505-4139-bb88-ab5e5e0b8cef\n",
            "d3e25508-7b28-4e83-be0d-be921dbfd7e9\n",
            "0f4dfdb6-bf13-41af-bc7a-e045ac360ba7\n",
            "cc16970e-a5be-42f4-bec5-098acbe4d7d9\n",
            "37819801-f09b-4d3c-86ce-070a4f8c37a3\n",
            "d55cc9e7-9e33-4485-9137-2b5c7e1e831a\n",
            "8313e946-e587-468a-83e1-e464138d3935\n",
            "65681fa0-44ee-46a4-ab46-6db705d1d318\n",
            "c164e617-01a9-4967-ac29-f2c5e2ddeb3f\n",
            "0e0b5e9b-d467-41f6-965e-249f06e7a32b\n",
            "eb733f15-a129-499e-a59c-8eaba0dd68cc\n",
            "fcf637d3-1817-4a99-9884-9db568e4d18d\n",
            "e9450225-c2fb-47ea-b735-ebbde28bdd33\n",
            "2183006a-3992-4c7f-9200-c4c4e0cd69ab\n",
            "f86f2507-d408-4b70-8cdb-47f3ff2083a2\n",
            "cb0670d4-eaa5-4181-808d-3bc92da9b4b8\n",
            "868707f5-dfdc-48e3-ab44-f4d450922a0d\n",
            "2dfc0ce6-d685-424b-95ff-921ad5da0812\n",
            "d034fd07-e7fb-41c7-b8d3-5c9b1ea01fad\n",
            "3e40318b-ba7a-4d67-9dfb-217e4776c62a\n",
            "a2e17933-5eb5-4866-bb01-a88fb9429608\n",
            "d1407c23-a485-43a3-87cf-9aeb28e656bf\n",
            "55ef4899-03af-4667-8c93-d00c01d8d657\n",
            "7085672f-0571-4a41-b5f7-a983fda9e2b1\n",
            "1ba46518-bf45-45e5-afa6-928844f98e5f\n",
            "ede7c3a2-3cf1-4d08-abe3-278f55d0c27e\n",
            "7aa140ab-79c6-452f-a3f6-19035e7187cd\n",
            "31787f8f-a566-4b2f-b3f4-91390d3bea68\n",
            "b167a9f3-1c5f-40e8-b7c5-e864221deab9\n",
            "adab8249-2fb8-49b4-bc01-faac00810a26\n"
          ]
        }
      ],
      "source": [
        "%%bash\n",
        "cat job_ids.txt"
      ]
    },
    {
      "cell_type": "markdown",
      "metadata": {},
      "source": [
        "Wait until all of these jobs have completed:"
      ]
    },
    {
      "cell_type": "code",
      "execution_count": 35,
      "metadata": {},
      "outputs": [
        {
          "name": "stdout",
          "output_type": "stream",
          "text": [
            "\u001b[92;100m CREATED  \u001b[0m\u001b[92;100m ID       \u001b[0m\u001b[92;100m JOB                     \u001b[0m\u001b[92;100m STATE     \u001b[0m\u001b[92;100m VERIFIED \u001b[0m\u001b[92;100m PUBLISHED               \u001b[0m\n",
            "\u001b[97;40m 09:20:45 \u001b[0m\u001b[97;40m adab8249 \u001b[0m\u001b[97;40m Docker ghcr.io/bacal... \u001b[0m\u001b[97;40m Completed \u001b[0m\u001b[97;40m          \u001b[0m\u001b[97;40m /ipfs/QmYhXreDR4LKBq... \u001b[0m\n",
            "\u001b[37;40m 09:20:44 \u001b[0m\u001b[37;40m b167a9f3 \u001b[0m\u001b[37;40m Docker ghcr.io/bacal... \u001b[0m\u001b[37;40m Completed \u001b[0m\u001b[37;40m          \u001b[0m\u001b[37;40m /ipfs/QmVcmigC4RGJjM... \u001b[0m\n",
            "\u001b[97;40m 09:20:43 \u001b[0m\u001b[97;40m 7aa140ab \u001b[0m\u001b[97;40m Docker ghcr.io/bacal... \u001b[0m\u001b[97;40m Completed \u001b[0m\u001b[97;40m          \u001b[0m\u001b[97;40m /ipfs/QmQahTAxdLWxCC... \u001b[0m\n",
            "\u001b[37;40m 09:20:43 \u001b[0m\u001b[37;40m 31787f8f \u001b[0m\u001b[37;40m Docker ghcr.io/bacal... \u001b[0m\u001b[37;40m Completed \u001b[0m\u001b[37;40m          \u001b[0m\u001b[37;40m /ipfs/QmXtbqVopAhc7D... \u001b[0m\n",
            "\u001b[97;40m 09:20:42 \u001b[0m\u001b[97;40m ede7c3a2 \u001b[0m\u001b[97;40m Docker ghcr.io/bacal... \u001b[0m\u001b[97;40m Completed \u001b[0m\u001b[97;40m          \u001b[0m\u001b[97;40m /ipfs/QmVHcd4HrnhALb... \u001b[0m\n",
            "\u001b[37;40m 09:20:41 \u001b[0m\u001b[37;40m 1ba46518 \u001b[0m\u001b[37;40m Docker ghcr.io/bacal... \u001b[0m\u001b[37;40m Completed \u001b[0m\u001b[37;40m          \u001b[0m\u001b[37;40m /ipfs/QmWxxBym5Rssai... \u001b[0m\n",
            "\u001b[97;40m 09:20:41 \u001b[0m\u001b[97;40m 7085672f \u001b[0m\u001b[97;40m Docker ghcr.io/bacal... \u001b[0m\u001b[97;40m Completed \u001b[0m\u001b[97;40m          \u001b[0m\u001b[97;40m /ipfs/QmX5vA9gCpKLMM... \u001b[0m\n",
            "\u001b[37;40m 09:20:40 \u001b[0m\u001b[37;40m 55ef4899 \u001b[0m\u001b[37;40m Docker ghcr.io/bacal... \u001b[0m\u001b[37;40m Completed \u001b[0m\u001b[37;40m          \u001b[0m\u001b[37;40m /ipfs/QmV2ZQoyjFu1Bt... \u001b[0m\n",
            "\u001b[97;40m 09:20:39 \u001b[0m\u001b[97;40m d1407c23 \u001b[0m\u001b[97;40m Docker ghcr.io/bacal... \u001b[0m\u001b[97;40m Completed \u001b[0m\u001b[97;40m          \u001b[0m\u001b[97;40m /ipfs/QmQafnmkoLP9fD... \u001b[0m\n",
            "\u001b[37;40m 09:20:39 \u001b[0m\u001b[37;40m a2e17933 \u001b[0m\u001b[37;40m Docker ghcr.io/bacal... \u001b[0m\u001b[37;40m Completed \u001b[0m\u001b[37;40m          \u001b[0m\u001b[37;40m /ipfs/QmYJrU1xRyWZxn... \u001b[0m\n",
            "\u001b[97;40m 09:20:38 \u001b[0m\u001b[97;40m 3e40318b \u001b[0m\u001b[97;40m Docker ghcr.io/bacal... \u001b[0m\u001b[97;40m Completed \u001b[0m\u001b[97;40m          \u001b[0m\u001b[97;40m /ipfs/QmSG4ZMP5m5mko... \u001b[0m\n",
            "\u001b[37;40m 09:20:37 \u001b[0m\u001b[37;40m 2dfc0ce6 \u001b[0m\u001b[37;40m Docker ghcr.io/bacal... \u001b[0m\u001b[37;40m Completed \u001b[0m\u001b[37;40m          \u001b[0m\u001b[37;40m /ipfs/QmYEEGsQYqoz5D... \u001b[0m\n",
            "\u001b[97;40m 09:20:37 \u001b[0m\u001b[97;40m d034fd07 \u001b[0m\u001b[97;40m Docker ghcr.io/bacal... \u001b[0m\u001b[97;40m Completed \u001b[0m\u001b[97;40m          \u001b[0m\u001b[97;40m /ipfs/QmRYZiQrdPZoXf... \u001b[0m\n",
            "\u001b[37;40m 09:20:36 \u001b[0m\u001b[37;40m 868707f5 \u001b[0m\u001b[37;40m Docker ghcr.io/bacal... \u001b[0m\u001b[37;40m Completed \u001b[0m\u001b[37;40m          \u001b[0m\u001b[37;40m /ipfs/QmRUjZFGXqAiEH... \u001b[0m\n",
            "\u001b[97;40m 09:20:35 \u001b[0m\u001b[97;40m cb0670d4 \u001b[0m\u001b[97;40m Docker ghcr.io/bacal... \u001b[0m\u001b[97;40m Completed \u001b[0m\u001b[97;40m          \u001b[0m\u001b[97;40m /ipfs/QmSjZx4gTdmbCf... \u001b[0m\n",
            "\u001b[37;40m 09:20:34 \u001b[0m\u001b[37;40m f86f2507 \u001b[0m\u001b[37;40m Docker ghcr.io/bacal... \u001b[0m\u001b[37;40m Completed \u001b[0m\u001b[37;40m          \u001b[0m\u001b[37;40m /ipfs/QmVH9JdUDo5aPG... \u001b[0m\n",
            "\u001b[97;40m 09:20:34 \u001b[0m\u001b[97;40m 2183006a \u001b[0m\u001b[97;40m Docker ghcr.io/bacal... \u001b[0m\u001b[97;40m Completed \u001b[0m\u001b[97;40m          \u001b[0m\u001b[97;40m /ipfs/QmR81jwpXVFJ6t... \u001b[0m\n",
            "\u001b[37;40m 09:20:33 \u001b[0m\u001b[37;40m e9450225 \u001b[0m\u001b[37;40m Docker ghcr.io/bacal... \u001b[0m\u001b[37;40m Completed \u001b[0m\u001b[37;40m          \u001b[0m\u001b[37;40m /ipfs/QmSraHbxuprHTk... \u001b[0m\n",
            "\u001b[97;40m 09:20:32 \u001b[0m\u001b[97;40m eb733f15 \u001b[0m\u001b[97;40m Docker ghcr.io/bacal... \u001b[0m\u001b[97;40m Completed \u001b[0m\u001b[97;40m          \u001b[0m\u001b[97;40m /ipfs/QmfV7e9iVDbSg6... \u001b[0m\n",
            "\u001b[37;40m 09:20:32 \u001b[0m\u001b[37;40m fcf637d3 \u001b[0m\u001b[37;40m Docker ghcr.io/bacal... \u001b[0m\u001b[37;40m Completed \u001b[0m\u001b[37;40m          \u001b[0m\u001b[37;40m /ipfs/QmViFm5G8aeL7e... \u001b[0m\n",
            "\u001b[97;40m 09:20:31 \u001b[0m\u001b[97;40m 0e0b5e9b \u001b[0m\u001b[97;40m Docker ghcr.io/bacal... \u001b[0m\u001b[97;40m Completed \u001b[0m\u001b[97;40m          \u001b[0m\u001b[97;40m /ipfs/QmaYobcWeo9XC8... \u001b[0m\n",
            "\u001b[37;40m 09:20:30 \u001b[0m\u001b[37;40m 65681fa0 \u001b[0m\u001b[37;40m Docker ghcr.io/bacal... \u001b[0m\u001b[37;40m Completed \u001b[0m\u001b[37;40m          \u001b[0m\u001b[37;40m /ipfs/QmSec41PLJm6Ba... \u001b[0m\n",
            "\u001b[97;40m 09:20:30 \u001b[0m\u001b[97;40m c164e617 \u001b[0m\u001b[97;40m Docker ghcr.io/bacal... \u001b[0m\u001b[97;40m Completed \u001b[0m\u001b[97;40m          \u001b[0m\u001b[97;40m /ipfs/QmRva4GxizU8pt... \u001b[0m\n",
            "\u001b[37;40m 09:20:29 \u001b[0m\u001b[37;40m 8313e946 \u001b[0m\u001b[37;40m Docker ghcr.io/bacal... \u001b[0m\u001b[37;40m Completed \u001b[0m\u001b[37;40m          \u001b[0m\u001b[37;40m /ipfs/QmSC5Pd6arQVDA... \u001b[0m\n",
            "\u001b[97;40m 09:20:28 \u001b[0m\u001b[97;40m 37819801 \u001b[0m\u001b[97;40m Docker ghcr.io/bacal... \u001b[0m\u001b[97;40m Completed \u001b[0m\u001b[97;40m          \u001b[0m\u001b[97;40m /ipfs/QmUG36RPRZXdop... \u001b[0m\n",
            "\u001b[37;40m 09:20:28 \u001b[0m\u001b[37;40m d55cc9e7 \u001b[0m\u001b[37;40m Docker ghcr.io/bacal... \u001b[0m\u001b[37;40m Completed \u001b[0m\u001b[37;40m          \u001b[0m\u001b[37;40m /ipfs/QmZc2ThoFfoqwc... \u001b[0m\n",
            "\u001b[97;40m 09:20:27 \u001b[0m\u001b[97;40m cc16970e \u001b[0m\u001b[97;40m Docker ghcr.io/bacal... \u001b[0m\u001b[97;40m Completed \u001b[0m\u001b[97;40m          \u001b[0m\u001b[97;40m /ipfs/QmSVm6z4Z9MD5t... \u001b[0m\n",
            "\u001b[37;40m 09:20:26 \u001b[0m\u001b[37;40m 0f4dfdb6 \u001b[0m\u001b[37;40m Docker ghcr.io/bacal... \u001b[0m\u001b[37;40m Completed \u001b[0m\u001b[37;40m          \u001b[0m\u001b[37;40m /ipfs/QmW6bdwq3xWp8d... \u001b[0m\n",
            "\u001b[97;40m 09:20:25 \u001b[0m\u001b[97;40m d3e25508 \u001b[0m\u001b[97;40m Docker ghcr.io/bacal... \u001b[0m\u001b[97;40m Completed \u001b[0m\u001b[97;40m          \u001b[0m\u001b[97;40m /ipfs/QmdKAxhWU527as... \u001b[0m\n",
            "\u001b[37;40m 09:20:25 \u001b[0m\u001b[37;40m 6b8552f8 \u001b[0m\u001b[37;40m Docker ghcr.io/bacal... \u001b[0m\u001b[37;40m Completed \u001b[0m\u001b[37;40m          \u001b[0m\u001b[37;40m /ipfs/QmWAKGZ3rSDsY6... \u001b[0m\n",
            "\u001b[97;40m 09:20:24 \u001b[0m\u001b[97;40m f6143867 \u001b[0m\u001b[97;40m Docker ghcr.io/bacal... \u001b[0m\u001b[97;40m Completed \u001b[0m\u001b[97;40m          \u001b[0m\u001b[97;40m /ipfs/QmPfcKczWGWH4p... \u001b[0m\n",
            "\u001b[37;40m 09:20:23 \u001b[0m\u001b[37;40m ab73b414 \u001b[0m\u001b[37;40m Docker ghcr.io/bacal... \u001b[0m\u001b[37;40m Completed \u001b[0m\u001b[37;40m          \u001b[0m\u001b[37;40m /ipfs/QmPFjzJ7ZZnefs... \u001b[0m\n",
            "\u001b[97;40m 09:20:23 \u001b[0m\u001b[97;40m 44711531 \u001b[0m\u001b[97;40m Docker ghcr.io/bacal... \u001b[0m\u001b[97;40m Completed \u001b[0m\u001b[97;40m          \u001b[0m\u001b[97;40m /ipfs/QmNvk3hE8mULBd... \u001b[0m\n",
            "\u001b[37;40m 09:20:22 \u001b[0m\u001b[37;40m f421a3e8 \u001b[0m\u001b[37;40m Docker ghcr.io/bacal... \u001b[0m\u001b[37;40m Completed \u001b[0m\u001b[37;40m          \u001b[0m\u001b[37;40m /ipfs/QmWooZw9qMSMy1... \u001b[0m\n",
            "\u001b[97;40m 09:20:21 \u001b[0m\u001b[97;40m bc2c6361 \u001b[0m\u001b[97;40m Docker ghcr.io/bacal... \u001b[0m\u001b[97;40m Completed \u001b[0m\u001b[97;40m          \u001b[0m\u001b[97;40m /ipfs/QmPRuHPd1htJNr... \u001b[0m\n",
            "\u001b[37;40m 09:20:21 \u001b[0m\u001b[37;40m 3d396eed \u001b[0m\u001b[37;40m Docker ghcr.io/bacal... \u001b[0m\u001b[37;40m Completed \u001b[0m\u001b[37;40m          \u001b[0m\u001b[37;40m /ipfs/QmPPxMjvY4Tj5t... \u001b[0m\n",
            "\u001b[97;40m 09:20:20 \u001b[0m\u001b[97;40m 7cc6e343 \u001b[0m\u001b[97;40m Docker ghcr.io/bacal... \u001b[0m\u001b[97;40m Completed \u001b[0m\u001b[97;40m          \u001b[0m\u001b[97;40m /ipfs/QmaPQDQpaACyeX... \u001b[0m\n",
            "\u001b[37;40m 09:20:19 \u001b[0m\u001b[37;40m ce6a8215 \u001b[0m\u001b[37;40m Docker ghcr.io/bacal... \u001b[0m\u001b[37;40m Completed \u001b[0m\u001b[37;40m          \u001b[0m\u001b[37;40m /ipfs/QmWs9RzYBMGsZo... \u001b[0m\n",
            "\u001b[97;40m 09:20:19 \u001b[0m\u001b[97;40m 354c3482 \u001b[0m\u001b[97;40m Docker ghcr.io/bacal... \u001b[0m\u001b[97;40m Completed \u001b[0m\u001b[97;40m          \u001b[0m\u001b[97;40m /ipfs/QmRoAYAQtufUc7... \u001b[0m\n",
            "\u001b[37;40m 09:20:18 \u001b[0m\u001b[37;40m 93bcb94e \u001b[0m\u001b[37;40m Docker ghcr.io/bacal... \u001b[0m\u001b[37;40m Completed \u001b[0m\u001b[37;40m          \u001b[0m\u001b[37;40m /ipfs/QmRJ5jjUZ7jeoh... \u001b[0m\n",
            "\u001b[97;40m 09:20:17 \u001b[0m\u001b[97;40m 08cbab6e \u001b[0m\u001b[97;40m Docker ghcr.io/bacal... \u001b[0m\u001b[97;40m Completed \u001b[0m\u001b[97;40m          \u001b[0m\u001b[97;40m /ipfs/QmRGC8upqEejib... \u001b[0m\n",
            "\u001b[37;40m 09:20:16 \u001b[0m\u001b[37;40m d45365d4 \u001b[0m\u001b[37;40m Docker ghcr.io/bacal... \u001b[0m\u001b[37;40m Completed \u001b[0m\u001b[37;40m          \u001b[0m\u001b[37;40m /ipfs/QmU9FuJWEDWfZJ... \u001b[0m\n",
            "\u001b[97;40m 09:20:16 \u001b[0m\u001b[97;40m ecfdf8f8 \u001b[0m\u001b[97;40m Docker ghcr.io/bacal... \u001b[0m\u001b[97;40m Completed \u001b[0m\u001b[97;40m          \u001b[0m\u001b[97;40m /ipfs/QmWmiM83zF7HwC... \u001b[0m\n",
            "\u001b[37;40m 09:20:15 \u001b[0m\u001b[37;40m 31a43a56 \u001b[0m\u001b[37;40m Docker ghcr.io/bacal... \u001b[0m\u001b[37;40m Completed \u001b[0m\u001b[37;40m          \u001b[0m\u001b[37;40m /ipfs/QmPjfMpy1cK9Mf... \u001b[0m\n",
            "\u001b[97;40m 09:20:14 \u001b[0m\u001b[97;40m 32f97eaa \u001b[0m\u001b[97;40m Docker ghcr.io/bacal... \u001b[0m\u001b[97;40m Completed \u001b[0m\u001b[97;40m          \u001b[0m\u001b[97;40m /ipfs/QmXUc75sJqJFYJ... \u001b[0m\n",
            "\u001b[37;40m 09:20:14 \u001b[0m\u001b[37;40m 69bd1c82 \u001b[0m\u001b[37;40m Docker ghcr.io/bacal... \u001b[0m\u001b[37;40m Completed \u001b[0m\u001b[37;40m          \u001b[0m\u001b[37;40m /ipfs/Qma5gN7LGYeTC9... \u001b[0m\n",
            "\u001b[97;40m 09:20:13 \u001b[0m\u001b[97;40m c5baf5cc \u001b[0m\u001b[97;40m Docker ghcr.io/bacal... \u001b[0m\u001b[97;40m Completed \u001b[0m\u001b[97;40m          \u001b[0m\u001b[97;40m /ipfs/QmPVJEx3CGZYKW... \u001b[0m\n",
            "\u001b[37;40m 09:20:12 \u001b[0m\u001b[37;40m 9d05a2a4 \u001b[0m\u001b[37;40m Docker ghcr.io/bacal... \u001b[0m\u001b[37;40m Completed \u001b[0m\u001b[37;40m          \u001b[0m\u001b[37;40m /ipfs/QmNnPNY1K21345... \u001b[0m\n",
            "\u001b[97;40m 09:20:12 \u001b[0m\u001b[97;40m ca6b0fbf \u001b[0m\u001b[97;40m Docker ghcr.io/bacal... \u001b[0m\u001b[97;40m Completed \u001b[0m\u001b[97;40m          \u001b[0m\u001b[97;40m /ipfs/QmWj41DwL3iwH4... \u001b[0m\n",
            "\u001b[37;40m 09:20:11 \u001b[0m\u001b[37;40m ab919292 \u001b[0m\u001b[37;40m Docker ghcr.io/bacal... \u001b[0m\u001b[37;40m Completed \u001b[0m\u001b[37;40m          \u001b[0m\u001b[37;40m /ipfs/QmQwsvzpT9iKzQ... \u001b[0m\n"
          ]
        }
      ],
      "source": [
        "%%bash\n",
        "bacalhau list -n 50"
      ]
    },
    {
      "cell_type": "markdown",
      "metadata": {},
      "source": [
        "And then download all the results and merge them into a single directory. This might take a while, so this is a good time to treat yourself to a nice Dark Mild. There's also been some issues in the past communicating with IPFS, so if you get an error, try again."
      ]
    },
    {
      "cell_type": "code",
      "execution_count": 36,
      "metadata": {
        "tags": []
      },
      "outputs": [
        {
          "name": "stdout",
          "output_type": "stream",
          "text": [
            "Fetching results of job '7e7b9df1-4904-45f5-a392-1f99d1c3a4dd'...\n",
            "Results for job '7e7b9df1-4904-45f5-a392-1f99d1c3a4dd' have been written to...\n",
            "./results\n",
            "Fetching results of job 'e3e5f500-0ebe-4948-a1b8-80d7b42dd534'...\n",
            "Results for job 'e3e5f500-0ebe-4948-a1b8-80d7b42dd534' have been written to...\n",
            "./results\n",
            "Fetching results of job '56fd0c21-99d7-4bf5-8178-d171c91f8576'...\n",
            "Results for job '56fd0c21-99d7-4bf5-8178-d171c91f8576' have been written to...\n",
            "./results\n",
            "Fetching results of job 'd026ff34-7ecd-42e0-8431-52d9497e9eb6'...\n",
            "Results for job 'd026ff34-7ecd-42e0-8431-52d9497e9eb6' have been written to...\n",
            "./results\n",
            "Fetching results of job 'ab919292-74f3-493f-8d66-1f56c4afc819'...\n",
            "Results for job 'ab919292-74f3-493f-8d66-1f56c4afc819' have been written to...\n",
            "./results\n",
            "Fetching results of job 'ca6b0fbf-061d-4380-8c6e-faac5ec67a15'...\n",
            "Results for job 'ca6b0fbf-061d-4380-8c6e-faac5ec67a15' have been written to...\n",
            "./results\n",
            "Fetching results of job '9d05a2a4-9981-4763-8490-3b849eaa628b'...\n",
            "Results for job '9d05a2a4-9981-4763-8490-3b849eaa628b' have been written to...\n",
            "./results\n",
            "Fetching results of job 'c5baf5cc-3259-4acf-ba75-92e1cb2235bb'...\n",
            "Results for job 'c5baf5cc-3259-4acf-ba75-92e1cb2235bb' have been written to...\n",
            "./results\n",
            "Fetching results of job '32f97eaa-cad6-49f0-9b20-a2a1276980be'...\n",
            "Results for job '32f97eaa-cad6-49f0-9b20-a2a1276980be' have been written to...\n",
            "./results\n",
            "Fetching results of job '69bd1c82-1be7-4b1f-8ab0-d5d2bef19bb1'...\n",
            "Results for job '69bd1c82-1be7-4b1f-8ab0-d5d2bef19bb1' have been written to...\n",
            "./results\n",
            "Fetching results of job '31a43a56-fc31-4254-83b2-8fa8f8a6e542'...\n",
            "Results for job '31a43a56-fc31-4254-83b2-8fa8f8a6e542' have been written to...\n",
            "./results\n",
            "Fetching results of job 'ecfdf8f8-dbad-4447-a275-af8fceb6abfc'...\n",
            "Results for job 'ecfdf8f8-dbad-4447-a275-af8fceb6abfc' have been written to...\n",
            "./results\n",
            "Fetching results of job 'd45365d4-9cf3-4a24-9ae1-c8c8d8d5856f'...\n",
            "Results for job 'd45365d4-9cf3-4a24-9ae1-c8c8d8d5856f' have been written to...\n",
            "./results\n",
            "Fetching results of job '08cbab6e-88a4-4a20-bcd3-26e2c8f379a7'...\n",
            "Results for job '08cbab6e-88a4-4a20-bcd3-26e2c8f379a7' have been written to...\n",
            "./results\n",
            "Fetching results of job '93bcb94e-19a3-49ba-af18-ea6566515b93'...\n",
            "Results for job '93bcb94e-19a3-49ba-af18-ea6566515b93' have been written to...\n",
            "./results\n",
            "Fetching results of job 'ce6a8215-b5d4-4cb3-b4ac-e24ef1f84e1c'...\n",
            "Results for job 'ce6a8215-b5d4-4cb3-b4ac-e24ef1f84e1c' have been written to...\n",
            "./results\n",
            "Fetching results of job '354c3482-4f3a-4d56-b908-43bb8708450f'...\n",
            "Results for job '354c3482-4f3a-4d56-b908-43bb8708450f' have been written to...\n",
            "./results\n",
            "Fetching results of job '7cc6e343-2b97-4826-9b73-b5bd32019ffc'...\n",
            "Results for job '7cc6e343-2b97-4826-9b73-b5bd32019ffc' have been written to...\n",
            "./results\n",
            "Fetching results of job '3d396eed-abb4-47bc-a4dc-24647c619db9'...\n",
            "Results for job '3d396eed-abb4-47bc-a4dc-24647c619db9' have been written to...\n",
            "./results\n",
            "Fetching results of job 'bc2c6361-39dc-4970-8284-be1f7f011c66'...\n",
            "Results for job 'bc2c6361-39dc-4970-8284-be1f7f011c66' have been written to...\n",
            "./results\n",
            "Fetching results of job 'f421a3e8-009e-4205-898b-9811a78d6a36'...\n",
            "Results for job 'f421a3e8-009e-4205-898b-9811a78d6a36' have been written to...\n",
            "./results\n",
            "Fetching results of job 'ab73b414-edac-45f9-95e6-06a855629b23'...\n",
            "Results for job 'ab73b414-edac-45f9-95e6-06a855629b23' have been written to...\n",
            "./results\n",
            "Fetching results of job '44711531-3aff-4b65-9db9-9fc6d3948023'...\n",
            "Results for job '44711531-3aff-4b65-9db9-9fc6d3948023' have been written to...\n",
            "./results\n",
            "Fetching results of job 'f6143867-f2ab-4701-a85a-375f080bcd3d'...\n",
            "Results for job 'f6143867-f2ab-4701-a85a-375f080bcd3d' have been written to...\n",
            "./results\n",
            "Fetching results of job '6b8552f8-8505-4139-bb88-ab5e5e0b8cef'...\n",
            "Results for job '6b8552f8-8505-4139-bb88-ab5e5e0b8cef' have been written to...\n",
            "./results\n",
            "Fetching results of job 'd3e25508-7b28-4e83-be0d-be921dbfd7e9'...\n",
            "Error: error downloading job: failed to write to '/Users/phil/source/bacalhau-project/examples/data-engineering/blockchain-etl/results/raw/QmdKAxhWU527asddidm49w3CuX4hymR4RSrXGuuHpVAyiC': context deadline exceeded\n",
            "Usage:\n",
            "  bacalhau get [id] [flags]\n",
            "\n",
            "Examples:\n",
            "  # Get the results of a job.\n",
            "  bacalhau get 51225160-807e-48b8-88c9-28311c7899e1\n",
            "  \n",
            "  # Get the results of a job, with a short ID.\n",
            "  bacalhau get ebd9bf2f\n",
            "\n",
            "Flags:\n",
            "      --download-timeout-secs int   Timeout duration for IPFS downloads. (default 300)\n",
            "  -h, --help                        help for get\n",
            "      --ipfs-swarm-addrs string     Comma-separated list of IPFS nodes to connect to.\n",
            "      --output-dir string           Directory to write the output to.\n",
            "\n",
            "Global Flags:\n",
            "      --api-host string   The host for the client and server to communicate on (via REST).\n",
            "                          Ignored if BACALHAU_API_HOST environment variable is set. (default \"bootstrap.production.bacalhau.org\")\n",
            "      --api-port int      The port for the client and server to communicate on (via REST).\n",
            "                          Ignored if BACALHAU_API_PORT environment variable is set. (default 1234)\n",
            "\n",
            "error downloading job: failed to write to '/Users/phil/source/bacalhau-project/examples/data-engineering/blockchain-etl/results/raw/QmdKAxhWU527asddidm49w3CuX4hymR4RSrXGuuHpVAyiC': context deadline exceeded\n",
            "Fetching results of job '0f4dfdb6-bf13-41af-bc7a-e045ac360ba7'...\n",
            "Error: error downloading job: failed to get ipfs cid 'QmW6bdwq3xWp8dJmJ6SRdQK3wG8jqzEVUqh6zCog2ZzgHC': Post \"http://127.0.0.1:54194/api/v0/files/stat?arg=%2Fipfs%2FQmW6bdwq3xWp8dJmJ6SRdQK3wG8jqzEVUqh6zCog2ZzgHC\": context deadline exceeded\n",
            "Usage:\n",
            "  bacalhau get [id] [flags]\n",
            "\n",
            "Examples:\n",
            "  # Get the results of a job.\n",
            "  bacalhau get 51225160-807e-48b8-88c9-28311c7899e1\n",
            "  \n",
            "  # Get the results of a job, with a short ID.\n",
            "  bacalhau get ebd9bf2f\n",
            "\n",
            "Flags:\n",
            "      --download-timeout-secs int   Timeout duration for IPFS downloads. (default 300)\n",
            "  -h, --help                        help for get\n",
            "      --ipfs-swarm-addrs string     Comma-separated list of IPFS nodes to connect to.\n",
            "      --output-dir string           Directory to write the output to.\n",
            "\n",
            "Global Flags:\n",
            "      --api-host string   The host for the client and server to communicate on (via REST).\n",
            "                          Ignored if BACALHAU_API_HOST environment variable is set. (default \"bootstrap.production.bacalhau.org\")\n",
            "      --api-port int      The port for the client and server to communicate on (via REST).\n",
            "                          Ignored if BACALHAU_API_PORT environment variable is set. (default 1234)\n",
            "\n",
            "error downloading job: failed to get ipfs cid 'QmW6bdwq3xWp8dJmJ6SRdQK3wG8jqzEVUqh6zCog2ZzgHC': Post \"http://127.0.0.1:54194/api/v0/files/stat?arg=%2Fipfs%2FQmW6bdwq3xWp8dJmJ6SRdQK3wG8jqzEVUqh6zCog2ZzgHC\": context deadline exceeded\n",
            "Fetching results of job 'cc16970e-a5be-42f4-bec5-098acbe4d7d9'...\n",
            "Error: error downloading job: failed to get ipfs cid 'QmSVm6z4Z9MD5thPjo4yPKKYcerNTnLbyjniSvzD1PNr8m': Post \"http://127.0.0.1:62376/api/v0/files/stat?arg=%2Fipfs%2FQmSVm6z4Z9MD5thPjo4yPKKYcerNTnLbyjniSvzD1PNr8m\": context deadline exceeded\n",
            "Usage:\n",
            "  bacalhau get [id] [flags]\n",
            "\n",
            "Examples:\n",
            "  # Get the results of a job.\n",
            "  bacalhau get 51225160-807e-48b8-88c9-28311c7899e1\n",
            "  \n",
            "  # Get the results of a job, with a short ID.\n",
            "  bacalhau get ebd9bf2f\n",
            "\n",
            "Flags:\n",
            "      --download-timeout-secs int   Timeout duration for IPFS downloads. (default 300)\n",
            "  -h, --help                        help for get\n",
            "      --ipfs-swarm-addrs string     Comma-separated list of IPFS nodes to connect to.\n",
            "      --output-dir string           Directory to write the output to.\n",
            "\n",
            "Global Flags:\n",
            "      --api-host string   The host for the client and server to communicate on (via REST).\n",
            "                          Ignored if BACALHAU_API_HOST environment variable is set. (default \"bootstrap.production.bacalhau.org\")\n",
            "      --api-port int      The port for the client and server to communicate on (via REST).\n",
            "                          Ignored if BACALHAU_API_PORT environment variable is set. (default 1234)\n",
            "\n",
            "error downloading job: failed to get ipfs cid 'QmSVm6z4Z9MD5thPjo4yPKKYcerNTnLbyjniSvzD1PNr8m': Post \"http://127.0.0.1:62376/api/v0/files/stat?arg=%2Fipfs%2FQmSVm6z4Z9MD5thPjo4yPKKYcerNTnLbyjniSvzD1PNr8m\": context deadline exceeded\n",
            "Fetching results of job '37819801-f09b-4d3c-86ce-070a4f8c37a3'...\n",
            "Error: error downloading job: failed to get ipfs cid 'QmUG36RPRZXdop76dXcgiyW2mxeYkARapRmeAh6EcTHP81': Post \"http://127.0.0.1:51957/api/v0/files/stat?arg=%2Fipfs%2FQmUG36RPRZXdop76dXcgiyW2mxeYkARapRmeAh6EcTHP81\": context deadline exceeded\n",
            "Usage:\n",
            "  bacalhau get [id] [flags]\n",
            "\n",
            "Examples:\n",
            "  # Get the results of a job.\n",
            "  bacalhau get 51225160-807e-48b8-88c9-28311c7899e1\n",
            "  \n",
            "  # Get the results of a job, with a short ID.\n",
            "  bacalhau get ebd9bf2f\n",
            "\n",
            "Flags:\n",
            "      --download-timeout-secs int   Timeout duration for IPFS downloads. (default 300)\n",
            "  -h, --help                        help for get\n",
            "      --ipfs-swarm-addrs string     Comma-separated list of IPFS nodes to connect to.\n",
            "      --output-dir string           Directory to write the output to.\n",
            "\n",
            "Global Flags:\n",
            "      --api-host string   The host for the client and server to communicate on (via REST).\n",
            "                          Ignored if BACALHAU_API_HOST environment variable is set. (default \"bootstrap.production.bacalhau.org\")\n",
            "      --api-port int      The port for the client and server to communicate on (via REST).\n",
            "                          Ignored if BACALHAU_API_PORT environment variable is set. (default 1234)\n",
            "\n",
            "error downloading job: failed to get ipfs cid 'QmUG36RPRZXdop76dXcgiyW2mxeYkARapRmeAh6EcTHP81': Post \"http://127.0.0.1:51957/api/v0/files/stat?arg=%2Fipfs%2FQmUG36RPRZXdop76dXcgiyW2mxeYkARapRmeAh6EcTHP81\": context deadline exceeded\n",
            "Fetching results of job 'd55cc9e7-9e33-4485-9137-2b5c7e1e831a'...\n",
            "Results for job 'd55cc9e7-9e33-4485-9137-2b5c7e1e831a' have been written to...\n",
            "./results\n",
            "Fetching results of job '8313e946-e587-468a-83e1-e464138d3935'...\n",
            "Results for job '8313e946-e587-468a-83e1-e464138d3935' have been written to...\n",
            "./results\n",
            "Fetching results of job '65681fa0-44ee-46a4-ab46-6db705d1d318'...\n",
            "Results for job '65681fa0-44ee-46a4-ab46-6db705d1d318' have been written to...\n",
            "./results\n",
            "Fetching results of job 'c164e617-01a9-4967-ac29-f2c5e2ddeb3f'...\n",
            "Results for job 'c164e617-01a9-4967-ac29-f2c5e2ddeb3f' have been written to...\n",
            "./results\n",
            "Fetching results of job '0e0b5e9b-d467-41f6-965e-249f06e7a32b'...\n",
            "Results for job '0e0b5e9b-d467-41f6-965e-249f06e7a32b' have been written to...\n",
            "./results\n",
            "Fetching results of job 'eb733f15-a129-499e-a59c-8eaba0dd68cc'...\n",
            "Results for job 'eb733f15-a129-499e-a59c-8eaba0dd68cc' have been written to...\n",
            "./results\n",
            "Fetching results of job 'fcf637d3-1817-4a99-9884-9db568e4d18d'...\n",
            "Results for job 'fcf637d3-1817-4a99-9884-9db568e4d18d' have been written to...\n",
            "./results\n",
            "Fetching results of job 'e9450225-c2fb-47ea-b735-ebbde28bdd33'...\n",
            "Error: error downloading job: failed to get ipfs cid 'QmSraHbxuprHTk92AXppyokhRmcbUwUziDJYvueGva8SQr': Post \"http://127.0.0.1:51682/api/v0/files/stat?arg=%2Fipfs%2FQmSraHbxuprHTk92AXppyokhRmcbUwUziDJYvueGva8SQr\": context deadline exceeded\n",
            "Usage:\n",
            "  bacalhau get [id] [flags]\n",
            "\n",
            "Examples:\n",
            "  # Get the results of a job.\n",
            "  bacalhau get 51225160-807e-48b8-88c9-28311c7899e1\n",
            "  \n",
            "  # Get the results of a job, with a short ID.\n",
            "  bacalhau get ebd9bf2f\n",
            "\n",
            "Flags:\n",
            "      --download-timeout-secs int   Timeout duration for IPFS downloads. (default 300)\n",
            "  -h, --help                        help for get\n",
            "      --ipfs-swarm-addrs string     Comma-separated list of IPFS nodes to connect to.\n",
            "      --output-dir string           Directory to write the output to.\n",
            "\n",
            "Global Flags:\n",
            "      --api-host string   The host for the client and server to communicate on (via REST).\n",
            "                          Ignored if BACALHAU_API_HOST environment variable is set. (default \"bootstrap.production.bacalhau.org\")\n",
            "      --api-port int      The port for the client and server to communicate on (via REST).\n",
            "                          Ignored if BACALHAU_API_PORT environment variable is set. (default 1234)\n",
            "\n",
            "error downloading job: failed to get ipfs cid 'QmSraHbxuprHTk92AXppyokhRmcbUwUziDJYvueGva8SQr': Post \"http://127.0.0.1:51682/api/v0/files/stat?arg=%2Fipfs%2FQmSraHbxuprHTk92AXppyokhRmcbUwUziDJYvueGva8SQr\": context deadline exceeded\n",
            "Fetching results of job '2183006a-3992-4c7f-9200-c4c4e0cd69ab'...\n",
            "Error: error downloading job: failed to get ipfs cid 'QmR81jwpXVFJ6tLtgyokdfcVCJpZGfLjqjHvzo9ZG5UuWg': Post \"http://127.0.0.1:60329/api/v0/files/stat?arg=%2Fipfs%2FQmR81jwpXVFJ6tLtgyokdfcVCJpZGfLjqjHvzo9ZG5UuWg\": context deadline exceeded\n",
            "Usage:\n",
            "  bacalhau get [id] [flags]\n",
            "\n",
            "Examples:\n",
            "  # Get the results of a job.\n",
            "  bacalhau get 51225160-807e-48b8-88c9-28311c7899e1\n",
            "  \n",
            "  # Get the results of a job, with a short ID.\n",
            "  bacalhau get ebd9bf2f\n",
            "\n",
            "Flags:\n",
            "      --download-timeout-secs int   Timeout duration for IPFS downloads. (default 300)\n",
            "  -h, --help                        help for get\n",
            "      --ipfs-swarm-addrs string     Comma-separated list of IPFS nodes to connect to.\n",
            "      --output-dir string           Directory to write the output to.\n",
            "\n",
            "Global Flags:\n",
            "      --api-host string   The host for the client and server to communicate on (via REST).\n",
            "                          Ignored if BACALHAU_API_HOST environment variable is set. (default \"bootstrap.production.bacalhau.org\")\n",
            "      --api-port int      The port for the client and server to communicate on (via REST).\n",
            "                          Ignored if BACALHAU_API_PORT environment variable is set. (default 1234)\n",
            "\n",
            "error downloading job: failed to get ipfs cid 'QmR81jwpXVFJ6tLtgyokdfcVCJpZGfLjqjHvzo9ZG5UuWg': Post \"http://127.0.0.1:60329/api/v0/files/stat?arg=%2Fipfs%2FQmR81jwpXVFJ6tLtgyokdfcVCJpZGfLjqjHvzo9ZG5UuWg\": context deadline exceeded\n",
            "Fetching results of job 'f86f2507-d408-4b70-8cdb-47f3ff2083a2'...\n",
            "Results for job 'f86f2507-d408-4b70-8cdb-47f3ff2083a2' have been written to...\n",
            "./results\n",
            "Fetching results of job 'cb0670d4-eaa5-4181-808d-3bc92da9b4b8'...\n",
            "Results for job 'cb0670d4-eaa5-4181-808d-3bc92da9b4b8' have been written to...\n",
            "./results\n",
            "Fetching results of job '868707f5-dfdc-48e3-ab44-f4d450922a0d'...\n",
            "Error: error downloading job: failed to get ipfs cid 'QmRUjZFGXqAiEHVKNCbqpK5j6NE9MP8Jr3M35UuBiMtYZ5': Post \"http://127.0.0.1:51117/api/v0/files/stat?arg=%2Fipfs%2FQmRUjZFGXqAiEHVKNCbqpK5j6NE9MP8Jr3M35UuBiMtYZ5\": context deadline exceeded\n",
            "Usage:\n",
            "  bacalhau get [id] [flags]\n",
            "\n",
            "Examples:\n",
            "  # Get the results of a job.\n",
            "  bacalhau get 51225160-807e-48b8-88c9-28311c7899e1\n",
            "  \n",
            "  # Get the results of a job, with a short ID.\n",
            "  bacalhau get ebd9bf2f\n",
            "\n",
            "Flags:\n",
            "      --download-timeout-secs int   Timeout duration for IPFS downloads. (default 300)\n",
            "  -h, --help                        help for get\n",
            "      --ipfs-swarm-addrs string     Comma-separated list of IPFS nodes to connect to.\n",
            "      --output-dir string           Directory to write the output to.\n",
            "\n",
            "Global Flags:\n",
            "      --api-host string   The host for the client and server to communicate on (via REST).\n",
            "                          Ignored if BACALHAU_API_HOST environment variable is set. (default \"bootstrap.production.bacalhau.org\")\n",
            "      --api-port int      The port for the client and server to communicate on (via REST).\n",
            "                          Ignored if BACALHAU_API_PORT environment variable is set. (default 1234)\n",
            "\n",
            "error downloading job: failed to get ipfs cid 'QmRUjZFGXqAiEHVKNCbqpK5j6NE9MP8Jr3M35UuBiMtYZ5': Post \"http://127.0.0.1:51117/api/v0/files/stat?arg=%2Fipfs%2FQmRUjZFGXqAiEHVKNCbqpK5j6NE9MP8Jr3M35UuBiMtYZ5\": context deadline exceeded\n",
            "Fetching results of job '2dfc0ce6-d685-424b-95ff-921ad5da0812'...\n",
            "Results for job '2dfc0ce6-d685-424b-95ff-921ad5da0812' have been written to...\n",
            "./results\n",
            "Fetching results of job 'd034fd07-e7fb-41c7-b8d3-5c9b1ea01fad'...\n",
            "Error: error downloading job: failed to get ipfs cid 'QmRYZiQrdPZoXfdCmHXqSzn4X9pCuhWhSTbELR6UBu9wt8': Post \"http://127.0.0.1:56199/api/v0/files/stat?arg=%2Fipfs%2FQmRYZiQrdPZoXfdCmHXqSzn4X9pCuhWhSTbELR6UBu9wt8\": context deadline exceeded\n",
            "Usage:\n",
            "  bacalhau get [id] [flags]\n",
            "\n",
            "Examples:\n",
            "  # Get the results of a job.\n",
            "  bacalhau get 51225160-807e-48b8-88c9-28311c7899e1\n",
            "  \n",
            "  # Get the results of a job, with a short ID.\n",
            "  bacalhau get ebd9bf2f\n",
            "\n",
            "Flags:\n",
            "      --download-timeout-secs int   Timeout duration for IPFS downloads. (default 300)\n",
            "  -h, --help                        help for get\n",
            "      --ipfs-swarm-addrs string     Comma-separated list of IPFS nodes to connect to.\n",
            "      --output-dir string           Directory to write the output to.\n",
            "\n",
            "Global Flags:\n",
            "      --api-host string   The host for the client and server to communicate on (via REST).\n",
            "                          Ignored if BACALHAU_API_HOST environment variable is set. (default \"bootstrap.production.bacalhau.org\")\n",
            "      --api-port int      The port for the client and server to communicate on (via REST).\n",
            "                          Ignored if BACALHAU_API_PORT environment variable is set. (default 1234)\n",
            "\n",
            "error downloading job: failed to get ipfs cid 'QmRYZiQrdPZoXfdCmHXqSzn4X9pCuhWhSTbELR6UBu9wt8': Post \"http://127.0.0.1:56199/api/v0/files/stat?arg=%2Fipfs%2FQmRYZiQrdPZoXfdCmHXqSzn4X9pCuhWhSTbELR6UBu9wt8\": context deadline exceeded\n",
            "Fetching results of job '3e40318b-ba7a-4d67-9dfb-217e4776c62a'...\n",
            "Results for job '3e40318b-ba7a-4d67-9dfb-217e4776c62a' have been written to...\n",
            "./results\n",
            "Fetching results of job 'a2e17933-5eb5-4866-bb01-a88fb9429608'...\n",
            "Results for job 'a2e17933-5eb5-4866-bb01-a88fb9429608' have been written to...\n",
            "./results\n",
            "Fetching results of job 'd1407c23-a485-43a3-87cf-9aeb28e656bf'...\n",
            "Results for job 'd1407c23-a485-43a3-87cf-9aeb28e656bf' have been written to...\n",
            "./results\n",
            "Fetching results of job '55ef4899-03af-4667-8c93-d00c01d8d657'...\n",
            "Results for job '55ef4899-03af-4667-8c93-d00c01d8d657' have been written to...\n",
            "./results\n",
            "Fetching results of job '7085672f-0571-4a41-b5f7-a983fda9e2b1'...\n",
            "Results for job '7085672f-0571-4a41-b5f7-a983fda9e2b1' have been written to...\n",
            "./results\n",
            "Fetching results of job '1ba46518-bf45-45e5-afa6-928844f98e5f'...\n",
            "Error: error downloading job: failed to get ipfs cid 'QmWxxBym5RssaiTajR4qzLA4tgDpXQMGRutqSkZe6ZGzN8': Post \"http://127.0.0.1:63102/api/v0/files/stat?arg=%2Fipfs%2FQmWxxBym5RssaiTajR4qzLA4tgDpXQMGRutqSkZe6ZGzN8\": context deadline exceeded\n",
            "Usage:\n",
            "  bacalhau get [id] [flags]\n",
            "\n",
            "Examples:\n",
            "  # Get the results of a job.\n",
            "  bacalhau get 51225160-807e-48b8-88c9-28311c7899e1\n",
            "  \n",
            "  # Get the results of a job, with a short ID.\n",
            "  bacalhau get ebd9bf2f\n",
            "\n",
            "Flags:\n",
            "      --download-timeout-secs int   Timeout duration for IPFS downloads. (default 300)\n",
            "  -h, --help                        help for get\n",
            "      --ipfs-swarm-addrs string     Comma-separated list of IPFS nodes to connect to.\n",
            "      --output-dir string           Directory to write the output to.\n",
            "\n",
            "Global Flags:\n",
            "      --api-host string   The host for the client and server to communicate on (via REST).\n",
            "                          Ignored if BACALHAU_API_HOST environment variable is set. (default \"bootstrap.production.bacalhau.org\")\n",
            "      --api-port int      The port for the client and server to communicate on (via REST).\n",
            "                          Ignored if BACALHAU_API_PORT environment variable is set. (default 1234)\n",
            "\n",
            "error downloading job: failed to get ipfs cid 'QmWxxBym5RssaiTajR4qzLA4tgDpXQMGRutqSkZe6ZGzN8': Post \"http://127.0.0.1:63102/api/v0/files/stat?arg=%2Fipfs%2FQmWxxBym5RssaiTajR4qzLA4tgDpXQMGRutqSkZe6ZGzN8\": context deadline exceeded\n",
            "Fetching results of job 'ede7c3a2-3cf1-4d08-abe3-278f55d0c27e'...\n",
            "Error: error downloading job: failed to get ipfs cid 'QmVHcd4HrnhALbJSR8BvPjpkv5RGzaxeitCosa1fwp6Mfy': Post \"http://127.0.0.1:53669/api/v0/files/stat?arg=%2Fipfs%2FQmVHcd4HrnhALbJSR8BvPjpkv5RGzaxeitCosa1fwp6Mfy\": context deadline exceeded\n",
            "Usage:\n",
            "  bacalhau get [id] [flags]\n",
            "\n",
            "Examples:\n",
            "  # Get the results of a job.\n",
            "  bacalhau get 51225160-807e-48b8-88c9-28311c7899e1\n",
            "  \n",
            "  # Get the results of a job, with a short ID.\n",
            "  bacalhau get ebd9bf2f\n",
            "\n",
            "Flags:\n",
            "      --download-timeout-secs int   Timeout duration for IPFS downloads. (default 300)\n",
            "  -h, --help                        help for get\n",
            "      --ipfs-swarm-addrs string     Comma-separated list of IPFS nodes to connect to.\n",
            "      --output-dir string           Directory to write the output to.\n",
            "\n",
            "Global Flags:\n",
            "      --api-host string   The host for the client and server to communicate on (via REST).\n",
            "                          Ignored if BACALHAU_API_HOST environment variable is set. (default \"bootstrap.production.bacalhau.org\")\n",
            "      --api-port int      The port for the client and server to communicate on (via REST).\n",
            "                          Ignored if BACALHAU_API_PORT environment variable is set. (default 1234)\n",
            "\n",
            "error downloading job: failed to get ipfs cid 'QmVHcd4HrnhALbJSR8BvPjpkv5RGzaxeitCosa1fwp6Mfy': Post \"http://127.0.0.1:53669/api/v0/files/stat?arg=%2Fipfs%2FQmVHcd4HrnhALbJSR8BvPjpkv5RGzaxeitCosa1fwp6Mfy\": context deadline exceeded\n",
            "Fetching results of job '7aa140ab-79c6-452f-a3f6-19035e7187cd'...\n",
            "Error: error downloading job: failed to get ipfs cid 'QmQahTAxdLWxCCH77GwwwAvCtLz8PZ4V1zD3aKGD2cbrBM': Post \"http://127.0.0.1:59035/api/v0/files/stat?arg=%2Fipfs%2FQmQahTAxdLWxCCH77GwwwAvCtLz8PZ4V1zD3aKGD2cbrBM\": context deadline exceeded\n",
            "Usage:\n",
            "  bacalhau get [id] [flags]\n",
            "\n",
            "Examples:\n",
            "  # Get the results of a job.\n",
            "  bacalhau get 51225160-807e-48b8-88c9-28311c7899e1\n",
            "  \n",
            "  # Get the results of a job, with a short ID.\n",
            "  bacalhau get ebd9bf2f\n",
            "\n",
            "Flags:\n",
            "      --download-timeout-secs int   Timeout duration for IPFS downloads. (default 300)\n",
            "  -h, --help                        help for get\n",
            "      --ipfs-swarm-addrs string     Comma-separated list of IPFS nodes to connect to.\n",
            "      --output-dir string           Directory to write the output to.\n",
            "\n",
            "Global Flags:\n",
            "      --api-host string   The host for the client and server to communicate on (via REST).\n",
            "                          Ignored if BACALHAU_API_HOST environment variable is set. (default \"bootstrap.production.bacalhau.org\")\n",
            "      --api-port int      The port for the client and server to communicate on (via REST).\n",
            "                          Ignored if BACALHAU_API_PORT environment variable is set. (default 1234)\n",
            "\n",
            "error downloading job: failed to get ipfs cid 'QmQahTAxdLWxCCH77GwwwAvCtLz8PZ4V1zD3aKGD2cbrBM': Post \"http://127.0.0.1:59035/api/v0/files/stat?arg=%2Fipfs%2FQmQahTAxdLWxCCH77GwwwAvCtLz8PZ4V1zD3aKGD2cbrBM\": context deadline exceeded\n",
            "Fetching results of job '31787f8f-a566-4b2f-b3f4-91390d3bea68'...\n",
            "Error: error downloading job: failed to get ipfs cid 'QmXtbqVopAhc7DWZNrnDKEB7zfJ3gfdHytSFGSGaX9HS8i': Post \"http://127.0.0.1:64785/api/v0/files/stat?arg=%2Fipfs%2FQmXtbqVopAhc7DWZNrnDKEB7zfJ3gfdHytSFGSGaX9HS8i\": context deadline exceeded\n",
            "Usage:\n",
            "  bacalhau get [id] [flags]\n",
            "\n",
            "Examples:\n",
            "  # Get the results of a job.\n",
            "  bacalhau get 51225160-807e-48b8-88c9-28311c7899e1\n",
            "  \n",
            "  # Get the results of a job, with a short ID.\n",
            "  bacalhau get ebd9bf2f\n",
            "\n",
            "Flags:\n",
            "      --download-timeout-secs int   Timeout duration for IPFS downloads. (default 300)\n",
            "  -h, --help                        help for get\n",
            "      --ipfs-swarm-addrs string     Comma-separated list of IPFS nodes to connect to.\n",
            "      --output-dir string           Directory to write the output to.\n",
            "\n",
            "Global Flags:\n",
            "      --api-host string   The host for the client and server to communicate on (via REST).\n",
            "                          Ignored if BACALHAU_API_HOST environment variable is set. (default \"bootstrap.production.bacalhau.org\")\n",
            "      --api-port int      The port for the client and server to communicate on (via REST).\n",
            "                          Ignored if BACALHAU_API_PORT environment variable is set. (default 1234)\n",
            "\n",
            "error downloading job: failed to get ipfs cid 'QmXtbqVopAhc7DWZNrnDKEB7zfJ3gfdHytSFGSGaX9HS8i': Post \"http://127.0.0.1:64785/api/v0/files/stat?arg=%2Fipfs%2FQmXtbqVopAhc7DWZNrnDKEB7zfJ3gfdHytSFGSGaX9HS8i\": context deadline exceeded\n",
            "Fetching results of job 'b167a9f3-1c5f-40e8-b7c5-e864221deab9'...\n",
            "Results for job 'b167a9f3-1c5f-40e8-b7c5-e864221deab9' have been written to...\n",
            "./results\n",
            "Fetching results of job 'adab8249-2fb8-49b4-bc01-faac00810a26'...\n",
            "Results for job 'adab8249-2fb8-49b4-bc01-faac00810a26' have been written to...\n",
            "./results\n"
          ]
        },
        {
          "name": "stderr",
          "output_type": "stream",
          "text": [
            "2022/11/22 09:22:31 CleanupManager.fnsMutex violation CRITICAL section took 20.054ms 20054000 (threshold 10ms)\n",
            "2022/11/22 09:25:46 CleanupManager.fnsMutex violation CRITICAL section took 19.095ms 19095000 (threshold 10ms)\n",
            "2022/11/22 09:28:03 CleanupManager.fnsMutex violation CRITICAL section took 19.208ms 19208000 (threshold 10ms)\n",
            "cp: cannot stat 'results/combined_results/outputs/*': No such file or directory\n",
            "cp: cannot stat 'results/combined_results/outputs/*': No such file or directory\n",
            "cp: cannot stat 'results/combined_results/outputs/*': No such file or directory\n",
            "cp: cannot stat 'results/combined_results/outputs/*': No such file or directory\n",
            "2022/11/22 09:48:21 CleanupManager.fnsMutex violation CRITICAL section took 19.451ms 19451000 (threshold 10ms)\n",
            "09:49:41.718 | ??? providerquerymanager/providerquerymanager.go:344 > ERROR bitswap Received provider (12D3KooWGE4R98vokeLsRVdTv8D6jhMnifo81mm7NMRV8WJPNVHb) for cid (QmfV7e9iVDbSg6uLQFypUiMc2DH23PKuPBWcwZMmHYGQ2L) not requested\n",
            "\n",
            "2022/11/22 09:49:42 CleanupManager.fnsMutex violation CRITICAL section took 19.284ms 19284000 (threshold 10ms)\n",
            "cp: cannot stat 'results/combined_results/outputs/*': No such file or directory\n",
            "cp: cannot stat 'results/combined_results/outputs/*': No such file or directory\n",
            "2022/11/22 10:00:56 CleanupManager.fnsMutex violation CRITICAL section took 19.428ms 19428000 (threshold 10ms)\n",
            "cp: cannot stat 'results/combined_results/outputs/*': No such file or directory\n",
            "2022/11/22 10:06:02 CleanupManager.fnsMutex violation CRITICAL section took 20.031ms 20031000 (threshold 10ms)\n",
            "cp: cannot stat 'results/combined_results/outputs/*': No such file or directory\n",
            "2022/11/22 10:11:08 CleanupManager.fnsMutex violation CRITICAL section took 19.805ms 19805000 (threshold 10ms)\n",
            "2022/11/22 10:11:25 CleanupManager.fnsMutex violation CRITICAL section took 20.092ms 20092000 (threshold 10ms)\n",
            "cp: cannot stat 'results/combined_results/outputs/*': No such file or directory\n",
            "cp: cannot stat 'results/combined_results/outputs/*': No such file or directory\n",
            "cp: cannot stat 'results/combined_results/outputs/*': No such file or directory\n",
            "cp: cannot stat 'results/combined_results/outputs/*': No such file or directory\n",
            "2022/11/22 10:31:40 CleanupManager.fnsMutex violation CRITICAL section took 19.283ms 19283000 (threshold 10ms)\n"
          ]
        }
      ],
      "source": [
        "%%bash\n",
        "rm -rf ./combined_results && mkdir -p ./combined_results\n",
        "for id in $(cat job_ids.txt); do \\\n",
        "    rm -rf results && mkdir results\n",
        "    bacalhau get --output-dir ./results $id\n",
        "    cp results/combined_results/outputs/* ./combined_results\n",
        "done"
      ]
    },
    {
      "cell_type": "code",
      "execution_count": 43,
      "metadata": {
        "tags": []
      },
      "outputs": [
        {
          "data": {
            "text/plain": [
              "<AxesSubplot:xlabel='block_datetime'>"
            ]
          },
          "execution_count": 43,
          "metadata": {},
          "output_type": "execute_result"
        },
        {
          "data": {
            "image/png": "[encoded data removed]",
            "text/plain": [
              "<Figure size 1152x648 with 1 Axes>"
            ]
          },
          "metadata": {
            "needs_background": "light"
          },
          "output_type": "display_data"
        }
      ],
      "source": [
        "import os, glob\n",
        "import pandas as pd\n",
        "\n",
        "# Get CSV files list from a folder\n",
        "path = os.path.join(\"combined_results\", \"*.csv\")\n",
        "csv_files = glob.glob(path)\n",
        "\n",
        "# Read each CSV file into a list of DataFrames\n",
        "df_list = (pd.read_csv(file, index_col='block_datetime') for file in csv_files)\n",
        "\n",
        "# Concatenate all DataFrames\n",
        "df_unsorted = pd.concat(df_list, ignore_index=False)\n",
        "\n",
        "# Some files will cross days, so group by day and sum the values\n",
        "df = df_unsorted.groupby(level=0).sum()\n",
        "\n",
        "# Plot\n",
        "df.plot(figsize=(16,9))"
      ]
    },
    {
      "cell_type": "markdown",
      "metadata": {},
      "source": [
        "That's it! There is several years of Ethereum transaction volume data."
      ]
    },
    {
      "cell_type": "markdown",
      "metadata": {},
      "source": [
        "## Appendix 1: List Ethereum Data CIDs \n",
        "\n",
        "The following list is a list of IPFS CID's for the Ethereum data that we used in this tutorial. You can use these CID's to download the rest of the chain if you so desire. The CIDs are ordered by block number and they increase 50,000 blocks at a time. Here's a list of ordered CIDs:"
      ]
    },
    {
      "cell_type": "code",
      "execution_count": 31,
      "metadata": {
        "tags": []
      },
      "outputs": [
        {
          "name": "stdout",
          "output_type": "stream",
          "text": [
            "Overwriting hashes.txt\n"
          ]
        }
      ],
      "source": [
        "%%writefile hashes.txt\n",
        "bafybeihvtzberlxrsz4lvzrzvpbanujmab3hr5okhxtbgv2zvonqos2l3i\n",
        "bafybeifb25fgxrzu45lsc47gldttomycqcsao22xa2gtk2ijbsa5muzegq\n",
        "bafybeig4wwwhs63ly6wbehwd7tydjjtnw425yvi2tlzt3aii3pfcj6hvoq\n",
        "bafybeievpb5q372q3w5fsezflij3wlpx6thdliz5xowimunoqushn3cwka\n",
        "bafybeih6te26iwf5kzzby2wqp67m7a5pmwilwzaciii3zipvhy64utikre\n",
        "bafybeicjd4545xph6rcyoc74wvzxyaz2vftapap64iqsp5ky6nz3f5yndm\n",
        "bafybeicgo3iofo3sw73wenc3nkdhi263yytjnds5cxjwvypwekbz4sk7ra\n",
        "bafybeihvep5xsvxm44lngmmeysihsopcuvcr34an4idz45ixl5slsqzy3y\n",
        "bafybeigmt2zwzrbzwb4q2kt2ihlv34ntjjwujftvabrftyccwzwdypama4\n",
        "bafybeiciwui7sw3zqkvp4d55p4woq4xgjlstrp3mzxl66ab5ih5vmeozci\n",
        "bafybeicpmotdsj2ambf666b2jkzp2gvg6tadr6acxqw2tmdlmsruuggbbu\n",
        "bafybeigefo3esovbveavllgv5wiheu5w6cnfo72jxe6vmfweco5eq5sfty\n",
        "bafybeigvajsumnfwuv7lp7yhr2sr5vrk3bmmuhhnaz53waa2jqv3kgkvsu\n",
        "bafybeih2xg2n7ytlunvqxwqlqo5l3daykuykyvhgehoa2arot6dmorstmq\n",
        "bafybeihnmq2ltuolnlthb757teihwvvw7wophoag2ihnva43afbeqdtgi4\n",
        "bafybeibb34hzu6z2xgo6nhrplt3xntpnucthqlawe3pmzgxccppbxrpudy\n",
        "bafybeigny33b4g6gf2hrqzzkfbroprqrimjl5gmb3mnsqu655pbbny6tou\n",
        "bafybeifgqjvmzbtz427bne7af5tbndmvniabaex77us6l637gqtb2iwlwq\n",
        "bafybeibryqj62l45pxjhdyvgdc44p3suhvt4xdqc5jpx474gpykxwgnw2e\n",
        "bafybeidme3fkigdjaifkjfbwn76jk3fcqdogpzebtotce6ygphlujaecla\n",
        "bafybeig7myc3eg3h2g5mk2co7ybte4qsuremflrjneer6xk3pghjwmcwbi\n",
        "bafybeic3x2r5rrd3fdpdqeqax4bszcciwepvbpjl7xdv6mkwubyqizw5te\n",
        "bafybeihxutvxg3bw7fbwohq4gvncrk3hngkisrtkp52cu7qu7tfcuvktnq\n",
        "bafybeicumr67jkyarg5lspqi2w4zqopvgii5dgdbe5vtbbq53mbyftduxy\n",
        "bafybeiecn2cdvefvdlczhz6i4afbkabf5pe5yqrcsgdvlw5smme2tw7em4\n",
        "bafybeiaxh7dhg4krgkil5wqrv5kdsc3oewwy6ym4n3545ipmzqmxaxrqf4\n",
        "bafybeiclcqfzinrmo3adr4lg7sf255faioxjfsolcdko3i4x7opx7xrqii\n",
        "bafybeicjmeul7c2dxhmaudawum4ziwfgfkvbgthgtliggfut5tsc77dx7q\n",
        "bafybeialziupik7csmhfxnhuss5vrw37kmte7rmboqovp4cpq5hj4insda\n",
        "bafybeid7ecwdrw7pb3fnkokq5adybum6s5ok3yi2lw4m3edjpuy65zm4ji\n",
        "bafybeibuxwnl5ogs4pwa32xriqhch24zbrw44rp22hrly4t6roh6rz7j4m\n",
        "bafybeicxvy47jpvv3fi5umjatem5pxabfrbkzxiho7efu6mpidjpatte54\n",
        "bafybeifynb4mpqrbsjbeqtxpbuf6y4frrtjrc4tm7cnmmui7gbjkckszrq\n",
        "bafybeidcgnbhguyfaahkoqbyy2z525d3qfzdtbjuk4e75wkdbnkcafvjei\n",
        "bafybeiefc67s6hpydnsqdgypbunroqwkij5j26sfmc7are7yxvg45uuh7i\n",
        "bafybeiefwjy3o42ovkssnm7iihbog46k5grk3gobvvkzrqvof7p6xbgowi\n",
        "bafybeihpydd3ivtza2ql5clatm5fy7ocych7t4czu46sbc6c2ykrbwk5uu\n",
        "bafybeiet7222lqfmzogur3zlxqavlnd3lt3qryw5yi5rhuiqeqg4w7c3qu\n",
        "bafybeihwomd4ygoydvj5kh24wfwk5kszmst5vz44zkl6yibjargttv7sly\n",
        "bafybeidbjt2ckr4oooio3jsfk76r3bsaza5trjvt7u36slhha5ksoc5gv4\n",
        "bafybeifyjrmopgtfmswq7b4pfscni46doy3g3z6vi5rrgpozc6duebpmuy\n",
        "bafybeidsrowz46yt62zs64q2mhirlc3rsmctmi3tluorsts53vppdqjj7e\n",
        "bafybeiggntql57bw24bw6hkp2yqd3qlyp5oxowo6q26wsshxopfdnzsxhq\n",
        "bafybeidguz36u6wakx4e5ewuhslsfsjmk5eff5q7un2vpkrcu7cg5aaqf4\n",
        "bafybeiaypwu2b45iunbqnfk2g7bku3nfqveuqp4vlmmwj7o7liyys42uai\n",
        "bafybeicaahv7xvia7xojgiecljo2ddrvryzh2af7rb3qqbg5a257da5p2y\n",
        "bafybeibgeiijr74rcliwal3e7tujybigzqr6jmtchqrcjdo75trm2ptb4e\n",
        "bafybeiba3nrd43ylnedipuq2uoowd4blghpw2z7r4agondfinladcsxlku\n",
        "bafybeif3semzitjbxg5lzwmnjmlsrvc7y5htekwqtnhmfi4wxywtj5lgoe\n",
        "bafybeiedmsig5uj7rgarsjans2ad5kcb4w4g5iurbryqn62jy5qap4qq2a\n",
        "bafybeidyz34bcd3k6nxl7jbjjgceg5eu3szbrbgusnyn7vfl7facpecsce\n",
        "bafybeigmq5gch72q3qpk4nipssh7g7msk6jpzns2d6xmpusahkt2lu5m4y\n",
        "bafybeicjzoypdmmdt6k54wzotr5xhpzwbgd3c4oqg6mj4qukgvxvdrvzye\n",
        "bafybeien55egngdpfvrsxr2jmkewdyha72ju7qaaeiydz2f5rny7drgzta"
      ]
    },
    {
      "cell_type": "markdown",
      "metadata": {},
      "source": [
        "## Appendix 2: Setting up an Ethereum Node\n",
        "\n",
        "In the course of writing this example I had to setup an Ethereum node. It was a slow and painful process so I thought I would share the steps I took to make it easier for others."
      ]
    },
    {
      "cell_type": "markdown",
      "metadata": {},
      "source": [
        "### Geth setup and sync\n",
        "\n",
        "Geth supports Ubuntu by default, so use that when creating a VM. Use Ubuntu 22.04 LTS.\n",
        "\n",
        "```bash\n",
        "gcloud compute instances create phil-ethereum-node \\\n",
        "    --project=bacalhau-development --zone=europe-west2-c \\\n",
        "    --machine-type=c2-standard-4 --tags=geth \\\n",
        "    --create-disk=auto-delete=yes,boot=yes,device-name=phil-ethereum-node,image=projects/ubuntu-os-cloud/global/images/ubuntu-2204-jammy-v20221101a,mode=rw,size=50,type=projects/bacalhau-development/zones/europe-west2-c/diskTypes/pd-balanced \\\n",
        "    --create-disk=auto-delete=yes,device-name=phil-ethereum-disk,mode=rw,name=phil-ethereum-disk,size=3000,type=projects/bacalhau-development/zones/europe-west2-c/diskTypes/pd-standard\n",
        "```\n",
        "\n",
        "Mount the disk:\n",
        "\n",
        "```bash\n",
        "sudo mkfs.ext4 -m 0 -E lazy_itable_init=0,lazy_journal_init=0,discard /dev/sdb\n",
        "sudo mkdir -p /mnt/disks/ethereum\n",
        "sudo mount -o discard,defaults /dev/sdb /mnt/disks/ethereum\n",
        "sudo chmod a+w /mnt/disks/ethereum\n",
        "```\n",
        "\n",
        "```bash\n",
        "sudo add-apt-repository -y ppa:ethereum/ethereum\n",
        "sudo apt-get update\n",
        "sudo apt-get install -y ethereum\n",
        "sudo mkdir /prysm && cd /prysm\n",
        "sudo curl https://raw.githubusercontent.com/prysmaticlabs/prysm/master/prysm.sh --output prysm.sh && sudo chmod +x prysm.sh\n",
        "```\n",
        "\n",
        "Run as a new user:\n",
        "\n",
        "```bash\n",
        "sudo useradd -d /home/ethuser -m --uid 10000 ethuser\n",
        "sudo chown -R ethuser /prysm\n",
        "```\n",
        "\n",
        "```\n",
        "sudo tee \"/etc/systemd/system/geth.service\" > /dev/null <<'EOF'\n",
        "[Unit]\n",
        "Description=Geth\n",
        "\n",
        "[Service]\n",
        "Type=simple\n",
        "User=ethuser\n",
        "Restart=always\n",
        "RestartSec=12\n",
        "ExecStart=/bin/geth --syncmode \"full\" --datadir /mnt/disks/ethereum\n",
        "\n",
        "[Install]\n",
        "WantedBy=default.target\n",
        "EOF\n",
        "\n",
        "sudo tee \"/etc/systemd/system/prysm.service\" > /dev/null <<'EOF'\n",
        "[Unit]\n",
        "Description=Prysm\n",
        "\n",
        "[Service]\n",
        "Type=simple\n",
        "User=ethuser\n",
        "Restart=always\n",
        "RestartSec=12\n",
        "ExecStart=/prysm/prysm.sh beacon-chain --execution-endpoint=/mnt/disks/ethereum/geth.ipc --suggested-fee-recipient=0x7f68cb1cdE000AF82291A0D0c21E0f88FD7dB440 --checkpoint-sync-url=https://beaconstate.info\n",
        "--genesis-beacon-api-url=https://beaconstate.info --accept-terms-of-use --datadir /mnt/disks/ethereum/prysm\n",
        "\n",
        "[Install]\n",
        "WantedBy=default.target\n",
        "EOF\n",
        "\n",
        "sudo systemctl daemon-reload\n",
        "sudo systemctl enable prysm.service\n",
        "sudo systemctl enable geth.service\n",
        "sudo systemctl daemon-reload\n",
        "sudo service prysm start \n",
        "sudo service geth start \n",
        "```\n",
        "\n",
        "Check they are running:\n",
        "\n",
        "```bash\n",
        "service prysm status\n",
        "service geth status\n",
        "```\n",
        "\n",
        "Watch the logs:\n",
        "\n",
        "```bash\n",
        "journalctl -u prysm -f\n",
        "```\n",
        "\n",
        "Prysm will need to finish synchronising before geth will start syncronising.\n",
        "\n",
        "In Prysm you will see lots of log messages saying: `Synced new block`, and in Geth you will see: `Syncing beacon headers    downloaded=11,920,384 left=4,054,753  eta=2m25.903s`. This tells you how long it will take to sync the beacons. Once that's done, get will start synchronising the blocks.\n",
        "\n",
        "Bring up the ethereum javascript console with:\n",
        "\n",
        "```\n",
        "sudo geth --datadir /mnt/disks/ethereum/ attach\n",
        "```\n",
        "\n",
        "Once the block sync has started, `eth.syncing` will return values. Before it starts, this value will be `false`.\n",
        "\n",
        "Note that by default, geth will perform a fast sync, without downloading the full blocks. The `syncmode=flull` flag forces geth to do a full sync. If we didn't do this, then we wouldn't be able to backup the data properly.\n",
        "\n",
        "### Extracting the Data\n",
        "\n",
        "```bash\n",
        "# Install pip and ethereum-etl\n",
        "sudo apt-get install -y python3-pip\n",
        "sudo pip3 install ethereum-etl\n",
        "cd\n",
        "mkdir ethereum-etl\n",
        "cd ethereum-etl\n",
        "\n",
        "# Export data with one 50000-item batch in a directory. Up to this point we've processed about 3m.\n",
        "# The full chain is about 16m blocks\n",
        "for i in $(seq 0 50000 16000000); do sudo ethereumetl export_all --partition-batch-size 50000 --start $i --end $(expr $i + 50000 - 1)  --provider-uri file:///mnt/disks/ethereum/geth.ipc -o output_$i; done\n",
        "```\n",
        "\n",
        "### Upload the data\n",
        "\n",
        "Tar and compress the directories to make them easier to upload:\n",
        "\n",
        "```bash\n",
        "sudo apt-get install -y jq # Install jq to parse the cid\n",
        "cd\n",
        "cd ethereum-etl\n",
        "for i in $(seq 0 50000 16000000); do tar cfz output_$i.tar.gz output_$i; done\n",
        "```\n",
        "\n",
        "Export your Web3.storage JWT API key as an environment variable called `TOKEN`:\n",
        "\n",
        "```bash\n",
        "printf \"\" > hashes.txt\n",
        "for i in $(seq 0 50000 16000000); do curl -X POST https://api.web3.storage/upload -H \"Authorization: Bearer ${TOKEN}\" -H 'accept: application/json' -H 'Content-Type: text/plain' -H \"X-NAME: ethereum-etl-block-$i\" --data-binary \"@output_$i.tar.gz\" >> raw.json; done\n",
        "```\n"
      ]
    }
  ],
  "metadata": {
    "celltoolbar": "Tags",
    "colab": {
      "provenance": []
    },
    "kernelspec": {
      "display_name": "Python 3.9.7 64-bit ('3.9.7')",
      "language": "python",
      "name": "python3"
    },
    "language_info": {
      "codemirror_mode": {
        "name": "ipython",
        "version": 3
      },
      "file_extension": ".py",
      "mimetype": "text/x-python",
      "name": "python",
      "nbconvert_exporter": "python",
      "pygments_lexer": "ipython3",
      "version": "3.9.7"
    },
    "vscode": {
      "interpreter": {
        "hash": "21fd917facdca5c02b7d24e32528f1b4e6711465b0262edbfffba943391e1222"
      }
    }
  },
  "nbformat": 4,
  "nbformat_minor": 1
}
