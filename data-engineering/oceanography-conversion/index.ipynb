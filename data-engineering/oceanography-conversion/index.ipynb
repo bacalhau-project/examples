{
  "cells": [
    {
      "cell_type": "raw",
      "metadata": {
        "id": "HlUF5q7CiRDt",
        "tags": [
          "skip-execution"
        ]
      },
      "source": [
        "---\n",
        "sidebar_label: \"Oceanography - Data Conversion\"\n",
        "sidebar_position: 10\n",
        "description: \"Oceanography data conversion with Bacalhau\"\n",
        "---"
      ]
    },
    {
      "attachments": {},
      "cell_type": "markdown",
      "metadata": {
        "id": "bTnXx3ReiRDt",
        "tags": [
          "skip-execution"
        ]
      },
      "source": [
        "# Oceanography - Data Conversion\n",
        "\n",
        "[![Open In Colab](https://colab.research.google.com/assets/colab-badge.svg)](https://colab.research.google.com/github/bacalhau-project/examples/blob/main/data-engineering/oceanography-conversion/index.ipynb)\n",
        "[![Open In Binder](https://mybinder.org/badge.svg)](https://mybinder.org/v2/gh/bacalhau-project/examples/HEAD?labpath=data-engineering/oceanography-conversion/index.ipynb)\n",
        "\n",
        "The Surface Ocean CO₂ Atlas (SOCAT) contains measurements of the [fugacity](https://en.wikipedia.org/wiki/Fugacity) of CO2 in seawater around the globe. But to calculate how much carbon the ocean is taking up from the atmosphere, these measurements need to be converted to the partial pressure of CO2. We will convert the units by combining measurements of the surface temperature and fugacity.  Python libraries (xarray, pandas, numpy) and the pyseaflux package facilitate this process.\n",
        "\n",
        "In this example tutorial, we will investigate the data and convert the workload so that it can be executed on the Bacalhau network, to take advantage of the distributed storage and compute resources.\n",
        "\n",
        "## Prerequisites\n",
        "\n",
        "To get started, you need to install the Bacalhau client, see more information [here](https://docs.bacalhau.org/getting-started/installation)\n",
        "\n",
        "## The Sample Data\n",
        "\n",
        "The raw data is available on the [SOCAT website](https://www.socat.info/). We will use the [SOCATv2021](https://www.socat.info/index.php/version-2021/) dataset in the \"Gridded\" format to perform this calculation. First, let's take a quick look at some data:"
      ]
    },
    {
      "cell_type": "code",
      "execution_count": null,
      "metadata": {
        "colab": {
          "base_uri": "https://localhost:8080/"
        },
        "id": "b7HLGzrGiRDv",
        "outputId": "14fe85f1-6601-401f-8faf-764647f35fe5",
        "tags": [
          "skip-execution"
        ]
      },
      "outputs": [],
      "source": [
        "%%bash\n",
        "mkdir -p inputs\n",
        "curl --output ./inputs/SOCATv2022_tracks_gridded_monthly.nc.zip https://www.socat.info/socat_files/v2022/SOCATv2022_tracks_gridded_monthly.nc.zip\n",
        "curl --output ./inputs/sst.mnmean.nc https://downloads.psl.noaa.gov/Datasets/noaa.oisst.v2/sst.mnmean.nc"
      ]
    },
    {
      "attachments": {},
      "cell_type": "markdown",
      "metadata": {
        "id": "iIaEXJE8iRDv",
        "tags": [
          "skip-execution"
        ]
      },
      "source": [
        "Next let's write the `requirements.txt` and install the dependencies. This file will also be used by the Dockerfile to install the dependencies."
      ]
    },
    {
      "cell_type": "code",
      "execution_count": null,
      "metadata": {
        "colab": {
          "base_uri": "https://localhost:8080/"
        },
        "id": "_GgzkzoYiRDv",
        "outputId": "f61be853-5e08-47ac-d164-e8931687ebe9",
        "tags": [
          "skip-execution"
        ]
      },
      "outputs": [],
      "source": [
        "%%writefile requirements.txt\n",
        "Bottleneck==1.3.5\n",
        "dask==2022.2.0\n",
        "fsspec==2022.5.0\n",
        "netCDF4==1.6.0\n",
        "numpy==1.21.6\n",
        "pandas==1.3.5\n",
        "pip==22.1.2\n",
        "pyseaflux==2.2.1\n",
        "scipy==1.7.3\n",
        "xarray==0.20.2\n",
        "zarr>=2.0.0"
      ]
    },
    {
      "attachments": {},
      "cell_type": "markdown",
      "metadata": {},
      "source": [
        "Installing dependencies"
      ]
    },
    {
      "cell_type": "code",
      "execution_count": 5,
      "metadata": {
        "id": "VyLJHRUFiRDv",
        "tags": [
          "skip-execution"
        ]
      },
      "outputs": [],
      "source": [
        "%%bash\n",
        "pip install -r requirements.txt > /dev/null"
      ]
    },
    {
      "attachments": {},
      "cell_type": "markdown",
      "metadata": {},
      "source": [
        "### Writing the Script"
      ]
    },
    {
      "cell_type": "code",
      "execution_count": null,
      "metadata": {
        "colab": {
          "base_uri": "https://localhost:8080/"
        },
        "id": "BR0okKebiRDw",
        "outputId": "0ed12661-86d5-48c1-9af9-873b861636cb",
        "tags": [
          "skip-execution"
        ]
      },
      "outputs": [],
      "source": [
        "import fsspec # for reading remote files\n",
        "import xarray as xr\n",
        "with fsspec.open(\"./inputs/SOCATv2022_tracks_gridded_monthly.nc.zip\", compression='zip') as fp:\n",
        "    ds = xr.open_dataset(fp)\n",
        "ds.info()"
      ]
    },
    {
      "cell_type": "code",
      "execution_count": null,
      "metadata": {
        "colab": {
          "base_uri": "https://localhost:8080/",
          "height": 298
        },
        "id": "zO9sH5wXiRDx",
        "outputId": "c5d75a87-c835-448b-fe12-377f83e184de",
        "tags": [
          "skip-execution"
        ]
      },
      "outputs": [],
      "source": [
        "time_slice = slice(\"2010\", \"2020\") # select a decade\n",
        "res = ds['sst_ave_unwtd'].sel(tmnth=time_slice).mean(dim='tmnth') # average over time\n",
        "res.plot() # plot the result\n"
      ]
    },
    {
      "attachments": {},
      "cell_type": "markdown",
      "metadata": {
        "id": "fPV805_biRDx",
        "tags": [
          "skip-execution"
        ]
      },
      "source": [
        "We can see that the dataset contains lat-long coordinates, the date, and a series of seawater measurements. Above you can see a plot of the average surface sea temperature (sst) between 2010-2020, where recording buoys and boats have travelled.\n",
        "\n",
        "### Data Conversion\n",
        "\n",
        "To convert the data from fugacity of CO2 (fCO2) to partial pressure of CO2 (pCO2) we will combine the measurements of the surface temperature and fugacity. The conversion is performed by the [pyseaflux](https://seaflux.readthedocs.io/en/latest/api.html?highlight=fCO2_to_pCO2#pyseaflux.fco2_pco2_conversion.fCO2_to_pCO2) package.\n",
        "\n",
        "To execute this workload on the Bacalhau network we need to perform three steps:\n",
        "\n",
        "- Upload the data to IPFS\n",
        "- Create a docker image with the code and dependencies\n",
        "- Run a Bacalhau job with the docker image using the IPFS data\n",
        "\n",
        "## Upload the Data to IPFS\n",
        "\n",
        "The first step is to upload the data to IPFS. The simplest way to do this is to use a third party service to \"pin\" data to the IPFS network, to ensure that the data exists and is available. To do this you need an account with a pinning service like [web3.storage](https://web3.storage/) or [Pinata](https://pinata.cloud/). Once registered you can use their UI or API or SDKs to upload files.\n",
        "\n",
        "For the purposes of this example:\n",
        "1. Downloaded the latest monthly data from the [SOCAT website](https://www.socat.info/)\n",
        "2. Downloaded the latest long-term global sea surface temperature data from [NOAA](https://downloads.psl.noaa.gov/Datasets/noaa.oisst.v2/sst.mnmean.nc) - information about that dataset can be found [here](https://psl.noaa.gov/data/gridded/data.noaa.oisst.v2.highres.html).\n",
        "3. Pinned the data to IPFS\n",
        "\n",
        "This resulted in the IPFS CID of `bafybeidunikexxu5qtuwc7eosjpuw6a75lxo7j5ezf3zurv52vbrmqwf6y`.\n"
      ]
    },
    {
      "cell_type": "code",
      "execution_count": null,
      "metadata": {
        "colab": {
          "base_uri": "https://localhost:8080/"
        },
        "id": "7GSifueQiRDx",
        "outputId": "b2533a9f-343b-479d-e80b-14e1b3655819",
        "tags": [
          "skip-execution"
        ]
      },
      "outputs": [],
      "source": [
        "%%writefile main.py\n",
        "import fsspec\n",
        "import xarray as xr\n",
        "import pandas as pd\n",
        "import numpy as np\n",
        "import pyseaflux\n",
        "\n",
        "\n",
        "def lon_360_to_180(ds=None, lonVar=None):\n",
        "    lonVar = \"lon\" if lonVar is None else lonVar\n",
        "    return (ds.assign_coords({lonVar: (((ds[lonVar] + 180) % 360) - 180)})\n",
        "            .sortby(lonVar)\n",
        "            .astype(dtype='float32', order='C'))\n",
        "\n",
        "\n",
        "def center_dates(ds):\n",
        "    # start and end date\n",
        "    start_date = str(ds.time[0].dt.strftime('%Y-%m').values)\n",
        "    end_date = str(ds.time[-1].dt.strftime('%Y-%m').values)\n",
        "\n",
        "    # monthly dates centered on 15th of each month\n",
        "    dates = pd.date_range(start=f'{start_date}-01T00:00:00.000000000',\n",
        "                          end=f'{end_date}-01T00:00:00.000000000',\n",
        "                          freq='MS') + np.timedelta64(14, 'D')\n",
        "\n",
        "    return ds.assign(time=dates)\n",
        "\n",
        "\n",
        "def get_and_process_sst(url=None):\n",
        "    # get noaa sst\n",
        "    if url is None:\n",
        "        url = (\"/inputs/sst.mnmean.nc\")\n",
        "\n",
        "    with fsspec.open(url) as fp:\n",
        "        ds = xr.open_dataset(fp)\n",
        "        ds = lon_360_to_180(ds)\n",
        "        ds = center_dates(ds)\n",
        "        return ds\n",
        "\n",
        "\n",
        "def get_and_process_socat(url=None):\n",
        "    if url is None:\n",
        "        url = (\"/inputs/SOCATv2022_tracks_gridded_monthly.nc.zip\")\n",
        "\n",
        "    with fsspec.open(url, compression='zip') as fp:\n",
        "        ds = xr.open_dataset(fp)\n",
        "        ds = ds.rename({\"xlon\": \"lon\", \"ylat\": \"lat\", \"tmnth\": \"time\"})\n",
        "        ds = center_dates(ds)\n",
        "        return ds\n",
        "\n",
        "\n",
        "def main():\n",
        "    print(\"Load SST and SOCAT data\")\n",
        "    ds_sst = get_and_process_sst()\n",
        "    ds_socat = get_and_process_socat()\n",
        "\n",
        "    print(\"Merge datasets together\")\n",
        "    time_slice = slice(\"1981-12\", \"2022-05\")\n",
        "    ds_out = xr.merge([ds_sst['sst'].sel(time=time_slice),\n",
        "                       ds_socat['fco2_ave_unwtd'].sel(time=time_slice)])\n",
        "\n",
        "    print(\"Calculate pco2 from fco2\")\n",
        "    ds_out['pco2_ave_unwtd'] = xr.apply_ufunc(\n",
        "        pyseaflux.fCO2_to_pCO2,\n",
        "        ds_out['fco2_ave_unwtd'],\n",
        "        ds_out['sst'])\n",
        "\n",
        "    print(\"Add metadata\")\n",
        "    ds_out['pco2_ave_unwtd'].attrs['units'] = 'uatm'\n",
        "    ds_out['pco2_ave_unwtd'].attrs['notes'] = (\"calculated using\" +\n",
        "                                               \"NOAA OI SST V2\" +\n",
        "                                               \"and pyseaflux package\")\n",
        "\n",
        "    print(\"Save data\")\n",
        "    ds_out.to_zarr(\"/processed.zarr\")\n",
        "    import shutil\n",
        "    shutil.make_archive(\"/outputs/processed.zarr\", 'zip', \"/processed.zarr\")\n",
        "    print(\"Zarr file written to disk, job completed successfully\")\n",
        "\n",
        "if __name__ == \"__main__\":\n",
        "    main()"
      ]
    },
    {
      "attachments": {},
      "cell_type": "markdown",
      "metadata": {},
      "source": [
        "## Setting up Docker\n",
        "\n",
        "We will create a  `Dockerfile` and add the desired configuration to the file. These commands specify how the image will be built, and what extra requirements will be included."
      ]
    },
    {
      "cell_type": "code",
      "execution_count": null,
      "metadata": {
        "colab": {
          "base_uri": "https://localhost:8080/"
        },
        "id": "_Bq9hOI7iRDy",
        "outputId": "3eef8923-263a-440a-95af-45c5d0d93673",
        "tags": [
          "skip-execution"
        ]
      },
      "outputs": [],
      "source": [
        "%%writefile Dockerfile\n",
        "FROM python:slim\n",
        "\n",
        "RUN apt-get update && apt-get -y upgrade \\\n",
        "    && apt-get install -y --no-install-recommends \\\n",
        "    g++ \\\n",
        "    && rm -rf /var/lib/apt/lists/*\n",
        "\n",
        "WORKDIR /project\n",
        "\n",
        "COPY ./requirements.txt /project\n",
        "\n",
        "RUN pip3 install -r requirements.txt\n",
        "\n",
        "COPY ./main.py /project\n",
        "\n",
        "CMD [\"python\",\"main.py\"]"
      ]
    },
    {
      "attachments": {},
      "cell_type": "markdown",
      "metadata": {},
      "source": [
        "### Build the container\n",
        "\n",
        "We will run `docker build` command to build the container;\n",
        "\n",
        "```\n",
        "docker build -t <hub-user>/<repo-name>:<tag> .\n",
        "```\n",
        "\n",
        "Before running the command replace;\n",
        "\n",
        "- **hub-user** with your docker hub username, If you don’t have a docker hub account [follow these instructions to create docker account](https://docs.docker.com/docker-id/), and use the username of the account you created\n",
        "\n",
        "- **repo-name** with the name of the container, you can name it anything you want\n",
        "\n",
        "- **tag** this is not required but you can use the latest tag\n",
        "\n",
        "\n",
        "Now you can push this repository to the registry designated by its name or tag.\n",
        "\n",
        "```\n",
        "docker push <hub-user>/<repo-name>:<tag>\n",
        "```"
      ]
    },
    {
      "attachments": {},
      "cell_type": "markdown",
      "metadata": {},
      "source": [
        ":::tip\n",
        "For more information about working with custom containers, see the [custom containers example](../../workload-onboarding/custom-containers/).\n",
        ":::"
      ]
    },
    {
      "attachments": {},
      "cell_type": "markdown",
      "metadata": {
        "id": "jYDniwQJiRDz",
        "tags": [
          "skip-execution"
        ]
      },
      "source": [
        "## Running a Bacalhau Job\n",
        "\n",
        "Now that we have the data in IPFS and the docker image pushed, next is to run a job using the `bacalhau docker run` command"
      ]
    },
    {
      "cell_type": "code",
      "execution_count": null,
      "metadata": {
        "id": "UmFHEY96iRD0",
        "tags": [
          "skip-execution"
        ]
      },
      "outputs": [],
      "source": [
        "%%bash  --out job_id\n",
        "bacalhau docker run \\\n",
        "        --inputs bafybeidunikexxu5qtuwc7eosjpuw6a75lxo7j5ezf3zurv52vbrmqwf6y \\\n",
        "        --id-only \\\n",
        "        --wait \\\n",
        "        ghcr.io/bacalhau-project/examples/socat:0.0.11 -- python main.py"
      ]
    },
    {
      "attachments": {},
      "cell_type": "markdown",
      "metadata": {},
      "source": [
        "When a job is sumbitted, Bacalhau prints out the related `job_id`. We store that in an environment variable so that we can reuse it later on."
      ]
    },
    {
      "cell_type": "code",
      "execution_count": null,
      "metadata": {
        "colab": {
          "base_uri": "https://localhost:8080/"
        },
        "id": "Rb7nth4NiRD0",
        "outputId": "1b9a9e0a-3c48-46a2-ed77-92eedcb7f62f",
        "tags": [
          "skip-execution"
        ]
      },
      "outputs": [],
      "source": [
        "%%env JOB_ID={job_id}"
      ]
    },
    {
      "attachments": {},
      "cell_type": "markdown",
      "metadata": {},
      "source": [
        "## Checking the State of your Jobs\n",
        "\n",
        "- **Job status**: You can check the status of the job using `bacalhau list`."
      ]
    },
    {
      "cell_type": "code",
      "execution_count": null,
      "metadata": {},
      "outputs": [],
      "source": [
        "%%bash\n",
        "bacalhau list --id-filter ${JOB_ID}"
      ]
    },
    {
      "attachments": {},
      "cell_type": "markdown",
      "metadata": {},
      "source": [
        "\n",
        "When it says `Published` or `Completed`, that means the job is done, and we can get the results.\n",
        "\n",
        "- **Job information**: You can find out more information about your job by using `bacalhau describe`. "
      ]
    },
    {
      "cell_type": "code",
      "execution_count": null,
      "metadata": {},
      "outputs": [],
      "source": [
        "%%bash\n",
        "bacalhau describe ${JOB_ID}"
      ]
    },
    {
      "attachments": {},
      "cell_type": "markdown",
      "metadata": {
        "id": "lJk-OgXkiRD0",
        "tags": [
          "skip-execution"
        ]
      },
      "source": [
        "\n",
        "- **Job download**: You can download your job results directly by using `bacalhau get`. Alternatively, you can choose to create a directory to store your results. In the command below, we created a directory and downloaded our job output to be stored in that directory."
      ]
    },
    {
      "cell_type": "code",
      "execution_count": null,
      "metadata": {
        "colab": {
          "base_uri": "https://localhost:8080/"
        },
        "id": "hZv5X-VriRD0",
        "outputId": "3afb500d-fc7d-43a7-f3b7-de2bda98f134",
        "tags": [
          "skip-execution"
        ]
      },
      "outputs": [],
      "source": [
        "%%bash\n",
        "rm -rf results\n",
        "mkdir -p ./results # Temporary directory to store the results\n",
        "bacalhau get --output-dir ./results ${JOB_ID} # Download the results"
      ]
    },
    {
      "attachments": {},
      "cell_type": "markdown",
      "metadata": {},
      "source": [
        "## Viewing your Job Output\n",
        "\n",
        "Each job creates 3 subfolders: the **combined_results**, **per_shard files**, and the **raw** directory. To view the file, run the following command:"
      ]
    },
    {
      "cell_type": "code",
      "execution_count": null,
      "metadata": {
        "id": "L4sOtSSMiRD0",
        "outputId": "52647afa-1715-41b7-cb29-9f21eeb8c648",
        "tags": [
          "skip-execution"
        ]
      },
      "outputs": [],
      "source": [
        "%%bash\n",
        "cat results/combined_results/stdout"
      ]
    },
    {
      "attachments": {},
      "cell_type": "markdown",
      "metadata": {},
      "source": [
        "## Need Support?\n",
        "\n",
        "For questions, feedback, please reach out in our [forum](https://github.com/filecoin-project/bacalhau/discussions)"
      ]
    }
  ],
  "metadata": {
    "colab": {
      "provenance": []
    },
    "kernelspec": {
      "display_name": "Python 3",
      "language": "python",
      "name": "python3"
    },
    "language_info": {
      "codemirror_mode": {
        "name": "ipython",
        "version": 3
      },
      "file_extension": ".py",
      "mimetype": "text/x-python",
      "name": "python",
      "nbconvert_exporter": "python",
      "pygments_lexer": "ipython3",
      "version": "3.8.16 (default, Jan 10 2023, 15:23:34) \n[GCC 9.4.0]"
    },
    "vscode": {
      "interpreter": {
        "hash": "9ac03a0a6051494cc606d484d27d20fce22fb7b4d169f583271e11d5ba46a56e"
      }
    }
  },
  "nbformat": 4,
  "nbformat_minor": 4
}
