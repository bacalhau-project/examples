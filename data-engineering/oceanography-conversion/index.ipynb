{
  "cells": [
    {
      "cell_type": "raw",
      "metadata": {
        "id": "HlUF5q7CiRDt"
      },
      "source": [
        "---\n",
        "sidebar_label: \"Oceanography - Data Conversion\"\n",
        "sidebar_position: 10\n",
        "---"
      ]
    },
    {
      "cell_type": "markdown",
      "metadata": {
        "id": "bTnXx3ReiRDt"
      },
      "source": [
        "# Oceanography - Data Conversion\n",
        "\n",
        "[![Open In Colab](https://colab.research.google.com/assets/colab-badge.svg)](https://colab.research.google.com/github/bacalhau-project/examples/blob/main/data-engineering/oceanography-conversion/index.ipynb)\n",
        "[![Open In Binder](https://mybinder.org/badge.svg)](https://mybinder.org/v2/gh/bacalhau-project/examples/HEAD?labpath=data-engineering/oceanography-conversion/index.ipynb)\n",
        "\n",
        "The Surface Ocean CO₂ Atlas (SOCAT) contains measurements of the [fugacity](https://en.wikipedia.org/wiki/Fugacity) of CO2 in seawater around the globe. But to calculate how much carbon the ocean is taking up from the atmosphere, these measurements need to be converted to the partial pressure of CO2. We will convert the units by combining measurements of the surface temperature and fugacity.  Python libraries (xarray, pandas, numpy) and the pyseaflux package facilitate this process.\n",
        "\n",
        "References:\n",
        "- https://www.socat.info/\n",
        "- https://seaflux.readthedocs.io/en/latest/api.html?highlight=fCO2_to_pCO2#pyseaflux.fco2_pco2_conversion.fCO2_to_pCO2\n",
        "- https://github.com/lgloege/bacalhau_socat_test/blob/main/main.py\n",
        "- https://github.com/wesfloyd/bacalhau_socat_test\n",
        "\n",
        "### Goal\n",
        "\n",
        "The goal of this notebook is to investigate the data and convert dockerize the workload so that it can be executed on the Bacalhau network, to take advantage of the distributed storage and compute resources.\n",
        "\n",
        "### Prerequisites\n",
        "\n",
        "This example requires Docker. If you don't have Docker installed, you can install it from [here](https://docs.docker.com/install/). Docker commands will not work on hosted notebooks like Google Colab, but the Bacalhau commands will.\n",
        "\n",
        "Make sure you have the latest `bacalhau` client installed by following the [getting started instructions](../../../getting-started/installation)\n",
        "\n",
        "## The Data\n",
        "\n",
        "The raw data is available on the [SOCAT website](https://www.socat.info/). We will use the [SOCATv2021](https://www.socat.info/index.php/version-2021/) dataset in the \"Gridded\" format to perform this calculation. First, let's take a quick look at some data:"
      ]
    },
    {
      "cell_type": "code",
      "execution_count": null,
      "metadata": {
        "id": "YK9vgLgriRDu",
        "tags": [
          "remove_cell",
          "skip-execution"
        ]
      },
      "outputs": [],
      "source": [
        "!command -v docker >/dev/null 2>&1 || { echo >&2 \"I require docker but it's not installed.  Aborting.\"; exit 1; }"
      ]
    },
    {
      "cell_type": "code",
      "execution_count": 4,
      "metadata": {
        "colab": {
          "base_uri": "https://localhost:8080/"
        },
        "id": "vC6FC4mXiRDu",
        "outputId": "7dc9b6b5-7280-45c7-d4c1-d7b07a52ae85",
        "tags": [
          "remove_cell",
          "skip-execution"
        ]
      },
      "outputs": [
        {
          "output_type": "stream",
          "name": "stdout",
          "text": [
            "Your system is linux_amd64\n",
            "No BACALHAU detected. Installing fresh BACALHAU CLI...\n",
            "Getting the latest BACALHAU CLI...\n",
            "Installing v0.2.4 BACALHAU CLI...\n",
            "Downloading https://github.com/filecoin-project/bacalhau/releases/download/v0.2.4/bacalhau_v0.2.4_linux_amd64.tar.gz ...\n",
            "Downloading sig file https://github.com/filecoin-project/bacalhau/releases/download/v0.2.4/bacalhau_v0.2.4_linux_amd64.tar.gz.signature.sha256 ...\n",
            "Verified OK\n",
            "Extracting tarball ...\n",
            "NOT verifying Bin\n",
            "bacalhau installed into . successfully.\n",
            "Client Version: v0.2.4\n",
            "Server Version: v0.2.4\n",
            "env: PATH=./:/opt/bin:/usr/local/nvidia/bin:/usr/local/cuda/bin:/usr/local/sbin:/usr/local/bin:/usr/sbin:/usr/bin:/sbin:/bin:/tools/node/bin:/tools/google-cloud-sdk/bin\n"
          ]
        }
      ],
      "source": [
        "!(export BACALHAU_INSTALL_DIR=.; curl -sL https://get.bacalhau.org/install.sh | bash)\n",
        "path=!echo $PATH\n",
        "%env PATH=./:{path[0]}"
      ]
    },
    {
      "cell_type": "code",
      "execution_count": 1,
      "metadata": {
        "colab": {
          "base_uri": "https://localhost:8080/"
        },
        "id": "b7HLGzrGiRDv",
        "outputId": "14fe85f1-6601-401f-8faf-764647f35fe5",
        "tags": [
          "remove_output",
          "skip-execution"
        ]
      },
      "outputs": [
        {
          "output_type": "stream",
          "name": "stderr",
          "text": [
            "  % Total    % Received % Xferd  Average Speed   Time    Time     Time  Current\n",
            "                                 Dload  Upload   Total   Spent    Left  Speed\n",
            "\r  0     0    0     0    0     0      0      0 --:--:-- --:--:-- --:--:--     0\r  0 35.5M    0 98304    0     0   107k      0  0:05:37 --:--:--  0:05:37  107k\r 35 35.5M   35 12.5M    0     0  6932k      0  0:00:05  0:00:01  0:00:04 6928k\r100 35.5M  100 35.5M    0     0  13.1M      0  0:00:02  0:00:02 --:--:-- 13.1M\n",
            "  % Total    % Received % Xferd  Average Speed   Time    Time     Time  Current\n",
            "                                 Dload  Upload   Total   Spent    Left  Speed\n",
            "\r  0     0    0     0    0     0      0      0 --:--:-- --:--:-- --:--:--     0\r  0     0    0     0    0     0      0      0 --:--:-- --:--:-- --:--:--     0\r 91 60.4M   91 55.5M    0     0  48.9M      0  0:00:01  0:00:01 --:--:-- 48.9M\r100 60.4M  100 60.4M    0     0  50.5M      0  0:00:01  0:00:01 --:--:-- 50.5M\n"
          ]
        }
      ],
      "source": [
        "%%bash\n",
        "mkdir -p inputs\n",
        "curl --output ./inputs/SOCATv2022_tracks_gridded_monthly.nc.zip https://www.socat.info/socat_files/v2022/SOCATv2022_tracks_gridded_monthly.nc.zip\n",
        "curl --output ./inputs/sst.mnmean.nc https://downloads.psl.noaa.gov/Datasets/noaa.oisst.v2/sst.mnmean.nc"
      ]
    },
    {
      "cell_type": "markdown",
      "metadata": {
        "id": "iIaEXJE8iRDv"
      },
      "source": [
        "Next let's write the requirements.txt and install the dependencies. This file will also be used by the Dockerfile to install the dependencies."
      ]
    },
    {
      "cell_type": "code",
      "execution_count": 2,
      "metadata": {
        "colab": {
          "base_uri": "https://localhost:8080/"
        },
        "id": "_GgzkzoYiRDv",
        "outputId": "f61be853-5e08-47ac-d164-e8931687ebe9"
      },
      "outputs": [
        {
          "output_type": "stream",
          "name": "stdout",
          "text": [
            "Writing requirements.txt\n"
          ]
        }
      ],
      "source": [
        "%%writefile requirements.txt\n",
        "Bottleneck==1.3.5\n",
        "dask==2022.2.0\n",
        "fsspec==2022.5.0\n",
        "netCDF4==1.6.0\n",
        "numpy==1.21.6\n",
        "pandas==1.3.5\n",
        "pip==22.1.2\n",
        "pyseaflux==2.2.1\n",
        "scipy==1.7.3\n",
        "xarray==0.20.2\n",
        "zarr>=2.0.0"
      ]
    },
    {
      "cell_type": "code",
      "execution_count": 3,
      "metadata": {
        "id": "VyLJHRUFiRDv",
        "tags": [
          "skip-execution"
        ]
      },
      "outputs": [],
      "source": [
        "%%bash\n",
        "pip install -r requirements.txt > /dev/null"
      ]
    },
    {
      "cell_type": "code",
      "execution_count": 1,
      "metadata": {
        "colab": {
          "base_uri": "https://localhost:8080/"
        },
        "id": "BR0okKebiRDw",
        "outputId": "0ed12661-86d5-48c1-9af9-873b861636cb",
        "tags": [
          "skip-execution"
        ]
      },
      "outputs": [
        {
          "output_type": "stream",
          "name": "stdout",
          "text": [
            "xarray.Dataset {\n",
            "dimensions:\n",
            "\txlon = 360 ;\n",
            "\tylat = 180 ;\n",
            "\ttmnth = 624 ;\n",
            "\tbnds = 2 ;\n",
            "\n",
            "variables:\n",
            "\tfloat64 xlon(xlon) ;\n",
            "\t\txlon:units = degrees_east ;\n",
            "\t\txlon:point_spacing = even ;\n",
            "\t\txlon:axis = X ;\n",
            "\t\txlon:modulo = 360.0 ;\n",
            "\t\txlon:standard_name = longitude ;\n",
            "\tfloat64 ylat(ylat) ;\n",
            "\t\tylat:units = degrees_north ;\n",
            "\t\tylat:point_spacing = even ;\n",
            "\t\tylat:axis = Y ;\n",
            "\t\tylat:standard_name = latitude ;\n",
            "\tdatetime64[ns] tmnth(tmnth) ;\n",
            "\t\ttmnth:axis = T ;\n",
            "\t\ttmnth:bounds = tmnth_bnds ;\n",
            "\t\ttmnth:time_origin = 01-JAN-1970 ;\n",
            "\t\ttmnth:standard_name = time ;\n",
            "\tdatetime64[ns] tmnth_bnds(tmnth, bnds) ;\n",
            "\tfloat64 count_ncruise(tmnth, ylat, xlon) ;\n",
            "\t\tcount_ncruise:long_name = Number of cruises ;\n",
            "\t\tcount_ncruise:units = count ;\n",
            "\t\tcount_ncruise:history = From SOCAT_ABCD_data_for_gridding ;\n",
            "\t\tcount_ncruise:summary = Number of datasets containing observations in the grid cell ;\n",
            "\tfloat64 fco2_count_nobs(tmnth, ylat, xlon) ;\n",
            "\t\tfco2_count_nobs:long_name = Number of fco2 obs ;\n",
            "\t\tfco2_count_nobs:units = count ;\n",
            "\t\tfco2_count_nobs:history = From SOCAT_ABCD_data_for_gridding ;\n",
            "\t\tfco2_count_nobs:summary = Total number of observations in the grid cell. ;\n",
            "\tfloat32 fco2_ave_weighted(tmnth, ylat, xlon) ;\n",
            "\t\tfco2_ave_weighted:long_name = fCO2 mean - per cruise weighted ;\n",
            "\t\tfco2_ave_weighted:units = uatm ;\n",
            "\t\tfco2_ave_weighted:history = From SOCAT_ABCD_data_for_gridding ;\n",
            "\t\tfco2_ave_weighted:summary = Mean of fco2 recomputed computed by calculating the arithmetic mean value for each cruise passing through the cell and then averaging these datasets. ;\n",
            "\tfloat32 fco2_ave_unwtd(tmnth, ylat, xlon) ;\n",
            "\t\tfco2_ave_unwtd:long_name = fCO2 mean - unweighted all obs ;\n",
            "\t\tfco2_ave_unwtd:units = uatm ;\n",
            "\t\tfco2_ave_unwtd:history = From SOCAT_ABCD_data_for_gridding ;\n",
            "\t\tfco2_ave_unwtd:summary = Arithmetic mean of all fco2 recomputed values found in the grid cell. ;\n",
            "\tfloat32 fco2_min_unwtd(tmnth, ylat, xlon) ;\n",
            "\t\tfco2_min_unwtd:long_name = fCO2 min ;\n",
            "\t\tfco2_min_unwtd:units = uatm ;\n",
            "\t\tfco2_min_unwtd:history = From SOCAT_ABCD_data_for_gridding ;\n",
            "\t\tfco2_min_unwtd:summary = Minimum value of fco2 recomputed observed in the grid cell. ;\n",
            "\tfloat32 fco2_max_unwtd(tmnth, ylat, xlon) ;\n",
            "\t\tfco2_max_unwtd:long_name = fCO2 max ;\n",
            "\t\tfco2_max_unwtd:units = uatm ;\n",
            "\t\tfco2_max_unwtd:history = From SOCAT_ABCD_data_for_gridding ;\n",
            "\tfloat32 fco2_std_weighted(tmnth, ylat, xlon) ;\n",
            "\t\tfco2_std_weighted:long_name = fCO2 std dev - per cruise weighted ;\n",
            "\t\tfco2_std_weighted:units = uatm ;\n",
            "\t\tfco2_std_weighted:history = From SOCAT_ABCD_data_for_gridding ;\n",
            "\t\tfco2_std_weighted:summary = A weighted standard deviation of fco2 recomputed computed to account for the differing \n",
            "variance estimates for each cruise passing through the cell. The statistical technique is \n",
            "described at See http://wapedia.mobi/en/Weighted_mean#7. ;\n",
            "\tfloat32 fco2_std_unwtd(tmnth, ylat, xlon) ;\n",
            "\t\tfco2_std_unwtd:long_name = fCO2 std dev - unweighted all obs ;\n",
            "\t\tfco2_std_unwtd:units = uatm ;\n",
            "\t\tfco2_std_unwtd:history = From SOCAT_ABCD_data_for_gridding ;\n",
            "\t\tfco2_std_unwtd:summary = The standard deviation of fco2 recomputed computed from the unweighted mean. ;\n",
            "\tfloat64 sst_count_nobs(tmnth, ylat, xlon) ;\n",
            "\t\tsst_count_nobs:long_name = Number of valid sst obs ;\n",
            "\t\tsst_count_nobs:units = count ;\n",
            "\t\tsst_count_nobs:history = From SOCAT_ABCD_data_for_gridding ;\n",
            "\t\tsst_count_nobs:summary = Total number of observations in the grid cell. ;\n",
            "\tfloat32 sst_ave_weighted(tmnth, ylat, xlon) ;\n",
            "\t\tsst_ave_weighted:long_name = SST mean - per cruise weighted ;\n",
            "\t\tsst_ave_weighted:units = degrees C ;\n",
            "\t\tsst_ave_weighted:history = From SOCAT_ABCD_data_for_gridding ;\n",
            "\t\tsst_ave_weighted:summary = Mean of sst computed by calculating the arithmetic mean value for each cruise passing through the cell and then averaging these datasets. ;\n",
            "\tfloat32 sst_ave_unwtd(tmnth, ylat, xlon) ;\n",
            "\t\tsst_ave_unwtd:long_name = SST mean - unweighted all obs ;\n",
            "\t\tsst_ave_unwtd:units = degrees C ;\n",
            "\t\tsst_ave_unwtd:history = From SOCAT_ABCD_data_for_gridding ;\n",
            "\t\tsst_ave_unwtd:summary = Arithmetic mean of all sst values found in the grid cell. ;\n",
            "\tfloat32 sst_min_unwtd(tmnth, ylat, xlon) ;\n",
            "\t\tsst_min_unwtd:long_name = SST min ;\n",
            "\t\tsst_min_unwtd:units = degrees C ;\n",
            "\t\tsst_min_unwtd:history = From SOCAT_ABCD_data_for_gridding ;\n",
            "\t\tsst_min_unwtd:summary = Minimum value of sst observed in the grid cell. ;\n",
            "\tfloat32 sst_max_unwtd(tmnth, ylat, xlon) ;\n",
            "\t\tsst_max_unwtd:long_name = SST max ;\n",
            "\t\tsst_max_unwtd:units = degrees C ;\n",
            "\t\tsst_max_unwtd:history = From SOCAT_ABCD_data_for_gridding ;\n",
            "\tfloat32 sst_std_weighted(tmnth, ylat, xlon) ;\n",
            "\t\tsst_std_weighted:long_name = SST std dev - per cruise weighted ;\n",
            "\t\tsst_std_weighted:units = degrees C ;\n",
            "\t\tsst_std_weighted:history = From SOCAT_ABCD_data_for_gridding ;\n",
            "\t\tsst_std_weighted:summary = A weighted standard deviation of sst computed to account for the differing \n",
            "variance estimates for each cruise passing through the cell. The statistical technique is \n",
            "described at See http://wapedia.mobi/en/Weighted_mean#7. ;\n",
            "\tfloat32 sst_std_unwtd(tmnth, ylat, xlon) ;\n",
            "\t\tsst_std_unwtd:long_name = SST std dev - unweighted all obs ;\n",
            "\t\tsst_std_unwtd:units = degrees C ;\n",
            "\t\tsst_std_unwtd:history = From SOCAT_ABCD_data_for_gridding ;\n",
            "\t\tsst_std_unwtd:summary = The standard deviation of sst computed from the unweighted mean. ;\n",
            "\tfloat64 salinity_count_nobs(tmnth, ylat, xlon) ;\n",
            "\t\tsalinity_count_nobs:long_name = Number of valid salinity obs ;\n",
            "\t\tsalinity_count_nobs:units = count ;\n",
            "\t\tsalinity_count_nobs:history = From SOCAT_ABCD_data_for_gridding ;\n",
            "\t\tsalinity_count_nobs:summary = Total number of observations in the grid cell. ;\n",
            "\tfloat32 salinity_ave_weighted(tmnth, ylat, xlon) ;\n",
            "\t\tsalinity_ave_weighted:long_name = Salinity mean - per cruise weighted ;\n",
            "\t\tsalinity_ave_weighted:units = PSU ;\n",
            "\t\tsalinity_ave_weighted:history = From SOCAT_ABCD_data_for_gridding ;\n",
            "\t\tsalinity_ave_weighted:summary = Mean of salinity computed by calculating the arithmetic mean value for each cruise passing through the cell and then averaging these datasets. ;\n",
            "\tfloat32 salinity_ave_unwtd(tmnth, ylat, xlon) ;\n",
            "\t\tsalinity_ave_unwtd:long_name = Salinity mean - unweighted all obs ;\n",
            "\t\tsalinity_ave_unwtd:units = PSU ;\n",
            "\t\tsalinity_ave_unwtd:history = From SOCAT_ABCD_data_for_gridding ;\n",
            "\t\tsalinity_ave_unwtd:summary = Arithmetic mean of all salinity values found in the grid cell. ;\n",
            "\tfloat32 salinity_min_unwtd(tmnth, ylat, xlon) ;\n",
            "\t\tsalinity_min_unwtd:long_name = Salinity min ;\n",
            "\t\tsalinity_min_unwtd:units = PSU ;\n",
            "\t\tsalinity_min_unwtd:history = From SOCAT_ABCD_data_for_gridding ;\n",
            "\t\tsalinity_min_unwtd:summary = Minimum value of salinity observed in the grid cell. ;\n",
            "\tfloat32 salinity_max_unwtd(tmnth, ylat, xlon) ;\n",
            "\t\tsalinity_max_unwtd:long_name = Salinity max ;\n",
            "\t\tsalinity_max_unwtd:units = PSU ;\n",
            "\t\tsalinity_max_unwtd:history = From SOCAT_ABCD_data_for_gridding ;\n",
            "\tfloat32 salinity_std_weighted(tmnth, ylat, xlon) ;\n",
            "\t\tsalinity_std_weighted:long_name = Salinity std dev - per cruise weighted ;\n",
            "\t\tsalinity_std_weighted:units = PSU ;\n",
            "\t\tsalinity_std_weighted:history = From SOCAT_ABCD_data_for_gridding ;\n",
            "\t\tsalinity_std_weighted:summary = A weighted standard deviation of salinity computed to account for the differing \n",
            "variance estimates for each cruise passing through the cell. The statistical technique is \n",
            "described at See http://wapedia.mobi/en/Weighted_mean#7. ;\n",
            "\tfloat32 salinity_std_unwtd(tmnth, ylat, xlon) ;\n",
            "\t\tsalinity_std_unwtd:long_name = Salinity std dev - unweighted all obs ;\n",
            "\t\tsalinity_std_unwtd:units = PSU ;\n",
            "\t\tsalinity_std_unwtd:history = From SOCAT_ABCD_data_for_gridding ;\n",
            "\t\tsalinity_std_unwtd:summary = The standard deviation of salinity computed from the unweighted mean. ;\n",
            "\tfloat32 lat_offset_unwtd(tmnth, ylat, xlon) ;\n",
            "\t\tlat_offset_unwtd:long_name = Latitude average offset from cell center ;\n",
            "\t\tlat_offset_unwtd:units = Deg N ;\n",
            "\t\tlat_offset_unwtd:history = From SOCAT_ABCD_data_for_gridding ;\n",
            "\t\tlat_offset_unwtd:summary = The arithmetic average of latitude offsets from the grid cell center for all observations in \n",
            "the grid cell. The value of this offset can vary from -0.5 to 0.5. A value of zero indicates \n",
            "that the computed fco2 mean values are representative of the grid cell center position. ;\n",
            "\tfloat32 lon_offset_unwtd(tmnth, ylat, xlon) ;\n",
            "\t\tlon_offset_unwtd:long_name = Longitude average offset from cell center ;\n",
            "\t\tlon_offset_unwtd:units = Deg E ;\n",
            "\t\tlon_offset_unwtd:history = From SOCAT_ABCD_data_for_gridding ;\n",
            "\t\tlon_offset_unwtd:summary = The arithmetic average of longitude offsets from the grid cell center for all observations in \n",
            "the grid cell. The value of this offset can vary from -0.5 to 0.5. A value of zero indicates \n",
            "that the computed fco2 mean values are representative of the grid cell center position. ;\n",
            "\n",
            "// global attributes:\n",
            "\t:history = PyFerret V7.63 (optimized) 31-May-22 ;\n",
            "\t:Conventions = CF-1.6 ;\n",
            "\t:SOCAT_Notes = SOCAT gridded v2022 26-May-2022 ;\n",
            "\t:title = SOCAT gridded v2022 Monthly 1x1 degree gridded dataset ;\n",
            "\t:summary = Surface Ocean Carbon Atlas (SOCAT) Gridded (binned) SOCAT observations, with a spatial \n",
            "grid of 1x1 degree and monthly in time. The gridded fields are computed using only SOCAT \n",
            "datasets with QC flags of A through D and SOCAT data points flagged with WOCE flag values of 2. ;\n",
            "\t:references = http://www.socat.info/ ;\n",
            "\t:caution = NO INTERPOLATION WAS PERFORMED. SIGNIFICANT BIASES ARE PRESENT IN THESE GRIDDED RESULTS DUE TO THE \n",
            "ARBITRARY AND SPARSE LOCATIONS OF DATA VALUES IN BOTH SPACE AND TIME. ;\n",
            "}"
          ]
        }
      ],
      "source": [
        "import fsspec # for reading remote files\n",
        "import xarray as xr\n",
        "with fsspec.open(\"./inputs/SOCATv2022_tracks_gridded_monthly.nc.zip\", compression='zip') as fp:\n",
        "    ds = xr.open_dataset(fp)\n",
        "ds.info()"
      ]
    },
    {
      "cell_type": "code",
      "execution_count": null,
      "metadata": {
        "colab": {
          "base_uri": "https://localhost:8080/",
          "height": 298
        },
        "id": "zO9sH5wXiRDx",
        "outputId": "c5d75a87-c835-448b-fe12-377f83e184de",
        "tags": [
          "skip-execution"
        ]
      },
      "outputs": [
        {
          "output_type": "execute_result",
          "data": {
            "text/plain": [
              "<matplotlib.collections.QuadMesh at 0x7fe2a53a8850>"
            ]
          },
          "metadata": {},
          "execution_count": 33
        },
        {
          "output_type": "display_data",
          "data": {
            "text/plain": [
              "<Figure size 432x288 with 2 Axes>"
            ],
            "image/png": "[encoded data removed]"
          },
          "metadata": {
            "needs_background": "light"
          }
        }
      ],
      "source": [
        "time_slice = slice(\"2010\", \"2020\") # select a decade\n",
        "res = ds['sst_ave_unwtd'].sel(tmnth=time_slice).mean(dim='tmnth') # average over time\n",
        "res.plot() # plot the result\n"
      ]
    },
    {
      "cell_type": "markdown",
      "metadata": {
        "id": "fPV805_biRDx"
      },
      "source": [
        "We can see that the dataset contains lat-long coordinates, the date, and a series of seawater measurements. Above you can see a plot of the average surface sea temperature (sst) between 2010-2020, where recording buoys and boats have travelled.\n",
        "\n",
        "## The Task - Large Scale Data Conversion\n",
        "\n",
        "The goal of this notebook is to convert the data from fugacity of CO2 (fCO2) to partial pressure of CO2 (pCO2). This is a common task in oceanography, and is performed by combining the measurements of the surface temperature and fugacity. The conversion is performed by the [pyseaflux](https://seaflux.readthedocs.io/en/latest/api.html?highlight=fCO2_to_pCO2#pyseaflux.fco2_pco2_conversion.fCO2_to_pCO2) package.\n",
        "\n",
        "To execute this workload on the Bacalhau network we need to perform three steps:\n",
        "\n",
        "1. Upload the data to IPFS\n",
        "2. Create a docker image with the code and dependencies\n",
        "3. Run the docker image on the Bacalhau network using the IPFS data\n",
        "\n",
        "### Upload the Data to IPFS\n",
        "\n",
        "The first step is to upload the data to IPFS. The simplest way to do this is to use a third party service to \"pin\" data to the IPFS network, to ensure that the data exists and is available. To do this you need an account with a pinning service like [web3.storage](https://web3.storage/) or [Pinata](https://pinata.cloud/). Once registered you can use their UI or API or SDKs to upload files.\n",
        "\n",
        "For the purposes of this example I:\n",
        "1. Downloaded the latest monthly data from the [SOCAT website](https://www.socat.info/)\n",
        "2. Downloaded the latest long-term global sea surface temperature data from [NOAA](https://downloads.psl.noaa.gov/Datasets/noaa.oisst.v2/sst.mnmean.nc) - information about that dataset can be found [here](https://psl.noaa.gov/data/gridded/data.noaa.oisst.v2.highres.html).\n",
        "3. Pinned the data to IPFS\n",
        "\n",
        "This resulted in the IPFS CID of `bafybeidunikexxu5qtuwc7eosjpuw6a75lxo7j5ezf3zurv52vbrmqwf6y`.\n",
        "\n",
        "<!-- TODO: Add link to notebook showing people how to upload data to IPFS -->\n",
        "\n",
        "### Create a Docker Image to Process the Data\n",
        "\n",
        "Next we will create the docker image that will process the data. The docker image will contain the code and dependencies needed to perform the conversion. This code originated with [lgloege](https://github.com/lgloege/bacalhau_socat_test) via [wesfloyd](https://github.com/wesfloyd/bacalhau_socat_test/). Thank you! 🤗\n",
        "\n",
        ":::tip\n",
        "For more information about working with custom containers, see the [custom containers example](../../workload-onboarding/custom-containers/).\n",
        ":::\n",
        "\n",
        "The key thing to watch out for here is the paths to the data. I'm using the default bacalhau output directory `/outputs` to write my data to. And the input data is mounted to the `/inputs` directory. But as you will see in a moment, web3.storage has added another `input` directory that we need to account for."
      ]
    },
    {
      "cell_type": "code",
      "execution_count": null,
      "metadata": {
        "colab": {
          "base_uri": "https://localhost:8080/"
        },
        "id": "7GSifueQiRDx",
        "outputId": "b2533a9f-343b-479d-e80b-14e1b3655819"
      },
      "outputs": [
        {
          "output_type": "stream",
          "name": "stdout",
          "text": [
            "Overwriting main.py\n"
          ]
        }
      ],
      "source": [
        "%%writefile main.py\n",
        "import fsspec\n",
        "import xarray as xr\n",
        "import pandas as pd\n",
        "import numpy as np\n",
        "import pyseaflux\n",
        "\n",
        "\n",
        "def lon_360_to_180(ds=None, lonVar=None):\n",
        "    lonVar = \"lon\" if lonVar is None else lonVar\n",
        "    return (ds.assign_coords({lonVar: (((ds[lonVar] + 180) % 360) - 180)})\n",
        "            .sortby(lonVar)\n",
        "            .astype(dtype='float32', order='C'))\n",
        "\n",
        "\n",
        "def center_dates(ds):\n",
        "    # start and end date\n",
        "    start_date = str(ds.time[0].dt.strftime('%Y-%m').values)\n",
        "    end_date = str(ds.time[-1].dt.strftime('%Y-%m').values)\n",
        "\n",
        "    # monthly dates centered on 15th of each month\n",
        "    dates = pd.date_range(start=f'{start_date}-01T00:00:00.000000000',\n",
        "                          end=f'{end_date}-01T00:00:00.000000000',\n",
        "                          freq='MS') + np.timedelta64(14, 'D')\n",
        "\n",
        "    return ds.assign(time=dates)\n",
        "\n",
        "\n",
        "def get_and_process_sst(url=None):\n",
        "    # get noaa sst\n",
        "    if url is None:\n",
        "        url = (\"/inputs/sst.mnmean.nc\")\n",
        "\n",
        "    with fsspec.open(url) as fp:\n",
        "        ds = xr.open_dataset(fp)\n",
        "        ds = lon_360_to_180(ds)\n",
        "        ds = center_dates(ds)\n",
        "        return ds\n",
        "\n",
        "\n",
        "def get_and_process_socat(url=None):\n",
        "    if url is None:\n",
        "        url = (\"/inputs/SOCATv2022_tracks_gridded_monthly.nc.zip\")\n",
        "\n",
        "    with fsspec.open(url, compression='zip') as fp:\n",
        "        ds = xr.open_dataset(fp)\n",
        "        ds = ds.rename({\"xlon\": \"lon\", \"ylat\": \"lat\", \"tmnth\": \"time\"})\n",
        "        ds = center_dates(ds)\n",
        "        return ds\n",
        "\n",
        "\n",
        "def main():\n",
        "    print(\"Load SST and SOCAT data\")\n",
        "    ds_sst = get_and_process_sst()\n",
        "    ds_socat = get_and_process_socat()\n",
        "\n",
        "    print(\"Merge datasets together\")\n",
        "    time_slice = slice(\"1981-12\", \"2022-05\")\n",
        "    ds_out = xr.merge([ds_sst['sst'].sel(time=time_slice),\n",
        "                       ds_socat['fco2_ave_unwtd'].sel(time=time_slice)])\n",
        "\n",
        "    print(\"Calculate pco2 from fco2\")\n",
        "    ds_out['pco2_ave_unwtd'] = xr.apply_ufunc(\n",
        "        pyseaflux.fCO2_to_pCO2,\n",
        "        ds_out['fco2_ave_unwtd'],\n",
        "        ds_out['sst'])\n",
        "\n",
        "    print(\"Add metadata\")\n",
        "    ds_out['pco2_ave_unwtd'].attrs['units'] = 'uatm'\n",
        "    ds_out['pco2_ave_unwtd'].attrs['notes'] = (\"calculated using\" +\n",
        "                                               \"NOAA OI SST V2\" +\n",
        "                                               \"and pyseaflux package\")\n",
        "\n",
        "    print(\"Save data\")\n",
        "    ds_out.to_zarr(\"/processed.zarr\")\n",
        "    import shutil\n",
        "    shutil.make_archive(\"/outputs/processed.zarr\", 'zip', \"/processed.zarr\")\n",
        "    print(\"Zarr file written to disk, job completed successfully\")\n",
        "\n",
        "if __name__ == \"__main__\":\n",
        "    main()"
      ]
    },
    {
      "cell_type": "code",
      "execution_count": null,
      "metadata": {
        "colab": {
          "base_uri": "https://localhost:8080/"
        },
        "id": "_Bq9hOI7iRDy",
        "outputId": "3eef8923-263a-440a-95af-45c5d0d93673"
      },
      "outputs": [
        {
          "output_type": "stream",
          "name": "stdout",
          "text": [
            "Overwriting Dockerfile\n"
          ]
        }
      ],
      "source": [
        "%%writefile Dockerfile\n",
        "FROM python:slim\n",
        "\n",
        "RUN apt-get update && apt-get -y upgrade \\\n",
        "    && apt-get install -y --no-install-recommends \\\n",
        "    g++ \\\n",
        "    && rm -rf /var/lib/apt/lists/*\n",
        "\n",
        "WORKDIR /project\n",
        "\n",
        "COPY ./requirements.txt /project\n",
        "\n",
        "RUN pip3 install -r requirements.txt\n",
        "\n",
        "COPY ./main.py /project\n",
        "\n",
        "CMD [\"python\",\"main.py\"]"
      ]
    },
    {
      "cell_type": "code",
      "execution_count": null,
      "metadata": {
        "id": "_idzqnaiiRDy",
        "tags": [
          "remove_cell",
          "skip-execution"
        ]
      },
      "outputs": [],
      "source": [
        "%%bash\n",
        "# docker buildx build --platform linux/amd64,linux/arm64 --push -t ghcr.io/bacalhau-project/examples/socat:0.0.11 ."
      ]
    },
    {
      "cell_type": "markdown",
      "metadata": {
        "id": "3A8lvg6GiRDy"
      },
      "source": [
        "### Test the Container Locally\n",
        "\n",
        "Before we upload the container to the Bacalhau network, we should test it locally to make sure it works."
      ]
    },
    {
      "cell_type": "code",
      "execution_count": null,
      "metadata": {
        "id": "A93dGC7EiRDy",
        "outputId": "4f836c49-f5aa-461f-8341-94663e8eddbc",
        "tags": [
          "skip-execution"
        ]
      },
      "outputs": [
        {
          "name": "stdout",
          "output_type": "stream",
          "text": [
            "Zarr file written to disk, job completed successfully\n"
          ]
        }
      ],
      "source": [
        "%%bash\n",
        "docker run \\\n",
        "\t-v $(pwd)/inputs:/inputs \\\n",
        "\t-v $(pwd)/outputs:/outputs \\\n",
        "\tghcr.io/bacalhau-project/examples/socat:0.0.11"
      ]
    },
    {
      "cell_type": "markdown",
      "metadata": {
        "id": "jYDniwQJiRDz"
      },
      "source": [
        "### Run a Bacalhau Job\n",
        "\n",
        "Now that we have the data in IPFS and the docker image pushed, we can run a job on the Bacalhau network.\n",
        "\n",
        "I find it useful to first run a simple test with a known working container to ensure the data is located in the place I expect, because some storage providers add their own opinions. E.g. web3.storage wraps the directory uploads in a top level directory."
      ]
    },
    {
      "cell_type": "code",
      "execution_count": null,
      "metadata": {
        "id": "YPSs-FBeiRDz",
        "outputId": "78c0316f-cffc-4c2b-d628-4b36a31fcd25",
        "tags": [
          "skip-execution"
        ]
      },
      "outputs": [
        {
          "name": "stdout",
          "output_type": "stream",
          "text": [
            "d26d6c9a-ede3-47fd-9c2c-9be272eaf4f5\n",
            "\n",
            "SOCATv2022_tracks_gridded_monthly.nc.zip\n",
            "sst.mnmean.nc\n",
            "\n"
          ]
        },
        {
          "name": "stderr",
          "output_type": "stream",
          "text": [
            "\u001b[90m16:34:34.748 |\u001b[0m \u001b[32mINF\u001b[0m \u001b[1mipfs/downloader.go:115\u001b[0m\u001b[36m >\u001b[0m Found 1 result shards, downloading to temporary folder.\n",
            "\u001b[90m16:34:37.741 |\u001b[0m \u001b[32mINF\u001b[0m \u001b[1mipfs/downloader.go:195\u001b[0m\u001b[36m >\u001b[0m Combining shard from output volume 'outputs' to final location: '/Users/phil/source/bacalhau-project/examples/data-engineering/oceanography-conversion'\n"
          ]
        }
      ],
      "source": [
        "%%bash\n",
        "rm -rf stdout stderr volumes shards\n",
        "bacalhau docker run \\\n",
        "        --download \\\n",
        "        --inputs bafybeidunikexxu5qtuwc7eosjpuw6a75lxo7j5ezf3zurv52vbrmqwf6y \\\n",
        "        ubuntu -- ls /inputs"
      ]
    },
    {
      "cell_type": "markdown",
      "metadata": {
        "id": "kdivIKOKiRDz"
      },
      "source": [
        "Then I like to run a simple test with my custom container ..."
      ]
    },
    {
      "cell_type": "code",
      "execution_count": null,
      "metadata": {
        "id": "oMzcVlVDiRDz",
        "outputId": "3fb3c31b-1844-44b2-a7b4-27dc2b87581c",
        "tags": [
          "skip-execution"
        ]
      },
      "outputs": [
        {
          "name": "stdout",
          "output_type": "stream",
          "text": [
            "8cb67fbe-6574-4597-95df-006f5aaa5f88\n",
            "\n",
            "total 98296\n",
            "drwxr-xr-x 2 root root     4096 Sep 23 14:15 .\n",
            "drwxr-xr-x 1 root root     4096 Sep 26 15:34 ..\n",
            "-rw-r--r-- 1 root root 37249557 Sep 23 14:15 SOCATv2022_tracks_gridded_monthly.nc.zip\n",
            "-rw-r--r-- 1 root root 63390820 Sep 23 14:15 sst.mnmean.nc\n",
            "\n"
          ]
        },
        {
          "name": "stderr",
          "output_type": "stream",
          "text": [
            "\u001b[90m16:35:02.943 |\u001b[0m \u001b[32mINF\u001b[0m \u001b[1mipfs/downloader.go:115\u001b[0m\u001b[36m >\u001b[0m Found 1 result shards, downloading to temporary folder.\n",
            "\u001b[90m16:35:05.635 |\u001b[0m \u001b[32mINF\u001b[0m \u001b[1mipfs/downloader.go:195\u001b[0m\u001b[36m >\u001b[0m Combining shard from output volume 'outputs' to final location: '/Users/phil/source/bacalhau-project/examples/data-engineering/oceanography-conversion'\n"
          ]
        }
      ],
      "source": [
        "%%bash\n",
        "rm -rf stdout stderr volumes shards\n",
        "bacalhau docker run \\\n",
        "\t--inputs bafybeidunikexxu5qtuwc7eosjpuw6a75lxo7j5ezf3zurv52vbrmqwf6y \\\n",
        "\t--download \\\n",
        "\tghcr.io/bacalhau-project/examples/socat:0.0.11 -- ls -la /inputs/"
      ]
    },
    {
      "cell_type": "markdown",
      "metadata": {
        "id": "bODZCPX-iRDz"
      },
      "source": [
        "And finally let's run the full job. This time I will not download the data immediately, because the job takes around 100s. And it takes another few minutes to download the results. The commands are below, but you will need to wait until the job completes before they work."
      ]
    },
    {
      "cell_type": "code",
      "execution_count": null,
      "metadata": {
        "id": "UmFHEY96iRD0",
        "tags": [
          "skip-execution"
        ]
      },
      "outputs": [],
      "source": [
        "%%bash  --out job_id\n",
        "bacalhau docker run \\\n",
        "        --inputs bafybeidunikexxu5qtuwc7eosjpuw6a75lxo7j5ezf3zurv52vbrmqwf6y \\\n",
        "        --wait \\\n",
        "        ghcr.io/bacalhau-project/examples/socat:0.0.11 -- python main.py"
      ]
    },
    {
      "cell_type": "code",
      "execution_count": 2,
      "metadata": {
        "colab": {
          "base_uri": "https://localhost:8080/"
        },
        "id": "Rb7nth4NiRD0",
        "outputId": "1b9a9e0a-3c48-46a2-ed77-92eedcb7f62f",
        "tags": [
          "remove_cell",
          "skip-execution"
        ]
      },
      "outputs": [
        {
          "output_type": "stream",
          "name": "stdout",
          "text": [
            "env: JOB_ID=8e162098-f9bc-4733-8c98-c2e89ebefc5e\n"
          ]
        }
      ],
      "source": [
        "%env JOB_ID={job_id}"
      ]
    },
    {
      "cell_type": "markdown",
      "metadata": {
        "id": "lJk-OgXkiRD0"
      },
      "source": [
        "## Get Results\n",
        "\n",
        "Now let's download and display the result from the results directory. We can use the `bacalhau results` command to download the results from the output data volume. The `--output-dir` argument specifies the directory to download the results to."
      ]
    },
    {
      "cell_type": "code",
      "execution_count": 7,
      "metadata": {
        "id": "hZv5X-VriRD0",
        "outputId": "3afb500d-fc7d-43a7-f3b7-de2bda98f134",
        "tags": [
          "skip-execution"
        ],
        "colab": {
          "base_uri": "https://localhost:8080/"
        }
      },
      "outputs": [
        {
          "output_type": "stream",
          "name": "stdout",
          "text": [
            "Process is interrupted.\n"
          ]
        }
      ],
      "source": [
        "%%bash\n",
        "rm -rf results\n",
        "mkdir -p ./results # Temporary directory to store the results\n",
        "bacalhau get --output-dir ./results ${JOB_ID} # Download the results"
      ]
    },
    {
      "cell_type": "code",
      "execution_count": null,
      "metadata": {
        "id": "L4sOtSSMiRD0",
        "outputId": "52647afa-1715-41b7-cb29-9f21eeb8c648",
        "tags": [
          "skip-execution"
        ]
      },
      "outputs": [
        {
          "name": "stdout",
          "output_type": "stream",
          "text": [
            "Load SST and SOCAT data\n",
            "Merge datasets together\n",
            "Calculate pco2 from fco2\n",
            "Add metadata\n",
            "Save data\n",
            "Zarr file written to disk, job completed successfully\n"
          ]
        }
      ],
      "source": [
        "%%bash\n",
        "cat ./results/stdout"
      ]
    },
    {
      "cell_type": "code",
      "execution_count": null,
      "metadata": {
        "id": "9IXGoGKoiRD0",
        "outputId": "c19248c7-6fa1-4e05-de73-148a8f19e850",
        "tags": [
          "skip-execution"
        ]
      },
      "outputs": [
        {
          "name": "stdout",
          "output_type": "stream",
          "text": [
            "processed.zarr.zip\n"
          ]
        }
      ],
      "source": [
        "%%bash\n",
        "ls ./results/volumes/outputs"
      ]
    },
    {
      "cell_type": "code",
      "execution_count": 9,
      "metadata": {
        "id": "eiqvsajXfzDw",
        "tags": [
          "skip-execution"
        ]
      },
      "outputs": [],
      "source": [
        "import shutil\n",
        "shutil.unpack_archive(\"./results/volumes/outputs/processed.zarr.zip\", \"./results/volumes/outputs/\")"
      ]
    },
    {
      "cell_type": "code",
      "execution_count": 10,
      "metadata": {
        "id": "6bh2ljiuiRD1",
        "outputId": "f604aeae-cf7e-4183-885b-5e42215ce3ea",
        "tags": [
          "skip-execution"
        ],
        "colab": {
          "base_uri": "https://localhost:8080/"
        }
      },
      "outputs": [
        {
          "output_type": "stream",
          "name": "stdout",
          "text": [
            "xarray.Dataset {\n",
            "dimensions:\n",
            "\ttime = 486 ;\n",
            "\tlat = 180 ;\n",
            "\tlon = 360 ;\n",
            "\n",
            "variables:\n",
            "\tfloat32 fco2_ave_unwtd(time, lat, lon) ;\n",
            "\t\tfco2_ave_unwtd:history = From SOCAT_ABCD_data_for_gridding ;\n",
            "\t\tfco2_ave_unwtd:long_name = fCO2 mean - unweighted all obs ;\n",
            "\t\tfco2_ave_unwtd:summary = Arithmetic mean of all fco2 recomputed values found in the grid cell. ;\n",
            "\t\tfco2_ave_unwtd:units = uatm ;\n",
            "\tfloat32 lat(lat) ;\n",
            "\tfloat32 lon(lon) ;\n",
            "\tfloat32 pco2_ave_unwtd(time, lat, lon) ;\n",
            "\t\tpco2_ave_unwtd:notes = calculated usingNOAA OI SST V2and pyseaflux package ;\n",
            "\t\tpco2_ave_unwtd:units = uatm ;\n",
            "\tfloat32 sst(time, lat, lon) ;\n",
            "\t\tsst:actual_range = [-1.7999995946884155, 35.56861877441406] ;\n",
            "\t\tsst:cell_methods = time: mean (monthly from weekly values interpolated to daily) ;\n",
            "\t\tsst:dataset = NOAA Optimum Interpolation (OI) SST V2 ;\n",
            "\t\tsst:level_desc = Surface ;\n",
            "\t\tsst:long_name = Monthly Mean of Sea Surface Temperature ;\n",
            "\t\tsst:parent_stat = Weekly Mean ;\n",
            "\t\tsst:precision = 2 ;\n",
            "\t\tsst:standard_name = sea_surface_temperature ;\n",
            "\t\tsst:statistic = Mean ;\n",
            "\t\tsst:units = degC ;\n",
            "\t\tsst:unpacked_valid_range = [-5.0, 40.0] ;\n",
            "\t\tsst:valid_range = [-500, 4000] ;\n",
            "\t\tsst:var_desc = Sea Surface Temperature ;\n",
            "\tdatetime64[ns] time(time) ;\n",
            "\n",
            "// global attributes:\n",
            "\t:actual_range = [-1.7999995946884155, 35.56861877441406] ;\n",
            "\t:cell_methods = time: mean (monthly from weekly values interpolated to daily) ;\n",
            "\t:dataset = NOAA Optimum Interpolation (OI) SST V2 ;\n",
            "\t:level_desc = Surface ;\n",
            "\t:long_name = Monthly Mean of Sea Surface Temperature ;\n",
            "\t:parent_stat = Weekly Mean ;\n",
            "\t:precision = 2 ;\n",
            "\t:standard_name = sea_surface_temperature ;\n",
            "\t:statistic = Mean ;\n",
            "\t:units = degC ;\n",
            "\t:unpacked_valid_range = [-5.0, 40.0] ;\n",
            "\t:valid_range = [-500, 4000] ;\n",
            "\t:var_desc = Sea Surface Temperature ;\n",
            "}"
          ]
        }
      ],
      "source": [
        "import xarray as xr\n",
        "ds = xr.open_dataset(\"./results/volumes/outputs/\", engine='zarr')\n",
        "ds.info()"
      ]
    },
    {
      "cell_type": "code",
      "execution_count": null,
      "metadata": {
        "id": "kglrEVlKiRD1",
        "outputId": "0d002106-fc92-4cd6-d96a-102d2c559ec6",
        "tags": [
          "skip-execution"
        ]
      },
      "outputs": [
        {
          "data": {
            "text/plain": [
              "<matplotlib.collections.QuadMesh at 0x128b97a90>"
            ]
          },
          "execution_count": 54,
          "metadata": {},
          "output_type": "execute_result"
        },
        {
          "data": {
            "image/png": "[encoded data removed]",
            "text/plain": [
              "<Figure size 432x288 with 2 Axes>"
            ]
          },
          "metadata": {
            "needs_background": "light"
          },
          "output_type": "display_data"
        }
      ],
      "source": [
        "ds['pco2_ave_unwtd'].mean(dim='time').plot()"
      ]
    }
  ],
  "metadata": {
    "colab": {
      "provenance": []
    },
    "kernelspec": {
      "display_name": "Python 3.8.11 64-bit ('3.8.11')",
      "language": "python",
      "name": "python3"
    },
    "language_info": {
      "codemirror_mode": {
        "name": "ipython",
        "version": 3
      },
      "file_extension": ".py",
      "mimetype": "text/x-python",
      "name": "python",
      "nbconvert_exporter": "python",
      "pygments_lexer": "ipython3",
      "version": "3.8.11"
    },
    "orig_nbformat": 4,
    "vscode": {
      "interpreter": {
        "hash": "f734c4be18bd28395bd04efe0c195ab1b841c199e99e77f9323d7e981c9e7e10"
      }
    }
  },
  "nbformat": 4,
  "nbformat_minor": 0
}