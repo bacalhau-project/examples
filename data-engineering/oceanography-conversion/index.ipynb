{
  "cells": [
    {
      "cell_type": "raw",
      "metadata": {
        "id": "HlUF5q7CiRDt",
        "tags": [
          "skip-execution"
        ]
      },
      "source": [
        "---\n",
        "sidebar_label: \"Oceanography - Data Conversion\"\n",
        "sidebar_position: 10\n",
        "description: \"Oceanography data conversion with Bacalhau\"\n",
        "---"
      ]
    },
    {
      "attachments": {},
      "cell_type": "markdown",
      "metadata": {
        "id": "bTnXx3ReiRDt",
        "tags": [
          "skip-execution"
        ]
      },
      "source": [
        "# Oceanography - Data Conversion\n",
        "\n",
        "[![Open In Colab](https://colab.research.google.com/assets/colab-badge.svg)](https://colab.research.google.com/github/bacalhau-project/examples/blob/main/data-engineering/oceanography-conversion/index.ipynb)\n",
        "[![Open In Binder](https://mybinder.org/badge.svg)](https://mybinder.org/v2/gh/bacalhau-project/examples/HEAD?labpath=data-engineering/oceanography-conversion/index.ipynb)\n",
        "\n",
        "The Surface Ocean CO₂ Atlas (SOCAT) contains measurements of the [fugacity](https://en.wikipedia.org/wiki/Fugacity) of CO2 in seawater around the globe. But to calculate how much carbon the ocean is taking up from the atmosphere, these measurements need to be converted to the partial pressure of CO2. We will convert the units by combining measurements of the surface temperature and fugacity.  Python libraries (xarray, pandas, numpy) and the pyseaflux package facilitate this process.\n",
        "\n",
        "The goal of this notebook is to investigate the data and convert dockerize the workload so that it can be executed on the Bacalhau network, to take advantage of the distributed storage and compute resources.\n",
        "\n",
        "## Prerequisites\n",
        "\n",
        "This example requires Docker. If you don't have Docker installed, you can install it from [here](https://docs.docker.com/install/). Docker commands will not work on hosted notebooks like Google Colab, but the Bacalhau commands will.\n",
        "\n",
        "Make sure you have the latest `bacalhau` client installed by following the [getting started instructions](../../../getting-started/installation)\n",
        "\n",
        "## The Data\n",
        "\n",
        "The raw data is available on the [SOCAT website](https://www.socat.info/). We will use the [SOCATv2021](https://www.socat.info/index.php/version-2021/) dataset in the \"Gridded\" format to perform this calculation. First, let's take a quick look at some data:"
      ]
    },
    {
      "cell_type": "code",
      "execution_count": 1,
      "metadata": {
        "id": "YK9vgLgriRDu",
        "tags": [
          "skip-execution"
        ]
      },
      "outputs": [],
      "source": [
        "!command -v docker >/dev/null 2>&1 || { echo >&2 \"I require docker but it's not installed.  Aborting.\"; exit 1; }"
      ]
    },
    {
      "cell_type": "code",
      "execution_count": 2,
      "metadata": {
        "colab": {
          "base_uri": "https://localhost:8080/"
        },
        "id": "vC6FC4mXiRDu",
        "outputId": "7dc9b6b5-7280-45c7-d4c1-d7b07a52ae85",
        "tags": [
          "skip-execution"
        ]
      },
      "outputs": [
        {
          "name": "stdout",
          "output_type": "stream",
          "text": [
            "Your system is linux_amd64\n",
            "No BACALHAU detected. Installing fresh BACALHAU CLI...\n",
            "Getting the latest BACALHAU CLI...\n",
            "Installing v0.3.15 BACALHAU CLI...\n",
            "Downloading https://github.com/filecoin-project/bacalhau/releases/download/v0.3.15/bacalhau_v0.3.15_linux_amd64.tar.gz ...\n",
            "Downloading sig file https://github.com/filecoin-project/bacalhau/releases/download/v0.3.15/bacalhau_v0.3.15_linux_amd64.tar.gz.signature.sha256 ...\n",
            "Verified OK\n",
            "Extracting tarball ...\n",
            "NOT verifying Bin\n",
            "bacalhau installed into . successfully.\n",
            "Client Version: v0.3.15\n",
            "Server Version: v0.3.15\n",
            "env: PATH=./:/home/gitpod/.pyenv/versions/3.8.13/bin:/home/gitpod/.pyenv/libexec:/home/gitpod/.pyenv/plugins/python-build/bin:/home/gitpod/.pyenv/plugins/pyenv-virtualenv/bin:/home/gitpod/.pyenv/plugins/pyenv-update/bin:/home/gitpod/.pyenv/plugins/pyenv-installer/bin:/home/gitpod/.pyenv/plugins/pyenv-doctor/bin:/home/gitpod/.pyenv/shims:/ide/bin/remote-cli:/home/gitpod/.nix-profile/bin:/home/gitpod/.local/bin:/home/gitpod/.sdkman/candidates/maven/current/bin:/home/gitpod/.sdkman/candidates/java/current/bin:/home/gitpod/.sdkman/candidates/gradle/current/bin:/workspace/.cargo/bin:/home/gitpod/.rvm/gems/ruby-3.1.2/bin:/home/gitpod/.rvm/gems/ruby-3.1.2@global/bin:/home/gitpod/.rvm/rubies/ruby-3.1.2/bin:/home/gitpod/.pyenv/plugins/pyenv-virtualenv/shims:/home/gitpod/.pyenv/shims:/workspace/go/bin:/home/gitpod/.nix-profile/bin:/ide/bin/remote-cli:/home/gitpod/go/bin:/home/gitpod/go-packages/bin:/home/gitpod/.nvm/versions/node/v16.18.1/bin:/home/gitpod/.yarn/bin:/home/gitpod/.pnpm:/home/gitpod/.pyenv/bin:/workspace/.rvm/bin:/home/gitpod/.cargo/bin:/home/linuxbrew/.linuxbrew/bin:/home/linuxbrew/.linuxbrew/sbin/:/home/gitpod/.local/bin:/usr/games:/usr/local/sbin:/usr/local/bin:/usr/sbin:/usr/bin:/sbin:/bin:/home/gitpod/.nvm/versions/node/v16.18.1/bin:/home/gitpod/.rvm/bin\n"
          ]
        }
      ],
      "source": [
        "!(export BACALHAU_INSTALL_DIR=.; curl -sL https://get.bacalhau.org/install.sh | bash)\n",
        "path=!echo $PATH\n",
        "%env PATH=./:{path[0]}"
      ]
    },
    {
      "cell_type": "code",
      "execution_count": 3,
      "metadata": {
        "colab": {
          "base_uri": "https://localhost:8080/"
        },
        "id": "b7HLGzrGiRDv",
        "outputId": "14fe85f1-6601-401f-8faf-764647f35fe5",
        "tags": [
          "skip-execution"
        ]
      },
      "outputs": [
        {
          "name": "stderr",
          "output_type": "stream",
          "text": [
            "  % Total    % Received % Xferd  Average Speed   Time    Time     Time  Current\n",
            "                                 Dload  Upload   Total   Spent    Left  Speed\n",
            "100 35.5M  100 35.5M    0     0  34.6M      0  0:00:01  0:00:01 --:--:-- 34.6M\n",
            "  % Total    % Received % Xferd  Average Speed   Time    Time     Time  Current\n",
            "                                 Dload  Upload   Total   Spent    Left  Speed\n",
            "100 60.8M  100 60.8M    0     0  14.6M      0  0:00:04  0:00:04 --:--:-- 14.6M\n"
          ]
        }
      ],
      "source": [
        "%%bash\n",
        "mkdir -p inputs\n",
        "curl --output ./inputs/SOCATv2022_tracks_gridded_monthly.nc.zip https://www.socat.info/socat_files/v2022/SOCATv2022_tracks_gridded_monthly.nc.zip\n",
        "curl --output ./inputs/sst.mnmean.nc https://downloads.psl.noaa.gov/Datasets/noaa.oisst.v2/sst.mnmean.nc"
      ]
    },
    {
      "cell_type": "markdown",
      "metadata": {
        "id": "iIaEXJE8iRDv",
        "tags": [
          "skip-execution"
        ]
      },
      "source": [
        "Next let's write the requirements.txt and install the dependencies. This file will also be used by the Dockerfile to install the dependencies."
      ]
    },
    {
      "cell_type": "code",
      "execution_count": 4,
      "metadata": {
        "colab": {
          "base_uri": "https://localhost:8080/"
        },
        "id": "_GgzkzoYiRDv",
        "outputId": "f61be853-5e08-47ac-d164-e8931687ebe9",
        "tags": [
          "skip-execution"
        ]
      },
      "outputs": [
        {
          "name": "stdout",
          "output_type": "stream",
          "text": [
            "Writing requirements.txt\n"
          ]
        }
      ],
      "source": [
        "%%writefile requirements.txt\n",
        "Bottleneck==1.3.5\n",
        "dask==2022.2.0\n",
        "fsspec==2022.5.0\n",
        "netCDF4==1.6.0\n",
        "numpy==1.21.6\n",
        "pandas==1.3.5\n",
        "pip==22.1.2\n",
        "pyseaflux==2.2.1\n",
        "scipy==1.7.3\n",
        "xarray==0.20.2\n",
        "zarr>=2.0.0"
      ]
    },
    {
      "cell_type": "code",
      "execution_count": 5,
      "metadata": {
        "id": "VyLJHRUFiRDv",
        "tags": [
          "skip-execution"
        ]
      },
      "outputs": [],
      "source": [
        "%%bash\n",
        "pip install -r requirements.txt > /dev/null"
      ]
    },
    {
      "cell_type": "code",
      "execution_count": 6,
      "metadata": {
        "colab": {
          "base_uri": "https://localhost:8080/"
        },
        "id": "BR0okKebiRDw",
        "outputId": "0ed12661-86d5-48c1-9af9-873b861636cb",
        "tags": [
          "skip-execution"
        ]
      },
      "outputs": [
        {
          "name": "stdout",
          "output_type": "stream",
          "text": [
            "xarray.Dataset {\n",
            "dimensions:\n",
            "\txlon = 360 ;\n",
            "\tylat = 180 ;\n",
            "\ttmnth = 624 ;\n",
            "\tbnds = 2 ;\n",
            "\n",
            "variables:\n",
            "\tfloat64 xlon(xlon) ;\n",
            "\t\txlon:units = degrees_east ;\n",
            "\t\txlon:point_spacing = even ;\n",
            "\t\txlon:axis = X ;\n",
            "\t\txlon:modulo = 360.0 ;\n",
            "\t\txlon:standard_name = longitude ;\n",
            "\tfloat64 ylat(ylat) ;\n",
            "\t\tylat:units = degrees_north ;\n",
            "\t\tylat:point_spacing = even ;\n",
            "\t\tylat:axis = Y ;\n",
            "\t\tylat:standard_name = latitude ;\n",
            "\tdatetime64[ns] tmnth(tmnth) ;\n",
            "\t\ttmnth:axis = T ;\n",
            "\t\ttmnth:bounds = tmnth_bnds ;\n",
            "\t\ttmnth:time_origin = 01-JAN-1970 ;\n",
            "\t\ttmnth:standard_name = time ;\n",
            "\tdatetime64[ns] tmnth_bnds(tmnth, bnds) ;\n",
            "\tfloat64 count_ncruise(tmnth, ylat, xlon) ;\n",
            "\t\tcount_ncruise:long_name = Number of cruises ;\n",
            "\t\tcount_ncruise:units = count ;\n",
            "\t\tcount_ncruise:history = From SOCAT_ABCD_data_for_gridding ;\n",
            "\t\tcount_ncruise:summary = Number of datasets containing observations in the grid cell ;\n",
            "\tfloat64 fco2_count_nobs(tmnth, ylat, xlon) ;\n",
            "\t\tfco2_count_nobs:long_name = Number of fco2 obs ;\n",
            "\t\tfco2_count_nobs:units = count ;\n",
            "\t\tfco2_count_nobs:history = From SOCAT_ABCD_data_for_gridding ;\n",
            "\t\tfco2_count_nobs:summary = Total number of observations in the grid cell. ;\n",
            "\tfloat32 fco2_ave_weighted(tmnth, ylat, xlon) ;\n",
            "\t\tfco2_ave_weighted:long_name = fCO2 mean - per cruise weighted ;\n",
            "\t\tfco2_ave_weighted:units = uatm ;\n",
            "\t\tfco2_ave_weighted:history = From SOCAT_ABCD_data_for_gridding ;\n",
            "\t\tfco2_ave_weighted:summary = Mean of fco2 recomputed computed by calculating the arithmetic mean value for each cruise passing through the cell and then averaging these datasets. ;\n",
            "\tfloat32 fco2_ave_unwtd(tmnth, ylat, xlon) ;\n",
            "\t\tfco2_ave_unwtd:long_name = fCO2 mean - unweighted all obs ;\n",
            "\t\tfco2_ave_unwtd:units = uatm ;\n",
            "\t\tfco2_ave_unwtd:history = From SOCAT_ABCD_data_for_gridding ;\n",
            "\t\tfco2_ave_unwtd:summary = Arithmetic mean of all fco2 recomputed values found in the grid cell. ;\n",
            "\tfloat32 fco2_min_unwtd(tmnth, ylat, xlon) ;\n",
            "\t\tfco2_min_unwtd:long_name = fCO2 min ;\n",
            "\t\tfco2_min_unwtd:units = uatm ;\n",
            "\t\tfco2_min_unwtd:history = From SOCAT_ABCD_data_for_gridding ;\n",
            "\t\tfco2_min_unwtd:summary = Minimum value of fco2 recomputed observed in the grid cell. ;\n",
            "\tfloat32 fco2_max_unwtd(tmnth, ylat, xlon) ;\n",
            "\t\tfco2_max_unwtd:long_name = fCO2 max ;\n",
            "\t\tfco2_max_unwtd:units = uatm ;\n",
            "\t\tfco2_max_unwtd:history = From SOCAT_ABCD_data_for_gridding ;\n",
            "\tfloat32 fco2_std_weighted(tmnth, ylat, xlon) ;\n",
            "\t\tfco2_std_weighted:long_name = fCO2 std dev - per cruise weighted ;\n",
            "\t\tfco2_std_weighted:units = uatm ;\n",
            "\t\tfco2_std_weighted:history = From SOCAT_ABCD_data_for_gridding ;\n",
            "\t\tfco2_std_weighted:summary = A weighted standard deviation of fco2 recomputed computed to account for the differing \n",
            "variance estimates for each cruise passing through the cell. The statistical technique is \n",
            "described at See http://wapedia.mobi/en/Weighted_mean#7. ;\n",
            "\tfloat32 fco2_std_unwtd(tmnth, ylat, xlon) ;\n",
            "\t\tfco2_std_unwtd:long_name = fCO2 std dev - unweighted all obs ;\n",
            "\t\tfco2_std_unwtd:units = uatm ;\n",
            "\t\tfco2_std_unwtd:history = From SOCAT_ABCD_data_for_gridding ;\n",
            "\t\tfco2_std_unwtd:summary = The standard deviation of fco2 recomputed computed from the unweighted mean. ;\n",
            "\tfloat64 sst_count_nobs(tmnth, ylat, xlon) ;\n",
            "\t\tsst_count_nobs:long_name = Number of valid sst obs ;\n",
            "\t\tsst_count_nobs:units = count ;\n",
            "\t\tsst_count_nobs:history = From SOCAT_ABCD_data_for_gridding ;\n",
            "\t\tsst_count_nobs:summary = Total number of observations in the grid cell. ;\n",
            "\tfloat32 sst_ave_weighted(tmnth, ylat, xlon) ;\n",
            "\t\tsst_ave_weighted:long_name = SST mean - per cruise weighted ;\n",
            "\t\tsst_ave_weighted:units = degrees C ;\n",
            "\t\tsst_ave_weighted:history = From SOCAT_ABCD_data_for_gridding ;\n",
            "\t\tsst_ave_weighted:summary = Mean of sst computed by calculating the arithmetic mean value for each cruise passing through the cell and then averaging these datasets. ;\n",
            "\tfloat32 sst_ave_unwtd(tmnth, ylat, xlon) ;\n",
            "\t\tsst_ave_unwtd:long_name = SST mean - unweighted all obs ;\n",
            "\t\tsst_ave_unwtd:units = degrees C ;\n",
            "\t\tsst_ave_unwtd:history = From SOCAT_ABCD_data_for_gridding ;\n",
            "\t\tsst_ave_unwtd:summary = Arithmetic mean of all sst values found in the grid cell. ;\n",
            "\tfloat32 sst_min_unwtd(tmnth, ylat, xlon) ;\n",
            "\t\tsst_min_unwtd:long_name = SST min ;\n",
            "\t\tsst_min_unwtd:units = degrees C ;\n",
            "\t\tsst_min_unwtd:history = From SOCAT_ABCD_data_for_gridding ;\n",
            "\t\tsst_min_unwtd:summary = Minimum value of sst observed in the grid cell. ;\n",
            "\tfloat32 sst_max_unwtd(tmnth, ylat, xlon) ;\n",
            "\t\tsst_max_unwtd:long_name = SST max ;\n",
            "\t\tsst_max_unwtd:units = degrees C ;\n",
            "\t\tsst_max_unwtd:history = From SOCAT_ABCD_data_for_gridding ;\n",
            "\tfloat32 sst_std_weighted(tmnth, ylat, xlon) ;\n",
            "\t\tsst_std_weighted:long_name = SST std dev - per cruise weighted ;\n",
            "\t\tsst_std_weighted:units = degrees C ;\n",
            "\t\tsst_std_weighted:history = From SOCAT_ABCD_data_for_gridding ;\n",
            "\t\tsst_std_weighted:summary = A weighted standard deviation of sst computed to account for the differing \n",
            "variance estimates for each cruise passing through the cell. The statistical technique is \n",
            "described at See http://wapedia.mobi/en/Weighted_mean#7. ;\n",
            "\tfloat32 sst_std_unwtd(tmnth, ylat, xlon) ;\n",
            "\t\tsst_std_unwtd:long_name = SST std dev - unweighted all obs ;\n",
            "\t\tsst_std_unwtd:units = degrees C ;\n",
            "\t\tsst_std_unwtd:history = From SOCAT_ABCD_data_for_gridding ;\n",
            "\t\tsst_std_unwtd:summary = The standard deviation of sst computed from the unweighted mean. ;\n",
            "\tfloat64 salinity_count_nobs(tmnth, ylat, xlon) ;\n",
            "\t\tsalinity_count_nobs:long_name = Number of valid salinity obs ;\n",
            "\t\tsalinity_count_nobs:units = count ;\n",
            "\t\tsalinity_count_nobs:history = From SOCAT_ABCD_data_for_gridding ;\n",
            "\t\tsalinity_count_nobs:summary = Total number of observations in the grid cell. ;\n",
            "\tfloat32 salinity_ave_weighted(tmnth, ylat, xlon) ;\n",
            "\t\tsalinity_ave_weighted:long_name = Salinity mean - per cruise weighted ;\n",
            "\t\tsalinity_ave_weighted:units = PSU ;\n",
            "\t\tsalinity_ave_weighted:history = From SOCAT_ABCD_data_for_gridding ;\n",
            "\t\tsalinity_ave_weighted:summary = Mean of salinity computed by calculating the arithmetic mean value for each cruise passing through the cell and then averaging these datasets. ;\n",
            "\tfloat32 salinity_ave_unwtd(tmnth, ylat, xlon) ;\n",
            "\t\tsalinity_ave_unwtd:long_name = Salinity mean - unweighted all obs ;\n",
            "\t\tsalinity_ave_unwtd:units = PSU ;\n",
            "\t\tsalinity_ave_unwtd:history = From SOCAT_ABCD_data_for_gridding ;\n",
            "\t\tsalinity_ave_unwtd:summary = Arithmetic mean of all salinity values found in the grid cell. ;\n",
            "\tfloat32 salinity_min_unwtd(tmnth, ylat, xlon) ;\n",
            "\t\tsalinity_min_unwtd:long_name = Salinity min ;\n",
            "\t\tsalinity_min_unwtd:units = PSU ;\n",
            "\t\tsalinity_min_unwtd:history = From SOCAT_ABCD_data_for_gridding ;\n",
            "\t\tsalinity_min_unwtd:summary = Minimum value of salinity observed in the grid cell. ;\n",
            "\tfloat32 salinity_max_unwtd(tmnth, ylat, xlon) ;\n",
            "\t\tsalinity_max_unwtd:long_name = Salinity max ;\n",
            "\t\tsalinity_max_unwtd:units = PSU ;\n",
            "\t\tsalinity_max_unwtd:history = From SOCAT_ABCD_data_for_gridding ;\n",
            "\tfloat32 salinity_std_weighted(tmnth, ylat, xlon) ;\n",
            "\t\tsalinity_std_weighted:long_name = Salinity std dev - per cruise weighted ;\n",
            "\t\tsalinity_std_weighted:units = PSU ;\n",
            "\t\tsalinity_std_weighted:history = From SOCAT_ABCD_data_for_gridding ;\n",
            "\t\tsalinity_std_weighted:summary = A weighted standard deviation of salinity computed to account for the differing \n",
            "variance estimates for each cruise passing through the cell. The statistical technique is \n",
            "described at See http://wapedia.mobi/en/Weighted_mean#7. ;\n",
            "\tfloat32 salinity_std_unwtd(tmnth, ylat, xlon) ;\n",
            "\t\tsalinity_std_unwtd:long_name = Salinity std dev - unweighted all obs ;\n",
            "\t\tsalinity_std_unwtd:units = PSU ;\n",
            "\t\tsalinity_std_unwtd:history = From SOCAT_ABCD_data_for_gridding ;\n",
            "\t\tsalinity_std_unwtd:summary = The standard deviation of salinity computed from the unweighted mean. ;\n",
            "\tfloat32 lat_offset_unwtd(tmnth, ylat, xlon) ;\n",
            "\t\tlat_offset_unwtd:long_name = Latitude average offset from cell center ;\n",
            "\t\tlat_offset_unwtd:units = Deg N ;\n",
            "\t\tlat_offset_unwtd:history = From SOCAT_ABCD_data_for_gridding ;\n",
            "\t\tlat_offset_unwtd:summary = The arithmetic average of latitude offsets from the grid cell center for all observations in \n",
            "the grid cell. The value of this offset can vary from -0.5 to 0.5. A value of zero indicates \n",
            "that the computed fco2 mean values are representative of the grid cell center position. ;\n",
            "\tfloat32 lon_offset_unwtd(tmnth, ylat, xlon) ;\n",
            "\t\tlon_offset_unwtd:long_name = Longitude average offset from cell center ;\n",
            "\t\tlon_offset_unwtd:units = Deg E ;\n",
            "\t\tlon_offset_unwtd:history = From SOCAT_ABCD_data_for_gridding ;\n",
            "\t\tlon_offset_unwtd:summary = The arithmetic average of longitude offsets from the grid cell center for all observations in \n",
            "the grid cell. The value of this offset can vary from -0.5 to 0.5. A value of zero indicates \n",
            "that the computed fco2 mean values are representative of the grid cell center position. ;\n",
            "\n",
            "// global attributes:\n",
            "\t:history = PyFerret V7.63 (optimized) 31-May-22 ;\n",
            "\t:Conventions = CF-1.6 ;\n",
            "\t:SOCAT_Notes = SOCAT gridded v2022 26-May-2022 ;\n",
            "\t:title = SOCAT gridded v2022 Monthly 1x1 degree gridded dataset ;\n",
            "\t:summary = Surface Ocean Carbon Atlas (SOCAT) Gridded (binned) SOCAT observations, with a spatial \n",
            "grid of 1x1 degree and monthly in time. The gridded fields are computed using only SOCAT \n",
            "datasets with QC flags of A through D and SOCAT data points flagged with WOCE flag values of 2. ;\n",
            "\t:references = http://www.socat.info/ ;\n",
            "\t:caution = NO INTERPOLATION WAS PERFORMED. SIGNIFICANT BIASES ARE PRESENT IN THESE GRIDDED RESULTS DUE TO THE \n",
            "ARBITRARY AND SPARSE LOCATIONS OF DATA VALUES IN BOTH SPACE AND TIME. ;\n",
            "}"
          ]
        }
      ],
      "source": [
        "import fsspec # for reading remote files\n",
        "import xarray as xr\n",
        "with fsspec.open(\"./inputs/SOCATv2022_tracks_gridded_monthly.nc.zip\", compression='zip') as fp:\n",
        "    ds = xr.open_dataset(fp)\n",
        "ds.info()"
      ]
    },
    {
      "cell_type": "code",
      "execution_count": 8,
      "metadata": {
        "colab": {
          "base_uri": "https://localhost:8080/",
          "height": 298
        },
        "id": "zO9sH5wXiRDx",
        "outputId": "c5d75a87-c835-448b-fe12-377f83e184de",
        "tags": [
          "skip-execution"
        ]
      },
      "outputs": [
        {
          "ename": "AttributeError",
          "evalue": "'NoneType' object has no attribute 'matplotlib'",
          "output_type": "error",
          "traceback": [
            "\u001b[0;31m---------------------------------------------------------------------------\u001b[0m",
            "\u001b[0;31mAttributeError\u001b[0m                            Traceback (most recent call last)",
            "Cell \u001b[0;32mIn [8], line 3\u001b[0m\n\u001b[1;32m      1\u001b[0m time_slice \u001b[39m=\u001b[39m \u001b[39mslice\u001b[39m(\u001b[39m\"\u001b[39m\u001b[39m2010\u001b[39m\u001b[39m\"\u001b[39m, \u001b[39m\"\u001b[39m\u001b[39m2020\u001b[39m\u001b[39m\"\u001b[39m) \u001b[39m# select a decade\u001b[39;00m\n\u001b[1;32m      2\u001b[0m res \u001b[39m=\u001b[39m ds[\u001b[39m'\u001b[39m\u001b[39msst_ave_unwtd\u001b[39m\u001b[39m'\u001b[39m]\u001b[39m.\u001b[39msel(tmnth\u001b[39m=\u001b[39mtime_slice)\u001b[39m.\u001b[39mmean(dim\u001b[39m=\u001b[39m\u001b[39m'\u001b[39m\u001b[39mtmnth\u001b[39m\u001b[39m'\u001b[39m) \u001b[39m# average over time\u001b[39;00m\n\u001b[0;32m----> 3\u001b[0m res\u001b[39m.\u001b[39mplot()\n",
            "File \u001b[0;32m~/.pyenv/versions/3.8.13/lib/python3.8/site-packages/xarray/plot/plot.py:862\u001b[0m, in \u001b[0;36m_PlotMethods.__call__\u001b[0;34m(self, **kwargs)\u001b[0m\n\u001b[1;32m    861\u001b[0m \u001b[39mdef\u001b[39;00m \u001b[39m__call__\u001b[39m(\u001b[39mself\u001b[39m, \u001b[39m*\u001b[39m\u001b[39m*\u001b[39mkwargs):\n\u001b[0;32m--> 862\u001b[0m     \u001b[39mreturn\u001b[39;00m plot(\u001b[39mself\u001b[39;49m\u001b[39m.\u001b[39;49m_da, \u001b[39m*\u001b[39;49m\u001b[39m*\u001b[39;49mkwargs)\n",
            "File \u001b[0;32m~/.pyenv/versions/3.8.13/lib/python3.8/site-packages/xarray/plot/plot.py:330\u001b[0m, in \u001b[0;36mplot\u001b[0;34m(darray, row, col, col_wrap, ax, hue, rtol, subplot_kws, **kwargs)\u001b[0m\n\u001b[1;32m    326\u001b[0m     plotfunc \u001b[39m=\u001b[39m hist\n\u001b[1;32m    328\u001b[0m kwargs[\u001b[39m\"\u001b[39m\u001b[39max\u001b[39m\u001b[39m\"\u001b[39m] \u001b[39m=\u001b[39m ax\n\u001b[0;32m--> 330\u001b[0m \u001b[39mreturn\u001b[39;00m plotfunc(darray, \u001b[39m*\u001b[39;49m\u001b[39m*\u001b[39;49mkwargs)\n",
            "File \u001b[0;32m~/.pyenv/versions/3.8.13/lib/python3.8/site-packages/xarray/plot/plot.py:1174\u001b[0m, in \u001b[0;36m_plot2d.<locals>.newplotfunc\u001b[0;34m(darray, x, y, figsize, size, aspect, ax, row, col, col_wrap, xincrease, yincrease, add_colorbar, add_labels, vmin, vmax, cmap, center, robust, extend, levels, infer_intervals, colors, subplot_kws, cbar_ax, cbar_kwargs, xscale, yscale, xticks, yticks, xlim, ylim, norm, **kwargs)\u001b[0m\n\u001b[1;32m   1170\u001b[0m yplt, ylab_extra \u001b[39m=\u001b[39m _resolve_intervals_2dplot(yval, plotfunc\u001b[39m.\u001b[39m\u001b[39m__name__\u001b[39m)\n\u001b[1;32m   1172\u001b[0m _ensure_plottable(xplt, yplt, zval)\n\u001b[0;32m-> 1174\u001b[0m cmap_params, cbar_kwargs \u001b[39m=\u001b[39m _process_cmap_cbar_kwargs(\n\u001b[1;32m   1175\u001b[0m     plotfunc,\n\u001b[1;32m   1176\u001b[0m     zval\u001b[39m.\u001b[39;49mdata,\n\u001b[1;32m   1177\u001b[0m     \u001b[39m*\u001b[39;49m\u001b[39m*\u001b[39;49m\u001b[39mlocals\u001b[39;49m(),\n\u001b[1;32m   1178\u001b[0m     _is_facetgrid\u001b[39m=\u001b[39;49mkwargs\u001b[39m.\u001b[39;49mpop(\u001b[39m\"\u001b[39;49m\u001b[39m_is_facetgrid\u001b[39;49m\u001b[39m\"\u001b[39;49m, \u001b[39mFalse\u001b[39;49;00m),\n\u001b[1;32m   1179\u001b[0m )\n\u001b[1;32m   1181\u001b[0m \u001b[39mif\u001b[39;00m \u001b[39m\"\u001b[39m\u001b[39mcontour\u001b[39m\u001b[39m\"\u001b[39m \u001b[39min\u001b[39;00m plotfunc\u001b[39m.\u001b[39m\u001b[39m__name__\u001b[39m:\n\u001b[1;32m   1182\u001b[0m     \u001b[39m# extend is a keyword argument only for contour and contourf, but\u001b[39;00m\n\u001b[1;32m   1183\u001b[0m     \u001b[39m# passing it to the colorbar is sufficient for imshow and\u001b[39;00m\n\u001b[1;32m   1184\u001b[0m     \u001b[39m# pcolormesh\u001b[39;00m\n\u001b[1;32m   1185\u001b[0m     kwargs[\u001b[39m\"\u001b[39m\u001b[39mextend\u001b[39m\u001b[39m\"\u001b[39m] \u001b[39m=\u001b[39m cmap_params[\u001b[39m\"\u001b[39m\u001b[39mextend\u001b[39m\u001b[39m\"\u001b[39m]\n",
            "File \u001b[0;32m~/.pyenv/versions/3.8.13/lib/python3.8/site-packages/xarray/plot/utils.py:905\u001b[0m, in \u001b[0;36m_process_cmap_cbar_kwargs\u001b[0;34m(func, data, cmap, colors, cbar_kwargs, levels, _is_facetgrid, **kwargs)\u001b[0m\n\u001b[1;32m    903\u001b[0m cmap_kwargs\u001b[39m.\u001b[39mupdate((a, kwargs[a]) \u001b[39mfor\u001b[39;00m a \u001b[39min\u001b[39;00m cmap_args \u001b[39mif\u001b[39;00m a \u001b[39min\u001b[39;00m kwargs)\n\u001b[1;32m    904\u001b[0m \u001b[39mif\u001b[39;00m \u001b[39mnot\u001b[39;00m _is_facetgrid:\n\u001b[0;32m--> 905\u001b[0m     cmap_params \u001b[39m=\u001b[39m _determine_cmap_params(\u001b[39m*\u001b[39;49m\u001b[39m*\u001b[39;49mcmap_kwargs)\n\u001b[1;32m    906\u001b[0m \u001b[39melse\u001b[39;00m:\n\u001b[1;32m    907\u001b[0m     cmap_params \u001b[39m=\u001b[39m {\n\u001b[1;32m    908\u001b[0m         k: cmap_kwargs[k]\n\u001b[1;32m    909\u001b[0m         \u001b[39mfor\u001b[39;00m k \u001b[39min\u001b[39;00m [\u001b[39m\"\u001b[39m\u001b[39mvmin\u001b[39m\u001b[39m\"\u001b[39m, \u001b[39m\"\u001b[39m\u001b[39mvmax\u001b[39m\u001b[39m\"\u001b[39m, \u001b[39m\"\u001b[39m\u001b[39mcmap\u001b[39m\u001b[39m\"\u001b[39m, \u001b[39m\"\u001b[39m\u001b[39mextend\u001b[39m\u001b[39m\"\u001b[39m, \u001b[39m\"\u001b[39m\u001b[39mlevels\u001b[39m\u001b[39m\"\u001b[39m, \u001b[39m\"\u001b[39m\u001b[39mnorm\u001b[39m\u001b[39m\"\u001b[39m]\n\u001b[1;32m    910\u001b[0m     }\n",
            "File \u001b[0;32m~/.pyenv/versions/3.8.13/lib/python3.8/site-packages/xarray/plot/utils.py:185\u001b[0m, in \u001b[0;36m_determine_cmap_params\u001b[0;34m(plot_data, vmin, vmax, cmap, center, robust, extend, levels, filled, norm, _is_facetgrid)\u001b[0m\n\u001b[1;32m    159\u001b[0m \u001b[39mdef\u001b[39;00m \u001b[39m_determine_cmap_params\u001b[39m(\n\u001b[1;32m    160\u001b[0m     plot_data,\n\u001b[1;32m    161\u001b[0m     vmin\u001b[39m=\u001b[39m\u001b[39mNone\u001b[39;00m,\n\u001b[0;32m   (...)\u001b[0m\n\u001b[1;32m    170\u001b[0m     _is_facetgrid\u001b[39m=\u001b[39m\u001b[39mFalse\u001b[39;00m,\n\u001b[1;32m    171\u001b[0m ):\n\u001b[1;32m    172\u001b[0m     \u001b[39m\"\"\"\u001b[39;00m\n\u001b[1;32m    173\u001b[0m \u001b[39m    Use some heuristics to set good defaults for colorbar and range.\u001b[39;00m\n\u001b[1;32m    174\u001b[0m \n\u001b[0;32m   (...)\u001b[0m\n\u001b[1;32m    183\u001b[0m \u001b[39m        Use depends on the type of the plotting function\u001b[39;00m\n\u001b[1;32m    184\u001b[0m \u001b[39m    \"\"\"\u001b[39;00m\n\u001b[0;32m--> 185\u001b[0m     mpl \u001b[39m=\u001b[39m plt\u001b[39m.\u001b[39;49mmatplotlib\n\u001b[1;32m    187\u001b[0m     \u001b[39mif\u001b[39;00m \u001b[39misinstance\u001b[39m(levels, Iterable):\n\u001b[1;32m    188\u001b[0m         levels \u001b[39m=\u001b[39m \u001b[39msorted\u001b[39m(levels)\n",
            "\u001b[0;31mAttributeError\u001b[0m: 'NoneType' object has no attribute 'matplotlib'"
          ]
        }
      ],
      "source": [
        "time_slice = slice(\"2010\", \"2020\") # select a decade\n",
        "res = ds['sst_ave_unwtd'].sel(tmnth=time_slice).mean(dim='tmnth') # average over time\n",
        "res.plot() # plot the result\n"
      ]
    },
    {
      "cell_type": "markdown",
      "metadata": {
        "id": "fPV805_biRDx",
        "tags": [
          "skip-execution"
        ]
      },
      "source": [
        "We can see that the dataset contains lat-long coordinates, the date, and a series of seawater measurements. Above you can see a plot of the average surface sea temperature (sst) between 2010-2020, where recording buoys and boats have travelled.\n",
        "\n",
        "## The Task - Large Scale Data Conversion\n",
        "\n",
        "The goal of this notebook is to convert the data from fugacity of CO2 (fCO2) to partial pressure of CO2 (pCO2). This is a common task in oceanography, and is performed by combining the measurements of the surface temperature and fugacity. The conversion is performed by the [pyseaflux](https://seaflux.readthedocs.io/en/latest/api.html?highlight=fCO2_to_pCO2#pyseaflux.fco2_pco2_conversion.fCO2_to_pCO2) package.\n",
        "\n",
        "To execute this workload on the Bacalhau network we need to perform three steps:\n",
        "\n",
        "1. Upload the data to IPFS\n",
        "2. Create a docker image with the code and dependencies\n",
        "3. Run the docker image on the Bacalhau network using the IPFS data\n",
        "\n",
        "### Upload the Data to IPFS\n",
        "\n",
        "The first step is to upload the data to IPFS. The simplest way to do this is to use a third party service to \"pin\" data to the IPFS network, to ensure that the data exists and is available. To do this you need an account with a pinning service like [web3.storage](https://web3.storage/) or [Pinata](https://pinata.cloud/). Once registered you can use their UI or API or SDKs to upload files.\n",
        "\n",
        "For the purposes of this example I:\n",
        "1. Downloaded the latest monthly data from the [SOCAT website](https://www.socat.info/)\n",
        "2. Downloaded the latest long-term global sea surface temperature data from [NOAA](https://downloads.psl.noaa.gov/Datasets/noaa.oisst.v2/sst.mnmean.nc) - information about that dataset can be found [here](https://psl.noaa.gov/data/gridded/data.noaa.oisst.v2.highres.html).\n",
        "3. Pinned the data to IPFS\n",
        "\n",
        "This resulted in the IPFS CID of `bafybeidunikexxu5qtuwc7eosjpuw6a75lxo7j5ezf3zurv52vbrmqwf6y`.\n",
        "\n",
        "<!-- TODO: Add link to notebook showing people how to upload data to IPFS -->\n",
        "\n",
        "### Create a Docker Image to Process the Data\n",
        "\n",
        "Next we will create the docker image that will process the data. The docker image will contain the code and dependencies needed to perform the conversion. This code originated with [lgloege](https://github.com/lgloege/bacalhau_socat_test) via [wesfloyd](https://github.com/wesfloyd/bacalhau_socat_test/). Thank you! 🤗\n",
        "\n",
        ":::tip\n",
        "For more information about working with custom containers, see the [custom containers example](../../workload-onboarding/custom-containers/).\n",
        ":::\n",
        "\n",
        "The key thing to watch out for here is the paths to the data. I'm using the default bacalhau output directory `/outputs` to write my data to. And the input data is mounted to the `/inputs` directory. But as you will see in a moment, web3.storage has added another `input` directory that we need to account for."
      ]
    },
    {
      "cell_type": "code",
      "execution_count": null,
      "metadata": {
        "colab": {
          "base_uri": "https://localhost:8080/"
        },
        "id": "7GSifueQiRDx",
        "outputId": "b2533a9f-343b-479d-e80b-14e1b3655819",
        "tags": [
          "skip-execution"
        ]
      },
      "outputs": [],
      "source": [
        "%%writefile main.py\n",
        "import fsspec\n",
        "import xarray as xr\n",
        "import pandas as pd\n",
        "import numpy as np\n",
        "import pyseaflux\n",
        "\n",
        "\n",
        "def lon_360_to_180(ds=None, lonVar=None):\n",
        "    lonVar = \"lon\" if lonVar is None else lonVar\n",
        "    return (ds.assign_coords({lonVar: (((ds[lonVar] + 180) % 360) - 180)})\n",
        "            .sortby(lonVar)\n",
        "            .astype(dtype='float32', order='C'))\n",
        "\n",
        "\n",
        "def center_dates(ds):\n",
        "    # start and end date\n",
        "    start_date = str(ds.time[0].dt.strftime('%Y-%m').values)\n",
        "    end_date = str(ds.time[-1].dt.strftime('%Y-%m').values)\n",
        "\n",
        "    # monthly dates centered on 15th of each month\n",
        "    dates = pd.date_range(start=f'{start_date}-01T00:00:00.000000000',\n",
        "                          end=f'{end_date}-01T00:00:00.000000000',\n",
        "                          freq='MS') + np.timedelta64(14, 'D')\n",
        "\n",
        "    return ds.assign(time=dates)\n",
        "\n",
        "\n",
        "def get_and_process_sst(url=None):\n",
        "    # get noaa sst\n",
        "    if url is None:\n",
        "        url = (\"/inputs/sst.mnmean.nc\")\n",
        "\n",
        "    with fsspec.open(url) as fp:\n",
        "        ds = xr.open_dataset(fp)\n",
        "        ds = lon_360_to_180(ds)\n",
        "        ds = center_dates(ds)\n",
        "        return ds\n",
        "\n",
        "\n",
        "def get_and_process_socat(url=None):\n",
        "    if url is None:\n",
        "        url = (\"/inputs/SOCATv2022_tracks_gridded_monthly.nc.zip\")\n",
        "\n",
        "    with fsspec.open(url, compression='zip') as fp:\n",
        "        ds = xr.open_dataset(fp)\n",
        "        ds = ds.rename({\"xlon\": \"lon\", \"ylat\": \"lat\", \"tmnth\": \"time\"})\n",
        "        ds = center_dates(ds)\n",
        "        return ds\n",
        "\n",
        "\n",
        "def main():\n",
        "    print(\"Load SST and SOCAT data\")\n",
        "    ds_sst = get_and_process_sst()\n",
        "    ds_socat = get_and_process_socat()\n",
        "\n",
        "    print(\"Merge datasets together\")\n",
        "    time_slice = slice(\"1981-12\", \"2022-05\")\n",
        "    ds_out = xr.merge([ds_sst['sst'].sel(time=time_slice),\n",
        "                       ds_socat['fco2_ave_unwtd'].sel(time=time_slice)])\n",
        "\n",
        "    print(\"Calculate pco2 from fco2\")\n",
        "    ds_out['pco2_ave_unwtd'] = xr.apply_ufunc(\n",
        "        pyseaflux.fCO2_to_pCO2,\n",
        "        ds_out['fco2_ave_unwtd'],\n",
        "        ds_out['sst'])\n",
        "\n",
        "    print(\"Add metadata\")\n",
        "    ds_out['pco2_ave_unwtd'].attrs['units'] = 'uatm'\n",
        "    ds_out['pco2_ave_unwtd'].attrs['notes'] = (\"calculated using\" +\n",
        "                                               \"NOAA OI SST V2\" +\n",
        "                                               \"and pyseaflux package\")\n",
        "\n",
        "    print(\"Save data\")\n",
        "    ds_out.to_zarr(\"/processed.zarr\")\n",
        "    import shutil\n",
        "    shutil.make_archive(\"/outputs/processed.zarr\", 'zip', \"/processed.zarr\")\n",
        "    print(\"Zarr file written to disk, job completed successfully\")\n",
        "\n",
        "if __name__ == \"__main__\":\n",
        "    main()"
      ]
    },
    {
      "cell_type": "code",
      "execution_count": null,
      "metadata": {
        "colab": {
          "base_uri": "https://localhost:8080/"
        },
        "id": "_Bq9hOI7iRDy",
        "outputId": "3eef8923-263a-440a-95af-45c5d0d93673",
        "tags": [
          "skip-execution"
        ]
      },
      "outputs": [],
      "source": [
        "%%writefile Dockerfile\n",
        "FROM python:slim\n",
        "\n",
        "RUN apt-get update && apt-get -y upgrade \\\n",
        "    && apt-get install -y --no-install-recommends \\\n",
        "    g++ \\\n",
        "    && rm -rf /var/lib/apt/lists/*\n",
        "\n",
        "WORKDIR /project\n",
        "\n",
        "COPY ./requirements.txt /project\n",
        "\n",
        "RUN pip3 install -r requirements.txt\n",
        "\n",
        "COPY ./main.py /project\n",
        "\n",
        "CMD [\"python\",\"main.py\"]"
      ]
    },
    {
      "cell_type": "code",
      "execution_count": null,
      "metadata": {
        "id": "_idzqnaiiRDy",
        "tags": [
          "skip-execution"
        ]
      },
      "outputs": [],
      "source": [
        "%%bash\n",
        "# docker buildx build --platform linux/amd64,linux/arm64 --push -t ghcr.io/bacalhau-project/examples/socat:0.0.11 ."
      ]
    },
    {
      "cell_type": "markdown",
      "metadata": {
        "id": "3A8lvg6GiRDy",
        "tags": [
          "skip-execution"
        ]
      },
      "source": [
        "### Test the Container Locally\n",
        "\n",
        "Before we upload the container to the Bacalhau network, we should test it locally to make sure it works."
      ]
    },
    {
      "cell_type": "code",
      "execution_count": null,
      "metadata": {
        "id": "A93dGC7EiRDy",
        "outputId": "4f836c49-f5aa-461f-8341-94663e8eddbc",
        "tags": [
          "skip-execution"
        ]
      },
      "outputs": [],
      "source": [
        "%%bash\n",
        "docker run \\\n",
        "\t-v $(pwd)/inputs:/inputs \\\n",
        "\t-v $(pwd)/outputs:/outputs \\\n",
        "\tghcr.io/bacalhau-project/examples/socat:0.0.11"
      ]
    },
    {
      "cell_type": "markdown",
      "metadata": {
        "id": "jYDniwQJiRDz",
        "tags": [
          "skip-execution"
        ]
      },
      "source": [
        "### Run a Bacalhau Job\n",
        "\n",
        "Now that we have the data in IPFS and the docker image pushed, we can run a job on the Bacalhau network.\n",
        "\n",
        "I find it useful to first run a simple test with a known working container to ensure the data is located in the place I expect, because some storage providers add their own opinions. E.g. web3.storage wraps the directory uploads in a top level directory."
      ]
    },
    {
      "cell_type": "code",
      "execution_count": null,
      "metadata": {
        "id": "YPSs-FBeiRDz",
        "outputId": "78c0316f-cffc-4c2b-d628-4b36a31fcd25",
        "tags": [
          "skip-execution"
        ]
      },
      "outputs": [],
      "source": [
        "%%bash\n",
        "rm -rf stdout stderr volumes shards\n",
        "bacalhau docker run \\\n",
        "        --download \\\n",
        "        --inputs bafybeidunikexxu5qtuwc7eosjpuw6a75lxo7j5ezf3zurv52vbrmqwf6y \\\n",
        "        ubuntu -- ls /inputs"
      ]
    },
    {
      "cell_type": "markdown",
      "metadata": {
        "id": "kdivIKOKiRDz",
        "tags": [
          "skip-execution"
        ]
      },
      "source": [
        "Then I like to run a simple test with my custom container ..."
      ]
    },
    {
      "cell_type": "code",
      "execution_count": null,
      "metadata": {
        "id": "oMzcVlVDiRDz",
        "outputId": "3fb3c31b-1844-44b2-a7b4-27dc2b87581c",
        "tags": [
          "skip-execution"
        ]
      },
      "outputs": [],
      "source": [
        "%%bash\n",
        "rm -rf stdout stderr volumes shards\n",
        "bacalhau docker run \\\n",
        "\t--inputs bafybeidunikexxu5qtuwc7eosjpuw6a75lxo7j5ezf3zurv52vbrmqwf6y \\\n",
        "\t--download \\\n",
        "\tghcr.io/bacalhau-project/examples/socat:0.0.11 -- ls -la /inputs/"
      ]
    },
    {
      "cell_type": "markdown",
      "metadata": {
        "id": "bODZCPX-iRDz",
        "tags": [
          "skip-execution"
        ]
      },
      "source": [
        "And finally let's run the full job. This time I will not download the data immediately, because the job takes around 100s. And it takes another few minutes to download the results. The commands are below, but you will need to wait until the job completes before they work."
      ]
    },
    {
      "cell_type": "code",
      "execution_count": null,
      "metadata": {
        "id": "UmFHEY96iRD0",
        "tags": [
          "skip-execution"
        ]
      },
      "outputs": [],
      "source": [
        "%%bash  --out job_id\n",
        "bacalhau docker run \\\n",
        "        --inputs bafybeidunikexxu5qtuwc7eosjpuw6a75lxo7j5ezf3zurv52vbrmqwf6y \\\n",
        "        --id-only \\\n",
        "        --wait \\\n",
        "        ghcr.io/bacalhau-project/examples/socat:0.0.11 -- python main.py"
      ]
    },
    {
      "cell_type": "code",
      "execution_count": null,
      "metadata": {
        "colab": {
          "base_uri": "https://localhost:8080/"
        },
        "id": "Rb7nth4NiRD0",
        "outputId": "1b9a9e0a-3c48-46a2-ed77-92eedcb7f62f",
        "tags": [
          "skip-execution"
        ]
      },
      "outputs": [],
      "source": [
        "%env JOB_ID={job_id}"
      ]
    },
    {
      "cell_type": "markdown",
      "metadata": {
        "id": "lJk-OgXkiRD0",
        "tags": [
          "skip-execution"
        ]
      },
      "source": [
        "## Get Results\n",
        "\n",
        "Now let's download and display the result from the results directory. We can use the `bacalhau get` command to download the results from the output data volume. The `--output-dir` argument specifies the directory to download the results to."
      ]
    },
    {
      "cell_type": "code",
      "execution_count": null,
      "metadata": {
        "colab": {
          "base_uri": "https://localhost:8080/"
        },
        "id": "hZv5X-VriRD0",
        "outputId": "3afb500d-fc7d-43a7-f3b7-de2bda98f134",
        "tags": [
          "skip-execution"
        ]
      },
      "outputs": [],
      "source": [
        "%%bash\n",
        "rm -rf results\n",
        "mkdir -p ./results # Temporary directory to store the results\n",
        "bacalhau get --output-dir ./results ${JOB_ID} # Download the results"
      ]
    },
    {
      "cell_type": "code",
      "execution_count": null,
      "metadata": {
        "id": "L4sOtSSMiRD0",
        "outputId": "52647afa-1715-41b7-cb29-9f21eeb8c648",
        "tags": [
          "skip-execution"
        ]
      },
      "outputs": [],
      "source": [
        "%%bash\n",
        "cat ./results/stdout"
      ]
    },
    {
      "cell_type": "code",
      "execution_count": null,
      "metadata": {
        "id": "9IXGoGKoiRD0",
        "outputId": "c19248c7-6fa1-4e05-de73-148a8f19e850",
        "tags": [
          "skip-execution"
        ]
      },
      "outputs": [],
      "source": [
        "%%bash\n",
        "ls ./results/volumes/outputs"
      ]
    },
    {
      "cell_type": "code",
      "execution_count": null,
      "metadata": {
        "id": "eiqvsajXfzDw",
        "tags": [
          "skip-execution"
        ]
      },
      "outputs": [],
      "source": [
        "import shutil\n",
        "shutil.unpack_archive(\"./results/volumes/outputs/processed.zarr.zip\", \"./results/volumes/outputs/\")"
      ]
    },
    {
      "cell_type": "code",
      "execution_count": null,
      "metadata": {
        "colab": {
          "base_uri": "https://localhost:8080/"
        },
        "id": "6bh2ljiuiRD1",
        "outputId": "f604aeae-cf7e-4183-885b-5e42215ce3ea",
        "tags": [
          "skip-execution"
        ]
      },
      "outputs": [],
      "source": [
        "import xarray as xr\n",
        "ds = xr.open_dataset(\"./results/volumes/outputs/\", engine='zarr')\n",
        "ds.info()"
      ]
    },
    {
      "cell_type": "code",
      "execution_count": null,
      "metadata": {
        "id": "kglrEVlKiRD1",
        "outputId": "0d002106-fc92-4cd6-d96a-102d2c559ec6",
        "tags": [
          "skip-execution"
        ]
      },
      "outputs": [],
      "source": [
        "ds['pco2_ave_unwtd'].mean(dim='time').plot()"
      ]
    },
    {
      "attachments": {},
      "cell_type": "markdown",
      "metadata": {},
      "source": [
        "\n",
        "## References\n",
        "\n",
        "- https://www.socat.info/\n",
        "- https://seaflux.readthedocs.io/en/latest/api.html?highlight=fCO2_to_pCO2#pyseaflux.fco2_pco2_conversion.fCO2_to_pCO2\n",
        "- https://github.com/lgloege/bacalhau_socat_test/blob/main/main.py\n",
        "- https://github.com/wesfloyd/bacalhau_socat_test"
      ]
    }
  ],
  "metadata": {
    "colab": {
      "provenance": []
    },
    "kernelspec": {
      "display_name": "Python 3",
      "language": "python",
      "name": "python3"
    },
    "language_info": {
      "codemirror_mode": {
        "name": "ipython",
        "version": 3
      },
      "file_extension": ".py",
      "mimetype": "text/x-python",
      "name": "python",
      "nbconvert_exporter": "python",
      "pygments_lexer": "ipython3",
      "version": "3.8.13"
    },
    "vscode": {
      "interpreter": {
        "hash": "9ac03a0a6051494cc606d484d27d20fce22fb7b4d169f583271e11d5ba46a56e"
      }
    }
  },
  "nbformat": 4,
  "nbformat_minor": 4
}
