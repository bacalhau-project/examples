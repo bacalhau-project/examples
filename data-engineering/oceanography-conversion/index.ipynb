{
 "cells": [
  {
   "cell_type": "raw",
   "metadata": {
    "id": "HlUF5q7CiRDt"
   },
   "source": [
    "---\n",
    "sidebar_label: \"Oceanography - Data Conversion\"\n",
    "sidebar_position: 10\n",
    "---"
   ]
  },
  {
   "cell_type": "markdown",
   "metadata": {
    "id": "bTnXx3ReiRDt"
   },
   "source": [
    "# Oceanography - Data Conversion\n",
    "\n",
    "[![Open In Colab](https://colab.research.google.com/assets/colab-badge.svg)](https://colab.research.google.com/github/bacalhau-project/examples/blob/main/data-engineering/oceanography-conversion/index.ipynb)\n",
    "[![Open In Binder](https://mybinder.org/badge.svg)](https://mybinder.org/v2/gh/bacalhau-project/examples/HEAD?labpath=data-engineering/oceanography-conversion/index.ipynb)\n",
    "\n",
    "The Surface Ocean CO₂ Atlas (SOCAT) contains measurements of the [fugacity](https://en.wikipedia.org/wiki/Fugacity) of CO2 in seawater around the globe. But to calculate how much carbon the ocean is taking up from the atmosphere, these measurements need to be converted to the partial pressure of CO2. We will convert the units by combining measurements of the surface temperature and fugacity.  Python libraries (xarray, pandas, numpy) and the pyseaflux package facilitate this process.\n",
    "\n",
    "References:\n",
    "- https://www.socat.info/\n",
    "- https://seaflux.readthedocs.io/en/latest/api.html?highlight=fCO2_to_pCO2#pyseaflux.fco2_pco2_conversion.fCO2_to_pCO2\n",
    "- https://github.com/lgloege/bacalhau_socat_test/blob/main/main.py\n",
    "- https://github.com/wesfloyd/bacalhau_socat_test\n",
    "\n",
    "### Goal\n",
    "\n",
    "The goal of this notebook is to investigate the data and convert dockerize the workload so that it can be executed on the Bacalhau network, to take advantage of the distributed storage and compute resources.\n",
    "\n",
    "### Prerequisites\n",
    "\n",
    "This example requires Docker. If you don't have Docker installed, you can install it from [here](https://docs.docker.com/install/). Docker commands will not work on hosted notebooks like Google Colab, but the Bacalhau commands will.\n",
    "\n",
    "Make sure you have the latest `bacalhau` client installed by following the [getting started instructions](../../../getting-started/installation)\n",
    "\n",
    "## The Data\n",
    "\n",
    "The raw data is available on the [SOCAT website](https://www.socat.info/). We will use the [SOCATv2021](https://www.socat.info/index.php/version-2021/) dataset in the \"Gridded\" format to perform this calculation. First, let's take a quick look at some data:"
   ]
  },
  {
   "cell_type": "code",
   "execution_count": null,
   "metadata": {
    "id": "YK9vgLgriRDu",
    "tags": [
     "remove_cell",
     "skip-execution"
    ]
   },
   "outputs": [],
   "source": [
    "!command -v docker >/dev/null 2>&1 || { echo >&2 \"I require docker but it's not installed.  Aborting.\"; exit 1; }"
   ]
  },
  {
   "cell_type": "code",
   "execution_count": null,
   "metadata": {
    "colab": {
     "base_uri": "https://localhost:8080/"
    },
    "id": "vC6FC4mXiRDu",
    "outputId": "7dc9b6b5-7280-45c7-d4c1-d7b07a52ae85",
    "tags": [
     "remove_cell",
     "skip-execution"
    ]
   },
   "outputs": [],
   "source": [
    "!(export BACALHAU_INSTALL_DIR=.; curl -sL https://get.bacalhau.org/install.sh | bash)\n",
    "path=!echo $PATH\n",
    "%env PATH=./:{path[0]}"
   ]
  },
  {
   "cell_type": "code",
   "execution_count": null,
   "metadata": {
    "colab": {
     "base_uri": "https://localhost:8080/"
    },
    "id": "b7HLGzrGiRDv",
    "outputId": "14fe85f1-6601-401f-8faf-764647f35fe5",
    "tags": [
     "remove_output",
     "skip-execution"
    ]
   },
   "outputs": [],
   "source": [
    "%%bash\n",
    "mkdir -p inputs\n",
    "curl --output ./inputs/SOCATv2022_tracks_gridded_monthly.nc.zip https://www.socat.info/socat_files/v2022/SOCATv2022_tracks_gridded_monthly.nc.zip\n",
    "curl --output ./inputs/sst.mnmean.nc https://downloads.psl.noaa.gov/Datasets/noaa.oisst.v2/sst.mnmean.nc"
   ]
  },
  {
   "cell_type": "markdown",
   "metadata": {
    "id": "iIaEXJE8iRDv"
   },
   "source": [
    "Next let's write the requirements.txt and install the dependencies. This file will also be used by the Dockerfile to install the dependencies."
   ]
  },
  {
   "cell_type": "code",
   "execution_count": null,
   "metadata": {
    "colab": {
     "base_uri": "https://localhost:8080/"
    },
    "id": "_GgzkzoYiRDv",
    "outputId": "f61be853-5e08-47ac-d164-e8931687ebe9"
   },
   "outputs": [],
   "source": [
    "%%writefile requirements.txt\n",
    "Bottleneck==1.3.5\n",
    "dask==2022.2.0\n",
    "fsspec==2022.5.0\n",
    "netCDF4==1.6.0\n",
    "numpy==1.21.6\n",
    "pandas==1.3.5\n",
    "pip==22.1.2\n",
    "pyseaflux==2.2.1\n",
    "scipy==1.7.3\n",
    "xarray==0.20.2\n",
    "zarr>=2.0.0"
   ]
  },
  {
   "cell_type": "code",
   "execution_count": null,
   "metadata": {
    "id": "VyLJHRUFiRDv",
    "tags": [
     "skip-execution"
    ]
   },
   "outputs": [],
   "source": [
    "%%bash\n",
    "pip install -r requirements.txt > /dev/null"
   ]
  },
  {
   "cell_type": "code",
   "execution_count": null,
   "metadata": {
    "colab": {
     "base_uri": "https://localhost:8080/"
    },
    "id": "BR0okKebiRDw",
    "outputId": "0ed12661-86d5-48c1-9af9-873b861636cb",
    "tags": [
     "skip-execution"
    ]
   },
   "outputs": [],
   "source": [
    "import fsspec # for reading remote files\n",
    "import xarray as xr\n",
    "with fsspec.open(\"./inputs/SOCATv2022_tracks_gridded_monthly.nc.zip\", compression='zip') as fp:\n",
    "    ds = xr.open_dataset(fp)\n",
    "ds.info()"
   ]
  },
  {
   "cell_type": "code",
   "execution_count": null,
   "metadata": {
    "colab": {
     "base_uri": "https://localhost:8080/",
     "height": 298
    },
    "id": "zO9sH5wXiRDx",
    "outputId": "c5d75a87-c835-448b-fe12-377f83e184de",
    "tags": [
     "skip-execution"
    ]
   },
   "outputs": [],
   "source": [
    "time_slice = slice(\"2010\", \"2020\") # select a decade\n",
    "res = ds['sst_ave_unwtd'].sel(tmnth=time_slice).mean(dim='tmnth') # average over time\n",
    "res.plot() # plot the result\n"
   ]
  },
  {
   "cell_type": "markdown",
   "metadata": {
    "id": "fPV805_biRDx"
   },
   "source": [
    "We can see that the dataset contains lat-long coordinates, the date, and a series of seawater measurements. Above you can see a plot of the average surface sea temperature (sst) between 2010-2020, where recording buoys and boats have travelled.\n",
    "\n",
    "## The Task - Large Scale Data Conversion\n",
    "\n",
    "The goal of this notebook is to convert the data from fugacity of CO2 (fCO2) to partial pressure of CO2 (pCO2). This is a common task in oceanography, and is performed by combining the measurements of the surface temperature and fugacity. The conversion is performed by the [pyseaflux](https://seaflux.readthedocs.io/en/latest/api.html?highlight=fCO2_to_pCO2#pyseaflux.fco2_pco2_conversion.fCO2_to_pCO2) package.\n",
    "\n",
    "To execute this workload on the Bacalhau network we need to perform three steps:\n",
    "\n",
    "1. Upload the data to IPFS\n",
    "2. Create a docker image with the code and dependencies\n",
    "3. Run the docker image on the Bacalhau network using the IPFS data\n",
    "\n",
    "### Upload the Data to IPFS\n",
    "\n",
    "The first step is to upload the data to IPFS. The simplest way to do this is to use a third party service to \"pin\" data to the IPFS network, to ensure that the data exists and is available. To do this you need an account with a pinning service like [web3.storage](https://web3.storage/) or [Pinata](https://pinata.cloud/). Once registered you can use their UI or API or SDKs to upload files.\n",
    "\n",
    "For the purposes of this example I:\n",
    "1. Downloaded the latest monthly data from the [SOCAT website](https://www.socat.info/)\n",
    "2. Downloaded the latest long-term global sea surface temperature data from [NOAA](https://downloads.psl.noaa.gov/Datasets/noaa.oisst.v2/sst.mnmean.nc) - information about that dataset can be found [here](https://psl.noaa.gov/data/gridded/data.noaa.oisst.v2.highres.html).\n",
    "3. Pinned the data to IPFS\n",
    "\n",
    "This resulted in the IPFS CID of `bafybeidunikexxu5qtuwc7eosjpuw6a75lxo7j5ezf3zurv52vbrmqwf6y`.\n",
    "\n",
    "<!-- TODO: Add link to notebook showing people how to upload data to IPFS -->\n",
    "\n",
    "### Create a Docker Image to Process the Data\n",
    "\n",
    "Next we will create the docker image that will process the data. The docker image will contain the code and dependencies needed to perform the conversion. This code originated with [lgloege](https://github.com/lgloege/bacalhau_socat_test) via [wesfloyd](https://github.com/wesfloyd/bacalhau_socat_test/). Thank you! 🤗\n",
    "\n",
    ":::tip\n",
    "For more information about working with custom containers, see the [custom containers example](../../workload-onboarding/custom-containers/).\n",
    ":::\n",
    "\n",
    "The key thing to watch out for here is the paths to the data. I'm using the default bacalhau output directory `/outputs` to write my data to. And the input data is mounted to the `/inputs` directory. But as you will see in a moment, web3.storage has added another `input` directory that we need to account for."
   ]
  },
  {
   "cell_type": "code",
   "execution_count": null,
   "metadata": {
    "colab": {
     "base_uri": "https://localhost:8080/"
    },
    "id": "7GSifueQiRDx",
    "outputId": "b2533a9f-343b-479d-e80b-14e1b3655819"
   },
   "outputs": [],
   "source": [
    "%%writefile main.py\n",
    "import fsspec\n",
    "import xarray as xr\n",
    "import pandas as pd\n",
    "import numpy as np\n",
    "import pyseaflux\n",
    "\n",
    "\n",
    "def lon_360_to_180(ds=None, lonVar=None):\n",
    "    lonVar = \"lon\" if lonVar is None else lonVar\n",
    "    return (ds.assign_coords({lonVar: (((ds[lonVar] + 180) % 360) - 180)})\n",
    "            .sortby(lonVar)\n",
    "            .astype(dtype='float32', order='C'))\n",
    "\n",
    "\n",
    "def center_dates(ds):\n",
    "    # start and end date\n",
    "    start_date = str(ds.time[0].dt.strftime('%Y-%m').values)\n",
    "    end_date = str(ds.time[-1].dt.strftime('%Y-%m').values)\n",
    "\n",
    "    # monthly dates centered on 15th of each month\n",
    "    dates = pd.date_range(start=f'{start_date}-01T00:00:00.000000000',\n",
    "                          end=f'{end_date}-01T00:00:00.000000000',\n",
    "                          freq='MS') + np.timedelta64(14, 'D')\n",
    "\n",
    "    return ds.assign(time=dates)\n",
    "\n",
    "\n",
    "def get_and_process_sst(url=None):\n",
    "    # get noaa sst\n",
    "    if url is None:\n",
    "        url = (\"/inputs/sst.mnmean.nc\")\n",
    "\n",
    "    with fsspec.open(url) as fp:\n",
    "        ds = xr.open_dataset(fp)\n",
    "        ds = lon_360_to_180(ds)\n",
    "        ds = center_dates(ds)\n",
    "        return ds\n",
    "\n",
    "\n",
    "def get_and_process_socat(url=None):\n",
    "    if url is None:\n",
    "        url = (\"/inputs/SOCATv2022_tracks_gridded_monthly.nc.zip\")\n",
    "\n",
    "    with fsspec.open(url, compression='zip') as fp:\n",
    "        ds = xr.open_dataset(fp)\n",
    "        ds = ds.rename({\"xlon\": \"lon\", \"ylat\": \"lat\", \"tmnth\": \"time\"})\n",
    "        ds = center_dates(ds)\n",
    "        return ds\n",
    "\n",
    "\n",
    "def main():\n",
    "    print(\"Load SST and SOCAT data\")\n",
    "    ds_sst = get_and_process_sst()\n",
    "    ds_socat = get_and_process_socat()\n",
    "\n",
    "    print(\"Merge datasets together\")\n",
    "    time_slice = slice(\"1981-12\", \"2022-05\")\n",
    "    ds_out = xr.merge([ds_sst['sst'].sel(time=time_slice),\n",
    "                       ds_socat['fco2_ave_unwtd'].sel(time=time_slice)])\n",
    "\n",
    "    print(\"Calculate pco2 from fco2\")\n",
    "    ds_out['pco2_ave_unwtd'] = xr.apply_ufunc(\n",
    "        pyseaflux.fCO2_to_pCO2,\n",
    "        ds_out['fco2_ave_unwtd'],\n",
    "        ds_out['sst'])\n",
    "\n",
    "    print(\"Add metadata\")\n",
    "    ds_out['pco2_ave_unwtd'].attrs['units'] = 'uatm'\n",
    "    ds_out['pco2_ave_unwtd'].attrs['notes'] = (\"calculated using\" +\n",
    "                                               \"NOAA OI SST V2\" +\n",
    "                                               \"and pyseaflux package\")\n",
    "\n",
    "    print(\"Save data\")\n",
    "    ds_out.to_zarr(\"/processed.zarr\")\n",
    "    import shutil\n",
    "    shutil.make_archive(\"/outputs/processed.zarr\", 'zip', \"/processed.zarr\")\n",
    "    print(\"Zarr file written to disk, job completed successfully\")\n",
    "\n",
    "if __name__ == \"__main__\":\n",
    "    main()"
   ]
  },
  {
   "cell_type": "code",
   "execution_count": null,
   "metadata": {
    "colab": {
     "base_uri": "https://localhost:8080/"
    },
    "id": "_Bq9hOI7iRDy",
    "outputId": "3eef8923-263a-440a-95af-45c5d0d93673"
   },
   "outputs": [],
   "source": [
    "%%writefile Dockerfile\n",
    "FROM python:slim\n",
    "\n",
    "RUN apt-get update && apt-get -y upgrade \\\n",
    "    && apt-get install -y --no-install-recommends \\\n",
    "    g++ \\\n",
    "    && rm -rf /var/lib/apt/lists/*\n",
    "\n",
    "WORKDIR /project\n",
    "\n",
    "COPY ./requirements.txt /project\n",
    "\n",
    "RUN pip3 install -r requirements.txt\n",
    "\n",
    "COPY ./main.py /project\n",
    "\n",
    "CMD [\"python\",\"main.py\"]"
   ]
  },
  {
   "cell_type": "code",
   "execution_count": null,
   "metadata": {
    "id": "_idzqnaiiRDy",
    "tags": [
     "remove_cell",
     "skip-execution"
    ]
   },
   "outputs": [],
   "source": [
    "%%bash\n",
    "# docker buildx build --platform linux/amd64,linux/arm64 --push -t ghcr.io/bacalhau-project/examples/socat:0.0.11 ."
   ]
  },
  {
   "cell_type": "markdown",
   "metadata": {
    "id": "3A8lvg6GiRDy"
   },
   "source": [
    "### Test the Container Locally\n",
    "\n",
    "Before we upload the container to the Bacalhau network, we should test it locally to make sure it works."
   ]
  },
  {
   "cell_type": "code",
   "execution_count": null,
   "metadata": {
    "id": "A93dGC7EiRDy",
    "outputId": "4f836c49-f5aa-461f-8341-94663e8eddbc",
    "tags": [
     "skip-execution"
    ]
   },
   "outputs": [],
   "source": [
    "%%bash\n",
    "docker run \\\n",
    "\t-v $(pwd)/inputs:/inputs \\\n",
    "\t-v $(pwd)/outputs:/outputs \\\n",
    "\tghcr.io/bacalhau-project/examples/socat:0.0.11"
   ]
  },
  {
   "cell_type": "markdown",
   "metadata": {
    "id": "jYDniwQJiRDz"
   },
   "source": [
    "### Run a Bacalhau Job\n",
    "\n",
    "Now that we have the data in IPFS and the docker image pushed, we can run a job on the Bacalhau network.\n",
    "\n",
    "I find it useful to first run a simple test with a known working container to ensure the data is located in the place I expect, because some storage providers add their own opinions. E.g. web3.storage wraps the directory uploads in a top level directory."
   ]
  },
  {
   "cell_type": "code",
   "execution_count": null,
   "metadata": {
    "id": "YPSs-FBeiRDz",
    "outputId": "78c0316f-cffc-4c2b-d628-4b36a31fcd25",
    "tags": [
     "skip-execution"
    ]
   },
   "outputs": [],
   "source": [
    "%%bash\n",
    "rm -rf stdout stderr volumes shards\n",
    "bacalhau docker run \\\n",
    "        --download \\\n",
    "        --inputs bafybeidunikexxu5qtuwc7eosjpuw6a75lxo7j5ezf3zurv52vbrmqwf6y \\\n",
    "        ubuntu -- ls /inputs"
   ]
  },
  {
   "cell_type": "markdown",
   "metadata": {
    "id": "kdivIKOKiRDz"
   },
   "source": [
    "Then I like to run a simple test with my custom container ..."
   ]
  },
  {
   "cell_type": "code",
   "execution_count": null,
   "metadata": {
    "id": "oMzcVlVDiRDz",
    "outputId": "3fb3c31b-1844-44b2-a7b4-27dc2b87581c",
    "tags": [
     "skip-execution"
    ]
   },
   "outputs": [],
   "source": [
    "%%bash\n",
    "rm -rf stdout stderr volumes shards\n",
    "bacalhau docker run \\\n",
    "\t--inputs bafybeidunikexxu5qtuwc7eosjpuw6a75lxo7j5ezf3zurv52vbrmqwf6y \\\n",
    "\t--download \\\n",
    "\tghcr.io/bacalhau-project/examples/socat:0.0.11 -- ls -la /inputs/"
   ]
  },
  {
   "cell_type": "markdown",
   "metadata": {
    "id": "bODZCPX-iRDz"
   },
   "source": [
    "And finally let's run the full job. This time I will not download the data immediately, because the job takes around 100s. And it takes another few minutes to download the results. The commands are below, but you will need to wait until the job completes before they work."
   ]
  },
  {
   "cell_type": "code",
   "execution_count": null,
   "metadata": {
    "id": "UmFHEY96iRD0",
    "tags": [
     "skip-execution"
    ]
   },
   "outputs": [],
   "source": [
    "%%bash  --out job_id\n",
    "bacalhau docker run \\\n",
    "        --inputs bafybeidunikexxu5qtuwc7eosjpuw6a75lxo7j5ezf3zurv52vbrmqwf6y \\\n",
    "        --id-only \\\n",
    "        --wait \\\n",
    "        ghcr.io/bacalhau-project/examples/socat:0.0.11 -- python main.py"
   ]
  },
  {
   "cell_type": "code",
   "execution_count": null,
   "metadata": {
    "colab": {
     "base_uri": "https://localhost:8080/"
    },
    "id": "Rb7nth4NiRD0",
    "outputId": "1b9a9e0a-3c48-46a2-ed77-92eedcb7f62f",
    "tags": [
     "remove_cell",
     "skip-execution"
    ]
   },
   "outputs": [],
   "source": [
    "%env JOB_ID={job_id}"
   ]
  },
  {
   "cell_type": "markdown",
   "metadata": {
    "id": "lJk-OgXkiRD0"
   },
   "source": [
    "## Get Results\n",
    "\n",
    "Now let's download and display the result from the results directory. We can use the `bacalhau get` command to download the results from the output data volume. The `--output-dir` argument specifies the directory to download the results to."
   ]
  },
  {
   "cell_type": "code",
   "execution_count": null,
   "metadata": {
    "colab": {
     "base_uri": "https://localhost:8080/"
    },
    "id": "hZv5X-VriRD0",
    "outputId": "3afb500d-fc7d-43a7-f3b7-de2bda98f134",
    "tags": [
     "skip-execution"
    ]
   },
   "outputs": [],
   "source": [
    "%%bash\n",
    "rm -rf results\n",
    "mkdir -p ./results # Temporary directory to store the results\n",
    "bacalhau get --output-dir ./results ${JOB_ID} # Download the results"
   ]
  },
  {
   "cell_type": "code",
   "execution_count": null,
   "metadata": {
    "id": "L4sOtSSMiRD0",
    "outputId": "52647afa-1715-41b7-cb29-9f21eeb8c648",
    "tags": [
     "skip-execution"
    ]
   },
   "outputs": [],
   "source": [
    "%%bash\n",
    "cat ./results/stdout"
   ]
  },
  {
   "cell_type": "code",
   "execution_count": null,
   "metadata": {
    "id": "9IXGoGKoiRD0",
    "outputId": "c19248c7-6fa1-4e05-de73-148a8f19e850",
    "tags": [
     "skip-execution"
    ]
   },
   "outputs": [],
   "source": [
    "%%bash\n",
    "ls ./results/volumes/outputs"
   ]
  },
  {
   "cell_type": "code",
   "execution_count": null,
   "metadata": {
    "id": "eiqvsajXfzDw",
    "tags": [
     "skip-execution"
    ]
   },
   "outputs": [],
   "source": [
    "import shutil\n",
    "shutil.unpack_archive(\"./results/volumes/outputs/processed.zarr.zip\", \"./results/volumes/outputs/\")"
   ]
  },
  {
   "cell_type": "code",
   "execution_count": null,
   "metadata": {
    "colab": {
     "base_uri": "https://localhost:8080/"
    },
    "id": "6bh2ljiuiRD1",
    "outputId": "f604aeae-cf7e-4183-885b-5e42215ce3ea",
    "tags": [
     "skip-execution"
    ]
   },
   "outputs": [],
   "source": [
    "import xarray as xr\n",
    "ds = xr.open_dataset(\"./results/volumes/outputs/\", engine='zarr')\n",
    "ds.info()"
   ]
  },
  {
   "cell_type": "code",
   "execution_count": null,
   "metadata": {
    "id": "kglrEVlKiRD1",
    "outputId": "0d002106-fc92-4cd6-d96a-102d2c559ec6",
    "tags": [
     "skip-execution"
    ]
   },
   "outputs": [],
   "source": [
    "ds['pco2_ave_unwtd'].mean(dim='time').plot()"
   ]
  }
 ],
 "metadata": {
  "colab": {
   "provenance": []
  },
  "kernelspec": {
   "display_name": "Python 3.10.2 64-bit ('3.10.2')",
   "language": "python",
   "name": "python3"
  },
  "language_info": {
   "codemirror_mode": {
    "name": "ipython",
    "version": 3
   },
   "file_extension": ".py",
   "mimetype": "text/x-python",
   "name": "python",
   "nbconvert_exporter": "python",
   "pygments_lexer": "ipython3",
   "version": "3.10.2"
  },
  "vscode": {
   "interpreter": {
    "hash": "81ff6dc1b26ee3af5189d22d58a3b36fca4ebbdded7f6a7b0d8f8cebee16ffbc"
   }
  }
 },
 "nbformat": 4,
 "nbformat_minor": 4
}
