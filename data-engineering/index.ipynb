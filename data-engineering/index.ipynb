{
 "cells": [
  {
   "cell_type": "raw",
   "id": "01214209-a92c-4b07-a7ae-1acd7d871c47",
   "metadata": {},
   "source": [
    "---\n",
    "sidebar_label: \"Data Engineering\"\n",
    "sidebar_position: 2\n",
    "---"
   ]
  },
  {
   "cell_type": "markdown",
   "id": "de30faba-32df-4b3f-8553-d29a826620ca",
   "metadata": {},
   "source": [
    "# Data Engineering\n",
    "\n",
    "This directory contains examples relating to data engineering workloads.\n",
    "The goal is to provide a range of examples that show you how to work with Bacalhau in a variety of use cases."
   ]
  }
 ],
 "metadata": {
  "kernelspec": {
   "display_name": "Python 3.9.7 64-bit ('3.9.7')",
   "language": "python",
   "name": "python3"
  },
  "language_info": {
   "codemirror_mode": {
    "name": "ipython",
    "version": 3
   },
   "file_extension": ".py",
   "mimetype": "text/x-python",
   "name": "python",
   "nbconvert_exporter": "python",
   "pygments_lexer": "ipython3",
   "version": "3.9.7"
  },
  "vscode": {
   "interpreter": {
    "hash": "21fd917facdca5c02b7d24e32528f1b4e6711465b0262edbfffba943391e1222"
   }
  }
 },
 "nbformat": 4,
 "nbformat_minor": 5
}
