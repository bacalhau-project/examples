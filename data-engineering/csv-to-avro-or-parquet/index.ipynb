{
  "cells": [
    {
      "cell_type": "raw",
      "metadata": {},
      "source": [
        "---\n",
        "sidebar_label: \"csv-to-avro-or-parquet\"\n",
        "sidebar_position: 10\n",
        "---"
      ]
    },
    {
      "cell_type": "markdown",
      "metadata": {},
      "source": [
        "# Convert CSV To Parquet Or Arrow\n",
        "\n",
        "[![Open In Colab](https://colab.research.google.com/assets/colab-badge.svg)](https://colab.research.google.com/github/bacalhau-project/examples/blob/main/data-engineering/csv-to-avro-or-parquet/index.ipynb)\n",
        "[![Open In Binder](https://mybinder.org/badge.svg)](https://mybinder.org/v2/gh/bacalhau-project/examples/HEAD?labpath=data-engineering/csv-to-avro-or-parquet/index.ipynb)"
      ]
    },
    {
      "cell_type": "markdown",
      "metadata": {
        "id": "XIRH0Cr0HOkd"
      },
      "source": [
        "## Introduction"
      ]
    },
    {
      "cell_type": "markdown",
      "metadata": {
        "id": "cRCGwu83HV3_"
      },
      "source": [
        "Converting from csv to parquet or avro reduces the size of file and allows for faster read and write speeds, using bacalhau you can convert your csv files stored on ipfs or on the web without\n",
        "The need to download files and install dependencies locally\n",
        "\n",
        "In this example we will convert a csv file from a url to parquet format and save the converted parquet file to IPFS\n"
      ]
    },
    {
      "cell_type": "markdown",
      "metadata": {
        "id": "QoP0OtYeHYLU"
      },
      "source": [
        "## Running Locally​\n"
      ]
    },
    {
      "cell_type": "markdown",
      "metadata": {
        "id": "X0tYF0CiHcAc"
      },
      "source": [
        "Installing dependencies\n"
      ]
    },
    {
      "cell_type": "code",
      "execution_count": null,
      "metadata": {
        "colab": {
          "base_uri": "https://localhost:8080/"
        },
        "id": "xMwzW734Hc0E",
        "outputId": "e2d72757-1c2d-4080-a9ab-bf07cd00a5d4",
        "tags": [
          "skip-execution"
        ]
      },
      "outputs": [],
      "source": [
        "%%bash\n",
        "git clone https://github.com/js-ts/csv_to_avro_or_parquet/\n",
        "pip3 install -r csv_to_avro_or_parquet/requirements.txt"
      ]
    },
    {
      "cell_type": "code",
      "execution_count": null,
      "metadata": {
        "colab": {
          "base_uri": "https://localhost:8080/"
        },
        "id": "SI0WIiXkHglL",
        "outputId": "e0ffcdca-5abb-49ee-bc41-4693ac6a3eaf",
        "tags": [
          "skip-execution"
        ]
      },
      "outputs": [],
      "source": [
        "%cd csv_to_avro_or_parquet"
      ]
    },
    {
      "cell_type": "markdown",
      "metadata": {
        "id": "lVfsgH9sJCzH"
      },
      "source": [
        "Downloading the test dataset\n"
      ]
    },
    {
      "cell_type": "code",
      "execution_count": null,
      "metadata": {
        "id": "Z2eyC63fI9Pr",
        "tags": [
          "skip-execution"
        ]
      },
      "outputs": [],
      "source": [
        "!wget https://raw.githubusercontent.com/js-ts/csv_to_avro_or_parquet/master/movies.csv  "
      ]
    },
    {
      "cell_type": "markdown",
      "metadata": {
        "id": "5t90v6OkJd5j"
      },
      "source": [
        "Running the conversion script\n",
        "\n",
        "arguments\n",
        "```\n",
        "python converter.py path_to_csv path_to_result_file extension\n",
        "```\n",
        "\n",
        "Running the script\n",
        "\n",
        "\n"
      ]
    },
    {
      "cell_type": "code",
      "execution_count": 4,
      "metadata": {
        "id": "JJnBqegLJxiy",
        "tags": [
          "skip-execution"
        ]
      },
      "outputs": [],
      "source": [
        "%%bash\n",
        "python3 src/converter.py ./movies.csv  ./movies.parquet parquet"
      ]
    },
    {
      "cell_type": "markdown",
      "metadata": {
        "id": "tSZy_yweJ9ii"
      },
      "source": [
        "viewing the parquet file"
      ]
    },
    {
      "cell_type": "code",
      "execution_count": null,
      "metadata": {
        "colab": {
          "base_uri": "https://localhost:8080/",
          "height": 990
        },
        "id": "C7Wb6dU0J3Ha",
        "outputId": "e99f0a1a-5361-40e1-e560-45d55d7b1c25",
        "tags": []
      },
      "outputs": [],
      "source": [
        "import pandas as pd\n",
        "pd.read_parquet('./movies.parquet').head()"
      ]
    },
    {
      "cell_type": "markdown",
      "metadata": {},
      "source": [
        "\n",
        "title\trating\tyear\truntime\n",
        "0\tAlmost Famous\tR\t2000\t122\n",
        "1\tAmerican Pie\tR\t1999\t95\n",
        "2\tBack to the Future\tPG\t1985\t116\n",
        "3\tBlade Runner\tR\t1982\t117\n",
        "4\tBlood for Dracula\tR\t1974\t106"
      ]
    },
    {
      "cell_type": "markdown",
      "metadata": {
        "id": "WYvBBuatKeQC"
      },
      "source": [
        "### Building a Docker container (Optional)\n",
        "Note* you can skip this section entirely and directly go to running on bacalhau\n",
        "\n",
        "To use Bacalhau, you need to package your code in an appropriate format. The developers have already pushed a container for you to use, but if you want to build your own, you can follow the steps below. You can view a [dedicated container example](https://docs.bacalhau.org/examples/workload-onboarding/custom-containers/) in the documentation.\n",
        "\n",
        "### Dockerfile\n",
        "\n",
        "In this step, you will create a `Dockerfile` to create an image. The `Dockerfile` is a text document that contains the commands used to assemble the image. First, create the `Dockerfile`.\n",
        "\n",
        "```\n",
        "FROM python:3.8\n",
        "\n",
        "RUN apt update && apt install git\n",
        "\n",
        "RUN git clone https://github.com/js-ts/Sparkov_Data_Generation/\n",
        "\n",
        "WORKDIR /Sparkov_Data_Generation/\n",
        "\n",
        "RUN pip3 install -r requirements.txt\n",
        "```\n",
        "\n",
        "To Build the docker container run the docker build command\n",
        "\n",
        "```\n",
        "docker build -t hub-user/repo-name:tag .\n",
        "```\n",
        "\n",
        "Please replace\n",
        "\n",
        "hub-user with your docker hub username, If you don’t have a docker hub account Follow these instructions to create docker account, and use the username of the account you created\n",
        "\n",
        "repo-name This is the name of the container, you can name it anything you want\n",
        "\n",
        "tag This is not required but you can use the latest tag\n",
        "\n",
        "After you have build the container, the next step is to test it locally and then push it docker hub\n",
        "\n",
        "Now you can push this repository to the registry designated by its name or tag.\n",
        "\n",
        "```\n",
        " docker push hub-user/repo-name:tag\n",
        "```\n",
        "\n",
        "\n",
        "After the repo image has been pushed to docker hub, we can now use the container for running on bacalhau"
      ]
    },
    {
      "cell_type": "markdown",
      "metadata": {
        "id": "HpQH-lqBRkdT"
      },
      "source": [
        "## Running on Bacalhau\n",
        "\n",
        "After the repo image has been pushed to docker hub, we can now use the container for running on bacalhau\n",
        "\n",
        "This command is similar to what we have run locally but we change the output directory to the outputs folder so that the results are saved to IPFS\n",
        "\n",
        "we will show you how you can mount the script from a IPFS as we as from an URL"
      ]
    },
    {
      "cell_type": "code",
      "execution_count": null,
      "metadata": {
        "colab": {
          "base_uri": "https://localhost:8080/"
        },
        "id": "8Rt_B9bjEPlC",
        "outputId": "3c6aa854-a8c3-4f42-93ca-18d59212515d"
      },
      "outputs": [
        {
          "name": "stdout",
          "output_type": "stream",
          "text": [
            "Your system is linux_amd64\n",
            "No BACALHAU detected. Installing fresh BACALHAU CLI...\n",
            "Getting the latest BACALHAU CLI...\n",
            "Installing v0.3.11 BACALHAU CLI...\n",
            "Downloading https://github.com/filecoin-project/bacalhau/releases/download/v0.3.11/bacalhau_v0.3.11_linux_amd64.tar.gz ...\n",
            "Downloading sig file https://github.com/filecoin-project/bacalhau/releases/download/v0.3.11/bacalhau_v0.3.11_linux_amd64.tar.gz.signature.sha256 ...\n",
            "Verified OK\n",
            "Extracting tarball ...\n",
            "NOT verifying Bin\n",
            "bacalhau installed into /usr/local/bin successfully.\n",
            "Client Version: v0.3.11\n",
            "Server Version: v0.3.11\n"
          ]
        }
      ],
      "source": [
        "%%bash\n",
        "curl -sL https://get.bacalhau.org/install.sh | bash"
      ]
    },
    {
      "cell_type": "markdown",
      "metadata": {
        "id": "Dwm4cEwqT9nh"
      },
      "source": [
        "Mounting the csv file from IPFS"
      ]
    },
    {
      "cell_type": "code",
      "execution_count": null,
      "metadata": {
        "id": "9OqkBR5fTf1L",
        "tags": [
          "skip-execution"
        ]
      },
      "outputs": [],
      "source": [
        "%%bash --out job_id\n",
        "bacalhau docker run \\\n",
        "-i QmTAQMGiSv9xocaB4PUCT5nSBHrf9HZrYj21BAZ5nMTY2W  \\\n",
        "--wait \\\n",
        "--id-only \\\n",
        " jsacex/csv-to-arrow-or-parquet \\\n",
        "-- python3 src/converter.py ../inputs/transactions.csv  ../outputs/transactions.parquet parquet"
      ]
    },
    {
      "cell_type": "markdown",
      "metadata": {
        "id": "f0AGj0tQUviw"
      },
      "source": [
        "Mounting the csv file from an URL\n",
        "\n",
        "```\n",
        "bacalhau docker run \\\n",
        "-u https://raw.githubusercontent.com/js-ts/csv_to_avro_or_parquet/master/movies.csv   jsacex/csv-to-arrow-or-parquet \\\n",
        "-- python3 src/converter.py ../inputs/movies.csv  ../outputs/movies.parquet parquet\n",
        "```"
      ]
    },
    {
      "cell_type": "code",
      "execution_count": null,
      "metadata": {
        "colab": {
          "base_uri": "https://localhost:8080/"
        },
        "id": "iWfPxY9HMkmX",
        "outputId": "647eac06-eeae-4c5e-d9d3-04459f9cce5b",
        "tags": [
          "skip-execution"
        ]
      },
      "outputs": [
        {
          "name": "stdout",
          "output_type": "stream",
          "text": [
            "env: JOB_ID=94774248-1d07-4121-aac8-451aca4a636e\n"
          ]
        }
      ],
      "source": [
        "%env JOB_ID={job_id}"
      ]
    },
    {
      "cell_type": "markdown",
      "metadata": {
        "id": "ajcHo9rupwb2"
      },
      "source": [
        "Running the commands will output a UUID that represents the job that was created. You can check the status of the job with the following command:"
      ]
    },
    {
      "cell_type": "code",
      "execution_count": null,
      "metadata": {
        "colab": {
          "base_uri": "https://localhost:8080/"
        },
        "id": "dErDkTWoMkmX",
        "outputId": "0ca2c81e-9632-4b71-a737-2cb1c5bfc5bc",
        "tags": [
          "skip-execution"
        ]
      },
      "outputs": [
        {
          "name": "stdout",
          "output_type": "stream",
          "text": [
            "\u001b[92;100m CREATED  \u001b[0m\u001b[92;100m ID       \u001b[0m\u001b[92;100m JOB                     \u001b[0m\u001b[92;100m STATE     \u001b[0m\u001b[92;100m VERIFIED \u001b[0m\u001b[92;100m PUBLISHED               \u001b[0m\n",
            "\u001b[97;40m 10:19:19 \u001b[0m\u001b[97;40m 94774248 \u001b[0m\u001b[97;40m Docker jsacex/csv-to... \u001b[0m\u001b[97;40m Completed \u001b[0m\u001b[97;40m          \u001b[0m\u001b[97;40m /ipfs/QmdHJaMmQHs9fE... \u001b[0m\n"
          ]
        }
      ],
      "source": [
        "%%bash\n",
        "bacalhau list --id-filter ${JOB_ID}"
      ]
    },
    {
      "cell_type": "markdown",
      "metadata": {
        "id": "kFYpNA32c7t5"
      },
      "source": [
        "\n",
        "Where it says \"`Completed `\", that means the job is done, and we can get the results.\n",
        "\n",
        "To find out more information about your job, run the following command:"
      ]
    },
    {
      "cell_type": "code",
      "execution_count": null,
      "metadata": {
        "id": "z7wlx10bMkmY",
        "tags": [
          "skip-execution"
        ]
      },
      "outputs": [],
      "source": [
        "%%bash\n",
        "bacalhau describe ${JOB_ID}"
      ]
    },
    {
      "cell_type": "markdown",
      "metadata": {
        "id": "2I4DHnt0Vzua"
      },
      "source": [
        "If you see that the job has completed and there are no errors, then you can download the results with the following command:"
      ]
    },
    {
      "cell_type": "code",
      "execution_count": null,
      "metadata": {
        "colab": {
          "base_uri": "https://localhost:8080/"
        },
        "id": "9-uJ7_F7MkmY",
        "outputId": "3b1c762e-1d77-491d-b9ab-17d6b27ba6af",
        "tags": [
          "skip-execution"
        ]
      },
      "outputs": [
        {
          "name": "stdout",
          "output_type": "stream",
          "text": [
            "Fetching results of job '94774248-1d07-4121-aac8-451aca4a636e'...\n",
            "Results for job '94774248-1d07-4121-aac8-451aca4a636e' have been written to...\n",
            "results\n"
          ]
        },
        {
          "name": "stderr",
          "output_type": "stream",
          "text": [
            "2022/11/12 10:20:09 failed to sufficiently increase receive buffer size (was: 208 kiB, wanted: 2048 kiB, got: 416 kiB). See https://github.com/lucas-clemente/quic-go/wiki/UDP-Receive-Buffer-Size for details.\n"
          ]
        }
      ],
      "source": [
        "%%bash\n",
        "rm -rf results && mkdir -p results\n",
        "bacalhau get $JOB_ID --output-dir results"
      ]
    },
    {
      "cell_type": "markdown",
      "metadata": {
        "id": "nrZcHon2WOd-"
      },
      "source": [
        "After the download has finished you should \n",
        "see the following contents in results directory"
      ]
    },
    {
      "cell_type": "code",
      "execution_count": null,
      "metadata": {
        "colab": {
          "base_uri": "https://localhost:8080/"
        },
        "id": "m_tquvEGMkmZ",
        "outputId": "c82d6070-10bd-460c-ce61-31bba1d989ba",
        "tags": [
          "skip-execution"
        ]
      },
      "outputs": [
        {
          "name": "stdout",
          "output_type": "stream",
          "text": [
            "transactions.parquet\n"
          ]
        }
      ],
      "source": [
        "%%bash\n",
        "ls results/combined_results/outputs"
      ]
    },
    {
      "cell_type": "markdown",
      "metadata": {
        "id": "7J2UmPZGWwog"
      },
      "source": [
        "Viewing the output"
      ]
    },
    {
      "cell_type": "code",
      "execution_count": null,
      "metadata": {
        "colab": {
          "base_uri": "https://localhost:8080/",
          "height": 239
        },
        "id": "rkECQ7Y6Wvne",
        "outputId": "666f8c7f-e56a-44cb-cd34-46e2261c1a8e",
        "tags": [
          "skip-execution"
        ]
      },
      "outputs": [],
      "source": [
        "import pandas as pd\n",
        "import os\n",
        "pd.read_parquet('results/combined_results/outputs/transactions.parquet')"
      ]
    }
  ],
  "metadata": {
    "colab": {
      "collapsed_sections": [],
      "provenance": []
    },
    "kernelspec": {
      "display_name": "Python 3.10.6 64-bit",
      "language": "python",
      "name": "python3"
    },
    "language_info": {
      "codemirror_mode": {
        "name": "ipython",
        "version": 3
      },
      "file_extension": ".py",
      "mimetype": "text/x-python",
      "name": "python",
      "nbconvert_exporter": "python",
      "pygments_lexer": "ipython3",
      "version": "3.10.6"
    },
    "vscode": {
      "interpreter": {
        "hash": "916dbcbb3f70747c44a77c7bcd40155683ae19c65e1c03b4aa3499c5328201f1"
      }
    }
  },
  "nbformat": 4,
  "nbformat_minor": 0
}
