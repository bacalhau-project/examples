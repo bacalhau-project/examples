{
  "cells": [
    {
      "cell_type": "raw",
      "metadata": {},
      "source": [
        "---\n",
        "sidebar_label: \"csv-to-avro-or-parquet\"\n",
        "sidebar_position: 10\n",
        "---"
      ]
    },
    {
      "cell_type": "markdown",
      "metadata": {},
      "source": [
        "# Convert CSV To Parquet Or Arrow\n",
        "\n",
        "[![Open In Colab](https://colab.research.google.com/assets/colab-badge.svg)](https://colab.research.google.com/github/bacalhau-project/examples/blob/main/data-engineering/csv-to-avro-or-parquet/index.ipynb)\n",
        "[![Open In Binder](https://mybinder.org/badge.svg)](https://mybinder.org/v2/gh/bacalhau-project/examples/HEAD?labpath=data-engineering/csv-to-avro-or-parquet/index.ipynb)"
      ]
    },
    {
      "cell_type": "markdown",
      "metadata": {
        "id": "XIRH0Cr0HOkd"
      },
      "source": [
        "## Introduction"
      ]
    },
    {
      "cell_type": "markdown",
      "metadata": {
        "id": "cRCGwu83HV3_"
      },
      "source": [
        "Converting from csv to parquet or avro reduces the size of file and allows for faster read and write speeds, using bacalhau you can convert your csv files stored on ipfs or on the web without\n",
        "The need to download files and install dependencies locally\n",
        "\n",
        "In this example we will convert a csv file from a url to parquet format and save the converted parquet file to IPFS\n"
      ]
    },
    {
      "cell_type": "markdown",
      "metadata": {
        "id": "QoP0OtYeHYLU"
      },
      "source": [
        "## Running Locally​\n"
      ]
    },
    {
      "cell_type": "markdown",
      "metadata": {
        "id": "X0tYF0CiHcAc"
      },
      "source": [
        "Installing dependencies\n"
      ]
    },
    {
      "cell_type": "code",
      "execution_count": null,
      "metadata": {
        "colab": {
          "base_uri": "https://localhost:8080/"
        },
        "id": "xMwzW734Hc0E",
        "outputId": "e2d72757-1c2d-4080-a9ab-bf07cd00a5d4",
        "tags": [
          "skip-execution"
        ]
      },
      "outputs": [
        {
          "name": "stdout",
          "output_type": "stream",
          "text": [
            "Looking in indexes: https://pypi.org/simple, https://us-python.pkg.dev/colab-wheels/public/simple/\n",
            "Requirement already satisfied: fastavro==1.4.7 in /usr/local/lib/python3.7/dist-packages (from -r csv_to_avro_or_parquet/requirements.txt (line 1)) (1.4.7)\n",
            "Requirement already satisfied: numpy==1.21.5 in /usr/local/lib/python3.7/dist-packages (from -r csv_to_avro_or_parquet/requirements.txt (line 22)) (1.21.5)\n",
            "Requirement already satisfied: pandas==1.3.5 in /usr/local/lib/python3.7/dist-packages (from -r csv_to_avro_or_parquet/requirements.txt (line 53)) (1.3.5)\n",
            "Requirement already satisfied: pyarrow==6.0.1 in /usr/local/lib/python3.7/dist-packages (from -r csv_to_avro_or_parquet/requirements.txt (line 79)) (6.0.1)\n",
            "Requirement already satisfied: python-dateutil==2.8.2 in /usr/local/lib/python3.7/dist-packages (from -r csv_to_avro_or_parquet/requirements.txt (line 116)) (2.8.2)\n",
            "Requirement already satisfied: pytz==2021.3 in /usr/local/lib/python3.7/dist-packages (from -r csv_to_avro_or_parquet/requirements.txt (line 119)) (2021.3)\n",
            "Requirement already satisfied: six==1.16.0 in /usr/local/lib/python3.7/dist-packages (from -r csv_to_avro_or_parquet/requirements.txt (line 122)) (1.16.0)\n"
          ]
        },
        {
          "name": "stderr",
          "output_type": "stream",
          "text": [
            "Cloning into 'csv_to_avro_or_parquet'...\n"
          ]
        }
      ],
      "source": [
        "%%bash\n",
        "git clone https://github.com/js-ts/csv_to_avro_or_parquet/\n",
        "pip3 install -r csv_to_avro_or_parquet/requirements.txt"
      ]
    },
    {
      "cell_type": "code",
      "execution_count": null,
      "metadata": {
        "colab": {
          "base_uri": "https://localhost:8080/"
        },
        "id": "SI0WIiXkHglL",
        "outputId": "e0ffcdca-5abb-49ee-bc41-4693ac6a3eaf",
        "tags": [
          "skip-execution"
        ]
      },
      "outputs": [
        {
          "name": "stdout",
          "output_type": "stream",
          "text": [
            "/content/csv_to_avro_or_parquet\n"
          ]
        }
      ],
      "source": [
        "%cd csv_to_avro_or_parquet"
      ]
    },
    {
      "cell_type": "markdown",
      "metadata": {
        "id": "lVfsgH9sJCzH"
      },
      "source": [
        "Downloading the test dataset\n"
      ]
    },
    {
      "cell_type": "code",
      "execution_count": null,
      "metadata": {
        "id": "Z2eyC63fI9Pr",
        "tags": [
          "skip-execution"
        ]
      },
      "outputs": [],
      "source": [
        "!wget https://raw.githubusercontent.com/js-ts/csv_to_avro_or_parquet/master/movies.csv  "
      ]
    },
    {
      "cell_type": "markdown",
      "metadata": {
        "id": "5t90v6OkJd5j"
      },
      "source": [
        "Running the conversion script\n",
        "\n",
        "arguments\n",
        "```\n",
        "python converter.py <path_to_csv> <path_to_result_file> <extension>\n",
        "```\n",
        "\n",
        "Running the script\n",
        "\n",
        "\n"
      ]
    },
    {
      "cell_type": "code",
      "execution_count": null,
      "metadata": {
        "id": "JJnBqegLJxiy",
        "tags": [
          "skip-execution"
        ]
      },
      "outputs": [],
      "source": [
        "%%bash\n",
        "python3 src/converter.py ./movies.csv  ./movies.parquet parquet"
      ]
    },
    {
      "cell_type": "markdown",
      "metadata": {
        "id": "tSZy_yweJ9ii"
      },
      "source": [
        "viewing the parquet file"
      ]
    },
    {
      "cell_type": "code",
      "execution_count": null,
      "metadata": {
        "colab": {
          "base_uri": "https://localhost:8080/",
          "height": 990
        },
        "id": "C7Wb6dU0J3Ha",
        "outputId": "e99f0a1a-5361-40e1-e560-45d55d7b1c25",
        "tags": [
          "skip-execution"
        ]
      },
      "outputs": [
        {
          "data": {
            "text/html": [
              "\n",
              "  <div id=\"df-1fe0efd6-6153-47d1-be2a-92e7f64de713\">\n",
              "    <div class=\"colab-df-container\">\n",
              "      <div>\n",
              "<style scoped>\n",
              "    .dataframe tbody tr th:only-of-type {\n",
              "        vertical-align: middle;\n",
              "    }\n",
              "\n",
              "    .dataframe tbody tr th {\n",
              "        vertical-align: top;\n",
              "    }\n",
              "\n",
              "    .dataframe thead th {\n",
              "        text-align: right;\n",
              "    }\n",
              "</style>\n",
              "<table border=\"1\" class=\"dataframe\">\n",
              "  <thead>\n",
              "    <tr style=\"text-align: right;\">\n",
              "      <th></th>\n",
              "      <th>title</th>\n",
              "      <th>rating</th>\n",
              "      <th>year</th>\n",
              "      <th>runtime</th>\n",
              "    </tr>\n",
              "  </thead>\n",
              "  <tbody>\n",
              "    <tr>\n",
              "      <th>0</th>\n",
              "      <td>Almost Famous</td>\n",
              "      <td>R</td>\n",
              "      <td>2000</td>\n",
              "      <td>122</td>\n",
              "    </tr>\n",
              "    <tr>\n",
              "      <th>1</th>\n",
              "      <td>American Pie</td>\n",
              "      <td>R</td>\n",
              "      <td>1999</td>\n",
              "      <td>95</td>\n",
              "    </tr>\n",
              "    <tr>\n",
              "      <th>2</th>\n",
              "      <td>Back to the Future</td>\n",
              "      <td>PG</td>\n",
              "      <td>1985</td>\n",
              "      <td>116</td>\n",
              "    </tr>\n",
              "    <tr>\n",
              "      <th>3</th>\n",
              "      <td>Blade Runner</td>\n",
              "      <td>R</td>\n",
              "      <td>1982</td>\n",
              "      <td>117</td>\n",
              "    </tr>\n",
              "    <tr>\n",
              "      <th>4</th>\n",
              "      <td>Blood for Dracula</td>\n",
              "      <td>R</td>\n",
              "      <td>1974</td>\n",
              "      <td>106</td>\n",
              "    </tr>\n",
              "    <tr>\n",
              "      <th>5</th>\n",
              "      <td>Blue Velvet</td>\n",
              "      <td>R</td>\n",
              "      <td>1986</td>\n",
              "      <td>120</td>\n",
              "    </tr>\n",
              "    <tr>\n",
              "      <th>6</th>\n",
              "      <td>The Breakfast Club</td>\n",
              "      <td>R</td>\n",
              "      <td>1985</td>\n",
              "      <td>97</td>\n",
              "    </tr>\n",
              "    <tr>\n",
              "      <th>7</th>\n",
              "      <td>Clueless</td>\n",
              "      <td>PG-13</td>\n",
              "      <td>1995</td>\n",
              "      <td>97</td>\n",
              "    </tr>\n",
              "    <tr>\n",
              "      <th>8</th>\n",
              "      <td>Cool Hand Luke</td>\n",
              "      <td>GP</td>\n",
              "      <td>1967</td>\n",
              "      <td>127</td>\n",
              "    </tr>\n",
              "    <tr>\n",
              "      <th>9</th>\n",
              "      <td>The Craft</td>\n",
              "      <td>R</td>\n",
              "      <td>1996</td>\n",
              "      <td>101</td>\n",
              "    </tr>\n",
              "    <tr>\n",
              "      <th>10</th>\n",
              "      <td>Doctor Zhivago</td>\n",
              "      <td>PG-13</td>\n",
              "      <td>1965</td>\n",
              "      <td>197</td>\n",
              "    </tr>\n",
              "    <tr>\n",
              "      <th>11</th>\n",
              "      <td>el Topo</td>\n",
              "      <td>Not Rated</td>\n",
              "      <td>1970</td>\n",
              "      <td>125</td>\n",
              "    </tr>\n",
              "    <tr>\n",
              "      <th>12</th>\n",
              "      <td>Evil Dead</td>\n",
              "      <td>NC-17</td>\n",
              "      <td>1981</td>\n",
              "      <td>85</td>\n",
              "    </tr>\n",
              "    <tr>\n",
              "      <th>13</th>\n",
              "      <td>Ghostbusters</td>\n",
              "      <td>PG</td>\n",
              "      <td>1984</td>\n",
              "      <td>105</td>\n",
              "    </tr>\n",
              "    <tr>\n",
              "      <th>14</th>\n",
              "      <td>Grease</td>\n",
              "      <td>PG-13</td>\n",
              "      <td>1978</td>\n",
              "      <td>110</td>\n",
              "    </tr>\n",
              "    <tr>\n",
              "      <th>15</th>\n",
              "      <td>Heathers</td>\n",
              "      <td>R</td>\n",
              "      <td>1988</td>\n",
              "      <td>103</td>\n",
              "    </tr>\n",
              "    <tr>\n",
              "      <th>16</th>\n",
              "      <td>Labyrinth</td>\n",
              "      <td>PG</td>\n",
              "      <td>1986</td>\n",
              "      <td>101</td>\n",
              "    </tr>\n",
              "    <tr>\n",
              "      <th>17</th>\n",
              "      <td>The Lost Boys</td>\n",
              "      <td>R</td>\n",
              "      <td>1987</td>\n",
              "      <td>97</td>\n",
              "    </tr>\n",
              "    <tr>\n",
              "      <th>18</th>\n",
              "      <td>Mean Girls</td>\n",
              "      <td>PG-13</td>\n",
              "      <td>2004</td>\n",
              "      <td>97</td>\n",
              "    </tr>\n",
              "    <tr>\n",
              "      <th>19</th>\n",
              "      <td>Millennium Actress</td>\n",
              "      <td>PG</td>\n",
              "      <td>2001</td>\n",
              "      <td>87</td>\n",
              "    </tr>\n",
              "    <tr>\n",
              "      <th>20</th>\n",
              "      <td>My Neighbor Totoro</td>\n",
              "      <td>G</td>\n",
              "      <td>1988</td>\n",
              "      <td>86</td>\n",
              "    </tr>\n",
              "    <tr>\n",
              "      <th>21</th>\n",
              "      <td>Napoleon Dynamite</td>\n",
              "      <td>PG</td>\n",
              "      <td>2004</td>\n",
              "      <td>96</td>\n",
              "    </tr>\n",
              "    <tr>\n",
              "      <th>22</th>\n",
              "      <td>Pee-wee's Big Adventure</td>\n",
              "      <td>PG</td>\n",
              "      <td>1985</td>\n",
              "      <td>91</td>\n",
              "    </tr>\n",
              "    <tr>\n",
              "      <th>23</th>\n",
              "      <td>Pretty in Pink</td>\n",
              "      <td>PG-13</td>\n",
              "      <td>1986</td>\n",
              "      <td>97</td>\n",
              "    </tr>\n",
              "    <tr>\n",
              "      <th>24</th>\n",
              "      <td>The Princess Bride</td>\n",
              "      <td>PG</td>\n",
              "      <td>1987</td>\n",
              "      <td>98</td>\n",
              "    </tr>\n",
              "    <tr>\n",
              "      <th>25</th>\n",
              "      <td>Psycho</td>\n",
              "      <td>R</td>\n",
              "      <td>1960</td>\n",
              "      <td>109</td>\n",
              "    </tr>\n",
              "    <tr>\n",
              "      <th>26</th>\n",
              "      <td>Stand by Me</td>\n",
              "      <td>R</td>\n",
              "      <td>1986</td>\n",
              "      <td>89</td>\n",
              "    </tr>\n",
              "    <tr>\n",
              "      <th>27</th>\n",
              "      <td>Super 8</td>\n",
              "      <td>PG-13</td>\n",
              "      <td>2011</td>\n",
              "      <td>112</td>\n",
              "    </tr>\n",
              "    <tr>\n",
              "      <th>28</th>\n",
              "      <td>superbad</td>\n",
              "      <td>R</td>\n",
              "      <td>2007</td>\n",
              "      <td>113</td>\n",
              "    </tr>\n",
              "    <tr>\n",
              "      <th>29</th>\n",
              "      <td>WarGames</td>\n",
              "      <td>PG</td>\n",
              "      <td>1983</td>\n",
              "      <td>114</td>\n",
              "    </tr>\n",
              "  </tbody>\n",
              "</table>\n",
              "</div>\n",
              "      <button class=\"colab-df-convert\" onclick=\"convertToInteractive('df-1fe0efd6-6153-47d1-be2a-92e7f64de713')\"\n",
              "              title=\"Convert this dataframe to an interactive table.\"\n",
              "              style=\"display:none;\">\n",
              "        \n",
              "  <svg xmlns=\"http://www.w3.org/2000/svg\" height=\"24px\"viewBox=\"0 0 24 24\"\n",
              "       width=\"24px\">\n",
              "    <path d=\"M0 0h24v24H0V0z\" fill=\"none\"/>\n",
              "    <path d=\"M18.56 5.44l.94 2.06.94-2.06 2.06-.94-2.06-.94-.94-2.06-.94 2.06-2.06.94zm-11 1L8.5 8.5l.94-2.06 2.06-.94-2.06-.94L8.5 2.5l-.94 2.06-2.06.94zm10 10l.94 2.06.94-2.06 2.06-.94-2.06-.94-.94-2.06-.94 2.06-2.06.94z\"/><path d=\"M17.41 7.96l-1.37-1.37c-.4-.4-.92-.59-1.43-.59-.52 0-1.04.2-1.43.59L10.3 9.45l-7.72 7.72c-.78.78-.78 2.05 0 2.83L4 21.41c.39.39.9.59 1.41.59.51 0 1.02-.2 1.41-.59l7.78-7.78 2.81-2.81c.8-.78.8-2.07 0-2.86zM5.41 20L4 18.59l7.72-7.72 1.47 1.35L5.41 20z\"/>\n",
              "  </svg>\n",
              "      </button>\n",
              "      \n",
              "  <style>\n",
              "    .colab-df-container {\n",
              "      display:flex;\n",
              "      flex-wrap:wrap;\n",
              "      gap: 12px;\n",
              "    }\n",
              "\n",
              "    .colab-df-convert {\n",
              "      background-color: #E8F0FE;\n",
              "      border: none;\n",
              "      border-radius: 50%;\n",
              "      cursor: pointer;\n",
              "      display: none;\n",
              "      fill: #1967D2;\n",
              "      height: 32px;\n",
              "      padding: 0 0 0 0;\n",
              "      width: 32px;\n",
              "    }\n",
              "\n",
              "    .colab-df-convert:hover {\n",
              "      background-color: #E2EBFA;\n",
              "      box-shadow: 0px 1px 2px rgba(60, 64, 67, 0.3), 0px 1px 3px 1px rgba(60, 64, 67, 0.15);\n",
              "      fill: #174EA6;\n",
              "    }\n",
              "\n",
              "    [theme=dark] .colab-df-convert {\n",
              "      background-color: #3B4455;\n",
              "      fill: #D2E3FC;\n",
              "    }\n",
              "\n",
              "    [theme=dark] .colab-df-convert:hover {\n",
              "      background-color: #434B5C;\n",
              "      box-shadow: 0px 1px 3px 1px rgba(0, 0, 0, 0.15);\n",
              "      filter: drop-shadow(0px 1px 2px rgba(0, 0, 0, 0.3));\n",
              "      fill: #FFFFFF;\n",
              "    }\n",
              "  </style>\n",
              "\n",
              "      <script>\n",
              "        const buttonEl =\n",
              "          document.querySelector('#df-1fe0efd6-6153-47d1-be2a-92e7f64de713 button.colab-df-convert');\n",
              "        buttonEl.style.display =\n",
              "          google.colab.kernel.accessAllowed ? 'block' : 'none';\n",
              "\n",
              "        async function convertToInteractive(key) {\n",
              "          const element = document.querySelector('#df-1fe0efd6-6153-47d1-be2a-92e7f64de713');\n",
              "          const dataTable =\n",
              "            await google.colab.kernel.invokeFunction('convertToInteractive',\n",
              "                                                     [key], {});\n",
              "          if (!dataTable) return;\n",
              "\n",
              "          const docLinkHtml = 'Like what you see? Visit the ' +\n",
              "            '<a target=\"_blank\" href=https://colab.research.google.com/notebooks/data_table.ipynb>data table notebook</a>'\n",
              "            + ' to learn more about interactive tables.';\n",
              "          element.innerHTML = '';\n",
              "          dataTable['output_type'] = 'display_data';\n",
              "          await google.colab.output.renderOutput(dataTable, element);\n",
              "          const docLink = document.createElement('div');\n",
              "          docLink.innerHTML = docLinkHtml;\n",
              "          element.appendChild(docLink);\n",
              "        }\n",
              "      </script>\n",
              "    </div>\n",
              "  </div>\n",
              "  "
            ],
            "text/plain": [
              "                      title     rating  year  runtime\n",
              "0             Almost Famous          R  2000      122\n",
              "1              American Pie          R  1999       95\n",
              "2        Back to the Future         PG  1985      116\n",
              "3              Blade Runner          R  1982      117\n",
              "4         Blood for Dracula          R  1974      106\n",
              "5               Blue Velvet          R  1986      120\n",
              "6        The Breakfast Club          R  1985       97\n",
              "7                  Clueless      PG-13  1995       97\n",
              "8            Cool Hand Luke         GP  1967      127\n",
              "9                 The Craft          R  1996      101\n",
              "10           Doctor Zhivago      PG-13  1965      197\n",
              "11                  el Topo  Not Rated  1970      125\n",
              "12                Evil Dead      NC-17  1981       85\n",
              "13             Ghostbusters         PG  1984      105\n",
              "14                   Grease      PG-13  1978      110\n",
              "15                 Heathers          R  1988      103\n",
              "16                Labyrinth         PG  1986      101\n",
              "17            The Lost Boys          R  1987       97\n",
              "18               Mean Girls      PG-13  2004       97\n",
              "19       Millennium Actress         PG  2001       87\n",
              "20       My Neighbor Totoro          G  1988       86\n",
              "21        Napoleon Dynamite         PG  2004       96\n",
              "22  Pee-wee's Big Adventure         PG  1985       91\n",
              "23           Pretty in Pink      PG-13  1986       97\n",
              "24       The Princess Bride         PG  1987       98\n",
              "25                   Psycho          R  1960      109\n",
              "26              Stand by Me          R  1986       89\n",
              "27                  Super 8      PG-13  2011      112\n",
              "28                 superbad          R  2007      113\n",
              "29                 WarGames         PG  1983      114"
            ]
          },
          "execution_count": 5,
          "metadata": {},
          "output_type": "execute_result"
        }
      ],
      "source": [
        "import pandas as pd\n",
        "pd.read_parquet('./movies.parquet')"
      ]
    },
    {
      "cell_type": "markdown",
      "metadata": {
        "id": "WYvBBuatKeQC"
      },
      "source": [
        "### Building a Docker container (Optional)\n",
        "Note* you can skip this section entirely and directly go to running on bacalhau\n",
        "\n",
        "To use Bacalhau, you need to package your code in an appropriate format. The developers have already pushed a container for you to use, but if you want to build your own, you can follow the steps below. You can view a [dedicated container example](../custom-containers/index.md) in the documentation.\n",
        "\n",
        "### Dockerfile\n",
        "\n",
        "In this step, you will create a `Dockerfile` to create an image. The `Dockerfile` is a text document that contains the commands used to assemble the image. First, create the `Dockerfile`.\n",
        "\n",
        "```\n",
        "FROM python:3.8\n",
        "\n",
        "RUN apt update && apt install git\n",
        "\n",
        "RUN git clone https://github.com/js-ts/Sparkov_Data_Generation/\n",
        "\n",
        "WORKDIR /Sparkov_Data_Generation/\n",
        "\n",
        "RUN pip3 install -r requirements.txt\n",
        "```\n",
        "\n",
        "To Build the docker container run the docker build command\n",
        "\n",
        "```\n",
        "docker build -t <hub-user>/<repo-name>:<tag> .\n",
        "```\n",
        "\n",
        "Please replace\n",
        "\n",
        "<hub-user> with your docker hub username, If you don’t have a docker hub account Follow these instructions to create docker account, and use the username of the account you created\n",
        "\n",
        "<repo-name> This is the name of the container, you can name it anything you want\n",
        "\n",
        "<tag> This is not required but you can use the latest tag\n",
        "\n",
        "After you have build the container, the next step is to test it locally and then push it docker hub\n",
        "\n",
        "Now you can push this repository to the registry designated by its name or tag.\n",
        "\n",
        "```\n",
        " docker push <hub-user>/<repo-name>:<tag>\n",
        "```\n",
        "\n",
        "\n",
        "After the repo image has been pushed to docker hub, we can now use the container for running on bacalhau"
      ]
    },
    {
      "cell_type": "markdown",
      "metadata": {
        "id": "HpQH-lqBRkdT"
      },
      "source": [
        "## Running on Bacalhau\n",
        "\n",
        "After the repo image has been pushed to docker hub, we can now use the container for running on bacalhau\n",
        "\n",
        "This command is similar to what we have run locally but we change the output directory to the outputs folder so that the results are saved to IPFS\n",
        "\n",
        "we will show you how you can mount the script from a IPFS as we as from an URL"
      ]
    },
    {
      "cell_type": "code",
      "execution_count": null,
      "metadata": {
        "colab": {
          "base_uri": "https://localhost:8080/"
        },
        "id": "8Rt_B9bjEPlC",
        "outputId": "3c6aa854-a8c3-4f42-93ca-18d59212515d"
      },
      "outputs": [
        {
          "name": "stdout",
          "output_type": "stream",
          "text": [
            "Your system is linux_amd64\n",
            "No BACALHAU detected. Installing fresh BACALHAU CLI...\n",
            "Getting the latest BACALHAU CLI...\n",
            "Installing v0.3.11 BACALHAU CLI...\n",
            "Downloading https://github.com/filecoin-project/bacalhau/releases/download/v0.3.11/bacalhau_v0.3.11_linux_amd64.tar.gz ...\n",
            "Downloading sig file https://github.com/filecoin-project/bacalhau/releases/download/v0.3.11/bacalhau_v0.3.11_linux_amd64.tar.gz.signature.sha256 ...\n",
            "Verified OK\n",
            "Extracting tarball ...\n",
            "NOT verifying Bin\n",
            "bacalhau installed into /usr/local/bin successfully.\n",
            "Client Version: v0.3.11\n",
            "Server Version: v0.3.11\n"
          ]
        }
      ],
      "source": [
        "%%bash\n",
        "curl -sL https://get.bacalhau.org/install.sh | bash"
      ]
    },
    {
      "cell_type": "markdown",
      "metadata": {
        "id": "Dwm4cEwqT9nh"
      },
      "source": [
        "Mounting the csv file from IPFS"
      ]
    },
    {
      "cell_type": "code",
      "execution_count": null,
      "metadata": {
        "id": "9OqkBR5fTf1L",
        "tags": [
          "skip-execution"
        ]
      },
      "outputs": [],
      "source": [
        "%%bash --out job_id\n",
        "bacalhau docker run \\\n",
        "-i QmTAQMGiSv9xocaB4PUCT5nSBHrf9HZrYj21BAZ5nMTY2W  \\\n",
        "--wait \\\n",
        "--id-only \\\n",
        " jsacex/csv-to-arrow-or-parquet \\\n",
        "-- python3 src/converter.py ../inputs/transactions.csv  ../outputs/transactions.parquet parquet"
      ]
    },
    {
      "cell_type": "markdown",
      "metadata": {
        "id": "f0AGj0tQUviw"
      },
      "source": [
        "Mounting the csv file from an URL\n",
        "\n",
        "```\n",
        "bacalhau docker run \\\n",
        "-u https://raw.githubusercontent.com/js-ts/csv_to_avro_or_parquet/master/movies.csv   jsacex/csv-to-arrow-or-parquet \\\n",
        "-- python3 src/converter.py ../inputs/movies.csv  ../outputs/movies.parquet parquet\n",
        "```"
      ]
    },
    {
      "cell_type": "code",
      "execution_count": null,
      "metadata": {
        "colab": {
          "base_uri": "https://localhost:8080/"
        },
        "id": "iWfPxY9HMkmX",
        "outputId": "647eac06-eeae-4c5e-d9d3-04459f9cce5b",
        "tags": [
          "skip-execution",
          "remove_cell"
        ]
      },
      "outputs": [
        {
          "name": "stdout",
          "output_type": "stream",
          "text": [
            "env: JOB_ID=94774248-1d07-4121-aac8-451aca4a636e\n"
          ]
        }
      ],
      "source": [
        "%env JOB_ID={job_id}"
      ]
    },
    {
      "cell_type": "markdown",
      "metadata": {
        "id": "ajcHo9rupwb2"
      },
      "source": [
        "Running the commands will output a UUID that represents the job that was created. You can check the status of the job with the following command:"
      ]
    },
    {
      "cell_type": "code",
      "execution_count": null,
      "metadata": {
        "colab": {
          "base_uri": "https://localhost:8080/"
        },
        "id": "dErDkTWoMkmX",
        "outputId": "0ca2c81e-9632-4b71-a737-2cb1c5bfc5bc",
        "tags": [
          "skip-execution"
        ]
      },
      "outputs": [
        {
          "name": "stdout",
          "output_type": "stream",
          "text": [
            "\u001b[92;100m CREATED  \u001b[0m\u001b[92;100m ID       \u001b[0m\u001b[92;100m JOB                     \u001b[0m\u001b[92;100m STATE     \u001b[0m\u001b[92;100m VERIFIED \u001b[0m\u001b[92;100m PUBLISHED               \u001b[0m\n",
            "\u001b[97;40m 10:19:19 \u001b[0m\u001b[97;40m 94774248 \u001b[0m\u001b[97;40m Docker jsacex/csv-to... \u001b[0m\u001b[97;40m Completed \u001b[0m\u001b[97;40m          \u001b[0m\u001b[97;40m /ipfs/QmdHJaMmQHs9fE... \u001b[0m\n"
          ]
        }
      ],
      "source": [
        "%%bash\n",
        "bacalhau list --id-filter ${JOB_ID}"
      ]
    },
    {
      "cell_type": "markdown",
      "metadata": {
        "id": "kFYpNA32c7t5"
      },
      "source": [
        "\n",
        "Where it says \"`Completed `\", that means the job is done, and we can get the results.\n",
        "\n",
        "To find out more information about your job, run the following command:"
      ]
    },
    {
      "cell_type": "code",
      "execution_count": null,
      "metadata": {
        "id": "z7wlx10bMkmY",
        "tags": [
          "skip-execution"
        ]
      },
      "outputs": [],
      "source": [
        "%%bash\n",
        "bacalhau describe ${JOB_ID}"
      ]
    },
    {
      "cell_type": "markdown",
      "metadata": {
        "id": "2I4DHnt0Vzua"
      },
      "source": [
        "If you see that the job has completed and there are no errors, then you can download the results with the following command:"
      ]
    },
    {
      "cell_type": "code",
      "execution_count": null,
      "metadata": {
        "colab": {
          "base_uri": "https://localhost:8080/"
        },
        "id": "9-uJ7_F7MkmY",
        "outputId": "3b1c762e-1d77-491d-b9ab-17d6b27ba6af",
        "tags": [
          "skip-execution"
        ]
      },
      "outputs": [
        {
          "name": "stdout",
          "output_type": "stream",
          "text": [
            "Fetching results of job '94774248-1d07-4121-aac8-451aca4a636e'...\n",
            "Results for job '94774248-1d07-4121-aac8-451aca4a636e' have been written to...\n",
            "results\n"
          ]
        },
        {
          "name": "stderr",
          "output_type": "stream",
          "text": [
            "2022/11/12 10:20:09 failed to sufficiently increase receive buffer size (was: 208 kiB, wanted: 2048 kiB, got: 416 kiB). See https://github.com/lucas-clemente/quic-go/wiki/UDP-Receive-Buffer-Size for details.\n"
          ]
        }
      ],
      "source": [
        "%%bash\n",
        "rm -rf results && mkdir -p results\n",
        "bacalhau get $JOB_ID --output-dir results"
      ]
    },
    {
      "cell_type": "markdown",
      "metadata": {
        "id": "nrZcHon2WOd-"
      },
      "source": [
        "After the download has finished you should \n",
        "see the following contents in results directory"
      ]
    },
    {
      "cell_type": "code",
      "execution_count": null,
      "metadata": {
        "colab": {
          "base_uri": "https://localhost:8080/"
        },
        "id": "m_tquvEGMkmZ",
        "outputId": "c82d6070-10bd-460c-ce61-31bba1d989ba",
        "tags": [
          "skip-execution"
        ]
      },
      "outputs": [
        {
          "name": "stdout",
          "output_type": "stream",
          "text": [
            "transactions.parquet\n"
          ]
        }
      ],
      "source": [
        "%%bash\n",
        "ls results/combined_results/outputs"
      ]
    },
    {
      "cell_type": "markdown",
      "metadata": {
        "id": "7J2UmPZGWwog"
      },
      "source": [
        "Viewing the output"
      ]
    },
    {
      "cell_type": "code",
      "execution_count": null,
      "metadata": {
        "colab": {
          "base_uri": "https://localhost:8080/",
          "height": 239
        },
        "id": "rkECQ7Y6Wvne",
        "outputId": "666f8c7f-e56a-44cb-cd34-46e2261c1a8e",
        "tags": [
          "skip-execution"
        ]
      },
      "outputs": [
        {
          "data": {
            "text/html": [
              "\n",
              "  <div id=\"df-41546dc6-fab7-40c0-ad66-dc7b41fc5400\">\n",
              "    <div class=\"colab-df-container\">\n",
              "      <div>\n",
              "<style scoped>\n",
              "    .dataframe tbody tr th:only-of-type {\n",
              "        vertical-align: middle;\n",
              "    }\n",
              "\n",
              "    .dataframe tbody tr th {\n",
              "        vertical-align: top;\n",
              "    }\n",
              "\n",
              "    .dataframe thead th {\n",
              "        text-align: right;\n",
              "    }\n",
              "</style>\n",
              "<table border=\"1\" class=\"dataframe\">\n",
              "  <thead>\n",
              "    <tr style=\"text-align: right;\">\n",
              "      <th></th>\n",
              "      <th>hash</th>\n",
              "      <th>nonce</th>\n",
              "      <th>block_hash</th>\n",
              "      <th>block_number</th>\n",
              "      <th>transaction_index</th>\n",
              "      <th>from_address</th>\n",
              "      <th>to_address</th>\n",
              "      <th>value</th>\n",
              "      <th>gas</th>\n",
              "      <th>gas_price</th>\n",
              "      <th>input</th>\n",
              "      <th>block_timestamp</th>\n",
              "      <th>max_fee_per_gas</th>\n",
              "      <th>max_priority_fee_per_gas</th>\n",
              "      <th>transaction_type</th>\n",
              "    </tr>\n",
              "  </thead>\n",
              "  <tbody>\n",
              "    <tr>\n",
              "      <th>0</th>\n",
              "      <td>0x04cbcb236043d8fb7839e07bbc7f5eed692fb2ca55d8...</td>\n",
              "      <td>12</td>\n",
              "      <td>0x246edb4b351d93c27926f4649bcf6c24366e2a7c7c71...</td>\n",
              "      <td>483920</td>\n",
              "      <td>0</td>\n",
              "      <td>0x1b63142628311395ceafeea5667e7c9026c862ca</td>\n",
              "      <td>0xf4eced2f682ce333f96f2d8966c613ded8fc95dd</td>\n",
              "      <td>0</td>\n",
              "      <td>150853</td>\n",
              "      <td>50000000000</td>\n",
              "      <td>0xa9059cbb000000000000000000000000ac4df82fe37e...</td>\n",
              "      <td>1446561880</td>\n",
              "      <td>NaN</td>\n",
              "      <td>NaN</td>\n",
              "      <td>0</td>\n",
              "    </tr>\n",
              "    <tr>\n",
              "      <th>1</th>\n",
              "      <td>0xcea6f89720cc1d2f46cc7a935463ae0b99dd5fad9c91...</td>\n",
              "      <td>84</td>\n",
              "      <td>0x246edb4b351d93c27926f4649bcf6c24366e2a7c7c71...</td>\n",
              "      <td>483920</td>\n",
              "      <td>1</td>\n",
              "      <td>0x9b22a80d5c7b3374a05b446081f97d0a34079e7f</td>\n",
              "      <td>0xf4eced2f682ce333f96f2d8966c613ded8fc95dd</td>\n",
              "      <td>0</td>\n",
              "      <td>150853</td>\n",
              "      <td>50000000000</td>\n",
              "      <td>0xa9059cbb00000000000000000000000066f183060253...</td>\n",
              "      <td>1446561880</td>\n",
              "      <td>NaN</td>\n",
              "      <td>NaN</td>\n",
              "      <td>0</td>\n",
              "    </tr>\n",
              "    <tr>\n",
              "      <th>2</th>\n",
              "      <td>0x463d53f0ad57677a3b430a007c1c31d15d62c37fab5e...</td>\n",
              "      <td>88</td>\n",
              "      <td>0x246edb4b351d93c27926f4649bcf6c24366e2a7c7c71...</td>\n",
              "      <td>483920</td>\n",
              "      <td>2</td>\n",
              "      <td>0x9df428a91ff0f3635c8f0ce752933b9788926804</td>\n",
              "      <td>0x9e669f970ec0f49bb735f20799a7e7c4a1c274e2</td>\n",
              "      <td>11000440000000000</td>\n",
              "      <td>90000</td>\n",
              "      <td>50000000000</td>\n",
              "      <td>0x</td>\n",
              "      <td>1446561880</td>\n",
              "      <td>NaN</td>\n",
              "      <td>NaN</td>\n",
              "      <td>0</td>\n",
              "    </tr>\n",
              "    <tr>\n",
              "      <th>3</th>\n",
              "      <td>0x05287a561f218418892ab053adfb3d919860988b1945...</td>\n",
              "      <td>20085</td>\n",
              "      <td>0x246edb4b351d93c27926f4649bcf6c24366e2a7c7c71...</td>\n",
              "      <td>483920</td>\n",
              "      <td>3</td>\n",
              "      <td>0x2a65aca4d5fc5b5c859090a6c34d164135398226</td>\n",
              "      <td>0x743b8aeedc163c0e3a0fe9f3910d146c48e70da8</td>\n",
              "      <td>1530219620000000000</td>\n",
              "      <td>90000</td>\n",
              "      <td>50000000000</td>\n",
              "      <td>0x</td>\n",
              "      <td>1446561880</td>\n",
              "      <td>NaN</td>\n",
              "      <td>NaN</td>\n",
              "      <td>0</td>\n",
              "    </tr>\n",
              "  </tbody>\n",
              "</table>\n",
              "</div>\n",
              "      <button class=\"colab-df-convert\" onclick=\"convertToInteractive('df-41546dc6-fab7-40c0-ad66-dc7b41fc5400')\"\n",
              "              title=\"Convert this dataframe to an interactive table.\"\n",
              "              style=\"display:none;\">\n",
              "        \n",
              "  <svg xmlns=\"http://www.w3.org/2000/svg\" height=\"24px\"viewBox=\"0 0 24 24\"\n",
              "       width=\"24px\">\n",
              "    <path d=\"M0 0h24v24H0V0z\" fill=\"none\"/>\n",
              "    <path d=\"M18.56 5.44l.94 2.06.94-2.06 2.06-.94-2.06-.94-.94-2.06-.94 2.06-2.06.94zm-11 1L8.5 8.5l.94-2.06 2.06-.94-2.06-.94L8.5 2.5l-.94 2.06-2.06.94zm10 10l.94 2.06.94-2.06 2.06-.94-2.06-.94-.94-2.06-.94 2.06-2.06.94z\"/><path d=\"M17.41 7.96l-1.37-1.37c-.4-.4-.92-.59-1.43-.59-.52 0-1.04.2-1.43.59L10.3 9.45l-7.72 7.72c-.78.78-.78 2.05 0 2.83L4 21.41c.39.39.9.59 1.41.59.51 0 1.02-.2 1.41-.59l7.78-7.78 2.81-2.81c.8-.78.8-2.07 0-2.86zM5.41 20L4 18.59l7.72-7.72 1.47 1.35L5.41 20z\"/>\n",
              "  </svg>\n",
              "      </button>\n",
              "      \n",
              "  <style>\n",
              "    .colab-df-container {\n",
              "      display:flex;\n",
              "      flex-wrap:wrap;\n",
              "      gap: 12px;\n",
              "    }\n",
              "\n",
              "    .colab-df-convert {\n",
              "      background-color: #E8F0FE;\n",
              "      border: none;\n",
              "      border-radius: 50%;\n",
              "      cursor: pointer;\n",
              "      display: none;\n",
              "      fill: #1967D2;\n",
              "      height: 32px;\n",
              "      padding: 0 0 0 0;\n",
              "      width: 32px;\n",
              "    }\n",
              "\n",
              "    .colab-df-convert:hover {\n",
              "      background-color: #E2EBFA;\n",
              "      box-shadow: 0px 1px 2px rgba(60, 64, 67, 0.3), 0px 1px 3px 1px rgba(60, 64, 67, 0.15);\n",
              "      fill: #174EA6;\n",
              "    }\n",
              "\n",
              "    [theme=dark] .colab-df-convert {\n",
              "      background-color: #3B4455;\n",
              "      fill: #D2E3FC;\n",
              "    }\n",
              "\n",
              "    [theme=dark] .colab-df-convert:hover {\n",
              "      background-color: #434B5C;\n",
              "      box-shadow: 0px 1px 3px 1px rgba(0, 0, 0, 0.15);\n",
              "      filter: drop-shadow(0px 1px 2px rgba(0, 0, 0, 0.3));\n",
              "      fill: #FFFFFF;\n",
              "    }\n",
              "  </style>\n",
              "\n",
              "      <script>\n",
              "        const buttonEl =\n",
              "          document.querySelector('#df-41546dc6-fab7-40c0-ad66-dc7b41fc5400 button.colab-df-convert');\n",
              "        buttonEl.style.display =\n",
              "          google.colab.kernel.accessAllowed ? 'block' : 'none';\n",
              "\n",
              "        async function convertToInteractive(key) {\n",
              "          const element = document.querySelector('#df-41546dc6-fab7-40c0-ad66-dc7b41fc5400');\n",
              "          const dataTable =\n",
              "            await google.colab.kernel.invokeFunction('convertToInteractive',\n",
              "                                                     [key], {});\n",
              "          if (!dataTable) return;\n",
              "\n",
              "          const docLinkHtml = 'Like what you see? Visit the ' +\n",
              "            '<a target=\"_blank\" href=https://colab.research.google.com/notebooks/data_table.ipynb>data table notebook</a>'\n",
              "            + ' to learn more about interactive tables.';\n",
              "          element.innerHTML = '';\n",
              "          dataTable['output_type'] = 'display_data';\n",
              "          await google.colab.output.renderOutput(dataTable, element);\n",
              "          const docLink = document.createElement('div');\n",
              "          docLink.innerHTML = docLinkHtml;\n",
              "          element.appendChild(docLink);\n",
              "        }\n",
              "      </script>\n",
              "    </div>\n",
              "  </div>\n",
              "  "
            ],
            "text/plain": [
              "                                                hash  nonce  \\\n",
              "0  0x04cbcb236043d8fb7839e07bbc7f5eed692fb2ca55d8...     12   \n",
              "1  0xcea6f89720cc1d2f46cc7a935463ae0b99dd5fad9c91...     84   \n",
              "2  0x463d53f0ad57677a3b430a007c1c31d15d62c37fab5e...     88   \n",
              "3  0x05287a561f218418892ab053adfb3d919860988b1945...  20085   \n",
              "\n",
              "                                          block_hash  block_number  \\\n",
              "0  0x246edb4b351d93c27926f4649bcf6c24366e2a7c7c71...        483920   \n",
              "1  0x246edb4b351d93c27926f4649bcf6c24366e2a7c7c71...        483920   \n",
              "2  0x246edb4b351d93c27926f4649bcf6c24366e2a7c7c71...        483920   \n",
              "3  0x246edb4b351d93c27926f4649bcf6c24366e2a7c7c71...        483920   \n",
              "\n",
              "   transaction_index                                from_address  \\\n",
              "0                  0  0x1b63142628311395ceafeea5667e7c9026c862ca   \n",
              "1                  1  0x9b22a80d5c7b3374a05b446081f97d0a34079e7f   \n",
              "2                  2  0x9df428a91ff0f3635c8f0ce752933b9788926804   \n",
              "3                  3  0x2a65aca4d5fc5b5c859090a6c34d164135398226   \n",
              "\n",
              "                                   to_address                value     gas  \\\n",
              "0  0xf4eced2f682ce333f96f2d8966c613ded8fc95dd                    0  150853   \n",
              "1  0xf4eced2f682ce333f96f2d8966c613ded8fc95dd                    0  150853   \n",
              "2  0x9e669f970ec0f49bb735f20799a7e7c4a1c274e2    11000440000000000   90000   \n",
              "3  0x743b8aeedc163c0e3a0fe9f3910d146c48e70da8  1530219620000000000   90000   \n",
              "\n",
              "     gas_price                                              input  \\\n",
              "0  50000000000  0xa9059cbb000000000000000000000000ac4df82fe37e...   \n",
              "1  50000000000  0xa9059cbb00000000000000000000000066f183060253...   \n",
              "2  50000000000                                                 0x   \n",
              "3  50000000000                                                 0x   \n",
              "\n",
              "   block_timestamp  max_fee_per_gas  max_priority_fee_per_gas  \\\n",
              "0       1446561880              NaN                       NaN   \n",
              "1       1446561880              NaN                       NaN   \n",
              "2       1446561880              NaN                       NaN   \n",
              "3       1446561880              NaN                       NaN   \n",
              "\n",
              "   transaction_type  \n",
              "0                 0  \n",
              "1                 0  \n",
              "2                 0  \n",
              "3                 0  "
            ]
          },
          "execution_count": 19,
          "metadata": {},
          "output_type": "execute_result"
        }
      ],
      "source": [
        "import pandas as pd\n",
        "import os\n",
        "pd.read_parquet('results/combined_results/outputs/transactions.parquet')"
      ]
    }
  ],
  "metadata": {
    "colab": {
      "collapsed_sections": [],
      "provenance": []
    },
    "kernelspec": {
      "display_name": "Python 3.10.6 64-bit",
      "language": "python",
      "name": "python3"
    },
    "language_info": {
      "name": "python",
      "version": "3.10.6"
    },
    "vscode": {
      "interpreter": {
        "hash": "916dbcbb3f70747c44a77c7bcd40155683ae19c65e1c03b4aa3499c5328201f1"
      }
    }
  },
  "nbformat": 4,
  "nbformat_minor": 0
}
