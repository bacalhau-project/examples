{
  "cells": [
    {
      "cell_type": "raw",
      "metadata": {},
      "source": [
        "---\n",
        "sidebar_label: \"DuckDB\"\n",
        "sidebar_position: 1\n",
        "---"
      ]
    },
    {
      "cell_type": "markdown",
      "metadata": {},
      "source": [
        "# DuckDB\n",
        "\n",
        "[![Open In Colab](https://colab.research.google.com/assets/colab-badge.svg)](https://colab.research.google.com/github/bacalhau-project/examples/blob/main/data-engineering/DuckDB/index.ipynb)\n",
        "[![Open In Binder](https://mybinder.org/badge.svg)](https://mybinder.org/v2/gh/bacalhau-project/examples/HEAD?labpath=data-engineering/DuckDB/index.ipynb)"
      ]
    },
    {
      "cell_type": "markdown",
      "metadata": {
        "id": "l5KLdNXnUr21"
      },
      "source": [
        "## Introduction\n",
        "DuckDB is a relational table-oriented database management system and supports SQL queries for producing analytical results. It also comes with various features that are useful for data analytics.\n",
        "\n",
        "DuckDB is suited for the following use cases\n",
        "\n",
        "Processing and storing tabular datasets, e.g. from CSV or Parquet files\n",
        "Interactive data analysis, e.g. Joining & aggregate multiple large tables\n",
        "Concurrent large changes, to multiple large tables, e.g. appending rows, adding/removing/updating columns\n",
        "Large result set transfer to client\n",
        "\n",
        "The advantage of using DuckDB with bacalhau is that you don’t need to install \n",
        "It locally also there is no need to download the datasets since the datasets are\n",
        "Already there on IPFS or on the web\n"
      ]
    },
    {
      "cell_type": "markdown",
      "metadata": {
        "id": "mToWOZrjVS27"
      },
      "source": [
        "## Building Docker container\n",
        "\n",
        "You can skip to running on bacalhau if you don’t want to build the container\n",
        "If you want any additional dependencies to be installed along with DuckDB\n",
        "you need to build your own container\n",
        "\n",
        "To build your own docker container, create a Dockerfile, which contains \n",
        "Instructions to build your DuckDB   docker container\n",
        "\n",
        "\n",
        "```\n",
        "FROM mcr.microsoft.com/vscode/devcontainers/python:3.9\n",
        "\n",
        "RUN apt-get update && apt-get install -y nodejs npm g++\n",
        "\n",
        "# Install dbt\n",
        "RUN pip3 --disable-pip-version-check --no-cache-dir install duckdb==0.4.0 dbt-duckdb==1.1.4 \\\n",
        "    && rm -rf /tmp/pip-tmp\n",
        "\n",
        "# Install duckdb cli\n",
        "RUN wget https://github.com/duckdb/duckdb/releases/download/v0.4.0/duckdb_cli-linux-amd64.zip \\\n",
        "    && unzip duckdb_cli-linux-amd64.zip -d /usr/local/bin \\\n",
        "    && rm duckdb_cli-linux-amd64.zip\n",
        "\n",
        "# Configure Workspace\n",
        "ENV DBT_PROFILES_DIR=/workspaces/datadex\n",
        "WORKDIR /workspaces/datadex\n",
        "\n",
        "```\n",
        "\n",
        "Building the container\n",
        "```\n",
        "docker build -t davidgasquez/datadex:v0.2.0 .\n",
        "```\n",
        "\n",
        "Testing it locally\n",
        "```\n",
        "❯ docker run davidgasquez/datadex:v0.1.0 \"select 1\"\n",
        "┌───┐\n",
        "│ 1 │\n",
        "├───┤\n",
        "│ 1 │\n",
        "└───┘\n",
        "\n",
        "\n",
        "```\n",
        "\n",
        "\n",
        "Since our container is working locally we push it to docker hub\n",
        "```\n",
        "docker push davidgasquez/datadex:v0.2.0\n",
        "```\n",
        "\n",
        "\n",
        "\n",
        "\n"
      ]
    },
    {
      "cell_type": "markdown",
      "metadata": {
        "id": "xWnajh0HWAZi"
      },
      "source": [
        "## Running on bacalhau\n"
      ]
    },
    {
      "cell_type": "code",
      "execution_count": null,
      "metadata": {
        "colab": {
          "base_uri": "https://localhost:8080/"
        },
        "id": "8Rt_B9bjEPlC",
        "outputId": "b232530f-176a-4ba5-a833-ce92317e8f24"
      },
      "outputs": [
        {
          "name": "stdout",
          "output_type": "stream",
          "text": [
            "Your system is linux_amd64\n",
            "No BACALHAU detected. Installing fresh BACALHAU CLI...\n",
            "Getting the latest BACALHAU CLI...\n",
            "Installing v0.3.11 BACALHAU CLI...\n",
            "Downloading https://github.com/filecoin-project/bacalhau/releases/download/v0.3.11/bacalhau_v0.3.11_linux_amd64.tar.gz ...\n",
            "Downloading sig file https://github.com/filecoin-project/bacalhau/releases/download/v0.3.11/bacalhau_v0.3.11_linux_amd64.tar.gz.signature.sha256 ...\n",
            "Verified OK\n",
            "Extracting tarball ...\n",
            "NOT verifying Bin\n",
            "bacalhau installed into /usr/local/bin successfully.\n",
            "Client Version: v0.3.11\n",
            "Server Version: v0.3.11\n"
          ]
        }
      ],
      "source": [
        "!curl -sL https://get.bacalhau.org/install.sh | bash"
      ]
    },
    {
      "cell_type": "code",
      "execution_count": null,
      "metadata": {
        "id": "VTAibNhcOEpP",
        "tags": [
          "skip-execution"
        ]
      },
      "outputs": [],
      "source": [
        "%%bash --out job_id\n",
        "bacalhau docker run \\\n",
        "     --workdir /inputs/ \\\n",
        "     --wait \\\n",
        "     --id-only \\\n",
        "     davidgasquez/datadex:v0.2.0 -- /bin/bash -c 'duckdb -s \"select 1\"'"
      ]
    },
    {
      "cell_type": "code",
      "execution_count": null,
      "metadata": {
        "colab": {
          "base_uri": "https://localhost:8080/"
        },
        "id": "NyrU_AcYDBFM",
        "outputId": "cd901337-ddb5-4e69-ae4c-5ef6d9e1f8a5",
        "tags": [
          "skip-execution"
        ]
      },
      "outputs": [
        {
          "name": "stdout",
          "output_type": "stream",
          "text": [
            "env: JOB_ID=eb72c5f5-599b-464e-af93-3ecb9247e9af\n"
          ]
        }
      ],
      "source": [
        "%env JOB_ID={job_id}"
      ]
    },
    {
      "cell_type": "code",
      "execution_count": null,
      "metadata": {
        "colab": {
          "base_uri": "https://localhost:8080/"
        },
        "id": "WUOLOFk7El-c",
        "outputId": "0914a5e8-d143-4924-ba46-23364edd67ab",
        "tags": [
          "skip-execution"
        ]
      },
      "outputs": [
        {
          "name": "stdout",
          "output_type": "stream",
          "text": [
            "\u001b[92;100m CREATED  \u001b[0m\u001b[92;100m ID       \u001b[0m\u001b[92;100m JOB                     \u001b[0m\u001b[92;100m STATE     \u001b[0m\u001b[92;100m VERIFIED \u001b[0m\u001b[92;100m PUBLISHED               \u001b[0m\n",
            "\u001b[97;40m 15:50:12 \u001b[0m\u001b[97;40m eb72c5f5 \u001b[0m\u001b[97;40m Docker davidgasquez/... \u001b[0m\u001b[97;40m Completed \u001b[0m\u001b[97;40m          \u001b[0m\u001b[97;40m /ipfs/QmXcsqrT1SvYZH... \u001b[0m\n"
          ]
        }
      ],
      "source": [
        "%%bash\n",
        "bacalhau list --id-filter ${JOB_ID}"
      ]
    },
    {
      "cell_type": "markdown",
      "metadata": {
        "id": "EzYQbkuZE8bY"
      },
      "source": [
        "Where it says \"Completed\", that means the job is done, and we can get the results.\n",
        "\n",
        "To find out more information about your job, run the following command:\n"
      ]
    },
    {
      "cell_type": "code",
      "execution_count": null,
      "metadata": {
        "id": "H__tI1_tE-XA",
        "tags": [
          "skip-execution"
        ]
      },
      "outputs": [],
      "source": [
        "%%bash\n",
        "bacalhau describe ${JOB_ID}"
      ]
    },
    {
      "cell_type": "markdown",
      "metadata": {
        "id": "Md7KEcX01-Jm"
      },
      "source": [
        "Downloading the outputs"
      ]
    },
    {
      "cell_type": "code",
      "execution_count": null,
      "metadata": {
        "colab": {
          "base_uri": "https://localhost:8080/"
        },
        "id": "7lqmiMJEFD2X",
        "outputId": "1630635f-5882-4054-8ce6-076ac3b5fe0b",
        "tags": [
          "skip-execution"
        ]
      },
      "outputs": [
        {
          "name": "stdout",
          "output_type": "stream",
          "text": [
            "Fetching results of job 'eb72c5f5-599b-464e-af93-3ecb9247e9af'...\n",
            "Results for job 'eb72c5f5-599b-464e-af93-3ecb9247e9af' have been written to...\n",
            "results\n"
          ]
        },
        {
          "name": "stderr",
          "output_type": "stream",
          "text": [
            "2022/11/11 15:52:13 failed to sufficiently increase receive buffer size (was: 208 kiB, wanted: 2048 kiB, got: 416 kiB). See https://github.com/lucas-clemente/quic-go/wiki/UDP-Receive-Buffer-Size for details.\n"
          ]
        }
      ],
      "source": [
        "%%bash\n",
        "rm -rf results && mkdir -p results\n",
        "bacalhau get $JOB_ID --output-dir results"
      ]
    },
    {
      "cell_type": "markdown",
      "metadata": {
        "id": "oNw5eX_dFMzI"
      },
      "source": [
        "Viewing the outputs"
      ]
    },
    {
      "cell_type": "code",
      "execution_count": null,
      "metadata": {
        "colab": {
          "base_uri": "https://localhost:8080/"
        },
        "id": "l3TlwfhRFJ6Y",
        "outputId": "d5a1544f-2f0b-4ec5-8bd9-54c271311b16",
        "tags": [
          "skip-execution"
        ]
      },
      "outputs": [
        {
          "name": "stdout",
          "output_type": "stream",
          "text": [
            "┌───┐\n",
            "│ 1 │\n",
            "├───┤\n",
            "│ 1 │\n",
            "└───┘\n"
          ]
        }
      ],
      "source": [
        "%%bash\n",
        "cat results/combined_results/stdout"
      ]
    },
    {
      "cell_type": "markdown",
      "metadata": {
        "id": "9-i1VHQUZhn3"
      },
      "source": [
        "#wohooo! SQL on bacalhau\n"
      ]
    },
    {
      "cell_type": "markdown",
      "metadata": {
        "id": "RPqCAoJYZn22"
      },
      "source": [
        "## Running Arbituary SQL commands over Yellow taxi trips dataset\n",
        "\n"
      ]
    },
    {
      "cell_type": "code",
      "execution_count": null,
      "metadata": {
        "id": "M0LOUqCRZrLh",
        "tags": [
          "skip-execution"
        ]
      },
      "outputs": [],
      "source": [
        "%%bash --out job_id\n",
        "bacalhau docker run \\\n",
        " -i bafybeiejgmdpwlfgo3dzfxfv3cn55qgnxmghyv7vcarqe3onmtzczohwaq \\\n",
        "  --workdir /inputs \\\n",
        "  --id-only \\\n",
        "  --wait \\\n",
        "  davidgasquez/duckdb:latest \\\n",
        "  -- duckdb -s \"select count(*) from '0_yellow_taxi_trips.parquet'\"\n"
      ]
    },
    {
      "cell_type": "code",
      "execution_count": null,
      "metadata": {
        "colab": {
          "base_uri": "https://localhost:8080/"
        },
        "id": "Gg6riPesa5BN",
        "outputId": "cf665efd-4ddd-4e3e-de84-13346394c8ee",
        "tags": [
          "skip-execution"
        ]
      },
      "outputs": [
        {
          "name": "stdout",
          "output_type": "stream",
          "text": [
            "env: JOB_ID=cced3685-2d50-4297-9739-6c692af8c60b\n"
          ]
        }
      ],
      "source": [
        "%env JOB_ID={job_id}"
      ]
    },
    {
      "cell_type": "code",
      "execution_count": null,
      "metadata": {
        "colab": {
          "base_uri": "https://localhost:8080/"
        },
        "id": "q0pc73fqa5BO",
        "outputId": "48a52be7-3232-422a-a123-9e6d95263a35",
        "tags": [
          "skip-execution"
        ]
      },
      "outputs": [
        {
          "name": "stdout",
          "output_type": "stream",
          "text": [
            "\u001b[92;100m CREATED           \u001b[0m\u001b[92;100m ID                                   \u001b[0m\u001b[92;100m JOB                                                                                            \u001b[0m\u001b[92;100m STATE     \u001b[0m\u001b[92;100m VERIFIED \u001b[0m\u001b[92;100m PUBLISHED                                            \u001b[0m\n",
            "\u001b[97;40m 22-11-12-07:15:50 \u001b[0m\u001b[97;40m cced3685-2d50-4297-9739-6c692af8c60b \u001b[0m\u001b[97;40m Docker davidgasquez/duckdb:latest duckdb -s select count(*) from '0_yellow_taxi_trips.parquet' \u001b[0m\u001b[97;40m Completed \u001b[0m\u001b[97;40m          \u001b[0m\u001b[97;40m /ipfs/Qmd3QYstyjEVkLrRRyEWVmhtEvmNMbjHcQ5a1o2zJy1JnJ \u001b[0m\n"
          ]
        }
      ],
      "source": [
        "%%bash\n",
        "bacalhau list --id-filter ${JOB_ID} --wide"
      ]
    },
    {
      "cell_type": "markdown",
      "metadata": {
        "id": "wElIl4UYa5BO"
      },
      "source": [
        "Where it says \"Completed\", that means the job is done, and we can get the results.\n",
        "\n",
        "To find out more information about your job, run the following command:\n"
      ]
    },
    {
      "cell_type": "code",
      "execution_count": null,
      "metadata": {
        "id": "gRgrNAm7a5BO",
        "tags": [
          "skip-execution"
        ]
      },
      "outputs": [],
      "source": [
        "%%bash\n",
        "bacalhau describe ${JOB_ID}"
      ]
    },
    {
      "cell_type": "code",
      "execution_count": null,
      "metadata": {
        "colab": {
          "base_uri": "https://localhost:8080/"
        },
        "id": "duvEDPr-a5BO",
        "outputId": "e3e56f1a-1eff-4a5d-c961-09d21329598d",
        "tags": [
          "skip-execution"
        ]
      },
      "outputs": [
        {
          "name": "stdout",
          "output_type": "stream",
          "text": [
            "Fetching results of job 'cced3685-2d50-4297-9739-6c692af8c60b'...\n",
            "Results for job 'cced3685-2d50-4297-9739-6c692af8c60b' have been written to...\n",
            "results\n"
          ]
        },
        {
          "name": "stderr",
          "output_type": "stream",
          "text": [
            "2022/11/12 07:19:32 failed to sufficiently increase receive buffer size (was: 208 kiB, wanted: 2048 kiB, got: 416 kiB). See https://github.com/lucas-clemente/quic-go/wiki/UDP-Receive-Buffer-Size for details.\n"
          ]
        }
      ],
      "source": [
        "%%bash\n",
        "rm -rf results && mkdir -p results\n",
        "bacalhau get $JOB_ID --output-dir results"
      ]
    },
    {
      "cell_type": "markdown",
      "metadata": {
        "id": "YZEeFzMEa5BO"
      },
      "source": [
        "Viewing the outputs"
      ]
    },
    {
      "cell_type": "code",
      "execution_count": null,
      "metadata": {
        "colab": {
          "base_uri": "https://localhost:8080/"
        },
        "id": "zhk8g_LMa5BO",
        "outputId": "dca26812-5b90-491d-9a37-e678e4d38f34",
        "tags": [
          "skip-execution"
        ]
      },
      "outputs": [
        {
          "name": "stdout",
          "output_type": "stream",
          "text": [
            "┌──────────────┐\n",
            "│ count_star() │\n",
            "├──────────────┤\n",
            "│ 24648499     │\n",
            "└──────────────┘\n"
          ]
        }
      ],
      "source": [
        "%%bash\n",
        "cat results/combined_results/stdout"
      ]
    }
  ],
  "metadata": {
    "colab": {
      "provenance": []
    },
    "kernelspec": {
      "display_name": "Python 3.10.6 64-bit",
      "language": "python",
      "name": "python3"
    },
    "language_info": {
      "name": "python",
      "version": "3.10.4"
    },
    "vscode": {
      "interpreter": {
        "hash": "916dbcbb3f70747c44a77c7bcd40155683ae19c65e1c03b4aa3499c5328201f1"
      }
    }
  },
  "nbformat": 4,
  "nbformat_minor": 0
}
