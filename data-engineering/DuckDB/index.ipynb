{
  "cells": [
    {
      "cell_type": "raw",
      "metadata": {},
      "source": [
        "---\n",
        "sidebar_label: \"DuckDB\"\n",
        "sidebar_position: 3\n",
        "---"
      ]
    },
    {
      "attachments": {},
      "cell_type": "markdown",
      "metadata": {},
      "source": [
        "# Using Bacalhau with DuckDB\n",
        "\n",
        "[![Open In Colab](https://colab.research.google.com/assets/colab-badge.svg)](https://colab.research.google.com/github/bacalhau-project/examples/blob/main/data-engineering/DuckDB/index.ipynb)\n",
        "[![Open In Binder](https://mybinder.org/badge.svg)](https://mybinder.org/v2/gh/bacalhau-project/examples/HEAD?labpath=data-engineering/DuckDB/index.ipynb)\n",
        "[![stars - badge-generator](https://img.shields.io/github/stars/bacalhau-project/bacalhau?style=social)](https://github.com/bacalhau-project/bacalhau)"
      ]
    },
    {
      "attachments": {},
      "cell_type": "markdown",
      "metadata": {
        "id": "l5KLdNXnUr21"
      },
      "source": [
        "\n",
        "DuckDB is a relational table-oriented database management system and supports SQL queries for producing analytical results. It also comes with various features that are useful for data analytics.\n",
        "\n",
        "DuckDB is suited for the following use cases:\n",
        "\n",
        "- Processing and storing tabular datasets, e.g. from CSV or Parquet files\n",
        "- Interactive data analysis, e.g. Joining & aggregate multiple large tables\n",
        "- Concurrent large changes, to multiple large tables, e.g. appending rows, adding/removing/updating columns\n",
        "- Large result set transfer to client\n",
        "\n",
        "In this example tutorial, we will show how to use DuckDB with Bacalhau. The advantage of using DuckDB with Bacalhau is that you don’t need to install,  there is no need to download the datasets since the datasets are\n",
        "already there on IPFS or on the web.\n",
        "\n",
        "## TD;lR\n",
        "Running a relational database(DUCKDB) on Bacalhau"
      ]
    },
    {
      "attachments": {},
      "cell_type": "markdown",
      "metadata": {},
      "source": [
        "## Prerequisites\n",
        "\n",
        "To get started, you need to install the Bacalhau client, see more information [here](https://docs.bacalhau.org/getting-started/installation)"
      ]
    },
    {
      "attachments": {},
      "cell_type": "markdown",
      "metadata": {
        "id": "mToWOZrjVS27"
      },
      "source": [
        "## Containerize Script using Docker\n",
        "\n",
        ":::info\n",
        "You can skip this entirely and directly go to running on Bacalhau.\n",
        ":::\n",
        "\n",
        "If you want any additional dependencies to be installed along with DuckDB, you need to build your own container.\n",
        "\n",
        "To build your own docker container, create a `Dockerfile`, which contains instructions to build your DuckDB docker container.\n",
        "\n",
        "\n",
        "```Dockerfile\n",
        "FROM mcr.microsoft.com/vscode/devcontainers/python:3.9\n",
        "\n",
        "RUN apt-get update && apt-get install -y nodejs npm g++\n",
        "\n",
        "# Install dbt\n",
        "RUN pip3 --disable-pip-version-check --no-cache-dir install duckdb==0.4.0 dbt-duckdb==1.1.4 \\\n",
        "    && rm -rf /tmp/pip-tmp\n",
        "\n",
        "# Install duckdb cli\n",
        "RUN wget https://github.com/duckdb/duckdb/releases/download/v0.4.0/duckdb_cli-linux-amd64.zip \\\n",
        "    && unzip duckdb_cli-linux-amd64.zip -d /usr/local/bin \\\n",
        "    && rm duckdb_cli-linux-amd64.zip\n",
        "\n",
        "# Configure Workspace\n",
        "ENV DBT_PROFILES_DIR=/workspaces/datadex\n",
        "WORKDIR /workspaces/datadex\n",
        "\n",
        "```\n",
        "\n",
        ":::info\n",
        "See more information on how to containerize your script/app [here](https://docs.docker.com/get-started/02_our_app/)\n",
        ":::\n",
        "\n",
        "\n",
        "### Build the container\n",
        "\n",
        "We will run `docker build` command to build the container;\n",
        "\n",
        "```\n",
        "docker build -t <hub-user>/<repo-name>:<tag> .\n",
        "```\n",
        "\n",
        "Before running the command replace;\n",
        "\n",
        "- **hub-user** with your docker hub username, If you don’t have a docker hub account [follow these instructions to create docker account](https://docs.docker.com/docker-id/), and use the username of the account you created\n",
        "\n",
        "- **repo-name** with the name of the container, you can name it anything you want\n",
        "\n",
        "- **tag** this is not required but you can use the latest tag\n",
        "\n",
        "In our case\n",
        "\n",
        "```bash\n",
        "docker build -t davidgasquez/datadex:v0.2.0\n",
        "```\n",
        "\n",
        "### Push the container\n",
        "\n",
        "Next, upload the image to the registry. This can be done by using the Docker hub username, repo name or tag.\n",
        "\n",
        "```\n",
        "docker push <hub-user>/<repo-name>:<tag>\n",
        "```\n",
        "\n",
        "In our case\n",
        "\n",
        "```bash\n",
        "docker push davidgasquez/datadex:v0.2.0\n",
        "```"
      ]
    },
    {
      "attachments": {},
      "cell_type": "markdown",
      "metadata": {
        "id": "xWnajh0HWAZi"
      },
      "source": [
        "## Running a Bacalhau Job"
      ]
    },
    {
      "attachments": {},
      "cell_type": "markdown",
      "metadata": {},
      "source": [
        "After the repo image has been pushed to docker hub, we can now use the container for running on Bacalhau. To submit a job, run the following Bacalhau command:"
      ]
    },
    {
      "cell_type": "code",
      "execution_count": null,
      "metadata": {
        "id": "VTAibNhcOEpP",
        "tags": [
          "skip-execution"
        ]
      },
      "outputs": [],
      "source": [
        "%%bash --out job_id\n",
        "bacalhau docker run \\\n",
        "--workdir /inputs/ \\\n",
        "--wait \\\n",
        "--id-only \\\n",
        "davidgasquez/datadex:v0.2.0 -- /bin/bash -c 'duckdb -s \"select 1\"'"
      ]
    },
    {
      "attachments": {},
      "cell_type": "markdown",
      "metadata": {},
      "source": [
        "### Structure of the command\n",
        "\n",
        "Let's look closely at the command above:\n",
        "\n",
        "* `bacalhau docker run`: call to bacalhau \n",
        "\n",
        "* `davidgasquez/datadex:v0.2.0 `: the name and the tag of the docker image we are using\n",
        "\n",
        "* `/inputs/`: path to input dataset\n",
        "\n",
        "* `'duckdb -s \"select 1\"'`: execute DuckDB\n"
      ]
    },
    {
      "attachments": {},
      "cell_type": "markdown",
      "metadata": {},
      "source": [
        "When a job is submitted, Bacalhau prints out the related `job_id`. We store that in an environment variable so that we can reuse it later on."
      ]
    },
    {
      "cell_type": "code",
      "execution_count": null,
      "metadata": {
        "colab": {
          "base_uri": "https://localhost:8080/"
        },
        "id": "NyrU_AcYDBFM",
        "outputId": "cd901337-ddb5-4e69-ae4c-5ef6d9e1f8a5",
        "tags": [
          "skip-execution"
        ]
      },
      "outputs": [],
      "source": [
        "%%env JOB_ID={job_id}"
      ]
    },
    {
      "attachments": {},
      "cell_type": "markdown",
      "metadata": {},
      "source": [
        "## Checking the State of your Jobs"
      ]
    },
    {
      "attachments": {},
      "cell_type": "markdown",
      "metadata": {},
      "source": [
        "- **Job status**: You can check the status of the job using `bacalhau list`. "
      ]
    },
    {
      "cell_type": "code",
      "execution_count": null,
      "metadata": {
        "colab": {
          "base_uri": "https://localhost:8080/"
        },
        "id": "WUOLOFk7El-c",
        "outputId": "0914a5e8-d143-4924-ba46-23364edd67ab",
        "tags": [
          "skip-execution"
        ]
      },
      "outputs": [],
      "source": [
        "%%bash\n",
        "bacalhau list --id-filter ${JOB_ID}"
      ]
    },
    {
      "attachments": {},
      "cell_type": "markdown",
      "metadata": {
        "id": "EzYQbkuZE8bY"
      },
      "source": [
        "When it says `Published` or `Completed`, that means the job is done, and we can get the results.\n",
        "\n",
        "- **Job information**: You can find out more information about your job by using `bacalhau describe`.\n"
      ]
    },
    {
      "cell_type": "code",
      "execution_count": null,
      "metadata": {
        "id": "H__tI1_tE-XA",
        "tags": [
          "skip-execution"
        ]
      },
      "outputs": [],
      "source": [
        "%%bash\n",
        "bacalhau describe ${JOB_ID}"
      ]
    },
    {
      "attachments": {},
      "cell_type": "markdown",
      "metadata": {
        "id": "Md7KEcX01-Jm"
      },
      "source": [
        "- **Job download**: You can download your job results directly by using `bacalhau get`. Alternatively, you can choose to create a directory to store your results. In the command below, we created a directory and downloaded our job output to be stored in that directory."
      ]
    },
    {
      "cell_type": "code",
      "execution_count": null,
      "metadata": {
        "colab": {
          "base_uri": "https://localhost:8080/"
        },
        "id": "7lqmiMJEFD2X",
        "outputId": "1630635f-5882-4054-8ce6-076ac3b5fe0b",
        "tags": [
          "skip-execution"
        ]
      },
      "outputs": [],
      "source": [
        "%%bash\n",
        "rm -rf results && mkdir -p results\n",
        "bacalhau get $JOB_ID --output-dir results"
      ]
    },
    {
      "attachments": {},
      "cell_type": "markdown",
      "metadata": {
        "id": "oNw5eX_dFMzI"
      },
      "source": [
        "## Viewing your Job Output\n",
        "\n",
        "Each job creates 3 subfolders: the **combined_results**,**per_shard files**, and the **raw** directory. To view the file, run the following command:"
      ]
    },
    {
      "cell_type": "code",
      "execution_count": null,
      "metadata": {
        "colab": {
          "base_uri": "https://localhost:8080/"
        },
        "id": "l3TlwfhRFJ6Y",
        "outputId": "d5a1544f-2f0b-4ec5-8bd9-54c271311b16",
        "tags": [
          "skip-execution"
        ]
      },
      "outputs": [
        {
          "name": "stdout",
          "output_type": "stream",
          "text": [
            "┌───┐\n",
            "│ 1 │\n",
            "├───┤\n",
            "│ 1 │\n",
            "└───┘\n"
          ]
        }
      ],
      "source": [
        "%%bash\n",
        "cat results/combined_results/stdout  # displays the contents of the file"
      ]
    },
    {
      "attachments": {},
      "cell_type": "markdown",
      "metadata": {
        "id": "RPqCAoJYZn22"
      },
      "source": [
        "## Running Arbitrary SQL commands"
      ]
    },
    {
      "attachments": {},
      "cell_type": "markdown",
      "metadata": {},
      "source": [
        "Below is the `bacalhau docker run` command to to run arbitrary SQL commands over yellow taxi trips dataset"
      ]
    },
    {
      "cell_type": "code",
      "execution_count": null,
      "metadata": {
        "id": "M0LOUqCRZrLh",
        "tags": [
          "skip-execution"
        ]
      },
      "outputs": [],
      "source": [
        "%%bash --out job_id\n",
        "bacalhau docker run \\\n",
        " -i bafybeiejgmdpwlfgo3dzfxfv3cn55qgnxmghyv7vcarqe3onmtzczohwaq \\\n",
        "  --workdir /inputs \\\n",
        "  --id-only \\\n",
        "  --wait \\\n",
        "  davidgasquez/duckdb:latest \\\n",
        "  -- duckdb -s \"select count(*) from '0_yellow_taxi_trips.parquet'\"\n"
      ]
    },
    {
      "attachments": {},
      "cell_type": "markdown",
      "metadata": {},
      "source": [
        "### Structure of the command\n",
        "\n",
        "Let's look closely at the command above:\n",
        "\n",
        "* `bacalhau docker run`: call to bacalhau \n",
        "  \n",
        "* `-i bafybeiejgmdpwlfgo3dzfxfv3cn55qgnxmghyv7vcarqe3onmtzczohwaq \\`: CIDs to use on the job. Mounts them at '/inputs' in the execution.\n",
        "\n",
        "* `davidgasquez/duckdb:latest`: the name and the tag of the docker image we are using\n",
        "\n",
        "* `/inputs`: path to input dataset\n",
        "\n",
        "* `duckdb -s`: execute DuckDB\n"
      ]
    },
    {
      "attachments": {},
      "cell_type": "markdown",
      "metadata": {},
      "source": [
        "When a job is submitted, Bacalhau prints out the related `job_id`. We store that in an environment variable so that we can reuse it later on."
      ]
    },
    {
      "cell_type": "code",
      "execution_count": null,
      "metadata": {
        "colab": {
          "base_uri": "https://localhost:8080/"
        },
        "id": "Gg6riPesa5BN",
        "outputId": "cf665efd-4ddd-4e3e-de84-13346394c8ee",
        "tags": [
          "skip-execution",
          "remove_cell"
        ]
      },
      "outputs": [],
      "source": [
        "%%env JOB_ID={job_id}"
      ]
    },
    {
      "attachments": {},
      "cell_type": "markdown",
      "metadata": {},
      "source": [
        "- **Job status**: You can check the status of the job using `bacalhau list`. "
      ]
    },
    {
      "cell_type": "code",
      "execution_count": null,
      "metadata": {
        "colab": {
          "base_uri": "https://localhost:8080/"
        },
        "id": "q0pc73fqa5BO",
        "outputId": "48a52be7-3232-422a-a123-9e6d95263a35",
        "tags": [
          "skip-execution"
        ]
      },
      "outputs": [],
      "source": [
        "%%bash\n",
        "bacalhau list --id-filter ${JOB_ID} --wide"
      ]
    },
    {
      "attachments": {},
      "cell_type": "markdown",
      "metadata": {
        "id": "wElIl4UYa5BO"
      },
      "source": [
        "- **Job information**: You can find out more information about your job by using `bacalhau describe`.\n"
      ]
    },
    {
      "cell_type": "code",
      "execution_count": null,
      "metadata": {
        "id": "gRgrNAm7a5BO",
        "tags": [
          "skip-execution"
        ]
      },
      "outputs": [],
      "source": [
        "%%bash\n",
        "bacalhau describe ${JOB_ID}"
      ]
    },
    {
      "attachments": {},
      "cell_type": "markdown",
      "metadata": {},
      "source": [
        "- **Job download**: You can download your job results directly by using `bacalhau get`. Alternatively, you can choose to create a directory to store your results. In the command below, we created a directory and downloaded our job output to be stored in that directory."
      ]
    },
    {
      "cell_type": "code",
      "execution_count": null,
      "metadata": {
        "colab": {
          "base_uri": "https://localhost:8080/"
        },
        "id": "duvEDPr-a5BO",
        "outputId": "e3e56f1a-1eff-4a5d-c961-09d21329598d",
        "tags": [
          "skip-execution"
        ]
      },
      "outputs": [],
      "source": [
        "%%bash\n",
        "rm -rf results && mkdir -p results\n",
        "bacalhau get $JOB_ID --output-dir results"
      ]
    },
    {
      "attachments": {},
      "cell_type": "markdown",
      "metadata": {
        "id": "YZEeFzMEa5BO"
      },
      "source": [
        "## Viewing your Job Output\n",
        "\n",
        "Each job creates 3 subfolders: the **combined_results**,**per_shard files**, and the **raw** directory. To view the file, run the following command:"
      ]
    },
    {
      "cell_type": "code",
      "execution_count": null,
      "metadata": {
        "colab": {
          "base_uri": "https://localhost:8080/"
        },
        "id": "zhk8g_LMa5BO",
        "outputId": "dca26812-5b90-491d-9a37-e678e4d38f34",
        "tags": [
          "skip-execution"
        ]
      },
      "outputs": [
        {
          "name": "stdout",
          "output_type": "stream",
          "text": [
            "┌──────────────┐\n",
            "│ count_star() │\n",
            "├──────────────┤\n",
            "│ 24648499     │\n",
            "└──────────────┘\n"
          ]
        }
      ],
      "source": [
        "%%bash\n",
        "cat results/combined_results/stdout"
      ]
    },
    {
      "attachments": {},
      "cell_type": "markdown",
      "metadata": {},
      "source": [
        "## Need Support?\n",
        "\n",
        "For questions, feedback, please reach out in our [forum](https://github.com/filecoin-project/bacalhau/discussions)"
      ]
    }
  ],
  "metadata": {
    "colab": {
      "provenance": []
    },
    "kernelspec": {
      "display_name": "Python 3.10.6 64-bit",
      "language": "python",
      "name": "python3"
    },
    "language_info": {
      "name": "python",
      "version": "3.8.10 (default, Jun 22 2022, 20:18:18) \n[GCC 9.4.0]"
    },
    "vscode": {
      "interpreter": {
        "hash": "916dbcbb3f70747c44a77c7bcd40155683ae19c65e1c03b4aa3499c5328201f1"
      }
    }
  },
  "nbformat": 4,
  "nbformat_minor": 0
}
