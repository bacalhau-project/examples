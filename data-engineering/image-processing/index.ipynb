{
 "cells": [
  {
   "cell_type": "raw",
   "id": "fc12ae14-aa9c-48e9-843e-3421f39d5db3",
   "metadata": {},
   "source": [
    "---\n",
    "sidebar_label: 'Simple Image Processing'\n",
    "sidebar_position: 1\n",
    "---"
   ]
  },
  {
   "cell_type": "markdown",
   "id": "b0e293cb-1bfd-4f42-9eb7-59f57d548202",
   "metadata": {},
   "source": [
    "# Simple Image Processing\n",
    "\n",
    "In this example we will show you how to use Bacalhau to process images on a Landsat dataset.\n",
    "\n",
    "If you recall, Bacalhau has the unique capability of operating at massive scale in a distributed environment. This is made possible because data is naturally sharded across the IPFS network amongst many providers. We can take advantage of this to process images in parallel.\n",
    "\n",
    "However, before we do that, this notebook shows you how to use Bacalhau to process images using a [much smaller subset](https://cloudflare-ipfs.com/ipfs/QmeZRGhe4PmjctYVSVHuEiA9oSXnqmYa4kQubSHgWbjv72). This is useful for testing and debugging your code.\n",
    "\n",
    "For a live walk through of this demo please watch the first part of the video below, otherwise feel free to run the demo yourself by following the steps below.\n",
    "\n",
    "[![Bacalhau Intro Video](/img/Bacalhau_Intro_Video_thumbnail.jpg)](https://www.youtube.com/watch?v=wkOh05J5qgA)"
   ]
  },
  {
   "cell_type": "markdown",
   "id": "41897077-837a-40e3-9927-032a55bebbb6",
   "metadata": {},
   "source": [
    "## Prerequistes\n",
    "\n",
    "Make sure you have the latest `bacalhau` client installed by following the [getting started instructions](../../../getting-started/installation) or using the installation command below (which installs Bacalhau local to the notebook)."
   ]
  },
  {
   "cell_type": "code",
   "execution_count": 1,
   "id": "38c846d1",
   "metadata": {},
   "outputs": [
    {
     "name": "stdout",
     "output_type": "stream",
     "text": [
      "Your system is darwin_arm64\n",
      "\n",
      "BACALHAU CLI is detected:\n",
      "Client Version: v0.2.3\n",
      "Server Version: v0.2.3\n",
      "Reinstalling BACALHAU CLI - ./bacalhau...\n",
      "Getting the latest BACALHAU CLI...\n",
      "Installing v0.2.3 BACALHAU CLI...\n",
      "Downloading https://github.com/filecoin-project/bacalhau/releases/download/v0.2.3/bacalhau_v0.2.3_darwin_arm64.tar.gz ...\n",
      "Downloading sig file https://github.com/filecoin-project/bacalhau/releases/download/v0.2.3/bacalhau_v0.2.3_darwin_arm64.tar.gz.signature.sha256 ...\n",
      "Verified OK\n",
      "Extracting tarball ...\n",
      "NOT verifying Bin\n",
      "bacalhau installed into . successfully.\n",
      "Client Version: v0.2.3\n",
      "Server Version: v0.2.3\n",
      "env: PATH=./:/Users/phil/.pyenv/versions/3.9.7/bin:/opt/homebrew/Caskroom/google-cloud-sdk/latest/google-cloud-sdk/bin:/Users/phil/.gvm/bin:/opt/homebrew/opt/findutils/libexec/gnubin:/opt/homebrew/opt/coreutils/libexec/gnubin:/opt/homebrew/Caskroom/google-cloud-sdk/latest/google-cloud-sdk/bin:/Users/phil/.pyenv/shims:/opt/homebrew/bin:/opt/homebrew/sbin:/usr/local/bin:/usr/bin:/bin:/usr/sbin:/sbin:/usr/local/MacGPG2/bin:/Users/phil/.nexustools\n"
     ]
    }
   ],
   "source": [
    "!command -v bacalhau >/dev/null 2>&1 || (export BACALHAU_INSTALL_DIR=.; curl -sL https://get.bacalhau.org/install.sh | bash)\n",
    "path=!echo $PATH\n",
    "%env PATH=./:{path[0]}"
   ]
  },
  {
   "cell_type": "code",
   "execution_count": 2,
   "id": "20645a31-280a-4117-acd0-199eab0e3081",
   "metadata": {},
   "outputs": [
    {
     "name": "stdout",
     "output_type": "stream",
     "text": [
      "Client Version: v0.2.3\n",
      "Server Version: v0.2.3\n"
     ]
    }
   ],
   "source": [
    "%%bash\n",
    "bacalhau version"
   ]
  },
  {
   "cell_type": "markdown",
   "id": "4bcf72e6-acf8-4ff8-807d-8d5d72168bee",
   "metadata": {},
   "source": [
    "## Submit the workload\n",
    "\n",
    "To get started with a new concept, `bacalhau docker run` allows you to pass input data volume with a `-v CID:path` argument just like Docker, except the left hand side of the argument is a [content identifier (CID)](https://github.com/multiformats/cid).\n",
    "This results in a *data volume* and can mount in an entire directory (instead of a single file).\n",
    "\n",
    "When you set this flag, it then ensures that CID is mounted into the container at the `path` location as an input volume.\n",
    "\n",
    "Data volumes also work on output - by default `bacalhau docker run` always creates an output data volume mounted at `/outputs`.\n",
    "This is a convenient location to store the results of your job. See below for an example."
   ]
  },
  {
   "cell_type": "code",
   "execution_count": 3,
   "id": "679c8e24-a566-4895-a899-1617c9d2500a",
   "metadata": {},
   "outputs": [],
   "source": [
    "%%bash --out job_id\n",
    "bacalhau docker run \\\n",
    "  --wait \\\n",
    "  --wait-timeout-secs 100 \\\n",
    "  -v QmeZRGhe4PmjctYVSVHuEiA9oSXnqmYa4kQubSHgWbjv72:/input_images \\\n",
    "  dpokidov/imagemagick:7.1.0-47-ubuntu \\\n",
    "  -- magick mogrify -resize 100x100 -quality 100 -path /outputs '/input_images/*.jpg'"
   ]
  },
  {
   "cell_type": "code",
   "execution_count": 4,
   "id": "9067440e",
   "metadata": {},
   "outputs": [
    {
     "name": "stdout",
     "output_type": "stream",
     "text": [
      "env: JOB_ID=4a6bbbc6-5556-424e-80bf-12521811fd91\n"
     ]
    }
   ],
   "source": [
    "%env JOB_ID={job_id}"
   ]
  },
  {
   "cell_type": "markdown",
   "id": "daca7555-78a7-49bb-9db4-7671679c3263",
   "metadata": {},
   "source": [
    "The job has been submitted and Bacalhau has printed out the related job id.\n",
    "We store that in an environment variable so that we can reuse it later on."
   ]
  },
  {
   "cell_type": "code",
   "execution_count": 5,
   "id": "4b265396-83d9-43d1-9d06-ab8f9bdb7533",
   "metadata": {},
   "outputs": [
    {
     "name": "stdout",
     "output_type": "stream",
     "text": [
      " CREATED   ID        JOB                      STATE      VERIFIED  PUBLISHED               \n",
      " 14:18:02  4a6bbbc6  Docker dpokidov/imag...  Published            /ipfs/bafybeidtitnyf... \n"
     ]
    }
   ],
   "source": [
    "%%bash\n",
    "bacalhau list --id-filter=${JOB_ID} --no-style"
   ]
  },
  {
   "cell_type": "markdown",
   "id": "c1d3b052-8435-410a-9bdf-cca66aa3c5ab",
   "metadata": {},
   "source": [
    "Since the job state is published/complete, the job is ready to be downloaded."
   ]
  },
  {
   "cell_type": "markdown",
   "id": "e0b60416-57d7-4fd2-9fd7-1c9920f0ad56",
   "metadata": {},
   "source": [
    "## Get results\n",
    "\n",
    "First, let us create a new directory that will store our job outputs.\n",
    "Second, use the `get` verb to download the job outputs into the directory specified by the `--output-dir` argument.\n",
    "_Please ignore the `> /dev/null 2>&1` portion of the command, it is there only temporarily until we fix this [issue #614](https://github.com/filecoin-project/bacalhau/issues/614) and is meant to supress debug logs that are not useful for the user._"
   ]
  },
  {
   "cell_type": "code",
   "execution_count": 6,
   "id": "69bc16ed",
   "metadata": {},
   "outputs": [
    {
     "name": "stdout",
     "output_type": "stream",
     "text": [
      "4a6bbbc6-5556-424e-80bf-12521811fd91\n"
     ]
    }
   ],
   "source": [
    "%%bash\n",
    "echo ${JOB_ID}"
   ]
  },
  {
   "cell_type": "code",
   "execution_count": 7,
   "id": "ebdfe481-b430-426f-8fb3-fe0bfce513e8",
   "metadata": {},
   "outputs": [
    {
     "name": "stderr",
     "output_type": "stream",
     "text": [
      "\u001b[90m15:18:24.334 |\u001b[0m \u001b[32mINF\u001b[0m \u001b[1mbacalhau/get.go:67\u001b[0m\u001b[36m >\u001b[0m Fetching results of job '4a6bbbc6-5556-424e-80bf-12521811fd91'...\n",
      "\u001b[90m15:18:27.21 |\u001b[0m \u001b[32mINF\u001b[0m \u001b[1mipfs/downloader.go:115\u001b[0m\u001b[36m >\u001b[0m Found 1 result shards, downloading to temporary folder.\n",
      "\u001b[90m15:18:34.665 |\u001b[0m \u001b[32mINF\u001b[0m \u001b[1mipfs/downloader.go:195\u001b[0m\u001b[36m >\u001b[0m Combining shard from output volume 'outputs' to final location: '/Users/phil/source/bacalhau-project/examples/data-engineering/image-processing/results'\n"
     ]
    }
   ],
   "source": [
    "%%bash\n",
    "mkdir -p ./results # Temporary directory to store the results\n",
    "bacalhau get --output-dir ./results ${JOB_ID} # Download the results"
   ]
  },
  {
   "cell_type": "markdown",
   "id": "92e80386-a0d7-4320-b0b1-4c2622b66db6",
   "metadata": {},
   "source": [
    "The docker run command above used the `outputs` volume as a results folder so when we download them they will be stored in a  folder within `volumes/outputs`."
   ]
  },
  {
   "cell_type": "code",
   "execution_count": 8,
   "id": "bf6819af-def3-47f7-ae99-e6d191b1e832",
   "metadata": {},
   "outputs": [
    {
     "name": "stdout",
     "output_type": "stream",
     "text": [
      "total 192K\n",
      "drwxr-xr-x 11 phil staff 352 Sep 16 15:18 .\n",
      "drwxr-xr-x  3 phil staff  96 Sep 16 15:09 ..\n",
      "-rw-r--r--  1 phil staff 15K Sep 16 15:18 cafires_vir_2021231_lrg.jpg\n",
      "-rw-r--r--  1 phil staff 34K Sep 16 15:18 greatsaltlake_oli_2017210_lrg.jpg\n",
      "-rw-r--r--  1 phil staff 13K Sep 16 15:18 greecefires_oli_2021222_lrg.jpg\n",
      "-rw-r--r--  1 phil staff 17K Sep 16 15:18 haitiearthquake_oli_20212_lrg.jpg\n",
      "-rw-r--r--  1 phil staff 42K Sep 16 15:18 iwojima_tmo_2021225_lrg.jpg\n",
      "-rw-r--r--  1 phil staff 11K Sep 16 15:18 lakemead_etm_2000220_lrg.jpg\n",
      "-rw-r--r--  1 phil staff 14K Sep 16 15:18 lapalma_oli_2021141_lrg.jpg\n",
      "-rw-r--r--  1 phil staff 14K Sep 16 15:18 spainfire_oli_2021227_lrg.jpg\n",
      "-rw-r--r--  1 phil staff 16K Sep 16 15:18 sulphursprings_oli_2019254_lrg.jpg\n"
     ]
    }
   ],
   "source": [
    "%%bash\n",
    "ls -lah results/volumes/outputs"
   ]
  },
  {
   "cell_type": "markdown",
   "id": "84ce0286-7715-4a10-9b3b-fa5f9e7aa6fc",
   "metadata": {},
   "source": [
    "## Where to go next?\n",
    "\n",
    "* [Take a look at other exmaples](..)\n",
    "* [How to run an existing workload on Bacalhau](../../../getting-started/workload-onboarding).\n",
    "* [Check out the Bacalhau CLI Reference page](../../../all-flags)."
   ]
  },
  {
   "cell_type": "markdown",
   "id": "2e80f7b1-e600-454b-bec6-d27a3ffd9f67",
   "metadata": {},
   "source": [
    "## Support\n",
    "\n",
    "Please reach out to the [Bacalhau team via Slack](https://filecoinproject.slack.com/archives/C02RLM3JHUY) to seek help or in case of any issues."
   ]
  }
 ],
 "metadata": {
  "kernelspec": {
   "display_name": "Python 3.9.7 64-bit ('3.9.7')",
   "language": "python",
   "name": "python3"
  },
  "language_info": {
   "codemirror_mode": {
    "name": "ipython",
    "version": 3
   },
   "file_extension": ".py",
   "mimetype": "text/x-python",
   "name": "python",
   "nbconvert_exporter": "python",
   "pygments_lexer": "ipython3",
   "version": "3.9.7"
  },
  "vscode": {
   "interpreter": {
    "hash": "21fd917facdca5c02b7d24e32528f1b4e6711465b0262edbfffba943391e1222"
   }
  }
 },
 "nbformat": 4,
 "nbformat_minor": 5
}
