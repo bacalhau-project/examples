{
 "cells": [
  {
   "cell_type": "raw",
   "metadata": {},
   "source": [
    "---\n",
    "sidebar_label: 'Video Filter Sharding'\n",
    "sidebar_position: 2\n",
    "---"
   ]
  },
  {
   "cell_type": "markdown",
   "metadata": {},
   "source": [
    "# Example of sharding with video filters"
   ]
  },
  {
   "cell_type": "code",
   "execution_count": 17,
   "metadata": {},
   "outputs": [
    {
     "name": "stdout",
     "output_type": "stream",
     "text": [
      "env: cid=Qmd9CBYpdgCLuCKRtKRRggu24H72ZUrGax5A9EYvrbC72j\n",
      "Qmd9CBYpdgCLuCKRtKRRggu24H72ZUrGax5A9EYvrbC72j\n"
     ]
    }
   ],
   "source": [
    "%env cid=Qmd9CBYpdgCLuCKRtKRRggu24H72ZUrGax5A9EYvrbC72j\n",
    "\n",
    "!bacalhau docker run \\\n",
    "    -v ${cid}:/inputs \\\n",
    "    --cpu 2 \\\n",
    "    --memory 1Gb \\\n",
    "    binocarlos/video-resize-example \\\n",
    "    bash /entrypoint.sh /inputs /outputs"
   ]
  },
  {
   "cell_type": "code",
   "execution_count": 19,
   "metadata": {},
   "outputs": [
    {
     "name": "stdout",
     "output_type": "stream",
     "text": [
      "d70adb2f-587d-4cc3-9eb4-1377da9bdc47\n"
     ]
    }
   ],
   "source": [
    "!bacalhau docker run \\\n",
    "    -v $cid:/inputs \\\n",
    "    --cpu 2 \\\n",
    "    --memory 1Gb \\\n",
    "    --sharding-base-path \"/inputs\" \\\n",
    "    --sharding-glob-pattern \"*.mp4\" \\\n",
    "    --sharding-batch-size 1 \\\n",
    "    binocarlos/video-resize-example \\\n",
    "    bash /entrypoint.sh /inputs /outputs"
   ]
  },
  {
   "cell_type": "code",
   "execution_count": null,
   "metadata": {},
   "outputs": [],
   "source": []
  }
 ],
 "metadata": {
  "kernelspec": {
   "display_name": "Python 3.7.9 64-bit",
   "language": "python",
   "name": "python3"
  },
  "language_info": {
   "codemirror_mode": {
    "name": "ipython",
    "version": 3
   },
   "file_extension": ".py",
   "mimetype": "text/x-python",
   "name": "python",
   "nbconvert_exporter": "python",
   "pygments_lexer": "ipython3",
   "version": "3.7.9"
  },
  "orig_nbformat": 4,
  "vscode": {
   "interpreter": {
    "hash": "aee8b7b246df8f9039afb4144a1f6fd8d2ca17a180786b69acc140d282b71a49"
   }
  }
 },
 "nbformat": 4,
 "nbformat_minor": 2
}
