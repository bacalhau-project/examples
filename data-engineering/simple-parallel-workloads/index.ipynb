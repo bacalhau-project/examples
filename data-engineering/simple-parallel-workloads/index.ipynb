{
    "cells": [
        {
            "cell_type": "raw",
            "metadata": {},
            "source": [
                "---\n",
                "sidebar_label: 'Simple Parallel Workloads'\n",
                "sidebar_position: 2\n",
                "---"
            ]
        },
        {
            "cell_type": "markdown",
            "metadata": {},
            "source": [
                "# Parallel Video Resizing via File Sharding\n",
                "\n",
                "[![Open In Colab](https://colab.research.google.com/assets/colab-badge.svg)](https://colab.research.google.com/github/bacalhau-project/examples/blob/main/data-engineering/simple-parallel-workloads/index.ipynb)\n",
                "[![Open In Binder](https://mybinder.org/badge.svg)](https://mybinder.org/v2/gh/bacalhau-project/examples/HEAD?labpath=data-engineering%2Fsimple-parallel-workloads%2Findex.ipynb)\n",
                "\n",
                "Many data engineering workloads consist of embarrassingly parallel workloads where you want to run a simple execution on a large number of files. In this notebook, we will use the [Sharding](https://docs.bacalhau.org/getting-started/parallel-workloads) functionality in Bacalhau to run a simple video filter on a large number of video files.\n",
                "\n",
                "> Although you would normally you would use your own container and script to make your workloads reproducible, in this example we will use a pre-built container and CLI arguments to allow you to make changes. You can find the container [on docker hub](https://hub.docker.com/r/linuxserver/ffmpeg)."
            ]
        },
        {
            "cell_type": "markdown",
            "metadata": {
                "tags": [
                    "remove_cell"
                ]
            },
            "source": [
                "## Prerequistes\n",
                "\n",
                "Make sure you have the latest `bacalhau` client installed by following the [getting started instructions](../../../getting-started/installation) or using the installation command below (which installs Bacalhau local to the notebook)."
            ]
        },
        {
            "cell_type": "code",
            "execution_count": 7,
            "metadata": {
                "tags": [
                    "remove_cell"
                ]
            },
            "outputs": [
                {
                    "name": "stdout",
                    "output_type": "stream",
                    "text": [
                        "Your system is darwin_arm64\n",
                        "\n",
                        "BACALHAU CLI is detected:\n",
                        "Client Version: v0.2.3\n",
                        "Server Version: v0.2.3\n",
                        "Reinstalling BACALHAU CLI - ./bacalhau...\n",
                        "Getting the latest BACALHAU CLI...\n",
                        "Installing v0.2.3 BACALHAU CLI...\n",
                        "Downloading https://github.com/filecoin-project/bacalhau/releases/download/v0.2.3/bacalhau_v0.2.3_darwin_arm64.tar.gz ...\n",
                        "Downloading sig file https://github.com/filecoin-project/bacalhau/releases/download/v0.2.3/bacalhau_v0.2.3_darwin_arm64.tar.gz.signature.sha256 ...\n",
                        "Verified OK\n",
                        "Extracting tarball ...\n",
                        "NOT verifying Bin\n",
                        "bacalhau installed into . successfully.\n",
                        "Client Version: v0.2.3\n",
                        "Server Version: v0.2.3\n",
                        "env: PATH=./:/Users/phil/.pyenv/versions/3.8.11/bin:/opt/homebrew/Caskroom/google-cloud-sdk/latest/google-cloud-sdk/bin:/Users/phil/.gvm/bin:/opt/homebrew/opt/findutils/libexec/gnubin:/opt/homebrew/opt/coreutils/libexec/gnubin:/opt/homebrew/Caskroom/google-cloud-sdk/latest/google-cloud-sdk/bin:/Users/phil/.pyenv/shims:/opt/homebrew/bin:/opt/homebrew/sbin:/usr/local/bin:/usr/bin:/bin:/usr/sbin:/sbin:/Library/TeX/texbin:/usr/local/MacGPG2/bin:/Users/phil/.nexustools\n"
                    ]
                }
            ],
            "source": [
                "!command -v bacalhau >/dev/null 2>&1 || (export BACALHAU_INSTALL_DIR=.; curl -sL https://get.bacalhau.org/install.sh | bash)\n",
                "path=!echo $PATH\n",
                "%env PATH=./:{path[0]}"
            ]
        },
        {
            "cell_type": "code",
            "execution_count": 8,
            "metadata": {
                "tags": [
                    "remove_cell"
                ]
            },
            "outputs": [
                {
                    "name": "stdout",
                    "output_type": "stream",
                    "text": [
                        "Client Version: v0.2.3\n",
                        "Server Version: v0.2.3\n"
                    ]
                }
            ],
            "source": [
                "%%bash\n",
                "bacalhau version"
            ]
        },
        {
            "cell_type": "markdown",
            "metadata": {},
            "source": [
                "## Submit the workload\n",
                "\n",
                "To submit a workload to Bacalhau you can use the `bacalhau docker run` command. This allows you to pass input data volume with a `-v CID:path` argument just like Docker, except the left-hand side of the argument is a [content identifier (CID)](https://github.com/multiformats/cid). This results in Bacalhau mounting a *data volume* inside the container. By default, Bacalhau mounts the input volume at the path `/inputs` inside the container.\n",
                "\n",
                "Bacalhau also mounts a data volume to store output data. By default `bacalhau docker run` creates an output data volume mounted at `/outputs`. This is a convenient location to store the results of your job. See below for an example.\n",
                "\n",
                "And to shard across files in the input directory, we need to pass three (optional) arguments to the command:\n",
                "\n",
                "* `sharding-base-path` - the path to the directory you want to shard over\n",
                "* `sharding-glob-pattern` - the pattern to match files in the directory\n",
                "* `sharding-batch-size` - the number of files to pass into each job\n",
                "\n",
                "### A Simple Video Resize Example\n",
                "\n",
                "In this example, you will create 72px wide video thumbnails for all the videos in the `inputs` directory. The `outputs` directory will contain the thumbnails for each video. We will shard by 1 video per job, and use the `linuxserver/ffmpeg` container to resize the videos.\n",
                "\n",
                "Note that [Bacalhau overwrites the default entrypoint](https://github.com/filecoin-project/bacalhau/blob/v0.2.3/cmd/bacalhau/docker_run.go#L64) so we must run the full command after the `--` argument. In this line you will list all of the mp4 files in the `/inputs` directory and execute `ffmpeg` against each instance."
            ]
        },
        {
            "cell_type": "code",
            "execution_count": 9,
            "metadata": {},
            "outputs": [],
            "source": [
                "%%bash --out job_id\n",
                "bacalhau docker run \\\n",
                "  --wait \\\n",
                "  --wait-timeout-secs 100 \\\n",
                "  --id-only \\\n",
                "  --sharding-base-path \"/inputs\" \\\n",
                "  --sharding-glob-pattern \"*.mp4\" \\\n",
                "  --sharding-batch-size 1 \\\n",
                "  -v Qmd9CBYpdgCLuCKRtKRRggu24H72ZUrGax5A9EYvrbC72j:/inputs \\\n",
                "  linuxserver/ffmpeg -- \\\n",
                "  bash -c 'find /inputs -iname \"*.mp4\" -printf \"%f\\n\" | xargs -I{} ffmpeg -y -i /inputs/{} -vf \"scale=-1:72,setsar=1:1\" /outputs/scaled_{}'\n"
            ]
        },
        {
            "cell_type": "code",
            "execution_count": 10,
            "metadata": {
                "tags": [
                    "remove_cell"
                ]
            },
            "outputs": [
                {
                    "name": "stdout",
                    "output_type": "stream",
                    "text": [
                        "env: JOB_ID=7b2b3b0c-18cc-479f-9bff-48b7569b7389\n"
                    ]
                }
            ],
            "source": [
                "%env JOB_ID={job_id}"
            ]
        },
        {
            "cell_type": "markdown",
            "metadata": {},
            "source": [
                "## Get Results\n",
                "\n",
                "Now let's download and display the result from the results directory. We can use the `bacalhau results` command to download the results from the output data volume. The `--output-dir` argument specifies the directory to download the results to."
            ]
        },
        {
            "cell_type": "code",
            "execution_count": 15,
            "metadata": {},
            "outputs": [
                {
                    "name": "stderr",
                    "output_type": "stream",
                    "text": [
                        "\u001b[90m09:34:30.583 |\u001b[0m \u001b[32mINF\u001b[0m \u001b[1mbacalhau/get.go:67\u001b[0m\u001b[36m >\u001b[0m Fetching results of job '7b2b3b0c-18cc-479f-9bff-48b7569b7389'...\n",
                        "\u001b[90m09:34:36.542 |\u001b[0m \u001b[32mINF\u001b[0m \u001b[1mipfs/downloader.go:115\u001b[0m\u001b[36m >\u001b[0m Found 3 result shards, downloading to temporary folder.\n",
                        "\u001b[90m09:34:40.188 |\u001b[0m \u001b[32mINF\u001b[0m \u001b[1mipfs/downloader.go:195\u001b[0m\u001b[36m >\u001b[0m Combining shard from output volume 'outputs' to final location: '/Users/phil/source/bacalhau-project/examples/data-engineering/simple-parallel-workloads/results'\n",
                        "\u001b[90m09:34:41.745 |\u001b[0m \u001b[32mINF\u001b[0m \u001b[1mipfs/downloader.go:195\u001b[0m\u001b[36m >\u001b[0m Combining shard from output volume 'outputs' to final location: '/Users/phil/source/bacalhau-project/examples/data-engineering/simple-parallel-workloads/results'\n",
                        "\u001b[90m09:34:43.477 |\u001b[0m \u001b[32mINF\u001b[0m \u001b[1mipfs/downloader.go:195\u001b[0m\u001b[36m >\u001b[0m Combining shard from output volume 'outputs' to final location: '/Users/phil/source/bacalhau-project/examples/data-engineering/simple-parallel-workloads/results'\n"
                    ]
                }
            ],
            "source": [
                "%%bash\n",
                "mkdir -p ./results # Temporary directory to store the results\n",
                "bacalhau get --output-dir ./results ${JOB_ID} # Download the results"
            ]
        },
        {
            "cell_type": "code",
            "execution_count": 16,
            "metadata": {
                "tags": [
                    "remove_cell"
                ]
            },
            "outputs": [],
            "source": [
                "%%bash\n",
                "# Copy the files to the local directory, to allow the documentation scripts to copy them to the right place\n",
                "cp results/volumes/outputs/* ./ && rm -rf results/volumes/outputs/*\n",
                "# Remove any spaces from the filenames\n",
                "for f in *\\ *; do mv \"$f\" \"${f// /_}\"; done"
            ]
        },
        {
            "cell_type": "code",
            "execution_count": 17,
            "metadata": {
                "tags": [
                    "remove_cell",
                    "skip-execution"
                ]
            },
            "outputs": [
                {
                    "data": {
                        "text/html": [
                            "<video src=\"scaled_Bird_flying_over_the_lake.mp4\" controls  >\n",
                            "      Your browser does not support the <code>video</code> element.\n",
                            "    </video>"
                        ],
                        "text/plain": [
                            "<IPython.core.display.Video object>"
                        ]
                    },
                    "metadata": {},
                    "output_type": "display_data"
                },
                {
                    "data": {
                        "text/html": [
                            "<video src=\"scaled_Calm_waves_on_a_rocky_sea_gulf.mp4\" controls  >\n",
                            "      Your browser does not support the <code>video</code> element.\n",
                            "    </video>"
                        ],
                        "text/plain": [
                            "<IPython.core.display.Video object>"
                        ]
                    },
                    "metadata": {},
                    "output_type": "display_data"
                },
                {
                    "data": {
                        "text/html": [
                            "<video src=\"scaled_Prominent_Late_Gothic_styled_architecture.mp4\" controls  >\n",
                            "      Your browser does not support the <code>video</code> element.\n",
                            "    </video>"
                        ],
                        "text/plain": [
                            "<IPython.core.display.Video object>"
                        ]
                    },
                    "metadata": {},
                    "output_type": "display_data"
                }
            ],
            "source": [
                "import glob\n",
                "from IPython.display import Video, display\n",
                "for file in glob.glob('*.mp4'):\n",
                "    display(Video(filename=file))"
            ]
        },
        {
            "cell_type": "markdown",
            "metadata": {},
            "source": [
                "<!-- This is for the benefit of the documentation -->\n",
                "<video src={require('./scaled_Bird_flying_over_the_lake.mp4').default} controls  >\n",
                "Your browser does not support the <code>video</code> element.\n",
                "</video>\n",
                "<video src={require('./scaled_Calm_waves_on_a_rocky_sea_gulf.mp4').default} controls  >\n",
                "Your browser does not support the <code>video</code> element.\n",
                "</video>\n",
                "<video src={require('./scaled_Prominent_Late_Gothic_styled_architecture.mp4').default} controls  >\n",
                "Your browser does not support the <code>video</code> element.\n",
                "</video>"
            ]
        }
    ],
    "metadata": {
        "kernelspec": {
            "display_name": "Python 3.10.2 64-bit ('3.10.2')",
            "language": "python",
            "name": "python3"
        },
        "language_info": {
            "codemirror_mode": {
                "name": "ipython",
                "version": 3
            },
            "file_extension": ".py",
            "mimetype": "text/x-python",
            "name": "python",
            "nbconvert_exporter": "python",
            "pygments_lexer": "ipython3",
            "version": "3.10.2"
        },
        "orig_nbformat": 4,
        "vscode": {
            "interpreter": {
                "hash": "81ff6dc1b26ee3af5189d22d58a3b36fca4ebbdded7f6a7b0d8f8cebee16ffbc"
            }
        }
    },
    "nbformat": 4,
    "nbformat_minor": 2
}
