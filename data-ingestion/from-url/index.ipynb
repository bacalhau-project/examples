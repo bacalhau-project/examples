{
  "cells": [
    {
      "cell_type": "raw",
      "metadata": {},
      "source": [
        "---\n",
        "sidebar_label: \"From A URL\"\n",
        "sidebar_position: 1\n",
        "---"
      ]
    },
    {
      "cell_type": "markdown",
      "metadata": {},
      "source": [
        "# Copy Data from a URL to Filecoin\n",
        "\n",
        "[![Open In Colab](https://colab.research.google.com/assets/colab-badge.svg)](https://colab.research.google.com/github/bacalhau-project/examples/blob/main/data-ingestion/from-url/index.ipynb)\n",
        "[![Open In Binder](https://mybinder.org/badge.svg)](https://mybinder.org/v2/gh/bacalhau-project/examples/HEAD?labpath=data-ingestion/from-url/index.ipynb)\n",
        "\n",
        "\n",
        "The goal of the Bacalhau project is to make it easy to perform distributed, decentralised computation next to where the data resides. So a key step in this process is making your data accessible.\n",
        "\n",
        "IPFS is a set of protocols that allow data to be discovered and accessed in a decentralised way. Data is identified by its content identifier (CID) and can be accessed by anyone who knows the CID.\n",
        "\n",
        "This notebook shows how to use Bacalhau to copy data from a URL to Filecoin and expose on IPFS for use with Bacalhau.\n",
        "\n",
        "This takes advantage of the fact that all Bacalhau jobs are published to a Filecoin contract via Estuary. All data that is located in the `/outputs` directory is published.\n",
        "\n",
        "The example below uses a simple tool we have created to help make it easier to move data in Bacalhau.\n",
        "\n",
        "### Prerequisites\n",
        "\n",
        "* [The Bacalhau client](https://docs.bacalhau.org/getting-started/installation)\n",
        "* [`jq` to parse the Bacalhau output](https://stedolan.github.io/jq/download/)"
      ]
    },
    {
      "cell_type": "code",
      "execution_count": 13,
      "metadata": {
        "tags": [
          "remove_cell"
        ]
      },
      "outputs": [
        {
          "name": "stdout",
          "output_type": "stream",
          "text": [
            "env: PATH=./:./:./:./:/Users/phil/.pyenv/versions/3.9.7/bin:/opt/homebrew/Caskroom/google-cloud-sdk/latest/google-cloud-sdk/bin:/Users/phil/.gvm/bin:/opt/homebrew/opt/findutils/libexec/gnubin:/opt/homebrew/opt/coreutils/libexec/gnubin:/opt/homebrew/Caskroom/google-cloud-sdk/latest/google-cloud-sdk/bin:/Users/phil/.pyenv/shims:/opt/homebrew/bin:/opt/homebrew/sbin:/usr/local/bin:/usr/bin:/bin:/usr/sbin:/sbin:/Library/TeX/texbin:/usr/local/MacGPG2/bin:/Users/phil/.nexustools:/opt/homebrew/Caskroom/google-cloud-sdk/latest/google-cloud-sdk/bin:/Users/phil/.gvm/bin:/opt/homebrew/opt/findutils/libexec/gnubin:/opt/homebrew/opt/coreutils/libexec/gnubin:/opt/homebrew/Caskroom/google-cloud-sdk/latest/google-cloud-sdk/bin:/Users/phil/.pyenv/shims:/opt/homebrew/bin:/opt/homebrew/sbin:/usr/local/bin:/usr/bin:/bin:/usr/sbin:/sbin:/Library/TeX/texbin:/usr/local/MacGPG2/bin:/Users/phil/.nexustools\n"
          ]
        }
      ],
      "source": [
        "!command -v bacalhau >/dev/null 2>&1 || (export BACALHAU_INSTALL_DIR=.; curl -sL https://get.bacalhau.org/install.sh | bash)\n",
        "path=!echo $PATH\n",
        "%env PATH=./:{path[-1]}\n",
        "!command -v jq >/dev/null 2>&1 || (sudo apt update && sudo apt install -y jq)"
      ]
    },
    {
      "cell_type": "markdown",
      "metadata": {},
      "source": [
        "## 1. Uploading A File From a URL\n",
        "\n",
        "To upload a file from a URL we will take advantage of the `--input-urls` parameter of the `bacalhau docker run` command. This will download a file from a public URL and place it in the `/inputs` directory of the container (by default).\n",
        "\n",
        "Then we will use a helper container to move that data to the `/outputs` directory so that it is published to Filecoin via Estuary.\n",
        "\n",
        ":::tip\n",
        "You can find out more about the [helper container in the examples repository](https://github.com/bacalhau-project/examples/tree/main/tools/upload).\n",
        ":::"
      ]
    },
    {
      "cell_type": "code",
      "execution_count": 14,
      "metadata": {},
      "outputs": [],
      "source": [
        "%%bash --out job_id\n",
        "bacalhau docker run \\\n",
        "    --id-only \\\n",
        "    --wait \\\n",
        "    --input-urls=https://raw.githubusercontent.com/filecoin-project/bacalhau/main/README.md \\\n",
        "    ghcr.io/bacalhau-project/examples/upload:v1"
      ]
    },
    {
      "cell_type": "code",
      "execution_count": 15,
      "metadata": {
        "tags": [
          "remove_input"
        ]
      },
      "outputs": [
        {
          "name": "stdout",
          "output_type": "stream",
          "text": [
            "env: JOB_ID=418f5335-8023-42ca-b65f-7844614151f0\n"
          ]
        }
      ],
      "source": [
        "%env JOB_ID={job_id}"
      ]
    },
    {
      "cell_type": "markdown",
      "metadata": {},
      "source": [
        "Just to be safe, double check that the job succeeded by running the describe command (and some `jq` to parse it)."
      ]
    },
    {
      "cell_type": "code",
      "execution_count": 16,
      "metadata": {},
      "outputs": [
        {
          "name": "stdout",
          "output_type": "stream",
          "text": [
            "{\n",
            "  \"NodeId\": \"QmdZQ7ZbhnvWY1J12XYKGHApJ6aufKyLNSvf8jZBrBaAVL\",\n",
            "  \"State\": \"Completed\",\n",
            "  \"VerificationResult\": {\n",
            "    \"Complete\": true,\n",
            "    \"Result\": true\n",
            "  },\n",
            "  \"PublishedResults\": {\n",
            "    \"StorageSource\": \"IPFS\",\n",
            "    \"Name\": \"job-418f5335-8023-42ca-b65f-7844614151f0-shard-0-host-QmdZQ7ZbhnvWY1J12XYKGHApJ6aufKyLNSvf8jZBrBaAVL\",\n",
            "    \"CID\": \"QmYT1RuLmhqh6xdXLG62kLjn2G513nHiWmuy6j6vm5QT5H\"\n",
            "  },\n",
            "  \"RunOutput\": {\n",
            "    \"stdout\": \"1:45PM INF Copying files InputPath=/inputs OutputPath=/outputs\\n1:45PM INF Copying object dst=/outputs/README.md src=/inputs/README.md\\n1:45PM INF Done copying all objects files=[\\\"/outputs\\\",\\\"/outputs/README.md\\\"]\\n\",\n",
            "    \"stdouttruncated\": false,\n",
            "    \"stderr\": \"\",\n",
            "    \"stderrtruncated\": false,\n",
            "    \"exitCode\": 0,\n",
            "    \"runnerError\": \"\"\n",
            "  }\n",
            "}\n"
          ]
        }
      ],
      "source": [
        "%%bash\n",
        "bacalhau list $JOB_ID --output=json | jq '.[0].Status.JobState.Nodes[] | .Shards.\"0\" | select(.RunOutput)'"
      ]
    },
    {
      "cell_type": "markdown",
      "metadata": {},
      "source": [
        "## 2. Get the CID From the Completed Job\n",
        "\n",
        "The job will upload the CID to the Filecoin network via Estuary. Let's get the CID from the output."
      ]
    },
    {
      "cell_type": "code",
      "execution_count": 17,
      "metadata": {},
      "outputs": [],
      "source": [
        "%%bash --out cid\n",
        "bacalhau list $JOB_ID --output=json | jq -r '.[0].Status.JobState.Nodes[] | .Shards.\"0\".PublishedResults | select(.CID) | .CID'"
      ]
    },
    {
      "cell_type": "code",
      "execution_count": 18,
      "metadata": {
        "tags": [
          "remove_input"
        ]
      },
      "outputs": [
        {
          "name": "stdout",
          "output_type": "stream",
          "text": [
            "env: CID=QmYT1RuLmhqh6xdXLG62kLjn2G513nHiWmuy6j6vm5QT5H\n"
          ]
        }
      ],
      "source": [
        "%env CID={cid}"
      ]
    },
    {
      "cell_type": "code",
      "execution_count": 19,
      "metadata": {
        "tags": [
          "remove_input"
        ]
      },
      "outputs": [
        {
          "data": {
            "text/html": [
              "Your CID is <b>QmYT1RuLmhqh6xdXLG62kLjn2G513nHiWmuy6j6vm5QT5H\n",
              ".</b><br/><br/><a href=\"https://ipfs.io/ipfs/QmYT1RuLmhqh6xdXLG62kLjn2G513nHiWmuy6j6vm5QT5H\n",
              "\"><button>View files on ipfs.io</button></a>"
            ],
            "text/plain": [
              "<IPython.core.display.HTML object>"
            ]
          },
          "metadata": {},
          "output_type": "display_data"
        }
      ],
      "source": [
        "from IPython.core.display import display, HTML\n",
        "display(HTML('Your CID is <b>' + cid + '.</b><br/><br/><a href=\"https://ipfs.io/ipfs/' + cid + '\"><button>View files on ipfs.io</button></a>'))"
      ]
    },
    {
      "cell_type": "markdown",
      "metadata": {},
      "source": [
        "## 3. Use the CID in a New Bacalhau Job\n",
        "\n",
        "Now that we have the CID, we can use it in a new job. This time we will use the `--inputs` parameter to tell Bacalhau to use the CID we just uploaded.\n",
        "\n",
        "In this case my \"job\" is just to list the contents of the `/inputs` directory and cat the file we downloaded in the first step. You can see that the \"input\" data is located under `/inputs/outputs/README.md`."
      ]
    },
    {
      "cell_type": "code",
      "execution_count": 20,
      "metadata": {},
      "outputs": [],
      "source": [
        "%%bash --out job_id\n",
        "bacalhau docker run \\\n",
        "    --id-only \\\n",
        "    --wait \\\n",
        "    --inputs=$CID \\\n",
        "    ubuntu -- \\\n",
        "    bash -c \"set -x; ls -l /inputs; ls -l /inputs/outputs; cat /inputs/outputs/README.md\""
      ]
    },
    {
      "cell_type": "code",
      "execution_count": 21,
      "metadata": {
        "tags": [
          "remove_input"
        ]
      },
      "outputs": [
        {
          "name": "stdout",
          "output_type": "stream",
          "text": [
            "env: JOB_ID=37e3c424-072a-4ea5-bc3a-76909dce17ee\n"
          ]
        }
      ],
      "source": [
        "%env JOB_ID={job_id}"
      ]
    },
    {
      "cell_type": "code",
      "execution_count": 22,
      "metadata": {},
      "outputs": [
        {
          "name": "stdout",
          "output_type": "stream",
          "text": [
            "Fetching results of job '37e3c424-072a-4ea5-bc3a-76909dce17ee'...\n",
            "Results for job '37e3c424-072a-4ea5-bc3a-76909dce17ee' have been written to...\n",
            "./results\n"
          ]
        },
        {
          "name": "stderr",
          "output_type": "stream",
          "text": [
            "2023/01/12 13:45:45 CleanupManager.fnsMutex violation CRITICAL section took 22.714ms 22714000 (threshold 10ms)\n"
          ]
        }
      ],
      "source": [
        "%%bash\n",
        "rm -rf results && mkdir ./results\n",
        "bacalhau get --output-dir ./results $JOB_ID "
      ]
    },
    {
      "cell_type": "code",
      "execution_count": 23,
      "metadata": {},
      "outputs": [
        {
          "name": "stdout",
          "output_type": "stream",
          "text": [
            "total 12\n",
            "-rw-r--r-- 1 root root    1 Jan 12 13:45 exitCode\n",
            "drwxr-xr-x 2 root root 4096 Jan 12 13:45 outputs\n",
            "-rw-r--r-- 1 root root    0 Jan 12 13:45 stderr\n",
            "-rw-r--r-- 1 root root  210 Jan 12 13:45 stdout\n",
            "total 4\n",
            "-rw-r--r-- 1 root root 3802 Jan 12 13:45 README.md\n",
            "<!-- commenting out until we can fix the image logo [![CircleCI](https://dl.circleci.com/status-badge/img/null/filecoin-project/bacalhau/tree/main.svg?style=svg)](https://dl.circleci.com/status-badge/redirect/null/filecoin-project/bacalhau/tree/main)\n",
            "-->\n",
            "# The Filecoin Distributed Computation Framework  \n",
            "<p align=\"center\">\n",
            "  <img src=\"docs/images/bacalhau-fish.jpg\" alt=\"Bacalhau Logo\" width=\"400\" />\n",
            "</p>\n",
            "<p align=center>\n",
            "  Compute Over Data == CoD\n",
            "  <br>\n",
            "  Bacalhau == \"Salted CoD Fish\" (Portuguese)\n",
            "</p>\n",
            "  \n",
            "<br>\n",
            "\n",
            "The purpose of Bacalhau is to provide a platform for public, transparent, and optionally verifiable computation. Bacalhau enables users to run arbitrary docker containers and wasm images as tasks against data stored in IPFS. This architecture is also referred to as Compute Over Data (or CoD). The Portuguese word for salted Cod fish is \"Bacalhau\" which is the origin of the project's name.\n",
            "\n",
            "Initially, the Bacalhau project will focus on serving data processing and analytics use cases. Over time Bacalhau will expand to other compute workloads, learn more about it future plans in the [roadmap document](ROADMAP.md).\n",
            "\n",
            "* [Getting Started](https://docs.bacalhau.org/getting-started/installation) ⚡\n",
            "* [Documentation](https://docs.bacalhau.org/) :closed_book:\n",
            "* [Slack Community](https://filecoin.io/slack) is open to anyone! Join the `#bacalhau` channel :raising_hand:\n",
            "* [Code Examples Repository](https://github.com/bacalhau-project/examples) :mag:\n",
            "\n",
            "Watch a 90 seconds demo of Bacalhau in action:\n",
            "\n",
            "<p align=center>\n",
            "  <a href=\"https://www.youtube.com/watch?v=4YHkmL4Ld74\" target=\"_blank\">\n",
            "    <img src=\"https://github.com/filecoin-project/bacalhau/raw/a49f4e9c89acce2890aa444fdbb5aa47674ede68/docs/images/thumb-bacalhau-demo-1st-july.jpg\" alt=\"Watch the video\" width=\"580\" border=\"10\" />\n",
            "  </a>\n",
            "</p>\n",
            "\n",
            "\n",
            "Learn more about the project from our [Website](https://www.bacalhau.org/), [Twitter](https://twitter.com/BacalhauProject) & [YouTube Channel](https://www.youtube.com/channel/UC45IQagLzNR3wdNCUn4vi0A).\n",
            "\n",
            "## Latest Updates\n",
            "\n",
            "* [Weekly Bacalhau Project Reports](https://github.com/filecoin-project/bacalhau/wiki)\n",
            "* [Bacalhau Overview at DeSci Berlin June 2022](https://www.youtube.com/watch?v=HA8ijt4dzAY)\n",
            "\n",
            "\n",
            "## Getting Started\n",
            "\n",
            "Please see the instructions here to get started running a hello example: [Getting Started with Bacalhau](https://docs.bacalhau.org/getting-started/installation).\n",
            "For a more data intensive demo, check out the [Image Processing tutorial](https://docs.bacalhau.org/examples/data-engineering/image-processing/).\n",
            "\n",
            "## Getting Help\n",
            "\n",
            "For usage questions or issues reach out the Bacalhau team either in the [Slack channel](https://filecoinproject.slack.com/archives/C02RLM3JHUY) or open a new issue here on github.\n",
            "\n",
            "## Developer Guide\n",
            "\n",
            "### Running Bacalhau locally\n",
            "\n",
            "Developers can spin up bacalhau and run a local demo using the `devstack` command. \n",
            "Please see [docs/running_locally.md](docs/running_locally.md) for instructions.\n",
            "Also, see [docs/debugging_locally.md](docs/debugging_locally.md) for some useful tricks for debugging.\n",
            "\n",
            "### Release a new version\n",
            "\n",
            "To ship a new version of the CLI & Bacalhau network please follow the instuctions at [docs/create_release.md](docs/create_release.md).\n",
            "\n",
            "### Notes for Contributors\n",
            "\n",
            "Bacalhau's CI pipeline performs a variety of linting and formatting checks on new pull requests. \n",
            "To have these checks run locally when you make a new commit, you can use the precommit hook in `./githooks`:\n",
            "\n",
            "```bash\n",
            "git config core.hooksPath ./githooks\n",
            "```\n",
            "\n",
            "If you want to run the linter manually:\n",
            "\n",
            "```bash\n",
            "curl -sSfL https://raw.githubusercontent.com/golangci/golangci-lint/master/install.sh | sudo sh -s -- -b /usr/local/go/bin\n",
            "golangci-lint --version\n",
            "make lint\n",
            "```\n",
            "\n",
            "The config lives in `.golangci.yml`\n",
            "\n",
            "## Licence\n",
            "\n",
            "[Apache-2.0](./LICENSE)\n"
          ]
        }
      ],
      "source": [
        "%cat ./results/combined_results/stdout"
      ]
    }
  ],
  "metadata": {
    "colab": {
      "provenance": []
    },
    "kernelspec": {
      "display_name": "Python 3.9.7 64-bit ('3.9.7')",
      "language": "python",
      "name": "python3"
    },
    "language_info": {
      "codemirror_mode": {
        "name": "ipython",
        "version": 3
      },
      "file_extension": ".py",
      "mimetype": "text/x-python",
      "name": "python",
      "nbconvert_exporter": "python",
      "pygments_lexer": "ipython3",
      "version": "3.9.7"
    },
    "vscode": {
      "interpreter": {
        "hash": "21fd917facdca5c02b7d24e32528f1b4e6711465b0262edbfffba943391e1222"
      }
    }
  },
  "nbformat": 4,
  "nbformat_minor": 0
}
